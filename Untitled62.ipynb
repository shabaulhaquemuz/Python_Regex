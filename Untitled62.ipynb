{
 "cells": [
  {
   "cell_type": "code",
   "execution_count": 5,
   "id": "de964008-28de-4fd8-bd8a-28689e8113a5",
   "metadata": {},
   "outputs": [
    {
     "name": "stdin",
     "output_type": "stream",
     "text": [
      "enter the number: 6\n"
     ]
    },
    {
     "name": "stdout",
     "output_type": "stream",
     "text": [
      "factorial of the given number is: 720\n"
     ]
    }
   ],
   "source": [
    "# factorial of a number\n",
    "n=int(input(\"enter the number:\"))\n",
    "factorial=1\n",
    "for i in range(1,n+1):\n",
    "    factorial*=i\n",
    "print(\"factorial of the given number is:\",factorial)"
   ]
  },
  {
   "cell_type": "code",
   "execution_count": 7,
   "id": "2d973fcb-02cb-48c1-a820-6a77716df296",
   "metadata": {},
   "outputs": [
    {
     "name": "stdin",
     "output_type": "stream",
     "text": [
      "enter the number: 5\n"
     ]
    },
    {
     "name": "stdout",
     "output_type": "stream",
     "text": [
      "factorial is: 120\n"
     ]
    }
   ],
   "source": [
    "m=int(input(\"enter the number:\"))\n",
    "factorial=1\n",
    "while(m>=1):\n",
    "    factorial*=m\n",
    "    m-=1\n",
    "print(\"factorial is:\",factorial)\n",
    "    "
   ]
  },
  {
   "cell_type": "code",
   "execution_count": null,
   "id": "740cf4df-c49b-4843-9e75-a2d1b6d89fc9",
   "metadata": {},
   "outputs": [],
   "source": [
    "m=int(input(\"enter the number:\"))\n",
    "factorial=1\n",
    "while(m>=1):\n",
    "    factorial*=m\n",
    "    m-=1\n",
    "print(\"factorial is:\",factorial)"
   ]
  }
 ],
 "metadata": {
  "kernelspec": {
   "display_name": "Python 3 (ipykernel)",
   "language": "python",
   "name": "python3"
  },
  "language_info": {
   "codemirror_mode": {
    "name": "ipython",
    "version": 3
   },
   "file_extension": ".py",
   "mimetype": "text/x-python",
   "name": "python",
   "nbconvert_exporter": "python",
   "pygments_lexer": "ipython3",
   "version": "3.12.4"
  }
 },
 "nbformat": 4,
 "nbformat_minor": 5
}
