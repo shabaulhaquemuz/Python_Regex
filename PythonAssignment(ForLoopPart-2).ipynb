{
 "cells": [
  {
   "cell_type": "code",
   "execution_count": 33,
   "id": "50d4930c-b298-4d2c-bdfd-3fcbac12e7f1",
   "metadata": {},
   "outputs": [
    {
     "name": "stdin",
     "output_type": "stream",
     "text": [
      "enter the number: 11\n"
     ]
    },
    {
     "name": "stdout",
     "output_type": "stream",
     "text": [
      "prime\n"
     ]
    }
   ],
   "source": [
    "#15.Write a program to check whether a number is Prime number or not.\n",
    "n=int(input(\"enter the number:\"))\n",
    "count=0\n",
    "if(n<=1):\n",
    "    print(\"not a prime\")\n",
    "else:\n",
    "\n",
    "    \n",
    "    for i in range(2,n):\n",
    "        if(n%i==0):\n",
    "            count+=13\n",
    "    if(count>0):\n",
    "        print(\"non prime\")\n",
    "    else:\n",
    "        print(\"prime\")"
   ]
  },
  {
   "cell_type": "code",
   "execution_count": 81,
   "id": "34f090c4-af1e-408e-8a90-5ba1207c2c70",
   "metadata": {},
   "outputs": [
    {
     "name": "stdout",
     "output_type": "stream",
     "text": [
      "prime: 2\n",
      "prime: 3\n",
      "non prime 4\n",
      "prime: 5\n",
      "non prime 6\n",
      "prime: 7\n",
      "non prime 8\n",
      "non prime 9\n"
     ]
    }
   ],
   "source": [
    "#16.Write a program to print all Prime numbers between 1 to n.\n",
    "for n in range(2,10):\n",
    "    count=0\n",
    "    for i in range(2,n):\n",
    "        if(n%i==0):\n",
    "            count+=1\n",
    "    if(count==0):\n",
    "        print(\"prime:\",n)\n",
    "    else:\n",
    "        print(\"non prime\",n)\n",
    "            "
   ]
  },
  {
   "cell_type": "code",
   "execution_count": 97,
   "id": "4f390601-600c-4526-857b-9222eb6f5ea6",
   "metadata": {},
   "outputs": [
    {
     "name": "stdout",
     "output_type": "stream",
     "text": [
      "prime 2\n",
      "prime 3\n",
      "non prime 4\n",
      "prime 5\n",
      "non prime 6\n",
      "prime 7\n",
      "non prime 8\n",
      "non prime 9\n"
     ]
    }
   ],
   "source": [
    "for n in range(2,10):\n",
    "    count=0\n",
    "    for i in range(2,n):\n",
    "        if(n%i==0):\n",
    "            count+=1\n",
    "    if(count>0):\n",
    "        print(\"non prime\",n)\n",
    "    else:\n",
    "        print(\"prime\",n)"
   ]
  },
  {
   "cell_type": "code",
   "execution_count": 119,
   "id": "73b81333-e5e9-49ee-b677-55cf44978504",
   "metadata": {},
   "outputs": [
    {
     "name": "stdin",
     "output_type": "stream",
     "text": [
      "enter the number: 400\n"
     ]
    },
    {
     "name": "stdout",
     "output_type": "stream",
     "text": [
      "prime factors are: 2\n",
      "prime factors are: 5\n"
     ]
    }
   ],
   "source": [
    "#17.Write a program to find all prime factors of a number.\n",
    "n=int(input(\"enter the number:\"))\n",
    "for i in range(1,n+1):\n",
    "    if(n%i==0):\n",
    "        count=0\n",
    "        for j in range(2,i):\n",
    "            if(i%j==0):\n",
    "                count+=1\n",
    "        if(count==0 and i!=1):\n",
    "            print(\"prime factors are:\",i)"
   ]
  },
  {
   "cell_type": "code",
   "execution_count": 115,
   "id": "417c7a48-cf5f-42ca-83aa-8e0e29719947",
   "metadata": {},
   "outputs": [
    {
     "name": "stdin",
     "output_type": "stream",
     "text": [
      "enter the number: 400\n"
     ]
    },
    {
     "name": "stdout",
     "output_type": "stream",
     "text": [
      "prime factor: 2\n",
      "prime factor: 5\n"
     ]
    }
   ],
   "source": [
    "n = int(input(\"enter the number:\"))\n",
    "for i in range(1, n + 1):\n",
    "    if n % i == 0:  # i is a factor of n\n",
    "        count = 0  # Reset count for each factor\n",
    "        for j in range(2, i):  # Check if i is prime\n",
    "            if i % j == 0:\n",
    "                count += 1\n",
    "        if count == 0 and i != 1:  # i is a prime factor (excluding 1)\n",
    "            print(\"prime factor:\", i)\n"
   ]
  },
  {
   "cell_type": "code",
   "execution_count": 127,
   "id": "2795a2a6-8319-4ada-9c2a-6f3a352142f6",
   "metadata": {},
   "outputs": [
    {
     "name": "stdin",
     "output_type": "stream",
     "text": [
      "enter the number: 400\n"
     ]
    },
    {
     "name": "stdout",
     "output_type": "stream",
     "text": [
      "prime factors are: 2\n",
      "prime factors are: 5\n"
     ]
    }
   ],
   "source": [
    "n=int(input(\"enter the number:\"))\n",
    "for i in range(1,n+1):\n",
    "    if(n%i==0):\n",
    "        count=0\n",
    "        for j in range(2,i):\n",
    "            if(i%j==0):\n",
    "                count+=1\n",
    "        if(count==0 and i!=1):\n",
    "            print(\"prime factors are:\",i)"
   ]
  },
  {
   "cell_type": "code",
   "execution_count": 177,
   "id": "4e7a47d7-c521-4637-bdd6-3e0616f96a66",
   "metadata": {},
   "outputs": [
    {
     "name": "stdout",
     "output_type": "stream",
     "text": [
      "armstrong number\n"
     ]
    }
   ],
   "source": [
    "#18.Write a program to check whether a number is an Armstrong number or\n",
    "#not.\n",
    "#a. An Armstrong number is a n-digit number that is equal to the sum\n",
    "#of the nth power of its digits. For example –\n",
    "#6 = 61 = 6\n",
    "#371 = 33 + 73 + 13 = 371\n",
    "n=370\n",
    "original_number=n\n",
    "sum=0\n",
    "for i in range(0,3):\n",
    "    digit=n%10\n",
    "    cube_digit=digit**3\n",
    "    sum+=cube_digit\n",
    "    n=n//10\n",
    "\n",
    "if(sum==original_number):\n",
    "    print(\"armstrong number\")\n",
    "else:\n",
    "    print(\"non armstrong number\")\n",
    "    \n"
   ]
  },
  {
   "cell_type": "code",
   "execution_count": 211,
   "id": "50198a70-8a0b-41c8-a8f3-2ae0d187da9d",
   "metadata": {},
   "outputs": [
    {
     "name": "stdin",
     "output_type": "stream",
     "text": [
      "ente rthe number: 3345\n"
     ]
    },
    {
     "name": "stdout",
     "output_type": "stream",
     "text": [
      "non armstrong number\n"
     ]
    }
   ],
   "source": [
    "n=int(input(\"enter the number:\"))\n",
    "original_number=n\n",
    "sum=0\n",
    "power=len(str(n))\n",
    "length=len(str(n))\n",
    "for i in range(0,length):\n",
    "    digit=n%10\n",
    "    cube_digit=digit**power\n",
    "    sum+=cube_digit\n",
    "    n=n//10\n",
    "\n",
    "if(sum==original_number):\n",
    "    print(\"armstrong number\")\n",
    "else:\n",
    "    print(\"non armstrong number\")"
   ]
  },
  {
   "cell_type": "code",
   "execution_count": 235,
   "id": "e9f28b5d-9435-40dd-9bd4-760f69988053",
   "metadata": {},
   "outputs": [
    {
     "name": "stdout",
     "output_type": "stream",
     "text": [
      "non-armstrong number\n"
     ]
    }
   ],
   "source": [
    "n=153\n",
    "sum=0\n",
    "for i in range(0,3):\n",
    "    digit=n%10\n",
    "    cube_digit=digit**3\n",
    "    sum+=cube_digit\n",
    "    n//=10\n",
    "if(n==sum):\n",
    "    print(\"armstrong number\")\n",
    "else:\n",
    "    print(\"non-armstrong number\")"
   ]
  },
  {
   "cell_type": "code",
   "execution_count": 262,
   "id": "b4523403-6a25-41c4-bd60-2c60a5bcf92c",
   "metadata": {},
   "outputs": [
    {
     "name": "stdout",
     "output_type": "stream",
     "text": [
      "armstrong number\n"
     ]
    }
   ],
   "source": [
    "n=370\n",
    "sum=0\n",
    "original=n\n",
    "for i in range(0,3):\n",
    "    digit=n%10\n",
    "    cube_digit=digit**3\n",
    "    sum+=cube_digit\n",
    "    n//=10\n",
    "if(original==sum):\n",
    "    print(\"armstrong number\")\n",
    "else:\n",
    "    print(\"non-armstrong number\")"
   ]
  },
  {
   "cell_type": "code",
   "execution_count": 312,
   "id": "b8ab13a5-1826-4407-8677-372e19c75323",
   "metadata": {},
   "outputs": [
    {
     "name": "stdin",
     "output_type": "stream",
     "text": [
      "enter the number: 115132219018763992565095597973971522401\n"
     ]
    },
    {
     "name": "stdout",
     "output_type": "stream",
     "text": [
      "armstrong number\n"
     ]
    }
   ],
   "source": [
    "n=int(input(\"enter the number:\"))\n",
    "sum=0\n",
    "original=n\n",
    "length=len(str(n))\n",
    "for i in range(0,length):\n",
    "    digit=n%10\n",
    "    cube_digit=digit**length\n",
    "    sum+=cube_digit\n",
    "    n=n//10\n",
    "if(original==sum):\n",
    "    print(\"armstrong number\")\n",
    "else:\n",
    "    print(\"non armstrong number\")"
   ]
  },
  {
   "cell_type": "code",
   "execution_count": 314,
   "id": "823066b5-9867-4e66-91a5-940d4099d0bc",
   "metadata": {},
   "outputs": [
    {
     "data": {
      "text/plain": [
       "115132219018763992565095597973971522401"
      ]
     },
     "execution_count": 314,
     "metadata": {},
     "output_type": "execute_result"
    }
   ],
   "source": [
    "115132219018763992565095597973971522401"
   ]
  },
  {
   "cell_type": "code",
   "execution_count": 338,
   "id": "ffe0d0d3-5208-409e-a3a0-f14eb8b321ce",
   "metadata": {},
   "outputs": [
    {
     "name": "stdout",
     "output_type": "stream",
     "text": [
      "strong number\n"
     ]
    }
   ],
   "source": [
    "#19.Write a program to check whether a number is Strong number or not\n",
    "#Strong number is a special number whose sum of factorial digits is\n",
    "#equal to the original number.\n",
    "#For example: 145 is a strong number. Since, 1! + 4! + 5! = 145\n",
    "n=145\n",
    "sum=0\n",
    "orig=n\n",
    "for i in range(0,3):\n",
    "    digit=n%10\n",
    "    factorial=1\n",
    "    for j in range(digit,0,-1):\n",
    "        factorial*=j\n",
    "    sum+=factorial\n",
    "    n=n//10\n",
    "if(orig==sum):\n",
    "    print(\"strong number\")\n",
    "else:\n",
    "    print(\"not a strong number\")\n",
    "    "
   ]
  },
  {
   "cell_type": "code",
   "execution_count": 352,
   "id": "8c8ae544-3134-400e-9503-8b31d027e6f6",
   "metadata": {},
   "outputs": [
    {
     "name": "stdin",
     "output_type": "stream",
     "text": [
      "enter the number 40585\n"
     ]
    },
    {
     "name": "stdout",
     "output_type": "stream",
     "text": [
      "strong number\n"
     ]
    }
   ],
   "source": [
    "n=int(input(\"enter the number\"))\n",
    "sum=0\n",
    "orig=n\n",
    "length=len(str(n))\n",
    "for i in range(0,length):\n",
    "    digit=n%10\n",
    "    factorial=1\n",
    "    for j in range(digit,0,-1):\n",
    "        factorial*=j\n",
    "    sum+=factorial\n",
    "    n=n//10\n",
    "if(orig==sum):\n",
    "    print(\"strong number\")\n",
    "else:\n",
    "    print(\"not a strong number\")"
   ]
  },
  {
   "cell_type": "code",
   "execution_count": 2,
   "id": "2d0e8450-b6e2-4453-b9fb-1a0f02e24af5",
   "metadata": {},
   "outputs": [],
   "source": [
    "#20.Write a program to check whether a number is perfect number or not\n",
    "#Perfect number is a positive integer which is equal to the sum of\n",
    "#its proper positive divisors excluding the number itself\n",
    "#For example: 6 is the first perfect number\n",
    "#Proper divisors of 6 are 1, 2, 3\n",
    "#Sum of its proper divisors = 1 + 2 + 3 = 6.\n",
    "#Hence 6 is a perfect number.\n",
    "\n"
   ]
  },
  {
   "cell_type": "code",
   "execution_count": 26,
   "id": "d5947465-a8cb-4222-bd19-a84fdad45b81",
   "metadata": {},
   "outputs": [
    {
     "name": "stdout",
     "output_type": "stream",
     "text": [
      "perfect number\n"
     ]
    }
   ],
   "source": [
    "#20.Write a program to check whether a number is perfect number or not\n",
    "#Perfect number is a positive integer which is equal to the sum of\n",
    "#its proper positive divisors.\n",
    "#For example: 6 is the first perfect number\n",
    "#Proper divisors of 6 are 1, 2, 3\n",
    "#Sum of its proper divisors = 1 + 2 + 3 = 6.\n",
    "#Hence 6 is a perfect number.\n",
    "n=28\n",
    "sum=0\n",
    "original=n\n",
    "for i in range(1,n):\n",
    "    if(n%i==0):\n",
    "        sum+=i\n",
    "if(original==sum):\n",
    "    print(\"perfect number\")\n",
    "else:\n",
    "    print(\"not a perfect number\")"
   ]
  },
  {
   "cell_type": "code",
   "execution_count": 38,
   "id": "0045d664-9af9-492b-b026-8ad575655e39",
   "metadata": {},
   "outputs": [
    {
     "name": "stdin",
     "output_type": "stream",
     "text": [
      "enter the number: 6\n"
     ]
    },
    {
     "name": "stdout",
     "output_type": "stream",
     "text": [
      "not a perfect number\n"
     ]
    }
   ],
   "source": [
    "n=int(input(\"enter the number:\"))\n",
    "sum=0\n",
    "original=n\n",
    "length=len(str(n))\n",
    "for i in range(1,length):\n",
    "    if(n%i==0):\n",
    "        sum+=i\n",
    "if(original==sum):\n",
    "    print(\"perfect number\")\n",
    "else:\n",
    "    print(\"not a perfect number\")\n",
    " #Note: there are no known odd perfect numbers\n",
    "#note2:You're using range(1, length) — but length = len(str(n)) gives the number of digits,\n",
    "#not the number up to which you want to check for divisors."
   ]
  },
  {
   "cell_type": "code",
   "execution_count": 36,
   "id": "6fd2e719-d108-4577-8b3e-bc45081ad22e",
   "metadata": {},
   "outputs": [
    {
     "name": "stdout",
     "output_type": "stream",
     "text": [
      "perfect number\n"
     ]
    }
   ],
   "source": [
    "n=28\n",
    "sum=0\n",
    "original=n\n",
    "for i in range(1,(n//2)+1):\n",
    "    if(n%i==0):\n",
    "        sum+=i\n",
    "if(original==sum):\n",
    "    print(\"perfect number\")\n",
    "else:\n",
    "    print(\"not a perfect number\")"
   ]
  },
  {
   "cell_type": "code",
   "execution_count": 42,
   "id": "4f85f882-dd2d-4e33-b4cb-e16a0ebb7cda",
   "metadata": {},
   "outputs": [
    {
     "name": "stdin",
     "output_type": "stream",
     "text": [
      "enter the number: 28\n"
     ]
    },
    {
     "name": "stdout",
     "output_type": "stream",
     "text": [
      "perfect number\n"
     ]
    }
   ],
   "source": [
    "n=int(input(\"enter the number:\"))\n",
    "sum=0\n",
    "original=n\n",
    "for i in range(1,(n//2)+1):\n",
    "    if(n%i==0):\n",
    "        sum+=i\n",
    "if(original==sum):\n",
    "    print(\"perfect number\")\n",
    "else:\n",
    "    print(\"not a perfect number\")"
   ]
  },
  {
   "cell_type": "code",
   "execution_count": 58,
   "id": "b8c451be-b2b5-46e2-875a-aff9e1d62d3c",
   "metadata": {},
   "outputs": [
    {
     "name": "stdin",
     "output_type": "stream",
     "text": [
      "enter the number: 8\n"
     ]
    },
    {
     "name": "stdout",
     "output_type": "stream",
     "text": [
      "0\n",
      "1\n",
      "1\n",
      "2\n",
      "3\n",
      "5\n",
      "8\n",
      "13\n"
     ]
    }
   ],
   "source": [
    "#21.Write a program to print fibonacci series upto n terms\n",
    "#a. Fibonacci series is a series of numbers where the current number\n",
    "#is the sum of the previous two terms. For Example: 0, 1, 1, 2, 3, 5,\n",
    "#8, 13, 21, ... , (n-1th + n-2th)\n",
    "n=int(input(\"enter the number:\"))\n",
    "first_term=0\n",
    "print(first_term)\n",
    "second_term=1\n",
    "print(second_term)\n",
    "for i in range(n-2):\n",
    "    next_term=first_term+second_term\n",
    "    print(next_term)\n",
    "    first_term=second_term\n",
    "    second_term=next_term\n",
    "    \n",
    "    "
   ]
  },
  {
   "cell_type": "code",
   "execution_count": 116,
   "id": "6aa103fc-f103-4421-a008-e173e9f7a78a",
   "metadata": {},
   "outputs": [
    {
     "name": "stdin",
     "output_type": "stream",
     "text": [
      "Enter binary value:  87\n"
     ]
    },
    {
     "name": "stdout",
     "output_type": "stream",
     "text": [
      "Original binary: 1010111\n",
      "One's complement: 0101000\n"
     ]
    }
   ],
   "source": [
    "#22.Write a program to find ones complement of a binary number\n",
    "#a. One's complement of a binary number is defined as value\n",
    "#obtained by inverting all binary bits. It is the result of swapping all\n",
    "#1s to 0s and all 0s to 1s.\n",
    "n=int(input(\"Enter binary value: \"))\n",
    "binary=bin(n)[2:]\n",
    "complement=''\n",
    "for bit in binary:\n",
    "    if(bit=='0'):\n",
    "        complement+='1'\n",
    "    elif(bit=='1'):\n",
    "        complement+='0'\n",
    "print(\"Original binary:\", binary)\n",
    "print(\"One's complement:\",complement)"
   ]
  },
  {
   "cell_type": "code",
   "execution_count": 78,
   "id": "4750322e-3270-49f6-ab69-0ce2120e40da",
   "metadata": {},
   "outputs": [
    {
     "name": "stdin",
     "output_type": "stream",
     "text": [
      "Enter the number:  67\n"
     ]
    },
    {
     "name": "stdout",
     "output_type": "stream",
     "text": [
      "Original binary: 1000011\n",
      "One's complement: 0111100\n"
     ]
    }
   ],
   "source": [
    "n = int(input(\"Enter the number: \"))\n",
    "binary = bin(n)[2:]  # Remove '0b' prefix\n",
    "ones_complement = ''\n",
    "\n",
    "for bit in binary:\n",
    "    if bit == '0':\n",
    "        ones_complement += '1'\n",
    "    else:\n",
    "        ones_complement += '0'\n",
    "\n",
    "print(\"Original binary:\", binary)\n",
    "print(\"One's complement:\", ones_complement)\n"
   ]
  },
  {
   "cell_type": "code",
   "execution_count": 130,
   "id": "dfe06a55-0e94-459d-a9d6-3d4f72e1ed37",
   "metadata": {},
   "outputs": [
    {
     "name": "stdin",
     "output_type": "stream",
     "text": [
      "Enter binary value:  56\n"
     ]
    },
    {
     "name": "stdout",
     "output_type": "stream",
     "text": [
      "Original binary: 111000\n",
      "One's complement: 000111\n"
     ]
    }
   ],
   "source": [
    "n=int(input(\"Enter binary value: \"))\n",
    "binary=bin(n)[2:]\n",
    "complement=''\n",
    "for i in range(len(binary)):\n",
    "    bit=binary[i]\n",
    "    if(bit=='0'):\n",
    "        complement+='1'\n",
    "    elif(bit=='1'):\n",
    "        complement+='0'\n",
    "print(\"Original binary:\", binary)\n",
    "print(\"One's complement:\",complement)"
   ]
  },
  {
   "cell_type": "code",
   "execution_count": null,
   "id": "af6e4f94-71d5-4440-95b5-7394329caa12",
   "metadata": {},
   "outputs": [],
   "source": []
  }
 ],
 "metadata": {
  "kernelspec": {
   "display_name": "Python 3 (ipykernel)",
   "language": "python",
   "name": "python3"
  },
  "language_info": {
   "codemirror_mode": {
    "name": "ipython",
    "version": 3
   },
   "file_extension": ".py",
   "mimetype": "text/x-python",
   "name": "python",
   "nbconvert_exporter": "python",
   "pygments_lexer": "ipython3",
   "version": "3.12.4"
  }
 },
 "nbformat": 4,
 "nbformat_minor": 5
}
