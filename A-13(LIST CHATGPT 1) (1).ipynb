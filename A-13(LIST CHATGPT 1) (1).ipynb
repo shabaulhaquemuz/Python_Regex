{
 "cells": [
  {
   "cell_type": "code",
   "execution_count": 1,
   "id": "49ec30fc-4082-42b8-b744-cf2e54df8da9",
   "metadata": {},
   "outputs": [
    {
     "name": "stdout",
     "output_type": "stream",
     "text": [
      "[1, 2, 3, 4, 5]\n"
     ]
    }
   ],
   "source": [
    "# 15 Basic Python List Questions\n",
    "# 1. Create a list with 5 elements and print it.\n",
    "x=[1,2,3,4,5]\n",
    "print(x)"
   ]
  },
  {
   "cell_type": "code",
   "execution_count": 5,
   "id": "932e4431-e04f-4951-9a1d-2e1895e9bf32",
   "metadata": {},
   "outputs": [
    {
     "name": "stdout",
     "output_type": "stream",
     "text": [
      "3\n"
     ]
    }
   ],
   "source": [
    "#2. Access the third element in a list.\n",
    "x=[1,2,3,4,5]\n",
    "print(x[2])"
   ]
  },
  {
   "cell_type": "code",
   "execution_count": 9,
   "id": "19f857ba-06b4-4ece-bef1-9b5000891233",
   "metadata": {},
   "outputs": [
    {
     "name": "stdout",
     "output_type": "stream",
     "text": [
      "[1, 99, 3, 4, 5]\n"
     ]
    }
   ],
   "source": [
    "#3. Update the second element of a list to 99.\n",
    "x=[1,2,3,4,5]\n",
    "x[1]=99\n",
    "print(x)"
   ]
  },
  {
   "cell_type": "code",
   "execution_count": 15,
   "id": "a33378d1-1e8a-4e8e-87b1-c62cfa139849",
   "metadata": {},
   "outputs": [
    {
     "name": "stdout",
     "output_type": "stream",
     "text": [
      "[1, 2, 3, 4, 5, 100]\n"
     ]
    }
   ],
   "source": [
    "#4. Append a new element to the list.\n",
    "x1=[1,2,3,4,5]\n",
    "x1.append(100)\n",
    "print(x1)\n"
   ]
  },
  {
   "cell_type": "code",
   "execution_count": 17,
   "id": "716d0a40-3be5-4dff-9e03-8a95dee8f967",
   "metadata": {},
   "outputs": [
    {
     "name": "stdout",
     "output_type": "stream",
     "text": [
      "[1, 500, 2, 3, 4, 5]\n"
     ]
    }
   ],
   "source": [
    "#insert a value at index 2\n",
    "x2=[1,2,3,4,5]\n",
    "x2.insert(1,500)\n",
    "print(x2)\n"
   ]
  },
  {
   "cell_type": "code",
   "execution_count": 19,
   "id": "784e9086-5136-4024-92ce-db49286979ef",
   "metadata": {},
   "outputs": [
    {
     "name": "stdout",
     "output_type": "stream",
     "text": [
      "[1, 2, 3, 4, 5, 200, 400, 600]\n"
     ]
    }
   ],
   "source": [
    "#6. Extend the list with another list.\n",
    "x3=[1,2,3,4,5]\n",
    "x3.extend([200,400,600])\n",
    "print(x3)"
   ]
  },
  {
   "cell_type": "code",
   "execution_count": 23,
   "id": "28ff04cf-8eab-4e50-97e7-2c0939cf9d6b",
   "metadata": {},
   "outputs": [
    {
     "name": "stdout",
     "output_type": "stream",
     "text": [
      "[1, 2, 3, 4, 5, 10, 20, 30, 40, 50]\n"
     ]
    }
   ],
   "source": [
    "x4=[1,2,3,4,5]\n",
    "x5=[10,20,30,40,50]\n",
    "x4.extend(x5)\n",
    "print(x4)"
   ]
  },
  {
   "cell_type": "code",
   "execution_count": 27,
   "id": "0c3e7f8f-cada-4318-9252-5e1970fcaf3e",
   "metadata": {},
   "outputs": [
    {
     "name": "stdout",
     "output_type": "stream",
     "text": [
      "[1, 2, 3, 4]\n"
     ]
    }
   ],
   "source": [
    "#7.Remove an element by value.\n",
    "x6=[1,2,3,4,5]\n",
    "x6.remove(5)\n",
    "print(x6)"
   ]
  },
  {
   "cell_type": "code",
   "execution_count": 29,
   "id": "8e608299-431f-4b3b-8af5-47b34a79f802",
   "metadata": {},
   "outputs": [
    {
     "name": "stdout",
     "output_type": "stream",
     "text": [
      "[1, 2, 3, 4] 5\n"
     ]
    }
   ],
   "source": [
    "#8. Remove the last element using .pop().\n",
    "x7=[1,2,3,4,5]\n",
    "y=x7.pop()\n",
    "print(x7,y)"
   ]
  },
  {
   "cell_type": "code",
   "execution_count": 31,
   "id": "473501db-411c-49b6-ba05-6c5333d42ac0",
   "metadata": {},
   "outputs": [
    {
     "name": "stdout",
     "output_type": "stream",
     "text": [
      "[1, 2, 3, 4, 5, 10, 30]\n"
     ]
    }
   ],
   "source": [
    "#9. Sort a list of numbers in ascending order.\n",
    "x8=[10,30,1,2,3,4,5]\n",
    "x8.sort()\n",
    "print(x8)\n"
   ]
  },
  {
   "cell_type": "code",
   "execution_count": 33,
   "id": "9cbdebff-1a31-4721-826c-46e2c02b9ef5",
   "metadata": {},
   "outputs": [
    {
     "name": "stdout",
     "output_type": "stream",
     "text": [
      "[30, 10, 5, 4, 3, 2, 1]\n"
     ]
    }
   ],
   "source": [
    "x8=[10,30,1,2,3,4,5]\n",
    "x8.sort(reverse=True)\n",
    "print(x8)"
   ]
  },
  {
   "cell_type": "code",
   "execution_count": 35,
   "id": "d5e0df9e-5e1e-45a4-9cbb-6205fce701f3",
   "metadata": {},
   "outputs": [
    {
     "name": "stdout",
     "output_type": "stream",
     "text": [
      "[-999, -89, -3, 4, 700]\n"
     ]
    }
   ],
   "source": [
    "x9=[-3,4,-89,700,-999]\n",
    "x9.sort()\n",
    "print(x9)"
   ]
  },
  {
   "cell_type": "code",
   "execution_count": 41,
   "id": "1135e711-eb4e-4e3a-ac66-05f8437653c9",
   "metadata": {},
   "outputs": [
    {
     "name": "stdout",
     "output_type": "stream",
     "text": [
      "[700, 4, -3, -89, -999]\n"
     ]
    }
   ],
   "source": [
    "x10=[-3,4,-89,700,-999]\n",
    "x10.sort(reverse=True)\n",
    "print(x10)"
   ]
  },
  {
   "cell_type": "code",
   "execution_count": 43,
   "id": "f915b0b4-aa55-4a76-bf03-73e905330e5b",
   "metadata": {},
   "outputs": [
    {
     "name": "stdout",
     "output_type": "stream",
     "text": [
      "[-999, 700, -89, 4, -3]\n"
     ]
    }
   ],
   "source": [
    "#10. Reverse a list.\n",
    "y=[-3,4,-89,700,-999]\n",
    "y.reverse()\n",
    "print(y)"
   ]
  },
  {
   "cell_type": "code",
   "execution_count": 45,
   "id": "d941a810-631c-4d97-9c03-8782d7f7d127",
   "metadata": {},
   "outputs": [
    {
     "name": "stdout",
     "output_type": "stream",
     "text": [
      "5\n"
     ]
    }
   ],
   "source": [
    "#11. Find the length of a list.\n",
    "y=[-3,4,-89,700,-999]\n",
    "print(len(y))\n"
   ]
  },
  {
   "cell_type": "code",
   "execution_count": 47,
   "id": "66717ab2-432e-49d2-bd44-6ea2dabedd07",
   "metadata": {},
   "outputs": [
    {
     "name": "stdout",
     "output_type": "stream",
     "text": [
      "5\n"
     ]
    }
   ],
   "source": [
    "y=[-3,4,-89,700,-999]\n",
    "z=len(y)\n",
    "print(z)\n"
   ]
  },
  {
   "cell_type": "code",
   "execution_count": 49,
   "id": "1973f3f5-793e-4e46-a8ac-1ff125169d3a",
   "metadata": {},
   "outputs": [
    {
     "name": "stdout",
     "output_type": "stream",
     "text": [
      "true\n"
     ]
    }
   ],
   "source": [
    "#12. Check if an element exists in the list.\n",
    "y=[-3,4,-89,700,-999]\n",
    "if(4 in y):\n",
    "    print(\"true\")\n",
    "else:\n",
    "    print(\"false\")\n"
   ]
  },
  {
   "cell_type": "code",
   "execution_count": 55,
   "id": "cf47511a-e94f-42e2-b519-c9d235875891",
   "metadata": {},
   "outputs": [
    {
     "name": "stdout",
     "output_type": "stream",
     "text": [
      "3\n"
     ]
    }
   ],
   "source": [
    "#13. Count occurrences of an element.\n",
    "z=[2,3,2,4,5,2,6,6,5,7,6,7]\n",
    "count=0\n",
    "for i in z:\n",
    "    if(i==2):\n",
    "        count+=1\n",
    "print(count)"
   ]
  },
  {
   "cell_type": "code",
   "execution_count": 59,
   "id": "64510644-c18b-411d-a9a2-2048864c3363",
   "metadata": {},
   "outputs": [
    {
     "name": "stdout",
     "output_type": "stream",
     "text": [
      "3\n"
     ]
    }
   ],
   "source": [
    "z=[2,3,2,4,5,2,6,6,5,7,6,7]\n",
    "count=0\n",
    "for i in range(len(z)):\n",
    "    if(z[i]==6):\n",
    "        count+=1\n",
    "print(count)"
   ]
  },
  {
   "cell_type": "code",
   "execution_count": 69,
   "id": "79a176af-b2f8-45c5-8d8c-559926325c59",
   "metadata": {},
   "outputs": [
    {
     "name": "stdout",
     "output_type": "stream",
     "text": [
      "3\n"
     ]
    }
   ],
   "source": [
    "z=[2,3,2,4,5,2,6,6,5,7,6,7]\n",
    "print(z.count(2))"
   ]
  },
  {
   "cell_type": "code",
   "execution_count": 71,
   "id": "6f75d2d8-e828-4d61-b055-0bdc9aac9956",
   "metadata": {},
   "outputs": [
    {
     "data": {
      "text/plain": [
       "[1, 2, 3, 4, 5, 6, 7, 8, 9]"
      ]
     },
     "execution_count": 71,
     "metadata": {},
     "output_type": "execute_result"
    }
   ],
   "source": [
    "#14. Create a list using list comprehension.\n",
    "[i for i in range(1,10)]"
   ]
  },
  {
   "cell_type": "code",
   "execution_count": 73,
   "id": "d72e869c-01ae-4a48-8b8b-295119bd4d02",
   "metadata": {},
   "outputs": [
    {
     "data": {
      "text/plain": [
       "[2, 4, 6]"
      ]
     },
     "execution_count": 73,
     "metadata": {},
     "output_type": "execute_result"
    }
   ],
   "source": [
    "[i for i in range(1,7) if i%2==0]"
   ]
  },
  {
   "cell_type": "code",
   "execution_count": 75,
   "id": "84cc3c02-db41-4144-ae9e-bf852cac8067",
   "metadata": {},
   "outputs": [
    {
     "data": {
      "text/plain": [
       "[1, 3, 5, 7, 9]"
      ]
     },
     "execution_count": 75,
     "metadata": {},
     "output_type": "execute_result"
    }
   ],
   "source": [
    "[i for i in range(1,11) if i%2!=0]"
   ]
  },
  {
   "cell_type": "code",
   "execution_count": 77,
   "id": "d6a9bc10-5833-448b-8a9b-55463439b7a3",
   "metadata": {},
   "outputs": [
    {
     "data": {
      "text/plain": [
       "[1, 4, 9, 16, 25, 36]"
      ]
     },
     "execution_count": 77,
     "metadata": {},
     "output_type": "execute_result"
    }
   ],
   "source": [
    "[i*i for i in range(1,7)]"
   ]
  },
  {
   "cell_type": "code",
   "execution_count": 79,
   "id": "f7ab036b-3eae-4658-9cc3-1d89f5057407",
   "metadata": {},
   "outputs": [
    {
     "name": "stdout",
     "output_type": "stream",
     "text": [
      "[-3, 4, -89, 700, -999]\n"
     ]
    }
   ],
   "source": [
    "#15. Copy a list.\n",
    "z1=[-3,4,-89,700,-999]\n",
    "copy_z1=z1.copy()\n",
    "print(copy_z1)\n",
    "\n"
   ]
  },
  {
   "cell_type": "code",
   "execution_count": null,
   "id": "5ad89570-d004-4564-a9b7-dbf164367f2a",
   "metadata": {},
   "outputs": [],
   "source": []
  }
 ],
 "metadata": {
  "kernelspec": {
   "display_name": "Python 3 (ipykernel)",
   "language": "python",
   "name": "python3"
  },
  "language_info": {
   "codemirror_mode": {
    "name": "ipython",
    "version": 3
   },
   "file_extension": ".py",
   "mimetype": "text/x-python",
   "name": "python",
   "nbconvert_exporter": "python",
   "pygments_lexer": "ipython3",
   "version": "3.12.4"
  }
 },
 "nbformat": 4,
 "nbformat_minor": 5
}
