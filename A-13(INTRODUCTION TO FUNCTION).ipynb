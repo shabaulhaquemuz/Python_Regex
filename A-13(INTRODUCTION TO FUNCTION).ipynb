{
 "cells": [
  {
   "cell_type": "code",
   "execution_count": null,
   "id": "24b12b0d-7c09-4898-924e-9486e7b00f71",
   "metadata": {},
   "outputs": [],
   "source": [
    "#functions\n",
    "#block of code that is reusable"
   ]
  },
  {
   "cell_type": "code",
   "execution_count": 7,
   "id": "a0859583-8354-4646-b44b-0bd15abda977",
   "metadata": {},
   "outputs": [
    {
     "name": "stdout",
     "output_type": "stream",
     "text": [
      "hey Shabaul, how are you doing?\n"
     ]
    }
   ],
   "source": [
    "def greeting():\n",
    "    print(\"hey Shabaul, how are you doing?\")\n",
    "greeting()"
   ]
  },
  {
   "cell_type": "code",
   "execution_count": 9,
   "id": "e0e48d0e-e5a5-4a59-8347-96c271926012",
   "metadata": {},
   "outputs": [
    {
     "name": "stdout",
     "output_type": "stream",
     "text": [
      "hey Shabaul, how are you doing?\n"
     ]
    }
   ],
   "source": [
    "greeting()"
   ]
  },
  {
   "cell_type": "code",
   "execution_count": 13,
   "id": "2c5f3da5-e919-4217-a88c-adbab142e434",
   "metadata": {},
   "outputs": [
    {
     "name": "stdout",
     "output_type": "stream",
     "text": [
      "hey Shabaul, how are you doing?\n"
     ]
    }
   ],
   "source": [
    "greeting()"
   ]
  },
  {
   "cell_type": "code",
   "execution_count": 27,
   "id": "005fb2a1-b0de-44c8-9a8b-0ee0337ae66a",
   "metadata": {},
   "outputs": [
    {
     "name": "stdout",
     "output_type": "stream",
     "text": [
      "hey user saif ,welcome!! how are you doing?\n"
     ]
    }
   ],
   "source": [
    "def greeting(z):\n",
    "    print(\"hey user\",z, \",welcome!! how are you doing?\")\n",
    "greeting(\"saif\")"
   ]
  },
  {
   "cell_type": "code",
   "execution_count": 21,
   "id": "896be96e-0d1b-4d88-961e-bf4e0933d4d4",
   "metadata": {},
   "outputs": [
    {
     "name": "stdout",
     "output_type": "stream",
     "text": [
      "hey user amaan welcome!! how are you doing?\n"
     ]
    }
   ],
   "source": [
    "greeting(\"amaan\")"
   ]
  },
  {
   "cell_type": "code",
   "execution_count": 31,
   "id": "b3825d31-0422-404e-9376-2992d0094c58",
   "metadata": {},
   "outputs": [
    {
     "name": "stdout",
     "output_type": "stream",
     "text": [
      "factors of 12 is 1\n",
      "factors of 12 is 2\n",
      "factors of 12 is 3\n",
      "factors of 12 is 4\n",
      "factors of 12 is 6\n",
      "factors of 12 is 12\n"
     ]
    }
   ],
   "source": [
    "def factors(num):\n",
    "    for i in range(1,num+1):\n",
    "        if(num%i==0):\n",
    "            print(\"factors of\",num,\"is\",i)\n",
    "factors(12)"
   ]
  },
  {
   "cell_type": "code",
   "execution_count": 127,
   "id": "99d5b646-bf58-4974-a7cf-95efb253f37f",
   "metadata": {},
   "outputs": [
    {
     "name": "stdout",
     "output_type": "stream",
     "text": [
      "armstrong number\n"
     ]
    }
   ],
   "source": [
    "def is_armstrong(num):\n",
    "    count=0\n",
    "    while(num>0):\n",
    "        num=num//10\n",
    "        count+=1\n",
    "    sum=0\n",
    "    original=num\n",
    "    while(num>0):\n",
    "        digit=num%10\n",
    "        square_digit=digit**count\n",
    "        sum+=square_digit\n",
    "        num=num//10\n",
    "    if(original==sum):\n",
    "        print(\"armstrong number\")\n",
    "    else:\n",
    "        print(\"not an armstrong number\")\n",
    "is_armstrong(370)\n",
    "    "
   ]
  },
  {
   "cell_type": "code",
   "execution_count": 43,
   "id": "135f9675-600f-4cc6-9c16-f38624894cd9",
   "metadata": {},
   "outputs": [
    {
     "name": "stdout",
     "output_type": "stream",
     "text": [
      "id is 1 name is shabaul salary is 90000\n",
      "id is shabaul name is 1 salary is 90000\n",
      "id is 1 name is shabaul salary is 90000\n"
     ]
    }
   ],
   "source": [
    "def func(id,name,salary):\n",
    "    print(f\"id is {id} name is {name} salary is {salary}\" )\n",
    "func(1,\"shabaul\",90000)\n",
    "func(\"shabaul\",1,90000)      # it is called as positional argument, will run according to the position of the parameters\n",
    "func(name=\"shabaul\",id=1,salary=90000)    #keyword argument,no position needed, in argument we can put any element of parameter first"
   ]
  },
  {
   "cell_type": "code",
   "execution_count": 53,
   "id": "c12f19c2-7ec6-47c8-be9b-4a5a67538112",
   "metadata": {},
   "outputs": [
    {
     "name": "stdout",
     "output_type": "stream",
     "text": [
      "id is 10 name is shabaul salary is 90000\n"
     ]
    }
   ],
   "source": [
    "def func(id,name,salary):\n",
    "    print(f\"id is {id} name is {name} salary is {salary}\" )\n",
    "      # it is called as positional argument, will run according to the position of the parameters\n",
    "func(10,\"shabaul\",salary=90000) #at place where keyword argument is written, all the arguments before tha we can write positional after keyword argument\n",
    "                                #it will show error"
   ]
  },
  {
   "cell_type": "code",
   "execution_count": 61,
   "id": "f938b324-0783-485d-8598-8a3885fcc9bd",
   "metadata": {},
   "outputs": [
    {
     "name": "stdout",
     "output_type": "stream",
     "text": [
      "id is 10 name is shabaul salary is 90000\n"
     ]
    }
   ],
   "source": [
    "def func(id,name,salary=90000):  #default parameter\n",
    "    print(f\"id is {id} name is {name} salary is {salary}\" )\n",
    "      \n",
    "func(10,\"shabaul\")"
   ]
  },
  {
   "cell_type": "code",
   "execution_count": 63,
   "id": "b7948314-cc6b-4ce9-a722-461fc26ea992",
   "metadata": {},
   "outputs": [
    {
     "name": "stdout",
     "output_type": "stream",
     "text": [
      "id is 10 name is allama iqbal salary is 90000\n"
     ]
    }
   ],
   "source": [
    "def func(id,name=\"allama iqbal\",salary=90000):\n",
    "    print(f\"id is {id} name is {name} salary is {salary}\" )\n",
    "      \n",
    "func(10)"
   ]
  },
  {
   "cell_type": "code",
   "execution_count": 69,
   "id": "7f2bbd2f-e7a6-45cc-9878-a851bd842f7b",
   "metadata": {},
   "outputs": [
    {
     "name": "stdout",
     "output_type": "stream",
     "text": [
      "id is 10 name is allama iqbal salary is 90000\n"
     ]
    }
   ],
   "source": [
    "def func(id=10,name=\"allama iqbal\",salary=90000):\n",
    "    print(f\"id is {id} name is {name} salary is {salary}\" )\n",
    "      \n",
    "func()"
   ]
  },
  {
   "cell_type": "code",
   "execution_count": 85,
   "id": "8f46e55d-0087-4984-8677-2048d3e8ff72",
   "metadata": {},
   "outputs": [
    {
     "name": "stdout",
     "output_type": "stream",
     "text": [
      "id is shabaul name is guest salary is 90000\n"
     ]
    }
   ],
   "source": [
    "def func(id,name=\"guest\",salary=90000):\n",
    "    print(f\"id is {id} name is {name} salary is {salary}\" )\n",
    "      \n",
    "func(\"shabaul\")"
   ]
  },
  {
   "cell_type": "code",
   "execution_count": null,
   "id": "dd3d4502-8942-4206-aebb-61f9b6f31046",
   "metadata": {},
   "outputs": [],
   "source": [
    "# return:\n",
    "# Sends a value back to the caller of the function.\n",
    "# Ends the function's execution immediately.\n",
    "# You can store the returned value or use it later in your code.\n",
    "\n",
    "\n",
    "# print:\n",
    "# Just displays the output to the screen (console).\n",
    "# Does not send any value back to the caller.\n",
    "# Mainly used for debugging or user messages."
   ]
  },
  {
   "cell_type": "code",
   "execution_count": null,
   "id": "2ce058e3-8806-459f-b951-003fd7245bd8",
   "metadata": {},
   "outputs": [],
   "source": [
    "# | Feature         | `return`                     | `print`                    |\n",
    "# | --------------- | ---------------------------- | -------------------------- |\n",
    "# | Purpose         | Gives output from function   | Displays output to console |\n",
    "# | Use in chaining | Yes                          | No                         |\n",
    "# | Data reuse      | Yes (can store or pass it)   | No                         |\n",
    "# | Ends function?  | Yes                          | No                         |\n",
    "# | Output visible? | No (unless printed manually) | Yes                        |\n"
   ]
  },
  {
   "cell_type": "code",
   "execution_count": 87,
   "id": "02438439-5381-4855-bb2b-95fed93bcabc",
   "metadata": {},
   "outputs": [
    {
     "name": "stdout",
     "output_type": "stream",
     "text": [
      "15\n"
     ]
    }
   ],
   "source": [
    "#example, print just displays the output but not save the value\n",
    "def func(x):\n",
    "    print(x+10)\n",
    "func(5)\n"
   ]
  },
  {
   "cell_type": "code",
   "execution_count": 93,
   "id": "492d10f0-835c-4637-a63f-559d9ad8f155",
   "metadata": {},
   "outputs": [
    {
     "name": "stdout",
     "output_type": "stream",
     "text": [
      "15\n",
      "a is None\n"
     ]
    }
   ],
   "source": [
    "def func(x):\n",
    "    print(x+10)\n",
    "a=func(5)\n",
    "print(\"a is\",a)"
   ]
  },
  {
   "cell_type": "code",
   "execution_count": 99,
   "id": "715daba8-feb1-4d5b-afc6-bbb6c5e1ed69",
   "metadata": {},
   "outputs": [
    {
     "name": "stdout",
     "output_type": "stream",
     "text": [
      "a is 15\n"
     ]
    }
   ],
   "source": [
    "def func(x):      #return saves the value unlike print\n",
    "    return(x+10)\n",
    "a=func(5)\n",
    "print(\"a is\",a)"
   ]
  },
  {
   "cell_type": "code",
   "execution_count": 1,
   "id": "0fa10852-2fdf-4468-b5fb-f7f91b52e76b",
   "metadata": {},
   "outputs": [
    {
     "name": "stdout",
     "output_type": "stream",
     "text": [
      "total is: 14\n"
     ]
    }
   ],
   "source": [
    "#create a function to find the sum of square of natural numbers upto n\n",
    "def my_square():\n",
    "    i=1\n",
    "    sum=0\n",
    "    n=3\n",
    "    while(i<=n):\n",
    "        sum+=i**2\n",
    "        i+=1\n",
    "    print(\"total is:\",sum)\n",
    "my_square()\n",
    "        "
   ]
  },
  {
   "cell_type": "code",
   "execution_count": 7,
   "id": "990689dd-6366-4884-8b9e-ea2b846c3c7d",
   "metadata": {},
   "outputs": [
    {
     "name": "stdin",
     "output_type": "stream",
     "text": [
      "enter the number: 9876\n"
     ]
    },
    {
     "name": "stdout",
     "output_type": "stream",
     "text": [
      "sum of digits is: 30\n"
     ]
    }
   ],
   "source": [
    "def digit_sum():\n",
    "    sum=0\n",
    "    number=int(input(\"enter the number:\"))\n",
    "    while(number>0):\n",
    "        digit=number%10\n",
    "        sum+=digit\n",
    "        number=number//10\n",
    "    print(\"sum of digits is:\",sum)\n",
    "digit_sum()\n",
    "    "
   ]
  },
  {
   "cell_type": "code",
   "execution_count": 3,
   "id": "e3b4c85d-1bb1-443b-b2e7-d51398189d13",
   "metadata": {},
   "outputs": [
    {
     "name": "stdin",
     "output_type": "stream",
     "text": [
      "enter the number: 345\n"
     ]
    },
    {
     "name": "stdout",
     "output_type": "stream",
     "text": [
      "odd\n"
     ]
    }
   ],
   "source": [
    "def oddeve():\n",
    "    i=int(input(\"enter the number:\"))\n",
    "    if(i%2==0):\n",
    "        print(\"even\")\n",
    "    else:\n",
    "        print(\"odd\")\n",
    "oddeve()"
   ]
  },
  {
   "cell_type": "code",
   "execution_count": null,
   "id": "7b3acac3-9242-4f28-be72-c9567adaee61",
   "metadata": {},
   "outputs": [],
   "source": []
  }
 ],
 "metadata": {
  "kernelspec": {
   "display_name": "Python 3 (ipykernel)",
   "language": "python",
   "name": "python3"
  },
  "language_info": {
   "codemirror_mode": {
    "name": "ipython",
    "version": 3
   },
   "file_extension": ".py",
   "mimetype": "text/x-python",
   "name": "python",
   "nbconvert_exporter": "python",
   "pygments_lexer": "ipython3",
   "version": "3.12.4"
  }
 },
 "nbformat": 4,
 "nbformat_minor": 5
}
