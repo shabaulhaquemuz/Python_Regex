{
 "cells": [
  {
   "cell_type": "code",
   "execution_count": 5,
   "id": "6192dcfc-197c-4830-bdd0-1f3055f90a60",
   "metadata": {},
   "outputs": [
    {
     "name": "stdout",
     "output_type": "stream",
     "text": [
      "99\n"
     ]
    }
   ],
   "source": [
    "# 1. Write a Python program to find the maximum element in a list of numbers without\n",
    "# max functions\n",
    "numbers = [10, 20, 4, 45, 99]\n",
    "# The maximum element is: 99\n",
    "maximum=numbers[0]\n",
    "for i in range(len(numbers)):\n",
    "    if(numbers[i]>maximum):\n",
    "        maximum=numbers[i]\n",
    "print(maximum)\n",
    "# it applies for both positive and negative elemengts inside the list"
   ]
  },
  {
   "cell_type": "code",
   "execution_count": 7,
   "id": "2f035979-774e-474b-9fa6-40a3f9ee6b5d",
   "metadata": {},
   "outputs": [
    {
     "name": "stdout",
     "output_type": "stream",
     "text": [
      "100\n"
     ]
    }
   ],
   "source": [
    "# 2. Write a Python program to sum all the elements in a list of numbers.\n",
    "# a. numbers = [10, 20, 30, 40]\n",
    "# b. The sum of all elements is: 100\n",
    "numberss = [10, 20, 30, 40]\n",
    "summ=0\n",
    "for i in numberss:\n",
    "    summ+=i\n",
    "print(summ)\n"
   ]
  },
  {
   "cell_type": "code",
   "execution_count": 29,
   "id": "3f72c937-6c0b-47b5-85d5-adcd38260e2a",
   "metadata": {},
   "outputs": [
    {
     "name": "stdout",
     "output_type": "stream",
     "text": [
      "[5, 4, 3, 2, 1]\n"
     ]
    }
   ],
   "source": [
    "# 3. Write a Python program to reverse a list without reverse or slicing operator\n",
    "# a. numbers = [1, 2, 3, 4, 5]\n",
    "# b. Reversed list: [5, 4, 3, 2, 1]\n",
    "number = [1, 2, 3, 4, 5]\n",
    "a=[]\n",
    "for i in range(len(number)):\n",
    "    r=number.pop()\n",
    "    a.append(r)\n",
    "print(a)\n"
   ]
  },
  {
   "cell_type": "code",
   "execution_count": 35,
   "id": "7bbeb68a-44a8-49bf-bee5-a104bd8a84af",
   "metadata": {},
   "outputs": [
    {
     "name": "stdout",
     "output_type": "stream",
     "text": [
      "[5, 4, 3, 2, 1]\n"
     ]
    }
   ],
   "source": [
    "number = [1, 2, 3, 4, 5]\n",
    "start=0\n",
    "end=len(number)-1\n",
    "for i in range(len(number)//2):\n",
    "    number[start],number[end]=number[end],number[start]\n",
    "    start+=1\n",
    "    end-=1\n",
    "print(number)\n",
    "    "
   ]
  },
  {
   "cell_type": "code",
   "execution_count": 51,
   "id": "66219e15-bbb4-4a3a-b0bc-59697e1166f6",
   "metadata": {},
   "outputs": [
    {
     "name": "stdout",
     "output_type": "stream",
     "text": [
      "[-5, 2, 3, 3, 4, 6, 9, 23, 45, 322, 654, 788, 877, 1000]\n"
     ]
    }
   ],
   "source": [
    "#4. Write a Python program to sort a list in ascending order without sort functions\n",
    "l1=[3,4,6,2,3,877,322,45,654,1000,9,788,23,-5]\n",
    "for i in range(len(l1)):\n",
    "    for j in range(i+1,len(l1)):\n",
    "        if(l1[i]>l1[j]):\n",
    "            l1[i],l1[j]=l1[j],l1[i]\n",
    "\n",
    "print(l1)"
   ]
  },
  {
   "cell_type": "code",
   "execution_count": 49,
   "id": "286b4922-33aa-4aee-94ac-866879c9aa19",
   "metadata": {},
   "outputs": [
    {
     "name": "stdout",
     "output_type": "stream",
     "text": [
      "[1000, 877, 788, 654, 322, 45, 23, 9, 6, 4, 3, 3, 2, -87]\n"
     ]
    }
   ],
   "source": [
    "#Write a Python program to sort a list in descending order without sort functions\n",
    "l2=[3,4,6,2,3,877,322,45,654,1000,9,-87,788,23]\n",
    "for i in range(len(l2)):\n",
    "    for j in range(i+1,len(l2)):\n",
    "        if(l2[i]<l2[j]):\n",
    "            l2[i],l2[j]=l2[j],l2[i]\n",
    "print(l2)"
   ]
  },
  {
   "cell_type": "code",
   "execution_count": 9,
   "id": "e105a9e8-af38-4100-a73a-04f1ad13258f",
   "metadata": {},
   "outputs": [
    {
     "name": "stdout",
     "output_type": "stream",
     "text": [
      "[-87, 2, 3, 3, 4, 6, 9, 23, 45, 322, 654, 788, 877, 1000]\n"
     ]
    }
   ],
   "source": [
    "l3 = [3, 4, 6, 2, 3, 877, 322, 45, 654, 1000, 9, -87, 788, 23]\n",
    "i = 0\n",
    "while (i < len(l3) - 1):\n",
    "    if (l3[i] > l3[i + 1]):\n",
    "        l3[i], l3[i + 1] = l3[i + 1], l3[i]\n",
    "        i = 0  # restart from beginning after every swap\n",
    "    else:\n",
    "        i += 1\n",
    "\n",
    "print(l3)"
   ]
  },
  {
   "cell_type": "code",
   "execution_count": 11,
   "id": "d183f73c-2ade-478e-a68d-677a6693149f",
   "metadata": {},
   "outputs": [
    {
     "name": "stdout",
     "output_type": "stream",
     "text": [
      "[1, 2, 3, 4, 5]\n"
     ]
    }
   ],
   "source": [
    "# 5. Write a Python program to remove duplicates from a list while maintaining the order of elements.\n",
    "# a. numbers = [1, 2, 2, 3, 4, 4, 5]\n",
    "# b. List after removing duplicates: [1, 2, 3, 4, 5]\n",
    "numb = [1, 2, 2, 3, 4, 4, 5]\n",
    "new=[]\n",
    "for i in numb:\n",
    "    if(i not in new):\n",
    "        new.append(i)\n",
    "print(new)"
   ]
  },
  {
   "cell_type": "code",
   "execution_count": 27,
   "id": "568d93fb-e3a2-467f-8c59-e47a41ee7daa",
   "metadata": {},
   "outputs": [
    {
     "name": "stdout",
     "output_type": "stream",
     "text": [
      "[(1, 5), (2, 4), (3, 3)]\n"
     ]
    }
   ],
   "source": [
    "# 6. Write a Python program to find all pairs of numbers in a list that add up to a specific target sum.\n",
    "# a. numbers = [1, 2, 3, 4, 3, 5, 6] target_sum = 6\n",
    "# b. Pairs that add up to 6: [(3, 3), (2, 4), (1, 5)]\n",
    "\n",
    "num1 = [1, 2, 3, 4, 3, 5, 6]\n",
    "new1=[]\n",
    "target_sum=6\n",
    "for i in range(len(num1)):\n",
    "    for j in range(i+1,len(num1)):\n",
    "        if(num1[i]+num1[j]==target_sum):\n",
    "            new1.append((num1[i],num1[j]))\n",
    "print(new1)\n"
   ]
  },
  {
   "cell_type": "code",
   "execution_count": 39,
   "id": "32ae958e-4a16-4f79-904a-8ecdac4de7fe",
   "metadata": {},
   "outputs": [
    {
     "name": "stdout",
     "output_type": "stream",
     "text": [
      "[1, 2, 3, 4, [5, 6], 7, 8]\n",
      "[1, 2, 3, 4, 5, 6, 7, 8]\n"
     ]
    }
   ],
   "source": [
    "# 7. Write a Python program to flatten a nested list (list within lists) into a single list.\n",
    "# a. nested_list = [1, [2, 3], [4, [5, 6], 7], 8]\n",
    "# b. Flattened list: [1, 2, 3, 4, 5, 6, 7, 8]\n",
    "nested_list = [1, [2, 3], [4, [5, 6], 7], 8]\n",
    "new_list=[]\n",
    "for i in nested_list:\n",
    "    if(type(i)==list):\n",
    "        new_list.extend(i)\n",
    "    else:\n",
    "        new_list.append(i)\n",
    "print(new_list)\n",
    "flattened_list=[]\n",
    "for i in new_list:\n",
    "    if(type(i)==list):\n",
    "        flattened_list.extend(i)\n",
    "    else:\n",
    "        flattened_list.append(i)\n",
    "print(flattened_list)"
   ]
  },
  {
   "cell_type": "code",
   "execution_count": 53,
   "id": "aeef4405-e70e-40af-902e-b1966d9ac425",
   "metadata": {},
   "outputs": [
    {
     "name": "stdout",
     "output_type": "stream",
     "text": [
      "max is  5\n",
      "min is  1\n",
      "sum is 9\n"
     ]
    }
   ],
   "source": [
    "# 8. Write a Python program to find the sum of the elements in a list, excluding the largest and smallest element. Don’t use max or min functions\n",
    "# a. numbers = [1, 2, 3, 4, 5]\n",
    "# b. Sum excluding the largest and smallest element: 9\n",
    "n1 = [1, 2, 3, 4, 5]\n",
    "maxm=0\n",
    "for i in range(len(n1)):\n",
    "    if(n1[i]>maxm):\n",
    "        maxm=n1[i]\n",
    "print(\"max is \",maxm)\n",
    "minm=n1[0]\n",
    "for i in range(len(n1)):\n",
    "    if(n1[i]<minm):\n",
    "        minm=n1[i]\n",
    "print(\"min is \",minm)\n",
    "summ=0\n",
    "for i in n1:\n",
    "    if(i!=maxm and i!=minm):\n",
    "        summ+=i\n",
    "print(\"sum is\",summ)\n",
    "    "
   ]
  },
  {
   "cell_type": "code",
   "execution_count": 61,
   "id": "c4a0a36e-07b2-479e-8122-8bf1d272f394",
   "metadata": {},
   "outputs": [
    {
     "name": "stdout",
     "output_type": "stream",
     "text": [
      "palindrome\n"
     ]
    }
   ],
   "source": [
    "# 9. Write a Python program to check if a list is a palindrome (reads the same backward as forward) using two pointer approach\n",
    "# a. numbers = [1, 2, 3, 2, 1]\n",
    "# b. True\n",
    "p = [1, 2, 3, 2, 1]\n",
    "start=0\n",
    "end=len(p)-1\n",
    "count=0\n",
    "for i in range(len(p)//2):\n",
    "    if(p[start]!=p[end]):\n",
    "        count=1\n",
    "        break\n",
    "    else:\n",
    "        start+=1\n",
    "        end-=1\n",
    "if(count==0):\n",
    "    print(\"palindrome\")\n",
    "else:\n",
    "    print(\"not a palindrome\")"
   ]
  },
  {
   "cell_type": "code",
   "execution_count": 63,
   "id": "be21513a-e4b3-4b5d-9eba-362d48f1c040",
   "metadata": {},
   "outputs": [
    {
     "name": "stdout",
     "output_type": "stream",
     "text": [
      "[1, 2, 3, 4, 5, 6]\n"
     ]
    }
   ],
   "source": [
    "# 10. Write a function to remove duplicate elements from a list.\n",
    "# a. numbers = [1, 2, 3, 2, 4, 5, 1, 6]\n",
    "# b. [1, 2, 3, 4, 5, 6]\n",
    "d=[1, 2, 3, 2, 4, 5, 1, 6]\n",
    "d1=[]\n",
    "for i in d:\n",
    "    if(i not in d1):\n",
    "        d1.append(i)\n",
    "print(d1)"
   ]
  },
  {
   "cell_type": "code",
   "execution_count": 65,
   "id": "ea1185dd-307a-4f46-b14d-676f3ec53440",
   "metadata": {},
   "outputs": [
    {
     "name": "stdout",
     "output_type": "stream",
     "text": [
      "[3, 4, 5]\n"
     ]
    }
   ],
   "source": [
    "# 11. Find Common Elements in Two Lists\n",
    "# a. list1 = [1, 2, 3, 4, 5]\n",
    "# b. list2 = [3, 4, 5, 6, 7]\n",
    "# c. Result: [3, 4, 5]\n",
    "list1 = [1, 2, 3, 4, 5]\n",
    "list2 = [3, 4, 5, 6, 7]\n",
    "c=[]\n",
    "for i in list1:\n",
    "    if(i in list2):\n",
    "        c.append(i)\n",
    "print(c)\n",
    "        "
   ]
  },
  {
   "cell_type": "code",
   "execution_count": 1,
   "id": "afabcb03-c688-40c3-a64d-da810ab19751",
   "metadata": {},
   "outputs": [
    {
     "name": "stdout",
     "output_type": "stream",
     "text": [
      "strawberry\n"
     ]
    }
   ],
   "source": [
    "# 12. Find the Longest Word in a List\n",
    "# a. words = [\"apple\", \"banana\", \"strawberry\", \"kiwi\"]\n",
    "# b. Strawberry\n",
    "words = [\"apple\", \"banana\", \"strawberry\", \"kiwi\"]\n",
    "longest=words[0]\n",
    "for i in range(len(words)):\n",
    "    if(len(words[i])>len(longest)):\n",
    "        longest=words[i]\n",
    "print(longest)\n",
    "        \n",
    "        "
   ]
  },
  {
   "cell_type": "code",
   "execution_count": null,
   "id": "be2d63a8-1370-46bb-9334-6341cf8ad0a3",
   "metadata": {},
   "outputs": [],
   "source": []
  }
 ],
 "metadata": {
  "kernelspec": {
   "display_name": "Python 3 (ipykernel)",
   "language": "python",
   "name": "python3"
  },
  "language_info": {
   "codemirror_mode": {
    "name": "ipython",
    "version": 3
   },
   "file_extension": ".py",
   "mimetype": "text/x-python",
   "name": "python",
   "nbconvert_exporter": "python",
   "pygments_lexer": "ipython3",
   "version": "3.12.4"
  }
 },
 "nbformat": 4,
 "nbformat_minor": 5
}
