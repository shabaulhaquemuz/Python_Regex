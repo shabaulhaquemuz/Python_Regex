{
 "cells": [
  {
   "cell_type": "code",
   "execution_count": 1,
   "id": "2a48e89b-81fa-4dd2-a0e7-25b1a1b075f8",
   "metadata": {},
   "outputs": [
    {
     "name": "stdout",
     "output_type": "stream",
     "text": [
      "True\n"
     ]
    }
   ],
   "source": [
    "#to check if a string is anagram\n",
    "str1=\"listen\"\n",
    "str2=\"silent\"\n",
    "d1={}\n",
    "d2={}\n",
    "for i in str1:\n",
    "    if(i in d1):\n",
    "        d1[i]=d1[i]+1\n",
    "    else:\n",
    "        d1[i]=1\n",
    "for i in str2:\n",
    "    if(i in d2):\n",
    "        d2[i]=d2[i]+1\n",
    "    else:\n",
    "        d2[i]=1\n",
    "print(d1==d2)"
   ]
  },
  {
   "cell_type": "code",
   "execution_count": null,
   "id": "56b1f5ba-2b28-4741-bfc7-dd5a7a2863f9",
   "metadata": {},
   "outputs": [],
   "source": []
  }
 ],
 "metadata": {
  "kernelspec": {
   "display_name": "Python 3 (ipykernel)",
   "language": "python",
   "name": "python3"
  },
  "language_info": {
   "codemirror_mode": {
    "name": "ipython",
    "version": 3
   },
   "file_extension": ".py",
   "mimetype": "text/x-python",
   "name": "python",
   "nbconvert_exporter": "python",
   "pygments_lexer": "ipython3",
   "version": "3.12.4"
  }
 },
 "nbformat": 4,
 "nbformat_minor": 5
}
