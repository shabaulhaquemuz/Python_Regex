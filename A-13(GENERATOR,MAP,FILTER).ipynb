{
 "cells": [
  {
   "cell_type": "code",
   "execution_count": 13,
   "id": "028daae0-8eb8-40c8-97d8-4923ad3a7b09",
   "metadata": {},
   "outputs": [],
   "source": [
    "#generators are special function that returns the output and also remember the last execution step\n",
    "def func(num):\n",
    "    print(\"firsty liner\")\n",
    "    yield 1\n",
    "    print(\"hey shabaul\")\n",
    "    yield 2"
   ]
  },
  {
   "cell_type": "code",
   "execution_count": 15,
   "id": "a5251e18-2d4c-4ad6-aa61-9b0294f3253b",
   "metadata": {},
   "outputs": [
    {
     "data": {
      "text/plain": [
       "<generator object func at 0x0000023687FC16C0>"
      ]
     },
     "execution_count": 15,
     "metadata": {},
     "output_type": "execute_result"
    }
   ],
   "source": [
    "func(10)"
   ]
  },
  {
   "cell_type": "code",
   "execution_count": 19,
   "id": "68d67bf9-49c7-43b2-9d52-9281a3fd3c86",
   "metadata": {},
   "outputs": [
    {
     "name": "stdout",
     "output_type": "stream",
     "text": [
      "firsty liner\n",
      "1\n"
     ]
    }
   ],
   "source": [
    "x=func(10)\n",
    "print(next(x))"
   ]
  },
  {
   "cell_type": "code",
   "execution_count": 21,
   "id": "eae069d1-f6b8-4a48-8898-698dbf1ab6b9",
   "metadata": {},
   "outputs": [
    {
     "name": "stdout",
     "output_type": "stream",
     "text": [
      "hey shabaul\n",
      "2\n"
     ]
    }
   ],
   "source": [
    "print(next(x))"
   ]
  },
  {
   "cell_type": "code",
   "execution_count": 23,
   "id": "526deb92-0f95-4cd6-b2f5-f4ff45ff95ad",
   "metadata": {},
   "outputs": [
    {
     "ename": "StopIteration",
     "evalue": "",
     "output_type": "error",
     "traceback": [
      "\u001b[1;31m---------------------------------------------------------------------------\u001b[0m",
      "\u001b[1;31mStopIteration\u001b[0m                             Traceback (most recent call last)",
      "Cell \u001b[1;32mIn[23], line 1\u001b[0m\n\u001b[1;32m----> 1\u001b[0m \u001b[38;5;28mprint\u001b[39m(\u001b[38;5;28mnext\u001b[39m(x))\n",
      "\u001b[1;31mStopIteration\u001b[0m: "
     ]
    }
   ],
   "source": [
    "print(next(x))"
   ]
  },
  {
   "cell_type": "code",
   "execution_count": 21,
   "id": "7b1cf189-5aa5-476d-8b8f-399b2f3186e1",
   "metadata": {},
   "outputs": [],
   "source": [
    "def fibo(num):\n",
    "    first=0\n",
    "    second=1\n",
    "    yield first\n",
    "    yield second\n",
    "    for i in range(2,num+1):\n",
    "        next=first+second\n",
    "        yield next\n",
    "        first=second\n",
    "        second=next\n",
    "\n",
    "\n"
   ]
  },
  {
   "cell_type": "code",
   "execution_count": 37,
   "id": "3a8ad7f5-27ab-43a0-a9c5-0d3d4508925c",
   "metadata": {},
   "outputs": [
    {
     "name": "stdout",
     "output_type": "stream",
     "text": [
      "0\n",
      "1\n",
      "1\n",
      "2\n",
      "3\n",
      "5\n"
     ]
    }
   ],
   "source": [
    "y=fibo(10)\n",
    "print(next(y))\n",
    "print(next(y))\n",
    "print(next(y))\n",
    "print(next(y))\n",
    "print(next(y))\n",
    "print(next(y))"
   ]
  },
  {
   "cell_type": "code",
   "execution_count": 39,
   "id": "92fb5ac4-45e0-4cb2-80e5-5767e0f0c025",
   "metadata": {},
   "outputs": [],
   "source": [
    "def funct(num):\n",
    "    print(\"first liner\")\n",
    "    i=0\n",
    "    while(i<5):\n",
    "        print(\"hey\",i)\n",
    "        i+=1\n",
    "        yield \"ABC\"\n",
    "        "
   ]
  },
  {
   "cell_type": "code",
   "execution_count": 43,
   "id": "e12e802b-4012-49a4-a933-8f3f0edb5d1d",
   "metadata": {},
   "outputs": [
    {
     "name": "stdout",
     "output_type": "stream",
     "text": [
      "first liner\n",
      "hey 0\n",
      "ABC\n",
      "hey 1\n",
      "ABC\n",
      "hey 2\n",
      "ABC\n",
      "hey 3\n",
      "ABC\n",
      "hey 4\n",
      "ABC\n"
     ]
    }
   ],
   "source": [
    "gen=funct(10)\n",
    "for i in gen:\n",
    "    print(i)"
   ]
  },
  {
   "cell_type": "code",
   "execution_count": 45,
   "id": "586c9289-b333-4dd7-81af-956945b28ee5",
   "metadata": {},
   "outputs": [
    {
     "data": {
      "text/plain": [
       "<map at 0x2e287a083d0>"
      ]
     },
     "execution_count": 45,
     "metadata": {},
     "output_type": "execute_result"
    }
   ],
   "source": [
    "#map,filter=> are like high order functions\n",
    "map(lambda x:x**2, [25,14,63])\n",
    "# using map directly gives memory address only"
   ]
  },
  {
   "cell_type": "code",
   "execution_count": 57,
   "id": "367f2684-4084-42fb-bdce-087e3dea912d",
   "metadata": {},
   "outputs": [
    {
     "name": "stdout",
     "output_type": "stream",
     "text": [
      "625\n"
     ]
    }
   ],
   "source": [
    "x=map(lambda x:x**2, [25,14,63])\n",
    "print(next(x))\n",
    "#putting it into the variable will give the result"
   ]
  },
  {
   "cell_type": "code",
   "execution_count": 49,
   "id": "084f1200-9ed8-4bc5-bdf0-6f9e68f3fa96",
   "metadata": {},
   "outputs": [
    {
     "name": "stdout",
     "output_type": "stream",
     "text": [
      "196\n"
     ]
    }
   ],
   "source": [
    "print(next(x))"
   ]
  },
  {
   "cell_type": "code",
   "execution_count": 51,
   "id": "92a3b025-30c3-4a33-9100-924e3e401230",
   "metadata": {},
   "outputs": [
    {
     "name": "stdout",
     "output_type": "stream",
     "text": [
      "3969\n"
     ]
    }
   ],
   "source": [
    "print(next(x))"
   ]
  },
  {
   "cell_type": "code",
   "execution_count": 53,
   "id": "fa7ca58c-656f-4d22-879e-72d32763ade5",
   "metadata": {},
   "outputs": [
    {
     "ename": "StopIteration",
     "evalue": "",
     "output_type": "error",
     "traceback": [
      "\u001b[1;31m---------------------------------------------------------------------------\u001b[0m",
      "\u001b[1;31mStopIteration\u001b[0m                             Traceback (most recent call last)",
      "Cell \u001b[1;32mIn[53], line 1\u001b[0m\n\u001b[1;32m----> 1\u001b[0m \u001b[38;5;28mprint\u001b[39m(\u001b[38;5;28mnext\u001b[39m(x))\n",
      "\u001b[1;31mStopIteration\u001b[0m: "
     ]
    }
   ],
   "source": [
    "print(next(x))"
   ]
  },
  {
   "cell_type": "code",
   "execution_count": 59,
   "id": "41146f66-f80a-4bdf-a65d-33623dd1038f",
   "metadata": {},
   "outputs": [
    {
     "name": "stdout",
     "output_type": "stream",
     "text": [
      "36\n"
     ]
    }
   ],
   "source": [
    "#lambda function to find the square of a number\n",
    "print((lambda x: x**2)(6))   # Output: 36\n"
   ]
  },
  {
   "cell_type": "code",
   "execution_count": 61,
   "id": "0a459f0f-875a-4b22-9d43-d24749b7784d",
   "metadata": {},
   "outputs": [
    {
     "name": "stdout",
     "output_type": "stream",
     "text": [
      "25\n",
      "81\n"
     ]
    }
   ],
   "source": [
    "square = lambda x: x ** 2\n",
    "print(square(5))   # Output: 25\n",
    "print(square(9))   # Output: 81\n"
   ]
  },
  {
   "cell_type": "code",
   "execution_count": 69,
   "id": "73ad51e6-9aaa-4f6f-a584-d5ce54fd0e2f",
   "metadata": {},
   "outputs": [
    {
     "name": "stdout",
     "output_type": "stream",
     "text": [
      "Hello!have a great day!!\n"
     ]
    }
   ],
   "source": [
    "#high order function\n",
    "def greet():\n",
    "    return \"Hello!\"\n",
    "\n",
    "def say_hello(func):\n",
    "    return func()+\"have a great day!!\"\n",
    "\n",
    "print(say_hello(greet))   # Output: Hello!\n"
   ]
  },
  {
   "cell_type": "code",
   "execution_count": 71,
   "id": "feeebb9a-59fb-47dd-a93b-5a7a0e716262",
   "metadata": {},
   "outputs": [
    {
     "ename": "SyntaxError",
     "evalue": "invalid syntax (2359011504.py, line 2)",
     "output_type": "error",
     "traceback": [
      "\u001b[1;36m  Cell \u001b[1;32mIn[71], line 2\u001b[1;36m\u001b[0m\n\u001b[1;33m    A generator is a function that uses yield to return values one by one.\u001b[0m\n\u001b[1;37m      ^\u001b[0m\n\u001b[1;31mSyntaxError\u001b[0m\u001b[1;31m:\u001b[0m invalid syntax\n"
     ]
    }
   ],
   "source": [
    "# What is a Generator?\n",
    "# A generator is a function that uses yield to return values one by one.\n",
    "def gen_square():\n",
    "    for i in range(1, 4):\n",
    "        yield i * i\n",
    "\n",
    "g = gen_square()\n",
    "print(next(g))  # 1\n",
    "print(next(g))  # 4\n",
    "print(next(g))  # 9\n",
    "#It generates values one at a time and remembers where it left off."
   ]
  },
  {
   "cell_type": "code",
   "execution_count": 73,
   "id": "4d9660f1-ecc6-48b2-b4ed-44ca9356e23d",
   "metadata": {},
   "outputs": [
    {
     "data": {
      "text/plain": [
       "[False, True, False, False]"
      ]
     },
     "execution_count": 73,
     "metadata": {},
     "output_type": "execute_result"
    }
   ],
   "source": [
    "y=map( lambda x:x%2==0, [25,14,63,1])\n",
    "list(y)"
   ]
  },
  {
   "cell_type": "code",
   "execution_count": 75,
   "id": "48060f46-9265-4019-8bb2-4731af9a29cf",
   "metadata": {},
   "outputs": [
    {
     "data": {
      "text/plain": [
       "[14]"
      ]
     },
     "execution_count": 75,
     "metadata": {},
     "output_type": "execute_result"
    }
   ],
   "source": [
    "y=filter( lambda x:x%2==0, [25,14,63,1])\n",
    "list(y)"
   ]
  },
  {
   "cell_type": "code",
   "execution_count": 77,
   "id": "aeef82f2-6a3f-4518-89ef-45d5a4d3baab",
   "metadata": {},
   "outputs": [
    {
     "data": {
      "text/plain": [
       "(False, True, False, False)"
      ]
     },
     "execution_count": 77,
     "metadata": {},
     "output_type": "execute_result"
    }
   ],
   "source": [
    "y=map( lambda x:x%2==0, [25,14,63,1])\n",
    "tuple(y)"
   ]
  },
  {
   "cell_type": "code",
   "execution_count": null,
   "id": "09b6cdbd-504f-4813-9f25-1a6aab647567",
   "metadata": {},
   "outputs": [],
   "source": []
  }
 ],
 "metadata": {
  "kernelspec": {
   "display_name": "Python 3 (ipykernel)",
   "language": "python",
   "name": "python3"
  },
  "language_info": {
   "codemirror_mode": {
    "name": "ipython",
    "version": 3
   },
   "file_extension": ".py",
   "mimetype": "text/x-python",
   "name": "python",
   "nbconvert_exporter": "python",
   "pygments_lexer": "ipython3",
   "version": "3.12.4"
  }
 },
 "nbformat": 4,
 "nbformat_minor": 5
}
