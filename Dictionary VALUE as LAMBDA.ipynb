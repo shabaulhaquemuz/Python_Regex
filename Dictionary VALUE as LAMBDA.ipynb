{
 "cells": [
  {
   "cell_type": "code",
   "execution_count": 3,
   "id": "e2429d11-193f-42f1-b06a-ad16b2ad9a41",
   "metadata": {},
   "outputs": [
    {
     "name": "stdout",
     "output_type": "stream",
     "text": [
      "saif\n",
      "24\n",
      "data scientist\n"
     ]
    }
   ],
   "source": [
    "d={\"name\":\"saif\",\"age\":24,\"profession\":\"data scientist\"}\n",
    "for i in d:\n",
    "    print(d[i])"
   ]
  },
  {
   "cell_type": "code",
   "execution_count": 11,
   "id": "0bd08872-d304-4bbb-b25d-0210db68fc76",
   "metadata": {},
   "outputs": [
    {
     "name": "stdout",
     "output_type": "stream",
     "text": [
      "{'name': 9, 'age': 17, 'profession': 80}\n"
     ]
    }
   ],
   "source": [
    "d={\"name\":(lambda x:x**2)(3),\"age\":(lambda y:y+10)(7),\"profession\":(lambda z:z*8)(10)}\n",
    "print(d)"
   ]
  },
  {
   "cell_type": "code",
   "execution_count": null,
   "id": "bdb59988-e8e6-44ab-9bea-342bab47f3f4",
   "metadata": {},
   "outputs": [],
   "source": []
  }
 ],
 "metadata": {
  "kernelspec": {
   "display_name": "Python 3 (ipykernel)",
   "language": "python",
   "name": "python3"
  },
  "language_info": {
   "codemirror_mode": {
    "name": "ipython",
    "version": 3
   },
   "file_extension": ".py",
   "mimetype": "text/x-python",
   "name": "python",
   "nbconvert_exporter": "python",
   "pygments_lexer": "ipython3",
   "version": "3.12.4"
  }
 },
 "nbformat": 4,
 "nbformat_minor": 5
}
