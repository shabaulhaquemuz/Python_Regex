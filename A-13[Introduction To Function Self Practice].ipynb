{
 "cells": [
  {
   "cell_type": "code",
   "execution_count": 3,
   "id": "36baaae3-ffe3-4bca-8d4b-6cd92ebfbefd",
   "metadata": {},
   "outputs": [
    {
     "name": "stdout",
     "output_type": "stream",
     "text": [
      "hey welcome\n"
     ]
    }
   ],
   "source": [
    "def greet():\n",
    "    print(\"hey welcome\")\n",
    "greet()"
   ]
  },
  {
   "cell_type": "code",
   "execution_count": 5,
   "id": "36a98cba-6366-45f0-bccf-02b1c509ea08",
   "metadata": {},
   "outputs": [
    {
     "name": "stdout",
     "output_type": "stream",
     "text": [
      "hey welcome\n"
     ]
    }
   ],
   "source": [
    "greet()"
   ]
  },
  {
   "cell_type": "code",
   "execution_count": 7,
   "id": "2020685f-6d4b-478d-a5fa-ec4c26c85a69",
   "metadata": {},
   "outputs": [
    {
     "name": "stdout",
     "output_type": "stream",
     "text": [
      "hey welcome saif\n"
     ]
    }
   ],
   "source": [
    "def greet(z):\n",
    "    print(\"hey welcome\",z)\n",
    "greet(\"saif\")"
   ]
  },
  {
   "cell_type": "code",
   "execution_count": 23,
   "id": "2c333bb3-019b-41d8-80da-8f8f350aff53",
   "metadata": {},
   "outputs": [
    {
     "name": "stdout",
     "output_type": "stream",
     "text": [
      "hey shabaul, how are you?\n"
     ]
    }
   ],
   "source": [
    "def greet(s):\n",
    "    print(f\"hey {s}, how are you?\")\n",
    "greet(\"shabaul\")"
   ]
  },
  {
   "cell_type": "code",
   "execution_count": 31,
   "id": "62d21794-92da-4f1a-a1eb-da669a56a007",
   "metadata": {},
   "outputs": [
    {
     "name": "stdout",
     "output_type": "stream",
     "text": [
      "hello man,i saw you in antarctica !!\n",
      "hello man,i saw you in delhi !!\n"
     ]
    }
   ],
   "source": [
    "def greetings(x):\n",
    "    print(f\"hello man,i saw you in {x} !!\")\n",
    "greetings(\"antarctica\")\n",
    "greetings(\"delhi\")\n"
   ]
  },
  {
   "cell_type": "code",
   "execution_count": 33,
   "id": "86b7ba5b-3b88-4f7d-840d-6b6d6e81ceed",
   "metadata": {},
   "outputs": [
    {
     "name": "stdout",
     "output_type": "stream",
     "text": [
      "hello man,i saw you in mumbai !!\n"
     ]
    }
   ],
   "source": [
    "greetings(\"mumbai\")"
   ]
  },
  {
   "cell_type": "code",
   "execution_count": 45,
   "id": "7f1b51c3-dad8-4c16-9800-4bf1b73eecc2",
   "metadata": {},
   "outputs": [
    {
     "name": "stdout",
     "output_type": "stream",
     "text": [
      "1\n",
      "2\n",
      "3\n",
      "4\n",
      "6\n",
      "12\n"
     ]
    }
   ],
   "source": [
    "def factors(num):\n",
    "    for i in range(1,num+1):\n",
    "        if(num%i==0):\n",
    "            print(i)\n",
    "factors(12)           "
   ]
  },
  {
   "cell_type": "code",
   "execution_count": 43,
   "id": "dd2fd890-f0da-4abc-9bc9-79c4caab977c",
   "metadata": {},
   "outputs": [
    {
     "name": "stdout",
     "output_type": "stream",
     "text": [
      "1\n",
      "2\n",
      "3\n",
      "4\n",
      "6\n",
      "12\n"
     ]
    }
   ],
   "source": [
    "num=12\n",
    "for i in range(1,num+1):\n",
    "    if(num%i==0):\n",
    "        print(i)"
   ]
  },
  {
   "cell_type": "code",
   "execution_count": 59,
   "id": "0c3c0587-5be1-4be2-8d45-5ea1ee1e22bd",
   "metadata": {},
   "outputs": [
    {
     "name": "stdout",
     "output_type": "stream",
     "text": [
      "factors of 16 is 1\n",
      "factors of 16 is 2\n",
      "factors of 16 is 4\n",
      "factors of 16 is 8\n",
      "factors of 16 is 16\n"
     ]
    }
   ],
   "source": [
    "def factors(num):\n",
    "    for i in range(1,num+1):\n",
    "        if(num%i==0):\n",
    "            print(\"factors of\", num , \"is\", i)\n",
    "factors(16)"
   ]
  },
  {
   "cell_type": "code",
   "execution_count": 91,
   "id": "4be34397-b672-428b-8451-8a7a013553b4",
   "metadata": {},
   "outputs": [
    {
     "name": "stdout",
     "output_type": "stream",
     "text": [
      "3\n",
      "armstrong number\n"
     ]
    }
   ],
   "source": [
    "def is_armstrong(num):\n",
    "    count=0\n",
    "    while(num>0):\n",
    "        num=num//10\n",
    "        count+=1\n",
    "    print(count)\n",
    "    sum=0\n",
    "    original=num\n",
    "    while(num>0):\n",
    "        digit=num%10\n",
    "        power_digit=digit**count\n",
    "        sum+=power_digit\n",
    "        num=num//10\n",
    "    if(original==sum):\n",
    "        print(\"armstrong number\")\n",
    "    else:\n",
    "        print(\"not an armstrong number\")\n",
    "is_armstrong(370)"
   ]
  },
  {
   "cell_type": "code",
   "execution_count": 93,
   "id": "f0d4c1b9-b952-45ba-952e-7715d7afa7b2",
   "metadata": {},
   "outputs": [
    {
     "name": "stdout",
     "output_type": "stream",
     "text": [
      "not an armstrong number\n"
     ]
    }
   ],
   "source": [
    "def is_armstrong(num):\n",
    "    count=0\n",
    "    original=num\n",
    "    length = len(str(num))\n",
    "    sum=0\n",
    "    while(num>0):\n",
    "        digit=num%10\n",
    "        power_digit=digit**count\n",
    "        sum+=power_digit\n",
    "        num=num//10\n",
    "    if(original==sum):\n",
    "        print(\"armstrong number\")\n",
    "    else:\n",
    "        print(\"not an armstrong number\")\n",
    "is_armstrong(153)"
   ]
  },
  {
   "cell_type": "code",
   "execution_count": 109,
   "id": "13345b0c-b64e-45dd-9848-d0931fe7641f",
   "metadata": {},
   "outputs": [
    {
     "name": "stdin",
     "output_type": "stream",
     "text": [
      "enter the number: 2\n"
     ]
    },
    {
     "name": "stdout",
     "output_type": "stream",
     "text": [
      "1\n",
      "armstrong number\n"
     ]
    }
   ],
   "source": [
    "\n",
    "count=0\n",
    "num=int(input(\"enter the number:\"))\n",
    "while(num>0):\n",
    "    num=num//10\n",
    "    count+=1\n",
    "print(count)\n",
    "sum=0\n",
    "while(num>0):\n",
    "    digit=num%10\n",
    "    power_digit=digit**count\n",
    "    sum+=power_digit\n",
    "    num=num//10\n",
    "if(original==sum):\n",
    "    print(\"armstrong number\")\n",
    "else:\n",
    "    print(\"not an armstrong number\")\n"
   ]
  },
  {
   "cell_type": "code",
   "execution_count": 113,
   "id": "0fa7b546-2af2-49a2-a91c-c855673812cd",
   "metadata": {},
   "outputs": [
    {
     "name": "stdout",
     "output_type": "stream",
     "text": [
      "total count: 3\n",
      "armstrong number\n"
     ]
    }
   ],
   "source": [
    "def is_armstrong(num):\n",
    "    count=0\n",
    "    while(num>0):\n",
    "        num=num//10\n",
    "        count+=1\n",
    "    print(\"total count:\",count)\n",
    "    sum=0\n",
    "    original=num\n",
    "    while(num>0):\n",
    "        digit=num%10\n",
    "        power_digit=digit**count\n",
    "        sum+=power_digit\n",
    "        num=num//10\n",
    "    if(original==num):\n",
    "        print(\"armstrong number\")\n",
    "    else:\n",
    "        print(\"not an armstrong number\")\n",
    "is_armstrong(153)"
   ]
  },
  {
   "cell_type": "code",
   "execution_count": 115,
   "id": "c2c6ae78-0b82-4eb3-9316-f63c2ccb81f7",
   "metadata": {},
   "outputs": [
    {
     "name": "stdout",
     "output_type": "stream",
     "text": [
      "total count: 1\n",
      "armstrong number\n"
     ]
    }
   ],
   "source": [
    "is_armstrong(1)"
   ]
  },
  {
   "cell_type": "code",
   "execution_count": 117,
   "id": "c8b34827-6cda-4f70-bdde-42bed63c0a7e",
   "metadata": {},
   "outputs": [
    {
     "name": "stdout",
     "output_type": "stream",
     "text": [
      "total count: 3\n",
      "armstrong number\n"
     ]
    }
   ],
   "source": [
    "is_armstrong(370)"
   ]
  },
  {
   "cell_type": "code",
   "execution_count": 119,
   "id": "b52814ff-7237-4911-b3af-e26b82292d48",
   "metadata": {},
   "outputs": [
    {
     "name": "stdout",
     "output_type": "stream",
     "text": [
      "my name is shabaul age is 23 salary is 90000\n"
     ]
    }
   ],
   "source": [
    "#positional argument(position of arguments run according to the position of the parameters )\n",
    "def my_detail(name,age,salary):\n",
    "    print(\"my name is\",name,\"age is\",age,\"salary is\",salary)\n",
    "my_detail(\"shabaul\",23,90000)"
   ]
  },
  {
   "cell_type": "code",
   "execution_count": 121,
   "id": "7bb4c5b4-c2e0-4350-8cd1-c2e6bbcbc5d5",
   "metadata": {},
   "outputs": [
    {
     "name": "stdout",
     "output_type": "stream",
     "text": [
      "my name is saif age is 23 salary is 90000\n"
     ]
    }
   ],
   "source": [
    "#keyword arguments(position of the arguments do not depend on the position of the keywords )\n",
    "def my_details(name,age,salary):\n",
    "    print(\"my name is\",name,\"age is\",age,\"salary is\",salary)\n",
    "my_details(name=\"saif\",age=23,salary=90000)"
   ]
  },
  {
   "cell_type": "code",
   "execution_count": 123,
   "id": "274bab00-f20e-46fa-9a1b-e51b83647dcd",
   "metadata": {},
   "outputs": [
    {
     "name": "stdout",
     "output_type": "stream",
     "text": [
      "my name is shabaul haque age is 23 salary is 90000\n"
     ]
    }
   ],
   "source": [
    "def my_info(name,age,salary):\n",
    "    print(\"my name is\",name,\"age is\",age,\"salary is\",salary)\n",
    "my_info(age=23,salary=90000,name=\"shabaul haque\")\n"
   ]
  },
  {
   "cell_type": "code",
   "execution_count": 125,
   "id": "5f5d5bd5-260d-49a8-a330-2bf52a782f17",
   "metadata": {},
   "outputs": [
    {
     "name": "stdout",
     "output_type": "stream",
     "text": [
      "my name is  shabaul haque i am unmarried i ride pulsar 220\n"
     ]
    }
   ],
   "source": [
    "#combination of positional and keyword arguments\n",
    "def my_information(name,marital_status,bike):\n",
    "    print(\"my name is \",name,\"i am\",marital_status,\"i ride\",bike)\n",
    "my_information(\"shabaul haque\",\"unmarried\",bike=\"pulsar 220\")"
   ]
  },
  {
   "cell_type": "code",
   "execution_count": 129,
   "id": "0d6c0dc7-3b80-4868-821d-ce2acf3be2e7",
   "metadata": {},
   "outputs": [
    {
     "name": "stdout",
     "output_type": "stream",
     "text": [
      "my name is  shabaul haque i am unmarried i ride pulsar 220\n"
     ]
    }
   ],
   "source": [
    "def my_information(name,marital_status,bike):\n",
    "    print(\"my name is \",name,\"i am\",marital_status,\"i ride\",bike)\n",
    "my_information(\"shabaul haque\",marital_status=\"unmarried\",bike=\"pulsar 220\")"
   ]
  },
  {
   "cell_type": "code",
   "execution_count": 135,
   "id": "efa9d14a-d84b-4365-b323-489339f0e4f6",
   "metadata": {},
   "outputs": [
    {
     "ename": "SyntaxError",
     "evalue": "positional argument follows keyword argument (2849312007.py, line 6)",
     "output_type": "error",
     "traceback": [
      "\u001b[1;36m  Cell \u001b[1;32mIn[135], line 6\u001b[1;36m\u001b[0m\n\u001b[1;33m    my_information(\"shabaul haque\",marital_status=\"unmarried\",\"pulsar 220\")\u001b[0m\n\u001b[1;37m                                                                          ^\u001b[0m\n\u001b[1;31mSyntaxError\u001b[0m\u001b[1;31m:\u001b[0m positional argument follows keyword argument\n"
     ]
    }
   ],
   "source": [
    "#while using both positional and keyword arguments, positional argument must be written before any keyword arguments.\n",
    "#if you once written keyword argument, positional argument further will give error\n",
    "#you can only use positional argument before keyword argument\n",
    "def my_information(name,marital_status,bike):\n",
    "    print(\"my name is \",name,\"i am\",marital_status,\"i ride\",bike)\n",
    "my_information(\"shabaul haque\",marital_status=\"unmarried\",\"pulsar 220\")"
   ]
  },
  {
   "cell_type": "code",
   "execution_count": 137,
   "id": "031144ee-a23c-418c-abff-ee9f732647c4",
   "metadata": {},
   "outputs": [
    {
     "name": "stdout",
     "output_type": "stream",
     "text": [
      "name is  shabaul age is 21 sex is male\n"
     ]
    }
   ],
   "source": [
    "# Default Parameter:\tRefers to the variable in the function header that has a default value,\tsalary=90000\n",
    "# Default Argument: \tRefers to the value assigned to the parameter,\t90000\n",
    "def default(name,age=21,sex=\"male\"):\n",
    "    print(\"name is \",name,\"age is\",age,\"sex is\",sex)\n",
    "default(\"shabaul\")"
   ]
  },
  {
   "cell_type": "code",
   "execution_count": 139,
   "id": "13f9d8e7-28e5-48cf-8c47-5c73bb7530d4",
   "metadata": {},
   "outputs": [
    {
     "name": "stdout",
     "output_type": "stream",
     "text": [
      "name is  shabaul sex is male age is 21\n"
     ]
    }
   ],
   "source": [
    "def default(name,age=21,sex=\"male\"):\n",
    "    print(\"name is \",name,\"sex is\",sex,\"age is\",age)\n",
    "default(\"shabaul\")"
   ]
  },
  {
   "cell_type": "code",
   "execution_count": 147,
   "id": "44b2bad3-b48a-4f85-9822-70cc0c081b11",
   "metadata": {},
   "outputs": [
    {
     "name": "stdout",
     "output_type": "stream",
     "text": [
      "name is  shabaul age is 21 sex is male\n"
     ]
    }
   ],
   "source": [
    "def default(name,age=21,sex=\"male\"):\n",
    "    print(\"name is \",name,\"age is\",age,\"sex is\",sex)\n",
    "default(\"shabaul\",age=21,sex=\"male\")"
   ]
  },
  {
   "cell_type": "code",
   "execution_count": 151,
   "id": "ff09fd5e-eb10-4805-a9dc-a2e118ed0903",
   "metadata": {},
   "outputs": [
    {
     "name": "stdout",
     "output_type": "stream",
     "text": [
      "name is  saif age is 21 sex is male\n"
     ]
    }
   ],
   "source": [
    "def default(name=\"saif\",age=21,sex=\"male\"):\n",
    "    print(\"name is \",name,\"age is\",age,\"sex is\",sex)\n",
    "default()"
   ]
  },
  {
   "cell_type": "code",
   "execution_count": 153,
   "id": "165a4d61-39c3-4c16-b2e2-385f6f865098",
   "metadata": {},
   "outputs": [],
   "source": [
    "# return:\n",
    "# Sends a value back to the caller of the function from  the function\n",
    "# Ends the function's execution immediately.\n",
    "# You can store the returned value or use it later in your code.\n",
    "\n",
    "\n",
    "# print:\n",
    "# Just displays the output to the screen (console).\n",
    "# Does not send any value back to the caller.\n",
    "# Mainly used for debugging or user messages."
   ]
  },
  {
   "cell_type": "code",
   "execution_count": 157,
   "id": "af3caac9-e585-4337-b98a-3768120c0d5d",
   "metadata": {},
   "outputs": [
    {
     "name": "stdout",
     "output_type": "stream",
     "text": [
      "20\n"
     ]
    }
   ],
   "source": [
    "#print just displays the output but does not save it\n",
    "def fun(x):\n",
    "    print(x+10)\n",
    "fun(10)"
   ]
  },
  {
   "cell_type": "code",
   "execution_count": 173,
   "id": "e42426b1-df40-4409-9ae3-f50c3f0fed67",
   "metadata": {},
   "outputs": [
    {
     "name": "stdout",
     "output_type": "stream",
     "text": [
      "20\n"
     ]
    }
   ],
   "source": [
    "#if you have used print() and has assigned a variable to call the function, it will show the output\n",
    "def func(x):\n",
    "    print(x+10)\n",
    "a=func(10)"
   ]
  },
  {
   "cell_type": "code",
   "execution_count": 165,
   "id": "59e68a3f-70a3-47b7-9004-cd42177b797b",
   "metadata": {},
   "outputs": [
    {
     "name": "stdout",
     "output_type": "stream",
     "text": [
      "35\n",
      "value returned by print: None\n"
     ]
    }
   ],
   "source": [
    "def function(x):\n",
    "    print(x+20)\n",
    "x=function(15)\n",
    "print(\"value returned by print:\",x)"
   ]
  },
  {
   "cell_type": "code",
   "execution_count": 167,
   "id": "49daa67b-a41b-433c-a4dd-af8325430faf",
   "metadata": {},
   "outputs": [
    {
     "data": {
      "text/plain": [
       "50"
      ]
     },
     "execution_count": 167,
     "metadata": {},
     "output_type": "execute_result"
    }
   ],
   "source": [
    "def fun(z):\n",
    "    return z*5\n",
    "fun(10)\n"
   ]
  },
  {
   "cell_type": "code",
   "execution_count": 181,
   "id": "8cc35a27-6f8d-4151-a078-354c5a226cfe",
   "metadata": {},
   "outputs": [
    {
     "name": "stdout",
     "output_type": "stream",
     "text": [
      "72\n"
     ]
    }
   ],
   "source": [
    "#if you have used return and has assigned a variable to call the function, it will not show the output,you have to print the variable to get the output\n",
    "def fun(c):\n",
    "    return c*9\n",
    "x=fun(8)\n",
    "print(x)"
   ]
  },
  {
   "cell_type": "code",
   "execution_count": 183,
   "id": "391fda31-f067-4252-86fc-3a6a51d4d735",
   "metadata": {},
   "outputs": [
    {
     "name": "stdout",
     "output_type": "stream",
     "text": [
      "15\n"
     ]
    }
   ],
   "source": [
    "#create a function to find the sum of square of natural numbers upto n\n",
    "def square_natural(n):\n",
    "    sum=0\n",
    "    for i in range(1,n+1):\n",
    "        sum+=i\n",
    "    print(sum)\n",
    "square_natural(5)"
   ]
  },
  {
   "cell_type": "code",
   "execution_count": 185,
   "id": "c5417844-4a92-43d4-b4d7-8ec5a12ed19c",
   "metadata": {},
   "outputs": [
    {
     "name": "stdout",
     "output_type": "stream",
     "text": [
      "15\n"
     ]
    }
   ],
   "source": [
    "#using while loop\n",
    "def square(n):\n",
    "    sum=0\n",
    "    i=1\n",
    "    while(i<=n):\n",
    "        sum+=i\n",
    "        i+=1\n",
    "    print(sum)\n",
    "square(5)"
   ]
  },
  {
   "cell_type": "code",
   "execution_count": 187,
   "id": "99cda18f-d7f4-41c2-8156-75096ccf67f4",
   "metadata": {},
   "outputs": [
    {
     "name": "stdout",
     "output_type": "stream",
     "text": [
      "sum of digits is: 10\n"
     ]
    }
   ],
   "source": [
    "#write a function to find the sum of digits of a number\n",
    "def sum_digits(num):\n",
    "    sum=0\n",
    "    while(num>0):\n",
    "        digit=num%10\n",
    "        sum+=digit\n",
    "        num=num//10\n",
    "    print(\"sum of digits is:\",sum)\n",
    "sum_digits(1234)\n",
    "    \n",
    "    "
   ]
  },
  {
   "cell_type": "code",
   "execution_count": 189,
   "id": "724c21e9-0ba1-41ae-bdff-13d7bff984e6",
   "metadata": {},
   "outputs": [
    {
     "name": "stdout",
     "output_type": "stream",
     "text": [
      "odd\n"
     ]
    }
   ],
   "source": [
    "#create a function to check if a number is odd or even\n",
    "def oddeve(num):\n",
    "    if(num%2==0):\n",
    "        print(\"even\")\n",
    "    else:\n",
    "        print(\"odd\")\n",
    "oddeve(1)"
   ]
  },
  {
   "cell_type": "code",
   "execution_count": 193,
   "id": "be20bfef-9dc0-4136-9e93-b4d761b07645",
   "metadata": {},
   "outputs": [
    {
     "name": "stdout",
     "output_type": "stream",
     "text": [
      "even\n"
     ]
    }
   ],
   "source": [
    "def oddeve(num):\n",
    "    if(num%2==0):\n",
    "        print(\"even\")\n",
    "    else:\n",
    "        print(\"odd\")\n",
    "oddeve(10)"
   ]
  },
  {
   "cell_type": "code",
   "execution_count": 195,
   "id": "f157df1f-9d1b-4ec3-84b3-c5bc235bb717",
   "metadata": {},
   "outputs": [
    {
     "data": {
      "text/plain": [
       "30"
      ]
     },
     "execution_count": 195,
     "metadata": {},
     "output_type": "execute_result"
    }
   ],
   "source": [
    "#add two numbers using function\n",
    "def add_two(a,b):\n",
    "    return a+b\n",
    "add_two(10,20)"
   ]
  },
  {
   "cell_type": "code",
   "execution_count": 199,
   "id": "250729d2-e6ed-4158-85bf-a686f00ccd1c",
   "metadata": {},
   "outputs": [
    {
     "name": "stdout",
     "output_type": "stream",
     "text": [
      "30\n"
     ]
    }
   ],
   "source": [
    "def add_two(a,b):\n",
    "    return a+b\n",
    "x=add_two(10,20)\n",
    "print(x)"
   ]
  },
  {
   "cell_type": "code",
   "execution_count": 201,
   "id": "a3b86af5-dcb3-4e60-b75f-338a545f986d",
   "metadata": {},
   "outputs": [
    {
     "name": "stdout",
     "output_type": "stream",
     "text": [
      "30\n"
     ]
    }
   ],
   "source": [
    "def add_two(a,b):\n",
    "    print(a+b)\n",
    "add_two(10,20)"
   ]
  },
  {
   "cell_type": "code",
   "execution_count": 203,
   "id": "24fc513b-6111-4c25-9b28-746b4ee25e55",
   "metadata": {},
   "outputs": [
    {
     "name": "stdout",
     "output_type": "stream",
     "text": [
      "30\n"
     ]
    }
   ],
   "source": [
    "def add_two(a,b):\n",
    "    print(a+b)\n",
    "q=add_two(10,20)"
   ]
  },
  {
   "cell_type": "code",
   "execution_count": 205,
   "id": "371da89b-086f-43ce-bfd8-00745e0448af",
   "metadata": {},
   "outputs": [
    {
     "name": "stdout",
     "output_type": "stream",
     "text": [
      "30\n",
      "None\n"
     ]
    }
   ],
   "source": [
    "def add_two(a,b):\n",
    "    print(a+b)\n",
    "q=add_two(10,20)\n",
    "print(q)"
   ]
  },
  {
   "cell_type": "code",
   "execution_count": 211,
   "id": "ffc8fdd7-58fc-4c5c-bf7d-7cd01662a485",
   "metadata": {},
   "outputs": [
    {
     "ename": "SyntaxError",
     "evalue": "duplicate argument 'a' in function definition (3390111002.py, line 2)",
     "output_type": "error",
     "traceback": [
      "\u001b[1;36m  Cell \u001b[1;32mIn[211], line 2\u001b[1;36m\u001b[0m\n\u001b[1;33m    def add_two_same_number(a,a):\u001b[0m\n\u001b[1;37m                              ^\u001b[0m\n\u001b[1;31mSyntaxError\u001b[0m\u001b[1;31m:\u001b[0m duplicate argument 'a' in function definition\n"
     ]
    }
   ],
   "source": [
    "#duplicate parameter is not valid\n",
    "def add_two_same_number(a,a):\n",
    "    return a+a\n",
    "add_two_same_number(10,20)"
   ]
  },
  {
   "cell_type": "code",
   "execution_count": null,
   "id": "36f10898-b1a9-4732-adc1-81b2c0a17612",
   "metadata": {},
   "outputs": [],
   "source": []
  }
 ],
 "metadata": {
  "kernelspec": {
   "display_name": "Python 3 (ipykernel)",
   "language": "python",
   "name": "python3"
  },
  "language_info": {
   "codemirror_mode": {
    "name": "ipython",
    "version": 3
   },
   "file_extension": ".py",
   "mimetype": "text/x-python",
   "name": "python",
   "nbconvert_exporter": "python",
   "pygments_lexer": "ipython3",
   "version": "3.12.4"
  }
 },
 "nbformat": 4,
 "nbformat_minor": 5
}
