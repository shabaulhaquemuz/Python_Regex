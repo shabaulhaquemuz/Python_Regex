{
 "cells": [
  {
   "cell_type": "code",
   "execution_count": 3,
   "id": "90f77f9f-25e7-497d-b241-8b34a070e01c",
   "metadata": {},
   "outputs": [
    {
     "name": "stdout",
     "output_type": "stream",
     "text": [
      "99\n"
     ]
    }
   ],
   "source": [
    "# 1. Write a Python program to find the maximum element in a list of numbers without\n",
    "# max functions\n",
    "# numbers = [10, 20, 4, 45, 99]\n",
    "# The maximum element is: 99\n",
    "numbers = [10, 20, 4, 45, 99]\n",
    "max=numbers[0]\n",
    "for i in range(len(numbers)):\n",
    "    if(numbers[i]>max):\n",
    "        max=numbers[i]\n",
    "print(max)"
   ]
  },
  {
   "cell_type": "code",
   "execution_count": 11,
   "id": "602863a7-82c6-4b57-815a-556ab83ae058",
   "metadata": {},
   "outputs": [
    {
     "name": "stdout",
     "output_type": "stream",
     "text": [
      "100\n"
     ]
    }
   ],
   "source": [
    "# 2. Write a Python program to sum all the elements in a list of numbers.\n",
    "# a. numbers = [10, 20, 30, 40]\n",
    "# b. The sum of all elements is: 100\n",
    "number = [10, 20, 30, 40]\n",
    "sum=0\n",
    "for i in range(0,4):\n",
    "    sum+=number[i]\n",
    "print(sum)"
   ]
  },
  {
   "cell_type": "code",
   "execution_count": 13,
   "id": "8821f217-d4cd-49e1-9452-36fa6bd8d4a3",
   "metadata": {},
   "outputs": [
    {
     "name": "stdout",
     "output_type": "stream",
     "text": [
      "100\n"
     ]
    }
   ],
   "source": [
    "number1 = [10, 20, 30, 40]\n",
    "sum=0\n",
    "for i in range(len(number1)):\n",
    "    sum+=number1[i]\n",
    "print(sum)"
   ]
  },
  {
   "cell_type": "code",
   "execution_count": 15,
   "id": "7dab4a3b-ca70-473e-9c5d-16c725c7a3da",
   "metadata": {},
   "outputs": [
    {
     "name": "stdout",
     "output_type": "stream",
     "text": [
      "[5, 4, 3, 2, 1]\n"
     ]
    }
   ],
   "source": [
    "# 3. Write a Python program to reverse a list without reverse or slicing operator\n",
    "# a. numbers = [1, 2, 3, 4, 5]\n",
    "# b. Reversed list: [5, 4, 3, 2, 1]\n",
    "numbers1 = [1, 2, 3, 4, 5]\n",
    "reverse=[]\n",
    "for i in range(len(numbers1)):\n",
    "    x=numbers1.pop()\n",
    "    reverse.append(x)\n",
    "print(reverse)"
   ]
  },
  {
   "cell_type": "code",
   "execution_count": 7,
   "id": "7b7225ae-4244-4e77-9b19-38e01aca7b61",
   "metadata": {},
   "outputs": [
    {
     "name": "stdout",
     "output_type": "stream",
     "text": [
      "[5, 4, 3, 2, 1]\n"
     ]
    }
   ],
   "source": [
    "numbers2 = [1, 2, 3, 4, 5]\n",
    "start=0\n",
    "end=len(numbers2)-1\n",
    "for i in range(len(numbers2)//2):\n",
    "    numbers2[start],numbers2[end]=numbers2[end],numbers2[start]\n",
    "    start+=1\n",
    "    end-=1\n",
    "print(numbers2)"
   ]
  },
  {
   "cell_type": "code",
   "execution_count": 13,
   "id": "728d4549-bf01-45bd-88ed-2875348f9421",
   "metadata": {},
   "outputs": [
    {
     "name": "stdout",
     "output_type": "stream",
     "text": [
      "[6, 5, 4, 3, 2, 1]\n"
     ]
    }
   ],
   "source": [
    "numbers2 = [1, 2, 3, 4, 5,6]\n",
    "start=0\n",
    "end=len(numbers2)-1\n",
    "while(start<end):\n",
    "    numbers2[start],numbers2[end]=numbers2[end],numbers2[start]\n",
    "    start+=1\n",
    "    end-=1\n",
    "print(numbers2)"
   ]
  },
  {
   "cell_type": "code",
   "execution_count": 19,
   "id": "4ae1b9f3-8e49-4727-9ef8-278c973a36e4",
   "metadata": {},
   "outputs": [
    {
     "name": "stdout",
     "output_type": "stream",
     "text": [
      "[1, 3, 6, 10, 20, 42, 51]\n"
     ]
    }
   ],
   "source": [
    "#4. Write a Python program to sort a list in ascending order without sort functions\n",
    "numbers2 = [10,1, 20, 3, 42, 51,6]\n",
    "for i in range(len(numbers2)):\n",
    "    for j in range(i+1,len(numbers2)):\n",
    "        if(numbers2[i]>numbers2[j]):\n",
    "            numbers2[i],numbers2[j]=numbers2[j],numbers2[i]\n",
    "print(numbers2)    \n",
    "#i have used a basic selection sort or bubble-sort-like approach to sort the list in ascending order"
   ]
  },
  {
   "cell_type": "code",
   "execution_count": 21,
   "id": "e5423271-ba4a-4369-80f5-0064e7d32e5f",
   "metadata": {},
   "outputs": [
    {
     "name": "stdout",
     "output_type": "stream",
     "text": [
      "[555, 500, 76, 44, 43, 34, 34, 32, 2]\n"
     ]
    }
   ],
   "source": [
    "#Write a Python program to sort a list in descending order without sort functions\n",
    "list=[43,2,34,32,34,76,555,44,500]\n",
    "for i in range(len(list)):\n",
    "    for j in range(i+1,len(list)):\n",
    "        if(list[i]<list[j]):\n",
    "            list[i],list[j]=list[j],list[i]\n",
    "print(list)"
   ]
  },
  {
   "cell_type": "code",
   "execution_count": 27,
   "id": "fe864e8c-a27d-418f-8c16-db4e985bb14f",
   "metadata": {},
   "outputs": [
    {
     "name": "stdout",
     "output_type": "stream",
     "text": [
      "[1, 2, 3, 4, 5]\n",
      "[2, 4]\n"
     ]
    }
   ],
   "source": [
    "# 5. Write a Python program to remove duplicates from a list while maintaining the order of elements.\n",
    "# a. numbers = [1, 2, 2, 3, 4, 4, 5]\n",
    "# b. List after removing duplicates: [1, 2, 3, 4, 5]\n",
    "numbers3 = [1, 2, 2, 3, 4, 4, 5]\n",
    "newlist1=[]\n",
    "duplicate=[]\n",
    "for i in range(len(numbers3)):\n",
    "        if(numbers3[i] not in newlist1):\n",
    "            newlist1.append(numbers3[i])\n",
    "        else:\n",
    "            duplicate.append(numbers3[i])\n",
    "print(newlist1)\n",
    "print(duplicate)"
   ]
  },
  {
   "cell_type": "code",
   "execution_count": 31,
   "id": "4c1b7f7a-7864-4ab0-9539-0b49ee7f15f9",
   "metadata": {},
   "outputs": [
    {
     "name": "stdout",
     "output_type": "stream",
     "text": [
      "[1, 2, 3, 4, 5]\n"
     ]
    }
   ],
   "source": [
    "list = [1, 2, 2, 3, 4, 4, 5]\n",
    "i = 0\n",
    "while (i < len(list)):\n",
    "    if (list.index(list[i]) != i):\n",
    "        list.pop(i)\n",
    "    else:\n",
    "        i += 1\n",
    "print(list)\n"
   ]
  },
  {
   "cell_type": "code",
   "execution_count": 33,
   "id": "a5c51f47-93b2-43be-a2b3-57dcec0130e6",
   "metadata": {},
   "outputs": [
    {
     "name": "stdout",
     "output_type": "stream",
     "text": [
      "1 5\n",
      "2 4\n",
      "3 3\n"
     ]
    }
   ],
   "source": [
    "# 6. Write a Python program to find all pairs of numbers in a list that add up to a specific target sum.\n",
    "# a. numbers = [1, 2, 3, 4, 3, 5, 6] target_sum = 6\n",
    "# b. Pairs that add up to 6: [(3, 3), (2, 4), (1, 5)]\n",
    "numbers4 = [1, 2, 3, 4, 3, 5, 6]\n",
    "for i in range(len(numbers4)):\n",
    "    for j in range(i+1,len(numbers4)):\n",
    "        if(numbers4[i]+numbers4[j]==6):\n",
    "            print(numbers4[i],numbers4[j])"
   ]
  },
  {
   "cell_type": "code",
   "execution_count": 9,
   "id": "8b9c3bbe-c2a2-487e-99bb-dff9e4ee5661",
   "metadata": {},
   "outputs": [
    {
     "name": "stdout",
     "output_type": "stream",
     "text": [
      "[1, 2, 3, 4, 5, 6, 7, 8]\n"
     ]
    }
   ],
   "source": [
    "# 7. Write a Python program to flatten a nested list (list within lists) into a single list.\n",
    "# a. nested_list = [1, [2, 3], [4, [5, 6], 7], 8]\n",
    "# b. Flattened list: [1, 2, 3, 4, 5, 6, 7, 8]\n",
    "nested_list = [1, [2, 3], [4, [5, 6], 7], 8]\n",
    "new=[]\n",
    "for i in range(len(nested_list)):\n",
    "    if(type(nested_list[i])==list):\n",
    "        new.extend(nested_list[i])\n",
    "    else:\n",
    "        new.append(nested_list[i])\n",
    "flattened_list=[]\n",
    "for i in range(len(new)):\n",
    "    if(type(new[i])==list):\n",
    "        flattened_list.extend(new[i])\n",
    "    else:\n",
    "        flattened_list.append(new[i])\n",
    "print(flattened_list)\n",
    "    "
   ]
  },
  {
   "cell_type": "code",
   "execution_count": 7,
   "id": "a27bc4f7-5191-47a0-9e64-f10de0d623c7",
   "metadata": {},
   "outputs": [
    {
     "name": "stdout",
     "output_type": "stream",
     "text": [
      "max: 5\n",
      "min: 1\n",
      "9\n"
     ]
    }
   ],
   "source": [
    "# 8. Write a Python program to find the sum of the elements in a list, excluding the largest and smallest element. Don’t use max or min functions\n",
    "# a. numbers = [1, 2, 3, 4, 5]\n",
    "# b. Sum excluding the largest and smallest element: 9\n",
    "numbers5 = [1, 2, 3, 4, 5]\n",
    "max=0\n",
    "min=numbers5[0]\n",
    "sum=0\n",
    "for i in range(len(numbers5)):\n",
    "    if(numbers5[i]>max):\n",
    "        max=numbers5[i]\n",
    "for i in range(len(numbers5)):\n",
    "    if(numbers5[i]<min):\n",
    "        min=numbers5[i]\n",
    "for i in range(len(numbers5)):\n",
    "    if(numbers5[i]!=max and numbers5[i]!=min):\n",
    "        sum+=numbers5[i]\n",
    "print(\"max:\",max)\n",
    "print(\"min:\",min)\n",
    "print(sum)"
   ]
  },
  {
   "cell_type": "code",
   "execution_count": 17,
   "id": "8f996d06-b3c4-4384-8d03-6308b603fe42",
   "metadata": {},
   "outputs": [
    {
     "name": "stdout",
     "output_type": "stream",
     "text": [
      "palindrome\n"
     ]
    }
   ],
   "source": [
    "# 9. Write a Python program to check if a list is a palindrome (reads the same backward as forward) using two pointer approach\n",
    "# a. numbers = [1, 2, 3, 2, 1]\n",
    "# b. True\n",
    "numbers6=[1,2,3,2,1]\n",
    "start=0\n",
    "end=len(numbers6)-1\n",
    "count=0\n",
    "for i in range(len(numbers6)//2):\n",
    "    if(numbers6[start]!=numbers6[end]):\n",
    "        count=1\n",
    "        break\n",
    "    start+=1\n",
    "    end-=1\n",
    "    \n",
    "if(count==0):       \n",
    "    print(\"palindrome\")\n",
    "else:\n",
    "    print(\"non-palindrome\")\n",
    "        "
   ]
  },
  {
   "cell_type": "code",
   "execution_count": 19,
   "id": "1622d548-a4cf-4f16-9e86-8ff09a6974ce",
   "metadata": {},
   "outputs": [
    {
     "name": "stdout",
     "output_type": "stream",
     "text": [
      "new list: [1, 2, 3, 4, 5, 6]\n",
      "duplicate list: [2, 1]\n"
     ]
    }
   ],
   "source": [
    "# 10. Write a function to remove duplicate elements from a list.\n",
    "# a. numbers = [1, 2, 3, 2, 4, 5, 1, 6]\n",
    "# b. [1, 2, 3, 4, 5, 6]\n",
    "numbers7 = [1, 2, 3, 2, 4, 5, 1, 6]\n",
    "new2=[]\n",
    "duplicate2=[]\n",
    "for i in range(len(numbers7)):\n",
    "    if(numbers7[i] not in new2):\n",
    "        new2.append(numbers7[i])\n",
    "    else:\n",
    "        duplicate2.append(numbers7[i])\n",
    "print(\"new list:\",new2)\n",
    "print(\"duplicate list:\",duplicate2)"
   ]
  },
  {
   "cell_type": "code",
   "execution_count": 37,
   "id": "ba343da5-15cc-48ab-8e3a-772fef24d9f7",
   "metadata": {},
   "outputs": [
    {
     "name": "stdout",
     "output_type": "stream",
     "text": [
      "[3, 4, 5]\n"
     ]
    }
   ],
   "source": [
    "# 11. Find Common Elements in Two Lists\n",
    "# a. list1 = [1, 2, 3, 4, 5]\n",
    "# b. list2 = [3, 4, 5, 6, 7]\n",
    "# c. Result: [3, 4, 5]\n",
    "lista = [1, 2, 3, 4, 5]\n",
    "listb = [3, 4, 5, 6, 7]\n",
    "result=[]\n",
    "for i in range(len(lista)):\n",
    "    for j in range(len(listb)):\n",
    "        if(lista[i]==listb[j]):\n",
    "            result.append(lista[i])\n",
    "print(result)"
   ]
  },
  {
   "cell_type": "code",
   "execution_count": 39,
   "id": "fa6265f0-11cb-4ce7-8b56-25100f52d428",
   "metadata": {},
   "outputs": [
    {
     "name": "stdout",
     "output_type": "stream",
     "text": [
      "[3, 4, 5]\n"
     ]
    }
   ],
   "source": [
    "listx = [1, 2, 3, 4, 5]\n",
    "listy = [3, 4, 5, 6, 7]\n",
    "result1=[]\n",
    "for element in listx:\n",
    "    if(element in listy):\n",
    "        result1.append(element)\n",
    "print(result)"
   ]
  },
  {
   "cell_type": "code",
   "execution_count": 41,
   "id": "370fb1b8-6245-406f-a2ea-7b9a0c28abcb",
   "metadata": {},
   "outputs": [
    {
     "name": "stdout",
     "output_type": "stream",
     "text": [
      "[3, 4, 5]\n"
     ]
    }
   ],
   "source": [
    "listz = [1, 2, 3, 4, 5]\n",
    "listp = [3, 4, 5, 6, 7]\n",
    "result2=[]\n",
    "for i in range(len(listz)):\n",
    "    if(listz[i] in listp):\n",
    "        result2.append(listz[i])\n",
    "print(result)"
   ]
  },
  {
   "cell_type": "code",
   "execution_count": 1,
   "id": "ad81368d-b485-48ad-af51-6b756a1fc8c8",
   "metadata": {},
   "outputs": [
    {
     "name": "stdout",
     "output_type": "stream",
     "text": [
      "IndianBlackBerry\n"
     ]
    }
   ],
   "source": [
    "# 12. Find the Longest Word in a List\n",
    "# a. words = [\"apple\", \"banana\", \"strawberry\", \"kiwi\"]\n",
    "# b. Strawberry\n",
    "words = [\"apple\", \"banana\", \"strawberry\", \"kiwi\",\"IndianBlackBerry\"]\n",
    "maxlen=words[0]\n",
    "for i in range(len(words)):\n",
    "    for j in range(len(words)):\n",
    "        if(len(words[i])>len(maxlen)):\n",
    "            maxlen=(words[i])\n",
    "print(maxlen)\n",
    "            "
   ]
  },
  {
   "cell_type": "code",
   "execution_count": 3,
   "id": "cf83f3f4-dbe3-4ae1-b3c0-64b03438d796",
   "metadata": {},
   "outputs": [
    {
     "name": "stdout",
     "output_type": "stream",
     "text": [
      "IndianBlackBerry\n"
     ]
    }
   ],
   "source": [
    "# 12. Find the Longest Word in a List\n",
    "# a. words = [\"apple\", \"banana\", \"strawberry\", \"kiwi\"]\n",
    "# b. Strawberry\n",
    "words1 = [\"apple\", \"banana\", \"strawberry\", \"kiwi\",\"IndianBlackBerry\"]\n",
    "maxlen=words1[0]\n",
    "for i in range(len(words1)):\n",
    "    for j in range(len(words1)):\n",
    "        if(len(words1[i])>len(maxlen)):\n",
    "            maxlen=(words1[i])\n",
    "print(maxlen)\n",
    "            "
   ]
  },
  {
   "cell_type": "code",
   "execution_count": 5,
   "id": "05ca30ce-fa9d-44d4-a9e6-1c84fc8ae403",
   "metadata": {},
   "outputs": [
    {
     "name": "stdout",
     "output_type": "stream",
     "text": [
      "IndianBlackBerry\n"
     ]
    }
   ],
   "source": [
    "# 12. Find the Longest Word in a List\n",
    "# a. words = [\"apple\", \"banana\", \"strawberry\", \"kiwi\"]\n",
    "# b. Strawberry\n",
    "words = [\"apple\", \"banana\", \"strawberry\", \"kiwi\",\"IndianBlackBerry\"]\n",
    "maxlen=words[0]\n",
    "for i in range(1,len(words)):\n",
    "        if(len(words[i])>len(maxlen)):\n",
    "            maxlen=(words[i])\n",
    "print(maxlen)\n",
    "            "
   ]
  },
  {
   "cell_type": "code",
   "execution_count": null,
   "id": "2813fa19-3722-40e6-8fe8-8fe0c1ec979a",
   "metadata": {},
   "outputs": [],
   "source": []
  }
 ],
 "metadata": {
  "kernelspec": {
   "display_name": "Python 3 (ipykernel)",
   "language": "python",
   "name": "python3"
  },
  "language_info": {
   "codemirror_mode": {
    "name": "ipython",
    "version": 3
   },
   "file_extension": ".py",
   "mimetype": "text/x-python",
   "name": "python",
   "nbconvert_exporter": "python",
   "pygments_lexer": "ipython3",
   "version": "3.12.4"
  }
 },
 "nbformat": 4,
 "nbformat_minor": 5
}
