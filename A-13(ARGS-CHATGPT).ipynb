{
 "cells": [
  {
   "cell_type": "code",
   "execution_count": 3,
   "id": "9c0d01f4-797d-47d4-b0ea-21e0f2f993f2",
   "metadata": {},
   "outputs": [
    {
     "name": "stdout",
     "output_type": "stream",
     "text": [
      "(4, 5)\n"
     ]
    }
   ],
   "source": [
    "def func(*args):\n",
    "    print(args)\n",
    "func(4,5)"
   ]
  },
  {
   "cell_type": "code",
   "execution_count": 5,
   "id": "69349319-2415-4f2a-986c-77bb9afa4048",
   "metadata": {},
   "outputs": [
    {
     "name": "stdout",
     "output_type": "stream",
     "text": [
      "4 6\n"
     ]
    }
   ],
   "source": [
    "def fun(*args):\n",
    "    return args\n",
    "print(4,6)"
   ]
  },
  {
   "cell_type": "code",
   "execution_count": 7,
   "id": "ae1557d2-e024-4529-b06a-9a761c91f97b",
   "metadata": {},
   "outputs": [
    {
     "name": "stdout",
     "output_type": "stream",
     "text": [
      "{'name': 'shabaul', 'age': 21, 'college': \"st.xavier's\"}\n"
     ]
    }
   ],
   "source": [
    "def fun1(**kwargs):\n",
    "    print(kwargs)\n",
    "fun1(name=\"shabaul\",age=21,college=\"st.xavier's\")"
   ]
  },
  {
   "cell_type": "code",
   "execution_count": 11,
   "id": "39db9543-e97a-4f5c-b65c-81ffc117db79",
   "metadata": {},
   "outputs": [
    {
     "name": "stdout",
     "output_type": "stream",
     "text": [
      "{'name': 'shabaul', 'age': 21, 'college': \"st.xavier's\"}\n",
      "name is: shabaul\n",
      "age is: 21\n",
      "college is: st.xavier's\n"
     ]
    }
   ],
   "source": [
    "def fun2(**kwargs):\n",
    "    print(kwargs)\n",
    "    print(\"name is:\",kwargs[\"name\"])\n",
    "    print(\"age is:\",kwargs[\"age\"])\n",
    "    print(\"college is:\",kwargs[\"college\"])\n",
    "fun2(name=\"shabaul\",age=21,college=\"st.xavier's\")"
   ]
  },
  {
   "cell_type": "code",
   "execution_count": 15,
   "id": "01d264ff-421b-40dc-a2c4-3ef59db7d916",
   "metadata": {},
   "outputs": [
    {
     "name": "stdout",
     "output_type": "stream",
     "text": [
      "(2, 3, 4, 5)\n"
     ]
    }
   ],
   "source": [
    "# 🔹 Q1: Basic Understanding\n",
    "# Write a function that accepts any number of positional arguments and prints them one by one.\n",
    "def func(*args):\n",
    "    print(args)\n",
    "func(2,3,4,5)"
   ]
  },
  {
   "cell_type": "code",
   "execution_count": 17,
   "id": "8ae22f44-c2e3-4014-abb9-bc0583b3664a",
   "metadata": {},
   "outputs": [
    {
     "name": "stdout",
     "output_type": "stream",
     "text": [
      "1\n",
      "2\n",
      "3\n",
      "4\n",
      "5\n"
     ]
    }
   ],
   "source": [
    "def func(*numbers):\n",
    "    for i in numbers:\n",
    "        print(i)\n",
    "func(1,2,3,4,5)"
   ]
  },
  {
   "cell_type": "code",
   "execution_count": 31,
   "id": "a50ab855-80cd-4d81-9bcb-4f7711dddbc9",
   "metadata": {},
   "outputs": [
    {
     "ename": "UnboundLocalError",
     "evalue": "cannot access local variable 'sum' where it is not associated with a value",
     "output_type": "error",
     "traceback": [
      "\u001b[1;31m---------------------------------------------------------------------------\u001b[0m",
      "\u001b[1;31mUnboundLocalError\u001b[0m                         Traceback (most recent call last)",
      "Cell \u001b[1;32mIn[31], line 8\u001b[0m\n\u001b[0;32m      6\u001b[0m         \u001b[38;5;28msum\u001b[39m\u001b[38;5;241m+\u001b[39m\u001b[38;5;241m=\u001b[39mi\n\u001b[0;32m      7\u001b[0m     \u001b[38;5;28mprint\u001b[39m(\u001b[38;5;28msum\u001b[39m)\n\u001b[1;32m----> 8\u001b[0m sum_all(\u001b[38;5;241m1\u001b[39m,\u001b[38;5;241m2\u001b[39m,\u001b[38;5;241m3\u001b[39m)\n",
      "Cell \u001b[1;32mIn[31], line 6\u001b[0m, in \u001b[0;36msum_all\u001b[1;34m(*number)\u001b[0m\n\u001b[0;32m      4\u001b[0m \u001b[38;5;28;01mdef\u001b[39;00m \u001b[38;5;21msum_all\u001b[39m(\u001b[38;5;241m*\u001b[39mnumber):\n\u001b[0;32m      5\u001b[0m     \u001b[38;5;28;01mfor\u001b[39;00m i \u001b[38;5;129;01min\u001b[39;00m number:\n\u001b[1;32m----> 6\u001b[0m         \u001b[38;5;28msum\u001b[39m\u001b[38;5;241m+\u001b[39m\u001b[38;5;241m=\u001b[39mi\n\u001b[0;32m      7\u001b[0m     \u001b[38;5;28mprint\u001b[39m(\u001b[38;5;28msum\u001b[39m)\n",
      "\u001b[1;31mUnboundLocalError\u001b[0m: cannot access local variable 'sum' where it is not associated with a value"
     ]
    }
   ],
   "source": [
    "# 🔹 *Q2: Summing Numbers Using args\n",
    "# Write a function sum_all that takes any number of numeric inputs using *args and returns their sum.\n",
    "sum=0\n",
    "def sum_all(*number):\n",
    "    for i in number:\n",
    "        sum+=i\n",
    "    print(sum)\n",
    "sum_all(1,2,3)\n",
    "#python does not know you have used a global variable"
   ]
  },
  {
   "cell_type": "code",
   "execution_count": 35,
   "id": "b8559347-64d1-498d-b75f-40058a187d60",
   "metadata": {},
   "outputs": [
    {
     "name": "stdout",
     "output_type": "stream",
     "text": [
      "6\n"
     ]
    }
   ],
   "source": [
    "sum=0\n",
    "def sum_all(*number):\n",
    "    global sum   # now python knows sum is global\n",
    "    for i in number:\n",
    "        sum+=i\n",
    "    print(sum)\n",
    "sum_all(1,2,3)"
   ]
  },
  {
   "cell_type": "code",
   "execution_count": 37,
   "id": "daddd604-fc7a-42e9-897a-40cbf3ef6f13",
   "metadata": {},
   "outputs": [
    {
     "name": "stdout",
     "output_type": "stream",
     "text": [
      "6\n"
     ]
    }
   ],
   "source": [
    "#or you can use sum locally inside the function\n",
    "def sum_all(*number):\n",
    "    sum=0\n",
    "    for i in number:\n",
    "        sum+=i\n",
    "    print(sum)\n",
    "sum_all(1,2,3)"
   ]
  },
  {
   "cell_type": "code",
   "execution_count": 47,
   "id": "629fceae-6f9a-4bc3-b8a8-1e19a160f7ff",
   "metadata": {},
   "outputs": [
    {
     "name": "stdout",
     "output_type": "stream",
     "text": [
      "['ert', 'shabaul']\n"
     ]
    }
   ],
   "source": [
    "#  Q3: Mixed Data Types\n",
    "# Write a function that accepts any number of values using *args, and returns only the strings from it in a list.\n",
    "def func(*string_check):\n",
    "    list1=[]\n",
    "    for i in string_check:\n",
    "        if(type(i)==str):\n",
    "            list1.append(i)\n",
    "    print(list1)\n",
    "func(1,2,3,4,\"ert\",\"shabaul\",4,5)\n"
   ]
  },
  {
   "cell_type": "code",
   "execution_count": 3,
   "id": "6f85e692-2c98-450f-9e7c-6397d37f5b0a",
   "metadata": {},
   "outputs": [
    {
     "data": {
      "text/plain": [
       "['ert', 'shabaul']"
      ]
     },
     "execution_count": 3,
     "metadata": {},
     "output_type": "execute_result"
    }
   ],
   "source": [
    "\n",
    "def func(*string_check):\n",
    "    list1=[]\n",
    "    for i in string_check:\n",
    "        if(type(i)==str):\n",
    "            list1.append(i)\n",
    "    return list1\n",
    "func(1,2,3,4,\"ert\",\"shabaul\",4,5)\n"
   ]
  },
  {
   "cell_type": "code",
   "execution_count": 21,
   "id": "efcd48ed-7e6d-4e8d-906b-5489122beb28",
   "metadata": {},
   "outputs": [
    {
     "name": "stdout",
     "output_type": "stream",
     "text": [
      "hi hello!! saif\n",
      "hi hello!! amaan\n"
     ]
    }
   ],
   "source": [
    "# 🔹 Q4: With Other Parameters\n",
    "# Define a function that takes a greeting message as the first parameter, then accepts multiple names using *args, \n",
    "# and prints a personalized message for each.\n",
    "def greeting(greetings,*args):\n",
    "    for i in args:\n",
    "        print(greetings,i)\n",
    "greeting(\"hi hello!!\",\"saif\",\"amaan\")"
   ]
  },
  {
   "cell_type": "code",
   "execution_count": 37,
   "id": "651f056e-b018-4ada-9fd4-b0de693a0e08",
   "metadata": {},
   "outputs": [
    {
     "name": "stdout",
     "output_type": "stream",
     "text": [
      "20\n",
      "40\n",
      "60\n"
     ]
    }
   ],
   "source": [
    "# 🔹 *Q5: Unpacking List into args\n",
    "# You are given a list numbers = [10, 20, 30]. Pass this list to a function using *args and print each number multiplied by 2.\n",
    "numbers=[10,20,30]\n",
    "def mylist(*args):\n",
    "    for i in args:\n",
    "        for j in numbers:\n",
    "            print(2*j)\n",
    "mylist(numbers)\n",
    "#but here not the correct use of args"
   ]
  },
  {
   "cell_type": "code",
   "execution_count": 49,
   "id": "a515049d-a78c-439b-9e1d-cd41f33e2b96",
   "metadata": {},
   "outputs": [
    {
     "name": "stdout",
     "output_type": "stream",
     "text": [
      "([10, 20, 30],)\n"
     ]
    }
   ],
   "source": [
    "number=[10,20,30]\n",
    "def mylist1(*args):\n",
    "    print(args)\n",
    "mylist1(number)\n",
    "#returned output as a list"
   ]
  },
  {
   "cell_type": "code",
   "execution_count": 53,
   "id": "428dccf7-ae7a-408d-b78b-0d6b920d1321",
   "metadata": {},
   "outputs": [
    {
     "name": "stdout",
     "output_type": "stream",
     "text": [
      "(10, 20, 30)\n"
     ]
    }
   ],
   "source": [
    "number=[10,20,30]\n",
    "def mylist1(*args):\n",
    "    print(args)\n",
    "mylist1(*number)\n",
    "#returned output as a tuple"
   ]
  },
  {
   "cell_type": "code",
   "execution_count": 59,
   "id": "6fa4e1e1-89c3-4163-9eaf-0b6ace535f08",
   "metadata": {},
   "outputs": [
    {
     "name": "stdout",
     "output_type": "stream",
     "text": [
      "20\n",
      "40\n",
      "60\n"
     ]
    }
   ],
   "source": [
    "number=[10,20,30]\n",
    "def mylist1(*args):\n",
    "    for i in args:\n",
    "        print(i*2)\n",
    "mylist1(*number)"
   ]
  },
  {
   "cell_type": "code",
   "execution_count": 61,
   "id": "b2283e54-0ad8-4032-a76d-ba05b3668054",
   "metadata": {},
   "outputs": [
    {
     "name": "stdout",
     "output_type": "stream",
     "text": [
      "[2, 4, 6, 8]\n"
     ]
    }
   ],
   "source": [
    "#  *Q6: Using args with a Loop and Condition\n",
    "# Write a function that takes multiple numbers and returns only the even ones in a list.\n",
    "listeven=[]\n",
    "def even(*args):\n",
    "    for i in args:\n",
    "        if(i%2==0):\n",
    "            listeven.append(i)\n",
    "    print(listeven)\n",
    "even(1,2,3,4,5,6,7,8)\n",
    "            "
   ]
  },
  {
   "cell_type": "code",
   "execution_count": 73,
   "id": "5f57fbad-10d0-4ad7-a679-1d1fb48c8d8a",
   "metadata": {},
   "outputs": [
    {
     "name": "stdout",
     "output_type": "stream",
     "text": [
      "(4, 5, 6)\n",
      "{'name': 'shabaul', 'age': 23, 'college': 'st.xaviers'}\n"
     ]
    }
   ],
   "source": [
    "# 🔹 **Q7: Combine *args with kwargs (Advanced)\n",
    "# Write a function that uses both *args and **kwargs. Print the values of both.\n",
    "def both(*args,**kwargs):\n",
    "    print(args)\n",
    "    print(kwargs)\n",
    "both(4,5,6,name=\"shabaul\",age=23,college=\"st.xaviers\")\n",
    "\n",
    "# *args captures all positional arguments → into a tuple.\n",
    "# **kwargs captures all keyword arguments → into a dictionary.\n",
    "\n"
   ]
  },
  {
   "cell_type": "code",
   "execution_count": null,
   "id": "d7d339b0-5ce3-4cc9-b5f8-fa24834a6c9e",
   "metadata": {},
   "outputs": [],
   "source": []
  }
 ],
 "metadata": {
  "kernelspec": {
   "display_name": "Python 3 (ipykernel)",
   "language": "python",
   "name": "python3"
  },
  "language_info": {
   "codemirror_mode": {
    "name": "ipython",
    "version": 3
   },
   "file_extension": ".py",
   "mimetype": "text/x-python",
   "name": "python",
   "nbconvert_exporter": "python",
   "pygments_lexer": "ipython3",
   "version": "3.12.4"
  }
 },
 "nbformat": 4,
 "nbformat_minor": 5
}
