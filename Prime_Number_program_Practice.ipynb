{
 "cells": [
  {
   "cell_type": "code",
   "execution_count": 33,
   "id": "003b556a-d979-418e-a034-6aaaba0f2892",
   "metadata": {},
   "outputs": [
    {
     "name": "stdin",
     "output_type": "stream",
     "text": [
      "enter any number 201\n"
     ]
    },
    {
     "name": "stdout",
     "output_type": "stream",
     "text": [
      "not a prime\n"
     ]
    }
   ],
   "source": [
    "#Program for prime number\n",
    "num=int(input(\"enter any number\"))\n",
    "count=0\n",
    "if(num<=1):\n",
    "    print(\"number less than equals to 1 are not prime\")\n",
    "else:\n",
    "    for i in range(2,num):\n",
    "        if(num%i==0):\n",
    "            count=1\n",
    "            break\n",
    "            \n",
    "    if(count==0):\n",
    "        print(\"prime\")\n",
    "    else:\n",
    "        print(\"not a prime\")"
   ]
  },
  {
   "cell_type": "code",
   "execution_count": null,
   "id": "e892bf43-e313-4a87-a64f-d8c96d977cfe",
   "metadata": {},
   "outputs": [],
   "source": []
  }
 ],
 "metadata": {
  "kernelspec": {
   "display_name": "Python 3 (ipykernel)",
   "language": "python",
   "name": "python3"
  },
  "language_info": {
   "codemirror_mode": {
    "name": "ipython",
    "version": 3
   },
   "file_extension": ".py",
   "mimetype": "text/x-python",
   "name": "python",
   "nbconvert_exporter": "python",
   "pygments_lexer": "ipython3",
   "version": "3.12.4"
  }
 },
 "nbformat": 4,
 "nbformat_minor": 5
}
