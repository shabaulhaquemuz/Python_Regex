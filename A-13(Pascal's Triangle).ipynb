{
 "cells": [
  {
   "cell_type": "code",
   "execution_count": 31,
   "id": "74b114ba-13a6-41a6-a1c9-9a7fb489ca2e",
   "metadata": {},
   "outputs": [
    {
     "name": "stdout",
     "output_type": "stream",
     "text": [
      "---1 \n",
      "--1 1 \n",
      "-1 2 1 \n",
      "1 3 3 1 \n",
      "[[1], [1, 1], [1, 2, 1], [1, 3, 3, 1]]\n"
     ]
    }
   ],
   "source": [
    "mylist=[]\n",
    "for i in range(1,5):\n",
    "    temp=[]\n",
    "    for j in range(1,5-i):\n",
    "        print(\"-\",end=\"\")\n",
    "    for k in range(1,i+1):\n",
    "        if(k==1 or k==i):\n",
    "            print(1,end=\" \")\n",
    "            temp.append(1)\n",
    "        else:\n",
    "            t=mylist[i-2][k-2]+mylist[i-2][k-1]\n",
    "            print(t,end=\" \")\n",
    "            temp.append(t)\n",
    "    mylist.append(temp)\n",
    "    print()\n",
    "print(mylist)"
   ]
  },
  {
   "cell_type": "code",
   "execution_count": 33,
   "id": "ff51bfd4-d232-42aa-a70a-570526c07fdd",
   "metadata": {},
   "outputs": [
    {
     "name": "stdout",
     "output_type": "stream",
     "text": [
      "-----1 \n",
      "----1 1 \n",
      "---1 2 1 \n",
      "--1 3 3 1 \n",
      "-1 4 6 4 1 \n",
      "[[1], [1, 1], [1, 2, 1], [1, 3, 3, 1], [1, 4, 6, 4, 1]]\n"
     ]
    }
   ],
   "source": [
    "mylist=[]\n",
    "num=5\n",
    "for i in range(0,num):\n",
    "    temp=[]\n",
    "    for j in range(i,num):\n",
    "        print(\"-\",end=\"\")\n",
    "    for k in range(0,i+1):\n",
    "        if(k==0 or k==i):\n",
    "            print(1,end=\" \")\n",
    "            temp.append(1)\n",
    "        else:\n",
    "            t=mylist[i-1][k-1]+mylist[i-1][k]\n",
    "            print(t,end=\" \")\n",
    "            temp.append(t)\n",
    "    mylist.append(temp)\n",
    "    print()\n",
    "print(mylist)"
   ]
  },
  {
   "cell_type": "code",
   "execution_count": null,
   "id": "c7442cd0-094e-4ae4-a12d-f15e9fc9d910",
   "metadata": {},
   "outputs": [],
   "source": []
  }
 ],
 "metadata": {
  "kernelspec": {
   "display_name": "Python 3 (ipykernel)",
   "language": "python",
   "name": "python3"
  },
  "language_info": {
   "codemirror_mode": {
    "name": "ipython",
    "version": 3
   },
   "file_extension": ".py",
   "mimetype": "text/x-python",
   "name": "python",
   "nbconvert_exporter": "python",
   "pygments_lexer": "ipython3",
   "version": "3.12.4"
  }
 },
 "nbformat": 4,
 "nbformat_minor": 5
}
