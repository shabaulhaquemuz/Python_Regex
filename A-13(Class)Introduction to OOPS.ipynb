{
 "cells": [
  {
   "cell_type": "code",
   "execution_count": null,
   "id": "c69aacc3-6072-4512-aca2-ebf52716ec88",
   "metadata": {},
   "outputs": [],
   "source": [
    "#OOPS- Object oriented programming system\n"
   ]
  },
  {
   "cell_type": "code",
   "execution_count": 43,
   "id": "11ddb80a-664b-4126-8b59-503c635bf29a",
   "metadata": {},
   "outputs": [],
   "source": [
    "class Bike_template:\n",
    "    color=\"yellow\"\n",
    "    name=\"splendor\"\n",
    "    \n",
    "    def info(self):\n",
    "        print(self.color, \"bike name: \",self.name)"
   ]
  },
  {
   "cell_type": "code",
   "execution_count": 13,
   "id": "20b0acf4-108d-423e-ba02-b0459b3656b8",
   "metadata": {},
   "outputs": [
    {
     "name": "stdout",
     "output_type": "stream",
     "text": [
      "yellow\n",
      "splendor\n"
     ]
    }
   ],
   "source": [
    "b1=Bike_template()   #b1 is object here\n",
    "print(b1.color)\n",
    "print(b1.name)"
   ]
  },
  {
   "cell_type": "code",
   "execution_count": 21,
   "id": "053f80d0-b388-43e7-83cc-66605d2a7583",
   "metadata": {},
   "outputs": [
    {
     "name": "stdout",
     "output_type": "stream",
     "text": [
      "yellow\n",
      "splendor\n"
     ]
    },
    {
     "data": {
      "text/plain": [
       "'yellow'"
      ]
     },
     "execution_count": 21,
     "metadata": {},
     "output_type": "execute_result"
    }
   ],
   "source": [
    "b2=Bike_template()\n",
    "print(b2.color)\n",
    "print(b2.name)\n",
    "b2.color\n",
    "#we can create multiple objects from one class...here b1 and b2 both are objects created from class Bike_template\n"
   ]
  },
  {
   "cell_type": "code",
   "execution_count": 53,
   "id": "3111f2b8-53cd-4530-9cf9-ff4a5b3d797c",
   "metadata": {},
   "outputs": [
    {
     "name": "stdout",
     "output_type": "stream",
     "text": [
      "red bike name:  splendor\n"
     ]
    }
   ],
   "source": [
    "b3=Bike_template()\n",
    "b3.color=\"red\"\n",
    "b3.color\n",
    "b3.info()\n",
    "#here we changed the color of just this one object, class still has yellow color"
   ]
  },
  {
   "cell_type": "code",
   "execution_count": 55,
   "id": "14392d5a-9802-48c4-b8c9-5770780bc3b5",
   "metadata": {},
   "outputs": [
    {
     "data": {
      "text/plain": [
       "'yellow'"
      ]
     },
     "execution_count": 55,
     "metadata": {},
     "output_type": "execute_result"
    }
   ],
   "source": [
    "Bike_template()\n",
    "b2.color"
   ]
  },
  {
   "cell_type": "code",
   "execution_count": 59,
   "id": "9d58b7a3-4d6a-4c0b-9378-e24a7b94e110",
   "metadata": {},
   "outputs": [
    {
     "name": "stdout",
     "output_type": "stream",
     "text": [
      "red bike name:  splendor\n"
     ]
    }
   ],
   "source": [
    "b3.info()"
   ]
  },
  {
   "cell_type": "code",
   "execution_count": 61,
   "id": "fb10563e-ea80-4b74-be98-4ef5292174bf",
   "metadata": {},
   "outputs": [],
   "source": [
    "#constructor: it is a function which is used to create or initialize memory address for an object\n",
    "# in python __init__ is a constructor\n",
    "#self is a variable that stores the memory address of the current object\n",
    "#constructors are of two types: 1. default constructor: it is inbuilt\n",
    "                                #2.parameterized constructor: it needs to be declared by us"
   ]
  },
  {
   "cell_type": "code",
   "execution_count": 63,
   "id": "d909cdcd-c328-4321-a8ca-2f2f185bf38a",
   "metadata": {},
   "outputs": [],
   "source": [
    "class Bike_temp:\n",
    "    def __init__(self):\n",
    "        print(\"calling constructor\",self)"
   ]
  },
  {
   "cell_type": "code",
   "execution_count": 65,
   "id": "2e90bd18-66af-4063-a329-66c6334e7ac1",
   "metadata": {},
   "outputs": [
    {
     "name": "stdout",
     "output_type": "stream",
     "text": [
      "calling constructor <__main__.Bike_temp object at 0x000002098E8A7E60>\n",
      "Z1: <__main__.Bike_temp object at 0x000002098E8A7E60>\n"
     ]
    }
   ],
   "source": [
    "z1=Bike_temp()\n",
    "print(\"Z1:\",z1)"
   ]
  },
  {
   "cell_type": "code",
   "execution_count": 67,
   "id": "5e4f5342-019c-4490-a624-24c0aaca740d",
   "metadata": {},
   "outputs": [],
   "source": [
    "class Bike_temper:\n",
    "    def __init__(self,a,b):\n",
    "        self.color=a\n",
    "        self.name=b"
   ]
  },
  {
   "cell_type": "code",
   "execution_count": 69,
   "id": "385530ed-47d9-49e5-9db0-37adf679bd2a",
   "metadata": {},
   "outputs": [
    {
     "data": {
      "text/plain": [
       "'red'"
      ]
     },
     "execution_count": 69,
     "metadata": {},
     "output_type": "execute_result"
    }
   ],
   "source": [
    "b1=Bike_temper(\"red\")\n",
    "b1.color"
   ]
  },
  {
   "cell_type": "code",
   "execution_count": 73,
   "id": "81ac7806-d665-4845-96bb-37d0e3f5588e",
   "metadata": {},
   "outputs": [
    {
     "data": {
      "text/plain": [
       "'green'"
      ]
     },
     "execution_count": 73,
     "metadata": {},
     "output_type": "execute_result"
    }
   ],
   "source": [
    "b2=Bike_temper(\"green\")\n",
    "b2.color"
   ]
  },
  {
   "cell_type": "code",
   "execution_count": 77,
   "id": "c69c53e3-c865-47e5-9743-517e5d3e602f",
   "metadata": {},
   "outputs": [
    {
     "ename": "AttributeError",
     "evalue": "'Bike_temper' object has no attribute 'name'",
     "output_type": "error",
     "traceback": [
      "\u001b[1;31m---------------------------------------------------------------------------\u001b[0m",
      "\u001b[1;31mAttributeError\u001b[0m                            Traceback (most recent call last)",
      "Cell \u001b[1;32mIn[77], line 2\u001b[0m\n\u001b[0;32m      1\u001b[0m z3\u001b[38;5;241m=\u001b[39mBike_temper(\u001b[38;5;124m\"\u001b[39m\u001b[38;5;124mpulsar\u001b[39m\u001b[38;5;124m\"\u001b[39m)\n\u001b[1;32m----> 2\u001b[0m z3\u001b[38;5;241m.\u001b[39mname\n",
      "\u001b[1;31mAttributeError\u001b[0m: 'Bike_temper' object has no attribute 'name'"
     ]
    }
   ],
   "source": [
    "z3=Bike_temper(\"pulsar\")\n",
    "z3.name"
   ]
  },
  {
   "cell_type": "code",
   "execution_count": 83,
   "id": "9a5abf30-702b-45f3-b54b-aecd3c306fcd",
   "metadata": {},
   "outputs": [],
   "source": [
    "class Employee:\n",
    "    employee_id=1\n",
    "    employee_name=\"shabaul\"\n",
    "    employee_email=\"shabaulhaque@gmail.com\"\n",
    "    "
   ]
  },
  {
   "cell_type": "code",
   "execution_count": 89,
   "id": "8567a4a7-1b12-4353-9309-c78047f41066",
   "metadata": {},
   "outputs": [
    {
     "data": {
      "text/plain": [
       "1"
      ]
     },
     "execution_count": 89,
     "metadata": {},
     "output_type": "execute_result"
    }
   ],
   "source": [
    "e1=Employee()\n",
    "e1.employee_id\n"
   ]
  },
  {
   "cell_type": "code",
   "execution_count": 91,
   "id": "f33214e2-a57a-4ed8-a26d-f1fc5a744cd7",
   "metadata": {},
   "outputs": [
    {
     "data": {
      "text/plain": [
       "'shabaul'"
      ]
     },
     "execution_count": 91,
     "metadata": {},
     "output_type": "execute_result"
    }
   ],
   "source": [
    "e1.employee_name"
   ]
  },
  {
   "cell_type": "code",
   "execution_count": 93,
   "id": "432ff02c-29a6-4aac-9491-7e55d195ff17",
   "metadata": {},
   "outputs": [
    {
     "data": {
      "text/plain": [
       "'shabaulhaque@gmail.com'"
      ]
     },
     "execution_count": 93,
     "metadata": {},
     "output_type": "execute_result"
    }
   ],
   "source": [
    "e1.employee_email"
   ]
  },
  {
   "cell_type": "code",
   "execution_count": 95,
   "id": "6768fce0-66ac-476d-8c8a-51cfde394fb5",
   "metadata": {},
   "outputs": [],
   "source": [
    "class Employee:\n",
    "    employee_id=1\n",
    "    employee_name=\"shabaul\"\n",
    "    employee_email=\"shabaulhaque@gmail.com\"\n",
    "    "
   ]
  },
  {
   "cell_type": "code",
   "execution_count": 97,
   "id": "ed43a703-993f-4e60-95e6-90f5f45916f3",
   "metadata": {},
   "outputs": [],
   "source": [
    "#In Python (and most object-oriented languages), class variables and instance variables are used to store data, \n",
    "#but they differ in how they behave and where they are stored.\n",
    "#✅ What is an Instance?\n",
    "# An instance is a specific object created from a class.\n",
    "# Think of a class as a blueprint — and an instance as the real object built using that blueprint."
   ]
  },
  {
   "cell_type": "code",
   "execution_count": 101,
   "id": "784ed35d-a653-4adf-863a-0b518b106d03",
   "metadata": {},
   "outputs": [],
   "source": [
    "# 🔹 1. Class Variable\n",
    "# A variable that is shared among all instances of a class.\n",
    "# Defined inside the class, but outside any instance methods (like __init__).\n",
    "# Any change made to a class variable affects all instances of the class (unless shadowed).\n",
    "\n",
    "\n",
    "# 2. Instance Variable\n",
    "# A variable that is unique to each instance.\n",
    "\n",
    "# Defined using self inside instance methods like __init__.\n",
    "\n",
    "# Changing an instance variable affects only that particular object."
   ]
  },
  {
   "cell_type": "code",
   "execution_count": 105,
   "id": "1e3f4582-ea41-4546-b2ea-97b2d4196dbb",
   "metadata": {},
   "outputs": [
    {
     "name": "stdout",
     "output_type": "stream",
     "text": [
      "yashraj\n",
      "ishaan\n"
     ]
    }
   ],
   "source": [
    "#class variables are those variables which can be accessed by class name as well as through object but they can only be\n",
    "# modified by class name\n",
    "class Count_Object:\n",
    "    company=\"yashraj\"\n",
    "    def __init__(self,a):\n",
    "        self.color=a\n",
    "v1=Count_Object(\"red\")\n",
    "print(v1.company)\n",
    "Count_Object.company=\"ishaan\"\n",
    "print(Count_Object.company)"
   ]
  },
  {
   "cell_type": "code",
   "execution_count": 111,
   "id": "a9e5a7cd-8775-4519-902f-e16d2e0dd501",
   "metadata": {},
   "outputs": [
    {
     "name": "stdout",
     "output_type": "stream",
     "text": [
      "yashraj\n",
      "ishaan\n",
      "\n"
     ]
    }
   ],
   "source": [
    "class Count_Object:\n",
    "    company=\"yashraj\"\n",
    "    count=0\n",
    "    def __init__(self,a):\n",
    "        self.color=a\n",
    "        Count_Object.count+=1\n",
    "v1=Count_Object(\"red\")\n",
    "print(v1.company)\n",
    "Count_Object.company=\"ishaan\"\n",
    "print(Count_Object.company)\n",
    "print()"
   ]
  },
  {
   "cell_type": "code",
   "execution_count": 115,
   "id": "00a418af-7f68-43a7-879a-f7d0ad985329",
   "metadata": {},
   "outputs": [
    {
     "name": "stdout",
     "output_type": "stream",
     "text": [
      "15\n"
     ]
    }
   ],
   "source": [
    "#🔹 1. Namespace in Python\n",
    "#A namespace is a container that holds names (identifiers) and their corresponding objects (like variables, functions, classes, etc.).\n",
    "#Types of Namespaces:\n",
    "# | Namespace Type | Description                                           | Example                              |\n",
    "# | -------------- | ----------------------------------------------------- | ------------------------------------ |\n",
    "# | **Built-in**   | Predefined by Python                                  | `print()`, `len()`, `int()`          |\n",
    "# | **Global**     | Variables defined at the top-level of a script/module | Variables outside any function/class |\n",
    "# | **Local**      | Inside functions/methods                              | Variables declared inside functions  |\n",
    "# | **Enclosing**  | A special case for nested functions                   | Function inside another function     |\n",
    "\n",
    "x = 10  # global namespace\n",
    "\n",
    "def func():\n",
    "    y = 5  # local namespace\n",
    "    print(x + y)\n",
    "\n",
    "func()\n"
   ]
  },
  {
   "cell_type": "code",
   "execution_count": null,
   "id": "6689c1f7-c5f2-4c5b-862c-f2482ebe5c21",
   "metadata": {},
   "outputs": [],
   "source": []
  }
 ],
 "metadata": {
  "kernelspec": {
   "display_name": "Python 3 (ipykernel)",
   "language": "python",
   "name": "python3"
  },
  "language_info": {
   "codemirror_mode": {
    "name": "ipython",
    "version": 3
   },
   "file_extension": ".py",
   "mimetype": "text/x-python",
   "name": "python",
   "nbconvert_exporter": "python",
   "pygments_lexer": "ipython3",
   "version": "3.12.4"
  }
 },
 "nbformat": 4,
 "nbformat_minor": 5
}
