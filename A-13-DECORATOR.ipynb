{
 "cells": [
  {
   "cell_type": "code",
   "execution_count": 1,
   "id": "eee9fb42-f506-4f00-906e-041b10826307",
   "metadata": {},
   "outputs": [],
   "source": [
    "#decorator: A decorator is a special function in Python that is used to add extra features to another function without changing its actual code.\n",
    "#it is a design pattern jiske according we can modify the behavior  of a function.\n",
    "#A decorator takes a function, adds something before or after it, and gives you a new function."
   ]
  },
  {
   "cell_type": "code",
   "execution_count": 11,
   "id": "68224b3b-73c3-4afa-8e3c-282e23082dd6",
   "metadata": {},
   "outputs": [
    {
     "name": "stdout",
     "output_type": "stream",
     "text": [
      "outer function print=> 100\n",
      "x: <function outerfunc.<locals>.innerfunc at 0x0000026CA71AAAC0>\n",
      "hey inner function 100\n"
     ]
    }
   ],
   "source": [
    "def outerfunc(num):\n",
    "    print(\"outer function print=>\",num)\n",
    "    def innerfunc():\n",
    "        print(\"hey inner function\",num)\n",
    "    return innerfunc\n",
    "x=outerfunc(100)\n",
    "print(\"x:\",x)\n",
    "x()"
   ]
  },
  {
   "cell_type": "code",
   "execution_count": 23,
   "id": "726e32f9-7719-489c-8b41-ca8ade1a4c42",
   "metadata": {},
   "outputs": [
    {
     "name": "stdout",
     "output_type": "stream",
     "text": [
      "x: <function outerfunc.<locals>.innerfunc at 0x0000026CA71AB7E0>\n",
      "hey inner function <function test at 0x0000026CA71AA520>\n",
      "TEST FUNCTION IS HERE\n"
     ]
    }
   ],
   "source": [
    "def outerfunc(num):\n",
    "    def innerfunc():\n",
    "        print(\"hey inner function\",num)\n",
    "        test_r=num()\n",
    "        print(test_r.upper())\n",
    "    return innerfunc\n",
    "def test():\n",
    "    return (\"test function is here\")\n",
    "x=outerfunc(test)\n",
    "print(\"x:\",x)\n",
    "x()\n",
    "#this method is used is old versions in python to create a decorator"
   ]
  },
  {
   "cell_type": "code",
   "execution_count": 29,
   "id": "41352c4d-231c-4ca2-ae36-dbb73f5ce6df",
   "metadata": {},
   "outputs": [
    {
     "name": "stdout",
     "output_type": "stream",
     "text": [
      "hey inner function <function test at 0x0000026CA71AA520>\n",
      "TEST FUNCTION IS HERE\n"
     ]
    }
   ],
   "source": [
    "def outerfunc(num):\n",
    "    def innerfunc():\n",
    "        print(\"hey inner function\",num)\n",
    "        test_r=num()\n",
    "        print(test_r.upper())\n",
    "    return innerfunc\n",
    "@outerfunc\n",
    "def test():\n",
    "    return (\"test function is here\")\n",
    "x()\n",
    "#using outer function before the inner function to change its behaviour is present in new versions, this method is used in newer versions of python"
   ]
  },
  {
   "cell_type": "code",
   "execution_count": null,
   "id": "b47f200b-176d-4fb5-8061-d248f724e896",
   "metadata": {},
   "outputs": [],
   "source": [
    "#What are \"decorators with arguments\"?\n",
    "#These are decorators that take parameters themselves, besides decorating a function.\n",
    "#Structure:\n",
    "#To pass arguments to a decorator, you need 3 layers of functions:\n",
    "# 1. outer → takes the decorator arguments  \n",
    "# 2. middle → takes the function to be decorated  \n",
    "# 3. inner → wraps the function and adds behavior\n",
    "def outer(name):\n",
    "    def middle(func):\n",
    "        def inner():\n",
    "            for i in range(n):\n",
    "                print(f\"{i+1}:\")\n",
    "                func()\n",
    "            return wrapper\n",
    "        return decorator\n",
    "                \n",
    "                \n",
    "            "
   ]
  }
 ],
 "metadata": {
  "kernelspec": {
   "display_name": "Python 3 (ipykernel)",
   "language": "python",
   "name": "python3"
  },
  "language_info": {
   "codemirror_mode": {
    "name": "ipython",
    "version": 3
   },
   "file_extension": ".py",
   "mimetype": "text/x-python",
   "name": "python",
   "nbconvert_exporter": "python",
   "pygments_lexer": "ipython3",
   "version": "3.12.4"
  }
 },
 "nbformat": 4,
 "nbformat_minor": 5
}
