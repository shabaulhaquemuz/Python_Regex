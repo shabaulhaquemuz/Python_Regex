{
 "cells": [
  {
   "cell_type": "code",
   "execution_count": 1,
   "id": "2575043c-69dc-4693-948a-32d177ebd105",
   "metadata": {},
   "outputs": [],
   "source": [
    "#Instance variable\n",
    "class A:\n",
    "    dept=\"HR\"               #class variable\n",
    "    def __init__(self,age):\n",
    "        self.age=age        #instance variable\n",
    "    def userinfo(self):     #instance method have self as its first parameter\n",
    "        self.age=500\n",
    "        self.dept=\"marketing\"\n",
    "        print(\"instance method\",self.age,self.dept)"
   ]
  },
  {
   "cell_type": "code",
   "execution_count": 5,
   "id": "740afc2d-8375-4efb-ae60-42c3d1dae6b1",
   "metadata": {},
   "outputs": [
    {
     "name": "stdout",
     "output_type": "stream",
     "text": [
      "instance method 500 marketing\n"
     ]
    },
    {
     "data": {
      "text/plain": [
       "'HR'"
      ]
     },
     "execution_count": 5,
     "metadata": {},
     "output_type": "execute_result"
    }
   ],
   "source": [
    "a1=A(1000)\n",
    "a1.userinfo()\n",
    "a2=A(600)\n",
    "a2.dept"
   ]
  },
  {
   "cell_type": "code",
   "execution_count": 35,
   "id": "97da3679-5c9f-4041-85b0-019442368eaf",
   "metadata": {},
   "outputs": [
    {
     "name": "stdout",
     "output_type": "stream",
     "text": [
      "salary 9900.0\n",
      "salary 11000.0\n",
      "salary 11000.0\n",
      "None\n"
     ]
    }
   ],
   "source": [
    "class A:\n",
    "    dept = \"HR\"  # class variable (shared by all instances)\n",
    "\n",
    "    def __init__(self, age):\n",
    "        self.age = age  # instance variable (unique to each object)\n",
    "\n",
    "    def userinfo(self):  # instance method\n",
    "        self.age = 500\n",
    "        self.dept = \"marketing\"  # this creates an instance variable named dept\n",
    "        print(\"instance method\", self.age, self.dept)\n",
    "\n",
    "    @staticmethod\n",
    "    def adddata(salary):  # static method\n",
    "        print(\"salary\", salary * 1.1)\n",
    "\n",
    "\n",
    "# Call static method from class\n",
    "A.adddata(9000)\n",
    "\n",
    "# Call static method from object\n",
    "b = A(25)              # 👈 you missed passing `age`, which is required\n",
    "b.adddata(10000)\n",
    "\n",
    "# Print result of static method\n",
    "print(b.adddata(10000))  # static method prints, but returns None\n"
   ]
  },
  {
   "cell_type": "code",
   "execution_count": 23,
   "id": "a72729ca-baea-41a1-9ef1-21dd2744415a",
   "metadata": {},
   "outputs": [],
   "source": [
    "class Dollar:\n",
    "    def __init__(self,amount):\n",
    "        self.amount=amount\n",
    "\n",
    "    @classmethod\n",
    "    def totalamount(cls):\n",
    "        print(f\"{cls} class has amount\")\n",
    "        "
   ]
  },
  {
   "cell_type": "code",
   "execution_count": 29,
   "id": "7f9078b1-0a28-4d8f-8eca-65633597fcf2",
   "metadata": {},
   "outputs": [
    {
     "name": "stdout",
     "output_type": "stream",
     "text": [
      "<class '__main__.Dollar'> class has amount\n"
     ]
    }
   ],
   "source": [
    "d1=Dollar(99)\n",
    "d1.totalamount()"
   ]
  },
  {
   "cell_type": "code",
   "execution_count": 37,
   "id": "0906209f-3cdf-436c-9696-4ef26de9776f",
   "metadata": {},
   "outputs": [],
   "source": [
    "class Dollar:\n",
    "    symbol=\"$\"\n",
    "    def __init__(self,amount):\n",
    "        self.amount=amount\n",
    "\n",
    "    @classmethod\n",
    "    def totalAmount(cls):\n",
    "        print(f\"{cls} class has amount\")\n",
    "        "
   ]
  },
  {
   "cell_type": "code",
   "execution_count": 33,
   "id": "7fce954b-0599-4981-b996-cd3c619a355b",
   "metadata": {},
   "outputs": [
    {
     "name": "stdout",
     "output_type": "stream",
     "text": [
      "Getting salary...\n",
      "50000\n",
      "Setting salary...\n",
      "Getting salary...\n",
      "60000\n"
     ]
    }
   ],
   "source": [
    "class Employee:\n",
    "    def __init__(self):\n",
    "        self._salary = 50000\n",
    "\n",
    "    @property\n",
    "    def salary(self):\n",
    "        print(\"Getting salary...\")\n",
    "        return self._salary\n",
    "\n",
    "    @salary.setter\n",
    "    def salary(self, value):\n",
    "        print(\"Setting salary...\")\n",
    "        if value < 0:\n",
    "            raise ValueError(\"Salary cannot be negative\")\n",
    "        self._salary = value\n",
    "\n",
    "# Usage\n",
    "emp = Employee()\n",
    "\n",
    "print(emp.salary)       # Accesses via getter (prints: Getting salary... 50000)\n",
    "emp.salary = 60000      # Updates via setter (prints: Setting salary...)\n",
    "print(emp.salary)       # Updated value: 60000\n",
    "\n",
    "# emp.salary = -1000    # ❌ Raises: ValueError\n"
   ]
  },
  {
   "cell_type": "code",
   "execution_count": null,
   "id": "828668a2-3d5d-47a2-a21c-5ef0f449dad2",
   "metadata": {},
   "outputs": [],
   "source": []
  }
 ],
 "metadata": {
  "kernelspec": {
   "display_name": "Python 3 (ipykernel)",
   "language": "python",
   "name": "python3"
  },
  "language_info": {
   "codemirror_mode": {
    "name": "ipython",
    "version": 3
   },
   "file_extension": ".py",
   "mimetype": "text/x-python",
   "name": "python",
   "nbconvert_exporter": "python",
   "pygments_lexer": "ipython3",
   "version": "3.12.4"
  }
 },
 "nbformat": 4,
 "nbformat_minor": 5
}
