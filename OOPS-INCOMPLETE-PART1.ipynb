{
 "cells": [
  {
   "cell_type": "code",
   "execution_count": 1,
   "id": "b7d55cb9-eb25-4bb4-b9eb-1bac72f6558b",
   "metadata": {},
   "outputs": [],
   "source": [
    "#Classes and Objects\n",
    "#Object:Objects are real time entity that has some characteristics and behaviour. Anything inside this world is an object.\n",
    "#An object is an instance of a class.\n",
    "\n",
    "#Class:A class is a blueprint or template for creating objects.\n",
    "#It defines the attributes (variables) and methods (functions) that its objects will have.:\n",
    "#characteristics(variables) and behaviour(functions)"
   ]
  },
  {
   "cell_type": "code",
   "execution_count": 3,
   "id": "cc4f4cf3-88a2-41b3-bf38-3662da914910",
   "metadata": {},
   "outputs": [],
   "source": [
    "#OOPS:Object-Oriented Programming (OOP) is a programming paradigm based on the concept of \"objects\", which are instances of classes.\n",
    "#Meaning of \"Paradigm\":\n",
    "#A paradigm is a way or style of doing something — especially in science or programming."
   ]
  },
  {
   "cell_type": "code",
   "execution_count": 5,
   "id": "d4feb7b0-b59f-447c-bd5f-42bcbecefca3",
   "metadata": {},
   "outputs": [],
   "source": [
    "# | Concept           | Easy Meaning                                                              |\n",
    "# | ----------------- | ------------------------------------------------------------------------- |\n",
    "# | **Class**         | A design or blueprint (like \"Car\" or \"Student\")                           |\n",
    "# | **Object**        | A real item made from the class (like a red Honda car or student Amit)    |\n",
    "# | **Encapsulation** | Hiding details inside a box (like remote hides circuits)                  |\n",
    "# | **Inheritance**   | One class can use features of another (like child inherits from parents)  |\n",
    "# | **Polymorphism**  | Same function doing different things (e.g., one button for play & pause)  |\n",
    "# | **Abstraction**   | Hiding the complex part, showing only what is needed (like ATM interface) |\n",
    "\n",
    "# OOP is Useful (One-Liners):\n",
    "# Makes code organized – Groups related data and actions together using classes.\n",
    "\n",
    "# Easy to reuse – You can reuse classes and inherit features using inheritance.\n",
    "\n",
    "# Easy to understand – Code is cleaner and follows a real-world structure.\n",
    "\n",
    "# Matches real-world thinking – Models real objects like Car, Student, or Account in code."
   ]
  },
  {
   "cell_type": "code",
   "execution_count": 9,
   "id": "d8d79018-4d5c-432f-8b5a-2a1e36eb2a8d",
   "metadata": {},
   "outputs": [
    {
     "data": {
      "text/plain": [
       "'splendor'"
      ]
     },
     "execution_count": 9,
     "metadata": {},
     "output_type": "execute_result"
    }
   ],
   "source": [
    "class Bike_template:\n",
    "    color=\"yellow\"\n",
    "    name=\"splendor\""
   ]
  },
  {
   "cell_type": "code",
   "execution_count": 11,
   "id": "0f5d6b36-dfb5-4bf6-b612-3c79faabc351",
   "metadata": {},
   "outputs": [
    {
     "name": "stdout",
     "output_type": "stream",
     "text": [
      "<__main__.Bike_template object at 0x0000018BA0B840B0>\n"
     ]
    }
   ],
   "source": [
    "b1=Bike_template()   #b1 is object here\n",
    "print(b1)            # b1 is an object (instance) of the class Bike_template, and it stores the memory address of that object\n",
    "\n",
    "\n",
    "#b1 is not storing the memory address of the class.\n",
    "#It is storing the memory address of the object created from the class.\n",
    "\n",
    "# So technically:\n",
    "\n",
    "# Bike_template → is the class (template)\n",
    "# b1 = Bike_template() → creates an object\n",
    "# b1 → refers to that object’s location in memory, not the class itself\n",
    "\n",
    "#Bike_template()..it means we are calling the class and when we call a class it automatically runs the constructor and constructor after it runs returns \n",
    "#the memory address and that memory address is stored inside a variable(object), lets say b1=Bike_template(), b1(variable/object) here,\n",
    "#stores the memory address."
   ]
  },
  {
   "cell_type": "code",
   "execution_count": 13,
   "id": "b7a35d13-4ed3-44f8-97e4-6a5b3bc77b06",
   "metadata": {},
   "outputs": [
    {
     "name": "stdout",
     "output_type": "stream",
     "text": [
      "splendor\n"
     ]
    }
   ],
   "source": [
    "print(b1.name)"
   ]
  },
  {
   "cell_type": "code",
   "execution_count": 15,
   "id": "571b6c13-3e0a-408c-9e6f-2f7bd4ee29e4",
   "metadata": {},
   "outputs": [
    {
     "name": "stdout",
     "output_type": "stream",
     "text": [
      "yellow\n"
     ]
    }
   ],
   "source": [
    "print(b1.color)"
   ]
  },
  {
   "cell_type": "code",
   "execution_count": 21,
   "id": "56766d12-ed2d-45db-9fe5-a787fb818439",
   "metadata": {},
   "outputs": [
    {
     "name": "stdout",
     "output_type": "stream",
     "text": [
      "<__main__.Bike_template object at 0x0000018BA0724170>\n",
      "splendor\n",
      "yellow\n"
     ]
    }
   ],
   "source": [
    "#2nd object creation from same class>>we can create infinite objects from same class\n",
    "b2=Bike_template()\n",
    "print(b2)\n",
    "print(b2.name)\n",
    "print(b2.color)"
   ]
  },
  {
   "cell_type": "code",
   "execution_count": 27,
   "id": "77a3eb84-dc9f-4226-b107-0293a61ad296",
   "metadata": {},
   "outputs": [
    {
     "name": "stdout",
     "output_type": "stream",
     "text": [
      "yellow\n",
      "red\n"
     ]
    }
   ],
   "source": [
    "#changing property(variable) of a particular object\n",
    "b3=Bike_template()\n",
    "print(b3.color)    #through class, b3(object) bike has yellow color\n",
    "b3.color=\"red\"     #changed the color(property) of this object b3, but for new objects the color by default would be same as defined in class i.e. yellow\n",
    "print(b3.color)"
   ]
  },
  {
   "cell_type": "code",
   "execution_count": 45,
   "id": "2a1c65a8-d5d4-4e97-9d52-97d4a90ed449",
   "metadata": {},
   "outputs": [
    {
     "name": "stdout",
     "output_type": "stream",
     "text": [
      "bike color: blue , bike name: pulsar\n"
     ]
    }
   ],
   "source": [
    "#make the code reusable by creating a function\n",
    "class Bike_blueprint:\n",
    "    color=\"blue\"\n",
    "    name=\"pulsar\"\n",
    "    def info(self):\n",
    "        print(\"bike color:\",self.color,\",\", \"bike name:\",self.name )\n",
    "c1=Bike_blueprint()\n",
    "c1.info()"
   ]
  },
  {
   "cell_type": "code",
   "execution_count": 51,
   "id": "97919c90-4f3d-4cd3-a5fe-f6f9f733826a",
   "metadata": {},
   "outputs": [
    {
     "name": "stdout",
     "output_type": "stream",
     "text": [
      "bike color: black , bike name: pulsar\n"
     ]
    }
   ],
   "source": [
    "c2=Bike_blueprint()\n",
    "c2.color=\"black\"\n",
    "c2.info()"
   ]
  },
  {
   "cell_type": "code",
   "execution_count": 53,
   "id": "c038285f-c63a-45ff-bf5e-32759217cfeb",
   "metadata": {},
   "outputs": [
    {
     "name": "stdout",
     "output_type": "stream",
     "text": [
      "bike color: black , bike name: pulsar\n"
     ]
    }
   ],
   "source": [
    "c2.info()"
   ]
  },
  {
   "cell_type": "code",
   "execution_count": 55,
   "id": "b82c512a-71f4-48e1-97d1-c9680b034a36",
   "metadata": {},
   "outputs": [
    {
     "name": "stdout",
     "output_type": "stream",
     "text": [
      "bike color: blue , bike name: pulsar\n"
     ]
    }
   ],
   "source": [
    "c1.info()"
   ]
  },
  {
   "cell_type": "code",
   "execution_count": 59,
   "id": "8c428604-bab0-433a-8eb4-140cb2fde374",
   "metadata": {},
   "outputs": [
    {
     "name": "stdout",
     "output_type": "stream",
     "text": [
      "bike color: blue , bike name: pulsar\n"
     ]
    }
   ],
   "source": [
    "c3=Bike_blueprint()\n",
    "c3.info()"
   ]
  },
  {
   "cell_type": "code",
   "execution_count": 1,
   "id": "179f1f56-ba01-4e56-a301-26849ed0f7aa",
   "metadata": {},
   "outputs": [],
   "source": [
    "class Car_template:\n",
    "    color=\"black\"\n",
    "    name=\"Creta\"\n",
    "    "
   ]
  },
  {
   "cell_type": "code",
   "execution_count": 9,
   "id": "1bbe5faf-7ff1-4809-b656-fb99a9acc209",
   "metadata": {},
   "outputs": [
    {
     "name": "stdout",
     "output_type": "stream",
     "text": [
      "<__main__.Car_template object at 0x000001AB8C5C1A90>\n",
      "black\n",
      "Creta\n"
     ]
    }
   ],
   "source": [
    "car=Car_template()\n",
    "print(car)\n",
    "print(car.color)\n",
    "print(car.name)"
   ]
  },
  {
   "cell_type": "code",
   "execution_count": 19,
   "id": "ed7057ca-09b5-4d99-b6cd-3382f3d6432c",
   "metadata": {},
   "outputs": [],
   "source": [
    "class Blue_print:\n",
    "    color=\"black\"\n",
    "    name=\"Creta\"\n",
    "    def info(self):           #in python, the info() method is a user-defined method commonly used to display information about an object.\n",
    "        print(\"Car name:\",self.name,\" , \",\"Car color:\",self.color)\n",
    "#self is a reference to the current instance of the class.\n",
    "#It is used to access variables and methods that belong to that specific object.\n"
   ]
  },
  {
   "cell_type": "code",
   "execution_count": 21,
   "id": "da051a0c-5468-4d7d-a9df-07c6dfa9ff2f",
   "metadata": {},
   "outputs": [
    {
     "name": "stdout",
     "output_type": "stream",
     "text": [
      "Car name: Creta  ,  Car color: black\n"
     ]
    }
   ],
   "source": [
    "carinfo=Blue_print()\n",
    "carinfo.info()"
   ]
  },
  {
   "cell_type": "code",
   "execution_count": 23,
   "id": "5ca312c5-be38-4fe9-954e-b963c1bb20b7",
   "metadata": {},
   "outputs": [],
   "source": [
    "#A constructor is a special method in a class that automatically runs when you create (instantiate) an object.\n",
    "#constructor is a special method which is used to create or initialize memory for an object.\n",
    "# Is a constructor a method or a function?\n",
    "# 🔹 In Python, a **constructor is a special type of method — not just a regular function.\n",
    "#In Python, the constructor method is named:    __init__()\n",
    "# A constructor in Python is a special method named __init__() that is automatically called when an object is created.\n",
    "# It is not a function, because it is always defined inside a class and works on the object using self.\n",
    "\n",
    "\n",
    "\n",
    "#constructors are always defined inside a class\n",
    "#Functions can exist outside a class:\n",
    "# def greet():\n",
    "#     print(\"Hello\")\n",
    "\n",
    "#But constructors (like __init__) are always written inside a class:\n",
    "# class Car:\n",
    "#     def __init__(self):   # constructor\n",
    "#         print(\"Car created\")\n",
    "\n",
    "# It works on the object using self\"\n",
    "# self refers to the current object that is being created.\n",
    "# Constructors use self to set data into the object.\n",
    "# class Car:\n",
    "#     def __init__(self, name):\n",
    "#         self.name = name    # store the value inside the object\n",
    "\n",
    "#So when you write:\n",
    "# c1 = Car(\"Honda\")\n",
    "# Python runs __init__\n",
    "# And self.name = name stores \"Honda\" inside the object c1.\n",
    "\n",
    "# Final Simple Explanation:\n",
    "# A function is general-purpose and may be outside any class.\n",
    "# A constructor is a special method inside a class, used to set values in a new object.\n",
    "# It uses self to store data in the object being created.\n",
    "\n",
    "\n",
    "#self is not a keyword, it's just a naming convention in Python.\n",
    "#It refers to the current object and is used to access instance variables and methods inside a class\n",
    "#So Why Use self?\n",
    "# Because everyone in the Python world understands it.\n",
    "# It makes your code clear, readable, and professional.\n",
    "# You can technically use any name instead of self, but you should not.\n",
    "# Python just passes the object itself as the first argument to every method — and by convention, we name it self.\n",
    "#A convention means a common rule or standard that people agree to follow, even though it’s not forced by the language.\n",
    "# Is self a variable?\n",
    "#🔹 Yes, self is a variable — a reference to the current object."
   ]
  },
  {
   "cell_type": "code",
   "execution_count": 51,
   "id": "7c6b920c-0062-4892-8a95-c5c0a48273a4",
   "metadata": {},
   "outputs": [],
   "source": [
    "class Supercar:\n",
    "    def __init__(self,name,color):\n",
    "        self.name=name\n",
    "        self.color=color"
   ]
  },
  {
   "cell_type": "code",
   "execution_count": 53,
   "id": "8392d721-fb3b-410f-a407-6e0e7adba3c9",
   "metadata": {},
   "outputs": [
    {
     "name": "stdout",
     "output_type": "stream",
     "text": [
      "name is: ferrari color is: i8\n"
     ]
    }
   ],
   "source": [
    "super=Supercar(\"ferrari\",\"i8\")\n",
    "print(\"name is:\",super.name,\"color is:\",super.color)"
   ]
  },
  {
   "cell_type": "code",
   "execution_count": 41,
   "id": "47297ce5-1b5a-4352-b950-fcddb500698b",
   "metadata": {},
   "outputs": [],
   "source": [
    "class Superbike:\n",
    "    def __init__(self,name,color):\n",
    "        self.name=name\n",
    "        self.color=color\n",
    "    def info(self):\n",
    "        print(\"name is:\",self.name,\" \",\"color is:\",self.color)"
   ]
  },
  {
   "cell_type": "code",
   "execution_count": 45,
   "id": "440e3509-c77a-4b14-a112-03feb87419d5",
   "metadata": {},
   "outputs": [
    {
     "name": "stdout",
     "output_type": "stream",
     "text": [
      "name is: Hayabusa   color is: black\n"
     ]
    }
   ],
   "source": [
    "sup=Superbike(\"Hayabusa\",\"black\")\n",
    "sup.info()"
   ]
  },
  {
   "cell_type": "code",
   "execution_count": 47,
   "id": "d420fe2e-bdf4-40d0-9ac9-ed713dccf23b",
   "metadata": {},
   "outputs": [
    {
     "name": "stdout",
     "output_type": "stream",
     "text": [
      "name is: S1000RR   color is: White-Blue\n"
     ]
    }
   ],
   "source": [
    "sup2=Superbike(\"S1000RR\",\"White-Blue\")\n",
    "sup2.info()"
   ]
  },
  {
   "cell_type": "code",
   "execution_count": 57,
   "id": "9f6e85f3-bcd1-45af-b324-f22d92d15bf2",
   "metadata": {},
   "outputs": [
    {
     "name": "stdout",
     "output_type": "stream",
     "text": [
      "name is: DucatiPanigale   color is: red\n"
     ]
    }
   ],
   "source": [
    "sup3=Superbike(\"DucatiPanigale\",\"red\")\n",
    "sup3.info()"
   ]
  },
  {
   "cell_type": "code",
   "execution_count": 59,
   "id": "7163ac11-5333-42c6-9ab9-54369c19f676",
   "metadata": {},
   "outputs": [],
   "source": [
    "#Types of Constructors in Python\n",
    "#Python supports mainly three types of constructors:\n",
    "# | Type                                       | Description                                                                   |\n",
    "# | ------------------------------------------ | ----------------------------------------------------------------------------- |\n",
    "# | 1. **Default Constructor**                 | No arguments (except `self`).                                                 |\n",
    "# | 2. **Parameterized Constructor**           | Takes arguments to initialize the object.                                     |\n",
    "# | 3. **Constructor Overloading (Simulated)** | Using default arguments or `*args`/`**kwargs` to mimic multiple constructors. |\n"
   ]
  },
  {
   "cell_type": "code",
   "execution_count": 63,
   "id": "e8fe286a-9157-47d9-9d7d-4d973a37416a",
   "metadata": {},
   "outputs": [
    {
     "name": "stdout",
     "output_type": "stream",
     "text": [
      "Default constructor called\n"
     ]
    }
   ],
   "source": [
    "# 1. Default Constructor\n",
    "# A constructor that does not take any parameters (except self).\n",
    "class Student:\n",
    "    def __init__(self):\n",
    "        print(\"Default constructor called\")\n",
    "\n",
    "s1 = Student()\n",
    "#It is Used when you don’t need to pass any data while creating the object.\n",
    "#default constructor automatically runs, we dont need to call it."
   ]
  },
  {
   "cell_type": "code",
   "execution_count": 69,
   "id": "bd8ae523-37e1-4a7c-9b19-4b35e4585ffe",
   "metadata": {},
   "outputs": [
    {
     "name": "stdout",
     "output_type": "stream",
     "text": [
      "Shabaul , 23\n"
     ]
    }
   ],
   "source": [
    "#2. Parameterized Constructor\n",
    "#A parameterized constructor takes arguments (like name, age, color, etc.) when you create the object, and it stores them inside the object using self\n",
    "class Student:\n",
    "    def __init__(self, name, age):\n",
    "        self.name = name\n",
    "        self.age = age\n",
    "\n",
    "s2 = Student(\"Shabaul\", 23)\n",
    "print(s2.name,\",\", s2.age)\n"
   ]
  },
  {
   "cell_type": "code",
   "execution_count": 71,
   "id": "aa57c4eb-dcfb-431d-8751-37bbe9f28e77",
   "metadata": {},
   "outputs": [],
   "source": [
    "# In Python, there are two main types of constructors:\n",
    "\n",
    "# Default constructor – takes no parameters\n",
    "\n",
    "# Parameterized constructor – takes arguments to set object values\n",
    "\n",
    "# Python does not support true constructor overloading, but it can be simulated using default arguments or *args, **kwargs.\n",
    "\n",
    "# What does \"simulate\" mean?\n",
    "# Simulate means to mimic or imitate something — to create a similar effect even if it’s not exactly the same."
   ]
  },
  {
   "cell_type": "code",
   "execution_count": 134,
   "id": "b3fc0670-07e3-4cf6-b6a1-73dd05f3eca4",
   "metadata": {},
   "outputs": [],
   "source": [
    "#program in which each time an object is created and the info function is called, count increaes by 1\n",
    "#done with using global keyword\n",
    "counter=0\n",
    "class Person:\n",
    "    def __init__(self):\n",
    "        global counter\n",
    "        counter+=1\n",
    "        self.counter=counter\n",
    "    def info(self):\n",
    "        print(\"count is:\",self.counter)\n",
    "        \n",
    "     "
   ]
  },
  {
   "cell_type": "code",
   "execution_count": 136,
   "id": "306b6650-7c6f-43fa-b426-8337895f24c0",
   "metadata": {},
   "outputs": [
    {
     "name": "stdout",
     "output_type": "stream",
     "text": [
      "count is: 1\n"
     ]
    }
   ],
   "source": [
    "new_count=Person()\n",
    "new_count.info()"
   ]
  },
  {
   "cell_type": "code",
   "execution_count": 138,
   "id": "7843c41f-56ba-48dc-8635-03f796772d9d",
   "metadata": {},
   "outputs": [
    {
     "name": "stdout",
     "output_type": "stream",
     "text": [
      "count is: 2\n"
     ]
    }
   ],
   "source": [
    "next_count=Person()\n",
    "next_count.info()"
   ]
  },
  {
   "cell_type": "code",
   "execution_count": 140,
   "id": "d3870a9b-aa74-4ffd-ab4e-2afadd3162df",
   "metadata": {},
   "outputs": [
    {
     "name": "stdout",
     "output_type": "stream",
     "text": [
      "count is: 3\n"
     ]
    }
   ],
   "source": [
    "next_count2=Person()\n",
    "next_count2.info()"
   ]
  },
  {
   "cell_type": "code",
   "execution_count": 142,
   "id": "ce6db9e1-6d6a-4cf5-b76e-9c8e01582edd",
   "metadata": {},
   "outputs": [
    {
     "name": "stdout",
     "output_type": "stream",
     "text": [
      "count is: 4\n"
     ]
    }
   ],
   "source": [
    "next_count3=Person()\n",
    "next_count3.info()"
   ]
  },
  {
   "cell_type": "code",
   "execution_count": 144,
   "id": "7a0c6047-847b-459b-82dc-359d67becb02",
   "metadata": {},
   "outputs": [
    {
     "name": "stdout",
     "output_type": "stream",
     "text": [
      "count is: 5\n"
     ]
    }
   ],
   "source": [
    "next_count4=Person()\n",
    "next_count4.info()"
   ]
  },
  {
   "cell_type": "code",
   "execution_count": 168,
   "id": "4c189a87-ba4c-4cd7-b294-41b4b040b960",
   "metadata": {},
   "outputs": [],
   "source": [
    "#done with using class variable\n",
    "class Speed:\n",
    "    class_counter=0         # class variable (shared by all objects)\n",
    "    def __init__(self):\n",
    "        Speed.class_counter+=1       # increment class variable\n",
    "        self.class_counter=Speed.class_counter     # store value in this object\n",
    "\n",
    "    def info(self):\n",
    "        print(\"class counter is:\",self.class_counter)\n",
    "\n",
    "\n",
    "# class_counter = 0 inside the class (but outside all methods)\n",
    "# This is your class variable\n",
    "# It is shared by all objects of the class\n",
    "# Updated using: Speed.class_counter += 1\n",
    "# | Variable Name        | Type                | Belongs To                        |\n",
    "# | -------------------- | ------------------- | --------------------------------- |\n",
    "# | `class_counter = 0`  | ✅ Class Variable    | Class `Speed`                     |\n",
    "# | `self.class_counter` | ❌ Instance Variable | Specific object like `cc1`, `cc2` |\n",
    "\n",
    "# Access Speed.class_counter to get the total count shared by all objects\n",
    "\n",
    "# Access self.class_counter to get that object’s individual stored number\n",
    "\n"
   ]
  },
  {
   "cell_type": "code",
   "execution_count": 170,
   "id": "b8ff468c-3f6b-4ada-920f-d268b7ce2a3d",
   "metadata": {},
   "outputs": [
    {
     "name": "stdout",
     "output_type": "stream",
     "text": [
      "class counter is: 1\n"
     ]
    }
   ],
   "source": [
    "cc1=Speed()\n",
    "cc1.info()"
   ]
  },
  {
   "cell_type": "code",
   "execution_count": 160,
   "id": "52f74751-009b-4db6-acb0-4334b425ef70",
   "metadata": {},
   "outputs": [
    {
     "name": "stdout",
     "output_type": "stream",
     "text": [
      "class counter is: 2\n"
     ]
    }
   ],
   "source": [
    "cc2=Speed()\n",
    "cc2.info()"
   ]
  },
  {
   "cell_type": "code",
   "execution_count": 162,
   "id": "e449d514-c5f8-4de1-9127-ef836b1bd5bc",
   "metadata": {},
   "outputs": [
    {
     "name": "stdout",
     "output_type": "stream",
     "text": [
      "class counter is: 3\n"
     ]
    }
   ],
   "source": [
    "cc3=Speed()\n",
    "cc3.info()"
   ]
  },
  {
   "cell_type": "code",
   "execution_count": 164,
   "id": "1070dda7-646d-4fc9-9fff-407da3f8d581",
   "metadata": {},
   "outputs": [
    {
     "name": "stdout",
     "output_type": "stream",
     "text": [
      "class counter is: 4\n"
     ]
    }
   ],
   "source": [
    "cc4=Speed()\n",
    "cc4.info()"
   ]
  },
  {
   "cell_type": "code",
   "execution_count": 166,
   "id": "e6f00816-3d57-40af-a31a-a32f66a919aa",
   "metadata": {},
   "outputs": [
    {
     "name": "stdout",
     "output_type": "stream",
     "text": [
      "class counter is: 5\n"
     ]
    }
   ],
   "source": [
    "cc5=Speed()\n",
    "cc5.info()"
   ]
  },
  {
   "cell_type": "code",
   "execution_count": null,
   "id": "68ced265-9cd5-46bf-b34b-b0547a1525e8",
   "metadata": {},
   "outputs": [],
   "source": []
  }
 ],
 "metadata": {
  "kernelspec": {
   "display_name": "Python 3 (ipykernel)",
   "language": "python",
   "name": "python3"
  },
  "language_info": {
   "codemirror_mode": {
    "name": "ipython",
    "version": 3
   },
   "file_extension": ".py",
   "mimetype": "text/x-python",
   "name": "python",
   "nbconvert_exporter": "python",
   "pygments_lexer": "ipython3",
   "version": "3.12.4"
  }
 },
 "nbformat": 4,
 "nbformat_minor": 5
}
