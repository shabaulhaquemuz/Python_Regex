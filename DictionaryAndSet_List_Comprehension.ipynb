{
 "cells": [
  {
   "cell_type": "code",
   "execution_count": 6,
   "id": "3664db6c-7f92-477d-9112-032f547bdeb8",
   "metadata": {},
   "outputs": [
    {
     "name": "stdout",
     "output_type": "stream",
     "text": [
      "Anagram\n"
     ]
    }
   ],
   "source": [
    "s = \"rraj\"\n",
    "t=\"arjr\"\n",
    "x={}\n",
    "y={}\n",
    "for i in s:\n",
    "    if i in x:\n",
    "        x[i]+=1\n",
    "    else:\n",
    "        x[i]=1\n",
    "\n",
    "for i in t:\n",
    "    if i in y:\n",
    "        y[i]+=1\n",
    "    else:\n",
    "        y[i]=1\n",
    "if(x==y):\n",
    "    print(\"Anagram\")\n",
    "else:\n",
    "    print(\"Not Anagram\")"
   ]
  },
  {
   "cell_type": "markdown",
   "id": "e28a53e1-a12c-4423-8093-1459b9a4a589",
   "metadata": {},
   "source": [
    "## List Comprehension"
   ]
  },
  {
   "cell_type": "code",
   "execution_count": 17,
   "id": "b401f335-8da1-41ad-990b-b068e938eee8",
   "metadata": {},
   "outputs": [
    {
     "data": {
      "text/plain": [
       "[2, 4, 6, 8]"
      ]
     },
     "execution_count": 17,
     "metadata": {},
     "output_type": "execute_result"
    }
   ],
   "source": [
    "# List comprehension: Summarized way to create a list\n",
    "# used for better readability of code\n",
    "[i for i in range(1,10) if(i%2==0)]"
   ]
  },
  {
   "cell_type": "markdown",
   "id": "7c74f5c5-17fa-4640-af43-6316db71f23e",
   "metadata": {},
   "source": [
    "## set"
   ]
  },
  {
   "cell_type": "code",
   "execution_count": 26,
   "id": "47312804-609c-4178-ac80-546649581ce9",
   "metadata": {},
   "outputs": [
    {
     "name": "stdout",
     "output_type": "stream",
     "text": [
      "<class 'dict'>\n",
      "<class 'set'>\n"
     ]
    }
   ],
   "source": [
    "# set contains all immutable values\n",
    "# set contains all the unique values\n",
    "# set is mutable datatype\n",
    "\n",
    "myset = {}\n",
    "print(type(myset))\n",
    "x = set({})\n",
    "print(type(x))"
   ]
  },
  {
   "cell_type": "code",
   "execution_count": 30,
   "id": "a8d12d99-adca-452e-8472-caca5712a1ee",
   "metadata": {},
   "outputs": [
    {
     "name": "stdout",
     "output_type": "stream",
     "text": [
      "<class 'set'>\n",
      "{1, 2, 3, 4, 5, 21}\n"
     ]
    }
   ],
   "source": [
    "x = {1,2,3,4,5,4,3,2,21,2,3,1,4}\n",
    "print(type(x))\n",
    "print(x)"
   ]
  },
  {
   "cell_type": "code",
   "execution_count": 40,
   "id": "bcd7e7f4-b99e-4493-908a-e00262168808",
   "metadata": {},
   "outputs": [
    {
     "name": "stdout",
     "output_type": "stream",
     "text": [
      "{1, 3, 4, 5, 100}\n"
     ]
    }
   ],
   "source": [
    "# Adding a Element in set\n",
    "x.add(100)\n",
    "print(x)"
   ]
  },
  {
   "cell_type": "code",
   "execution_count": 36,
   "id": "0eedb311-9339-4097-b819-5c0845df020f",
   "metadata": {},
   "outputs": [
    {
     "name": "stdout",
     "output_type": "stream",
     "text": [
      "{1, 3, 4, 5, 100}\n"
     ]
    }
   ],
   "source": [
    "# Removing a element\n",
    "x.remove(21)\n",
    "print(x)"
   ]
  },
  {
   "cell_type": "code",
   "execution_count": 44,
   "id": "817c2ff0-26b5-4f27-9f54-edf2b42cefb6",
   "metadata": {},
   "outputs": [
    {
     "name": "stdout",
     "output_type": "stream",
     "text": [
      "{1, 65, 3, 4, 5, 14, 24, 34, 100}\n"
     ]
    }
   ],
   "source": [
    "# Adding multiple Elements\n",
    "x.update([65,14,24,34])\n",
    "print(x)"
   ]
  },
  {
   "cell_type": "code",
   "execution_count": 48,
   "id": "4fb73e27-b06c-41f9-815f-9cad9afae40f",
   "metadata": {},
   "outputs": [
    {
     "data": {
      "text/plain": [
       "{1, 2, 3, 4, 5, 6}"
      ]
     },
     "execution_count": 48,
     "metadata": {},
     "output_type": "execute_result"
    }
   ],
   "source": [
    "# Combine two sets\n",
    "x = {1,2,3}\n",
    "y = {4,5,6}\n",
    "x.union(y)"
   ]
  },
  {
   "cell_type": "code",
   "execution_count": 52,
   "id": "67042ef8-821d-4eed-8f8c-eb8aa7ad90f9",
   "metadata": {},
   "outputs": [
    {
     "data": {
      "text/plain": [
       "{4, 5}"
      ]
     },
     "execution_count": 52,
     "metadata": {},
     "output_type": "execute_result"
    }
   ],
   "source": [
    "# Common values in two sets\n",
    "x = {1,2,3,5,4}\n",
    "y = {4,5,6}\n",
    "x.intersection(y)"
   ]
  },
  {
   "cell_type": "code",
   "execution_count": 54,
   "id": "dc47788a-b818-401d-bda7-1c5751ca169a",
   "metadata": {},
   "outputs": [
    {
     "data": {
      "text/plain": [
       "True"
      ]
     },
     "execution_count": 54,
     "metadata": {},
     "output_type": "execute_result"
    }
   ],
   "source": [
    "# Superset:- if X contains all the elements of Y\n",
    "x = {1,2,3,4,5}\n",
    "y = {1,2,3}\n",
    "x.issuperset(y)"
   ]
  },
  {
   "cell_type": "code",
   "execution_count": 60,
   "id": "2b7efd63-ab14-4ff6-afad-869028bca074",
   "metadata": {},
   "outputs": [
    {
     "data": {
      "text/plain": [
       "True"
      ]
     },
     "execution_count": 60,
     "metadata": {},
     "output_type": "execute_result"
    }
   ],
   "source": [
    "# Subset:- if X cintains all the elements of Y then Y is subset\n",
    "x = {1,2,3,4,5}\n",
    "y = {1,2,3}\n",
    "y.issubset(x)"
   ]
  },
  {
   "cell_type": "code",
   "execution_count": 66,
   "id": "054e92b3-3d6d-41d4-a69c-9865651a8ebe",
   "metadata": {},
   "outputs": [
    {
     "data": {
      "text/plain": [
       "{4, 5}"
      ]
     },
     "execution_count": 66,
     "metadata": {},
     "output_type": "execute_result"
    }
   ],
   "source": [
    "# Difference:- X will remove all the Elements of Y Basically a subtraction of Y from X\n",
    "x = {1,2,3,4,5}\n",
    "y = {1,2,3}\n",
    "x.difference(y)"
   ]
  },
  {
   "cell_type": "code",
   "execution_count": 68,
   "id": "da47d6e8-d0a9-4a6e-87a0-52e72f784a30",
   "metadata": {},
   "outputs": [
    {
     "data": {
      "text/plain": [
       "True"
      ]
     },
     "execution_count": 68,
     "metadata": {},
     "output_type": "execute_result"
    }
   ],
   "source": [
    "# IsDisjoint:- Returns True if no common elements else False\n",
    "x = {1,2,3}\n",
    "y = {4,5,6}\n",
    "\n",
    "x.isdisjoint(y)"
   ]
  },
  {
   "cell_type": "code",
   "execution_count": 77,
   "id": "a3a115a9-054a-421f-9c45-7f0c36317c0a",
   "metadata": {},
   "outputs": [
    {
     "name": "stdout",
     "output_type": "stream",
     "text": [
      "{1: 1, 2: 4, 3: 9, 4: 16, 5: 25, 6: 36}\n"
     ]
    }
   ],
   "source": [
    "x = [1,2,3,4,5,6]\n",
    "squares = {i:i**2 for i in x}\n",
    "print(squares)"
   ]
  },
  {
   "cell_type": "code",
   "execution_count": 79,
   "id": "5796753d-afde-4c71-a4ec-a7e26fba9268",
   "metadata": {},
   "outputs": [
    {
     "name": "stdout",
     "output_type": "stream",
     "text": [
      "{1, 4, 36, 9, 16, 25}\n"
     ]
    }
   ],
   "source": [
    "x = [1,2,3,4,5,6]\n",
    "squares = {i**2 for i in x}\n",
    "print(squares)"
   ]
  },
  {
   "cell_type": "code",
   "execution_count": 88,
   "id": "e5d1eca6-14f7-4b89-99de-825c89e38eee",
   "metadata": {},
   "outputs": [
    {
     "name": "stdin",
     "output_type": "stream",
     "text": [
      "Enter the Number:  787\n"
     ]
    },
    {
     "name": "stdout",
     "output_type": "stream",
     "text": [
      "Palindrome\n"
     ]
    }
   ],
   "source": [
    "# Palindrome number\n",
    "num = int(input(\"Enter the Number: \"))\n",
    "original = num \n",
    "reverse = 0\n",
    "while(num>0):\n",
    "    digit = num%10\n",
    "    reverse = reverse*10 + digit\n",
    "    num //= 10\n",
    "if(reverse == original):\n",
    "    print(\"Palindrome\")\n",
    "else:\n",
    "    print(\"Not Palindrome\")"
   ]
  },
  {
   "cell_type": "code",
   "execution_count": null,
   "id": "b5a24cb8-ab10-47f8-bf91-e515abe16c38",
   "metadata": {},
   "outputs": [],
   "source": [
    "\n",
    "        "
   ]
  }
 ],
 "metadata": {
  "kernelspec": {
   "display_name": "Python [conda env:base] *",
   "language": "python",
   "name": "conda-base-py"
  },
  "language_info": {
   "codemirror_mode": {
    "name": "ipython",
    "version": 3
   },
   "file_extension": ".py",
   "mimetype": "text/x-python",
   "name": "python",
   "nbconvert_exporter": "python",
   "pygments_lexer": "ipython3",
   "version": "3.12.7"
  }
 },
 "nbformat": 4,
 "nbformat_minor": 5
}
