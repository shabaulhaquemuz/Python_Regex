{
 "cells": [
  {
   "cell_type": "code",
   "execution_count": 5,
   "id": "f880d216-970b-446f-977d-bb49d36d72ee",
   "metadata": {},
   "outputs": [
    {
     "name": "stdout",
     "output_type": "stream",
     "text": [
      "[67, 89, 90, 1000]\n"
     ]
    }
   ],
   "source": [
    "#fetch value greater than 10 and store it in new_list\n",
    "list1=[10,4,5,67,89,90,1,2,3,1000]\n",
    "newlist=[]\n",
    "for i in list1:\n",
    "    if(i>10):\n",
    "        newlist.append(i)\n",
    "print(newlist)\n",
    "        "
   ]
  },
  {
   "cell_type": "code",
   "execution_count": 7,
   "id": "51018268-bafa-4573-996e-93425a1ae90d",
   "metadata": {},
   "outputs": [
    {
     "name": "stdout",
     "output_type": "stream",
     "text": [
      "[67, 89, 90, 1000]\n"
     ]
    }
   ],
   "source": [
    "list2=[10,4,5,67,89,90,1,2,3,1000]\n",
    "newlist1=[]\n",
    "for i in range(0,len(list2)):\n",
    "    if(list2[i]>10):\n",
    "        newlist1.append(list2[i])\n",
    "print(newlist1)"
   ]
  },
  {
   "cell_type": "code",
   "execution_count": 13,
   "id": "d918ee63-c3f4-4632-b4df-acbc35350bb2",
   "metadata": {},
   "outputs": [
    {
     "name": "stdout",
     "output_type": "stream",
     "text": [
      "hey\n",
      "naina\n",
      "29\n"
     ]
    }
   ],
   "source": [
    "#to print the elements of string data type from the list\n",
    "mylist=[10,20,30,\"hey\",\"naina\",10,\"29\"]\n",
    "for i in mylist:\n",
    "    if(type(i)==str):\n",
    "        print(i)"
   ]
  },
  {
   "cell_type": "code",
   "execution_count": 15,
   "id": "615dd02f-33f4-4b80-8d4f-14079fddc372",
   "metadata": {},
   "outputs": [
    {
     "name": "stdout",
     "output_type": "stream",
     "text": [
      "999\n"
     ]
    }
   ],
   "source": [
    "##to find the maximum in a list\n",
    "mylist2=[10,20,30,15,6,7,8,999]\n",
    "max=0\n",
    "for i in mylist2:\n",
    "    if(i>max):\n",
    "        max=i\n",
    "print(max)"
   ]
  },
  {
   "cell_type": "code",
   "execution_count": 6,
   "id": "f379921c-a705-41e7-a8a4-9631683afc9a",
   "metadata": {},
   "outputs": [
    {
     "name": "stdout",
     "output_type": "stream",
     "text": [
      "999\n"
     ]
    }
   ],
   "source": [
    "mylist8=[10,20,30,15,6,7,8,999]\n",
    "max=mylist8[0]\n",
    "for i in range(len(mylist8)):\n",
    "    if(mylist8[i]>max):\n",
    "        max=mylist8[i]\n",
    "print(max)"
   ]
  },
  {
   "cell_type": "code",
   "execution_count": 21,
   "id": "d5c36142-e299-47e1-b9e8-90a3b9d039b6",
   "metadata": {},
   "outputs": [
    {
     "name": "stdout",
     "output_type": "stream",
     "text": [
      "999\n"
     ]
    }
   ],
   "source": [
    "##to find the maximum in a list\n",
    "mylist3=[10,20,30,15,6,7,8,999]\n",
    "max=0\n",
    "for i in range(len(mylist3)):\n",
    "    if(mylist3[i]>max):\n",
    "        max=mylist3[i]\n",
    "print(max)"
   ]
  },
  {
   "cell_type": "code",
   "execution_count": 8,
   "id": "5f2d79dd-b522-4753-906e-e4b0cb208d0e",
   "metadata": {},
   "outputs": [
    {
     "name": "stdout",
     "output_type": "stream",
     "text": [
      "-1\n"
     ]
    }
   ],
   "source": [
    "mylist9=[-1,-34,-2,-543,-56,-3212]\n",
    "max=mylist9[0]\n",
    "for i in range(len(mylist9)):\n",
    "    if(mylist9[i]>max):\n",
    "        max=mylist9[i]\n",
    "print(max)\n",
    "#if its negative elements in the list,then indexing method is used to find the maximum."
   ]
  },
  {
   "cell_type": "code",
   "execution_count": 27,
   "id": "54053e8c-7f61-482b-91ce-e37e8af51674",
   "metadata": {},
   "outputs": [
    {
     "name": "stdout",
     "output_type": "stream",
     "text": [
      "999\n"
     ]
    }
   ],
   "source": [
    "mylist4=[10,20,30,15,6,7,8,999]\n",
    "start=0\n",
    "for i in range(len(mylist4)):\n",
    "    if(mylist4[start]<mylist4[i]):\n",
    "        mylist4[start]=mylist4[i]\n",
    "print(mylist4[start])"
   ]
  },
  {
   "cell_type": "code",
   "execution_count": 29,
   "id": "6f844d41-c6a4-486d-b396-25ebfe2741c5",
   "metadata": {},
   "outputs": [
    {
     "name": "stdout",
     "output_type": "stream",
     "text": [
      "sum is: 1095\n",
      "average is: 136.875\n"
     ]
    }
   ],
   "source": [
    "##average of elements of a list\n",
    "mylist5=[10,20,30,15,6,7,8,999]\n",
    "sum=0\n",
    "for i in mylist5:\n",
    "    sum+=i\n",
    "average=sum/len(mylist5)\n",
    "print(\"sum is:\",sum)\n",
    "print(\"average is:\",average)\n"
   ]
  },
  {
   "cell_type": "code",
   "execution_count": 33,
   "id": "7ffc6e2d-239f-42d2-84e5-97601c8c696c",
   "metadata": {},
   "outputs": [
    {
     "name": "stdout",
     "output_type": "stream",
     "text": [
      "shabaul\n",
      "haque\n"
     ]
    }
   ],
   "source": [
    "##to check which element of the list has more than 4 letters\n",
    "mylist6=['hllo','hey','user','aman','shabaul','haque']\n",
    "for i in mylist6:\n",
    "    if(len(i)>4):\n",
    "        print(i)\n"
   ]
  },
  {
   "cell_type": "code",
   "execution_count": 37,
   "id": "5185a337-9701-4820-b814-e92eb5f6f8b2",
   "metadata": {},
   "outputs": [
    {
     "name": "stdout",
     "output_type": "stream",
     "text": [
      "-3212\n"
     ]
    }
   ],
   "source": [
    "#finding minimum(-ve values) using min=0,max cant be founded for -ve values from this method\n",
    "V=[-1,-34,-2,-543,-56,-3212]\n",
    "min=0\n",
    "for i in V:\n",
    "    if(i<min):\n",
    "        min=i\n",
    "print(min)"
   ]
  },
  {
   "cell_type": "code",
   "execution_count": 59,
   "id": "f00769ae-f723-4cf4-984b-94579cf8509d",
   "metadata": {},
   "outputs": [
    {
     "name": "stdout",
     "output_type": "stream",
     "text": [
      "865\n"
     ]
    }
   ],
   "source": [
    "#Finding second maximum in a list\n",
    "o=[5764,23,43,67,865,42]\n",
    "o.sort()\n",
    "print(o[-2])"
   ]
  },
  {
   "cell_type": "code",
   "execution_count": 71,
   "id": "81ae6254-834a-4b1a-8940-745aa8455ef1",
   "metadata": {},
   "outputs": [
    {
     "name": "stdout",
     "output_type": "stream",
     "text": [
      "10000 5764\n"
     ]
    }
   ],
   "source": [
    "#Finding second maximum in a list\n",
    "o=[5764,23,43,67,865,42,10000]\n",
    "if(o[0]>o[1]):\n",
    "    maximum=o[0]\n",
    "    secondmaximum=o[1]\n",
    "else:\n",
    "    maximum=o[1]\n",
    "    secondmaximum=o[0]\n",
    "for i in o[2:]:\n",
    "    if(i>maximum):\n",
    "        secondmaximum=maximum\n",
    "        maximum=i\n",
    "    elif(i>secondmaximum and secondmaximum!=maximum):\n",
    "        secondmaximum=i\n",
    "print(maximum,secondmaximum)"
   ]
  },
  {
   "cell_type": "code",
   "execution_count": 75,
   "id": "15541106-32d9-4362-b5fe-19d945b00030",
   "metadata": {},
   "outputs": [
    {
     "name": "stdout",
     "output_type": "stream",
     "text": [
      "[22, 3, 2, 4, 55, 66, 33, 222] [222, 22, 3, 55]\n"
     ]
    }
   ],
   "source": [
    "#finding duplicate in a list and create a new list for duplicate\n",
    "p=[22,3,2,4,55,66,33,222,222,22,3,55]\n",
    "newlist=[]\n",
    "duplicate=[]\n",
    "for i in p:\n",
    "    if(i not in newlist):\n",
    "        newlist.append(i)\n",
    "    else:\n",
    "        duplicate.append(i)\n",
    "print(newlist,duplicate)"
   ]
  },
  {
   "cell_type": "code",
   "execution_count": 12,
   "id": "2dbf4b19-9863-46f3-b5a1-b3faa1323444",
   "metadata": {},
   "outputs": [
    {
     "name": "stdout",
     "output_type": "stream",
     "text": [
      "duplicate: 222\n",
      "duplicate: 22\n",
      "duplicate: 3\n",
      "duplicate: 55\n",
      "[22, 3, 2, 4, 55, 66, 33, 222]\n"
     ]
    }
   ],
   "source": [
    "#finding duplicate in a list and printing it\n",
    "p=[22,3,2,4,55,66,33,222,222,22,3,55]\n",
    "newlist=[]\n",
    "for i in p:\n",
    "    if(i not in newlist):\n",
    "        newlist.append(i)\n",
    "    else:\n",
    "        print(\"duplicate:\",i)\n",
    "print(newlist)"
   ]
  },
  {
   "cell_type": "code",
   "execution_count": 20,
   "id": "df194a49-83c8-4566-a3cb-bebc5afc90c1",
   "metadata": {},
   "outputs": [
    {
     "name": "stdout",
     "output_type": "stream",
     "text": [
      "0 10\n"
     ]
    }
   ],
   "source": [
    "#nested loop\n",
    "list10=[10,20,30,40]\n",
    "for i in range(0,1):\n",
    "    print(i,list10[i])"
   ]
  },
  {
   "cell_type": "code",
   "execution_count": 22,
   "id": "82738320-8ef3-4bc3-b837-d4644d5e33e2",
   "metadata": {},
   "outputs": [
    {
     "name": "stdout",
     "output_type": "stream",
     "text": [
      "0 10\n",
      "1 20\n",
      "2 30\n"
     ]
    }
   ],
   "source": [
    "list11=[10,20,30,40]\n",
    "for i in range(0,3):\n",
    "    print(i,list10[i])"
   ]
  },
  {
   "cell_type": "code",
   "execution_count": 26,
   "id": "58a3cba7-7dc5-4d72-a9b7-cf2df624e747",
   "metadata": {},
   "outputs": [
    {
     "name": "stdout",
     "output_type": "stream",
     "text": [
      "0 10\n",
      "1 20\n",
      "2 30\n",
      "3 40\n"
     ]
    }
   ],
   "source": [
    "list12=[10,20,30,40]\n",
    "for i in range(len(list12)):\n",
    "    print(i,list10[i])"
   ]
  },
  {
   "cell_type": "code",
   "execution_count": 45,
   "id": "a21a0cf0-28ac-4dfa-834d-cb3a3b1a4aaa",
   "metadata": {},
   "outputs": [
    {
     "name": "stdout",
     "output_type": "stream",
     "text": [
      "10\n",
      "0 10 20\n",
      "0 10 30\n",
      "0 10 40\n"
     ]
    }
   ],
   "source": [
    "list13=[10,20,30,40]\n",
    "for i in range(0,1):\n",
    "    print(list13[i])\n",
    "    for j in range(1,4):\n",
    "        print(i,list13[i],list13[j])"
   ]
  },
  {
   "cell_type": "code",
   "execution_count": 49,
   "id": "77ea6fe2-5578-42b2-8974-4c96abf932b8",
   "metadata": {},
   "outputs": [
    {
     "name": "stdout",
     "output_type": "stream",
     "text": [
      "10\n",
      "0 10 20\n",
      "0 10 30\n",
      "0 10 40\n",
      "20\n",
      "1 20 20\n",
      "1 20 30\n",
      "1 20 40\n"
     ]
    }
   ],
   "source": [
    "list14=[10,20,30,40]\n",
    "for i in range(0,2):\n",
    "    print(list14[i])\n",
    "    for j in range(1,4):\n",
    "        print(i,list14[i],list14[j])"
   ]
  },
  {
   "cell_type": "code",
   "execution_count": 51,
   "id": "24887ea0-9031-4797-bda9-11f9d9c48617",
   "metadata": {},
   "outputs": [
    {
     "name": "stdout",
     "output_type": "stream",
     "text": [
      "10\n",
      "0 10 20\n",
      "0 10 30\n",
      "0 10 40\n",
      "20\n",
      "1 20 20\n",
      "1 20 30\n",
      "1 20 40\n",
      "30\n",
      "2 30 20\n",
      "2 30 30\n",
      "2 30 40\n",
      "40\n",
      "3 40 20\n",
      "3 40 30\n",
      "3 40 40\n"
     ]
    }
   ],
   "source": [
    "list15=[10,20,30,40]\n",
    "for i in range(0,4):\n",
    "    print(list15[i])\n",
    "    for j in range(1,4):\n",
    "        print(i,list15[i],list15[j])"
   ]
  },
  {
   "cell_type": "code",
   "execution_count": 69,
   "id": "1a0fbed2-859a-4d81-bffe-5a4e3a8ed5c5",
   "metadata": {},
   "outputs": [
    {
     "name": "stdout",
     "output_type": "stream",
     "text": [
      "duplicates are: 10\n",
      "duplicates are: 20\n"
     ]
    }
   ],
   "source": [
    "#to check duplicate elements in the list\n",
    "list15=[10,20,30,40,10,20]\n",
    "for i in range(len(list15)):\n",
    "    for j in range(i+1,len(list15)):\n",
    "        if(list15[i]==list15[j]):\n",
    "            print(\"duplicates are:\",list15[j])"
   ]
  },
  {
   "cell_type": "code",
   "execution_count": 73,
   "id": "98b0f263-7345-4d9b-adce-25c6fd2fe3c0",
   "metadata": {},
   "outputs": [
    {
     "name": "stdout",
     "output_type": "stream",
     "text": [
      "duplicates are: 10\n",
      "duplicates are: 20\n",
      "duplicates are: 20\n",
      "duplicates are: 20\n"
     ]
    }
   ],
   "source": [
    "#to check duplicate elements in the list[problem: it prints the duplicate value multiple times]\n",
    "list16=[10,20,30,40,10,20,20]\n",
    "for i in range(len(list16)):\n",
    "    for j in range(i+1,len(list16)):\n",
    "        if(list16[i]==list16[j]):\n",
    "            print(\"duplicates are:\",list16[j])"
   ]
  },
  {
   "cell_type": "code",
   "execution_count": 79,
   "id": "fa72e96d-da0d-4889-a492-3cc78f7ede40",
   "metadata": {},
   "outputs": [
    {
     "name": "stdout",
     "output_type": "stream",
     "text": [
      "duplicate values are: [10, 20]\n"
     ]
    }
   ],
   "source": [
    "#to check duplicate elements in the list[problem: it prints the duplicate value multiple times]\n",
    "list17=[10,20,30,40,10,20,20]\n",
    "duplicate=[]\n",
    "for i in range(len(list17)):\n",
    "    for j in range(i+1,len(list17)):\n",
    "        if(list17[i]==list17[j] and list17[i] not in duplicate):\n",
    "            duplicate.append(list17[i])\n",
    "print(\"duplicate values are:\",duplicate)"
   ]
  },
  {
   "cell_type": "code",
   "execution_count": 85,
   "id": "fe00628f-b9ba-4cf6-996a-2a6c8e733f3c",
   "metadata": {},
   "outputs": [
    {
     "name": "stdout",
     "output_type": "stream",
     "text": [
      "2 7\n",
      "3 6\n",
      "4 5\n"
     ]
    }
   ],
   "source": [
    "#to check if sum of two elements of a list is 9\n",
    "list18=[1,2,3,7,14,6,4,5]\n",
    "for i in range(len(list18)):\n",
    "    for j in range(i+1,len(list18)):\n",
    "        if(list18[i]+list18[j]==9):\n",
    "            print(list18[i],list18[j])"
   ]
  },
  {
   "cell_type": "code",
   "execution_count": 91,
   "id": "c43d9ffa-858b-4a8e-90b0-933c688fa899",
   "metadata": {},
   "outputs": [
    {
     "name": "stdout",
     "output_type": "stream",
     "text": [
      "e\n"
     ]
    }
   ],
   "source": [
    "#to print duplicate characters from a string\n",
    "string=\"hey user\"\n",
    "for i in range(len(string)):\n",
    "    for j in range(i+1,len(string)):\n",
    "        if(string[i]==string[j]):\n",
    "            print(string[i])"
   ]
  },
  {
   "cell_type": "code",
   "execution_count": 95,
   "id": "5b816a4b-099b-4399-b121-6e9a3ffcd287",
   "metadata": {},
   "outputs": [
    {
     "name": "stdout",
     "output_type": "stream",
     "text": [
      "e\n",
      "e\n",
      "e\n",
      "e\n",
      "u\n",
      "e\n",
      "e\n",
      "e\n",
      "e\n",
      "e\n",
      "e\n"
     ]
    }
   ],
   "source": [
    "#to print duplicate characters from a string[problem:print duplicate characters multiple times]\n",
    "string=\"hey usereeue\"\n",
    "for i in range(len(string)):\n",
    "    for j in range(i+1,len(string)):\n",
    "        if(string[i]==string[j]):\n",
    "            print(string[i])"
   ]
  },
  {
   "cell_type": "code",
   "execution_count": 103,
   "id": "48633388-6401-4907-a9d4-6e58322b2d02",
   "metadata": {},
   "outputs": [
    {
     "name": "stdout",
     "output_type": "stream",
     "text": [
      "['e', 'u']\n"
     ]
    }
   ],
   "source": [
    "#to print duplicate characters from a string[problem:print duplicate characters multiple times],solution is below:-\n",
    "string=\"hey usereeue\"\n",
    "duplicatestr=[]\n",
    "for i in range(len(string)):\n",
    "    for j in range(i+1,len(string)):\n",
    "        if(string[i]==string[j] and string[i] not in duplicatestr):\n",
    "            duplicatestr.append(string[i])\n",
    "print(duplicatestr)"
   ]
  },
  {
   "cell_type": "code",
   "execution_count": 28,
   "id": "13d35f32-cba9-464b-9178-9fe90d14a8c8",
   "metadata": {},
   "outputs": [
    {
     "name": "stdout",
     "output_type": "stream",
     "text": [
      "2 7\n",
      "3 6\n",
      "4 5\n",
      "5 4\n",
      "6 3\n",
      "7 2\n"
     ]
    }
   ],
   "source": [
    "#finding two elements sum of which is 9 using single loop and using two pointer approach(while loop)\n",
    "list19=[1,2,3,5,7,11,18,6,4]\n",
    "start=0\n",
    "end=len(list19)-1\n",
    "list19.sort()\n",
    "while(start<len(list19)):\n",
    "    if(list19[start]+list19[end]>9):\n",
    "        end-=1\n",
    "    elif(list19[start]+list19[end]<9):\n",
    "        start+=1\n",
    "    else:\n",
    "        print(list19[start],list19[end])\n",
    "    start+=1\n",
    "    end-=1\n",
    "    \n"
   ]
  },
  {
   "cell_type": "code",
   "execution_count": 14,
   "id": "ec8fbb0a-e847-474a-94bf-a22091c7b80e",
   "metadata": {},
   "outputs": [
    {
     "name": "stdout",
     "output_type": "stream",
     "text": [
      "palindrome\n"
     ]
    }
   ],
   "source": [
    "#to check if a string is palindrome\n",
    "string1=\"SARAS\"\n",
    "start=0\n",
    "end=len(string1)-1\n",
    "count=0\n",
    "while(start<len(string1)):\n",
    "    if(string1[start]!=string1[end]):\n",
    "        count=1\n",
    "        break\n",
    "    start+=1\n",
    "    end-=1\n",
    "\n",
    "if(count==0):\n",
    "    print(\"palindrome\")\n",
    "else:\n",
    "    print(\"non-palindrome\")\n",
    "        \n",
    "    "
   ]
  },
  {
   "cell_type": "code",
   "execution_count": 18,
   "id": "fcca1f3a-cc2d-42b6-ab83-a6f0b33fe4f6",
   "metadata": {},
   "outputs": [
    {
     "name": "stdout",
     "output_type": "stream",
     "text": [
      "[10, 31]\n"
     ]
    }
   ],
   "source": [
    "#to print duplicate item just once, using for loop\n",
    "list20=[10,20,10,10,10,10,31,40,31]\n",
    "duplicate=[]\n",
    "for i in range(len(list20)):\n",
    "    for j in range(i+1,len(list20)):\n",
    "        if(list20[i]==list20[j] and list20[i] not in duplicate):\n",
    "            duplicate.append(list20[i])\n",
    "print(duplicate)"
   ]
  },
  {
   "cell_type": "code",
   "execution_count": 8,
   "id": "38f47c8c-8736-44c3-8a2f-94edbb484a51",
   "metadata": {},
   "outputs": [
    {
     "name": "stdout",
     "output_type": "stream",
     "text": [
      "[10, 31]\n"
     ]
    }
   ],
   "source": [
    "list21 = [10, 20, 10, 10, 10, 10, 31, 40, 31]\n",
    "duplicate = []\n",
    "\n",
    "list21.sort()  # Sort so duplicates are adjacent\n",
    "i = 1\n",
    "\n",
    "while i < len(list21):\n",
    "    if(list21[i] == list21[i - 1] and list21[i] not in duplicate):\n",
    "            duplicate.append(list21[i])\n",
    "    i += 1\n",
    "\n",
    "print(duplicate)\n"
   ]
  },
  {
   "cell_type": "code",
   "execution_count": 2,
   "id": "1d318202-7030-4662-a93f-3a61ef278404",
   "metadata": {},
   "outputs": [
    {
     "name": "stdout",
     "output_type": "stream",
     "text": [
      "[10, 31]\n"
     ]
    }
   ],
   "source": [
    "list22=[10, 20, 10, 10, 10, 10, 31, 40, 31]\n",
    "duplicatelist=[]\n",
    "for i in range(len(list22)):\n",
    "    for j in range(i+1,len(list22)):\n",
    "        if(list22[i]==list22[j] and list22[i] not in duplicatelist):\n",
    "            duplicatelist.append(list22[i])\n",
    "print(duplicatelist)\n",
    "            "
   ]
  },
  {
   "cell_type": "code",
   "execution_count": 24,
   "id": "9989c77d-2107-475c-b431-551a024aef89",
   "metadata": {},
   "outputs": [
    {
     "name": "stdout",
     "output_type": "stream",
     "text": [
      "99\n"
     ]
    }
   ],
   "source": [
    "#1.Write a Python program to find the maximum element in a list of numbers without max functions\n",
    "#numbers = [10, 20, 4, 45, 99]\n",
    "#The maximum element is: 99\n",
    "x=[10,20,4,45,99]\n",
    "max=x[0]\n",
    "for i in range(len(x)):\n",
    "    if(x[i]>max):\n",
    "        max=x[i]\n",
    "print(max)"
   ]
  },
  {
   "cell_type": "code",
   "execution_count": 32,
   "id": "ed57ce81-f64f-400c-b2bb-1ba9329d077f",
   "metadata": {},
   "outputs": [
    {
     "name": "stdout",
     "output_type": "stream",
     "text": [
      "100\n"
     ]
    }
   ],
   "source": [
    "#2.Write a Python program to sum all the elements in a list of numbers.\n",
    "#a. numbers = [10, 20, 30, 40]\n",
    "#b. The sum of all elements is: 100\n",
    "x2=[10,20,30,40]\n",
    "sum=0\n",
    "for i in range(len(x2)):\n",
    "    sum+=x2[i]\n",
    "print(sum)"
   ]
  },
  {
   "cell_type": "code",
   "execution_count": 34,
   "id": "320c89cf-e1ca-47aa-8eb4-4ba13e77709b",
   "metadata": {},
   "outputs": [
    {
     "name": "stdout",
     "output_type": "stream",
     "text": [
      "[5, 4, 3, 2, 1]\n"
     ]
    }
   ],
   "source": [
    "#3.Write a Python program to reverse a list without reverse or slicing operator\n",
    "#a. numbers = [1, 2, 3, 4, 5]\n",
    "#b. Reversed list: [5, 4, 3, 2, 1]\n",
    "x3=[1,2,3,4,5]\n",
    "reverse=[]\n",
    "for i in range(len(x3)):\n",
    "    y=x3.pop()\n",
    "    reverse.append(y)\n",
    "print(reverse)"
   ]
  },
  {
   "cell_type": "code",
   "execution_count": 48,
   "id": "7af9f6dc-1feb-4b19-8935-9d99ba5fe605",
   "metadata": {},
   "outputs": [
    {
     "name": "stdout",
     "output_type": "stream",
     "text": [
      "[4, 54, 67, 76, 90, 800, 900, 1000]\n"
     ]
    }
   ],
   "source": [
    "#4.Write a Python program to sort a list in ascending order without sort functions\n",
    "x4=[4,76,54,67,90,1000,800,900]\n",
    "for i in range(len(x4)):\n",
    "    for j in range(i+1,len(x4)):\n",
    "        if(x4[i]>x4[j]):\n",
    "            x4[i],x4[j]=x4[j],x4[i]\n",
    "print(x4)\n"
   ]
  },
  {
   "cell_type": "code",
   "execution_count": 52,
   "id": "bb2e915a-2620-4786-9775-24e3b92afc48",
   "metadata": {},
   "outputs": [
    {
     "name": "stdout",
     "output_type": "stream",
     "text": [
      "[1, 2, 3, 4, 5]\n"
     ]
    }
   ],
   "source": [
    "#5.Write a Python program to remove duplicates from a list while maintaining the order of elements.\n",
    "#a. numbers = [1, 2, 2, 3, 4, 4, 5]\n",
    "#b. List after removing duplicates: [1, 2, 3, 4, 5]\n",
    "x5=[1, 2, 2, 3, 4, 4, 5]\n",
    "newlist10=[]\n",
    "for i in range(len(x5)):\n",
    "    if(x5[i] not in newlist10):\n",
    "        newlist10.append(x5[i])\n",
    "print(newlist10)\n",
    "            "
   ]
  },
  {
   "cell_type": "code",
   "execution_count": 54,
   "id": "24f3e09c-f93f-439c-8a6b-ead2385dd21d",
   "metadata": {},
   "outputs": [
    {
     "name": "stdout",
     "output_type": "stream",
     "text": [
      "1 5\n",
      "2 4\n",
      "3 3\n"
     ]
    }
   ],
   "source": [
    "#6.Write a Python program to find all pairs of numbers in a list that add up to a specific target sum.\n",
    "#a. numbers = [1, 2, 3, 4, 3, 5, 6] target_sum = 6\n",
    "#b. Pairs that add up to 6: [(3, 3), (2, 4), (1, 5)]\n",
    "x6=[1, 2, 3, 4, 3, 5, 6]\n",
    "for i in range(len(x6)):\n",
    "    for j in range(i+1,len(x6)):\n",
    "        if(x6[i]+x6[j]==6):\n",
    "            print(x6[i],x6[j])"
   ]
  },
  {
   "cell_type": "code",
   "execution_count": 88,
   "id": "c0d9d7d7-f617-4dc8-bac4-ae9233b67b7e",
   "metadata": {},
   "outputs": [
    {
     "name": "stdout",
     "output_type": "stream",
     "text": [
      "[1, 2, 3, 4, [5, 6], 7, 8]\n",
      "[1, 2, 3, 4, 5, 6, 7, 8]\n"
     ]
    }
   ],
   "source": [
    "#7.Write a Python program to flatten a nested list (list within lists) into a single list.\n",
    "#a. nested_list = [1, [2, 3], [4, [5, 6], 7], 8]\n",
    "#b. Flattened list: [1, 2, 3, 4, 5, 6, 7, 8]\n",
    "nested_list = [1, [2, 3], [4, [5, 6], 7], 8]\n",
    "flattened_list=[]\n",
    "newlist=[]\n",
    "for i in range(len(nested_list)):\n",
    "    if(type(nested_list[i])==list):\n",
    "        newlist.extend(nested_list[i])\n",
    "    else:\n",
    "        newlist.append(nested_list[i])\n",
    "for i in range(len(newlist)):\n",
    "    if(type(newlist[i])==list):\n",
    "        flattened_list.extend(newlist[i])\n",
    "    else:\n",
    "        flattened_list.append(newlist[i])\n",
    "print(newlist)\n",
    "print(flattened_list)"
   ]
  },
  {
   "cell_type": "code",
   "execution_count": 74,
   "id": "e9cf5cb3-64bf-4df0-9c55-66da6347211c",
   "metadata": {},
   "outputs": [
    {
     "name": "stdout",
     "output_type": "stream",
     "text": [
      "9\n"
     ]
    }
   ],
   "source": [
    "#8.Write a Python program to find the sum of the elements in a list, excluding the largest and smallest element. Don’t use max or min functions\n",
    "#a. numbers = [1, 2, 3, 4, 5]\n",
    "#b. Sum excluding the largest and smallest element: 9\n",
    "x8=[1,2,3,4,5]\n",
    "max=x8[0]\n",
    "min=x8[0]\n",
    "sum=0\n",
    "for i in range(len(x8)):\n",
    "    if(x8[i]>max):\n",
    "        max=x8[i]\n",
    "for i in range(len(x8)):\n",
    "    if(x8[i]<min):\n",
    "        min=x8[i]\n",
    "for i in range(len(x8)):\n",
    "    if(x8[i]!=max and x8[i]!=min):\n",
    "        sum+=x8[i]\n",
    "print(sum)\n",
    "    "
   ]
  },
  {
   "cell_type": "code",
   "execution_count": 5,
   "id": "e0afe49b-a365-4348-b845-9ebba2fb661f",
   "metadata": {},
   "outputs": [
    {
     "name": "stdout",
     "output_type": "stream",
     "text": [
      "palindrome\n"
     ]
    }
   ],
   "source": [
    "#Write a Python program to check if a list is a palindrome (reads the same backward as forward) using two pointer approach\n",
    "#a. numbers = [1, 2, 3, 2, 1]\n",
    "#b. True\n",
    "x9=[1,2,3,2,1]\n",
    "start=0\n",
    "end=len(x9)-1\n",
    "count=0\n",
    "while(start<len(x9)):\n",
    "    if(x9[start]!=x9[end]):\n",
    "        count=1\n",
    "        break\n",
    "    start+=1\n",
    "    end-=1\n",
    "if(count==0):\n",
    "    print(\"palindrome\")\n",
    "else:\n",
    "    print(\"non-palindrome\")"
   ]
  },
  {
   "cell_type": "code",
   "execution_count": 7,
   "id": "fec553c7-9443-4f9b-9ffb-88d93dbacc4e",
   "metadata": {},
   "outputs": [
    {
     "name": "stdout",
     "output_type": "stream",
     "text": [
      "[1, 2, 3, 4, 5, 6]\n"
     ]
    }
   ],
   "source": [
    "#10. Write a function to remove duplicate elements from a list.\n",
    "#a. numbers = [1, 2, 3, 2, 4, 5, 1, 6]\n",
    "#b. [1, 2, 3, 4, 5, 6]\n",
    "newlist11=[]\n",
    "x10=[1, 2, 3, 2, 4, 5, 1, 6]\n",
    "for i in range(len(x10)):\n",
    "    if(x10[i] not in newlist11):\n",
    "        newlist11.append(x10[i])\n",
    "print(newlist11)\n"
   ]
  },
  {
   "cell_type": "code",
   "execution_count": 9,
   "id": "684742ac-f836-4aa8-a827-e070c048b563",
   "metadata": {},
   "outputs": [
    {
     "name": "stdout",
     "output_type": "stream",
     "text": [
      "[3, 4, 5]\n"
     ]
    }
   ],
   "source": [
    "#11. Find Common Elements in Two Lists\n",
    "#a. list1 = [1, 2, 3, 4, 5]\n",
    "#b. list2 = [3, 4, 5, 6, 7]\n",
    "#c. Result: [3, 4, 5]\n",
    "x11 = [1, 2, 3, 4, 5]\n",
    "x12 = [3, 4, 5, 6, 7]\n",
    "commonelements=[]\n",
    "for i in range(len(x11)):\n",
    "    for j in range(len(x12)):\n",
    "        if(x11[i]==x12[j]):\n",
    "            commonelements.append(x11[i])\n",
    "print(commonelements)\n",
    "            "
   ]
  },
  {
   "cell_type": "code",
   "execution_count": 11,
   "id": "adbb9e17-8c9c-4c2d-8cb1-afbaf0017cfd",
   "metadata": {},
   "outputs": [
    {
     "name": "stdout",
     "output_type": "stream",
     "text": [
      "[3, 4, 5]\n"
     ]
    }
   ],
   "source": [
    "x13 = [1, 2, 3, 4, 5]\n",
    "x14 = [3, 4, 5, 6, 7]\n",
    "commonelements=[]\n",
    "for i in range(len(x13)):\n",
    "        if(x13[i] in x14):\n",
    "            commonelements.append(x13[i])\n",
    "print(commonelements)\n",
    "            "
   ]
  },
  {
   "cell_type": "code",
   "execution_count": 13,
   "id": "291ecc98-c3f1-45a9-a46a-2dd086fb50d5",
   "metadata": {},
   "outputs": [
    {
     "name": "stdout",
     "output_type": "stream",
     "text": [
      "strawberry\n"
     ]
    }
   ],
   "source": [
    "#12. Find the Longest Word in a List\n",
    "#a. words = [\"apple\", \"banana\", \"strawberry\", \"kiwi\"]\n",
    "#b. Strawberry\n",
    "words = [\"apple\", \"banana\", \"strawberry\", \"kiwi\"]\n",
    "longest=words[0]\n",
    "for i in words:\n",
    "    if(len(i)>len(longest)):\n",
    "        longest=i\n",
    "print(longest)"
   ]
  },
  {
   "cell_type": "code",
   "execution_count": 35,
   "id": "4e382d5b-1be0-45e6-b702-37939bfb1cf4",
   "metadata": {},
   "outputs": [
    {
     "name": "stdout",
     "output_type": "stream",
     "text": [
      "[3, 8, 12]\n"
     ]
    }
   ],
   "source": [
    "#14. Find Missing Number in a List\n",
    "#You are given a list of n-1 numbers in the range 1 to n. One number is missing from the sequence. Find the missing number.\n",
    "#a. numbers = [1, 2, 4, 5, 6]\n",
    "#b. 3\n",
    "x15=[1,2,4,5,6,7,9,10,11,13]\n",
    "first=0\n",
    "second=1\n",
    "missing=[]\n",
    "for i in range(len(x15)-1):\n",
    "    if(x15[second]-x15[first]!=1):\n",
    "        missing.append(x15[second]-1)\n",
    "    first+=1\n",
    "    second+=1\n",
    "print(missing)        "
   ]
  },
  {
   "cell_type": "code",
   "execution_count": 49,
   "id": "6a67e35f-745f-48d7-b8f6-54c6210668e7",
   "metadata": {},
   "outputs": [
    {
     "name": "stdout",
     "output_type": "stream",
     "text": [
      "First non-repeating element: 1\n"
     ]
    }
   ],
   "source": [
    "#15. Find the First Non-Repeating Element\n",
    "#Given a list of integers, find the first element that appears only once.\n",
    "#a. numbers = [4, 5, 1, 2, 0, 4, 5, 2]\n",
    "#b. Expected Output: 1\n",
    "list18 = [4, 5, 1, 2, 0, 4, 5, 2]\n",
    "\n",
    "for i in range(len(list18)):\n",
    "    count = 0\n",
    "    for j in range(len(list18)):\n",
    "        if( i != j and list18[i] == list18[j]):\n",
    "            count += 1\n",
    "            break  \n",
    "    if( count == 0):\n",
    "        print(\"First non-repeating element:\", list18[i])\n",
    "        break"
   ]
  },
  {
   "cell_type": "code",
   "execution_count": 51,
   "id": "ed146894-e81b-4617-9e0f-fadfe05a4878",
   "metadata": {},
   "outputs": [
    {
     "name": "stdout",
     "output_type": "stream",
     "text": [
      "[1, 3, 1, 2, 0, 0]\n"
     ]
    }
   ],
   "source": [
    "#16. Move All Zeros to the End\n",
    "#Given a list of integers, move all zeros to the end while maintaining the relative order of non-zero elements. Don’t use any inbuilt functions\n",
    "#a. numbers = [0, 1, 0, 3, 12]\n",
    "#b. [1, 3, 12, 0, 0]\n",
    "list20 = [0, 1, 0, 3, 1, 2]\n",
    "\n",
    "a = 0\n",
    "\n",
    "for i in range(len(list20)):\n",
    "    if list20[i] != 0:\n",
    "        list20[a] = list20[i]\n",
    "        a += 1\n",
    "\n",
    "while a < len(list20):\n",
    "    list20[a] = 0\n",
    "    a += 1\n",
    "\n",
    "print(list20)\n"
   ]
  },
  {
   "cell_type": "code",
   "execution_count": 53,
   "id": "e1ff1d4c-cd04-487e-9c30-37910ca3e5a5",
   "metadata": {},
   "outputs": [
    {
     "name": "stdout",
     "output_type": "stream",
     "text": [
      "[1, 3, 12, 7, 9, 0, 0, 0]\n"
     ]
    }
   ],
   "source": [
    "numbers=[0,1,0,3,12,7,9,0]\n",
    "a=0\n",
    "end=len(numbers)-1\n",
    "for i in range(len(numbers)):\n",
    "    if(numbers[i]!=0):\n",
    "        numbers[a]=numbers[i]\n",
    "        a+=1\n",
    "for i in range(a,len(numbers)):\n",
    "    numbers[i]=0\n",
    "print(numbers)"
   ]
  },
  {
   "cell_type": "code",
   "execution_count": 55,
   "id": "5f3674d8-587c-4097-befe-c569bb89f308",
   "metadata": {},
   "outputs": [
    {
     "name": "stdout",
     "output_type": "stream",
     "text": [
      "[3, 6, 8]\n"
     ]
    }
   ],
   "source": [
    "#17. Find Elements Greater Than Their Left Neighbor\n",
    "#a. numbers = [1, 3, 2, 6, 5, 8, 7]\n",
    "#b. [3, 6, 8]\n",
    "list21 = [1, 3, 2, 6, 5, 8, 7]\n",
    "greaterlist = []\n",
    "\n",
    "for i in range(1, len(list21)):\n",
    "    if list21[i] > list21[i - 1]:\n",
    "        greaterlist.append(list21[i])\n",
    "\n",
    "print(greaterlist)"
   ]
  },
  {
   "cell_type": "code",
   "execution_count": 57,
   "id": "cebaf0a1-dccd-4562-8cb7-07d99404151d",
   "metadata": {},
   "outputs": [
    {
     "name": "stdout",
     "output_type": "stream",
     "text": [
      "3\n",
      "6\n",
      "8\n"
     ]
    }
   ],
   "source": [
    "number=[1,3,2,6,5,8,7]\n",
    "a=0\n",
    "b=1\n",
    "for i in range(len(number)-1):\n",
    "    if(number[b]>number[a]):\n",
    "        print(number[b])\n",
    "    a+=1\n",
    "    b+=1"
   ]
  },
  {
   "cell_type": "code",
   "execution_count": 59,
   "id": "9ca6b283-f55e-488b-ae82-fd42774c442e",
   "metadata": {},
   "outputs": [
    {
     "name": "stdout",
     "output_type": "stream",
     "text": [
      "[[-1, 0, 1], [-1, -1, 2]]\n"
     ]
    }
   ],
   "source": [
    "#18. Find Triplets That Sum to Zero\n",
    "#Given a list of numbers, find all unique triplets (a, b, c) such that a + b + c = 0.\n",
    "#a. numbers = [-1, 0, 1, 2, -1, -4]\n",
    "#b. Expected Output: [(-1, -1, 2), (-1, 0, 1)]\n",
    "list=[-1,0,1,2,-1,-4]\n",
    "new=[]\n",
    "for i in range(0,len(list)):\n",
    "    for j in range(i+1,len(list)):\n",
    "        for k in range(j+1,len(list)):\n",
    "            if(list[i]+list[j]+list[k]==0):\n",
    "                triplet=[list[i],list[j],list[k]]\n",
    "                triplet.sort()\n",
    "                if(triplet not in new):\n",
    "                    new.append(triplet)\n",
    "print(new)"
   ]
  },
  {
   "cell_type": "code",
   "execution_count": null,
   "id": "e3e5e26b-a8b3-4dde-987f-eebaefb3b2d8",
   "metadata": {},
   "outputs": [],
   "source": []
  }
 ],
 "metadata": {
  "kernelspec": {
   "display_name": "Python 3 (ipykernel)",
   "language": "python",
   "name": "python3"
  },
  "language_info": {
   "codemirror_mode": {
    "name": "ipython",
    "version": 3
   },
   "file_extension": ".py",
   "mimetype": "text/x-python",
   "name": "python",
   "nbconvert_exporter": "python",
   "pygments_lexer": "ipython3",
   "version": "3.12.4"
  }
 },
 "nbformat": 4,
 "nbformat_minor": 5
}
