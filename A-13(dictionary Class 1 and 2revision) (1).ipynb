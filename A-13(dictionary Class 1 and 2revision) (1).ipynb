{
 "cells": [
  {
   "cell_type": "code",
   "execution_count": 1,
   "id": "ecb582ae-da95-4435-9229-059b7471dc3b",
   "metadata": {},
   "outputs": [],
   "source": [
    "#A dictionary in Python is an unordered,unindexed, mutable collection of key-value pairs. It allows fast retrieval of values based on unique keys.\n",
    "\n",
    "# Keys must be unique and immutable (e.g., strings, numbers, tuples).\n",
    "# Values can be any data type and can be repeated.\n",
    "# Defined using curly braces {} or the dict() constructor.\n",
    "#stores data in key:value pair\n",
    "#keys are unique but values are either unique or duplicates\n",
    "#it has no indexing so data are accessed through keys only\n",
    "#Dictionaries in Python 3.7 and above are ordered collections — they maintain the order of insertion of keys.\n",
    "#Dictionaries in Python 3.6 and below are unordered collections.\n"
   ]
  },
  {
   "cell_type": "code",
   "execution_count": 3,
   "id": "2e04c209-5075-4b61-a355-7d5b180c6bf6",
   "metadata": {},
   "outputs": [],
   "source": [
    "#why do we need dictionary?\n",
    "#when we insert a new element in a list at a particular index, the position of all the elements present in the right \n",
    "# are shifted from its place which basically takes a large time. So the time complexity become O(n) which is large.\n",
    "#dictionary has no index so we can insert through keys at any position in O(1) time, no need to shift other elements."
   ]
  },
  {
   "cell_type": "code",
   "execution_count": 5,
   "id": "291d0182-58b3-4563-a0ec-b385ca53e370",
   "metadata": {},
   "outputs": [
    {
     "name": "stdout",
     "output_type": "stream",
     "text": [
      "{'name': 'shabaul', 'salary': 80000, 'email': 'shabaulhaque@gmail.com'}\n"
     ]
    }
   ],
   "source": [
    "mydictionary={\"name\":\"shabaul\",\"salary\":80000,\"email\":\"shabaulhaque@gmail.com\"}\n",
    "print(mydictionary)"
   ]
  },
  {
   "cell_type": "code",
   "execution_count": 9,
   "id": "96f51cea-a1da-4912-944a-b3d10412fbd5",
   "metadata": {},
   "outputs": [
    {
     "ename": "KeyError",
     "evalue": "2",
     "output_type": "error",
     "traceback": [
      "\u001b[1;31m---------------------------------------------------------------------------\u001b[0m",
      "\u001b[1;31mKeyError\u001b[0m                                  Traceback (most recent call last)",
      "Cell \u001b[1;32mIn[9], line 2\u001b[0m\n\u001b[0;32m      1\u001b[0m mydictionary\u001b[38;5;241m=\u001b[39m{\u001b[38;5;124m\"\u001b[39m\u001b[38;5;124mname\u001b[39m\u001b[38;5;124m\"\u001b[39m:\u001b[38;5;124m\"\u001b[39m\u001b[38;5;124mshabaul\u001b[39m\u001b[38;5;124m\"\u001b[39m,\u001b[38;5;124m\"\u001b[39m\u001b[38;5;124msalary\u001b[39m\u001b[38;5;124m\"\u001b[39m:\u001b[38;5;241m80000\u001b[39m,\u001b[38;5;124m\"\u001b[39m\u001b[38;5;124memail\u001b[39m\u001b[38;5;124m\"\u001b[39m:\u001b[38;5;124m\"\u001b[39m\u001b[38;5;124mshabaulhaque@gmail.com\u001b[39m\u001b[38;5;124m\"\u001b[39m}\n\u001b[1;32m----> 2\u001b[0m \u001b[38;5;28mprint\u001b[39m(mydictionary[\u001b[38;5;241m2\u001b[39m])\n",
      "\u001b[1;31mKeyError\u001b[0m: 2"
     ]
    }
   ],
   "source": [
    "mydictionary={\"name\":\"shabaul\",\"salary\":80000,\"email\":\"shabaulhaque@gmail.com\"}\n",
    "print(mydictionary[2])\n",
    "#will give error because dictionary has no index"
   ]
  },
  {
   "cell_type": "code",
   "execution_count": 15,
   "id": "182090cd-0597-4991-b134-9d125ed9fb9e",
   "metadata": {},
   "outputs": [
    {
     "name": "stdout",
     "output_type": "stream",
     "text": [
      "80000\n"
     ]
    }
   ],
   "source": [
    "mydictionary={\"name\":\"shabaul\",\"salary\":80000,\"email\":\"shabaulhaque@gmail.com\"}\n",
    "print(mydictionary[\"salary\"])\n",
    "#data accessed through keys"
   ]
  },
  {
   "cell_type": "code",
   "execution_count": 17,
   "id": "9f1ccc14-7f27-4873-a3cd-a42cbf10aa5d",
   "metadata": {},
   "outputs": [
    {
     "name": "stdout",
     "output_type": "stream",
     "text": [
      "shabaulhaque@gmail.com\n"
     ]
    }
   ],
   "source": [
    "mydictionary={\"name\":\"shabaul\",\"salary\":80000,\"email\":\"shabaulhaque@gmail.com\"}\n",
    "print(mydictionary[\"email\"])"
   ]
  },
  {
   "cell_type": "code",
   "execution_count": 24,
   "id": "3494c425-db2e-479b-8894-2901bd5aaf95",
   "metadata": {},
   "outputs": [
    {
     "name": "stdout",
     "output_type": "stream",
     "text": [
      "shabaul\n"
     ]
    }
   ],
   "source": [
    "mydictionary={\"name\":\"shabaul\",\"salary\":80000,\"email\":\"shabaulhaque@gmail.com\"}\n",
    "print(mydictionary[\"name\"])"
   ]
  },
  {
   "cell_type": "code",
   "execution_count": 26,
   "id": "8478038a-99cb-4c4f-856a-276df69e6603",
   "metadata": {},
   "outputs": [
    {
     "name": "stdout",
     "output_type": "stream",
     "text": [
      "{'name': 'shabaul', 'salary': 80000, 'email': 'saif@gmail.com'}\n"
     ]
    }
   ],
   "source": [
    "#updating the value of a particular key in dictionary\n",
    "mydictionary={\"name\":\"shabaul\",\"salary\":80000,\"email\":\"shabaulhaque@gmail.com\"}\n",
    "mydictionary[\"email\"]=\"saif@gmail.com\"\n",
    "print(mydictionary)"
   ]
  },
  {
   "cell_type": "code",
   "execution_count": 32,
   "id": "77d7e86f-60b2-4d5f-8878-4d28cfda10df",
   "metadata": {},
   "outputs": [
    {
     "name": "stdout",
     "output_type": "stream",
     "text": [
      "{'name': 'shabaul', 'salary': 80000, 'email': 'shabaulhaque@gmail.com', 'address': 'jaipur'}\n"
     ]
    }
   ],
   "source": [
    "#insert a new element in dictionary\n",
    "mydictionary={\"name\":\"shabaul\",\"salary\":80000,\"email\":\"shabaulhaque@gmail.com\"}\n",
    "mydictionary[\"address\"]=\"jaipur\"\n",
    "print(mydictionary)\n",
    "#new element is always inserted at last showing dictionary at and after version 3.7 is ordered"
   ]
  },
  {
   "cell_type": "code",
   "execution_count": 34,
   "id": "81adae05-c6b4-4069-a7d6-24c4ffa10cf6",
   "metadata": {},
   "outputs": [
    {
     "name": "stdout",
     "output_type": "stream",
     "text": [
      "{'name': 'saif', 'age': 23}\n"
     ]
    }
   ],
   "source": [
    "mydict={\"name\":\"haque\"}\n",
    "mydict[\"age\"]=23        #new element inserted first but still the key is maintaining its order of which key-value pair is inserted first\n",
    "mydict[\"name\"]=\"saif\"   #key-value pair name is updated here\n",
    "print(mydict)"
   ]
  },
  {
   "cell_type": "code",
   "execution_count": 36,
   "id": "ef7cb6fe-6099-4c21-a05a-e1a10f354041",
   "metadata": {},
   "outputs": [],
   "source": [
    "#.keys() method is used to return all keys in the dictionary\n",
    "#.values() method is used to return all the values in the dictionary"
   ]
  },
  {
   "cell_type": "code",
   "execution_count": 46,
   "id": "5d1ca670-81af-4978-9f65-3e033bf1e948",
   "metadata": {},
   "outputs": [
    {
     "name": "stdout",
     "output_type": "stream",
     "text": [
      "{'name': 'haque', 'age': 23, 'height': 169}\n"
     ]
    },
    {
     "data": {
      "text/plain": [
       "dict_keys(['name', 'age', 'height'])"
      ]
     },
     "execution_count": 46,
     "metadata": {},
     "output_type": "execute_result"
    }
   ],
   "source": [
    "mydict1={\"name\":\"haque\",\"age\":23,\"height\":169}\n",
    "print(mydict1)\n",
    "mydict1.keys()"
   ]
  },
  {
   "cell_type": "code",
   "execution_count": 50,
   "id": "09d85694-c43c-4a62-984c-22180a463ff2",
   "metadata": {},
   "outputs": [
    {
     "name": "stdout",
     "output_type": "stream",
     "text": [
      "{'name': 'haque', 'age': 23, 'height': 169}\n"
     ]
    },
    {
     "data": {
      "text/plain": [
       "dict_values(['haque', 23, 169])"
      ]
     },
     "execution_count": 50,
     "metadata": {},
     "output_type": "execute_result"
    }
   ],
   "source": [
    "mydict1={\"name\":\"haque\",\"age\":23,\"height\":169}\n",
    "print(mydict1)\n",
    "mydict1.values()"
   ]
  },
  {
   "cell_type": "code",
   "execution_count": 52,
   "id": "9aed40b0-1311-4d68-8462-e5e517ab8e5a",
   "metadata": {},
   "outputs": [
    {
     "name": "stdout",
     "output_type": "stream",
     "text": [
      "{'name': 'haque', 'age': 23, 'height': 169}\n"
     ]
    },
    {
     "ename": "TypeError",
     "evalue": "pop expected at least 1 argument, got 0",
     "output_type": "error",
     "traceback": [
      "\u001b[1;31m---------------------------------------------------------------------------\u001b[0m",
      "\u001b[1;31mTypeError\u001b[0m                                 Traceback (most recent call last)",
      "Cell \u001b[1;32mIn[52], line 3\u001b[0m\n\u001b[0;32m      1\u001b[0m mydict1\u001b[38;5;241m=\u001b[39m{\u001b[38;5;124m\"\u001b[39m\u001b[38;5;124mname\u001b[39m\u001b[38;5;124m\"\u001b[39m:\u001b[38;5;124m\"\u001b[39m\u001b[38;5;124mhaque\u001b[39m\u001b[38;5;124m\"\u001b[39m,\u001b[38;5;124m\"\u001b[39m\u001b[38;5;124mage\u001b[39m\u001b[38;5;124m\"\u001b[39m:\u001b[38;5;241m23\u001b[39m,\u001b[38;5;124m\"\u001b[39m\u001b[38;5;124mheight\u001b[39m\u001b[38;5;124m\"\u001b[39m:\u001b[38;5;241m169\u001b[39m}\n\u001b[0;32m      2\u001b[0m \u001b[38;5;28mprint\u001b[39m(mydict1)\n\u001b[1;32m----> 3\u001b[0m mydict1\u001b[38;5;241m.\u001b[39mpop()\n",
      "\u001b[1;31mTypeError\u001b[0m: pop expected at least 1 argument, got 0"
     ]
    }
   ],
   "source": [
    "mydict1={\"name\":\"haque\",\"age\":23,\"height\":169}\n",
    "print(mydict1)\n",
    "mydict1.pop()"
   ]
  },
  {
   "cell_type": "code",
   "execution_count": 54,
   "id": "a90c6117-3531-4a75-98e1-3e371ad1e795",
   "metadata": {},
   "outputs": [],
   "source": [
    "#delete data from dictionary: pop() method is used to delete a particular data from the dictionary\n",
    "# The pop() method requires a key argument — you must tell it which key to remove.\n",
    "# Without a key, you'll get this error:\n",
    "# TypeError: pop expected at least 1 argument, got 0"
   ]
  },
  {
   "cell_type": "code",
   "execution_count": 64,
   "id": "60b6401e-4502-419b-997f-2666d31829f7",
   "metadata": {},
   "outputs": [
    {
     "name": "stdout",
     "output_type": "stream",
     "text": [
      "{'name': 'haque', 'age': 23, 'height': 169}\n"
     ]
    },
    {
     "data": {
      "text/plain": [
       "'haque'"
      ]
     },
     "execution_count": 64,
     "metadata": {},
     "output_type": "execute_result"
    }
   ],
   "source": [
    "mydict1={\"name\":\"haque\",\"age\":23,\"height\":169}\n",
    "print(mydict1)\n",
    "mydict1.pop(\"name\")\n",
    "#data of name key is deleted"
   ]
  },
  {
   "cell_type": "code",
   "execution_count": 72,
   "id": "0cd93cae-8cf1-4685-b05a-b6522bfdd904",
   "metadata": {},
   "outputs": [
    {
     "name": "stdout",
     "output_type": "stream",
     "text": [
      "{'name': 'haque', 'age': 23, 'height': 169}\n",
      "{'name': 'haque', 'height': 169} 23\n"
     ]
    }
   ],
   "source": [
    "mydict2={\"name\":\"haque\",\"age\":23,\"height\":169}\n",
    "print(mydict2)\n",
    "x=mydict2.pop(\"age\")\n",
    "print(mydict2,x)\n",
    "#x stores the data for key \"age\""
   ]
  },
  {
   "cell_type": "code",
   "execution_count": 78,
   "id": "797f13ab-889b-4754-8fbc-32eba405acbd",
   "metadata": {},
   "outputs": [
    {
     "name": "stdout",
     "output_type": "stream",
     "text": [
      "{'name': 'haque', 'age': 23, 'height': 169}\n",
      "name\n",
      "age\n",
      "height\n"
     ]
    }
   ],
   "source": [
    "#running loop on dictionary\n",
    "mydict3={\"name\":\"haque\",\"age\":23,\"height\":169}\n",
    "print(mydict3)\n",
    "for i in mydict3:\n",
    "    print(i)\n",
    "#we run loop on keys"
   ]
  },
  {
   "cell_type": "code",
   "execution_count": 82,
   "id": "948565c8-fd6d-4c98-9751-0c20ef58c319",
   "metadata": {},
   "outputs": [
    {
     "name": "stdout",
     "output_type": "stream",
     "text": [
      "{'name': 'haque', 'age': 23, 'height': 169}\n",
      "name haque\n",
      "age 23\n",
      "height 169\n"
     ]
    }
   ],
   "source": [
    "mydict4={\"name\":\"haque\",\"age\":23,\"height\":169}\n",
    "print(mydict4)\n",
    "for i in mydict4:\n",
    "    print(i,mydict4[i])\n",
    "#printed both values and keys . values are printed through loop by dictionaryname[i] where i are  the various keys"
   ]
  },
  {
   "cell_type": "code",
   "execution_count": 90,
   "id": "1fa2f683-e27b-401a-88f3-bdbe04d27fd8",
   "metadata": {},
   "outputs": [
    {
     "name": "stdout",
     "output_type": "stream",
     "text": [
      "name\n",
      "age\n",
      "height\n"
     ]
    }
   ],
   "source": [
    "#another way of printing keys\n",
    "mydict4={\"name\":\"haque\",\"age\":23,\"height\":169}\n",
    "for i in mydict4.keys():\n",
    "    print(i)\n"
   ]
  },
  {
   "cell_type": "code",
   "execution_count": 92,
   "id": "91b3d627-9b9e-4d77-b1a2-c9326a1e1e09",
   "metadata": {},
   "outputs": [
    {
     "name": "stdout",
     "output_type": "stream",
     "text": [
      "haque\n",
      "23\n",
      "169\n"
     ]
    }
   ],
   "source": [
    "#directly accessing values through loop\n",
    "mydict5={\"name\":\"haque\",\"age\":23,\"height\":169}\n",
    "for i in mydict5.values():\n",
    "    print(i)"
   ]
  },
  {
   "cell_type": "code",
   "execution_count": 94,
   "id": "ceff8b3f-1534-4e4d-97ab-e69a9e266da3",
   "metadata": {},
   "outputs": [
    {
     "name": "stdout",
     "output_type": "stream",
     "text": [
      "{10: 'a', 'amount': 105}\n"
     ]
    }
   ],
   "source": [
    "#adding a certain value to the current value of a particular key\n",
    "d={10:\"a\", \"amount\":100}\n",
    "d[\"amount\"]=d[\"amount\"]+5\n",
    "print(d)"
   ]
  },
  {
   "cell_type": "code",
   "execution_count": 102,
   "id": "34074063-b174-491b-9cbe-beaf8be2cff3",
   "metadata": {},
   "outputs": [
    {
     "name": "stdout",
     "output_type": "stream",
     "text": [
      "{'total': 4}\n"
     ]
    }
   ],
   "source": [
    "#increasing the value of key \"total\" to +1 for every letter of the string\n",
    "s=\"raj5\"\n",
    "d1={}\n",
    "d1[\"total\"]=0\n",
    "for i in s:\n",
    "    d1[\"total\"]=d1[\"total\"]+1\n",
    "print(d1)"
   ]
  },
  {
   "cell_type": "code",
   "execution_count": 104,
   "id": "21b22a03-7d21-4581-b08f-53e89d8d4ac5",
   "metadata": {},
   "outputs": [
    {
     "name": "stdout",
     "output_type": "stream",
     "text": [
      "{'a': 1, 'b': 1, 'c': 1}\n"
     ]
    }
   ],
   "source": [
    "#making key-value pair where value is 1 for all the keys\n",
    "s=\"abc\"\n",
    "d2={}\n",
    "for i in s:\n",
    "    d2[i]=1\n",
    "print(d2)"
   ]
  },
  {
   "cell_type": "code",
   "execution_count": 5,
   "id": "4eff1313-2326-4771-b317-e952895c3919",
   "metadata": {},
   "outputs": [
    {
     "name": "stdout",
     "output_type": "stream",
     "text": [
      "{10: 2, 20: 1, 40: 1, 50: 2, 30: 1}\n"
     ]
    }
   ],
   "source": [
    "mylist=[10,20,10,40,50,30,50]\n",
    "d={}\n",
    "for i in mylist:\n",
    "    if(i in d):\n",
    "        d[i]=d[i]+1\n",
    "    else:\n",
    "        d[i]=1\n",
    "print(d)\n",
    "#d[10] does not exist at all initially.\n",
    "#It only gets created when the number 10 appears for the first time in the list."
   ]
  },
  {
   "cell_type": "code",
   "execution_count": 19,
   "id": "5ca7a686-8cfd-493d-875d-904f0af367b0",
   "metadata": {},
   "outputs": [
    {
     "name": "stdout",
     "output_type": "stream",
     "text": [
      "a a b a b c "
     ]
    }
   ],
   "source": [
    "s=\"abc\"\n",
    "for i in range(len(s)):\n",
    "    for j in range(0,i+1):\n",
    "        print(s[j],end=\" \")"
   ]
  },
  {
   "cell_type": "code",
   "execution_count": 33,
   "id": "3709e53d-8310-463e-9d97-9fdcc8bbaa27",
   "metadata": {},
   "outputs": [
    {
     "name": "stdout",
     "output_type": "stream",
     "text": [
      "{'a': 1, 'ab': 1, 'abc': 1}\n"
     ]
    }
   ],
   "source": [
    "s1=\"abc\"\n",
    "d1={}\n",
    "for i in range(len(s)):\n",
    "    data=\"\"\n",
    "    for j in range(0,i+1):\n",
    "        data=data+s[j]\n",
    "        d1[data]=1\n",
    "        \n",
    "print(d1)"
   ]
  },
  {
   "cell_type": "code",
   "execution_count": 35,
   "id": "45d49ce7-3970-484c-bc64-30028fb0cd9a",
   "metadata": {},
   "outputs": [
    {
     "name": "stdout",
     "output_type": "stream",
     "text": [
      "{'a': 1, 'ab': 1, 'abc': 1}\n"
     ]
    }
   ],
   "source": [
    "#using single loop\n",
    "s2=\"abc\"\n",
    "d2={}\n",
    "data1=\"\"\n",
    "for i in range(len(s2)):\n",
    "    data1=data1+s[i]\n",
    "    d2[data1]=1\n",
    "print(d2)\n",
    "    "
   ]
  },
  {
   "cell_type": "code",
   "execution_count": 55,
   "id": "83203eb5-ac9f-47f5-bcfd-451462b10604",
   "metadata": {},
   "outputs": [
    {
     "name": "stdout",
     "output_type": "stream",
     "text": [
      "{'a': 1, 'ab': 1, 'abc': 1, 'b': 1, 'bc': 1, 'c': 1}\n"
     ]
    }
   ],
   "source": [
    "s3=\"abc\"\n",
    "d3={}\n",
    "for i in range(len(s3)):\n",
    "    data=\"\"\n",
    "    for j in range(i,len(s3)):\n",
    "        data=data+s3[j]\n",
    "        d3[data]=1\n",
    "print(d3)\n",
    "        "
   ]
  },
  {
   "cell_type": "code",
   "execution_count": 59,
   "id": "ccbe0cdc-5af1-4d2f-81ce-2dadd344d3c6",
   "metadata": {},
   "outputs": [
    {
     "name": "stdout",
     "output_type": "stream",
     "text": [
      "{65: 90, 66: 89, 67: 88, 68: 87, 69: 86, 70: 85, 71: 84, 72: 83, 73: 82, 74: 81, 75: 80, 76: 79, 77: 78, 78: 77, 79: 76, 80: 75, 81: 74, 82: 73, 83: 72, 84: 71, 85: 70, 86: 69, 87: 68, 88: 67, 89: 66, 90: 65}\n"
     ]
    }
   ],
   "source": [
    "#Store alphabets like this in dictionary: {A:Z,B:Y,C:X...}\n",
    "X=90\n",
    "d4={}\n",
    "for i in range(65,91):\n",
    "    d4[i]=X\n",
    "    X-=1\n",
    "print(d4)\n",
    "    \n",
    "        "
   ]
  },
  {
   "cell_type": "code",
   "execution_count": 61,
   "id": "f2706a90-6ac2-4d42-ae66-a1818bc24e11",
   "metadata": {},
   "outputs": [
    {
     "name": "stdout",
     "output_type": "stream",
     "text": [
      "{'A': 'Z', 'B': 'Y', 'C': 'X', 'D': 'W', 'E': 'V', 'F': 'U', 'G': 'T', 'H': 'S', 'I': 'R', 'J': 'Q', 'K': 'P', 'L': 'O', 'M': 'N', 'N': 'M', 'O': 'L', 'P': 'K', 'Q': 'J', 'R': 'I', 'S': 'H', 'T': 'G', 'U': 'F', 'V': 'E', 'W': 'D', 'X': 'C', 'Y': 'B', 'Z': 'A'}\n"
     ]
    }
   ],
   "source": [
    "C=90\n",
    "d5={}\n",
    "for i in range(65,91):\n",
    "    d5[chr(i)]=chr(C)\n",
    "    C-=1\n",
    "print(d5)"
   ]
  },
  {
   "cell_type": "code",
   "execution_count": 69,
   "id": "c0723330-ac8e-4ca9-afa5-0f172c091066",
   "metadata": {},
   "outputs": [
    {
     "name": "stdout",
     "output_type": "stream",
     "text": [
      "{'A': 'Z', 'B': 'Y', 'C': 'X', 'D': 'W', 'E': 'V', 'F': 'U', 'G': 'T', 'H': 'S', 'I': 'R', 'J': 'Q', 'K': 'P', 'L': 'O', 'M': 'N', 'N': 'M', 'O': 'L', 'P': 'K', 'Q': 'J', 'R': 'I', 'S': 'H', 'T': 'G', 'U': 'F', 'V': 'E', 'W': 'D', 'X': 'C', 'Y': 'B', 'Z': 'A'}\n"
     ]
    },
    {
     "name": "stdin",
     "output_type": "stream",
     "text": [
      "enter the string in capital letter: ABC\n"
     ]
    },
    {
     "name": "stdout",
     "output_type": "stream",
     "text": [
      "ZYX\n"
     ]
    }
   ],
   "source": [
    "V=90\n",
    "d6={}\n",
    "for i in range(65,91):\n",
    "    d6[chr(i)]=chr(V)\n",
    "    V-=1\n",
    "print(d6)\n",
    "S=input(\"enter the string in capital letter:\")\n",
    "result=\"\"\n",
    "for j in S:\n",
    "    if(j in d6):\n",
    "        result+=d6[j]\n",
    "    else:\n",
    "        result+=j\n",
    "print(result)"
   ]
  },
  {
   "cell_type": "code",
   "execution_count": 77,
   "id": "1fb7aa1a-0448-49ae-b3f0-975a00c2d728",
   "metadata": {},
   "outputs": [
    {
     "name": "stdout",
     "output_type": "stream",
     "text": [
      "{'A': 'Z', 'B': 'Y', 'C': 'X', 'D': 'W', 'E': 'V', 'F': 'U', 'G': 'T', 'H': 'S', 'I': 'R', 'J': 'Q', 'K': 'P', 'L': 'O', 'M': 'N', 'N': 'M', 'O': 'L', 'P': 'K', 'Q': 'J', 'R': 'I', 'S': 'H', 'T': 'G', 'U': 'F', 'V': 'E', 'W': 'D', 'X': 'C', 'Y': 'B', 'Z': 'A'}\n"
     ]
    },
    {
     "name": "stdin",
     "output_type": "stream",
     "text": [
      "enter the string: ABC\n"
     ]
    },
    {
     "name": "stdout",
     "output_type": "stream",
     "text": [
      "{'A': 'Z', 'B': 'Y', 'C': 'X'}\n"
     ]
    }
   ],
   "source": [
    "B=90\n",
    "d7={}\n",
    "for i in range(65,91):\n",
    "    d7[chr(i)]=chr(B)\n",
    "    B-=1\n",
    "print(d7)\n",
    "D=input(\"enter the string:\")\n",
    "newdict={}\n",
    "for j in D:\n",
    "    if(j in d7):\n",
    "        newdict[j]=d7[j]\n",
    "    else:\n",
    "        newdict[j]=j\n",
    "print(newdict)\n",
    "    "
   ]
  },
  {
   "cell_type": "code",
   "execution_count": 83,
   "id": "0a77c064-2ccb-46bf-b9bd-0b8efce553fa",
   "metadata": {},
   "outputs": [
    {
     "name": "stdout",
     "output_type": "stream",
     "text": [
      "{'A': 'Z', 'B': 'Y', 'C': 'X', 'D': 'W', 'E': 'V', 'F': 'U', 'G': 'T', 'H': 'S', 'I': 'R', 'J': 'Q', 'K': 'P', 'L': 'O', 'M': 'N', 'N': 'M', 'O': 'L', 'P': 'K', 'Q': 'J', 'R': 'I', 'S': 'H', 'T': 'G', 'U': 'F', 'V': 'E', 'W': 'D', 'X': 'C', 'Y': 'B', 'Z': 'A'}\n",
      "{'a': 'z', 'b': 'y', 'c': 'x', 'd': 'w', 'e': 'v', 'f': 'u', 'g': 't', 'h': 's', 'i': 'r', 'j': 'q', 'k': 'p', 'l': 'o', 'm': 'n', 'n': 'm', 'o': 'l', 'p': 'k', 'q': 'j', 'r': 'i', 's': 'h', 't': 'g', 'u': 'f', 'v': 'e', 'w': 'd', 'x': 'c', 'y': 'b', 'z': 'a'}\n"
     ]
    },
    {
     "name": "stdin",
     "output_type": "stream",
     "text": [
      "enter the string: aSdGty\n"
     ]
    },
    {
     "name": "stdout",
     "output_type": "stream",
     "text": [
      "{'a': 'z', 'S': 'H', 'd': 'w', 'G': 'T', 't': 'g', 'y': 'b'}\n"
     ]
    }
   ],
   "source": [
    "#enter any letter whether small letter or capital letter\n",
    "C=90\n",
    "d_upper={}\n",
    "for i in range(65,91):\n",
    "    d_upper[chr(i)]=chr(C)\n",
    "    C-=1\n",
    "print(d_upper)\n",
    "D=122\n",
    "d_lower={}\n",
    "for j in range(97,123):\n",
    "    d_lower[chr(j)]=chr(D)\n",
    "    D-=1\n",
    "print(d_lower)\n",
    "R=input(\"enter the string:\")\n",
    "new_dictionary={}\n",
    "for k in R:\n",
    "    if(k in d_upper):\n",
    "        new_dictionary[k]=d_upper[k]\n",
    "    elif(k in d_lower):\n",
    "        new_dictionary[k]=d_lower[k]\n",
    "print(new_dictionary)"
   ]
  },
  {
   "cell_type": "code",
   "execution_count": 85,
   "id": "96aea377-fd75-4aaa-8e3a-9f654b2dc3e9",
   "metadata": {},
   "outputs": [
    {
     "name": "stdout",
     "output_type": "stream",
     "text": [
      "{'A': 'Z', 'B': 'Y', 'C': 'X', 'D': 'W', 'E': 'V', 'F': 'U', 'G': 'T', 'H': 'S', 'I': 'R', 'J': 'Q', 'K': 'P', 'L': 'O', 'M': 'N', 'N': 'M', 'O': 'L', 'P': 'K', 'Q': 'J', 'R': 'I', 'S': 'H', 'T': 'G', 'U': 'F', 'V': 'E', 'W': 'D', 'X': 'C', 'Y': 'B', 'Z': 'A'}\n",
      "{'a': 'z', 'b': 'y', 'c': 'x', 'd': 'w', 'e': 'v', 'f': 'u', 'g': 't', 'h': 's', 'i': 'r', 'j': 'q', 'k': 'p', 'l': 'o', 'm': 'n', 'n': 'm', 'o': 'l', 'p': 'k', 'q': 'j', 'r': 'i', 's': 'h', 't': 'g', 'u': 'f', 'v': 'e', 'w': 'd', 'x': 'c', 'y': 'b', 'z': 'a'}\n"
     ]
    },
    {
     "name": "stdin",
     "output_type": "stream",
     "text": [
      "enter the string: ABCdftY\n"
     ]
    },
    {
     "name": "stdout",
     "output_type": "stream",
     "text": [
      "{'A': 'Z', 'B': 'Y', 'C': 'X', 'd': 'w', 'f': 'u', 't': 'g', 'Y': 'B'}\n",
      "ZYXwugB\n"
     ]
    }
   ],
   "source": [
    "#small or capital letter then put in dictionary..also given as in string format\n",
    "C=90\n",
    "d_upper={}\n",
    "for i in range(65,91):\n",
    "    d_upper[chr(i)]=chr(C)\n",
    "    C-=1\n",
    "print(d_upper)\n",
    "D=122\n",
    "d_lower={}\n",
    "for j in range(97,123):\n",
    "    d_lower[chr(j)]=chr(D)\n",
    "    D-=1\n",
    "print(d_lower)\n",
    "R=input(\"enter the string:\")\n",
    "new_dictionary={}\n",
    "for k in R:\n",
    "    if(k in d_upper):\n",
    "        new_dictionary[k]=d_upper[k]\n",
    "    elif(k in d_lower):\n",
    "        new_dictionary[k]=d_lower[k]\n",
    "print(new_dictionary)\n",
    "newstringchr=\"\"\n",
    "for l in R:\n",
    "    if(l in d_lower):\n",
    "        newstringchr+=d_lower[l]\n",
    "    elif(l in d_upper):\n",
    "        newstringchr+=d_upper[l]\n",
    "print(newstringchr)"
   ]
  },
  {
   "cell_type": "code",
   "execution_count": 89,
   "id": "3a31f8e6-40ff-4b62-baba-25c31b7f52f8",
   "metadata": {},
   "outputs": [
    {
     "name": "stdout",
     "output_type": "stream",
     "text": [
      "2 7\n",
      "3 6\n"
     ]
    }
   ],
   "source": [
    "mylist=[0,1,2,4,7,11,14,15,3,6]\n",
    "target=9\n",
    "for i in range(len(mylist)):\n",
    "    for j in range(i+1,len(mylist)):\n",
    "        if(mylist[i]+mylist[j]==target):\n",
    "            print(mylist[i],mylist[j])"
   ]
  },
  {
   "cell_type": "code",
   "execution_count": 95,
   "id": "cebab0aa-c14c-4875-a966-277045faaa74",
   "metadata": {},
   "outputs": [
    {
     "name": "stdout",
     "output_type": "stream",
     "text": [
      "2 4\n",
      "7 2\n"
     ]
    }
   ],
   "source": [
    "mylist1=[0,1,2,4,7,11,14,15]\n",
    "target=9\n",
    "mydictionary={}\n",
    "for index,data in enumerate(mylist1):\n",
    "    mydictionary[data]=index\n",
    "for i in mylist1:\n",
    "    if(target-i in mydictionary):\n",
    "        print(i,mydictionary[target-i])"
   ]
  },
  {
   "cell_type": "code",
   "execution_count": null,
   "id": "982a4800-265a-4a73-856a-d53b5c9c2fc5",
   "metadata": {},
   "outputs": [],
   "source": []
  }
 ],
 "metadata": {
  "kernelspec": {
   "display_name": "Python 3 (ipykernel)",
   "language": "python",
   "name": "python3"
  },
  "language_info": {
   "codemirror_mode": {
    "name": "ipython",
    "version": 3
   },
   "file_extension": ".py",
   "mimetype": "text/x-python",
   "name": "python",
   "nbconvert_exporter": "python",
   "pygments_lexer": "ipython3",
   "version": "3.12.4"
  }
 },
 "nbformat": 4,
 "nbformat_minor": 5
}
