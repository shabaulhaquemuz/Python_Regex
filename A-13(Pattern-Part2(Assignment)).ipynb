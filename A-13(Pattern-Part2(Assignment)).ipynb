{
 "cells": [
  {
   "cell_type": "code",
   "execution_count": 5,
   "id": "475780c1-acaf-403e-825b-fc6e7a9271b0",
   "metadata": {},
   "outputs": [
    {
     "name": "stdout",
     "output_type": "stream",
     "text": [
      "****\n",
      "-****\n",
      "--****\n",
      "---****\n"
     ]
    }
   ],
   "source": [
    "for i in range(1,5):\n",
    "    for j in range(1,i):\n",
    "        print(\"-\",end=\"\")\n",
    "    for j in range(1,5):\n",
    "        print(\"*\",end=\"\")\n",
    "    print()"
   ]
  },
  {
   "cell_type": "code",
   "execution_count": 7,
   "id": "a82ffb48-6ea9-4a90-9a47-6fd3e1cb2cd7",
   "metadata": {},
   "outputs": [
    {
     "name": "stdout",
     "output_type": "stream",
     "text": [
      "****\n",
      " ****\n",
      "  ****\n",
      "   ****\n"
     ]
    }
   ],
   "source": [
    "for i in range(1,5):\n",
    "    for j in range(1,i):\n",
    "        print(\" \",end=\"\")\n",
    "    for j in range(1,5):\n",
    "        print(\"*\",end=\"\")\n",
    "    print()"
   ]
  },
  {
   "cell_type": "code",
   "execution_count": 17,
   "id": "ec67a9b2-5de1-47dc-a903-70d3f3d08c34",
   "metadata": {},
   "outputs": [
    {
     "name": "stdout",
     "output_type": "stream",
     "text": [
      "******\n",
      "*    *\n",
      "*    *\n",
      "******\n"
     ]
    }
   ],
   "source": [
    "for i in range(1,5):\n",
    "    for j in range(1,7):\n",
    "        if(i==1 or i==4 or j==1 or j==6):\n",
    "            print(\"*\",end=\"\")\n",
    "        else:\n",
    "            print(\" \",end=\"\")\n",
    "    print()"
   ]
  },
  {
   "cell_type": "code",
   "execution_count": 23,
   "id": "078e6b0e-003a-48ca-970e-ad44396c23ea",
   "metadata": {},
   "outputs": [
    {
     "name": "stdout",
     "output_type": "stream",
     "text": [
      "A\n",
      "AB\n",
      "ABC\n",
      "ABCD\n",
      "ABCDE\n"
     ]
    }
   ],
   "source": [
    "for i in range(1,6):\n",
    "    n=65\n",
    "    for j in range(1,i+1):\n",
    "        print(chr(n),end=\"\")\n",
    "        n+=1\n",
    "    print()"
   ]
  },
  {
   "cell_type": "code",
   "execution_count": 27,
   "id": "feb0a449-7650-4290-a563-cc3701e1e4ae",
   "metadata": {},
   "outputs": [
    {
     "name": "stdout",
     "output_type": "stream",
     "text": [
      "A\n",
      "BB\n",
      "CCC\n",
      "DDDD\n",
      "EEEEE\n"
     ]
    }
   ],
   "source": [
    "n=65\n",
    "for i in range(1,6):\n",
    "    for j in range(1,i+1):\n",
    "        print(chr(n),end=\"\")\n",
    "    n+=1\n",
    "    print()"
   ]
  },
  {
   "cell_type": "code",
   "execution_count": 33,
   "id": "3445b9c9-378b-43d2-875f-817ad08a2bf1",
   "metadata": {},
   "outputs": [
    {
     "name": "stdout",
     "output_type": "stream",
     "text": [
      "E \n",
      "D E \n",
      "C D E \n",
      "B C D E \n",
      "A B C D E \n"
     ]
    }
   ],
   "source": [
    "for i in range(1,6):\n",
    "    n=70-i\n",
    "    for j in range(1,i+1):\n",
    "        print(chr(n),end=\" \")\n",
    "        n+=1\n",
    "    print()"
   ]
  },
  {
   "cell_type": "code",
   "execution_count": 37,
   "id": "31195770-74b7-49dd-b4af-41cabcee1a4a",
   "metadata": {},
   "outputs": [
    {
     "name": "stdout",
     "output_type": "stream",
     "text": [
      "----*\n",
      "---**\n",
      "--***\n",
      "-****\n",
      "*****\n"
     ]
    }
   ],
   "source": [
    "for i in range(1,6):\n",
    "    for j in range(1,6-i):\n",
    "        print(\"-\",end=\"\")\n",
    "    for j in range(1,i+1):\n",
    "        print(\"*\",end=\"\")\n",
    "    print()"
   ]
  },
  {
   "cell_type": "code",
   "execution_count": 49,
   "id": "e6c5f31d-8795-4929-8f00-054b269fda76",
   "metadata": {},
   "outputs": [
    {
     "name": "stdout",
     "output_type": "stream",
     "text": [
      "    1\n",
      "   12\n",
      "  123\n",
      " 1234\n",
      "12345\n"
     ]
    }
   ],
   "source": [
    "for i in range(1,6):\n",
    "    for j in range(1,6-i):\n",
    "        print(\" \",end=\"\")\n",
    "    n=1\n",
    "    for j in range(1,i+1):\n",
    "        print(n,end=\"\")\n",
    "        n+=1\n",
    "    print()"
   ]
  },
  {
   "cell_type": "code",
   "execution_count": 53,
   "id": "77dfb29c-5097-4391-a508-570b142d5bf5",
   "metadata": {},
   "outputs": [
    {
     "name": "stdout",
     "output_type": "stream",
     "text": [
      "*****\n",
      "-****\n",
      "--***\n",
      "---**\n",
      "----*\n"
     ]
    }
   ],
   "source": [
    "for i in range(1,6):\n",
    "    for j in range(1,i):\n",
    "        print(\"-\",end=\"\")\n",
    "    for j in range(1,7-i):\n",
    "        print(\"*\",end=\"\")\n",
    "    print()"
   ]
  },
  {
   "cell_type": "code",
   "execution_count": 63,
   "id": "1fb1c92b-73c9-4e6d-82d6-8c739cfa9665",
   "metadata": {},
   "outputs": [
    {
     "name": "stdout",
     "output_type": "stream",
     "text": [
      "*****\n",
      " ****\n",
      "  ***\n",
      "   **\n",
      "    *\n"
     ]
    }
   ],
   "source": [
    "for i in range(1,6):\n",
    "    for j in range(1,i):\n",
    "        print(\" \",end=\"\")\n",
    "    for j in range(1,7-i):\n",
    "        print(\"*\",end=\"\")\n",
    "    print()"
   ]
  },
  {
   "cell_type": "code",
   "execution_count": 71,
   "id": "abbdf237-7f4d-453e-a5cd-e16c1362dab8",
   "metadata": {},
   "outputs": [
    {
     "name": "stdout",
     "output_type": "stream",
     "text": [
      "12345\n",
      " 1234\n",
      "  123\n",
      "   12\n",
      "    1\n"
     ]
    }
   ],
   "source": [
    "for i in range(1,6):\n",
    "    for j in range(1,i):\n",
    "        print(\" \",end=\"\")\n",
    "    n=1\n",
    "    for j in range(1,7-i):\n",
    "        print(n,end=\"\")\n",
    "        n+=1\n",
    "    print()"
   ]
  },
  {
   "cell_type": "code",
   "execution_count": 69,
   "id": "a1a9fca6-d86e-4516-b7e1-7eec04a1e0d7",
   "metadata": {},
   "outputs": [
    {
     "name": "stdout",
     "output_type": "stream",
     "text": [
      "ABCDE\n",
      " ABCD\n",
      "  ABC\n",
      "   AB\n",
      "    A\n"
     ]
    }
   ],
   "source": [
    "for i in range(1,6):\n",
    "    for j in range(1,i):\n",
    "        print(\" \",end=\"\")\n",
    "    n=65\n",
    "    for j in range(1,7-i):\n",
    "        print(chr(n),end=\"\")\n",
    "        n+=1\n",
    "    print()"
   ]
  },
  {
   "cell_type": "code",
   "execution_count": 79,
   "id": "48db8681-e4d1-4db8-99e2-85e862ce4482",
   "metadata": {},
   "outputs": [
    {
     "name": "stdout",
     "output_type": "stream",
     "text": [
      "----*****\n",
      "---*****\n",
      "--*****\n",
      "-*****\n",
      "*****\n"
     ]
    }
   ],
   "source": [
    "for i in range(1,6):\n",
    "    for j in range(1,6-i):\n",
    "        print(\"-\",end=\"\")\n",
    "    for j in range(1,6):\n",
    "        print(\"*\",end=\"\")\n",
    "    print()"
   ]
  },
  {
   "cell_type": "code",
   "execution_count": 81,
   "id": "60131038-a8a3-428d-b4fa-137b954b34fc",
   "metadata": {},
   "outputs": [
    {
     "name": "stdout",
     "output_type": "stream",
     "text": [
      "----* * * * * \n",
      "---* * * * * \n",
      "--* * * * * \n",
      "-* * * * * \n",
      "* * * * * \n"
     ]
    }
   ],
   "source": [
    "for i in range(1,6):\n",
    "    for j in range(1,6-i):\n",
    "        print(\"-\",end=\"\")\n",
    "    for j in range(1,6):\n",
    "        print(\"*\",end=\" \")\n",
    "    print()"
   ]
  },
  {
   "cell_type": "code",
   "execution_count": 85,
   "id": "95ea2973-eed1-4857-a66b-1013cd896fcf",
   "metadata": {},
   "outputs": [
    {
     "name": "stdout",
     "output_type": "stream",
     "text": [
      "    1 2 3 4 5 \n",
      "   1 2 3 4 5 \n",
      "  1 2 3 4 5 \n",
      " 1 2 3 4 5 \n",
      "1 2 3 4 5 \n"
     ]
    }
   ],
   "source": [
    "for i in range(1,6):\n",
    "    for j in range(1,6-i):\n",
    "        print(\" \",end=\"\")\n",
    "    n=1\n",
    "    for j in range(1,6):\n",
    "        print(n,end=\" \")\n",
    "        n+=1\n",
    "    print()"
   ]
  },
  {
   "cell_type": "code",
   "execution_count": 89,
   "id": "0a0e892d-b640-4843-a2e8-94d68ffcd15b",
   "metadata": {},
   "outputs": [
    {
     "name": "stdout",
     "output_type": "stream",
     "text": [
      "    A B C D E \n",
      "   A B C D E \n",
      "  A B C D E \n",
      " A B C D E \n",
      "A B C D E \n"
     ]
    }
   ],
   "source": [
    "for i in range(1,6):\n",
    "    for j in range(1,6-i):\n",
    "        print(\" \",end=\"\")\n",
    "    n=65\n",
    "    for j in range(1,6):\n",
    "        print(chr(n),end=\" \")\n",
    "        n+=1\n",
    "    print()"
   ]
  },
  {
   "cell_type": "code",
   "execution_count": 3,
   "id": "02cac21f-1804-42bd-89ee-123d5c5c6438",
   "metadata": {},
   "outputs": [
    {
     "name": "stdout",
     "output_type": "stream",
     "text": [
      "---*\n",
      "--***\n",
      "-*****\n",
      "*******\n"
     ]
    }
   ],
   "source": [
    "for i in range(1,5):\n",
    "    for j in range(1,5-i):\n",
    "        print(\"-\",end=\"\")\n",
    "    for j in range(1,2*i):\n",
    "        print(\"*\",end=\"\")\n",
    "    print()"
   ]
  },
  {
   "cell_type": "code",
   "execution_count": 5,
   "id": "a0ef1809-dd67-4235-b735-0220241ac834",
   "metadata": {},
   "outputs": [
    {
     "name": "stdout",
     "output_type": "stream",
     "text": [
      "   *\n",
      "  ***\n",
      " *****\n",
      "*******\n"
     ]
    }
   ],
   "source": [
    "for i in range(1,5):\n",
    "    for j in range(1,5-i):\n",
    "        print(\" \",end=\"\")\n",
    "    for j in range(1,2*i):\n",
    "        print(\"*\",end=\"\")\n",
    "    print()"
   ]
  },
  {
   "cell_type": "code",
   "execution_count": 27,
   "id": "a3f4fff5-1bd6-492a-8447-4b3e1046ddd6",
   "metadata": {},
   "outputs": [
    {
     "name": "stdout",
     "output_type": "stream",
     "text": [
      "*******\n",
      " *****\n",
      "  ***\n",
      "   *\n"
     ]
    }
   ],
   "source": [
    "for i in range(4,0,-1):\n",
    "    for j in range(1,5-i):\n",
    "        print(\" \",end=\"\")\n",
    "    for j in range(1,2*i):\n",
    "        print(\"*\",end=\"\")\n",
    "    print()"
   ]
  },
  {
   "cell_type": "code",
   "execution_count": 19,
   "id": "4f4f8df0-7342-44fd-8487-cea8d55b8ddf",
   "metadata": {},
   "outputs": [
    {
     "name": "stdout",
     "output_type": "stream",
     "text": [
      "   *\n",
      "  * *\n",
      " *   *\n",
      "*******\n"
     ]
    }
   ],
   "source": [
    "for i in range(1,5):\n",
    "    for j in range(1,5-i):\n",
    "        print(\" \",end=\"\")\n",
    "    for j in range(1,2*i):\n",
    "        if(i==4 or j==1 or j==2*i-1):\n",
    "            print(\"*\",end=\"\")\n",
    "        else:\n",
    "            print(\" \",end=\"\")\n",
    "    print()"
   ]
  },
  {
   "cell_type": "code",
   "execution_count": 21,
   "id": "f3765525-ac3d-4807-870c-c426b021921c",
   "metadata": {},
   "outputs": [
    {
     "name": "stdout",
     "output_type": "stream",
     "text": [
      "*******\n",
      " *   *\n",
      "  * *\n",
      "   *\n"
     ]
    }
   ],
   "source": [
    "for i in range(4,0,-1):\n",
    "    for j in range(1,5-i):\n",
    "        print(\" \",end=\"\")\n",
    "    for j in range(1,2*i):\n",
    "        if(i==4 or j==1 or j==2*i-1):\n",
    "            print(\"*\",end=\"\")\n",
    "        else:\n",
    "            print(\" \",end=\"\")\n",
    "    print()"
   ]
  },
  {
   "cell_type": "code",
   "execution_count": 5,
   "id": "ffcf58e1-ee14-4eec-b903-8c767c3a4214",
   "metadata": {},
   "outputs": [
    {
     "name": "stdout",
     "output_type": "stream",
     "text": [
      "*\n",
      "**\n",
      "***\n",
      "****\n",
      "***\n",
      "**\n",
      "*\n"
     ]
    }
   ],
   "source": [
    "for i in range(1,4):\n",
    "    for j in range(1,i+1):\n",
    "        print(\"*\",end=\"\")\n",
    "    print()\n",
    "for i in range(1,5):\n",
    "    for j in range(1,6-i):\n",
    "        print(\"*\",end=\"\")\n",
    "    print()"
   ]
  },
  {
   "cell_type": "code",
   "execution_count": 17,
   "id": "ec184349-f3f3-4977-8b82-0d55fa59307a",
   "metadata": {},
   "outputs": [
    {
     "name": "stdout",
     "output_type": "stream",
     "text": [
      "---*\n",
      "--**\n",
      "-***\n",
      "****\n",
      "-***\n",
      "--**\n",
      "---*\n"
     ]
    }
   ],
   "source": [
    "for i in range(1,4):\n",
    "    for j in range(1,5-i):\n",
    "        print(\"-\",end=\"\")\n",
    "    for j in range(1,i+1):\n",
    "        print(\"*\",end=\"\")\n",
    "    print()\n",
    "for i in range(1,5):\n",
    "    for j in range(1,i):\n",
    "        print(\"-\",end=\"\")\n",
    "    for j in range(1,6-i):\n",
    "        print(\"*\",end=\"\")\n",
    "    print()\n"
   ]
  },
  {
   "cell_type": "code",
   "execution_count": 21,
   "id": "67e576f9-5ecd-4920-b371-41e4ad8c6d36",
   "metadata": {},
   "outputs": [
    {
     "name": "stdout",
     "output_type": "stream",
     "text": [
      "   *\n",
      "  **\n",
      " ***\n",
      "****\n",
      " ***\n",
      "  **\n",
      "   *\n"
     ]
    }
   ],
   "source": [
    "for i in range(1,4):\n",
    "    for j in range(1,5-i):\n",
    "        print(\" \",end=\"\")\n",
    "    for j in range(1,i+1):\n",
    "        print(\"*\",end=\"\")\n",
    "    print()\n",
    "for i in range(1,5):\n",
    "    for j in range(1,i):\n",
    "        print(\" \",end=\"\")\n",
    "    for j in range(1,6-i):\n",
    "        print(\"*\",end=\"\")\n",
    "    print()\n"
   ]
  },
  {
   "cell_type": "code",
   "execution_count": 34,
   "id": "4e6aa0a9-34a7-485e-8acf-5fc077a1dd85",
   "metadata": {},
   "outputs": [
    {
     "name": "stdout",
     "output_type": "stream",
     "text": [
      "---*\n",
      "--***\n",
      "-*****\n",
      "*******\n",
      "*******\n",
      "-*****\n",
      "--***\n",
      "---*\n"
     ]
    }
   ],
   "source": [
    "for i in range(1,5):\n",
    "    for j in range(1,5-i):\n",
    "        print(\"-\",end=\"\")\n",
    "    for j in range(1,2*i):\n",
    "        print(\"*\",end=\"\")\n",
    "    print()\n",
    "for i in range(4,0,-1):\n",
    "    for j in range(1,5-i):\n",
    "        print(\"-\",end=\"\")\n",
    "    for j in range(1,2*i):\n",
    "        print(\"*\",end=\"\")\n",
    "    print()"
   ]
  },
  {
   "cell_type": "code",
   "execution_count": 36,
   "id": "2502ffd7-c7c1-4b2a-bcc4-c9362e5e1e1a",
   "metadata": {},
   "outputs": [
    {
     "name": "stdout",
     "output_type": "stream",
     "text": [
      "---*\n",
      "--***\n",
      "-*****\n",
      "*******\n",
      "-*****\n",
      "--***\n",
      "---*\n"
     ]
    }
   ],
   "source": [
    "for i in range(1,4):\n",
    "    for j in range(1,5-i):\n",
    "        print(\"-\",end=\"\")\n",
    "    for j in range(1,2*i):\n",
    "        print(\"*\",end=\"\")\n",
    "    print()\n",
    "for i in range(4,0,-1):\n",
    "    for j in range(1,5-i):\n",
    "        print(\"-\",end=\"\")\n",
    "    for j in range(1,2*i):\n",
    "        print(\"*\",end=\"\")\n",
    "    print()"
   ]
  },
  {
   "cell_type": "code",
   "execution_count": 42,
   "id": "4c6a5fc9-3a20-4fda-8af1-0eb968a7a42e",
   "metadata": {},
   "outputs": [
    {
     "name": "stdout",
     "output_type": "stream",
     "text": [
      "   *\n",
      "  ***\n",
      " *****\n",
      "*******\n",
      " *****\n",
      "  ***\n",
      "   *\n"
     ]
    }
   ],
   "source": [
    "for i in range(1,4):\n",
    "    for j in range(1,5-i):\n",
    "        print(\" \",end=\"\")\n",
    "    for j in range(1,2*i):\n",
    "        print(\"*\",end=\"\")\n",
    "    print()\n",
    "for i in range(4,0,-1):\n",
    "    for j in range(1,5-i):\n",
    "        print(\" \",end=\"\")\n",
    "    for j in range(1,2*i):\n",
    "        print(\"*\",end=\"\")\n",
    "    print()"
   ]
  },
  {
   "cell_type": "code",
   "execution_count": 48,
   "id": "93bdf995-eadb-4e68-86bb-7be0eba86db9",
   "metadata": {},
   "outputs": [
    {
     "name": "stdout",
     "output_type": "stream",
     "text": [
      "1\n",
      "12\n",
      "123\n",
      "1234\n",
      "12345\n"
     ]
    }
   ],
   "source": [
    "for i in range(1,6):\n",
    "    n=1\n",
    "    for j in range(1,i+1):\n",
    "        print(n,end=\"\")\n",
    "        n+=1\n",
    "    print()\n",
    "\n"
   ]
  },
  {
   "cell_type": "code",
   "execution_count": 50,
   "id": "3726c1a8-be05-4b30-8653-8f4b2be3cdd2",
   "metadata": {},
   "outputs": [
    {
     "name": "stdout",
     "output_type": "stream",
     "text": [
      "1 \n",
      "1 2 \n",
      "1 2 3 \n",
      "1 2 3 4 \n",
      "1 2 3 4 5 \n"
     ]
    }
   ],
   "source": [
    "for i in range(1,6):\n",
    "    n=1\n",
    "    for j in range(1,i+1):\n",
    "        print(n,end=\" \")\n",
    "        n+=1\n",
    "    print()"
   ]
  },
  {
   "cell_type": "code",
   "execution_count": 54,
   "id": "3b0e9815-3b22-4ce2-92f2-750171e2cae7",
   "metadata": {},
   "outputs": [
    {
     "name": "stdout",
     "output_type": "stream",
     "text": [
      "12345\n",
      "1234\n",
      "123\n",
      "12\n",
      "1\n"
     ]
    }
   ],
   "source": [
    "for i in range(1,6):\n",
    "    n=1\n",
    "    for j in range(1,7-i):\n",
    "        print(n,end=\"\")\n",
    "        n+=1\n",
    "    print()"
   ]
  },
  {
   "cell_type": "code",
   "execution_count": 58,
   "id": "e125efa1-4406-40ab-9a19-bc6ecf9b3432",
   "metadata": {},
   "outputs": [
    {
     "name": "stdout",
     "output_type": "stream",
     "text": [
      "1 2 3 4 5 \n",
      "1 2 3 4 \n",
      "1 2 3 \n",
      "1 2 \n",
      "1 \n"
     ]
    }
   ],
   "source": [
    "for i in range(1,6):\n",
    "    n=1\n",
    "    for j in range(1,7-i):\n",
    "        print(n,end=\" \")\n",
    "        n+=1\n",
    "    print()"
   ]
  },
  {
   "cell_type": "code",
   "execution_count": 64,
   "id": "14976e08-39bf-4ad6-9145-0ddaaae034e9",
   "metadata": {},
   "outputs": [
    {
     "name": "stdout",
     "output_type": "stream",
     "text": [
      "1\n",
      "12\n",
      "1-3\n",
      "1--4\n",
      "12345\n"
     ]
    }
   ],
   "source": [
    "for i in range(1,6):\n",
    "    n=1\n",
    "    for j in range(1,i+1):\n",
    "        if(i==5 or j==1 or j==i):\n",
    "            print(n,end=\"\")\n",
    "        else:\n",
    "            print(\"-\",end=\"\")\n",
    "        n+=1\n",
    "    print()"
   ]
  },
  {
   "cell_type": "code",
   "execution_count": 68,
   "id": "6af14431-d698-4206-a2a1-ca395d82b579",
   "metadata": {},
   "outputs": [
    {
     "ename": "SyntaxError",
     "evalue": "invalid syntax (1929004089.py, line 7)",
     "output_type": "error",
     "traceback": [
      "\u001b[1;36m  Cell \u001b[1;32mIn[68], line 7\u001b[1;36m\u001b[0m\n\u001b[1;33m    else:\u001b[0m\n\u001b[1;37m    ^\u001b[0m\n\u001b[1;31mSyntaxError\u001b[0m\u001b[1;31m:\u001b[0m invalid syntax\n"
     ]
    }
   ],
   "source": [
    "#we first have to write \"else\" condition also after \"if\" condition then after we have to increase the value of \"n\"\n",
    "for i in range(1,6):\n",
    "    n=1\n",
    "    for j in range(1,i+1):\n",
    "        if(i==5 or j==1 or j==i):\n",
    "            print(n,end=\" \")\n",
    "        n+=1\n",
    "        else:\n",
    "            print(\"-\",end=\" \")\n",
    "    print()"
   ]
  },
  {
   "cell_type": "code",
   "execution_count": 72,
   "id": "bcece1ba-a402-4125-8dda-bb15b4b872f3",
   "metadata": {},
   "outputs": [
    {
     "name": "stdout",
     "output_type": "stream",
     "text": [
      "1 \n",
      "1 2 \n",
      "1 - 3 \n",
      "1 - - 4 \n",
      "1 2 3 4 5 \n"
     ]
    }
   ],
   "source": [
    "for i in range(1,6):\n",
    "    n=1\n",
    "    for j in range(1,i+1):\n",
    "        if(i==5 or j==1 or j==i):\n",
    "            print(n,end=\" \")\n",
    "        else:\n",
    "            print(\"-\",end=\" \")\n",
    "        n+=1\n",
    "    print()"
   ]
  },
  {
   "cell_type": "code",
   "execution_count": 76,
   "id": "3bff09a6-cec7-4d69-9942-eda7bb9bd60e",
   "metadata": {},
   "outputs": [
    {
     "name": "stdout",
     "output_type": "stream",
     "text": [
      "----*\n",
      "---**\n",
      "--***\n",
      "-****\n",
      "*****\n"
     ]
    }
   ],
   "source": [
    "for i in range(1,6):\n",
    "    for j in range(1,6-i):\n",
    "        print(\"-\",end=\"\")\n",
    "    for j in range(1,i+1):\n",
    "        print(\"*\",end=\"\")\n",
    "    print()"
   ]
  },
  {
   "cell_type": "code",
   "execution_count": 78,
   "id": "c8cf047a-728b-4237-ad3c-597bac9f2ea0",
   "metadata": {},
   "outputs": [
    {
     "name": "stdout",
     "output_type": "stream",
     "text": [
      "----* \n",
      "---* * \n",
      "--* * * \n",
      "-* * * * \n",
      "* * * * * \n"
     ]
    }
   ],
   "source": [
    "for i in range(1,6):\n",
    "    for j in range(1,6-i):\n",
    "        print(\"-\",end=\"\")\n",
    "    for j in range(1,i+1):\n",
    "        print(\"*\",end=\" \")\n",
    "    print()"
   ]
  },
  {
   "cell_type": "code",
   "execution_count": 80,
   "id": "842197ba-83ee-4264-aede-4d58f019bf66",
   "metadata": {},
   "outputs": [
    {
     "name": "stdout",
     "output_type": "stream",
     "text": [
      "    * \n",
      "   * * \n",
      "  * * * \n",
      " * * * * \n",
      "* * * * * \n"
     ]
    }
   ],
   "source": [
    "for i in range(1,6):\n",
    "    for j in range(1,6-i):\n",
    "        print(\" \",end=\"\")\n",
    "    for j in range(1,i+1):\n",
    "        print(\"*\",end=\" \")\n",
    "    print()"
   ]
  },
  {
   "cell_type": "code",
   "execution_count": 90,
   "id": "f98d24ad-69df-4b38-b20c-591fd40b6e39",
   "metadata": {},
   "outputs": [
    {
     "name": "stdout",
     "output_type": "stream",
     "text": [
      "    * \n",
      "   * * \n",
      "  * - * \n",
      " * - - * \n",
      "* * * * * \n"
     ]
    }
   ],
   "source": [
    "for i in range(1,6):\n",
    "    for j in range(1,6-i):\n",
    "        print(\" \",end=\"\")\n",
    "    for j in range(1,i+1):\n",
    "        if(i==5 or j==1 or j==i):\n",
    "            print(\"*\",end=\" \")\n",
    "        else:\n",
    "            print(\"-\",end=\" \")\n",
    "    print()"
   ]
  },
  {
   "cell_type": "code",
   "execution_count": 94,
   "id": "16ae8a75-a38d-464d-a0c1-10c0014cbb4d",
   "metadata": {},
   "outputs": [
    {
     "name": "stdout",
     "output_type": "stream",
     "text": [
      "    1 \n",
      "   1 2 \n",
      "  1 - 3 \n",
      " 1 - - 4 \n",
      "1 2 3 4 5 \n"
     ]
    }
   ],
   "source": [
    "for i in range(1,6):\n",
    "    for j in range(1,6-i):\n",
    "        print(\" \",end=\"\")\n",
    "    n=1\n",
    "    for j in range(1,i+1):\n",
    "        if(i==5 or j==1 or j==i):\n",
    "            print(n,end=\" \")\n",
    "        else:\n",
    "            print(\"-\",end=\" \")\n",
    "        n+=1\n",
    "    print()"
   ]
  },
  {
   "cell_type": "code",
   "execution_count": 96,
   "id": "c078288c-0550-4a1f-94c6-0a851f9e84fa",
   "metadata": {},
   "outputs": [
    {
     "name": "stdout",
     "output_type": "stream",
     "text": [
      "    1 \n",
      "   1 2 \n",
      "  1   3 \n",
      " 1     4 \n",
      "1 2 3 4 5 \n"
     ]
    }
   ],
   "source": [
    "for i in range(1,6):\n",
    "    for j in range(1,6-i):\n",
    "        print(\" \",end=\"\")\n",
    "    n=1\n",
    "    for j in range(1,i+1):\n",
    "        if(i==5 or j==1 or j==i):\n",
    "            print(n,end=\" \")\n",
    "        else:\n",
    "            print(\" \",end=\" \")\n",
    "        n+=1\n",
    "    print()"
   ]
  },
  {
   "cell_type": "code",
   "execution_count": 108,
   "id": "1b6ac13b-aa9f-41c8-b035-e33aad674296",
   "metadata": {},
   "outputs": [
    {
     "name": "stdout",
     "output_type": "stream",
     "text": [
      "* * * * * \n",
      "*     * \n",
      "*   * \n",
      "* * \n",
      "* \n"
     ]
    }
   ],
   "source": [
    "for i in range(1,6):\n",
    "    for j in range(1,7-i):\n",
    "        if(i==1 or j==1 or j==6-i):\n",
    "            print(\"*\",end=\" \")\n",
    "        else:\n",
    "            print(\" \",end=\" \")\n",
    "    print()"
   ]
  },
  {
   "cell_type": "code",
   "execution_count": 112,
   "id": "3f00306a-ead1-42e8-8995-90189fcd06db",
   "metadata": {},
   "outputs": [
    {
     "name": "stdout",
     "output_type": "stream",
     "text": [
      "1 2 3 4 5 \n",
      "2     5 \n",
      "3   5 \n",
      "4 5 \n",
      "5 \n"
     ]
    }
   ],
   "source": [
    "for i in range(1,6):\n",
    "    n=i\n",
    "    for j in range(1,7-i):\n",
    "        if(i==1 or j==1 or j==6-i):\n",
    "            print(n,end=\" \")\n",
    "        else:\n",
    "            print(\" \",end=\" \")\n",
    "        n+=1\n",
    "    print()"
   ]
  },
  {
   "cell_type": "code",
   "execution_count": 114,
   "id": "d269bdd0-7931-4e14-9e34-9484d519c3cc",
   "metadata": {},
   "outputs": [
    {
     "name": "stdout",
     "output_type": "stream",
     "text": [
      "    *\n",
      "   ***\n",
      "  *****\n",
      " *******\n",
      "*********\n"
     ]
    }
   ],
   "source": [
    "for i in range(1,6):\n",
    "    for j in range(1,6-i):\n",
    "        print(\" \",end=\"\")\n",
    "    for j in range(1,2*i):\n",
    "        print(\"*\",end=\"\")\n",
    "    print()"
   ]
  },
  {
   "cell_type": "code",
   "execution_count": 124,
   "id": "0a06dd38-f000-4c31-9245-e12306e82438",
   "metadata": {},
   "outputs": [
    {
     "name": "stdout",
     "output_type": "stream",
     "text": [
      "*********\n",
      " *******\n",
      "  *****\n",
      "   ***\n",
      "    *\n"
     ]
    }
   ],
   "source": [
    "for i in range(5,0,-1):\n",
    "    for j in range(1,6-i):\n",
    "        print(\" \",end=\"\")\n",
    "    for j in range(1,2*i):\n",
    "        print(\"*\",end=\"\")\n",
    "    print()"
   ]
  },
  {
   "cell_type": "code",
   "execution_count": 128,
   "id": "80e76225-b110-4c8b-9435-1c430e6a0e79",
   "metadata": {},
   "outputs": [
    {
     "name": "stdout",
     "output_type": "stream",
     "text": [
      "    *\n",
      "   ***\n",
      "  *****\n",
      " *******\n",
      "*********\n",
      " *******\n",
      "  *****\n",
      "   ***\n",
      "    *\n"
     ]
    }
   ],
   "source": [
    "for i in range(1,5):\n",
    "    for j in range(1,6-i):\n",
    "        print(\" \",end=\"\")\n",
    "    for j in range(1,2*i):\n",
    "        print(\"*\",end=\"\")\n",
    "    print()\n",
    "for i in range(5,0,-1):\n",
    "    for j in range(1,6-i):\n",
    "        print(\" \",end=\"\")\n",
    "    for j in range(1,2*i):\n",
    "        print(\"*\",end=\"\")\n",
    "    print()"
   ]
  },
  {
   "cell_type": "code",
   "execution_count": 142,
   "id": "df776291-2b25-4275-96f6-96e5f99869a8",
   "metadata": {},
   "outputs": [
    {
     "name": "stdout",
     "output_type": "stream",
     "text": [
      "        1 \n",
      "      1 2 3 \n",
      "    1 2 3 4 5 \n",
      "  1 2 3 4 5 6 7 \n",
      "1 2 3 4 5 6 7 8 9 \n",
      "  1 2 3 4 5 6 7 \n",
      "    1 2 3 4 5 \n",
      "      1 2 3 \n",
      "        1 \n"
     ]
    }
   ],
   "source": [
    "for i in range(1,5):\n",
    "    for j in range(1,6-i):\n",
    "        print(\" \",end=\" \")\n",
    "    n=1\n",
    "    for j in range(1,2*i):\n",
    "        print(n,end=\" \")\n",
    "        n+=1\n",
    "    print()\n",
    "for i in range(5,0,-1):\n",
    "    for j in range(1,6-i):\n",
    "        print(\" \",end=\" \")\n",
    "    n=1\n",
    "    for j in range(1,2*i):\n",
    "        print(n,end=\" \")\n",
    "        n+=1\n",
    "    print()"
   ]
  },
  {
   "cell_type": "code",
   "execution_count": 154,
   "id": "8a102e5e-3efc-4213-ae43-b0e210bad26b",
   "metadata": {},
   "outputs": [
    {
     "name": "stdout",
     "output_type": "stream",
     "text": [
      "* * * * * * * * * \n",
      "  * * * * * * * \n",
      "    * * * * * \n",
      "      * * * \n",
      "        * \n",
      "      * * * \n",
      "    * * * * * \n",
      "  * * * * * * * \n",
      "* * * * * * * * * \n"
     ]
    }
   ],
   "source": [
    "for i in range(5,1,-1):\n",
    "    for j in range(1,6-i):\n",
    "        print(\" \",end=\" \")\n",
    "    for j in range(1,2*i):\n",
    "        print(\"*\",end=\" \")\n",
    "    print()\n",
    "for i in range(1,6):\n",
    "    for j in range(1,6-i):\n",
    "        print(\" \",end=\" \")\n",
    "    for j in range(1,2*i):\n",
    "        print(\"*\",end=\" \")\n",
    "    print()"
   ]
  },
  {
   "cell_type": "code",
   "execution_count": 162,
   "id": "e5f5fd6e-8f34-471f-bdb3-34145223b557",
   "metadata": {},
   "outputs": [
    {
     "name": "stdout",
     "output_type": "stream",
     "text": [
      "1 2 3 4 5 6 7 8 9 \n",
      "  1 2 3 4 5 6 7 \n",
      "    1 2 3 4 5 \n",
      "      1 2 3 \n",
      "        1 \n",
      "      1 2 3 \n",
      "    1 2 3 4 5 \n",
      "  1 2 3 4 5 6 7 \n",
      "1 2 3 4 5 6 7 8 9 \n"
     ]
    }
   ],
   "source": [
    "for i in range(5,1,-1):\n",
    "    for j in range(1,6-i):\n",
    "        print(\" \",end=\" \")\n",
    "    n=1\n",
    "    for j in range(1,2*i):\n",
    "        print(n,end=\" \")\n",
    "        n+=1\n",
    "    print()\n",
    "for i in range(1,6):\n",
    "    for j in range(1,6-i):\n",
    "        print(\" \",end=\" \")\n",
    "    n=1\n",
    "    for j in range(1,2*i):\n",
    "        print(n,end=\" \")\n",
    "        n+=1\n",
    "    print()"
   ]
  },
  {
   "cell_type": "code",
   "execution_count": 166,
   "id": "8bc1d077-a987-4e95-b68c-3d657d09ada4",
   "metadata": {},
   "outputs": [
    {
     "name": "stdout",
     "output_type": "stream",
     "text": [
      "A B C D E F G H I \n",
      "  A B C D E F G \n",
      "    A B C D E \n",
      "      A B C \n",
      "        A \n",
      "      A B C \n",
      "    A B C D E \n",
      "  A B C D E F G \n",
      "A B C D E F G H I \n"
     ]
    }
   ],
   "source": [
    "for i in range(5,1,-1):\n",
    "    for j in range(1,6-i):\n",
    "        print(\" \",end=\" \")\n",
    "    n=65\n",
    "    for j in range(1,2*i):\n",
    "        print(chr(n),end=\" \")\n",
    "        n+=1\n",
    "    print()\n",
    "for i in range(1,6):\n",
    "    for j in range(1,6-i):\n",
    "        print(\" \",end=\" \")\n",
    "    n=65\n",
    "    for j in range(1,2*i):\n",
    "        print(chr(n),end=\" \")\n",
    "        n+=1\n",
    "    print()"
   ]
  },
  {
   "cell_type": "code",
   "execution_count": 174,
   "id": "31b4457f-ee96-4144-99e5-e58931f30f29",
   "metadata": {},
   "outputs": [
    {
     "name": "stdout",
     "output_type": "stream",
     "text": [
      "*****\n",
      "*   *\n",
      "*   *\n",
      "*   *\n",
      "*****\n"
     ]
    }
   ],
   "source": [
    "for i in range(1,6):\n",
    "    for j in range(1,6):\n",
    "        if(i==1 or i==5 or j==1 or j==5):\n",
    "            print(\"*\",end=\"\")\n",
    "        else:\n",
    "            print(\" \",end=\"\")\n",
    "    print()\n",
    "    "
   ]
  },
  {
   "cell_type": "code",
   "execution_count": 180,
   "id": "854057aa-de35-44d9-b089-72b037f69c5a",
   "metadata": {},
   "outputs": [
    {
     "name": "stdout",
     "output_type": "stream",
     "text": [
      "1 2 3 4 5 \n",
      "1       5 \n",
      "1       5 \n",
      "1       5 \n",
      "1 2 3 4 5 \n"
     ]
    }
   ],
   "source": [
    "for i in range(1,6):\n",
    "    n=1\n",
    "    for j in range(1,6):\n",
    "        if(i==1 or i==5 or j==1 or j==5):\n",
    "            print(n,end=\" \")\n",
    "        else:\n",
    "            print(\" \",end=\" \")\n",
    "        n+=1\n",
    "    print()"
   ]
  },
  {
   "cell_type": "code",
   "execution_count": 184,
   "id": "83be1ab4-5b3c-4ddd-a462-1d7c969438d9",
   "metadata": {},
   "outputs": [
    {
     "name": "stdout",
     "output_type": "stream",
     "text": [
      "A B C D E \n",
      "A       E \n",
      "A       E \n",
      "A       E \n",
      "A B C D E \n"
     ]
    }
   ],
   "source": [
    "for i in range(1,6):\n",
    "    n=65\n",
    "    for j in range(1,6):\n",
    "        if(i==1 or i==5 or j==1 or j==5):\n",
    "            print(chr(n),end=\" \")\n",
    "        else:\n",
    "            print(\" \",end=\" \")\n",
    "        n+=1\n",
    "    print()"
   ]
  },
  {
   "cell_type": "code",
   "execution_count": 186,
   "id": "bd694156-52fa-44bc-baa0-18327e040041",
   "metadata": {},
   "outputs": [
    {
     "name": "stdout",
     "output_type": "stream",
     "text": [
      "    * \n",
      "   * * \n",
      "  *   * \n",
      " *     * \n",
      "*       * \n"
     ]
    }
   ],
   "source": [
    "for i in range(1,6):\n",
    "    for j in range(1,6-i):\n",
    "        print(\" \",end=\"\")\n",
    "    for j in range(1,i+1):\n",
    "        if(i==j or j==1):\n",
    "            print(\"*\",end=\" \")\n",
    "        else:\n",
    "            print(\" \",end=\" \")\n",
    "    print()"
   ]
  },
  {
   "cell_type": "code",
   "execution_count": 190,
   "id": "8688d855-2560-4511-89fe-b4b9b4594ae3",
   "metadata": {},
   "outputs": [
    {
     "name": "stdout",
     "output_type": "stream",
     "text": [
      "*       * \n",
      " *     * \n",
      "  *   * \n",
      "   * * \n",
      "    * \n"
     ]
    }
   ],
   "source": [
    "for i in range(5,0,-1):\n",
    "    for j in range(1,6-i):\n",
    "        print(\" \",end=\"\")\n",
    "    for j in range(1,i+1):\n",
    "        if(i==j or j==1):\n",
    "            print(\"*\",end=\" \")\n",
    "        else:\n",
    "            print(\" \",end=\" \")\n",
    "    print()"
   ]
  },
  {
   "cell_type": "code",
   "execution_count": 196,
   "id": "a370415d-aa81-46f9-8bd9-c1fe327f4357",
   "metadata": {},
   "outputs": [
    {
     "name": "stdout",
     "output_type": "stream",
     "text": [
      "    * \n",
      "   * * \n",
      "  *   * \n",
      " *     * \n",
      "*       * \n",
      " *     * \n",
      "  *   * \n",
      "   * * \n",
      "    * \n"
     ]
    }
   ],
   "source": [
    "for i in range(1,5):\n",
    "    for j in range(1,6-i):\n",
    "        print(\" \",end=\"\")\n",
    "    for j in range(1,i+1):\n",
    "        if(i==j or j==1):\n",
    "            print(\"*\",end=\" \")\n",
    "        else:\n",
    "            print(\" \",end=\" \")\n",
    "    print()\n",
    "for i in range(5,0,-1):\n",
    "    for j in range(1,6-i):\n",
    "        print(\" \",end=\"\")\n",
    "    for j in range(1,i+1):\n",
    "        if(i==j or j==1):\n",
    "            print(\"*\",end=\" \")\n",
    "        else:\n",
    "            print(\" \",end=\" \")\n",
    "    print()"
   ]
  },
  {
   "cell_type": "code",
   "execution_count": 204,
   "id": "5c458a3a-c7a8-474a-9726-26ea0a45933b",
   "metadata": {},
   "outputs": [
    {
     "name": "stdout",
     "output_type": "stream",
     "text": [
      "    A \n",
      "   A B \n",
      "  A   C \n",
      " A     D \n",
      "A       E \n",
      " A     D \n",
      "  A   C \n",
      "   A B \n",
      "    A \n"
     ]
    }
   ],
   "source": [
    "for i in range(1,5):\n",
    "    for j in range(1,6-i):\n",
    "        print(\" \",end=\"\")\n",
    "    n=65\n",
    "    for j in range(1,i+1):\n",
    "        if(i==j or j==1):\n",
    "            print(chr(n),end=\" \")\n",
    "        else:\n",
    "            print(\" \",end=\" \")\n",
    "        n+=1\n",
    "    print()\n",
    "for i in range(5,0,-1):\n",
    "    for j in range(1,6-i):\n",
    "        print(\" \",end=\"\")\n",
    "    n=65\n",
    "    for j in range(1,i+1):\n",
    "        if(i==j or j==1):\n",
    "            print(chr(n),end=\" \")\n",
    "        else:\n",
    "            print(\" \",end=\" \")\n",
    "        n+=1\n",
    "    print()"
   ]
  },
  {
   "cell_type": "code",
   "execution_count": 218,
   "id": "0ed471bd-a799-4541-b1f3-e3a8b47b7ace",
   "metadata": {},
   "outputs": [
    {
     "name": "stdout",
     "output_type": "stream",
     "text": [
      "    *\n",
      "   * *\n",
      "  *   *\n",
      " *     *\n",
      "*       *\n",
      " *     *\n",
      "  *   *\n",
      "   * *\n",
      "    *\n"
     ]
    }
   ],
   "source": [
    "for i in range(1,5):\n",
    "    for j in range(1,6-i):\n",
    "        print(\" \",end=\"\")\n",
    "    for j in range(1,2*i):\n",
    "        if(j==1 or j==2*i-1):\n",
    "            print(\"*\",end=\"\")\n",
    "        else:\n",
    "            print(\" \",end=\"\")\n",
    "    print()\n",
    "for i in range(5,0,-1):\n",
    "    for j in range(1,6-i):\n",
    "        print(\" \",end=\"\")\n",
    "    for j in range(1,2*i):\n",
    "        if(j==1 or j==2*i-1):\n",
    "            print(\"*\",end=\"\")\n",
    "        else:\n",
    "            print(\" \",end=\"\")\n",
    "    print()"
   ]
  },
  {
   "cell_type": "code",
   "execution_count": 224,
   "id": "bdaf458c-45ff-4aa0-bc61-52aa5f93445d",
   "metadata": {},
   "outputs": [
    {
     "name": "stdout",
     "output_type": "stream",
     "text": [
      "    A\n",
      "   A C\n",
      "  A   E\n",
      " A     G\n",
      "A       I\n",
      " A     G\n",
      "  A   E\n",
      "   A C\n",
      "    A\n"
     ]
    }
   ],
   "source": [
    "for i in range(1,5):\n",
    "    for j in range(1,6-i):\n",
    "        print(\" \",end=\"\")\n",
    "    n=65\n",
    "    for j in range(1,2*i):\n",
    "        if(j==1 or j==2*i-1):\n",
    "            print(chr(n),end=\"\")\n",
    "        else:\n",
    "            print(\" \",end=\"\")\n",
    "        n+=1\n",
    "    print()\n",
    "for i in range(5,0,-1):\n",
    "    for j in range(1,6-i):\n",
    "        print(\" \",end=\"\")\n",
    "    n=65\n",
    "    for j in range(1,2*i):\n",
    "        if(j==1 or j==2*i-1):\n",
    "            print(chr(n),end=\"\")\n",
    "        else:\n",
    "            print(\" \",end=\"\")\n",
    "        n+=1\n",
    "    print()"
   ]
  },
  {
   "cell_type": "code",
   "execution_count": 228,
   "id": "27a8cdb8-d460-4633-a998-6adaac74f3d0",
   "metadata": {},
   "outputs": [
    {
     "name": "stdout",
     "output_type": "stream",
     "text": [
      "*        *\n",
      "**      **\n",
      "***    ***\n",
      "****  ****\n",
      "**********\n"
     ]
    }
   ],
   "source": [
    "for i in range(1,6):\n",
    "    for j in range(1,i+1):\n",
    "        print(\"*\",end=\"\")\n",
    "    for j in range(i,10-i):\n",
    "        print(\" \",end=\"\")\n",
    "    for j in range(1,i+1):\n",
    "        print(\"*\",end=\"\")\n",
    "    print()"
   ]
  },
  {
   "cell_type": "code",
   "execution_count": 232,
   "id": "f91e56a1-a970-4908-8433-d8258b36bbfa",
   "metadata": {},
   "outputs": [
    {
     "name": "stdout",
     "output_type": "stream",
     "text": [
      "**********\n",
      "****  ****\n",
      "***    ***\n",
      "**      **\n",
      "*        *\n"
     ]
    }
   ],
   "source": [
    "for i in range(5,0,-1):\n",
    "    for j in range(1,i+1):\n",
    "        print(\"*\",end=\"\")\n",
    "    for j in range(i,10-i):\n",
    "        print(\" \",end=\"\")\n",
    "    for j in range(1,i+1):\n",
    "        print(\"*\",end=\"\")\n",
    "    print()"
   ]
  },
  {
   "cell_type": "code",
   "execution_count": 236,
   "id": "a95fef08-e2a5-4675-ae46-bb6f2b555cba",
   "metadata": {},
   "outputs": [
    {
     "name": "stdout",
     "output_type": "stream",
     "text": [
      "*        *\n",
      "**      **\n",
      "***    ***\n",
      "****  ****\n",
      "**********\n",
      "****  ****\n",
      "***    ***\n",
      "**      **\n",
      "*        *\n"
     ]
    }
   ],
   "source": [
    "for i in range(1,5):\n",
    "    for j in range(1,i+1):\n",
    "        print(\"*\",end=\"\")\n",
    "    for j in range(i,10-i):\n",
    "        print(\" \",end=\"\")\n",
    "    for j in range(1,i+1):\n",
    "        print(\"*\",end=\"\")\n",
    "    print()\n",
    "for i in range(5,0,-1):\n",
    "    for j in range(1,i+1):\n",
    "        print(\"*\",end=\"\")\n",
    "    for j in range(i,10-i):\n",
    "        print(\" \",end=\"\")\n",
    "    for j in range(1,i+1):\n",
    "        print(\"*\",end=\"\")\n",
    "    print()"
   ]
  },
  {
   "cell_type": "code",
   "execution_count": 242,
   "id": "c114a236-9376-4473-b5aa-6e5fb179e434",
   "metadata": {},
   "outputs": [
    {
     "name": "stdout",
     "output_type": "stream",
     "text": [
      "**********\n",
      "****  ****\n",
      "***    ***\n",
      "**      **\n",
      "*        *\n",
      "**      **\n",
      "***    ***\n",
      "****  ****\n",
      "**********\n"
     ]
    }
   ],
   "source": [
    "for i in range(5,1,-1):\n",
    "    for j in range(1,i+1):\n",
    "        print(\"*\",end=\"\")\n",
    "    for j in range(i,10-i):\n",
    "        print(\" \",end=\"\")\n",
    "    for j in range(1,i+1):\n",
    "        print(\"*\",end=\"\")\n",
    "    print()\n",
    "for i in range(1,6):\n",
    "    for j in range(1,i+1):\n",
    "        print(\"*\",end=\"\")\n",
    "    for j in range(i,10-i):\n",
    "        print(\" \",end=\"\")\n",
    "    for j in range(1,i+1):\n",
    "        print(\"*\",end=\"\")\n",
    "    print()"
   ]
  },
  {
   "cell_type": "code",
   "execution_count": null,
   "id": "62cb2d71-cf07-45ba-83ac-1baa4d3df4cb",
   "metadata": {},
   "outputs": [],
   "source": []
  }
 ],
 "metadata": {
  "kernelspec": {
   "display_name": "Python 3 (ipykernel)",
   "language": "python",
   "name": "python3"
  },
  "language_info": {
   "codemirror_mode": {
    "name": "ipython",
    "version": 3
   },
   "file_extension": ".py",
   "mimetype": "text/x-python",
   "name": "python",
   "nbconvert_exporter": "python",
   "pygments_lexer": "ipython3",
   "version": "3.12.4"
  }
 },
 "nbformat": 4,
 "nbformat_minor": 5
}
