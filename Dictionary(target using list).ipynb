{
 "cells": [
  {
   "cell_type": "code",
   "execution_count": 7,
   "id": "8852af5b-a0fe-411d-9c36-aa34cbc5344b",
   "metadata": {},
   "outputs": [
    {
     "name": "stdout",
     "output_type": "stream",
     "text": [
      "2 7\n",
      "7 2\n"
     ]
    }
   ],
   "source": [
    "mylist=[1,2,4,7,11,19]\n",
    "target=9\n",
    "for x in mylist:\n",
    "    if(target-x in mylist):\n",
    "        print(x,target-x)"
   ]
  },
  {
   "cell_type": "code",
   "execution_count": 9,
   "id": "4786d6ee-ca20-42b8-bb05-0fc862a954b7",
   "metadata": {},
   "outputs": [
    {
     "name": "stdout",
     "output_type": "stream",
     "text": [
      "{1: 0, 2: 1, 4: 2, 7: 3, 11: 4, 19: 5}\n"
     ]
    }
   ],
   "source": [
    "mydictionary={}\n",
    "mylist=[1,2,4,7,11,19]\n",
    "for i in range(len(mylist)):\n",
    "    mydictionary[mylist[i]]=i\n",
    "print(mydictionary)"
   ]
  },
  {
   "cell_type": "code",
   "execution_count": 5,
   "id": "0046b1e1-cf74-467b-9c7c-330438b98f72",
   "metadata": {},
   "outputs": [
    {
     "name": "stdout",
     "output_type": "stream",
     "text": [
      "{1: 0, 2: 1, 4: 2, 7: 3, 11: 4, 19: 5}\n",
      "2 7 3\n",
      "7 2 1\n"
     ]
    }
   ],
   "source": [
    "mydictionary={}\n",
    "mylist=[1,2,4,7,11,19]\n",
    "target=9\n",
    "for i in range(len(mylist)):\n",
    "    mydictionary[mylist[i]]=i\n",
    "print(mydictionary)\n",
    "for x in mylist:\n",
    "    if(target-x in mydictionary):\n",
    "        print(x,target-x,mydictionary[target-x])"
   ]
  },
  {
   "cell_type": "code",
   "execution_count": 13,
   "id": "bda0f177-28f0-427c-9a4f-f5351de647e1",
   "metadata": {},
   "outputs": [
    {
     "name": "stdout",
     "output_type": "stream",
     "text": [
      "{1, 3, 4, 5, 10, 20, 30, 'abc', 'hello'}\n"
     ]
    }
   ],
   "source": [
    "#set=>datatype\n",
    "#unique values\n",
    "#no index position\n",
    "#set are mutable\n",
    "#set doesnot hold duplicate value\n",
    "myset={1,2,3,1,1,1,1,4,5}\n",
    "myset.add(\"abc\")\n",
    "myset.update([10,20,30,'hello'])\n",
    "myset.remove(2)\n",
    "print(myset)"
   ]
  },
  {
   "cell_type": "code",
   "execution_count": null,
   "id": "48e42aef-5a1b-415c-aaa7-205d8b65bdc6",
   "metadata": {},
   "outputs": [],
   "source": []
  }
 ],
 "metadata": {
  "kernelspec": {
   "display_name": "Python 3 (ipykernel)",
   "language": "python",
   "name": "python3"
  },
  "language_info": {
   "codemirror_mode": {
    "name": "ipython",
    "version": 3
   },
   "file_extension": ".py",
   "mimetype": "text/x-python",
   "name": "python",
   "nbconvert_exporter": "python",
   "pygments_lexer": "ipython3",
   "version": "3.12.4"
  }
 },
 "nbformat": 4,
 "nbformat_minor": 5
}
