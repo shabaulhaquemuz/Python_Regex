{
 "cells": [
  {
   "cell_type": "code",
   "execution_count": 7,
   "id": "c37f1d89-1acf-45cc-af60-e7b7f808bb26",
   "metadata": {},
   "outputs": [],
   "source": [
    "# ✅ Beginner Level (5–7 Questions)\n",
    "# Goal: Understand syntax, loop control, and basic conditions.\n",
    "\n",
    "# 1.Print numbers 1 to 10 using while loop\n",
    "\n",
    "# 2.Print even numbers from 1 to 50\n",
    "\n",
    "# 3.Print a countdown from 10 to 1\n",
    "\n",
    "# 4.Sum of first n numbers\n",
    "\n",
    "# 5.Reverse a number (e.g., 123 → 321)\n",
    "\n",
    "# 6.Factorial of a number\n",
    "\n",
    "# 7.Multiplication table using while loop"
   ]
  },
  {
   "cell_type": "code",
   "execution_count": 5,
   "id": "49e08ee0-e671-4026-994e-77faa68f7b1c",
   "metadata": {},
   "outputs": [],
   "source": [
    "# ✅ Intermediate-Level While Loop Challenges (Rewritten)\n",
    "# 8.Prime Number Checker\n",
    "# ➤ Write a program that takes an integer input and uses a while loop to check whether the number is prime.\n",
    "\n",
    "# 9.Palindrome Number Detector\n",
    "# ➤ Ask the user for a number and check if it reads the same forward and backward (e.g., 121 → 121). Use a while loop to reverse the number.\n",
    "\n",
    "# 10.Armstrong Number Validator\n",
    "# ➤ Determine whether a given number is an Armstrong number, i.e., the sum of its digits raised to the power of the number of digits equals the number itself (e.g., 153 → 1³ + 5³ + 3³ = 153).\n",
    "\n",
    "# 11.Find GCD (HCF) of Two Numbers\n",
    "# ➤ Create a while loop-based program to compute the Greatest Common Divisor (GCD) of two positive integers.\n",
    "\n",
    "# 12.Fibonacci Sequence Generator\n",
    "# ➤ Display the first n terms of the Fibonacci sequence using a while loop.\n",
    "\n",
    "# 13.Menu-Driven Calculator\n",
    "# ➤ Implement a calculator that offers options like Add, Subtract, Multiply, Divide. Keep showing the menu until the user chooses to exit. Use while True and break.\n",
    "\n",
    "# 14.Password Authentication System\n",
    "# ➤ Keep prompting the user to enter the correct password using a while loop. Stop when the correct password is entered.\n",
    "\n",
    "# 15.Digit-by-Digit Display\n",
    "# ➤ Take an integer input and use a while loop to print each digit separately, from last to first.\n",
    "\n",
    "# 16.Number Guessing Game\n",
    "# ➤ Generate a random number and let the user guess it. Use a while loop to keep asking until the correct guess is made, and provide hints like \"Too High\" or \"Too Low\".\n",
    "\n",
    "# 17.Banking System Simulation with Limited Login Attempts\n",
    "# ➤ Simulate a simple login system where the user has only 3 attempts to enter the correct PIN. Lock the system after 3 failed attempts.\n",
    "\n"
   ]
  },
  {
   "cell_type": "code",
   "execution_count": 9,
   "id": "0f30ae55-77dc-4302-8b04-07b3f73b608e",
   "metadata": {},
   "outputs": [],
   "source": [
    "# 18.ATM Simulation with PIN Verification and Balance Check\n",
    "# ➤ Create an ATM system where users must enter the correct PIN (max 3 attempts) to access features like viewing balance, withdrawing, or depositing money. Use while loops for control flow.\n",
    "\n",
    "# 19.Text-Based Game: Rock-Paper-Scissors\n",
    "# ➤ Build a Rock-Paper-Scissors game between user and computer using while loop. Include score tracking and option to replay.\n",
    "\n",
    "# 20.Basic Stopwatch / Timer Simulation\n",
    "# ➤ Simulate a timer that counts seconds with a while loop. Let the user start/stop/reset using input commands.\n",
    "\n",
    "# 21.Login System with Limited Attempts\n",
    "# ➤ Implement a login system where users have only 3 chances to enter the correct credentials. Block access if attempts exceed the limit.\n",
    "\n",
    "# 22.Control Flow with while True, break, and continue\n",
    "# ➤ Write a menu-based program (like calculator or mini-dashboard) using an infinite while True: loop, demonstrating the use of break and continue clearly.\n",
    "\n",
    "# 23.Custom Infinite Loop with User-Defined Exit Condition\n",
    "# ➤ Simulate an infinite loop that continues asking for input and only breaks when a specific keyword (like “exit” or “stop”) is entered.\n",
    "\n",
    "# 24.Number Filtering Program\n",
    "# ➤ Print numbers from 1 to 100, but skip numbers divisible by 3 using continue. Also, stop printing once the number reaches 90 using break.\n",
    "\n",
    "# 25.Input Validation Using While Loop\n",
    "# ➤ Continuously prompt the user to enter valid input (e.g., age must be greater than 18). Repeat until correct data is provided.\n",
    "\n",
    "# 26.Pattern Generator Using While Loop\n",
    "# ➤ Generate a specific pattern (e.g., right-angle triangle with stars *, numbers, or alphabets) using nested while loops.\n",
    "\n",
    "# 27.Password Strength Validator with Re-entry Prompt (Optional Bonus)\n",
    "# ➤ Keep prompting the user to enter a strong password (e.g., must include uppercase, lowercase, number, and symbol) until valid.\n",
    "\n",
    "# 28. Sum of Digits Until Single Digit (Repeated Digit Sum)\n",
    "# ➤ Keep adding the digits of a number until the result becomes a single-digit number. Use a while loop for repetition.\n",
    "\n",
    "# 📌 Example:\n",
    "# Input: 9875\n",
    "# Step 1: 9+8+7+5 = 29\n",
    "# Step 2: 2+9 = 11\n",
    "# Step 3: 1+1 = 2\n",
    "# ✅ Output: 2\n",
    "\n",
    "# 29. Find the First Repeated Digit in a Number\n",
    "# ➤ Take an integer input and use a while loop to identify the first digit that repeats when scanning from right to left.\n",
    "\n",
    "# 📌 Example:\n",
    "# Input: 9876258\n",
    "# ✅ Output: 8 (because 8 appears more than once)\n",
    "\n",
    "# (Hint: Use a set to track seen digits)\n",
    "\n",
    "\n",
    "# 3. Check if a Number is a Happy Number\n",
    "# ➤ A number is happy if repeatedly replacing it with the sum of the squares of its digits eventually leads to 1. Use a while loop to perform the check.\n",
    "\n",
    "# 📌 Example:\n",
    "# Input: 19\n",
    "# → 1² + 9² = 82\n",
    "# → 8² + 2² = 68\n",
    "# → 6² + 8² = 100\n",
    "# → 1² + 0² + 0² = 1 ✅ → Happy Number\n",
    "\n",
    "# If the process falls into a loop without reaching 1, it's not happy."
   ]
  },
  {
   "cell_type": "code",
   "execution_count": 27,
   "id": "f52554ee-8796-4a51-b933-97cc406ba7c7",
   "metadata": {},
   "outputs": [
    {
     "name": "stdout",
     "output_type": "stream",
     "text": [
      "1 2 3 4 5 6 7 8 9 10 "
     ]
    }
   ],
   "source": [
    "# 1.Print numbers 1 to 10 using while loop\n",
    "i=1\n",
    "while(i<=10):\n",
    "    print(i,end=\" \")\n",
    "    i+=1"
   ]
  },
  {
   "cell_type": "code",
   "execution_count": 29,
   "id": "4001ba1b-da73-4ac8-8f20-b771f29e5300",
   "metadata": {},
   "outputs": [
    {
     "name": "stdout",
     "output_type": "stream",
     "text": [
      "2 4 6 8 10 12 14 16 18 20 22 24 26 28 30 32 34 36 38 40 42 44 46 48 50 "
     ]
    }
   ],
   "source": [
    "# 2.Print even numbers from 1 to 50\n",
    "i=1\n",
    "while(i<=50):\n",
    "    if(i%2==0):\n",
    "        print(i,end=\" \")\n",
    "    i+=1\n"
   ]
  },
  {
   "cell_type": "code",
   "execution_count": 31,
   "id": "599f774f-1cfa-4922-995e-022b06f66a7e",
   "metadata": {},
   "outputs": [
    {
     "name": "stdout",
     "output_type": "stream",
     "text": [
      "10 9 8 7 6 5 4 3 2 1 "
     ]
    }
   ],
   "source": [
    "# 3.Print a countdown from 10 to 1\n",
    "i=10\n",
    "while(i>=1):\n",
    "    print(i,end=\" \")\n",
    "    i-=1"
   ]
  },
  {
   "cell_type": "code",
   "execution_count": 33,
   "id": "0b631142-37f2-43a5-ada1-25ba06856c93",
   "metadata": {},
   "outputs": [
    {
     "name": "stdin",
     "output_type": "stream",
     "text": [
      "enter the value of n: 5\n"
     ]
    },
    {
     "name": "stdout",
     "output_type": "stream",
     "text": [
      "sum of first n numbers is: 15\n"
     ]
    }
   ],
   "source": [
    "# 4.Sum of first n numbers\n",
    "n=int(input(\"enter the value of n:\"))\n",
    "sum=0\n",
    "i=1\n",
    "while(i<=n):\n",
    "    sum+=i\n",
    "    i+=1\n",
    "print(\"sum of first n numbers is:\",sum)"
   ]
  },
  {
   "cell_type": "code",
   "execution_count": 43,
   "id": "e1222079-2c7e-4631-9008-6a7472802a8c",
   "metadata": {},
   "outputs": [
    {
     "name": "stdin",
     "output_type": "stream",
     "text": [
      "enter any number: -12300\n"
     ]
    },
    {
     "name": "stdout",
     "output_type": "stream",
     "text": [
      "00321"
     ]
    }
   ],
   "source": [
    "# 5.Reverse a number (e.g., 123 → 321)\n",
    "n=int(input(\"enter any number:\"))\n",
    "n=abs(n)\n",
    "while(n>=1):\n",
    "    print(n%10,end=\"\")\n",
    "    n=n//10"
   ]
  },
  {
   "cell_type": "code",
   "execution_count": 45,
   "id": "7a72cd02-f0af-4f42-886f-d08cd6be6270",
   "metadata": {},
   "outputs": [
    {
     "name": "stdin",
     "output_type": "stream",
     "text": [
      "Enter any number:  -123400\n"
     ]
    },
    {
     "name": "stdout",
     "output_type": "stream",
     "text": [
      "-004321"
     ]
    }
   ],
   "source": [
    "#to preserve negative sign in the print, you can do:\n",
    "n = int(input(\"Enter any number: \"))\n",
    "if n < 0:\n",
    "    print(\"-\", end=\"\")\n",
    "n = abs(n)\n",
    "while n >= 1:\n",
    "    print(n % 10, end=\"\")\n",
    "    n //= 10\n"
   ]
  },
  {
   "cell_type": "code",
   "execution_count": 37,
   "id": "d33d5687-9c7e-4a11-8982-0aa571f2d082",
   "metadata": {},
   "outputs": [
    {
     "name": "stdin",
     "output_type": "stream",
     "text": [
      "enter any number: 5\n"
     ]
    },
    {
     "name": "stdout",
     "output_type": "stream",
     "text": [
      "factorial is: 120\n"
     ]
    }
   ],
   "source": [
    "# 6.Factorial of a number\n",
    "f=int(input(\"enter any number:\"))\n",
    "factorial=1\n",
    "while(f>=1):\n",
    "    factorial*=f\n",
    "    f-=1\n",
    "print(\"factorial is:\",factorial)"
   ]
  },
  {
   "cell_type": "code",
   "execution_count": 39,
   "id": "6479b6de-d134-4170-ab50-20f4feec8338",
   "metadata": {},
   "outputs": [
    {
     "name": "stdin",
     "output_type": "stream",
     "text": [
      "enter any number you want to write the table for: 5\n"
     ]
    },
    {
     "name": "stdout",
     "output_type": "stream",
     "text": [
      "5 * 1 = 5\n",
      "5 * 2 = 10\n",
      "5 * 3 = 15\n",
      "5 * 4 = 20\n",
      "5 * 5 = 25\n",
      "5 * 6 = 30\n",
      "5 * 7 = 35\n",
      "5 * 8 = 40\n",
      "5 * 9 = 45\n",
      "5 * 10 = 50\n"
     ]
    }
   ],
   "source": [
    "# 7.Multiplication table using while loop\n",
    "m=int(input(\"enter any number you want to write the table for:\"))\n",
    "i=1\n",
    "while(i<=10):\n",
    "    print(m,\"*\",i,\"=\",m*i)\n",
    "    i+=1\n"
   ]
  },
  {
   "cell_type": "code",
   "execution_count": null,
   "id": "3f628815-98a1-4dda-8238-71c56516c26b",
   "metadata": {},
   "outputs": [],
   "source": []
  }
 ],
 "metadata": {
  "kernelspec": {
   "display_name": "Python 3 (ipykernel)",
   "language": "python",
   "name": "python3"
  },
  "language_info": {
   "codemirror_mode": {
    "name": "ipython",
    "version": 3
   },
   "file_extension": ".py",
   "mimetype": "text/x-python",
   "name": "python",
   "nbconvert_exporter": "python",
   "pygments_lexer": "ipython3",
   "version": "3.12.4"
  }
 },
 "nbformat": 4,
 "nbformat_minor": 5
}
