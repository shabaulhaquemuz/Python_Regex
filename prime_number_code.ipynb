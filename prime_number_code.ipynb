{
 "cells": [
  {
   "cell_type": "code",
   "execution_count": 33,
   "id": "6234a399-7d67-477e-82f9-d5530e113d30",
   "metadata": {},
   "outputs": [
    {
     "name": "stdin",
     "output_type": "stream",
     "text": [
      "enter the number: -1\n"
     ]
    },
    {
     "name": "stdout",
     "output_type": "stream",
     "text": [
      "number equals to or less than 1 cant be prime\n"
     ]
    }
   ],
   "source": [
    "n=int(input(\"enter the number:\"))\n",
    "count=0\n",
    "if(n<=1):\n",
    "    print(\"number equals to or less than 1 cant be prime\")\n",
    "else:\n",
    "    for i in range(2,n):\n",
    "        if(n%i==0):\n",
    "            count=1\n",
    "            break\n",
    "    if(count==0):\n",
    "        print(\"prime\")\n",
    "    else:\n",
    "        print(\"not a prime\")"
   ]
  },
  {
   "cell_type": "code",
   "execution_count": null,
   "id": "2eeed6d9-7b8a-4b66-a893-c54e2eb460e0",
   "metadata": {},
   "outputs": [],
   "source": []
  }
 ],
 "metadata": {
  "kernelspec": {
   "display_name": "Python 3 (ipykernel)",
   "language": "python",
   "name": "python3"
  },
  "language_info": {
   "codemirror_mode": {
    "name": "ipython",
    "version": 3
   },
   "file_extension": ".py",
   "mimetype": "text/x-python",
   "name": "python",
   "nbconvert_exporter": "python",
   "pygments_lexer": "ipython3",
   "version": "3.12.4"
  }
 },
 "nbformat": 4,
 "nbformat_minor": 5
}
