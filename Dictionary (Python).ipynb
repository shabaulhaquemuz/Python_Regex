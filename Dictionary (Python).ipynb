{
 "cells": [
  {
   "cell_type": "markdown",
   "id": "7bbc7f7f-cced-4f9f-ba60-aba1f8e589e1",
   "metadata": {},
   "source": [
    "## Dictionary"
   ]
  },
  {
   "cell_type": "code",
   "execution_count": 6,
   "id": "78215395-599a-4e8a-9864-5b758fe4a709",
   "metadata": {},
   "outputs": [
    {
     "name": "stdout",
     "output_type": "stream",
     "text": [
      "{'h': 1, 'e': 1, 'y': 1}\n"
     ]
    }
   ],
   "source": [
    "s = \"hey\"\n",
    "x = {}\n",
    "\n",
    "for i in s:\n",
    "    x[i]=1\n",
    "\n",
    "print(x)"
   ]
  },
  {
   "cell_type": "code",
   "execution_count": 10,
   "id": "a23e8ebf-d05e-4cca-9d97-f1750f6e3414",
   "metadata": {},
   "outputs": [
    {
     "name": "stdout",
     "output_type": "stream",
     "text": [
      "{'h': 1, 'e': 2, 'y': 3}\n"
     ]
    }
   ],
   "source": [
    "s = \"hey\"\n",
    "x = {}\n",
    "n = 1\n",
    "for i in s:\n",
    "    x[i]=n\n",
    "    n+=1\n",
    "print(x)"
   ]
  },
  {
   "cell_type": "code",
   "execution_count": 14,
   "id": "1572460d-f68b-4047-8921-32f97e98707f",
   "metadata": {},
   "outputs": [
    {
     "name": "stdout",
     "output_type": "stream",
     "text": [
      "{'total': 10}\n"
     ]
    }
   ],
   "source": [
    "s=\"helllo hey\"\n",
    "x={}\n",
    "x[\"total\"] = len(s)\n",
    "print(x)"
   ]
  },
  {
   "cell_type": "code",
   "execution_count": 20,
   "id": "1ed6f00b-43fe-49b0-b831-79d614e99a40",
   "metadata": {},
   "outputs": [
    {
     "name": "stdout",
     "output_type": "stream",
     "text": [
      "{'Total': 10}\n"
     ]
    }
   ],
   "source": [
    "s=\"helllo hey\"\n",
    "x={}\n",
    "total = 0\n",
    "for i in s:\n",
    "    total+=1\n",
    "x[\"Total\"] = total\n",
    "print(x)"
   ]
  },
  {
   "cell_type": "code",
   "execution_count": 28,
   "id": "4935f19d-85e8-4577-a289-be6ece22131a",
   "metadata": {},
   "outputs": [
    {
     "name": "stdout",
     "output_type": "stream",
     "text": [
      "{'e': 1, 'a': 2}\n"
     ]
    }
   ],
   "source": [
    "s=\"regx a\"\n",
    "n = 1\n",
    "x={}\n",
    "for i in s:\n",
    "    if(i in \"aeiou\"):\n",
    "        x[i]=n\n",
    "        n+=1\n",
    "print(x)"
   ]
  },
  {
   "cell_type": "code",
   "execution_count": 30,
   "id": "73e5d35e-1ddc-4a9c-b9b7-e36c5101933a",
   "metadata": {},
   "outputs": [
    {
     "name": "stdout",
     "output_type": "stream",
     "text": [
      "{'e': 2, 'o': 1, 'a': 1, 'i': 1}\n"
     ]
    }
   ],
   "source": [
    "s =\"hey hello abhi\"\n",
    "x={}\n",
    "for i in s:\n",
    "    if(i in \"aeiou\"):\n",
    "        val=s.count(i)\n",
    "        x[i]=val\n",
    "print(x)"
   ]
  },
  {
   "cell_type": "code",
   "execution_count": null,
   "id": "f8d75580-8690-47cd-b56d-2e86c6d40fdd",
   "metadata": {},
   "outputs": [],
   "source": []
  }
 ],
 "metadata": {
  "kernelspec": {
   "display_name": "Python [conda env:base] *",
   "language": "python",
   "name": "conda-base-py"
  },
  "language_info": {
   "codemirror_mode": {
    "name": "ipython",
    "version": 3
   },
   "file_extension": ".py",
   "mimetype": "text/x-python",
   "name": "python",
   "nbconvert_exporter": "python",
   "pygments_lexer": "ipython3",
   "version": "3.12.7"
  }
 },
 "nbformat": 4,
 "nbformat_minor": 5
}
