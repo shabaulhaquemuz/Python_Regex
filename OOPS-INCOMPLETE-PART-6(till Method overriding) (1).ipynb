{
 "cells": [
  {
   "cell_type": "code",
   "execution_count": 1,
   "id": "b7d55cb9-eb25-4bb4-b9eb-1bac72f6558b",
   "metadata": {},
   "outputs": [],
   "source": [
    "#Classes and Objects\n",
    "#Object:Objects are real world entity that has some characteristics and behaviour. Anything inside this world is an object.\n",
    "#An object is an instance of a class.\n",
    "\n",
    "#Class:A class is a blueprint or template for creating objects.\n",
    "#It defines the attributes (variables) and methods (functions) that its objects will have.:\n",
    "#characteristics(variables) and behaviour(functions)"
   ]
  },
  {
   "cell_type": "code",
   "execution_count": 3,
   "id": "cc4f4cf3-88a2-41b3-bf38-3662da914910",
   "metadata": {},
   "outputs": [],
   "source": [
    "#OOPS:Object-Oriented Programming (OOP) is a programming paradigm based on the concept of \"objects\", which are instances of classes.\n",
    "#Meaning of \"Paradigm\":\n",
    "#A paradigm is a way or style of doing something — especially in science or programming."
   ]
  },
  {
   "cell_type": "code",
   "execution_count": null,
   "id": "4eeeee9e-509d-4423-b74a-44526fbb614b",
   "metadata": {},
   "outputs": [],
   "source": []
  },
  {
   "cell_type": "code",
   "execution_count": null,
   "id": "94e2c543-3729-462f-bb5f-4e89b56c343f",
   "metadata": {},
   "outputs": [],
   "source": []
  },
  {
   "cell_type": "code",
   "execution_count": 5,
   "id": "d4feb7b0-b59f-447c-bd5f-42bcbecefca3",
   "metadata": {},
   "outputs": [],
   "source": [
    "# | Concept           | Easy Meaning                                                              |\n",
    "# | ----------------- | ------------------------------------------------------------------------- |\n",
    "# | **Class**         | A design or blueprint (like \"Car\" or \"Student\")                           |\n",
    "# | **Object**        | A real item made from the class (like a red Honda car or student Amit)    |\n",
    "# | **Encapsulation** | Hiding details inside a box (like remote hides circuits)                  |\n",
    "# | **Inheritance**   | One class can use features of another (like child inherits from parents)  |\n",
    "# | **Polymorphism**  | Same function doing different things (e.g., one button for play & pause)  |\n",
    "# | **Abstraction**   | Hiding the complex part, showing only what is needed (like ATM interface) |\n",
    "\n",
    "# OOP is Useful (One-Liners)/benefits of oops:\n",
    "# Makes code organized – Groups related data and actions together using classes.\n",
    "\n",
    "# Easy to reuse – You can reuse classes and inherit features using inheritance.\n",
    "\n",
    "# Easy to understand – Code is cleaner and follows a real-world structure.\n",
    "\n",
    "# Matches real-world thinking – Models real objects like Car, Student, or Account in code.\n",
    "\n",
    "\n",
    "\n",
    "#Benefits of OOP:\n",
    "# 1. Modularity (Code Organization)\n",
    "# Code is divided into small, manageable units (classes & objects).\n",
    "\n",
    "# 2. Reusability (DRY – Don’t Repeat Yourself)\n",
    "# Once a class is created, it can be reused in other programs or parts of the program.\n",
    "\n",
    "# 3. Encapsulation (Data Protection)\n",
    "# Data and methods are bundled together in a class.\n",
    "# Internal details are hidden using private attributes.\n",
    "# 🔐 Example: Password stored as __password, not directly accessible from outside.\n",
    "\n",
    "# 4. Inheritance (Code Reuse & Extensibility)\n",
    "# A class (child) can inherit properties and methods from another class (parent).\n",
    "# Reduces duplicate code.\n",
    "# 🧬 Example: Student and Teacher can inherit from a Person class.\n",
    "\n",
    "# 5. Polymorphism (Flexibility)\n",
    "# Same function name behaves differently depending on the object calling it.\n",
    "# def draw(shape):  \n",
    "#     shape.draw()\n",
    "# draw() could mean drawing a circle or rectangle based on the object passed.\n",
    "\n",
    "# 6. Scalability and Maintainability\n",
    "# Adding new features or fixing bugs is easier, since classes are independent.\n",
    "# Real-world mapping makes systems easier to expand.\n",
    "# 🚀 Example: Adding a Truck class to an existing Vehicle system is straightforward."
   ]
  },
  {
   "cell_type": "code",
   "execution_count": 9,
   "id": "d8d79018-4d5c-432f-8b5a-2a1e36eb2a8d",
   "metadata": {},
   "outputs": [
    {
     "data": {
      "text/plain": [
       "'splendor'"
      ]
     },
     "execution_count": 9,
     "metadata": {},
     "output_type": "execute_result"
    }
   ],
   "source": [
    "class Bike_template:\n",
    "    color=\"yellow\"\n",
    "    name=\"splendor\""
   ]
  },
  {
   "cell_type": "code",
   "execution_count": 11,
   "id": "0f5d6b36-dfb5-4bf6-b612-3c79faabc351",
   "metadata": {},
   "outputs": [
    {
     "name": "stdout",
     "output_type": "stream",
     "text": [
      "<__main__.Bike_template object at 0x0000018BA0B840B0>\n"
     ]
    }
   ],
   "source": [
    "b1=Bike_template()   #b1 is object here\n",
    "print(b1)            # b1 is an object (instance) of the class Bike_template, and it stores the memory address of that object\n",
    "\n",
    "\n",
    "#b1 is not storing the memory address of the class.\n",
    "#It is storing the memory address of the object created from the class.\n",
    "\n",
    "# So technically:\n",
    "\n",
    "# Bike_template → is the class (template)\n",
    "# b1 = Bike_template() → creates an object\n",
    "# b1 → refers to that object’s location in memory, not the class itself\n",
    "\n",
    "#Bike_template()..it means we are calling the class and when we call a class it automatically runs the constructor and constructor after it runs returns \n",
    "#the memory address and that memory address is stored inside a variable(object), lets say b1=Bike_template(), b1(variable/object) here,\n",
    "#stores the memory address."
   ]
  },
  {
   "cell_type": "code",
   "execution_count": 13,
   "id": "b7a35d13-4ed3-44f8-97e4-6a5b3bc77b06",
   "metadata": {},
   "outputs": [
    {
     "name": "stdout",
     "output_type": "stream",
     "text": [
      "splendor\n"
     ]
    }
   ],
   "source": [
    "print(b1.name)"
   ]
  },
  {
   "cell_type": "code",
   "execution_count": 15,
   "id": "571b6c13-3e0a-408c-9e6f-2f7bd4ee29e4",
   "metadata": {},
   "outputs": [
    {
     "name": "stdout",
     "output_type": "stream",
     "text": [
      "yellow\n"
     ]
    }
   ],
   "source": [
    "print(b1.color)"
   ]
  },
  {
   "cell_type": "code",
   "execution_count": 21,
   "id": "56766d12-ed2d-45db-9fe5-a787fb818439",
   "metadata": {},
   "outputs": [
    {
     "name": "stdout",
     "output_type": "stream",
     "text": [
      "<__main__.Bike_template object at 0x0000018BA0724170>\n",
      "splendor\n",
      "yellow\n"
     ]
    }
   ],
   "source": [
    "#2nd object creation from same class>>we can create infinite objects from same class\n",
    "b2=Bike_template()\n",
    "print(b2)\n",
    "print(b2.name)\n",
    "print(b2.color)"
   ]
  },
  {
   "cell_type": "code",
   "execution_count": 27,
   "id": "77a3eb84-dc9f-4226-b107-0293a61ad296",
   "metadata": {},
   "outputs": [
    {
     "name": "stdout",
     "output_type": "stream",
     "text": [
      "yellow\n",
      "red\n"
     ]
    }
   ],
   "source": [
    "#changing property(variable) of a particular object\n",
    "b3=Bike_template()\n",
    "print(b3.color)    #through class, b3(object) bike has yellow color\n",
    "b3.color=\"red\"     #changed the color(property) of this object b3, but for new objects the color by default would be same as defined in class i.e. yellow\n",
    "print(b3.color)"
   ]
  },
  {
   "cell_type": "code",
   "execution_count": 45,
   "id": "2a1c65a8-d5d4-4e97-9d52-97d4a90ed449",
   "metadata": {},
   "outputs": [
    {
     "name": "stdout",
     "output_type": "stream",
     "text": [
      "bike color: blue , bike name: pulsar\n"
     ]
    }
   ],
   "source": [
    "#make the code reusable by creating a function\n",
    "class Bike_blueprint:\n",
    "    color=\"blue\"\n",
    "    name=\"pulsar\"\n",
    "    def info(self):\n",
    "        print(\"bike color:\",self.color,\",\", \"bike name:\",self.name )\n",
    "c1=Bike_blueprint()\n",
    "c1.info()"
   ]
  },
  {
   "cell_type": "code",
   "execution_count": 51,
   "id": "97919c90-4f3d-4cd3-a5fe-f6f9f733826a",
   "metadata": {},
   "outputs": [
    {
     "name": "stdout",
     "output_type": "stream",
     "text": [
      "bike color: black , bike name: pulsar\n"
     ]
    }
   ],
   "source": [
    "c2=Bike_blueprint()\n",
    "c2.color=\"black\"\n",
    "c2.info()"
   ]
  },
  {
   "cell_type": "code",
   "execution_count": 53,
   "id": "c038285f-c63a-45ff-bf5e-32759217cfeb",
   "metadata": {},
   "outputs": [
    {
     "name": "stdout",
     "output_type": "stream",
     "text": [
      "bike color: black , bike name: pulsar\n"
     ]
    }
   ],
   "source": [
    "c2.info()"
   ]
  },
  {
   "cell_type": "code",
   "execution_count": 55,
   "id": "b82c512a-71f4-48e1-97d1-c9680b034a36",
   "metadata": {},
   "outputs": [
    {
     "name": "stdout",
     "output_type": "stream",
     "text": [
      "bike color: blue , bike name: pulsar\n"
     ]
    }
   ],
   "source": [
    "c1.info()"
   ]
  },
  {
   "cell_type": "code",
   "execution_count": 59,
   "id": "8c428604-bab0-433a-8eb4-140cb2fde374",
   "metadata": {},
   "outputs": [
    {
     "name": "stdout",
     "output_type": "stream",
     "text": [
      "bike color: blue , bike name: pulsar\n"
     ]
    }
   ],
   "source": [
    "c3=Bike_blueprint()\n",
    "c3.info()"
   ]
  },
  {
   "cell_type": "code",
   "execution_count": 1,
   "id": "179f1f56-ba01-4e56-a301-26849ed0f7aa",
   "metadata": {},
   "outputs": [],
   "source": [
    "class Car_template:\n",
    "    color=\"black\"\n",
    "    name=\"Creta\"\n",
    "    "
   ]
  },
  {
   "cell_type": "code",
   "execution_count": 9,
   "id": "1bbe5faf-7ff1-4809-b656-fb99a9acc209",
   "metadata": {},
   "outputs": [
    {
     "name": "stdout",
     "output_type": "stream",
     "text": [
      "<__main__.Car_template object at 0x000001AB8C5C1A90>\n",
      "black\n",
      "Creta\n"
     ]
    }
   ],
   "source": [
    "car=Car_template()\n",
    "print(car)\n",
    "print(car.color)\n",
    "print(car.name)"
   ]
  },
  {
   "cell_type": "code",
   "execution_count": 19,
   "id": "ed7057ca-09b5-4d99-b6cd-3382f3d6432c",
   "metadata": {},
   "outputs": [],
   "source": [
    "class Blue_print:\n",
    "    color=\"black\"\n",
    "    name=\"Creta\"\n",
    "    def info(self):           #in python, the info() method is a user-defined method commonly used to display information about an object.\n",
    "        print(\"Car name:\",self.name,\" , \",\"Car color:\",self.color)\n",
    "#self is avariable or we can say it is a naming convention which refers(or provide a reference) to the current instance/object of the class.\n",
    "#It is used to access variables and methods that belong to that specific object.\n",
    "#self is not a keyword it is just a keyword, we can technically use any name instead of self but we should not.\n",
    "\n",
    "# note:= Python just passes the object itself as the first argument to every method — and by convention, we name it self.\n",
    "\n",
    "#A convention means a common rule or standard that people agree to follow, even though it’s not forced by the language.\n"
   ]
  },
  {
   "cell_type": "code",
   "execution_count": 21,
   "id": "da051a0c-5468-4d7d-a9df-07c6dfa9ff2f",
   "metadata": {},
   "outputs": [
    {
     "name": "stdout",
     "output_type": "stream",
     "text": [
      "Car name: Creta  ,  Car color: black\n"
     ]
    }
   ],
   "source": [
    "carinfo=Blue_print()\n",
    "carinfo.info()"
   ]
  },
  {
   "cell_type": "code",
   "execution_count": 23,
   "id": "5ca312c5-be38-4fe9-954e-b963c1bb20b7",
   "metadata": {},
   "outputs": [],
   "source": [
    "#A constructor is a special method which is used to create or initialize memory for an object.\n",
    "#It automatically runs when you create (instantiate) an object.\n",
    "# Is a constructor a method or a function?\n",
    "# 🔹 In Python, a **constructor is a special type of method — not just a regular function.\n",
    "#In Python, the constructor method is named:    __init__()\n",
    "#It is always defined inside a class and works on the object using self.\n",
    "\n",
    "\n",
    "\n",
    "#constructors are always defined inside a class\n",
    "#Functions can exist outside a class:\n",
    "# def greet():\n",
    "#     print(\"Hello\")\n",
    "\n",
    "#But constructors (like __init__) are always written inside a class:\n",
    "# class Car:\n",
    "#     def __init__(self):   # constructor\n",
    "#         print(\"Car created\")\n",
    "\n",
    "# It works on the object using self\"\n",
    "# self refers to the current object that is being created.\n",
    "# Constructors use self to set data into the object.\n",
    "# class Car:\n",
    "#     def __init__(self, name):\n",
    "#         self.name = name    # store the value inside the object\n",
    "\n",
    "#So when you write:\n",
    "# c1 = Car(\"Honda\")\n",
    "# Python runs __init__\n",
    "# And self.name = name stores \"Honda\" inside the object c1.\n",
    "\n",
    "# Final Simple Explanation:\n",
    "# A function is general-purpose and may be outside any class.\n",
    "# A constructor is a special method inside a class, used to set values in a new object.\n",
    "# It uses self to store data in the object being created.\n",
    "\n"
   ]
  },
  {
   "cell_type": "code",
   "execution_count": 51,
   "id": "7c6b920c-0062-4892-8a95-c5c0a48273a4",
   "metadata": {},
   "outputs": [],
   "source": [
    "class Supercar:\n",
    "    def __init__(self,name,color):\n",
    "        self.name=name\n",
    "        self.color=color"
   ]
  },
  {
   "cell_type": "code",
   "execution_count": 53,
   "id": "8392d721-fb3b-410f-a407-6e0e7adba3c9",
   "metadata": {},
   "outputs": [
    {
     "name": "stdout",
     "output_type": "stream",
     "text": [
      "name is: ferrari color is: i8\n"
     ]
    }
   ],
   "source": [
    "super=Supercar(\"ferrari\",\"i8\")\n",
    "print(\"name is:\",super.name,\"color is:\",super.color)"
   ]
  },
  {
   "cell_type": "code",
   "execution_count": 41,
   "id": "47297ce5-1b5a-4352-b950-fcddb500698b",
   "metadata": {},
   "outputs": [],
   "source": [
    "class Superbike:\n",
    "    def __init__(self,name,color):\n",
    "        self.name=name\n",
    "        self.color=color\n",
    "    def info(self):\n",
    "        print(\"name is:\",self.name,\" \",\"color is:\",self.color)"
   ]
  },
  {
   "cell_type": "code",
   "execution_count": 45,
   "id": "440e3509-c77a-4b14-a112-03feb87419d5",
   "metadata": {},
   "outputs": [
    {
     "name": "stdout",
     "output_type": "stream",
     "text": [
      "name is: Hayabusa   color is: black\n"
     ]
    }
   ],
   "source": [
    "sup=Superbike(\"Hayabusa\",\"black\")\n",
    "sup.info()"
   ]
  },
  {
   "cell_type": "code",
   "execution_count": 47,
   "id": "d420fe2e-bdf4-40d0-9ac9-ed713dccf23b",
   "metadata": {},
   "outputs": [
    {
     "name": "stdout",
     "output_type": "stream",
     "text": [
      "name is: S1000RR   color is: White-Blue\n"
     ]
    }
   ],
   "source": [
    "sup2=Superbike(\"S1000RR\",\"White-Blue\")\n",
    "sup2.info()"
   ]
  },
  {
   "cell_type": "code",
   "execution_count": 57,
   "id": "9f6e85f3-bcd1-45af-b324-f22d92d15bf2",
   "metadata": {},
   "outputs": [
    {
     "name": "stdout",
     "output_type": "stream",
     "text": [
      "name is: DucatiPanigale   color is: red\n"
     ]
    }
   ],
   "source": [
    "sup3=Superbike(\"DucatiPanigale\",\"red\")\n",
    "sup3.info()"
   ]
  },
  {
   "cell_type": "code",
   "execution_count": 59,
   "id": "7163ac11-5333-42c6-9ab9-54369c19f676",
   "metadata": {},
   "outputs": [],
   "source": [
    "#Types of Constructors in Python\n",
    "#Python supports mainly three types of constructors:\n",
    "# | Type                                       | Description                                                                   |\n",
    "# | ------------------------------------------ | ----------------------------------------------------------------------------- |\n",
    "# | 1. **Default Constructor**                 | No arguments (except `self`).                                                 |\n",
    "# | 2. **Parameterized Constructor**           | Takes arguments to initialize the object.                                     |\n",
    "# | 3. **Constructor Overloading (Simulated)** | Using default arguments or `*args`/`**kwargs` to mimic multiple constructors. |\n"
   ]
  },
  {
   "cell_type": "code",
   "execution_count": 63,
   "id": "e8fe286a-9157-47d9-9d7d-4d973a37416a",
   "metadata": {},
   "outputs": [
    {
     "name": "stdout",
     "output_type": "stream",
     "text": [
      "Default constructor called\n"
     ]
    }
   ],
   "source": [
    "# 1. Default Constructor\n",
    "# A constructor that does not take any parameters (except self).\n",
    "class Student:\n",
    "    def __init__(self):\n",
    "        print(\"Default constructor called\")\n",
    "\n",
    "s1 = Student()\n",
    "#It is Used when you don’t need to pass any data while creating the object."
   ]
  },
  {
   "cell_type": "code",
   "execution_count": 5,
   "id": "bd8ae523-37e1-4a7c-9b19-4b35e4585ffe",
   "metadata": {},
   "outputs": [
    {
     "name": "stdout",
     "output_type": "stream",
     "text": [
      "Shabaul , 23\n"
     ]
    }
   ],
   "source": [
    "#2. Parameterized Constructor\n",
    "#A parameterized constructor takes arguments (like name, age, color, etc.) when you create the object, and it stores them inside the object using self\n",
    "class Student:\n",
    "    def __init__(self, name, age):\n",
    "        self.name = name\n",
    "        self.age = age\n",
    "\n",
    "s2 = Student(\"Shabaul\", 23)\n",
    "print(s2.name,\",\", s2.age)\n"
   ]
  },
  {
   "cell_type": "code",
   "execution_count": 71,
   "id": "aa57c4eb-dcfb-431d-8751-37bbe9f28e77",
   "metadata": {},
   "outputs": [],
   "source": [
    "#both default constructor and parametrized constructor automatically runs, we dont need to call it.\n",
    "\n",
    "# Python does not support true constructor overloading, but it can be simulated using default arguments or *args, **kwargs.\n",
    "\n",
    "# What does \"simulate\" mean?\n",
    "# Simulate means to mimic or imitate something — to create a similar effect even if it’s not exactly the same."
   ]
  },
  {
   "cell_type": "code",
   "execution_count": 134,
   "id": "b3fc0670-07e3-4cf6-b6a1-73dd05f3eca4",
   "metadata": {},
   "outputs": [],
   "source": [
    "#program in which each time an object is created and the info function is called, count increaes by 1\n",
    "#done with using global keyword\n",
    "counter=0\n",
    "class Person:\n",
    "    def __init__(self):\n",
    "        global counter\n",
    "        counter+=1\n",
    "        self.counter=counter\n",
    "    def info(self):\n",
    "        print(\"count is:\",self.counter)\n",
    "        \n",
    "     "
   ]
  },
  {
   "cell_type": "code",
   "execution_count": 136,
   "id": "306b6650-7c6f-43fa-b426-8337895f24c0",
   "metadata": {},
   "outputs": [
    {
     "name": "stdout",
     "output_type": "stream",
     "text": [
      "count is: 1\n"
     ]
    }
   ],
   "source": [
    "new_count=Person()\n",
    "new_count.info()"
   ]
  },
  {
   "cell_type": "code",
   "execution_count": 138,
   "id": "7843c41f-56ba-48dc-8635-03f796772d9d",
   "metadata": {},
   "outputs": [
    {
     "name": "stdout",
     "output_type": "stream",
     "text": [
      "count is: 2\n"
     ]
    }
   ],
   "source": [
    "next_count=Person()\n",
    "next_count.info()"
   ]
  },
  {
   "cell_type": "code",
   "execution_count": 140,
   "id": "d3870a9b-aa74-4ffd-ab4e-2afadd3162df",
   "metadata": {},
   "outputs": [
    {
     "name": "stdout",
     "output_type": "stream",
     "text": [
      "count is: 3\n"
     ]
    }
   ],
   "source": [
    "next_count2=Person()\n",
    "next_count2.info()"
   ]
  },
  {
   "cell_type": "code",
   "execution_count": 142,
   "id": "ce6db9e1-6d6a-4cf5-b76e-9c8e01582edd",
   "metadata": {},
   "outputs": [
    {
     "name": "stdout",
     "output_type": "stream",
     "text": [
      "count is: 4\n"
     ]
    }
   ],
   "source": [
    "next_count3=Person()\n",
    "next_count3.info()"
   ]
  },
  {
   "cell_type": "code",
   "execution_count": 144,
   "id": "7a0c6047-847b-459b-82dc-359d67becb02",
   "metadata": {},
   "outputs": [
    {
     "name": "stdout",
     "output_type": "stream",
     "text": [
      "count is: 5\n"
     ]
    }
   ],
   "source": [
    "next_count4=Person()\n",
    "next_count4.info()"
   ]
  },
  {
   "cell_type": "code",
   "execution_count": 45,
   "id": "4c189a87-ba4c-4cd7-b294-41b4b040b960",
   "metadata": {},
   "outputs": [],
   "source": [
    "#done with using class variable\n",
    "class Speed:\n",
    "    class_counter=0         # class variable (shared by all objects)\n",
    "    def __init__(self):\n",
    "        Speed.class_counter+=1       # increment class variable\n",
    "        self.class_counter=Speed.class_counter     # store value in this object\n",
    "\n",
    "    def info(self):\n",
    "        print(\"class counter is:\",self.class_counter)\n",
    "\n",
    "\n",
    "# class_counter = 0 inside the class (but outside all methods)\n",
    "# This is your class variable\n",
    "# It is shared by all objects of the class\n",
    "# Updated using: Speed.class_counter += 1\n",
    "# | Variable Name        | Type                | Belongs To                        |\n",
    "# | -------------------- | ------------------- | --------------------------------- |\n",
    "# | `class_counter = 0`  | ✅ Class Variable    | Class `Speed`                     |\n",
    "# | `self.class_counter` | ❌ Instance Variable | Specific object like `cc1`, `cc2` |\n",
    "\n",
    "# Access Speed.class_counter to get the total count shared by all objects\n",
    "\n",
    "# Access self.class_counter to get that object’s individual stored number\n",
    "\n"
   ]
  },
  {
   "cell_type": "code",
   "execution_count": 47,
   "id": "b8ff468c-3f6b-4ada-920f-d268b7ce2a3d",
   "metadata": {},
   "outputs": [
    {
     "name": "stdout",
     "output_type": "stream",
     "text": [
      "class counter is: 1\n"
     ]
    }
   ],
   "source": [
    "cc1=Speed()\n",
    "cc1.info()"
   ]
  },
  {
   "cell_type": "code",
   "execution_count": 49,
   "id": "52f74751-009b-4db6-acb0-4334b425ef70",
   "metadata": {},
   "outputs": [
    {
     "name": "stdout",
     "output_type": "stream",
     "text": [
      "class counter is: 2\n"
     ]
    }
   ],
   "source": [
    "cc2=Speed()\n",
    "cc2.info()"
   ]
  },
  {
   "cell_type": "code",
   "execution_count": 51,
   "id": "e449d514-c5f8-4de1-9127-ef836b1bd5bc",
   "metadata": {},
   "outputs": [
    {
     "name": "stdout",
     "output_type": "stream",
     "text": [
      "class counter is: 3\n"
     ]
    }
   ],
   "source": [
    "cc3=Speed()\n",
    "cc3.info()"
   ]
  },
  {
   "cell_type": "code",
   "execution_count": 53,
   "id": "1070dda7-646d-4fc9-9fff-407da3f8d581",
   "metadata": {},
   "outputs": [
    {
     "name": "stdout",
     "output_type": "stream",
     "text": [
      "class counter is: 4\n"
     ]
    }
   ],
   "source": [
    "cc4=Speed()\n",
    "cc4.info()"
   ]
  },
  {
   "cell_type": "code",
   "execution_count": 55,
   "id": "e6f00816-3d57-40af-a31a-a32f66a919aa",
   "metadata": {},
   "outputs": [
    {
     "name": "stdout",
     "output_type": "stream",
     "text": [
      "class counter is: 5\n"
     ]
    }
   ],
   "source": [
    "cc5=Speed()\n",
    "cc5.info()"
   ]
  },
  {
   "cell_type": "code",
   "execution_count": 57,
   "id": "68ced265-9cd5-46bf-b34b-b0547a1525e8",
   "metadata": {},
   "outputs": [],
   "source": [
    "class Regex:\n",
    "    counterp=0\n",
    "    def __init__(self):\n",
    "        Regex.counterp+=1\n",
    "        self.counterp=Regex.counterp\n",
    "    def info(self):\n",
    "        print(\"counterp value is:\",self.counterp)\n"
   ]
  },
  {
   "cell_type": "code",
   "execution_count": 59,
   "id": "82f62664-5638-4a0d-9abc-cc89c710e828",
   "metadata": {},
   "outputs": [
    {
     "name": "stdout",
     "output_type": "stream",
     "text": [
      "counterp value is: 1\n"
     ]
    }
   ],
   "source": [
    "reg=Regex()\n",
    "reg.info()"
   ]
  },
  {
   "cell_type": "code",
   "execution_count": 61,
   "id": "fcbea45f-2418-47f4-95c1-facc97d02113",
   "metadata": {},
   "outputs": [
    {
     "name": "stdout",
     "output_type": "stream",
     "text": [
      "counterp value is: 2\n"
     ]
    }
   ],
   "source": [
    "re=Regex()\n",
    "re.info()"
   ]
  },
  {
   "cell_type": "code",
   "execution_count": 65,
   "id": "3993f8ee-5aa1-4ec2-a60a-9691149e44a9",
   "metadata": {},
   "outputs": [
    {
     "name": "stdout",
     "output_type": "stream",
     "text": [
      "Tommy\n",
      "Bruno\n",
      "Canine\n",
      "Canine\n"
     ]
    }
   ],
   "source": [
    "#A class variable is a variable that is shared by all instances (objects) of a class.\n",
    "#It is defined inside the class but outside any methods (usually at the top), and it belongs to the class itself, not to any one object.\n",
    "#Class variables should be modified using the class name only and changing it with class name affects all the objects.\n",
    "#If you try to modify a class variable using an object, it will change the variable value for that particular object only.\n",
    "#class variables are accessed by both class and objects\n",
    "\n",
    "# | Feature    | Class Variable | Instance Variable           |\n",
    "# | ---------- | -------------- | --------------------------- |\n",
    "# | Belongs to | Class          | Object                      |\n",
    "# | Shared by  | All instances  | Only that specific instance |\n",
    "# | Defined in | Class body     | Inside `__init__()` method  |\n",
    "\n",
    "#example of class variable\n",
    "class Dog:\n",
    "    species = \"Canine\"  # <- Class variable\n",
    "\n",
    "    def __init__(self, name):\n",
    "        self.name = name  # <- Instance variable\n",
    "\n",
    "# Create objects\n",
    "dog1 = Dog(\"Tommy\")\n",
    "dog2 = Dog(\"Bruno\")\n",
    "\n",
    "print(dog1.name)     # Output: Tommy\n",
    "print(dog2.name)     # Output: Bruno\n",
    "\n",
    "print(dog1.species)  # Output: Canine (from class variable)\n",
    "print(dog2.species)  # Output: Canine\n"
   ]
  },
  {
   "cell_type": "code",
   "execution_count": 69,
   "id": "3625fa50-6fe4-4ef4-ba9e-8e7c25405093",
   "metadata": {},
   "outputs": [],
   "source": [
    "#An instance variable is a variable that is defined inside the constructor (__init__ method) and is unique to each object (instance) of a class.\n",
    "#It is accessed and created using self.variable_name and stores object-specific data.\n",
    "#instance variables are accessed and modified using the object, not the class name."
   ]
  },
  {
   "cell_type": "code",
   "execution_count": 71,
   "id": "8bb9254a-8242-4403-ae76-ed10aad9f14b",
   "metadata": {},
   "outputs": [],
   "source": [
    "#example of both class and instance variables\n",
    "class Bike:\n",
    "    bikename=\"Pulsar 220\"         #class variable\n",
    "    def __init__(self,speed,color):\n",
    "        self.speed=speed          #instance variable\n",
    "        self.color=color          #instance variable\n",
    "        "
   ]
  },
  {
   "cell_type": "code",
   "execution_count": 83,
   "id": "1354197d-f745-4c3a-850e-16223160a47d",
   "metadata": {},
   "outputs": [
    {
     "name": "stdout",
     "output_type": "stream",
     "text": [
      "Pulsar 220\n",
      "Pulsar 220\n"
     ]
    }
   ],
   "source": [
    "classvar=Bike(120,\"Jet Black\")\n",
    "print(classvar.bikename)         #class variable accessed through object name\n",
    "print(Bike.bikename)             #class variable accessed through classname"
   ]
  },
  {
   "cell_type": "code",
   "execution_count": 85,
   "id": "9abfd4fc-2123-42e7-87e0-9c3dd9212c31",
   "metadata": {},
   "outputs": [
    {
     "data": {
      "text/plain": [
       "120"
      ]
     },
     "execution_count": 85,
     "metadata": {},
     "output_type": "execute_result"
    }
   ],
   "source": [
    "classvar.speed"
   ]
  },
  {
   "cell_type": "code",
   "execution_count": 87,
   "id": "9bc5dd52-32f8-498d-8bfa-ef9085d7d58c",
   "metadata": {},
   "outputs": [
    {
     "data": {
      "text/plain": [
       "'Jet Black'"
      ]
     },
     "execution_count": 87,
     "metadata": {},
     "output_type": "execute_result"
    }
   ],
   "source": [
    "classvar.color"
   ]
  },
  {
   "cell_type": "code",
   "execution_count": 89,
   "id": "14b5a3b3-6861-460e-a049-f1870e61e274",
   "metadata": {},
   "outputs": [],
   "source": [
    "\n",
    "\n",
    "# | Variable Type     | Accessed by Class Name | Modified by Class Name | Accessed by Object | Modified by Object            |\n",
    "# | ----------------- | ---------------------- | ---------------------- | ------------------ | ----------------------------- |\n",
    "# | Class Variable    | ✅ Yes                  | ✅ Yes                  | ✅ Yes              | ⚠️ Yes (creates instance var) |\n",
    "# | Instance Variable | ❌ No                   | ❌ No                   | ✅ Yes              | ✅ Yes                         |\n"
   ]
  },
  {
   "cell_type": "code",
   "execution_count": 91,
   "id": "07f7a0b4-c5ac-4593-a8ca-85f6cf96bb9d",
   "metadata": {},
   "outputs": [],
   "source": [
    "#A namespace is like a labeled space in memory that contains a collection of different objects,\n",
    "#ensuring that each object has a unique name. The lifespan of these unique names depends on the scope of the variables."
   ]
  },
  {
   "cell_type": "code",
   "execution_count": null,
   "id": "c7356e8c-e407-41f4-9324-e2e89669412f",
   "metadata": {},
   "outputs": [],
   "source": [
    "#fundamental building block of oops(structural component)\n",
    "# | 🔹 Block        | 💬 Description                           |\n",
    "# | --------------- | ---------------------------------------- |\n",
    "# | **Class**       | Blueprint for creating objects           |\n",
    "# | **Object**      | Instance of a class (real-world entity)  |\n",
    "# | **Attributes**  | Data held by the object                  |\n",
    "# | **Methods**     | Behaviors/actions the object can perform |\n",
    "# | **Constructor** | Special method to initialize the object  |\n"
   ]
  },
  {
   "cell_type": "code",
   "execution_count": null,
   "id": "054c5eea-745a-4cc1-9801-016a4cc7141c",
   "metadata": {},
   "outputs": [],
   "source": [
    "#Pillars of oops(sequence wise):\n",
    "#These are the principles or concepts\n",
    "#1.inheritance\n",
    "#2.polymorphism\n",
    "#3.abstraction\n",
    "#4.encapsulation\n"
   ]
  },
  {
   "cell_type": "code",
   "execution_count": null,
   "id": "e8bc9f28-41a0-4e7c-92c4-09aa86b10e38",
   "metadata": {},
   "outputs": [],
   "source": [
    "class Employee:\n",
    "        def info(self):\n",
    "            print(\"this is info function\")"
   ]
  },
  {
   "cell_type": "code",
   "execution_count": 105,
   "id": "83cfd94f-5b5d-43e6-9eed-c7ec0d321aea",
   "metadata": {},
   "outputs": [],
   "source": [
    "class Employeehabit:\n",
    "    def info(self):\n",
    "        print(\"info inside the habit class\")\n"
   ]
  },
  {
   "cell_type": "code",
   "execution_count": 107,
   "id": "3e6fa0e9-23b6-4923-bbf9-6d35a31ff80e",
   "metadata": {},
   "outputs": [
    {
     "name": "stdout",
     "output_type": "stream",
     "text": [
      "info inside the habit class\n"
     ]
    }
   ],
   "source": [
    "eh1=Employeehabit()\n",
    "eh1.info()\n",
    "\n",
    "# Why this happens:\n",
    "# You created an object eh from the class Employeehabit.\n",
    "# So, Python will look for the info() method inside Employeehabit only.\n",
    "# Even though Employee also has a method called info(), it doesn't affect anything because you're not inheriting from or using that class."
   ]
  },
  {
   "cell_type": "code",
   "execution_count": 1,
   "id": "c630b195-2b3c-4d9c-a460-a30cac40d1cd",
   "metadata": {},
   "outputs": [
    {
     "name": "stdout",
     "output_type": "stream",
     "text": [
      "Animal speaks\n",
      "Dog barks\n"
     ]
    }
   ],
   "source": [
    "#inheritance: it is one of the most important pillars of object oriented programming system in which one class inherits the properties of another class.\n",
    "#The class that inherits the properties are called as child class/derived class/sub class\n",
    "#the class through which the properties are inherited are called as  parent class/base class/super class\n",
    "#if a class has variables and methods and through otehr class if we access the these variables and methods, it is called as inheritance.\n",
    "\n",
    "#Types of inheritance:-\n",
    "#Python supports 5 main types of inheritance:\n",
    "# 1️⃣ Single Inheritance\n",
    "# A child class inherits from one parent class.\n",
    "class Animal:\n",
    "    def speak(self):\n",
    "        print(\"Animal speaks\")\n",
    "\n",
    "class Dog(Animal):\n",
    "    def bark(self):\n",
    "        print(\"Dog barks\")\n",
    "\n",
    "d = Dog()\n",
    "d.speak()  # From parent class\n",
    "d.bark()   # From child class\n",
    "\n"
   ]
  },
  {
   "cell_type": "code",
   "execution_count": 3,
   "id": "68861009-4b2d-4619-92a8-4e6025fddaf8",
   "metadata": {},
   "outputs": [
    {
     "name": "stdout",
     "output_type": "stream",
     "text": [
      "Driving\n",
      "Playing\n"
     ]
    }
   ],
   "source": [
    "# 2️⃣ Multiple Inheritance\n",
    "# A child class inherits from more than one parent class.\n",
    "class Father:\n",
    "    def skills(self):\n",
    "        print(\"Driving\")\n",
    "\n",
    "class Mother:\n",
    "    def skills(self):\n",
    "        print(\"Cooking\")\n",
    "\n",
    "class Child(Father, Mother):\n",
    "    def play(self):\n",
    "        print(\"Playing\")\n",
    "\n",
    "c = Child()\n",
    "c.skills()   # Will call Father's skills() due to Method Resolution Order (MRO)\n",
    "c.play()\n"
   ]
  },
  {
   "cell_type": "code",
   "execution_count": 5,
   "id": "05ea1e0d-0723-4bfd-b909-15ba55639894",
   "metadata": {},
   "outputs": [
    {
     "name": "stdout",
     "output_type": "stream",
     "text": [
      "Grandparent's house\n",
      "Parent's car\n",
      "Child's bike\n"
     ]
    }
   ],
   "source": [
    "#3️⃣ Multilevel Inheritance\n",
    "#A class inherits from a child class which itself inherits from another class.\n",
    "class Grandparent:\n",
    "    def house(self):\n",
    "        print(\"Grandparent's house\")\n",
    "\n",
    "class Parent(Grandparent):\n",
    "    def car(self):\n",
    "        print(\"Parent's car\")\n",
    "\n",
    "class Child(Parent):\n",
    "    def bike(self):\n",
    "        print(\"Child's bike\")\n",
    "\n",
    "c = Child()\n",
    "c.house()\n",
    "c.car()\n",
    "c.bike()\n"
   ]
  },
  {
   "cell_type": "code",
   "execution_count": 7,
   "id": "48506355-dbd4-4c83-a03c-e3f032fb2f8c",
   "metadata": {},
   "outputs": [
    {
     "name": "stdout",
     "output_type": "stream",
     "text": [
      "Animal makes sound\n",
      "Dog barks\n",
      "Animal makes sound\n",
      "Cat meows\n"
     ]
    }
   ],
   "source": [
    "# 4️⃣ Hierarchical Inheritance\n",
    "# One parent class has multiple child classes.\n",
    "class Animal:\n",
    "    def sound(self):\n",
    "        print(\"Animal makes sound\")\n",
    "\n",
    "class Dog(Animal):\n",
    "    def bark(self):\n",
    "        print(\"Dog barks\")\n",
    "\n",
    "class Cat(Animal):\n",
    "    def meow(self):\n",
    "        print(\"Cat meows\")\n",
    "\n",
    "d = Dog()\n",
    "d.sound()\n",
    "d.bark()\n",
    "\n",
    "c = Cat()\n",
    "c.sound()\n",
    "c.meow()\n"
   ]
  },
  {
   "cell_type": "code",
   "execution_count": 9,
   "id": "03feb705-8a09-465f-bd6e-70047de32f65",
   "metadata": {},
   "outputs": [
    {
     "name": "stdout",
     "output_type": "stream",
     "text": [
      "Class A\n",
      "Class B\n",
      "Class C\n",
      "Class D\n"
     ]
    }
   ],
   "source": [
    "# 5️⃣ Hybrid Inheritance\n",
    "# A combination of multiple types of inheritance (Single, Multiple, Multilevel, Hierarchical).\n",
    "# Can lead to complex structures.\n",
    "# Python handles method conflicts using MRO (Method Resolution Order).\n",
    "class A:\n",
    "    def show(self):\n",
    "        print(\"Class A\")\n",
    "\n",
    "class B(A):\n",
    "    def showB(self):\n",
    "        print(\"Class B\")\n",
    "\n",
    "class C(A):\n",
    "    def showC(self):\n",
    "        print(\"Class C\")\n",
    "\n",
    "class D(B, C):\n",
    "    def showD(self):\n",
    "        print(\"Class D\")\n",
    "\n",
    "d = D()\n",
    "d.show()    # Resolves using MRO\n",
    "d.showB()\n",
    "d.showC()\n",
    "d.showD()\n"
   ]
  },
  {
   "cell_type": "code",
   "execution_count": 13,
   "id": "60731772-3426-4a5f-9590-32e9dd8a7e40",
   "metadata": {},
   "outputs": [
    {
     "name": "stdout",
     "output_type": "stream",
     "text": [
      "B\n"
     ]
    }
   ],
   "source": [
    "#MRO(method resolution order):\n",
    "# When you use multiple inheritance (class inherits from more than one class), sometimes both parent classes have the same method name.\n",
    "# So Python needs to decide which method to use first.\n",
    "# That decision is done by MRO.\n",
    "\n",
    "class A:\n",
    "    def show(self):\n",
    "        print(\"A\")\n",
    "\n",
    "class B(A):\n",
    "    def show(self):\n",
    "        print(\"B\")\n",
    "\n",
    "class C(A):\n",
    "    def show(self):\n",
    "        print(\"C\")\n",
    "\n",
    "class D(B, C):\n",
    "    pass\n",
    "\n",
    "d = D()\n",
    "d.show()   # What will it print?\n",
    "#Answer:\n",
    "#It will print B, because B is written first in D(B, C)."
   ]
  },
  {
   "cell_type": "code",
   "execution_count": 5,
   "id": "a365eea5-ed4d-45b0-9aec-c303321287b9",
   "metadata": {},
   "outputs": [
    {
     "name": "stdout",
     "output_type": "stream",
     "text": [
      "EV5\n",
      "Maruti\n"
     ]
    }
   ],
   "source": [
    "class Vehicle:\n",
    "    company=\"Maruti\"\n",
    "class MarutiEV:\n",
    "    model=\"EV5\"\n",
    "ev1=MarutiEV()\n",
    "print(ev1.model)\n",
    "brand=Vehicle()\n",
    "print(brand.company)"
   ]
  },
  {
   "cell_type": "code",
   "execution_count": 11,
   "id": "bba00297-4966-4036-9056-37eac0b980a7",
   "metadata": {},
   "outputs": [
    {
     "ename": "AttributeError",
     "evalue": "'MarutiEV' object has no attribute 'company'",
     "output_type": "error",
     "traceback": [
      "\u001b[1;31m---------------------------------------------------------------------------\u001b[0m",
      "\u001b[1;31mAttributeError\u001b[0m                            Traceback (most recent call last)",
      "Cell \u001b[1;32mIn[11], line 6\u001b[0m\n\u001b[0;32m      4\u001b[0m     model\u001b[38;5;241m=\u001b[39m\u001b[38;5;124m\"\u001b[39m\u001b[38;5;124mEV5\u001b[39m\u001b[38;5;124m\"\u001b[39m\n\u001b[0;32m      5\u001b[0m ev2\u001b[38;5;241m=\u001b[39mMarutiEV()\n\u001b[1;32m----> 6\u001b[0m \u001b[38;5;28mprint\u001b[39m(ev2\u001b[38;5;241m.\u001b[39mcompany)\n",
      "\u001b[1;31mAttributeError\u001b[0m: 'MarutiEV' object has no attribute 'company'"
     ]
    }
   ],
   "source": [
    "class Vehicle:\n",
    "    company=\"Maruti\"\n",
    "class MarutiEV:\n",
    "    model=\"EV5\"\n",
    "ev2=MarutiEV()\n",
    "print(ev2.company)\n",
    "#accesing class vehicle without inheritance showing error"
   ]
  },
  {
   "cell_type": "code",
   "execution_count": 23,
   "id": "d40dd470-35bc-46b2-817e-b5112fcd5f2e",
   "metadata": {},
   "outputs": [
    {
     "name": "stdout",
     "output_type": "stream",
     "text": [
      "EV5 , Maruti\n"
     ]
    }
   ],
   "source": [
    "class Vehicle:\n",
    "    company=\"Maruti\"\n",
    "class MarutiEV(Vehicle):\n",
    "    model=\"EV5\"\n",
    "ev2=MarutiEV()\n",
    "print(ev2.model,\",\",ev2.company)\n",
    "#inheritance is done here\n",
    "#we have inherited attribute(variable) here"
   ]
  },
  {
   "cell_type": "code",
   "execution_count": 31,
   "id": "512e3dee-5669-49e0-9697-682c4f0e6b75",
   "metadata": {},
   "outputs": [
    {
     "name": "stdout",
     "output_type": "stream",
     "text": [
      "EV5 , Maruti\n"
     ]
    },
    {
     "data": {
      "text/plain": [
       "'Wagon R is a common model'"
      ]
     },
     "execution_count": 31,
     "metadata": {},
     "output_type": "execute_result"
    }
   ],
   "source": [
    "class Vehicle:\n",
    "    company=\"Maruti\"\n",
    "    def info(self):\n",
    "        return \"Wagon R is a common model\"\n",
    "class MarutiEV(Vehicle):\n",
    "    model=\"EV5\"\n",
    "ev2=MarutiEV()\n",
    "print(ev2.model,\",\",ev2.company)\n",
    "ev2.info()"
   ]
  },
  {
   "cell_type": "code",
   "execution_count": 37,
   "id": "8ddf770d-d808-4614-a37a-8fcc3cb0c55c",
   "metadata": {},
   "outputs": [
    {
     "name": "stdout",
     "output_type": "stream",
     "text": [
      "Wagon R is a common model\n",
      "Maruti\n"
     ]
    }
   ],
   "source": [
    "ev3=Vehicle()\n",
    "print(ev3.info())\n",
    "print(ev3.company)"
   ]
  },
  {
   "cell_type": "code",
   "execution_count": 41,
   "id": "0043b031-07fd-4a63-a0cd-8877bc56ffef",
   "metadata": {},
   "outputs": [
    {
     "name": "stdout",
     "output_type": "stream",
     "text": [
      "Maruti\n",
      "Wagon R is a common model\n"
     ]
    }
   ],
   "source": [
    "ev4=MarutiEV()\n",
    "print(ev4.company)\n",
    "print(ev4.info())"
   ]
  },
  {
   "cell_type": "code",
   "execution_count": 47,
   "id": "c93cdac8-841c-44c7-bb1e-acd3d459303f",
   "metadata": {},
   "outputs": [
    {
     "name": "stdout",
     "output_type": "stream",
     "text": [
      "Honda\n",
      "honda company is trustable\n",
      "None\n"
     ]
    }
   ],
   "source": [
    "# Q1. Vehicle and Car\n",
    "# Create a base class Vehicle with attribute brand and method start().\n",
    "# Create a derived class Car with additional attribute model and method display_info()\n",
    "class Vehicle:\n",
    "    brand=\"Honda\"\n",
    "    def start(self):\n",
    "        print(\"honda company is trustable\")\n",
    "class Car:\n",
    "    model=\"City\"\n",
    "    def display_info(self):\n",
    "        print(\"honda city is legendary car\")\n",
    "V=Vehicle()\n",
    "print(V.brand)\n",
    "print(V.start())\n",
    "#print() display the output and return none"
   ]
  },
  {
   "cell_type": "code",
   "execution_count": 53,
   "id": "d54dcecb-4506-4721-a8a1-8ba78b4af7be",
   "metadata": {},
   "outputs": [
    {
     "name": "stdout",
     "output_type": "stream",
     "text": [
      "Honda\n",
      "honda company is trustable\n"
     ]
    }
   ],
   "source": [
    "class Vehicle:\n",
    "    brand=\"Honda\"\n",
    "    def start(self):\n",
    "        return \"honda company is trustable\"\n",
    "class Car:\n",
    "    model=\"City\"\n",
    "    def display_info(self):\n",
    "        print(\"honda city is legendary car\")\n",
    "V=Vehicle()\n",
    "print(V.brand)\n",
    "print(V.start())\n",
    "#return saves the output and return it to user, it does not return none because it saves the output"
   ]
  },
  {
   "cell_type": "code",
   "execution_count": 59,
   "id": "778b354d-e330-4a28-a455-d4b67b2968f7",
   "metadata": {},
   "outputs": [
    {
     "name": "stdout",
     "output_type": "stream",
     "text": [
      "Honda\n",
      "honda company is trustable\n",
      "City\n",
      "honda city is legendary car\n"
     ]
    }
   ],
   "source": [
    "class Vehicle:\n",
    "    brand=\"Honda\"\n",
    "    def start(self):\n",
    "        return \"honda company is trustable\"\n",
    "class Car:\n",
    "    model=\"City\"\n",
    "    def display_info(self):\n",
    "        return \"honda city is legendary car\"\n",
    "V=Vehicle()\n",
    "print(V.brand)\n",
    "print(V.start())\n",
    "C=Car()\n",
    "print(C.model)\n",
    "print(C.display_info())"
   ]
  },
  {
   "cell_type": "code",
   "execution_count": 61,
   "id": "a5412073-16b2-4075-b3aa-3d7f524c43ba",
   "metadata": {},
   "outputs": [
    {
     "name": "stdout",
     "output_type": "stream",
     "text": [
      "Honda\n",
      "honda company is trustable\n",
      "City\n",
      "honda city is legendary car\n"
     ]
    },
    {
     "ename": "AttributeError",
     "evalue": "'Car' object has no attribute 'brand'",
     "output_type": "error",
     "traceback": [
      "\u001b[1;31m---------------------------------------------------------------------------\u001b[0m",
      "\u001b[1;31mAttributeError\u001b[0m                            Traceback (most recent call last)",
      "Cell \u001b[1;32mIn[61], line 15\u001b[0m\n\u001b[0;32m     13\u001b[0m \u001b[38;5;28mprint\u001b[39m(C\u001b[38;5;241m.\u001b[39mmodel)\n\u001b[0;32m     14\u001b[0m \u001b[38;5;28mprint\u001b[39m(C\u001b[38;5;241m.\u001b[39mdisplay_info())\n\u001b[1;32m---> 15\u001b[0m \u001b[38;5;28mprint\u001b[39m(C\u001b[38;5;241m.\u001b[39mbrand)\n",
      "\u001b[1;31mAttributeError\u001b[0m: 'Car' object has no attribute 'brand'"
     ]
    }
   ],
   "source": [
    "class Vehicle:\n",
    "    brand=\"Honda\"\n",
    "    def start(self):\n",
    "        return \"honda company is trustable\"\n",
    "class Car:\n",
    "    model=\"City\"\n",
    "    def display_info(self):\n",
    "        return \"honda city is legendary car\"\n",
    "V=Vehicle()\n",
    "print(V.brand)\n",
    "print(V.start())\n",
    "C=Car()\n",
    "print(C.model)\n",
    "print(C.display_info())\n",
    "print(C.brand)   #without inheritance trying to access other class"
   ]
  },
  {
   "cell_type": "code",
   "execution_count": 71,
   "id": "0bde6b15-dc5e-4e49-a2b8-cfdb21902589",
   "metadata": {},
   "outputs": [
    {
     "name": "stdout",
     "output_type": "stream",
     "text": [
      "Honda\n",
      "honda company is trustable\n",
      "City\n",
      "honda city is legendary car\n",
      "Honda\n",
      "honda company is trustable\n"
     ]
    }
   ],
   "source": [
    "class Vehicle:\n",
    "    brand=\"Honda\"       #i have used class variable here\n",
    "    def start(self):\n",
    "        return \"honda company is trustable\"\n",
    "class Car(Vehicle):\n",
    "    model=\"City\"        #again its a class variable\n",
    "    def display_info(self):\n",
    "        return \"honda city is legendary car\"\n",
    "V=Vehicle()\n",
    "print(V.brand)\n",
    "print(V.start())\n",
    "C=Car()\n",
    "print(C.model)\n",
    "print(C.display_info())\n",
    "print(C.brand)     #with inheritance\n",
    "print(C.start())   #with inheritance"
   ]
  },
  {
   "cell_type": "code",
   "execution_count": 19,
   "id": "ed95969c-3456-4fea-a1fe-85057d5ac283",
   "metadata": {},
   "outputs": [
    {
     "name": "stdout",
     "output_type": "stream",
     "text": [
      "Tata 1000000\n",
      "Vehicle class info function\n",
      "Vehicle class info function\n",
      "None None\n"
     ]
    }
   ],
   "source": [
    "class Vehicles:\n",
    "    company=\"Tata\"\n",
    "    def info(self):\n",
    "        print(\"Vehicle class info function\")\n",
    "class TataEV(Vehicles):\n",
    "    price=1000000\n",
    "    def minfo(self):\n",
    "        super().info()\n",
    "Tt=TataEV()\n",
    "print(Tt.company,Tt.price)\n",
    "print(Tt.info(),Tt.minfo())\n",
    "#print return none also"
   ]
  },
  {
   "cell_type": "code",
   "execution_count": 27,
   "id": "01723c89-e45d-4183-a9ed-f85caaedf694",
   "metadata": {},
   "outputs": [
    {
     "name": "stdout",
     "output_type": "stream",
     "text": [
      "Tata 1000000\n",
      "Vehicle class info function\n",
      "Vehicle class info function\n"
     ]
    }
   ],
   "source": [
    "class Vehicles:\n",
    "    company=\"Tata\"\n",
    "    def info(self):\n",
    "        print(\"Vehicle class info function\")\n",
    "class TataEV(Vehicles):\n",
    "    price=1000000\n",
    "    def minfo(self):\n",
    "        super().info()\n",
    "Tt=TataEV()\n",
    "print(Tt.company,Tt.price)\n",
    "Tt.info()\n",
    "Tt.minfo()\n",
    "#just called the function without print and it did not return none"
   ]
  },
  {
   "cell_type": "code",
   "execution_count": 21,
   "id": "a9ed3a09-45a3-4a5f-a618-c4f3e15e0135",
   "metadata": {},
   "outputs": [
    {
     "name": "stdout",
     "output_type": "stream",
     "text": [
      "Tata 1000000\n",
      "Vehicle class info function Vehicle class info function\n"
     ]
    }
   ],
   "source": [
    "class Vehicles:\n",
    "    company=\"Tata\"\n",
    "    def info(self):\n",
    "        return \"Vehicle class info function\"\n",
    "class TataEV(Vehicles):\n",
    "    price=1000000\n",
    "    def minfo(self):\n",
    "        return super().info()\n",
    "Tt=TataEV()\n",
    "print(Tt.company,Tt.price)\n",
    "print(Tt.info(),Tt.minfo())"
   ]
  },
  {
   "cell_type": "code",
   "execution_count": 9,
   "id": "916e2d8b-df4f-424f-9319-7c9565074756",
   "metadata": {},
   "outputs": [
    {
     "name": "stdout",
     "output_type": "stream",
     "text": [
      "1.Calling only class variable and functions:\n",
      "Honda\n",
      "honda company is trustable\n",
      " \n",
      "2.Calling only instance variable and functions:\n",
      "City\n",
      "honda city is legendary car\n",
      " \n",
      "3.Calling parent class attributes and methods through base class:\n",
      "Honda\n",
      "honda company is trustable\n"
     ]
    }
   ],
   "source": [
    "class Vehicle:\n",
    "    def __init__(self,brand):\n",
    "        self.brand=brand     #i have used instance variable here\n",
    "    def start(self):\n",
    "        return \"honda company is trustable\"\n",
    "class Car(Vehicle):\n",
    "    def __init__(self,brand,model):\n",
    "        super().__init__(brand)\n",
    "        self.model=model        #again its an instance variable\n",
    "    def display_info(self):\n",
    "        return \"honda city is legendary car\"\n",
    "print(\"1.Calling only class variable and functions:\")\n",
    "V=Vehicle(\"Honda\")\n",
    "print(V.brand)\n",
    "print(V.start())\n",
    "print(\" \")\n",
    "print(\"2.Calling only instance variable and functions:\")\n",
    "C=Car(\"Honda\",\"City\")\n",
    "print(C.model)\n",
    "print(C.display_info())\n",
    "print(\" \")\n",
    "print(\"3.Calling parent class attributes and methods through base class:\")\n",
    "C1=Car(\"Honda\",\"WR-V\")\n",
    "print(C1.brand)\n",
    "print(C1.start())"
   ]
  },
  {
   "cell_type": "code",
   "execution_count": 29,
   "id": "685db160-ca91-4e7b-9dec-8ccfee430099",
   "metadata": {},
   "outputs": [],
   "source": [
    "#extra info\n",
    "#| Term         | Meaning                           | In Simple Words                   |\n",
    "# | ------------ | --------------------------------- | --------------------------------- |\n",
    "# | **Explicit** | Clearly written or stated in code | **You have to write it yourself** |\n",
    "# | **Implicit** | Understood or automatic           | **The language does it for you**  |\n",
    "\n",
    "# | Concept                  | Python (`self`)      | Java/c++/javascript(`this`)       |\n",
    "# | ------------------------ | -------------------- | ------------------- |\n",
    "# | Declared in method?      | ✅ Yes — **explicit** | ❌ No — **implicit** |\n",
    "# | Used to refer to object? | ✅ Yes                | ✅ Yes               |\n",
    "#both this and self function are used to refer the current object of the class.\n",
    "#self is used in pyth, this si used in java/c++/javascript\n",
    "#\"self\" is declared explicitly in python, \"this\" is declared implicitly\n"
   ]
  },
  {
   "cell_type": "code",
   "execution_count": 33,
   "id": "60845fc9-61c7-4dab-b63e-797902dd0b6e",
   "metadata": {},
   "outputs": [
    {
     "name": "stdout",
     "output_type": "stream",
     "text": [
      "Hello from <__main__.Student object at 0x0000025D336AD7F0>\n"
     ]
    }
   ],
   "source": [
    "# | Feature              | `self`                                                    | `super()`                                              |\n",
    "# | -------------------- | --------------------------------------------------------- | ------------------------------------------------------ |\n",
    "# | Refers to            | The **current object** (instance)                         | The **parent class** of the current class              |\n",
    "# | Used for             | Accessing attributes and methods of the **current class** | Accessing **inherited (parent)** methods or attributes |\n",
    "# | Common use           | `self.attribute`, `self.method()`                         | `super().method()` to call a **parent method**         |\n",
    "# | Automatically passed | Yes, in instance methods                                  | No, you need to explicitly use `super()`               |\n",
    "#self refers to the current object,however super in python is a built-in function which refers to the parent class of the current class\n",
    "\n",
    "#self is used to access the attributes and methods of the current class, however super is used to access the attributes and methods of parent class\n",
    "#(by which it is inherited)\n",
    "\n",
    "#self is automatically passed, super() is explicitly paased\n",
    "\n",
    "\n",
    "class Student:\n",
    "    def greet(self):     # ✅ 'self' must be declared\n",
    "        print(\"Hello from\", self)\n",
    "\n",
    "s = Student()\n",
    "s.greet()   # ✅ Python passes 's' as 'self' automatically\n",
    "\n",
    "#✅ self is declared explicitly\n",
    "#✅ Python passes it automatically\n",
    "\n",
    "# | Concept   | Declared? | Automatically used?     | Example            |\n",
    "# | --------- | --------- | ----------------------- | ------------------ |\n",
    "# | `self`    | ✅ Yes     | ✅ Yes (in method calls) | `def greet(self):` |\n",
    "# | `this`    | ❌ No      | ✅ Yes (auto in Java)    | `void greet()`     |\n",
    "# | `super()` | ❌ No      | ❌ No (must write it)    | `super().method()` |\n",
    "\n",
    "#super is neither passed nor declared implicitly."
   ]
  },
  {
   "cell_type": "code",
   "execution_count": 3,
   "id": "bc4182a2-aba1-4ebc-964c-13fb5b18b726",
   "metadata": {},
   "outputs": [
    {
     "data": {
      "text/plain": [
       "'Student name is Shabaul'"
      ]
     },
     "execution_count": 3,
     "metadata": {},
     "output_type": "execute_result"
    }
   ],
   "source": [
    "class Teacher:\n",
    "    def info(self):\n",
    "        return \"Teacher name is Tushar\"\n",
    "class Student(Teacher):\n",
    "    def info(self):\n",
    "        return \"Student name is Shabaul\"\n",
    "stu=Student()\n",
    "stu.info()\n",
    "\n",
    "# Why is it returning the child class method, even though you're using inheritance?\n",
    "# Because in Python (and most OOP languages), when a child class overrides a method, the child’s version \n",
    "# always takes priority when called from a child object.\n",
    "\n",
    "# Override means:\n",
    "# Defining a function in the child class with the same name (and usually the same parameters) as a function in the parent class.\n",
    "#When called using a child class object, Python gives preference to the child class version, effectively replacing the parent’s version. "
   ]
  },
  {
   "cell_type": "code",
   "execution_count": 5,
   "id": "9a8a2c15-8af6-479c-80a4-a1309954cf14",
   "metadata": {},
   "outputs": [
    {
     "name": "stdout",
     "output_type": "stream",
     "text": [
      "This is Child\n",
      "This is Parent\n"
     ]
    }
   ],
   "source": [
    "#To call the parent class's version of the method (that has been overridden), you need to use the super() function.\n",
    "class Parent:\n",
    "    def show(self):\n",
    "        print(\"This is Parent\")\n",
    "\n",
    "class Child(Parent):\n",
    "    def show(self):\n",
    "        print(\"This is Child\")\n",
    "        super().show()  # 👈 This calls the Parent's show() method\n",
    "\n",
    "obj = Child()\n",
    "obj.show()\n"
   ]
  },
  {
   "cell_type": "code",
   "execution_count": 15,
   "id": "d570590f-ec83-4277-8c79-367ea3cccf1b",
   "metadata": {},
   "outputs": [
    {
     "name": "stdout",
     "output_type": "stream",
     "text": [
      "1234 Harrier\n"
     ]
    }
   ],
   "source": [
    "class ParentTata:\n",
    "    def __init__(self,mid,mname):\n",
    "        self.mid=mid\n",
    "        self.mname=mname\n",
    "\n",
    "class ChildTata(ParentTata):\n",
    "    def __init__(self,mid,mname):\n",
    "        self.mid=mid\n",
    "        self.mname=mname\n",
    "chtata=ChildTata(1234,\"Harrier\")\n",
    "print(chtata.mid,chtata.mname)\n",
    "#Only the ChildTata class is running — specifically its __init__ constructor.\n",
    "\n",
    "#Even though ChildTata inherits from ParentTata, the parent's constructor does NOT run automatically if you override it in the child class."
   ]
  },
  {
   "cell_type": "code",
   "execution_count": 25,
   "id": "7fac48ca-01a8-4368-9fff-fcbef70041bd",
   "metadata": {},
   "outputs": [
    {
     "name": "stdout",
     "output_type": "stream",
     "text": [
      "congrats for new car\n",
      "1234 Harrier\n"
     ]
    }
   ],
   "source": [
    "class ParentTata:\n",
    "    def __init__(self,mid,mname):\n",
    "        self.mid=mid\n",
    "        self.mname=mname\n",
    "        print(\"congrats for new car\")\n",
    "\n",
    "class ChildTata(ParentTata):\n",
    "    def __init__(self,mid,mname):\n",
    "        super().__init__(mid,mname)\n",
    "chtata=ChildTata(1234,\"Harrier\")\n",
    "print(chtata.mid,chtata.mname)\n",
    "\n",
    "\n",
    "\n",
    "#In super().__init__(mid, mname), the values of mid and mname are taken from the child class constructor.\n",
    "#due to overriding,  mid = 1234, mname = \"Harrier\" are already inside the child constructor.\n",
    "#Then, super().__init__(mid, mname) passes those values to the parent class.\n",
    "\n"
   ]
  },
  {
   "cell_type": "code",
   "execution_count": 43,
   "id": "7f9feab6-b8b3-4ba3-b20f-7eed811574ba",
   "metadata": {},
   "outputs": [
    {
     "name": "stdout",
     "output_type": "stream",
     "text": [
      "The price of MG Gloster is 1000000 and has 4 doors\n"
     ]
    }
   ],
   "source": [
    "#1️⃣ Vehicle Example\n",
    "# Create a base class Vehicle with attributes brand and model, and a method display().\n",
    "# Create a derived class Car that adds number_of_doors and overrides the display() method to include this new information.\n",
    "\n",
    "class Vehicle:\n",
    "    def __init__(self,brand,model):\n",
    "        self.brand=brand\n",
    "        self.model=model\n",
    "    def display(self):\n",
    "        return f\"The price of {self.brand} {self.model} is 1000000 \"\n",
    "class Car(Vehicle):\n",
    "    def __init__(self,brand,model,number_of_doors):\n",
    "        super().__init__(brand,model)\n",
    "        self.number_of_doors=number_of_doors\n",
    "    def display(self):\n",
    "        return f\"The price of {self.brand} {self.model} is 1000000 and has {self.number_of_doors} doors\"\n",
    "        \n",
    "cars=Car(\"MG\",\"Gloster\",4)\n",
    "print(cars.display())\n",
    "    \n",
    "        "
   ]
  },
  {
   "cell_type": "code",
   "execution_count": 69,
   "id": "362bde53-fb6f-4f2b-a5d0-0e67e2c7bc20",
   "metadata": {},
   "outputs": [
    {
     "name": "stdout",
     "output_type": "stream",
     "text": [
      "the name is Shabaul,salary is100000, bonus is30000 and total salary is 130000\n"
     ]
    }
   ],
   "source": [
    "# 2️⃣ Employee Salary Calculation\n",
    "# Design a class Employee with name and salary.\n",
    "# Create a subclass Manager that adds bonus and a method to calculate total salary (salary + bonus).\n",
    "class Employee:\n",
    "    def __init__(self,name,salary):\n",
    "        self.name=name\n",
    "        self.salary=salary\n",
    "class Manager(Employee):\n",
    "    def __init__(self,name,salary,bonus):\n",
    "        self.bonus=bonus\n",
    "        super().__init__(name,salary)\n",
    "    def totalsalary(self):\n",
    "        total=self.salary+self.bonus\n",
    "        return f\"the name is {self.name},salary is{self.salary}, bonus is{self.bonus} and total salary is {total}\"\n",
    "Employee_details=Manager(\"Shabaul\",100000,30000)\n",
    "print(Employee_details.totalsalary())"
   ]
  },
  {
   "cell_type": "code",
   "execution_count": 1,
   "id": "3560d830-1efa-471c-be2e-de2595337c12",
   "metadata": {},
   "outputs": [
    {
     "name": "stdout",
     "output_type": "stream",
     "text": [
      "200\n",
      "78.5\n"
     ]
    }
   ],
   "source": [
    "# 3️⃣ Shape Area Calculation\n",
    "# Create a base class Shape with a method area().\n",
    "# Make two child classes Rectangle and Circle that override area() to return their respective areas.\n",
    "class Shape:\n",
    "    def area(self):\n",
    "        pass\n",
    "class Rectangle(Shape):\n",
    "    def __init__(self,length,breadth):\n",
    "        self.length=length\n",
    "        self.breadth=breadth\n",
    "    def area(self):\n",
    "        area=self.length*self.breadth\n",
    "        return area\n",
    "class Circle(Shape):\n",
    "    def __init__(self,radius):\n",
    "        self.radius=radius\n",
    "    def area(self):\n",
    "        area=3.14*self.radius*self.radius     #For more precision, consider math.pi instead of 3.14, but for this example, 3.14 is fine.\n",
    "        return area\n",
    "rect=Rectangle(20,10)\n",
    "print(rect.area())\n",
    "circ=Circle(5)\n",
    "print(circ.area())"
   ]
  },
  {
   "cell_type": "code",
   "execution_count": 7,
   "id": "a305209e-66b1-4087-bd22-175dbdb3e6d2",
   "metadata": {},
   "outputs": [
    {
     "name": "stdout",
     "output_type": "stream",
     "text": [
      "account number is 11223344555, balance is 5000000, interest rate is 0.1 and total balance is 5500000.0\n"
     ]
    }
   ],
   "source": [
    "# 4️⃣ Bank Account System\n",
    "# Create a class BankAccount with account_number and balance.\n",
    "# Derive a class SavingsAccount that adds an interest_rate and a method add_interest() which adds interest to the balance.\n",
    "class BankAccount:\n",
    "    def __init__(self,account_number,balance):\n",
    "        self.account_number=account_number\n",
    "        self.balance=balance\n",
    "class SavingsAccount(BankAccount):\n",
    "    def __init__(self,account_number,balance,interest_rate):\n",
    "        self.interest_rate=interest_rate\n",
    "        super().__init__(account_number,balance)\n",
    "    def add_interest(self):\n",
    "        interest=self.interest_rate*self.balance\n",
    "        total=self.balance+interest\n",
    "        return f\"account number is {self.account_number}, balance is {self.balance}, interest rate is {self.interest_rate} and total balance is {total}\"\n",
    "totalbal=SavingsAccount(11223344555,5000000,10/100)\n",
    "print(totalbal.add_interest())"
   ]
  },
  {
   "cell_type": "code",
   "execution_count": 13,
   "id": "95f403de-ad57-4f41-a871-18b7b79256d9",
   "metadata": {},
   "outputs": [
    {
     "name": "stdout",
     "output_type": "stream",
     "text": [
      "Student name is Shabaul, student age is 23, roll number is 51 and marks is 98\n"
     ]
    }
   ],
   "source": [
    "# 5️⃣ Person and Student\n",
    "# Create a class Person with attributes name and age.\n",
    "# Create a subclass Student that adds roll_number and marks. Write a method show_details() to print all details.\n",
    "class Person:\n",
    "    def __init__(self,name,age):\n",
    "        self.name=name\n",
    "        self.age=age\n",
    "class Student(Person):\n",
    "    def __init__(self,name,age,roll_number,marks):\n",
    "        self.roll_number=roll_number\n",
    "        self.marks=marks\n",
    "        super().__init__(name,age)\n",
    "    def show_details(self):\n",
    "        print(f\"Student name is {self.name}, student age is {self.age}, roll number is {self.roll_number} and marks is {self.marks}\" )\n",
    "Studetails=Student(\"Shabaul\",23,51,98)\n",
    "Studetails.show_details()\n",
    "        "
   ]
  },
  {
   "cell_type": "code",
   "execution_count": 1,
   "id": "1659098d-aea2-470a-9f3d-bc82fdaf4551",
   "metadata": {},
   "outputs": [],
   "source": [
    "#Polymorphism\n",
    "#Polymorphism: the literal meaning of polymorphism is \"many forms\".\n",
    "#it is one of the most important pillars of oops.\n",
    "#Polymorphism:Polymorphism is the ability of different classes to provide a different implementation of the same method/same operator/same object/\n",
    "#or same function name.\n",
    "#example: adding of two integers(1+2=3), it performs addition\n",
    "#         however same\"+\" operator will concatenate two string(\"1\"+\"2\"=\"12\")"
   ]
  },
  {
   "cell_type": "code",
   "execution_count": 17,
   "id": "955c66d1-2242-4adf-b5ce-092c4dff0740",
   "metadata": {},
   "outputs": [],
   "source": [
    "#to achieve polymorphism/types of polymorphism:\n",
    "#1. method overloading:\n",
    "# it is a mechanism to achieve polymorphism where the function is overloaded by changing the number of parameters(basically by using default arguments, \n",
    "# *args, **kwargs to create methods that can handle different numbers or types of inputs)\n",
    "# python does not support traditional method overloading (like C++ or Java), but it simulates overloading using:\n",
    "# Default arguments\n",
    "\n",
    "# *args (variable positional arguments)\n",
    "\n",
    "# **kwargs (variable keyword arguments)\n",
    "\n",
    "#method overloading works only on statically-typed language C,C++,java,C#\n",
    "\n",
    "# class Employee:\n",
    "#     def info(self,x):\n",
    "#         print(\"this is class info function\",x)\n",
    "#     def info(x,y):\n",
    "#         print(\"this is child class info function\",x,y)\n",
    "# emp.info(10,20)\n",
    "#in other statically typed languages, if i would have passed one parameter the above info function with x would have run, if i would have passed 2\n",
    "#parameters, 2nd info function would have run. So here method overloading is achieved by changing the number of parameters inside the function."
   ]
  },
  {
   "cell_type": "code",
   "execution_count": 23,
   "id": "0f4a815a-a3c3-4229-ab91-dce172ae25fa",
   "metadata": {},
   "outputs": [],
   "source": [
    "# | **Technique**               | **Time of Resolution** |\n",
    "# | --------------------------- | ---------------------- |\n",
    "# | **Method Overloading**      | Compile Time           |\n",
    "# | **Operator Overloading**    | Compile Time           |\n",
    "# | **Method Overriding**       | Runtime                |\n",
    "# | **Duck Typing (Python)**    | Runtime                |\n",
    "\n",
    "\n",
    "# Compile Time\n",
    "# Code is checked and prepared before the program runs.\n",
    "# Errors like syntax errors, missing semicolons, wrong data types are caught.\n",
    "# In compiled languages (C++, Java), the compiler converts code into machine code.\n",
    "\n",
    "# Run Time\n",
    "# The program is actually running.\n",
    "# Errors like divide by zero, file not found, null reference occur here.\n",
    "# Decisions like which overridden method to call (runtime polymorphism) happen at this time.\n",
    "            \n",
    "# | **Compile-Time Polymorphism** | **Runtime Polymorphism** |\n",
    "# | ----------------------------- | ------------------------ |\n",
    "# | Resolved at **compile time**  | Resolved at **runtime**  |\n",
    "# | **Faster Execution**          | **More flexible**        |\n",
    "# | Used in **overloading**       | Used in **overriding**   |\n"
   ]
  },
  {
   "cell_type": "code",
   "execution_count": 25,
   "id": "a5906b8d-01ff-495d-9021-bb0d9e141423",
   "metadata": {},
   "outputs": [
    {
     "name": "stdout",
     "output_type": "stream",
     "text": [
      "Meow\n",
      "Woof\n"
     ]
    }
   ],
   "source": [
    "#types of polymorphism:\n",
    "#2. Duck Typing (Dynamic Typing)\n",
    "#The type of the object doesn't matter — its behavior does.\n",
    "class Cat:\n",
    "    def speak(self):\n",
    "        print(\"Meow\")\n",
    "\n",
    "class Dog:\n",
    "    def speak(self):\n",
    "        print(\"Woof\")\n",
    "\n",
    "def animal_sound(animal):\n",
    "    animal.speak()\n",
    "\n",
    "animal_sound(Cat())  # Meow  \n",
    "animal_sound(Dog())  # Woof\n"
   ]
  },
  {
   "cell_type": "code",
   "execution_count": 27,
   "id": "cf0b366a-5a8b-415c-8b9c-2879f6a0c97d",
   "metadata": {},
   "outputs": [
    {
     "name": "stdout",
     "output_type": "stream",
     "text": [
      "child info function\n"
     ]
    }
   ],
   "source": [
    "# 3. Method Overriding (Runtime Polymorphism)\n",
    "# A child class overrides a method of its parent class.\n",
    "\n",
    "# What does \"a child class overrides a method\" mean?\n",
    "# It means:\n",
    "# The child class writes its own version of a method that already exists in the parent class.\n",
    "#or we can say Child class replaces parent class method with same name and same parameters\n",
    "# So when you use the method, the child's version runs, not the parent's\n",
    "\n",
    "class Employee:\n",
    "    def info(self):\n",
    "        print(\"parent info function\")\n",
    "class Manager(Employee):\n",
    "    def info(self):\n",
    "        print(\"child info function\")\n",
    "emM=Manager()\n",
    "emM.info()"
   ]
  },
  {
   "cell_type": "code",
   "execution_count": 39,
   "id": "961fab98-3b42-4ed6-8792-85ccec4af45c",
   "metadata": {},
   "outputs": [
    {
     "data": {
      "text/plain": [
       "'the application owner id is 123, owner name is shabaul, and email is shabaul@gmail.com'"
      ]
     },
     "execution_count": 39,
     "metadata": {},
     "output_type": "execute_result"
    }
   ],
   "source": [
    "class Application_owner:\n",
    "    def __init__(self,owner_id,owner_name,owner_email):\n",
    "        self.owner_id=owner_id\n",
    "        self.owner_name=owner_name\n",
    "        self.owner_email=owner_email\n",
    "    def details(self):\n",
    "        return f\"the application owner id is {self.owner_id}, owner name is {self.owner_name}, and email is {self.owner_email}\"\n",
    "        \n",
    "class Customer(Application_owner):\n",
    "    def __init__(self,owner_id,owner_name,owner_email,customer_id,customer_name,customer_email):\n",
    "        self.customer_id=customer_id\n",
    "        self.customer_name=customer_name\n",
    "        self.customer_email=customer_email\n",
    "        super().__init__(owner_id,owner_name,owner_email)\n",
    "    def details(self):\n",
    "        # Call parent class details using super()\n",
    "        owner_details=super().details()\n",
    "        return owner_details\n",
    "Ow=Customer(123,\"shabaul\",\"shabaul@gmail.com\",234,\"saif\",\"saif@gmail.com\")\n",
    "Ow.details()\n",
    "        "
   ]
  },
  {
   "cell_type": "code",
   "execution_count": 49,
   "id": "40295334-c657-4ce6-937f-87ac5629e7a5",
   "metadata": {},
   "outputs": [
    {
     "data": {
      "text/plain": [
       "'the application owner id is 123, owner name is shabaul, and email is shabaul@gmail.com & the customer id is 234, customer name is saif, and email is saif@gmail.com'"
      ]
     },
     "execution_count": 49,
     "metadata": {},
     "output_type": "execute_result"
    }
   ],
   "source": [
    "class Application_owner:\n",
    "    def __init__(self,owner_id,owner_name,owner_email):\n",
    "        self.owner_id=owner_id\n",
    "        self.owner_name=owner_name\n",
    "        self.owner_email=owner_email\n",
    "    def details(self):\n",
    "        return f\"the application owner id is {self.owner_id}, owner name is {self.owner_name}, and email is {self.owner_email}\"\n",
    "        \n",
    "class Customer(Application_owner):\n",
    "    def __init__(self,owner_id,owner_name,owner_email,customer_id,customer_name,customer_email):\n",
    "        self.customer_id=customer_id\n",
    "        self.customer_name=customer_name\n",
    "        self.customer_email=customer_email\n",
    "        super().__init__(owner_id,owner_name,owner_email)\n",
    "    def details(self):\n",
    "        # Call parent class details using super()\n",
    "        owner_details=super().details()\n",
    "        child_details=f\" & the customer id is {self.customer_id}, customer name is {self.customer_name}, and email is {self.customer_email}\"\n",
    "        return owner_details+child_details #it will return the details of both child class and parent class\n",
    "Ow=Customer(123,\"shabaul\",\"shabaul@gmail.com\",234,\"saif\",\"saif@gmail.com\")\n",
    "Ow.details()\n",
    "        "
   ]
  },
  {
   "cell_type": "code",
   "execution_count": 61,
   "id": "7bfbbac3-4f56-4bc5-8740-a4bf8c36e772",
   "metadata": {},
   "outputs": [
    {
     "name": "stdout",
     "output_type": "stream",
     "text": [
      "100\n",
      "shabaul\n",
      "shabaul@gmail.com\n"
     ]
    }
   ],
   "source": [
    "#constructor chaining\n",
    "## Constructor chaining means calling one constructor from another constructor — often from a child class to a parent class constructor \n",
    "\n",
    "class Employeee:\n",
    "    def __init__(self,id,name,email):\n",
    "        self.id=id\n",
    "        self.name=name\n",
    "        self.email=email\n",
    "class Customerr(Employeee):\n",
    "    def __init__(self):\n",
    "        super().__init__(100,\"shabaul\",\"shabaul@gmail.com\")\n",
    "cr=Customerr()\n",
    "print(cr.id)\n",
    "print(cr.name)\n",
    "print(cr.email)\n",
    "#Constructor Chaining means:\n",
    "#Calling the parent class constructor from the child class using super().__init__() and passing values to it.\n",
    "\n",
    "#Why Use Constructor Chaining?\n",
    "#To ensure the base class is properly initialized.\n",
    "#To support inheritance cleanly. \n",
    "#Python supports constructor chaining using the built-in super() function.\n"
   ]
  },
  {
   "cell_type": "code",
   "execution_count": 111,
   "id": "a23930d3-b628-471f-8c3e-ac092e78586a",
   "metadata": {},
   "outputs": [
    {
     "name": "stdout",
     "output_type": "stream",
     "text": [
      "first number of object 1: 10\n",
      "second number of object 2: 200\n",
      "sum of first and second number of object 1: 30\n",
      "sum of first and second number of object 2: 300\n"
     ]
    }
   ],
   "source": [
    "class Add_numbers:\n",
    "    def __init__(self,num1,num2):\n",
    "        self.num1=num1\n",
    "        self.num2=num2\n",
    "n1=Add_numbers(10,20)\n",
    "print(\"first number of object 1:\",n1.num1)\n",
    "n2=Add_numbers(100,200)\n",
    "print(\"second number of object 2:\",n2.num2)\n",
    "print(\"sum of first and second number of object 1:\",n1.num1+n1.num2)\n",
    "print(\"sum of first and second number of object 2:\",n2.num1+n2.num2)\n"
   ]
  },
  {
   "cell_type": "code",
   "execution_count": 105,
   "id": "75778e8f-e341-4ad0-b6f7-376e8cc6fff0",
   "metadata": {},
   "outputs": [
    {
     "name": "stdout",
     "output_type": "stream",
     "text": [
      "<__main__.Addnum object at 0x0000028960324C80>\n"
     ]
    }
   ],
   "source": [
    "#Python’s built-in operator overloading methods (also called magic methods or dunder methods).\n",
    "# | **Operator**          | **Magic Method (Function)** |\n",
    "# | --------------------- | --------------------------- |\n",
    "# | `+` (Addition)        | `__add__(self, other)`      |\n",
    "# | `-` (Subtraction)     | `__sub__(self, other)`      |\n",
    "# | `*` (Multiplication)  | `__mul__(self, other)`      |\n",
    "# | `/` (Division)        | `__truediv__(self, other)`  |\n",
    "# | `//` (Floor Division) | `__floordiv__(self, other)` |\n",
    "# | `%` (Modulus)         | `__mod__(self, other)`      |\n",
    "# | `**` (Power)          | `__pow__(self, other)`      |\n",
    "# |  '>' (greater)        |  __gt__                     |\n",
    "\n",
    "\n",
    "# | **Operator** | **Magic Method**      |\n",
    "# | ------------ | --------------------- |\n",
    "# | `==`         | `__eq__(self, other)` |\n",
    "# | `!=`         | `__ne__(self, other)` |\n",
    "# | `<`          | `__lt__(self, other)` |\n",
    "# | `<=`         | `__le__(self, other)` |\n",
    "# | `>`          | `__gt__(self, other)` |\n",
    "# | `>=`         | `__ge__(self, other)` |\n"
   ]
  },
  {
   "cell_type": "code",
   "execution_count": 107,
   "id": "c5aec9b9-74b4-47c5-8081-00c806d33654",
   "metadata": {},
   "outputs": [],
   "source": [
    "class Addnum:\n",
    "    def __init__(self,n1,n2):\n",
    "        self.n1=n1\n",
    "        self.n2=n2\n",
    "a1=Addnum(10,20)\n",
    "a2=Addnum(100,200)\n"
   ]
  },
  {
   "cell_type": "code",
   "execution_count": 109,
   "id": "c1c29d1e-5d37-42b1-a28f-c1911c6fac51",
   "metadata": {},
   "outputs": [
    {
     "ename": "TypeError",
     "evalue": "unsupported operand type(s) for +: 'Addnum' and 'Addnum'",
     "output_type": "error",
     "traceback": [
      "\u001b[1;31m---------------------------------------------------------------------------\u001b[0m",
      "\u001b[1;31mTypeError\u001b[0m                                 Traceback (most recent call last)",
      "Cell \u001b[1;32mIn[109], line 1\u001b[0m\n\u001b[1;32m----> 1\u001b[0m a1\u001b[38;5;241m+\u001b[39ma2\n",
      "\u001b[1;31mTypeError\u001b[0m: unsupported operand type(s) for +: 'Addnum' and 'Addnum'"
     ]
    }
   ],
   "source": [
    "a1+a2 # these are both memory address so we can not do any arithmetic operations on it, that's why we are getting an error"
   ]
  },
  {
   "cell_type": "code",
   "execution_count": 117,
   "id": "22dfdc48-5651-41cc-a3c3-573969291081",
   "metadata": {},
   "outputs": [],
   "source": [
    "#now we will change the behaviour of this plus operator by overloading it \n",
    "class Addnumber:\n",
    "    def __init__(self,n1,n2):\n",
    "        self.n1=n1\n",
    "        self.n2=n2\n",
    "    def __add__(self,other):\n",
    "        print(\"calling + operator on n1 and n2\")\n",
    "ay=Addnumber(10,20)\n",
    "az=Addnumber(100,200)\n"
   ]
  },
  {
   "cell_type": "code",
   "execution_count": 129,
   "id": "deaaaed1-008f-47c6-b671-23b780a92772",
   "metadata": {},
   "outputs": [
    {
     "name": "stdout",
     "output_type": "stream",
     "text": [
      "calling + operator on n1 and n2\n"
     ]
    }
   ],
   "source": [
    "ay+az"
   ]
  },
  {
   "cell_type": "code",
   "execution_count": 5,
   "id": "aa983756-43c7-4c17-84fb-508fa9b2fc80",
   "metadata": {},
   "outputs": [
    {
     "name": "stdout",
     "output_type": "stream",
     "text": [
      "Calling + operator on n1 and n2\n"
     ]
    },
    {
     "ename": "NameError",
     "evalue": "name 'sum1' is not defined",
     "output_type": "error",
     "traceback": [
      "\u001b[1;31m---------------------------------------------------------------------------\u001b[0m",
      "\u001b[1;31mNameError\u001b[0m                                 Traceback (most recent call last)",
      "Cell \u001b[1;32mIn[5], line 23\u001b[0m\n\u001b[0;32m     20\u001b[0m result \u001b[38;5;241m=\u001b[39m ay \u001b[38;5;241m+\u001b[39m az\n\u001b[0;32m     22\u001b[0m \u001b[38;5;66;03m# Print result\u001b[39;00m\n\u001b[1;32m---> 23\u001b[0m \u001b[38;5;28mprint\u001b[39m(result)\n",
      "Cell \u001b[1;32mIn[5], line 13\u001b[0m, in \u001b[0;36mAddnumber.__str__\u001b[1;34m(self)\u001b[0m\n\u001b[0;32m     12\u001b[0m \u001b[38;5;28;01mdef\u001b[39;00m \u001b[38;5;21m__str__\u001b[39m(\u001b[38;5;28mself\u001b[39m):\n\u001b[1;32m---> 13\u001b[0m     \u001b[38;5;28;01mreturn\u001b[39;00m \u001b[38;5;124mf\u001b[39m\u001b[38;5;124m\"\u001b[39m\u001b[38;5;124mn1 = \u001b[39m\u001b[38;5;132;01m{\u001b[39;00msum1\u001b[38;5;132;01m}\u001b[39;00m\u001b[38;5;124m, n2 = \u001b[39m\u001b[38;5;132;01m{\u001b[39;00msum2\u001b[38;5;132;01m}\u001b[39;00m\u001b[38;5;124m\"\u001b[39m\n",
      "\u001b[1;31mNameError\u001b[0m: name 'sum1' is not defined"
     ]
    }
   ],
   "source": [
    "class Addnumber:\n",
    "    def __init__(self, n1, n2):\n",
    "        self.n1 = n1\n",
    "        self.n2 = n2\n",
    "\n",
    "    def __add__(self, other):\n",
    "        print(\"Calling + operator on n1 and n2\")\n",
    "        sum1 = self.n1 + other.n1\n",
    "        sum2 = self.n2 + other.n2\n",
    "        return Addnumber(sum1, sum2)  # Return a new object\n",
    "\n",
    "    def __str__(self):\n",
    "        return f\"n1 = {sum1}, n2 = {sum2}\"\n",
    "\n",
    "# Create objects\n",
    "ay = Addnumber(10, 20)\n",
    "az = Addnumber(100, 200)\n",
    "\n",
    "# Use + operator (calls __add__)\n",
    "result = ay + az\n",
    "\n",
    "# Print result\n",
    "print(result)\n"
   ]
  },
  {
   "cell_type": "code",
   "execution_count": 19,
   "id": "14f0a091-5ed4-4f72-b3cc-211e37791713",
   "metadata": {},
   "outputs": [
    {
     "name": "stdout",
     "output_type": "stream",
     "text": [
      "generic interest: 4%\n",
      "Savings interest: 6%\n",
      "Current Interest: 3%\n"
     ]
    }
   ],
   "source": [
    "#Mthod overriding questions:-\n",
    "# Q1️⃣. Bank Account Example\n",
    "# Create a class Account with a method interest() that prints \"Generic Interest: 4%\".\n",
    "# Create a subclass SavingsAccount that overrides the interest() method and prints \"Savings Interest: 6%\".\n",
    "# Create another subclass CurrentAccount that also overrides the interest() method and prints \"Current Interest: 3%\".\n",
    "\n",
    "# Test it:\n",
    "# Create objects of Account, SavingsAccount, and CurrentAccount and call interest() for each.\n",
    "class Account:\n",
    "    def interest(self):\n",
    "        print(\"generic interest: 4%\")\n",
    "class SavingsAccount(Account):\n",
    "    def interest(self):\n",
    "        print(\"Savings interest: 6%\")\n",
    "class CurrentAccount(Account):\n",
    "    def interest(self):\n",
    "        print(\"Current Interest: 3%\")\n",
    "obA=Account()\n",
    "obA.interest()\n",
    "obS=SavingsAccount()\n",
    "obS.interest()\n",
    "obC=CurrentAccount()\n",
    "obC.interest()\n",
    "#instead of having inheritance from parent class Account, both child class SavingsAccount and CurrentAccount is overriding the method of parent class"
   ]
  },
  {
   "cell_type": "code",
   "execution_count": 27,
   "id": "3f8fdae8-3152-4a4d-8aab-f4bc91a1e0f5",
   "metadata": {},
   "outputs": [
    {
     "name": "stdout",
     "output_type": "stream",
     "text": [
      "Animal normal sound\n",
      "Bark\n",
      "meow\n"
     ]
    }
   ],
   "source": [
    "# Q2️⃣. Animal Sound\n",
    "# Create a class Animal with method make_sound() that prints \"Some generic sound\".\n",
    "\n",
    "# Create two subclasses:\n",
    "# Dog → override make_sound() to print \"Bark\"\n",
    "# Cat → override make_sound() to print \"Meow\"\n",
    "\n",
    "# Test it:\n",
    "# Create objects of Animal, Dog, and Cat and call make_sound().\n",
    "class Animal:\n",
    "    def make_sound(self):\n",
    "        print(\"Animal normal sound\")\n",
    "class Dog(Animal):\n",
    "    def make_sound(self):\n",
    "        print(\"Bark\")\n",
    "class Cat(Animal):\n",
    "    def make_sound(self):\n",
    "        print(\"meow\")\n",
    "an=Animal()\n",
    "an.make_sound()\n",
    "dg=Dog()\n",
    "dg.make_sound()\n",
    "ct=Cat()\n",
    "ct.make_sound()"
   ]
  },
  {
   "cell_type": "code",
   "execution_count": 35,
   "id": "728feef3-cde4-419e-af44-d639186c4a35",
   "metadata": {},
   "outputs": [
    {
     "name": "stdout",
     "output_type": "stream",
     "text": [
      "Employee details\n",
      "Manager details with extra responsibilities\n",
      "Intern details with limited access\n"
     ]
    }
   ],
   "source": [
    "# Q3️⃣. Employee Details\n",
    "# Create a class Employee with a method show_details() that prints \"Employee details\".\n",
    "\n",
    "# Create a subclass Manager that overrides show_details() and prints \"Manager details with extra responsibilities\".\n",
    "# Also create a subclass Intern that overrides show_details() and prints \"Intern details with limited access\".\n",
    "\n",
    "# Test it:\n",
    "# Create objects of Employee, Manager, and Intern and call show_details().\n",
    "\n",
    "class Employee:\n",
    "    def show_details(self):\n",
    "        print(\"Employee details\")\n",
    "class Manager(Employee):\n",
    "    def show_details(self):\n",
    "        print(\"Manager details with extra responsibilities\")\n",
    "class Intern(Employee):\n",
    "    def show_details(self):\n",
    "        print(\"Intern details with limited access\")\n",
    "em=Employee()\n",
    "em.show_details()\n",
    "ma=Manager()\n",
    "ma.show_details()\n",
    "int=Intern()\n",
    "int.show_details()"
   ]
  },
  {
   "cell_type": "code",
   "execution_count": 61,
   "id": "d887d3bd-e955-42f7-a703-e3f37d5c5611",
   "metadata": {},
   "outputs": [
    {
     "name": "stdout",
     "output_type": "stream",
     "text": [
      "vehicle name: Generic Vehicle\n",
      "vehicle is starting\n"
     ]
    }
   ],
   "source": [
    "# Q.4. Vehicle Example (With Constructor Overriding)\n",
    "# Create a parent class Vehicle with:\n",
    "\n",
    "# Constructor __init__(self, name) that prints:\n",
    "# \"Vehicle Name: <name>\"\n",
    "# Method start() that prints: \"Vehicle is starting\"\n",
    "\n",
    "# Create a subclass Car that:\n",
    "# Overrides the constructor to also accept brand, and prints:\n",
    "# \"Car Brand: <brand>\"\n",
    "\n",
    "# Overrides start() to print: \"Car is starting with key ignition\"\n",
    "class Vehicle:\n",
    "    def __init__(self,name):\n",
    "        self.name=name\n",
    "        print(f\"vehicle name: {self.name}\")\n",
    "    def start(self):\n",
    "        print(\"vehicle is starting\")\n",
    "class Car(Vehicle):\n",
    "    def __init__(self,name,brand):\n",
    "        super().__init__(name)\n",
    "        self.brand=brand\n",
    "        print(f\"Car brand: {self.brand}\")\n",
    "    def start(self):\n",
    "        print(\"car is starting with key ignition\")\n",
    "v = Vehicle(\"Generic Vehicle\")\n",
    "v.start()\n",
    "\n",
    "\n",
    "#Overriding doesn’t always mean \"completely skip the parent\".\n",
    "#It means \"redefine behavior.\""
   ]
  },
  {
   "cell_type": "code",
   "execution_count": 63,
   "id": "b3a59801-2c80-438f-8b22-c991a4f8ae97",
   "metadata": {},
   "outputs": [
    {
     "name": "stdout",
     "output_type": "stream",
     "text": [
      "vehicle name: Fortuner\n",
      "Car brand: Toyota\n",
      "car is starting with key ignition\n"
     ]
    }
   ],
   "source": [
    "c = Car(\"Fortuner\", \"Toyota\")\n",
    "c.start()\n"
   ]
  },
  {
   "cell_type": "code",
   "execution_count": 67,
   "id": "f13a7f6a-9f39-4473-97a5-281ea72dc87c",
   "metadata": {},
   "outputs": [
    {
     "name": "stdout",
     "output_type": "stream",
     "text": [
      "Booking for Shabaul\n",
      "Booking Confirmed\n",
      "Booking for Saif\n",
      "Hotel room booking confirmed for Deluxe large\n"
     ]
    }
   ],
   "source": [
    "# Q2️⃣. Hotel Booking Example (With Constructor Overriding)\n",
    "# Create a parent class Booking with:\n",
    "\n",
    "# Constructor __init__(self, customer_name) that prints:\n",
    "# \"Booking for <customer_name>\"\n",
    "# Method confirm() that prints: \"Booking Confirmed\"\n",
    "\n",
    "# Create a subclass HotelBooking that:\n",
    "# Overrides the constructor to also take room_type and prints:\n",
    "# \"Room Type: <room_type>\"\n",
    "\n",
    "# Overrides confirm() to print: \"Hotel room booking confirmed for <room_type>\"\n",
    "\n",
    "class Booking:\n",
    "    def __init__(self,customer_name):\n",
    "        self.customer_name=customer_name\n",
    "        print(f\"Booking for {self.customer_name}\")\n",
    "    def confirm(self):\n",
    "        print(\"Booking Confirmed\")\n",
    "class HotelBooking(Booking):\n",
    "    def __init__(self,customer_name,room_type):\n",
    "        super().__init__(customer_name)\n",
    "        self.room_type=room_type\n",
    "\n",
    "    def confirm(self):\n",
    "        print(f\"Hotel room booking confirmed for {self.room_type}\")\n",
    "b=Booking(\"Shabaul\")\n",
    "b.confirm()\n",
    "\n",
    "\n",
    "hb=HotelBooking(\"Saif\",\"Deluxe large\")\n",
    "hb.confirm()"
   ]
  },
  {
   "cell_type": "code",
   "execution_count": 69,
   "id": "d6caf256-3f67-4d59-9b5b-8fce02acded2",
   "metadata": {},
   "outputs": [],
   "source": [
    "# | Possible Question                       | Can You Answer Now?                                               |\n",
    "# | --------------------------------------- | ----------------------------------------------------------------- |\n",
    "# | What is method overriding?              | ✅ Yes                                                             |\n",
    "# | Can constructors be overridden?         | ✅ Yes                                                             |\n",
    "# | Why use `super()` in constructor?       | ✅ Yes                                                             |\n",
    "# | Can we override only selected methods?  | ✅ Yes                                                             |\n",
    "# | Real-life example of method overriding? | ⚠️ Prepare 1-2 examples (like Hotel Booking, Bank Interest, etc.) |\n"
   ]
  },
  {
   "cell_type": "code",
   "execution_count": null,
   "id": "32759f57-9a60-46e3-ac80-acb3a5fda669",
   "metadata": {},
   "outputs": [],
   "source": [
    "# Dunder Methods / Special Methods / Magic Methods in Python\n",
    "# These three terms (Dunder Methods = Special Methods = Magic Methods) refer to the same concept in Python.\n",
    "# Meaning of \"Dunder\"\n",
    "# \"Dunder\" is short for \"Double UNDERscore\".\n",
    "\n",
    "# Example: __init__, __add__, __str__, __len__, etc.\n",
    "\n",
    "# They start and end with two underscores: __methodname__"
   ]
  },
  {
   "cell_type": "code",
   "execution_count": null,
   "id": "73f73a87-8e2a-4845-898a-fee0a7fc1175",
   "metadata": {},
   "outputs": [],
   "source": []
  },
  {
   "cell_type": "code",
   "execution_count": 95,
   "id": "df1415e9-9161-4ad5-8087-72b073d1e9a2",
   "metadata": {},
   "outputs": [
    {
     "name": "stdout",
     "output_type": "stream",
     "text": [
      "12\n"
     ]
    },
    {
     "ename": "AttributeError",
     "evalue": "'Intern' object has no attribute '__add__'",
     "output_type": "error",
     "traceback": [
      "\u001b[1;31m---------------------------------------------------------------------------\u001b[0m",
      "\u001b[1;31mAttributeError\u001b[0m                            Traceback (most recent call last)",
      "Cell \u001b[1;32mIn[95], line 4\u001b[0m\n\u001b[0;32m      1\u001b[0m \u001b[38;5;66;03m#Operator Overloading: operator overloading is a method of achieving polymorphism by changing the behavior of the operator\u001b[39;00m\n\u001b[0;32m      2\u001b[0m \u001b[38;5;66;03m#in layman language we can say the operator is performing beyond its capabilities\u001b[39;00m\n\u001b[0;32m      3\u001b[0m \u001b[38;5;28mprint\u001b[39m(\u001b[38;5;28mstr\u001b[39m\u001b[38;5;241m.\u001b[39m\u001b[38;5;21m__add__\u001b[39m(\u001b[38;5;124m\"\u001b[39m\u001b[38;5;124m1\u001b[39m\u001b[38;5;124m\"\u001b[39m,\u001b[38;5;124m\"\u001b[39m\u001b[38;5;124m2\u001b[39m\u001b[38;5;124m\"\u001b[39m))\n\u001b[1;32m----> 4\u001b[0m \u001b[38;5;28mprint\u001b[39m(\u001b[38;5;28mint\u001b[39m\u001b[38;5;241m.\u001b[39m\u001b[38;5;21m__add__\u001b[39m(\u001b[38;5;241m1\u001b[39m,\u001b[38;5;241m2\u001b[39m))\n",
      "\u001b[1;31mAttributeError\u001b[0m: 'Intern' object has no attribute '__add__'"
     ]
    }
   ],
   "source": [
    "#Operator Overloading: operator overloading is a method of achieving polymorphism by changing the behavior of the operator\n",
    "#in layman language we can say the operator is performing beyond its capabilities\n",
    "print(str.__add__(\"1\",\"2\"))\n",
    "print(int.__add__(1,2))"
   ]
  },
  {
   "cell_type": "code",
   "execution_count": 107,
   "id": "b54e960b-8fc3-439f-b957-9fc116dc202a",
   "metadata": {},
   "outputs": [
    {
     "name": "stdout",
     "output_type": "stream",
     "text": [
      "11+22i\n"
     ]
    }
   ],
   "source": [
    "# Q1️⃣. Overload + Operator for Complex Numbers\n",
    "# Create a class ComplexNumber that has:\n",
    "# Attributes: real and imag\n",
    "\n",
    "# Overload the + operator to add two complex numbers\n",
    "\n",
    "\n",
    "# | Code                         | What Happens                           |\n",
    "# | ---------------------------- | -------------------------------------- |\n",
    "# | `c1 = ComplexNumber(1, 2)`   | Creates `1 + 2i`                       |\n",
    "# | `c2 = ComplexNumber(10, 20)` | Creates `10 + 20i`                     |\n",
    "# | `c3 = c1 + c2`               | Calls `c1__add__(c2)` and returns `11 + 22i` |\n",
    "# | `print(c3)`                  | Uses `__str__` to print: `11 + 22i`    |\n",
    "\n",
    "class ComplexNumber:\n",
    "    def __init__(self,real,imag):\n",
    "        self.real=real\n",
    "        self.imag=imag\n",
    "    def __add__(self,other):\n",
    "        return ComplexNumber(self.real+other.real,self.imag+other.imag)\n",
    "    def __str__(self):\n",
    "        return f\"{self.real}+{self.imag}i\"\n",
    "c1=ComplexNumber(1,2)    #c1 object denotes self, aslo in (1,2), 1 is real part and 2 is imaginary part\n",
    "c2=ComplexNumber(10,20)  #c2 object denotes other, aslo in (10,20), 10 is real part and 20 is imaginary part\n",
    "c3=c1+c2\n",
    "print(c3)"
   ]
  },
  {
   "cell_type": "code",
   "execution_count": 103,
   "id": "9a516b7d-0384-443c-8818-4cbde10de43d",
   "metadata": {},
   "outputs": [
    {
     "name": "stdout",
     "output_type": "stream",
     "text": [
      "11 + 22i\n"
     ]
    }
   ],
   "source": [
    "#operator overloading is done here, but not a good practice in oops\n",
    "class ComplexNumber:\n",
    "    def __init__(self,real,imag):\n",
    "        self.real=real\n",
    "        self.imag=imag\n",
    "    def __add__(self,other):\n",
    "        return f\"{self.real+other.real} + {self.imag+other.imag}i\"\n",
    "c1=ComplexNumber(1,2)    #c1 object denotes self, aslo in (1,2), 1 is real part and 2 is imaginary part\n",
    "c2=ComplexNumber(10,20)  #c2 object denotes other, aslo in (10,20), 10 is real part and 20 is imaginary part\n",
    "c3=c1+c2\n",
    "print(c3)"
   ]
  },
  {
   "cell_type": "code",
   "execution_count": 113,
   "id": "fb01a29f-51e0-4c0b-ab70-e4af7d1dc655",
   "metadata": {},
   "outputs": [
    {
     "name": "stdout",
     "output_type": "stream",
     "text": [
      "(8,10)\n"
     ]
    }
   ],
   "source": [
    "# Q1️⃣. Overload + for Vectors (2D Vector Addition)\n",
    "# Problem:\n",
    "# Create a class Vector2D with:\n",
    "# Attributes: x and y\n",
    "\n",
    "# Overload + operator to add two vectors:\n",
    "# (x1, y1) + (x2, y2) = (x1+x2, y1+y2)\n",
    "class Vector2D:\n",
    "    def __init__(self,x,y):\n",
    "        self.x=x\n",
    "        self.y=y\n",
    "    def __add__(self,other):\n",
    "        return Vector2D(self.x+other.x,self.y+other.y)\n",
    "    def __str__(self):\n",
    "        return f\"({self.x},{self.y})\"\n",
    "v1 = Vector2D(3, 4)\n",
    "v2 = Vector2D(5, 6)\n",
    "v3 = v1 + v2\n",
    "\n",
    "print(v3)  # Should print: (8, 10)\n"
   ]
  },
  {
   "cell_type": "code",
   "execution_count": 143,
   "id": "446b1e20-c883-4ccf-9eb1-563d75acd5fe",
   "metadata": {},
   "outputs": [],
   "source": [
    "# Q2️⃣. Overload + for Strings (Custom Joiner)\n",
    "# Problem:\n",
    "# Create a class CustomString that:\n",
    "\n",
    "# Stores a string in self.text\n",
    "\n",
    "# Overload + operator to join two strings with a hyphen (-)\n",
    "\n",
    "class CustomString:\n",
    "    def __init__(self,text):\n",
    "        self.text=text\n",
    "    def __add__(self,other):\n",
    "        return CustomString(self.text+\"-\"+other.text)\n",
    "    def __str__(self):\n",
    "        return self.text    #__str__ magic function should always return str, if you are not passing str, you have to declare it here\n",
    "                            #in this case \"hello\" and \"world are paased and both are string\""
   ]
  },
  {
   "cell_type": "code",
   "execution_count": 145,
   "id": "b9d77d21-4032-4f15-a384-cf77f5fbe1d5",
   "metadata": {},
   "outputs": [
    {
     "name": "stdout",
     "output_type": "stream",
     "text": [
      "Hello-World\n"
     ]
    }
   ],
   "source": [
    "text1 = CustomString(\"Hello\")\n",
    "text2 = CustomString(\"World\")\n",
    "s3 = text1 + text2\n",
    "\n",
    "print(s3)  # Output: Hello-World\n"
   ]
  },
  {
   "cell_type": "code",
   "execution_count": 149,
   "id": "f5573048-a57c-4254-b63f-f07d78cfcf0e",
   "metadata": {},
   "outputs": [
    {
     "name": "stdout",
     "output_type": "stream",
     "text": [
      "30000\n"
     ]
    }
   ],
   "source": [
    "# Q3️⃣. Overload + for Bank Account Balances\n",
    "# Problem:\n",
    "# Create a class BankAccount that:\n",
    "\n",
    "# Has an attribute balance\n",
    "\n",
    "# Overload + operator so that:\n",
    "# account1 + account2  \n",
    "# returns a new account with total balance\n",
    "class BankAccount:\n",
    "    def __init__(self,balance):\n",
    "        self.balance=balance\n",
    "    def __add__(self,other):\n",
    "        return BankAccount(self.balance+other.balance)\n",
    "    def __str__(self):\n",
    "        return str(self.balance)     #balance value is integer so, we typecasted it\n",
    "account1=BankAccount(10000)\n",
    "account2=BankAccount(20000)\n",
    "newaccount=account1+account2\n",
    "print(newaccount)"
   ]
  },
  {
   "cell_type": "code",
   "execution_count": 163,
   "id": "55cac14e-b4e1-4e7e-9ee6-7f44cba254fa",
   "metadata": {},
   "outputs": [
    {
     "name": "stdout",
     "output_type": "stream",
     "text": [
      "16,0\n"
     ]
    }
   ],
   "source": [
    "# Q1️⃣. Overload + for Time (Hours & Minutes Addition)\n",
    "# Problem:\n",
    "# Create a class Time with:\n",
    "\n",
    "# Attributes: hours and minutes\n",
    "\n",
    "# Overload + operator to add two time objects.\n",
    "\n",
    "class Time:\n",
    "    def __init__(self,hours,minutes):\n",
    "        self.hours=hours\n",
    "        self.minutes=minutes\n",
    "    def __add__(self,other):\n",
    "        total_hours=self.hours + other.hours\n",
    "        total_minutes=self.minutes+other.minutes\n",
    "\n",
    "        if(total_minutes>=60):\n",
    "            extra_hours=total_minutes//60\n",
    "            total_hours+=extra_hours\n",
    "            total_minutes=total_minutes%60\n",
    "        return Time(total_hours,total_minutes)\n",
    "    def __str__(self):\n",
    "        return f\"({self.hours},{self.minutes})\"\n",
    "st1=Time(5,30)\n",
    "st2=Time(10,30)\n",
    "totaltime=st1+st2\n",
    "print(totaltime)"
   ]
  },
  {
   "cell_type": "code",
   "execution_count": null,
   "id": "bf7592a9-f730-48c7-b75a-9d02ecc2b937",
   "metadata": {},
   "outputs": [],
   "source": []
  }
 ],
 "metadata": {
  "kernelspec": {
   "display_name": "Python 3 (ipykernel)",
   "language": "python",
   "name": "python3"
  },
  "language_info": {
   "codemirror_mode": {
    "name": "ipython",
    "version": 3
   },
   "file_extension": ".py",
   "mimetype": "text/x-python",
   "name": "python",
   "nbconvert_exporter": "python",
   "pygments_lexer": "ipython3",
   "version": "3.12.4"
  }
 },
 "nbformat": 4,
 "nbformat_minor": 5
}
