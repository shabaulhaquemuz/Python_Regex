{
 "cells": [
  {
   "cell_type": "code",
   "execution_count": 5,
   "id": "6fed2e05-e0a2-41a4-bc92-be9cf19c3460",
   "metadata": {},
   "outputs": [
    {
     "name": "stdin",
     "output_type": "stream",
     "text": [
      "enter the number: 2\n"
     ]
    },
    {
     "name": "stdout",
     "output_type": "stream",
     "text": [
      "even\n"
     ]
    }
   ],
   "source": [
    "#Q1. Write a program that takes an integer input from the user and checks whether the number is odd or even.\n",
    "n=int(input(\"enter the number:\"))\n",
    "if(n%2==0):\n",
    "    print(\"even\")\n",
    "else:\n",
    "    print(\"odd\")"
   ]
  },
  {
   "cell_type": "code",
   "execution_count": 13,
   "id": "c8746fc5-3970-4a50-90c3-e7c237dc3c55",
   "metadata": {},
   "outputs": [
    {
     "name": "stdin",
     "output_type": "stream",
     "text": [
      "enter the 1st number: 3\n",
      "enter the 2nd number: 5\n",
      "enter the 3rd number: 2\n"
     ]
    },
    {
     "name": "stdout",
     "output_type": "stream",
     "text": [
      "b is largest\n"
     ]
    }
   ],
   "source": [
    "#Q2 Write a program that takes three numbers as input and prints the largest of the three.\n",
    "a=int(input(\"enter the 1st number:\"))\n",
    "b=int(input(\"enter the 2nd number:\"))\n",
    "c=int(input(\"enter the 3rd number:\"))\n",
    "if(a>b and a>c):\n",
    "    print(\"a is largest\")\n",
    "elif(b>a and b>c):\n",
    "    print(\"b is largest\")\n",
    "else:\n",
    "    print(\"c is largest\")"
   ]
  },
  {
   "cell_type": "code",
   "execution_count": 19,
   "id": "458dd4a2-303e-4278-a021-343e0ca56507",
   "metadata": {},
   "outputs": [
    {
     "name": "stdin",
     "output_type": "stream",
     "text": [
      "enter the year: 1996\n"
     ]
    },
    {
     "name": "stdout",
     "output_type": "stream",
     "text": [
      "leap year\n"
     ]
    }
   ],
   "source": [
    "#Q3 Write a program to check if a given year is a leap year. A leap year is divisible by 4 but not by 100 unless it is also divisible by 400.\n",
    "year=int(input(\"enter the year:\"))\n",
    "if(year%4==0 and year%100!=0):\n",
    "    print(\"leap year\")\n",
    "elif(year%400==0):\n",
    "    print(\"leap year\")\n",
    "else:\n",
    "    print(\"not a leap year\")"
   ]
  },
  {
   "cell_type": "code",
   "execution_count": 29,
   "id": "1f7ffe13-0347-4ef7-aca3-bf52baa1dc7f",
   "metadata": {},
   "outputs": [
    {
     "name": "stdin",
     "output_type": "stream",
     "text": [
      "enter the number: 60\n"
     ]
    },
    {
     "name": "stdout",
     "output_type": "stream",
     "text": [
      "grade d\n"
     ]
    }
   ],
   "source": [
    "#Q4 Write a program that takes a percentage (integer) as input and prints the corresponding grade based on the following criteria:\n",
    "#>= 90: Grade A\n",
    "#>= 80: Grade B\n",
    "#>= 70: Grade C\n",
    "#>= 60: Grade D\n",
    "#< 60: Grade F\n",
    "percent=int(input(\"enter the number:\"))\n",
    "if(90<=percent<=100):\n",
    "    print(\"grade a\")\n",
    "elif(80<=percent<=89):\n",
    "    print(\"grade b\")\n",
    "elif(70<=percent<=79):\n",
    "    print(\"grade c\")\n",
    "elif(60<=percent<=69):\n",
    "    print(\"grade d\")\n",
    "elif(0<=percent<=60):\n",
    "    print(\"grade f\")\n",
    "else:\n",
    "    print(\"valid percentage\")"
   ]
  },
  {
   "cell_type": "code",
   "execution_count": 49,
   "id": "5e8438ea-701d-46bd-b644-795ae0e46297",
   "metadata": {},
   "outputs": [
    {
     "name": "stdin",
     "output_type": "stream",
     "text": [
      "enter the letter ]\n"
     ]
    },
    {
     "name": "stdout",
     "output_type": "stream",
     "text": [
      "enter letter or correct length of letter\n"
     ]
    }
   ],
   "source": [
    "#Q5 Write a program that checks if a given letter is a vowel (a, e, i, o, u) or a consonant.\n",
    "letter=input(\"enter the letter\")\n",
    "if(letter.isalpha() and len(letter)==1):\n",
    "    if(letter=='a' or letter=='A' or letter=='e' or letter =='E' or letter=='i' or letter=='I' or letter=='o' or letter =='O' or letter=='u' or letter =='U'):\n",
    "        print(\"vowel\")\n",
    "    else:\n",
    "        print(\"consonant\")\n",
    "else:\n",
    "    print(\"enter letter or correct length of letter\")\n",
    "\n",
    "    "
   ]
  },
  {
   "cell_type": "code",
   "execution_count": 55,
   "id": "92b36f4d-fad5-4885-9b55-7017816f3b37",
   "metadata": {},
   "outputs": [
    {
     "name": "stdin",
     "output_type": "stream",
     "text": [
      "enter number 1: 7\n",
      "enter number 2: 8\n",
      "enter operator: !\n"
     ]
    },
    {
     "name": "stdout",
     "output_type": "stream",
     "text": [
      "enter the correct operator\n"
     ]
    }
   ],
   "source": [
    "#Q6 Write a basic calculator program that takes two numbers and an operator (+, -, *, /) as input and\n",
    "#performs the specified operation. Print the result based on the operation.\n",
    "a=int(input(\"enter number 1:\"))\n",
    "b=int(input(\"enter number 2:\"))\n",
    "c=(input(\"enter operator:\"))\n",
    "if(c=='+'):\n",
    "    print(\"output:\",a+b)\n",
    "elif(c=='-'):\n",
    "    print(\"output:\",a-b)\n",
    "elif(c=='*'):\n",
    "    print(\"output:\",a*b)\n",
    "elif(c=='/'):\n",
    "    print(\"output:\",a/b)\n",
    "elif(c=='//'):\n",
    "    print(\"output:\",a//b)\n",
    "elif(c=='%'):\n",
    "    print(\"output:\",a%b)\n",
    "else:\n",
    "    print(\"enter the correct operator\")\n"
   ]
  },
  {
   "cell_type": "code",
   "execution_count": 63,
   "id": "21c116db-5e06-4321-8f2b-caf08fa5ca4b",
   "metadata": {},
   "outputs": [
    {
     "name": "stdin",
     "output_type": "stream",
     "text": [
      "enter the number: 0\n"
     ]
    },
    {
     "name": "stdout",
     "output_type": "stream",
     "text": [
      "zero\n"
     ]
    }
   ],
   "source": [
    "#Q7 Write a program that takes a number as input and checks whether it is positive, negative, or zero.\n",
    "a=int(input(\"enter the number:\"))\n",
    "if(a>0):\n",
    "    print(\"positive\")\n",
    "elif(a<0):\n",
    "    print(\"negative\")\n",
    "else:\n",
    "    print(\"zero\")"
   ]
  },
  {
   "cell_type": "code",
   "execution_count": 71,
   "id": "cab9d3e9-54bb-41ed-ba44-03e14c822a07",
   "metadata": {},
   "outputs": [
    {
     "name": "stdin",
     "output_type": "stream",
     "text": [
      "enter the username: admin\n",
      "enter the password 1234\n"
     ]
    },
    {
     "name": "stdout",
     "output_type": "stream",
     "text": [
      "login succesful\n"
     ]
    }
   ],
   "source": [
    "#Q8 Write a program that checks if a username and password entered by the user match the pre-set values\n",
    "#username = \"admin\" and password = \"1234\". If both match, print \"Login Successful\", otherwise print\n",
    "#\"Login Failed\".\n",
    "un='admin'\n",
    "pw=1234\n",
    "username=input(\"enter the username:\")\n",
    "password=int(input(\"enter the password\"))\n",
    "if(username==un and password==1234):\n",
    "    print(\"login succesful\")\n",
    "else:\n",
    "    print(\"login failed\")\n"
   ]
  },
  {
   "cell_type": "code",
   "execution_count": 75,
   "id": "a5cbb335-c8a2-4fdb-87fb-18ae4680fe84",
   "metadata": {},
   "outputs": [
    {
     "name": "stdin",
     "output_type": "stream",
     "text": [
      "enter side 1: 2\n",
      "enter side 2: 4\n",
      "enter side 3: 7\n"
     ]
    },
    {
     "name": "stdout",
     "output_type": "stream",
     "text": [
      "invalid\n"
     ]
    }
   ],
   "source": [
    "#Q9 Write a program that takes three sides of a triangle as input and checks if those sides form a valid\n",
    "#triangle. A triangle is valid if the sum of any two sides is greater than the third side.\n",
    "#Check conditions like a + b > c, b + c > a, and a + c > b.\n",
    "a=int(input(\"enter side 1:\"))\n",
    "b=int(input(\"enter side 2:\"))\n",
    "c=int(input(\"enter side 3:\"))\n",
    "if(a+b>c and a+c>b and b+c>a):\n",
    "    print(\"valid\")\n",
    "else:\n",
    "    print(\"invalid\")"
   ]
  },
  {
   "cell_type": "code",
   "execution_count": 81,
   "id": "d1471fa4-4ed7-406e-ada9-4f1b0c07fc7f",
   "metadata": {},
   "outputs": [
    {
     "name": "stdin",
     "output_type": "stream",
     "text": [
      "enter weight in kgs 69\n",
      "input height in meters 1.676\n"
     ]
    },
    {
     "name": "stdout",
     "output_type": "stream",
     "text": [
      "normal weight\n"
     ]
    }
   ],
   "source": [
    "# Q10 Write a program that calculates the Body Mass Index (BMI) based on user input for weight (in\n",
    "# kilograms) and height (in meters). Then categorize the BMI into:\n",
    "# Underweight (BMI < 18.5)\n",
    "# Normal weight (18.5 <= BMI < 24.9)\n",
    "# Overweight (25 <= BMI < 29.9)\n",
    "# Obesity (BMI >= 30)\n",
    "# Use the formula: BMI = weight / (height ** 2)\n",
    "weight=int(input(\"enter weight in kgs\"))\n",
    "height=float(input(\"input height in meters\"))\n",
    "BMI=weight/(height**2)\n",
    "if(BMI<18.5):\n",
    "    print(\"underweight\")\n",
    "elif(18.5<=BMI<=24.9):\n",
    "    print(\"normal weight\")\n",
    "elif(25<=BMI<29.9):\n",
    "    print(\"overweight\")\n",
    "elif(BMI>30):\n",
    "    print(\"obese\")"
   ]
  },
  {
   "cell_type": "code",
   "execution_count": 89,
   "id": "43322aef-5586-43bc-b264-afa4aad27c58",
   "metadata": {},
   "outputs": [
    {
     "name": "stdin",
     "output_type": "stream",
     "text": [
      "enter the price of 1 shirt: 200\n",
      "enter the total quantity: 1\n"
     ]
    },
    {
     "name": "stdout",
     "output_type": "stream",
     "text": [
      "your undiscounted price is: 200\n"
     ]
    }
   ],
   "source": [
    "# Q11 Write a program that calculates the discount for a product based on its price:\n",
    "# If price is greater than 1000, discount is 10%\n",
    "# If price is between 500 and 1000, discount is 5%\n",
    "# Otherwise, no discount\n",
    "# Print the final price after applying the discount.\n",
    "price=int(input(\"enter the price of 1 shirt:\"))\n",
    "quantity=int(input(\"enter the total quantity:\"))\n",
    "total_price=price*quantity\n",
    "if(total_price>=1000):\n",
    "    print(\"your 10% discounted price is:\",total_price-(10/100*(total_price)))\n",
    "elif(500<total_price<1000):\n",
    "    print(\"your 5% discounted price is:\",total_price-(5/100*(total_price)))\n",
    "else:\n",
    "    print(\"your undiscounted price is:\",total_price)"
   ]
  },
  {
   "cell_type": "code",
   "execution_count": 97,
   "id": "ddad7676-6ce7-474e-b3dc-778a1704efad",
   "metadata": {},
   "outputs": [
    {
     "name": "stdin",
     "output_type": "stream",
     "text": [
      "enter the month: february\n",
      "enter the year: 2000\n"
     ]
    },
    {
     "name": "stdout",
     "output_type": "stream",
     "text": [
      "leap year has 29 days\n"
     ]
    }
   ],
   "source": [
    "# Q12 Write a program that takes the name of a month as input and prints the number of days in that\n",
    "# month. Consider leap years for February.\n",
    "month=input(\"enter the month:\")\n",
    "if(month=='january'):\n",
    "    print(\"jan has 31 days\")\n",
    "elif(month=='february'):\n",
    "    year=int(input(\"enter the year:\"))\n",
    "    if(year%4==0 and year%100!=0):\n",
    "        print(\"leap year has 29 days\")\n",
    "    elif(year%400==0):\n",
    "        print(\"leap year has 29 days\")\n",
    "    else:\n",
    "        print(\"non-leap year has 28 days\")\n",
    "elif(month=='march'):\n",
    "    print(\"march has 31 days\")\n",
    "elif(month=='april'):\n",
    "    print(\"april has 30 days\")\n",
    "elif(month=='may'):\n",
    "    print(\"may has 31 days\")\n",
    "elif(month=='june'):\n",
    "    print(\"june has 30 days\")\n",
    "elif(month=='july'):\n",
    "    print(\"july has 31 days\")\n",
    "elif(month=='august'):\n",
    "    print(\"aug has 31 days\")\n",
    "elif(month=='september'):\n",
    "    print(\"sept has 30 days\")\n",
    "elif(month=='october'):\n",
    "    print(\"oct has 31 days\")\n",
    "elif(month=='november'):\n",
    "    print(\"nov has 30 days\")\n",
    "elif(month=='december'):\n",
    "    print(\"dec has 31 days\")\n",
    "else:\n",
    "    print(\"enter valid month\")"
   ]
  },
  {
   "cell_type": "code",
   "execution_count": 147,
   "id": "b54df8de-46ba-4c87-b602-84a81b5214ca",
   "metadata": {},
   "outputs": [
    {
     "name": "stdin",
     "output_type": "stream",
     "text": [
      "enter the button: a\n",
      "enter the pin 1234\n"
     ]
    },
    {
     "name": "stdout",
     "output_type": "stream",
     "text": [
      "your balance is: 0\n"
     ]
    }
   ],
   "source": [
    "# Q13 Write a program that simulates a simple ATM. The user should be able to:\n",
    "# Check balance\n",
    "# Deposit money\n",
    "# Withdraw money (ensure the balance doesn't go negative) Use an if-else structure to handle the user's choices\n",
    "button=input(\"enter the button:\")\n",
    "pin=int(input(\"enter the pin\"))\n",
    "balance=0\n",
    "if(button=='a' and pin==1234):\n",
    "    print(\"your balance is:\",updated_balance)\n",
    "elif(button=='b' and pin==1234):\n",
    "    deposit_amount=int(input(\"enter deposit amount:\"))\n",
    "    updated_balance=balance+deposit_amount\n",
    "    print(\"total amount after deposit:\",updated_balance)\n",
    "elif(button=='c' and pin==1234):\n",
    "    withdrawl_amount=int(input(\"enter the amount you want to withdraw:\"))\n",
    "    if(withdrawl_amount<=updated_balance):\n",
    "        updated_balance=updated_balance-withdrawl_amount\n",
    "        print(\"amount after withdrawl:\",updated_balance)\n",
    "    else:\n",
    "        print(\"you dont have enough balance\")\n",
    "else:\n",
    "    print(\"enter right button or pin\")\n",
    "    "
   ]
  },
  {
   "cell_type": "code",
   "execution_count": 161,
   "id": "0b8d78eb-065d-44c0-b7a6-f1485e7e2f99",
   "metadata": {},
   "outputs": [
    {
     "name": "stdin",
     "output_type": "stream",
     "text": [
      "enter the pin: 1234\n"
     ]
    },
    {
     "name": "stdout",
     "output_type": "stream",
     "text": [
      "options:\n",
      " a:check balance\n",
      " b:deposit amount\n",
      " c:withdraw amount\n",
      " q:Quit\n"
     ]
    },
    {
     "name": "stdin",
     "output_type": "stream",
     "text": [
      "enter button of your choice a\n"
     ]
    },
    {
     "name": "stdout",
     "output_type": "stream",
     "text": [
      "your balance is: 0\n",
      "options:\n",
      " a:check balance\n",
      " b:deposit amount\n",
      " c:withdraw amount\n",
      " q:Quit\n"
     ]
    },
    {
     "name": "stdin",
     "output_type": "stream",
     "text": [
      "enter button of your choice b\n",
      "enter deposit amount: 12\n"
     ]
    },
    {
     "name": "stdout",
     "output_type": "stream",
     "text": [
      "total amount after deposit: 12\n",
      "options:\n",
      " a:check balance\n",
      " b:deposit amount\n",
      " c:withdraw amount\n",
      " q:Quit\n"
     ]
    },
    {
     "name": "stdin",
     "output_type": "stream",
     "text": [
      "enter button of your choice q\n"
     ]
    }
   ],
   "source": [
    "balance=0\n",
    "pin=int(input(\"enter the pin:\"))\n",
    "if(pin==1234):\n",
    "    while True:\n",
    "        print(\"options:\\n a:check balance\\n b:deposit amount\\n c:withdraw amount\\n q:Quit\")\n",
    "        button=input(\"enter button of your choice\")\n",
    "        if(button=='a'):\n",
    "            print(\"your balance is:\",balance)\n",
    "        elif(button=='b'):\n",
    "            deposit_amount=int(input(\"enter deposit amount:\"))\n",
    "            balance=balance+deposit_amount\n",
    "            print(\"total amount after deposit:\",balance)\n",
    "        elif(button=='c'):\n",
    "            withdrawl_amount=int(input(\"enter the amount you want to withdraw:\"))\n",
    "            if(withdrawl_amount<=balance):\n",
    "                balance=balance-withdrawl_amount\n",
    "                print(\"amount after withdrawl:\",balance)\n",
    "            else:\n",
    "                print(\"you dont have enough balance\")\n",
    "        elif(button=='q'):\n",
    "            break\n",
    "        else:\n",
    "            print(\"enter right button\")\n",
    "else:\n",
    "    print(\"right pin\")\n",
    "        \n",
    "    "
   ]
  },
  {
   "cell_type": "code",
   "execution_count": 165,
   "id": "af136073-e4f5-4caf-a6b8-0c63269c33c9",
   "metadata": {},
   "outputs": [
    {
     "name": "stdin",
     "output_type": "stream",
     "text": [
      "enter the age: 56\n"
     ]
    },
    {
     "name": "stdout",
     "output_type": "stream",
     "text": [
      "adult\n"
     ]
    }
   ],
   "source": [
    "#Q14 Write a program that categorizes a given age into different groups:\n",
    "#Infant (0-1 year)\n",
    "#Toddler (2-4 years)\n",
    "#Child (5-12 years)\n",
    "#Teenager (13-19 years)\n",
    "#Adult (20-59 years)\n",
    "#Senior (60 years and above)\n",
    "age=int(input(\"enter the age:\"))\n",
    "if(0<=age<=1):\n",
    "    print(\"infant\")\n",
    "elif(2<=age<=4):\n",
    "    print(\"toddler\")\n",
    "elif(5<=age<=12):\n",
    "    print(\"child\")\n",
    "elif(13<=age<=19):\n",
    "    print(\"teenage\")\n",
    "elif(20<=age<=59):\n",
    "    print(\"adult\")\n",
    "else:\n",
    "    print(\"senior\")"
   ]
  },
  {
   "cell_type": "code",
   "execution_count": 167,
   "id": "623d4e01-49aa-47d0-8a9f-2de42d74fefe",
   "metadata": {},
   "outputs": [
    {
     "name": "stdin",
     "output_type": "stream",
     "text": [
      "enter the number of day: 1\n"
     ]
    },
    {
     "name": "stdout",
     "output_type": "stream",
     "text": [
      "monday\n"
     ]
    }
   ],
   "source": [
    "#Q15 Write a program that takes an integer (1-7) as input and prints the corresponding day of the week (1 for Monday, 2 for Tuesday, etc.).\n",
    "a=int(input(\"enter the number of day:\"))\n",
    "if(a==1):\n",
    "    print(\"monday\")\n",
    "elif(a==2):\n",
    "    print(\"tuesday\")\n",
    "elif(a==3):\n",
    "    print(\"wednesday\")\n",
    "elif(a==4):\n",
    "    print(\"thursday\")\n",
    "elif(a==5):\n",
    "    print(\"friday\")\n",
    "elif(a==6):\n",
    "    print(\"saturday\")\n",
    "elif(a==7):\n",
    "    print(\"sunday\")\n",
    "else:\n",
    "    print(\"enter the valid number\")"
   ]
  },
  {
   "cell_type": "code",
   "execution_count": null,
   "id": "c2d10559-a5ef-4324-be09-dbe4a9486358",
   "metadata": {},
   "outputs": [],
   "source": []
  }
 ],
 "metadata": {
  "kernelspec": {
   "display_name": "Python 3 (ipykernel)",
   "language": "python",
   "name": "python3"
  },
  "language_info": {
   "codemirror_mode": {
    "name": "ipython",
    "version": 3
   },
   "file_extension": ".py",
   "mimetype": "text/x-python",
   "name": "python",
   "nbconvert_exporter": "python",
   "pygments_lexer": "ipython3",
   "version": "3.12.4"
  }
 },
 "nbformat": 4,
 "nbformat_minor": 5
}
