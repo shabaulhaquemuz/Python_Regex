{
 "cells": [
  {
   "cell_type": "code",
   "execution_count": 1,
   "id": "c2abbcfd-e199-4a9f-8090-775e74531587",
   "metadata": {},
   "outputs": [],
   "source": [
    "#set datatype\n",
    "# Set Data Type in Python\n",
    "# A set is an unordered, unindexed, and mutable collection of unique elements in Python.\n"
   ]
  },
  {
   "cell_type": "code",
   "execution_count": 13,
   "id": "8b09918c-6c3c-4138-92f5-fde255c57bed",
   "metadata": {},
   "outputs": [
    {
     "name": "stdout",
     "output_type": "stream",
     "text": [
      "set()\n"
     ]
    },
    {
     "data": {
      "text/plain": [
       "set"
      ]
     },
     "execution_count": 13,
     "metadata": {},
     "output_type": "execute_result"
    }
   ],
   "source": [
    "#create an empty set\n",
    "empty_set=set()\n",
    "print(empty_set)\n",
    "type(empty_set)"
   ]
  },
  {
   "cell_type": "code",
   "execution_count": 15,
   "id": "c5b9aedd-bf57-465b-9bf4-9f287239b5ed",
   "metadata": {},
   "outputs": [
    {
     "name": "stdout",
     "output_type": "stream",
     "text": [
      "<class 'set'>\n"
     ]
    }
   ],
   "source": [
    "empty_set=set()\n",
    "print(type(empty_set))"
   ]
  },
  {
   "cell_type": "code",
   "execution_count": 19,
   "id": "52adacca-f492-442b-a469-23f56148c134",
   "metadata": {},
   "outputs": [
    {
     "name": "stdout",
     "output_type": "stream",
     "text": [
      "{56, 10, 11, 20}\n"
     ]
    }
   ],
   "source": [
    "myset={10,20,11,10,10,56}\n",
    "print(myset)"
   ]
  },
  {
   "cell_type": "code",
   "execution_count": 33,
   "id": "c98d3999-4d57-4f22-aa18-df8cf9d29b95",
   "metadata": {},
   "outputs": [
    {
     "data": {
      "text/plain": [
       "{10, 20, 30, 40, 50}"
      ]
     },
     "execution_count": 33,
     "metadata": {},
     "output_type": "execute_result"
    }
   ],
   "source": [
    "set1={10,20,30}\n",
    "set2={30,40,50}\n",
    "set1.union(set2)\n"
   ]
  },
  {
   "cell_type": "code",
   "execution_count": 29,
   "id": "40a6123b-9009-4e3c-8ce0-b96fe587fc71",
   "metadata": {},
   "outputs": [
    {
     "data": {
      "text/plain": [
       "{10, 20, 30, 40, 50}"
      ]
     },
     "execution_count": 29,
     "metadata": {},
     "output_type": "execute_result"
    }
   ],
   "source": [
    "set1={10,20,30}\n",
    "set2={30,40,50}\n",
    "set1 | set2"
   ]
  },
  {
   "cell_type": "code",
   "execution_count": 35,
   "id": "5373387e-9b15-45e8-9c87-974d73156fff",
   "metadata": {},
   "outputs": [
    {
     "name": "stdout",
     "output_type": "stream",
     "text": [
      "<class 'set'>\n"
     ]
    }
   ],
   "source": [
    "#empty set making\n",
    "empty_sett=set()\n",
    "print(type(empty_sett))"
   ]
  },
  {
   "cell_type": "code",
   "execution_count": 39,
   "id": "6df15053-a3cf-48e2-9afe-44cbb9e796ae",
   "metadata": {},
   "outputs": [
    {
     "name": "stdout",
     "output_type": "stream",
     "text": [
      "<class 'set'>\n"
     ]
    }
   ],
   "source": [
    "#creating non-empty set\n",
    "non_emptyset={3,4,5,3,3,\"d\",\"f\"}\n",
    "print(type(non_emptyset))\n"
   ]
  },
  {
   "cell_type": "code",
   "execution_count": null,
   "id": "1337dea8-1f36-47f1-bc98-9632bfbf4528",
   "metadata": {},
   "outputs": [],
   "source": [
    "# Union in Set (Python)\n",
    "# The union of two sets combines all unique elements from both sets.\n",
    "#set1.union(set2)\n",
    "#Using | operator:-   set1 | set2\n",
    "# This returns a new set with all unique elements from both sets, including common elements only once.\n",
    "# But — if you don't store or print the result, you won’t see it.\n"
   ]
  },
  {
   "cell_type": "code",
   "execution_count": 47,
   "id": "077dc126-269d-4b1e-ad83-ca2829920d8d",
   "metadata": {},
   "outputs": [],
   "source": [
    "# | Method             | Description                                     | Example            |\n",
    "# | ------------------ | ----------------------------------------------- | ------------------ |\n",
    "# | `add(elem)`        | Adds a single element to the set                | `s.add(10)`        |\n",
    "# | `update(iterable)`|Adds multiple elements(from list/set/tuple/dict-keys)| `s.update([4, 5])|\n",
    "# | `remove(elem)`     | Removes an element; ❌ throws error if not found | `s.remove(3)`      |\n",
    "# | `discard(elem)`    | Removes an element; ✅ no error if not found     | `s.discard(3)`     |\n",
    "# | `pop()`            | Removes and returns any random element from set  | `s.pop()`          |\n",
    "# | `clear()`          | Empties the entire set                          | `s.clear()`        |\n"
   ]
  },
  {
   "cell_type": "code",
   "execution_count": 49,
   "id": "730bdace-16c3-4738-8419-d114cce43066",
   "metadata": {},
   "outputs": [],
   "source": [
    "# | Method                       | Description                                                   | Example                       |\n",
    "# | ---------------------------- | ------------------------------------------------------------- | ----------------------------- |\n",
    "# | `union(set2)`                | Returns a new set with all elements from both sets (no dupes) | `s1.union(s2)`                |\n",
    "# | `intersection(set2)`         | Returns common elements of both sets                          | `s1.intersection(s2)`         |\n",
    "# | `difference(set2)`           | Returns elements in `s1` but not in `s2`                      | `s1.difference(s2)`           |\n",
    "# | `symmetric_difference(set2)` | Elements in either set, but not both                          | `s1.symmetric_difference(s2)` |\n"
   ]
  },
  {
   "cell_type": "code",
   "execution_count": 51,
   "id": "10fdc92e-66b4-441c-925d-95842af6a1db",
   "metadata": {},
   "outputs": [],
   "source": [
    "# | Method             | Description                                    | Example             |\n",
    "# | ------------------ | ---------------------------------------------- | ------------------- |\n",
    "# | `issubset(set2)`   | Checks if all elements of this set are in set2 | `s1.issubset(s2)`   |\n",
    "# | `issuperset(set2)` | Checks if this set has all elements of set2    | `s1.issuperset(s2)` |\n",
    "# | `isdisjoint(set2)` | Checks if sets have no common elements         | `s1.isdisjoint(s2)` |\n"
   ]
  },
  {
   "cell_type": "code",
   "execution_count": 53,
   "id": "904b4fe4-adb5-4990-968c-2a50aae17c3e",
   "metadata": {},
   "outputs": [],
   "source": [
    "# A = {1, 2, 3}\n",
    "# B = {3, 4, 5}\n",
    "\n",
    "# print(A.union(B))             # {1, 2, 3, 4, 5}\n",
    "# print(A.intersection(B))      # {3}\n",
    "# print(A.difference(B))        # {1, 2}\n",
    "# print(A.symmetric_difference(B))  # {1, 2, 4, 5}\n"
   ]
  },
  {
   "cell_type": "code",
   "execution_count": 55,
   "id": "3423592b-9458-4698-86d3-61a8a6334d40",
   "metadata": {},
   "outputs": [
    {
     "name": "stdout",
     "output_type": "stream",
     "text": [
      "{999, 10, 11, 20, 56}\n"
     ]
    }
   ],
   "source": [
    "myset1={10,20,11,10,10,56}\n",
    "myset1.add(999)\n",
    "print(myset1)\n",
    "#add is used to insert an element in set\n",
    "#set inserts data at random position"
   ]
  },
  {
   "cell_type": "code",
   "execution_count": 63,
   "id": "ee149298-baca-4020-8da0-1902bc2cdd1a",
   "metadata": {},
   "outputs": [
    {
     "name": "stdout",
     "output_type": "stream",
     "text": [
      "{'a', 3, 53, 6, 5000, 56, 45}\n"
     ]
    }
   ],
   "source": [
    "s1={3,45,53,3,56,6}\n",
    "s1.update({\"a\":4,5000:\"s\"})\n",
    "print(s1)\n",
    "#update using dictionary"
   ]
  },
  {
   "cell_type": "code",
   "execution_count": 75,
   "id": "ad5a1282-9a59-417a-9a53-74d7eecc4d3b",
   "metadata": {},
   "outputs": [
    {
     "name": "stdout",
     "output_type": "stream",
     "text": [
      "{3, 6, 'a', 'l', 'd', 45, 53, 's', 56}\n"
     ]
    }
   ],
   "source": [
    "s2={3,45,53,3,56,6}\n",
    "s2.update((\"a\",\"s\",\"d\",\"l\"))\n",
    "print(s2)\n",
    "#update using tuple"
   ]
  },
  {
   "cell_type": "code",
   "execution_count": 79,
   "id": "2c58f5db-1b3f-41e5-af55-cb54d3753f50",
   "metadata": {},
   "outputs": [
    {
     "name": "stdout",
     "output_type": "stream",
     "text": [
      "{3, 6, 'a', 'l', 'd', 45, 53, 's', 56}\n"
     ]
    }
   ],
   "source": [
    "s3={3,45,53,3,56,6}\n",
    "s3.update([\"a\",\"s\",\"d\",\"l\"])\n",
    "print(s3)\n",
    "#update using list"
   ]
  },
  {
   "cell_type": "code",
   "execution_count": 81,
   "id": "28ca622c-af68-4db6-8072-0f97207a2122",
   "metadata": {},
   "outputs": [
    {
     "name": "stdout",
     "output_type": "stream",
     "text": [
      "{'l', 3, 6, 'd', 45, 'a', 53, 's', 56}\n"
     ]
    }
   ],
   "source": [
    "s4={3,45,53,3,56,6}\n",
    "s4.update({\"a\",\"s\",\"d\",\"l\"})\n",
    "print(s4)\n",
    "#update using set itself"
   ]
  },
  {
   "cell_type": "code",
   "execution_count": 57,
   "id": "35233fb5-9275-49e4-b2d5-47294068622d",
   "metadata": {},
   "outputs": [
    {
     "name": "stdout",
     "output_type": "stream",
     "text": [
      "{56, 11, 20}\n"
     ]
    }
   ],
   "source": [
    "#discard and remove ise used to remove any element is set\n",
    "myset2={10,20,11,10,10,56}\n",
    "myset2.discard(10)\n",
    "print(myset2)"
   ]
  },
  {
   "cell_type": "code",
   "execution_count": 85,
   "id": "3d3714e3-fcc6-4a03-bfeb-4461faeb0585",
   "metadata": {},
   "outputs": [
    {
     "name": "stdout",
     "output_type": "stream",
     "text": [
      "{56, 10, 11, 20}\n"
     ]
    }
   ],
   "source": [
    "myset3={10,20,11,10,10,56}\n",
    "myset3.discard(1)\n",
    "print(myset3)\n",
    "#discard gives no error even if the element is not found"
   ]
  },
  {
   "cell_type": "code",
   "execution_count": 87,
   "id": "20729b19-9d97-404e-b272-f073bfce990a",
   "metadata": {},
   "outputs": [
    {
     "name": "stdout",
     "output_type": "stream",
     "text": [
      "{56, 11, 20}\n"
     ]
    }
   ],
   "source": [
    "myset4={10,20,11,10,10,56}\n",
    "myset4.remove(10)\n",
    "print(myset4)"
   ]
  },
  {
   "cell_type": "code",
   "execution_count": 91,
   "id": "e4545aff-0acc-477e-ad87-70a68b8cf46a",
   "metadata": {},
   "outputs": [
    {
     "ename": "KeyError",
     "evalue": "1000",
     "output_type": "error",
     "traceback": [
      "\u001b[1;31m---------------------------------------------------------------------------\u001b[0m",
      "\u001b[1;31mKeyError\u001b[0m                                  Traceback (most recent call last)",
      "Cell \u001b[1;32mIn[91], line 2\u001b[0m\n\u001b[0;32m      1\u001b[0m myset5\u001b[38;5;241m=\u001b[39m{\u001b[38;5;241m10\u001b[39m,\u001b[38;5;241m20\u001b[39m,\u001b[38;5;241m11\u001b[39m,\u001b[38;5;241m10\u001b[39m,\u001b[38;5;241m10\u001b[39m,\u001b[38;5;241m56\u001b[39m}\n\u001b[1;32m----> 2\u001b[0m myset5\u001b[38;5;241m.\u001b[39mremove(\u001b[38;5;241m1000\u001b[39m)\n\u001b[0;32m      3\u001b[0m \u001b[38;5;28mprint\u001b[39m(myset5)\n",
      "\u001b[1;31mKeyError\u001b[0m: 1000"
     ]
    }
   ],
   "source": [
    "myset5={10,20,11,10,10,56}\n",
    "myset5.remove(1000)\n",
    "print(myset5)"
   ]
  },
  {
   "cell_type": "code",
   "execution_count": 99,
   "id": "aca8fec2-f54a-456c-9452-53d79c6427ba",
   "metadata": {},
   "outputs": [
    {
     "name": "stdout",
     "output_type": "stream",
     "text": [
      "2 {3, 5, 6, 7}\n"
     ]
    }
   ],
   "source": [
    "s5={7,3,2,5,6}\n",
    "x=s5.pop()\n",
    "print(x,s5)\n",
    "\n",
    "#pop removed random element from set, also stored it in a variable"
   ]
  },
  {
   "cell_type": "code",
   "execution_count": 101,
   "id": "25fcffee-68f9-4b54-b33b-7acea98a2f69",
   "metadata": {},
   "outputs": [
    {
     "name": "stdout",
     "output_type": "stream",
     "text": [
      "set()\n"
     ]
    }
   ],
   "source": [
    "s5={7,3,2,5,6,\"k\",\"o\"}\n",
    "s5.clear()\n",
    "print(s5)"
   ]
  },
  {
   "cell_type": "code",
   "execution_count": null,
   "id": "0f14e9c7-f060-47ea-885d-186355cbaea7",
   "metadata": {},
   "outputs": [],
   "source": []
  }
 ],
 "metadata": {
  "kernelspec": {
   "display_name": "Python 3 (ipykernel)",
   "language": "python",
   "name": "python3"
  },
  "language_info": {
   "codemirror_mode": {
    "name": "ipython",
    "version": 3
   },
   "file_extension": ".py",
   "mimetype": "text/x-python",
   "name": "python",
   "nbconvert_exporter": "python",
   "pygments_lexer": "ipython3",
   "version": "3.12.4"
  }
 },
 "nbformat": 4,
 "nbformat_minor": 5
}
