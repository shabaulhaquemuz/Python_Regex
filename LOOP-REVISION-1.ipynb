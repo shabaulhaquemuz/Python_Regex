{
 "cells": [
  {
   "cell_type": "code",
   "execution_count": 5,
   "id": "c1926ba9-0fe7-4a8e-a27d-f94f282f371d",
   "metadata": {},
   "outputs": [
    {
     "name": "stdout",
     "output_type": "stream",
     "text": [
      "1 2 3 4 5 6 7 8 9 10 "
     ]
    }
   ],
   "source": [
    " # Print 1 to 10 using a for loop.\n",
    "for i in range(1,11):\n",
    "    print(i,end=\" \")"
   ]
  },
  {
   "cell_type": "code",
   "execution_count": 7,
   "id": "b036d5cd-73de-4d3e-b82c-f92e6f875079",
   "metadata": {},
   "outputs": [
    {
     "name": "stdout",
     "output_type": "stream",
     "text": [
      "2 4 6 8 10 12 14 16 18 "
     ]
    }
   ],
   "source": [
    "# 2️⃣ Print all even numbers between 1 and 20 using a while loop.\n",
    "i=2\n",
    "while(i<20):\n",
    "    if(i%2==0):\n",
    "        print(i,end=\" \")\n",
    "    i+=1"
   ]
  },
  {
   "cell_type": "code",
   "execution_count": 9,
   "id": "8dace8dd-4c0f-443e-b1e5-ff5d4291d4b6",
   "metadata": {},
   "outputs": [],
   "source": [
    "# | **Phrase**           | **Range it Represents** |\n",
    "# | -------------------- | ----------------------- |\n",
    "# | **From 1 to 20**     | Includes **1 and 20**   |\n",
    "# | **Between 1 and 20** | **Excludes 1 and 20**   |\n"
   ]
  },
  {
   "cell_type": "code",
   "execution_count": 19,
   "id": "77c3e264-260c-4141-a3af-fa79f43fdb27",
   "metadata": {},
   "outputs": [
    {
     "name": "stdin",
     "output_type": "stream",
     "text": [
      "enter a number: 5\n"
     ]
    },
    {
     "name": "stdout",
     "output_type": "stream",
     "text": [
      "5 * 1 = 5\n",
      "5 * 2 = 10\n",
      "5 * 3 = 15\n",
      "5 * 4 = 20\n",
      "5 * 5 = 25\n",
      "5 * 6 = 30\n",
      "5 * 7 = 35\n",
      "5 * 8 = 40\n",
      "5 * 9 = 45\n",
      "5 * 10 = 50\n"
     ]
    }
   ],
   "source": [
    "# 3️⃣ Write a loop that prints the multiplication table of 5 (from 5 × 1 to 5 × 10).\n",
    "num=int(input(\"enter a number:\"))\n",
    "for i in range(1,11):\n",
    "    print(num,\"*\",i,\"=\",num*i)"
   ]
  },
  {
   "cell_type": "code",
   "execution_count": 25,
   "id": "91ea0e1d-d24f-42cd-82a9-de05147b1f7f",
   "metadata": {},
   "outputs": [
    {
     "name": "stdin",
     "output_type": "stream",
     "text": [
      "enter a number: 6\n"
     ]
    },
    {
     "name": "stdout",
     "output_type": "stream",
     "text": [
      "6 * 1 = 6\n",
      "6 * 2 = 12\n",
      "6 * 3 = 18\n",
      "6 * 4 = 24\n",
      "6 * 5 = 30\n",
      "6 * 6 = 36\n",
      "6 * 7 = 42\n",
      "6 * 8 = 48\n",
      "6 * 9 = 54\n",
      "6 * 10 = 60\n"
     ]
    }
   ],
   "source": [
    "n=int(input(\"enter a number:\"))\n",
    "i=1\n",
    "while(i<=10):\n",
    "    print(n,\"*\",i,\"=\",n*i)\n",
    "    i+=1\n"
   ]
  },
  {
   "cell_type": "code",
   "execution_count": 31,
   "id": "6802d66f-3742-4afa-9d7c-2525dfe055e3",
   "metadata": {},
   "outputs": [
    {
     "name": "stdin",
     "output_type": "stream",
     "text": [
      "enter the number: 5\n"
     ]
    },
    {
     "name": "stdout",
     "output_type": "stream",
     "text": [
      "15\n"
     ]
    }
   ],
   "source": [
    "# 4️⃣ Take a number n2 from the user and calculate the sum of all numbers from 1 to n using a loop.\n",
    "n2=int(input(\"enter the number:\"))\n",
    "sum_all=0\n",
    "i=1\n",
    "while(i<=n2):\n",
    "    sum_all+=i\n",
    "    i+=1\n",
    "print(sum_all)"
   ]
  },
  {
   "cell_type": "code",
   "execution_count": 35,
   "id": "e6018436-1174-4c16-8b43-cc6efd5d0a0a",
   "metadata": {},
   "outputs": [
    {
     "name": "stdin",
     "output_type": "stream",
     "text": [
      "enter the number: 5\n"
     ]
    },
    {
     "name": "stdout",
     "output_type": "stream",
     "text": [
      "15\n"
     ]
    }
   ],
   "source": [
    "n3=int(input(\"enter the number:\"))\n",
    "sum_num=0\n",
    "for i in range(1,n3+1):\n",
    "    sum_num+=i\n",
    "print(sum_num)"
   ]
  },
  {
   "cell_type": "code",
   "execution_count": 39,
   "id": "ce0e09a6-ddd3-41ac-abb2-d6bef9ab7763",
   "metadata": {},
   "outputs": [
    {
     "name": "stdout",
     "output_type": "stream",
     "text": [
      "*\n",
      "**\n",
      "***\n",
      "****\n",
      "*****\n"
     ]
    }
   ],
   "source": [
    "# 5️⃣ Print the following pattern using a loop:\n",
    "# *  \n",
    "# **  \n",
    "# ***  \n",
    "# ****  \n",
    "# *****  \n",
    "for i in range(1,6):\n",
    "    for j in range(1,i+1):\n",
    "        print(\"*\",end=\"\")\n",
    "    print()"
   ]
  },
  {
   "cell_type": "code",
   "execution_count": 43,
   "id": "fa473417-bf6c-41e1-9876-8b4c6a85e766",
   "metadata": {},
   "outputs": [
    {
     "name": "stdin",
     "output_type": "stream",
     "text": [
      "enter the number: 5\n"
     ]
    },
    {
     "name": "stdout",
     "output_type": "stream",
     "text": [
      "5 4 3 2 1 "
     ]
    }
   ],
   "source": [
    "#Write a program to print all natural numbers in reverse (from n to 1). –using while loop\n",
    "n4=int(input(\"enter the number:\"))\n",
    "while(n4>=1):\n",
    "    print(n4,end=\" \")\n",
    "    n4-=1"
   ]
  },
  {
   "cell_type": "code",
   "execution_count": 47,
   "id": "1e5099af-d7c3-4c3d-8a3c-42419eadbea7",
   "metadata": {},
   "outputs": [
    {
     "name": "stdin",
     "output_type": "stream",
     "text": [
      "enter the number: 5\n"
     ]
    },
    {
     "name": "stdout",
     "output_type": "stream",
     "text": [
      "5 4 3 2 1 "
     ]
    }
   ],
   "source": [
    "n5=int(input(\"enter the number:\"))\n",
    "for i in range(n5,0,-1):\n",
    "    print(i,end=\" \")"
   ]
  },
  {
   "cell_type": "code",
   "execution_count": 49,
   "id": "06ef6d4b-80f5-4bca-b52d-b237d6f43c3f",
   "metadata": {},
   "outputs": [
    {
     "name": "stdout",
     "output_type": "stream",
     "text": [
      "a b c d e f g h i j k l m n o p q r s t u v w x y z "
     ]
    }
   ],
   "source": [
    "#3. Write a program to print all alphabets from a to z. – using while loop\n",
    "i=97\n",
    "while(i<=122):\n",
    "    print(chr(i),end=\" \")\n",
    "    i+=1"
   ]
  },
  {
   "cell_type": "code",
   "execution_count": 53,
   "id": "b8b678f4-cf99-41a5-9c6d-6a183d810c71",
   "metadata": {},
   "outputs": [
    {
     "name": "stdout",
     "output_type": "stream",
     "text": [
      "a b c d e f g h i j k l m n o p q r s t u v w x y z "
     ]
    }
   ],
   "source": [
    "for i in range(97,123):\n",
    "    print(chr(i),end=\" \")\n",
    "    "
   ]
  },
  {
   "cell_type": "code",
   "execution_count": 1,
   "id": "3b9e787c-2834-4ee0-89a1-6104dfeebf8f",
   "metadata": {},
   "outputs": [
    {
     "name": "stdin",
     "output_type": "stream",
     "text": [
      "enter the number: 9\n"
     ]
    },
    {
     "name": "stdout",
     "output_type": "stream",
     "text": [
      "15\n"
     ]
    }
   ],
   "source": [
    "#5. Write a program to find the sum of all odd numbers between 1 to n.\n",
    "n6=int(input(\"enter the number:\"))\n",
    "sum_odd=0\n",
    "i=2\n",
    "while(i<n6):\n",
    "    if(i%2!=0):\n",
    "        sum_odd+=i\n",
    "    i+=1\n",
    "print(sum_odd)"
   ]
  },
  {
   "cell_type": "code",
   "execution_count": 5,
   "id": "5efbc191-165c-4dbf-b031-38edfc4106e8",
   "metadata": {},
   "outputs": [
    {
     "name": "stdin",
     "output_type": "stream",
     "text": [
      "enter the number: 7\n"
     ]
    },
    {
     "name": "stdout",
     "output_type": "stream",
     "text": [
      "8\n"
     ]
    }
   ],
   "source": [
    "n7=int(input(\"enter the number:\"))\n",
    "sum_od=0\n",
    "for i in range(2,n7):\n",
    "    if(i%2!=0):\n",
    "        sum_od+=i\n",
    "print(sum_od)"
   ]
  },
  {
   "cell_type": "code",
   "execution_count": 13,
   "id": "f37c76f9-8924-4f7a-acd9-a2bf6216c56e",
   "metadata": {},
   "outputs": [
    {
     "name": "stdin",
     "output_type": "stream",
     "text": [
      "enter the number: 9876544\n"
     ]
    },
    {
     "name": "stdout",
     "output_type": "stream",
     "text": [
      "7\n"
     ]
    }
   ],
   "source": [
    "#6. Write a program to count the number of digits in a number.\n",
    "number=int(input(\"enter the number:\"))\n",
    "count=0\n",
    "while(number>0):\n",
    "    number=number//10\n",
    "    count+=1\n",
    "print(count)"
   ]
  },
  {
   "cell_type": "code",
   "execution_count": 21,
   "id": "88c85261-62ba-427b-853e-7a4c5975b981",
   "metadata": {},
   "outputs": [
    {
     "name": "stdin",
     "output_type": "stream",
     "text": [
      "enter the number: 98765432\n"
     ]
    },
    {
     "name": "stdout",
     "output_type": "stream",
     "text": [
      "8\n"
     ]
    }
   ],
   "source": [
    "number2=int(input(\"enter the number:\"))\n",
    "count=0\n",
    "length=len(str(number2))\n",
    "for i in range(length):\n",
    "    number2=number2//10\n",
    "    count+=1\n",
    "print(count)"
   ]
  },
  {
   "cell_type": "code",
   "execution_count": null,
   "id": "e889e097-ed72-4afd-bf13-0d9851ca5c10",
   "metadata": {},
   "outputs": [],
   "source": []
  }
 ],
 "metadata": {
  "kernelspec": {
   "display_name": "Python 3 (ipykernel)",
   "language": "python",
   "name": "python3"
  },
  "language_info": {
   "codemirror_mode": {
    "name": "ipython",
    "version": 3
   },
   "file_extension": ".py",
   "mimetype": "text/x-python",
   "name": "python",
   "nbconvert_exporter": "python",
   "pygments_lexer": "ipython3",
   "version": "3.12.4"
  }
 },
 "nbformat": 4,
 "nbformat_minor": 5
}
