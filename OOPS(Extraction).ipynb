{
 "cells": [
  {
   "cell_type": "code",
   "execution_count": 1,
   "id": "d0d7611a-cb6b-4de2-be10-f62a67e3b455",
   "metadata": {},
   "outputs": [],
   "source": [
    "#what is extraction in OOPS?\n",
    "#abstraction is a concept in oops that hides unnecessary details from the user and only shows the essential feature of the object\n",
    "#it allows us to focus on what an object does rather tgan how it does it\n",
    "#in abstraction there is a class that serves as a blueprint for other classes. we cant create an object directly from abstract class\n",
    "#a decorator(@): that defines methods in the abstract class but do not provide their implementation\n"
   ]
  },
  {
   "cell_type": "code",
   "execution_count": 11,
   "id": "51cfe2b2-769e-4b03-8681-5fd41385efee",
   "metadata": {},
   "outputs": [
    {
     "name": "stdout",
     "output_type": "stream",
     "text": [
      "circle area is: 78.5\n",
      "circle perimeter is: 31.400000000000002\n"
     ]
    }
   ],
   "source": [
    "from abc import ABC, abstractmethod\n",
    "#Abstract class\n",
    "class Shape(ABC):\n",
    "    @abstractmethod\n",
    "    def area(self):\n",
    "        pass #abstract method, no implementation\n",
    "    @abstractmethod\n",
    "    def perimeter(self):\n",
    "        pass #Abstract method, no implementation\n",
    "#Concrete class for circle\n",
    "class Circle(Shape):\n",
    "    def __init__(self,radius):\n",
    "        self.radius=radius\n",
    "    def area(self):\n",
    "        return 3.14*self.radius*self.radius\n",
    "    def perimeter(self):\n",
    "        return 2*3.14*self.radius\n",
    "#Using the classes\n",
    "circle=Circle(5)\n",
    "print(\"circle area is:\",circle.area())\n",
    "print(\"circle perimeter is:\",circle.perimeter())\n"
   ]
  },
  {
   "cell_type": "code",
   "execution_count": 29,
   "id": "c95d3462-cd23-4251-ae39-82569116493f",
   "metadata": {},
   "outputs": [
    {
     "name": "stdout",
     "output_type": "stream",
     "text": [
      "Credit Card payment of $100 processed.\n",
      "PayPal payment of $500 processed.\n"
     ]
    }
   ],
   "source": [
    "from abc import ABC, abstractmethod\n",
    "#Abstract class\n",
    "class Payment(ABC):\n",
    "    @abstractmethod\n",
    "    def make_payment(self, amount):\n",
    "        pass\n",
    "\n",
    "# Concrete class for Credit Card Payment\n",
    "class CreditCardPayment(Payment):\n",
    "    def make_payment (self, amount):\n",
    "        return f\"Credit Card payment of ${amount} processed.\"\n",
    "\n",
    "# Concrete class for PayPal Payment\n",
    "class PayPalPayment (Payment):\n",
    "    def make_payment (self, amount):\n",
    "        return f\"PayPal payment of ${amount} processed.\"\n",
    "# Using the classes\n",
    "payment1=CreditCardPayment()\n",
    "print(payment1.make_payment(100))\n",
    "\n",
    "payment2=PayPalPayment()\n",
    "print(payment2.make_payment(500))\n",
    "\n"
   ]
  },
  {
   "cell_type": "code",
   "execution_count": null,
   "id": "6fbb7815-939a-4260-b478-fec8d9c0d5b6",
   "metadata": {},
   "outputs": [],
   "source": [
    "#What is encapsulation in OOPS\n",
    "#Encapsulation is to bundling data(attributes) and methods(functions) that work on the data into a single unit usually a class\n",
    "#There are two types of attributes:\n",
    "#1. Public attributes 2. Private attributes\n",
    "#Why is encapsulation important: Encapsulation is importnat because it increases data security by restricting ubauthorized access.It promotes modularity\n",
    "#by hiding implementation details. It enables control over the data by providing control access through data. It enhances code maintainability and reuability\n",
    "#by protecting data from unintended modifications."
   ]
  }
 ],
 "metadata": {
  "kernelspec": {
   "display_name": "Python 3 (ipykernel)",
   "language": "python",
   "name": "python3"
  },
  "language_info": {
   "codemirror_mode": {
    "name": "ipython",
    "version": 3
   },
   "file_extension": ".py",
   "mimetype": "text/x-python",
   "name": "python",
   "nbconvert_exporter": "python",
   "pygments_lexer": "ipython3",
   "version": "3.12.4"
  }
 },
 "nbformat": 4,
 "nbformat_minor": 5
}
