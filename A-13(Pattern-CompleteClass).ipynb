{
 "cells": [
  {
   "cell_type": "code",
   "execution_count": 15,
   "id": "cde59dd2-e560-4665-90fb-d42f1971f02b",
   "metadata": {},
   "outputs": [
    {
     "name": "stdout",
     "output_type": "stream",
     "text": [
      "shabaul 1\n",
      "shabaul 2\n",
      "shabaul 3\n",
      "shabaul 4\n"
     ]
    }
   ],
   "source": [
    "for i in range(1,5):\n",
    "    print(\"shabaul\",i)\n",
    "    "
   ]
  },
  {
   "cell_type": "code",
   "execution_count": 13,
   "id": "fd96cf04-058b-437f-af2d-fcc3fca64e92",
   "metadata": {},
   "outputs": [
    {
     "name": "stdout",
     "output_type": "stream",
     "text": [
      "hello 1\n",
      "shabaul 1\n",
      "hello 2\n",
      "shabaul 1\n",
      "hello 3\n",
      "shabaul 1\n",
      "hello 4\n",
      "shabaul 1\n"
     ]
    }
   ],
   "source": [
    "for i in range(1,5):\n",
    "    print(\"hello\",i)\n",
    "    for j in range(1,2):\n",
    "        print(\"shabaul\",j)"
   ]
  },
  {
   "cell_type": "code",
   "execution_count": 7,
   "id": "994a2cd7-4007-4881-84a6-50b9fdc52c4e",
   "metadata": {},
   "outputs": [
    {
     "name": "stdout",
     "output_type": "stream",
     "text": [
      "hello 1\n",
      "shabaul 1\n",
      "shabaul 2\n",
      "shabaul 3\n",
      "shabaul 4\n",
      "hello 2\n",
      "shabaul 1\n",
      "shabaul 2\n",
      "shabaul 3\n",
      "shabaul 4\n",
      "hello 3\n",
      "shabaul 1\n",
      "shabaul 2\n",
      "shabaul 3\n",
      "shabaul 4\n",
      "hello 4\n",
      "shabaul 1\n",
      "shabaul 2\n",
      "shabaul 3\n",
      "shabaul 4\n"
     ]
    }
   ],
   "source": [
    "for i in range(1,5):\n",
    "    print(\"hello\",i)\n",
    "    for j in range(1,5):\n",
    "        print(\"shabaul\",j)"
   ]
  },
  {
   "cell_type": "code",
   "execution_count": 35,
   "id": "e8804904-0edc-422d-8e29-50ad9316763d",
   "metadata": {},
   "outputs": [
    {
     "name": "stdout",
     "output_type": "stream",
     "text": [
      "hello 1 shabaul 1 shabaul 2 shabaul 3 shabaul 4 \n",
      "hello 2 shabaul 1 shabaul 2 shabaul 3 shabaul 4 \n",
      "hello 3 shabaul 1 shabaul 2 shabaul 3 shabaul 4 \n",
      "hello 4 shabaul 1 shabaul 2 shabaul 3 shabaul 4 \n"
     ]
    }
   ],
   "source": [
    "for i in range(1,5):\n",
    "    print(\"hello\",i,end=' ')\n",
    "    for j in range(1,5):\n",
    "        print(\"shabaul\",j,end=' ')\n",
    "    print()"
   ]
  },
  {
   "cell_type": "code",
   "execution_count": 45,
   "id": "7ddb1b61-75ba-49ee-b241-7589f8ea771b",
   "metadata": {},
   "outputs": [
    {
     "name": "stdout",
     "output_type": "stream",
     "text": [
      "shabaul\n",
      "haque\n"
     ]
    }
   ],
   "source": [
    "print(\"shabaul\")\n",
    "print(\"haque\")"
   ]
  },
  {
   "cell_type": "code",
   "execution_count": 43,
   "id": "57d9f659-00eb-4295-93c9-7c6a8c093ac1",
   "metadata": {},
   "outputs": [
    {
     "name": "stdout",
     "output_type": "stream",
     "text": [
      "shabaul\n",
      "haque\n"
     ]
    }
   ],
   "source": [
    "#In python, by default \"/n\" (new line character) is there i.e. end=\"\\n\".\n",
    "print(\"shabaul\",end=\"\\n\")\n",
    "print(\"haque\")"
   ]
  },
  {
   "cell_type": "code",
   "execution_count": 47,
   "id": "c8721b7d-c703-4099-ab54-59d2a31267a1",
   "metadata": {},
   "outputs": [
    {
     "name": "stdout",
     "output_type": "stream",
     "text": [
      "shabaul-haque\n"
     ]
    }
   ],
   "source": [
    "print(\"shabaul\",end=\"-\")\n",
    "print(\"haque\")"
   ]
  },
  {
   "cell_type": "code",
   "execution_count": 51,
   "id": "91bf4f15-f77c-4019-a161-4ba714b75c47",
   "metadata": {},
   "outputs": [
    {
     "name": "stdout",
     "output_type": "stream",
     "text": [
      "shabaulhaque\n"
     ]
    }
   ],
   "source": [
    "print(\"shabaul\",end=\"\")\n",
    "print(\"haque\")"
   ]
  },
  {
   "cell_type": "code",
   "execution_count": 53,
   "id": "364d42d5-78e0-4cdf-a385-febb3f2ee6a2",
   "metadata": {},
   "outputs": [
    {
     "name": "stdout",
     "output_type": "stream",
     "text": [
      "shabaul haque\n"
     ]
    }
   ],
   "source": [
    "print(\"shabaul\",end=\" \")\n",
    "print(\"haque\")"
   ]
  },
  {
   "cell_type": "code",
   "execution_count": 69,
   "id": "a34f275d-e297-4707-bea0-62bfe04f66d7",
   "metadata": {},
   "outputs": [
    {
     "name": "stdout",
     "output_type": "stream",
     "text": [
      "****\n",
      "****\n",
      "****\n",
      "****\n"
     ]
    }
   ],
   "source": [
    "for i in range(1,5):\n",
    "    for j in range(1,5):\n",
    "        print(\"*\",end=\"\")\n",
    "    print()"
   ]
  },
  {
   "cell_type": "code",
   "execution_count": 1,
   "id": "8109091e-431c-4a88-9caa-a1c736b84172",
   "metadata": {},
   "outputs": [
    {
     "name": "stdout",
     "output_type": "stream",
     "text": [
      "1111\n",
      "2222\n",
      "3333\n"
     ]
    }
   ],
   "source": [
    "n=1\n",
    "for i in range(1,4):\n",
    "    for j in range(1,5):\n",
    "        print(n,end='')\n",
    "    print()\n",
    "    n+=1"
   ]
  },
  {
   "cell_type": "code",
   "execution_count": 3,
   "id": "889e4a59-64e4-43ed-b94e-295249ed2a12",
   "metadata": {},
   "outputs": [
    {
     "name": "stdout",
     "output_type": "stream",
     "text": [
      "3333\n",
      "2222\n",
      "1111\n"
     ]
    }
   ],
   "source": [
    "n=3\n",
    "for i in range(1,4):\n",
    "    for j in range(1,5):\n",
    "        print(n,end=\"\")\n",
    "    print()\n",
    "    n-=1\n",
    "    "
   ]
  },
  {
   "cell_type": "code",
   "execution_count": 5,
   "id": "a578d408-8b14-4f08-b992-05343fd5b1d6",
   "metadata": {},
   "outputs": [
    {
     "name": "stdout",
     "output_type": "stream",
     "text": [
      "234\n",
      "234\n",
      "234\n"
     ]
    }
   ],
   "source": [
    "for i in range(1,4):\n",
    "    n=2\n",
    "    for j in range(1,4):\n",
    "        print(n,end=\"\")\n",
    "        n+=1\n",
    "    print()"
   ]
  },
  {
   "cell_type": "code",
   "execution_count": 7,
   "id": "0ee9cd23-9c98-4fee-95a4-a44d3c83ef6d",
   "metadata": {},
   "outputs": [
    {
     "name": "stdout",
     "output_type": "stream",
     "text": [
      "123\n",
      "456\n",
      "789\n"
     ]
    }
   ],
   "source": [
    "n=1\n",
    "for i in range(1,4):\n",
    "    for j in range(1,4):\n",
    "        print(n,end=\"\")\n",
    "        n+=1\n",
    "    print()"
   ]
  },
  {
   "cell_type": "code",
   "execution_count": 13,
   "id": "bc82089a-7e86-4a70-8754-d88a69ebf01b",
   "metadata": {},
   "outputs": [
    {
     "name": "stdout",
     "output_type": "stream",
     "text": [
      "987\n",
      "654\n",
      "321\n"
     ]
    }
   ],
   "source": [
    "n=9\n",
    "for i in range(1,4):\n",
    "    for j in range(1,4):\n",
    "        print(n,end='')\n",
    "        n-=1\n",
    "    print()"
   ]
  },
  {
   "cell_type": "code",
   "execution_count": 19,
   "id": "753c01e6-c550-486a-99bd-5540faaf9747",
   "metadata": {},
   "outputs": [
    {
     "name": "stdout",
     "output_type": "stream",
     "text": [
      "*\n",
      "**\n",
      "***\n",
      "****\n"
     ]
    }
   ],
   "source": [
    "for i in range(1,5):\n",
    "    for j in range(1,i+1):\n",
    "        print(\"*\",end=\"\")\n",
    "    print()"
   ]
  },
  {
   "cell_type": "code",
   "execution_count": 21,
   "id": "9dfa8229-7a3c-4ef8-9fca-45b898df72fe",
   "metadata": {},
   "outputs": [
    {
     "name": "stdout",
     "output_type": "stream",
     "text": [
      "5\n",
      "55\n",
      "555\n",
      "5555\n"
     ]
    }
   ],
   "source": [
    "for i in range(1,5):\n",
    "    for j in range(1,i+1):\n",
    "        print(\"5\",end=\"\")\n",
    "    print()"
   ]
  },
  {
   "cell_type": "code",
   "execution_count": 25,
   "id": "3c14a3bc-1a16-424c-9c05-382e717b4b11",
   "metadata": {},
   "outputs": [
    {
     "name": "stdout",
     "output_type": "stream",
     "text": [
      "5\n",
      "55\n",
      "555\n",
      "5555\n"
     ]
    }
   ],
   "source": [
    "n=5\n",
    "for i in range(1,5):\n",
    "    for j in range(1,i+1):\n",
    "        print(n,end=\"\")\n",
    "    print()"
   ]
  },
  {
   "cell_type": "code",
   "execution_count": 27,
   "id": "c53f3b9b-4b4c-4f8a-9f65-c5d2ddf2e317",
   "metadata": {},
   "outputs": [
    {
     "name": "stdout",
     "output_type": "stream",
     "text": [
      "1\n",
      "12\n",
      "123\n"
     ]
    }
   ],
   "source": [
    "for i in range(1,4):\n",
    "    n=1\n",
    "    for j in range(1,i+1):\n",
    "        print(n,end=\"\")\n",
    "        n+=1\n",
    "    print()"
   ]
  },
  {
   "cell_type": "code",
   "execution_count": 29,
   "id": "1883b52d-8d9c-41e2-b172-85c351ad7e82",
   "metadata": {},
   "outputs": [
    {
     "name": "stdout",
     "output_type": "stream",
     "text": [
      "7\n",
      "65\n",
      "432\n"
     ]
    }
   ],
   "source": [
    "n=7\n",
    "for i in range(1,4):\n",
    "    for j in range(1,i+1):\n",
    "        print(n,end=\"\")\n",
    "        n-=1\n",
    "    print()\n",
    "    "
   ]
  },
  {
   "cell_type": "code",
   "execution_count": 31,
   "id": "f7a4c46e-db8e-4d5e-ba66-cd1cd6c1c064",
   "metadata": {},
   "outputs": [
    {
     "name": "stdout",
     "output_type": "stream",
     "text": [
      "7\n",
      "66\n",
      "555\n",
      "4444\n"
     ]
    }
   ],
   "source": [
    "n=7\n",
    "for i in range(1,5):\n",
    "    for j in range(1,i+1):\n",
    "        print(n,end=\"\")\n",
    "    print()\n",
    "    n-=1"
   ]
  },
  {
   "cell_type": "code",
   "execution_count": 43,
   "id": "5a928bb8-9368-40be-b2be-c11e1cec3045",
   "metadata": {},
   "outputs": [
    {
     "name": "stdout",
     "output_type": "stream",
     "text": [
      "1 \n",
      "2 3 \n",
      "4 5 6 \n",
      "7 8 9 10 \n"
     ]
    }
   ],
   "source": [
    "n=1\n",
    "for i in range(1,5):\n",
    "    for j in range(1,i+1):\n",
    "        print(n,end=' ')\n",
    "        n+=1\n",
    "    print()"
   ]
  },
  {
   "cell_type": "code",
   "execution_count": 41,
   "id": "ea60f49c-b278-43f3-a184-8286635623da",
   "metadata": {},
   "outputs": [
    {
     "name": "stdout",
     "output_type": "stream",
     "text": [
      "65 \n",
      "65 66 \n",
      "65 66 67 \n"
     ]
    }
   ],
   "source": [
    "for i in range(1,4):\n",
    "    n=65\n",
    "    for j in range(1,i+1):\n",
    "        print(n,end=\" \")\n",
    "        n+=1\n",
    "    print()"
   ]
  },
  {
   "cell_type": "code",
   "execution_count": 45,
   "id": "44919db1-5303-4db6-8213-f4cdaf953aa9",
   "metadata": {},
   "outputs": [
    {
     "name": "stdout",
     "output_type": "stream",
     "text": [
      "****\n",
      "***\n",
      "**\n",
      "*\n"
     ]
    }
   ],
   "source": [
    "for i in range(1,5):\n",
    "    for j in range(1,6-i):\n",
    "        print(\"*\",end=\"\")\n",
    "    print()\n"
   ]
  },
  {
   "cell_type": "code",
   "execution_count": 47,
   "id": "d9197e36-0fbc-447d-8ec9-2d7bf2020851",
   "metadata": {},
   "outputs": [
    {
     "name": "stdout",
     "output_type": "stream",
     "text": [
      "1111\n",
      "222\n",
      "33\n",
      "4\n"
     ]
    }
   ],
   "source": [
    "n=1\n",
    "for i in range(1,5):\n",
    "    for j in range(1,6-i):\n",
    "        print(n,end=\"\")\n",
    "    n+=1\n",
    "    print()"
   ]
  },
  {
   "cell_type": "code",
   "execution_count": 49,
   "id": "629b6251-10bf-4b7c-998b-f6816d096316",
   "metadata": {},
   "outputs": [
    {
     "name": "stdout",
     "output_type": "stream",
     "text": [
      "1234\n",
      "123\n",
      "12\n",
      "1\n"
     ]
    }
   ],
   "source": [
    "for i in range(1,5):\n",
    "    n=1\n",
    "    for j in range(1,6-i):\n",
    "        print(n,end=\"\")\n",
    "        n+=1\n",
    "    print()"
   ]
  },
  {
   "cell_type": "code",
   "execution_count": 51,
   "id": "8302ae3f-69fe-4768-98ef-168ff51a878f",
   "metadata": {},
   "outputs": [
    {
     "name": "stdout",
     "output_type": "stream",
     "text": [
      "4321\n",
      "432\n",
      "43\n",
      "4\n"
     ]
    }
   ],
   "source": [
    "for i in range(1,5):\n",
    "    n=4\n",
    "    for j in range(1,6-i):\n",
    "        print(n,end=\"\")\n",
    "        n-=1\n",
    "    print()"
   ]
  },
  {
   "cell_type": "code",
   "execution_count": 59,
   "id": "9becdbf4-b08f-4907-9912-b4206c31f16c",
   "metadata": {},
   "outputs": [
    {
     "name": "stdout",
     "output_type": "stream",
     "text": [
      "1  2  3  4  \n",
      "5  6  7  \n",
      "8  9  \n",
      "10  \n"
     ]
    }
   ],
   "source": [
    "n=1\n",
    "for i in range(1,5):\n",
    "    for j in range(1,6-i):\n",
    "        print(n,end=\"  \")\n",
    "        n+=1\n",
    "    print()"
   ]
  },
  {
   "cell_type": "code",
   "execution_count": 61,
   "id": "9b7d15a9-6b30-4166-9b07-18a344915ac6",
   "metadata": {},
   "outputs": [
    {
     "name": "stdout",
     "output_type": "stream",
     "text": [
      "A\n",
      "AB\n",
      "ABC\n"
     ]
    }
   ],
   "source": [
    "for i in range(1,4):\n",
    "    n=65\n",
    "    for j in range(1,i+1):\n",
    "        print(chr(n),end=\"\")\n",
    "        n+=1\n",
    "    print()"
   ]
  },
  {
   "cell_type": "code",
   "execution_count": 63,
   "id": "7c5a66b3-d966-44a7-b799-ed359160ff2d",
   "metadata": {},
   "outputs": [
    {
     "name": "stdout",
     "output_type": "stream",
     "text": [
      "ABCD\n",
      "ABC\n",
      "AB\n",
      "A\n"
     ]
    }
   ],
   "source": [
    "for i in range(1,5):\n",
    "    n=65\n",
    "    for j in range(1,6-i):\n",
    "        print(chr(n),end=\"\")\n",
    "        n+=1\n",
    "    print()"
   ]
  },
  {
   "cell_type": "code",
   "execution_count": 1,
   "id": "257a6994-e919-4efe-9233-24a036f70653",
   "metadata": {},
   "outputs": [
    {
     "name": "stdout",
     "output_type": "stream",
     "text": [
      "****\n",
      "***\n",
      "**\n",
      "*\n"
     ]
    }
   ],
   "source": [
    "for i in range(1,5):\n",
    "    for j in range(1,6-i):\n",
    "        print(\"*\",end=\"\")\n",
    "    print()"
   ]
  },
  {
   "cell_type": "code",
   "execution_count": 11,
   "id": "ae844042-fb0e-4986-8bcd-3e48f272a954",
   "metadata": {},
   "outputs": [
    {
     "name": "stdout",
     "output_type": "stream",
     "text": [
      "- - - * \n",
      "- - * * \n",
      "- * * * \n",
      "* * * * \n"
     ]
    }
   ],
   "source": [
    "for i in range(1,5):\n",
    "    for j in range(1,5-i):\n",
    "        print(\"-\",end=\" \")\n",
    "    for j in range(1,i+1):\n",
    "        print(\"*\",end=\" \")\n",
    "    print()"
   ]
  },
  {
   "cell_type": "code",
   "execution_count": 15,
   "id": "be0b8809-da5f-475d-90ae-8f430b5c5da8",
   "metadata": {},
   "outputs": [
    {
     "name": "stdout",
     "output_type": "stream",
     "text": [
      "****\n",
      "-***\n",
      "--**\n",
      "---*\n"
     ]
    }
   ],
   "source": [
    "for i in range(1,5):\n",
    "    for j in range(1,i):\n",
    "        print(\"-\",end=\"\")\n",
    "    for j in range(1,6-i):\n",
    "        print(\"*\",end=\"\")\n",
    "    print()"
   ]
  },
  {
   "cell_type": "code",
   "execution_count": 19,
   "id": "74b9aacf-d541-4576-b952-92d83983fcc8",
   "metadata": {},
   "outputs": [
    {
     "name": "stdout",
     "output_type": "stream",
     "text": [
      "*\n",
      "**\n",
      "*-*\n",
      "*--*\n",
      "*****\n"
     ]
    }
   ],
   "source": [
    "for i in range(1,6):\n",
    "    for j in range(1,i+1):\n",
    "        if(i==5 or j==1 or i==j):\n",
    "            print(\"*\",end=\"\")\n",
    "        else:\n",
    "            print(\"-\",end=\"\")\n",
    "    print()"
   ]
  },
  {
   "cell_type": "code",
   "execution_count": 23,
   "id": "723f3f55-5ae3-4a7d-9462-f91d4b25d0e0",
   "metadata": {},
   "outputs": [
    {
     "name": "stdout",
     "output_type": "stream",
     "text": [
      "******\n",
      "*---*\n",
      "*--*\n",
      "*-*\n",
      "**\n",
      "*\n"
     ]
    }
   ],
   "source": [
    "for i in range(1,7):\n",
    "    for j in range(1,8-i):\n",
    "        if(i==1 or j==1 or j==7-i):\n",
    "            print(\"*\",end=\"\")\n",
    "        else:\n",
    "            print(\"-\",end=\"\")\n",
    "    print()"
   ]
  },
  {
   "cell_type": "code",
   "execution_count": 31,
   "id": "4a9f2dcf-75de-456b-a8a9-16191efe29d6",
   "metadata": {},
   "outputs": [
    {
     "name": "stdout",
     "output_type": "stream",
     "text": [
      "----*\n",
      "---**\n",
      "--*?*\n",
      "-*??*\n",
      "*****\n"
     ]
    }
   ],
   "source": [
    "for i in range(1,6):\n",
    "    for j in range(1,6-i):\n",
    "        print(\"-\",end=\"\")\n",
    "    for j in range(1,i+1):\n",
    "        if(i==5 or j==1 or i==j):\n",
    "            print(\"*\",end=\"\")\n",
    "        else:\n",
    "            print(\"?\",end=\"\")\n",
    "    print()"
   ]
  },
  {
   "cell_type": "code",
   "execution_count": 37,
   "id": "3ae0f511-e88d-41ee-af9d-e3d83bb69fcd",
   "metadata": {},
   "outputs": [
    {
     "name": "stdout",
     "output_type": "stream",
     "text": [
      "---* \n",
      "--* * \n",
      "-* * * \n",
      "* * * * \n"
     ]
    }
   ],
   "source": [
    "for i in range(1,5):\n",
    "    for j in range(1,5-i):\n",
    "        print(\"-\",end=\"\")\n",
    "    for j in range(1,i+1):\n",
    "        print(\"*\",end=\" \")\n",
    "    print()"
   ]
  },
  {
   "cell_type": "code",
   "execution_count": 39,
   "id": "90881bed-c35f-4558-ae91-ee4a00f26374",
   "metadata": {},
   "outputs": [
    {
     "name": "stdout",
     "output_type": "stream",
     "text": [
      "* * * * \n",
      "-* * * \n",
      "--* * \n",
      "---* \n"
     ]
    }
   ],
   "source": [
    "for i in range(4,0,-1):\n",
    "    for j in range(1,5-i):\n",
    "        print(\"-\",end=\"\")\n",
    "    for j in range(1,i+1):\n",
    "        print(\"*\",end=\" \")\n",
    "    print()"
   ]
  },
  {
   "cell_type": "code",
   "execution_count": 45,
   "id": "642a0f04-e428-48bf-8136-f980f550a4bd",
   "metadata": {},
   "outputs": [
    {
     "name": "stdout",
     "output_type": "stream",
     "text": [
      "--* \n",
      "-* * \n",
      "* * * \n"
     ]
    }
   ],
   "source": [
    "for i in range(1,4):\n",
    "    for j in range(1,4-i):\n",
    "        print(\"-\",end=\"\")\n",
    "    for j in range(1,i+1):\n",
    "        print(\"*\",end=\" \")\n",
    "    print()"
   ]
  },
  {
   "cell_type": "code",
   "execution_count": 59,
   "id": "4e04ee99-70ed-403c-8713-7951e3a08e80",
   "metadata": {},
   "outputs": [
    {
     "name": "stdout",
     "output_type": "stream",
     "text": [
      "1 2 3 4 \n",
      "-1 2 3 \n",
      "--1 2 \n",
      "---1 \n"
     ]
    }
   ],
   "source": [
    "for i in range(4,0,-1):\n",
    "    for j in range(1,5-i):\n",
    "        print(\"-\",end=\"\")\n",
    "    n=1\n",
    "    for j in range(1,i+1):\n",
    "        print(n,end=\" \")\n",
    "        n+=1\n",
    "    print()"
   ]
  },
  {
   "cell_type": "code",
   "execution_count": 67,
   "id": "cff54e1e-a37a-445e-96b9-343cd8e0906f",
   "metadata": {},
   "outputs": [
    {
     "name": "stdout",
     "output_type": "stream",
     "text": [
      "--A \n",
      "-A B \n",
      "A B C \n"
     ]
    }
   ],
   "source": [
    "for i in range(1,4):\n",
    "    for j in range(1,4-i):\n",
    "        print(\"-\",end=\"\")\n",
    "    n=65\n",
    "    for j in range(1,i+1):\n",
    "        print(chr(n),end=\" \")\n",
    "        n+=1\n",
    "    print()\n"
   ]
  },
  {
   "cell_type": "code",
   "execution_count": 75,
   "id": "68fc993f-1f35-4278-b6cb-9525e727ebfb",
   "metadata": {},
   "outputs": [
    {
     "name": "stdout",
     "output_type": "stream",
     "text": [
      "*\n",
      "**\n",
      "***\n",
      "****\n",
      "***\n",
      "**\n",
      "*\n"
     ]
    }
   ],
   "source": [
    "for i in range(1,4):\n",
    "    for j in range(1,i+1):\n",
    "        print(\"*\",end=\"\")\n",
    "    print()\n",
    "for i in range(1,5):\n",
    "    for j in range(1,6-i):\n",
    "        print(\"*\",end=\"\")\n",
    "    print()"
   ]
  },
  {
   "cell_type": "code",
   "execution_count": 87,
   "id": "35ea5cf3-9784-46b8-b8ad-acafe0ff0f44",
   "metadata": {},
   "outputs": [
    {
     "name": "stdout",
     "output_type": "stream",
     "text": [
      "*****\n",
      "-****\n",
      "--***\n",
      "---**\n",
      "----*\n",
      "---**\n",
      "--***\n",
      "-****\n",
      "*****\n"
     ]
    }
   ],
   "source": [
    "for i in range(1,5):\n",
    "    for j in range(1,i):\n",
    "        print(\"-\",end=\"\")\n",
    "    for j in range(1,7-i):\n",
    "        print(\"*\",end=\"\")\n",
    "    print()\n",
    "for i in range(1,6):\n",
    "    for j in range(1,6-i):\n",
    "        print(\"-\",end=\"\")\n",
    "    for j in range(1,i+1):\n",
    "        print(\"*\",end=\"\")\n",
    "    print()"
   ]
  },
  {
   "cell_type": "code",
   "execution_count": 89,
   "id": "5986200a-1839-4a01-be56-04570a356e38",
   "metadata": {},
   "outputs": [
    {
     "name": "stdout",
     "output_type": "stream",
     "text": [
      "*****\n",
      " ****\n",
      "  ***\n",
      "   **\n",
      "    *\n",
      "   **\n",
      "  ***\n",
      " ****\n",
      "*****\n"
     ]
    }
   ],
   "source": [
    "for i in range(1,5):\n",
    "    for j in range(1,i):\n",
    "        print(\" \",end=\"\")\n",
    "    for j in range(1,7-i):\n",
    "        print(\"*\",end=\"\")\n",
    "    print()\n",
    "for i in range(1,6):\n",
    "    for j in range(1,6-i):\n",
    "        print(\" \",end=\"\")\n",
    "    for j in range(1,i+1):\n",
    "        print(\"*\",end=\"\")\n",
    "    print()"
   ]
  },
  {
   "cell_type": "code",
   "execution_count": 93,
   "id": "50b652da-f2b3-47e5-84c3-bd6c7210f14c",
   "metadata": {},
   "outputs": [
    {
     "name": "stdout",
     "output_type": "stream",
     "text": [
      "---*\n",
      "--***\n",
      "-*****\n",
      "*******\n"
     ]
    }
   ],
   "source": [
    "for i in range(1,5):\n",
    "    for j in range(1,5-i):\n",
    "        print(\"-\",end=\"\")\n",
    "    for j in range(1,2*i):\n",
    "        print(\"*\",end=\"\")\n",
    "    print()"
   ]
  },
  {
   "cell_type": "code",
   "execution_count": 103,
   "id": "274fbf6a-a404-4dd9-9c89-10c891ffbdfe",
   "metadata": {},
   "outputs": [
    {
     "name": "stdout",
     "output_type": "stream",
     "text": [
      "---*\n",
      "--*-*\n",
      "-*---*\n",
      "*******\n"
     ]
    }
   ],
   "source": [
    "for i in range(1,5):\n",
    "    for j in range(1,5-i):\n",
    "        print(\"-\",end=\"\")\n",
    "    for j in range(1,2*i):\n",
    "        if(j==1 or i==4 or j==2*i-1):\n",
    "            print(\"*\",end=\"\")\n",
    "        else:\n",
    "            print(\"-\",end=\"\")\n",
    "    print()"
   ]
  },
  {
   "cell_type": "code",
   "execution_count": null,
   "id": "d45223f4-b415-454b-a8e8-ee30e428278e",
   "metadata": {},
   "outputs": [],
   "source": []
  }
 ],
 "metadata": {
  "kernelspec": {
   "display_name": "Python 3 (ipykernel)",
   "language": "python",
   "name": "python3"
  },
  "language_info": {
   "codemirror_mode": {
    "name": "ipython",
    "version": 3
   },
   "file_extension": ".py",
   "mimetype": "text/x-python",
   "name": "python",
   "nbconvert_exporter": "python",
   "pygments_lexer": "ipython3",
   "version": "3.12.4"
  }
 },
 "nbformat": 4,
 "nbformat_minor": 5
}
