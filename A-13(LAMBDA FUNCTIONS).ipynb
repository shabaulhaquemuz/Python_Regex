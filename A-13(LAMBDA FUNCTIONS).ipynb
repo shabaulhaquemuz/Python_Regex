{
 "cells": [
  {
   "cell_type": "code",
   "execution_count": 1,
   "id": "ff98de68-7337-4931-b123-751661e5d2b5",
   "metadata": {},
   "outputs": [
    {
     "name": "stdout",
     "output_type": "stream",
     "text": [
      "()\n"
     ]
    }
   ],
   "source": [
    "#variable length argument(passes multiple positional arguments)\n",
    "def facebook(*args):\n",
    "    print(args)\n",
    "facebook()\n"
   ]
  },
  {
   "cell_type": "code",
   "execution_count": 5,
   "id": "783a1ca5-ecc0-4c6f-8073-4754a6ad317c",
   "metadata": {},
   "outputs": [
    {
     "name": "stdout",
     "output_type": "stream",
     "text": [
      "('shabaul', 'saif')\n"
     ]
    }
   ],
   "source": [
    "def facebook(*args):\n",
    "    print(args)\n",
    "facebook(\"shabaul\",\"saif\")\n",
    "#returns in form of tuple"
   ]
  },
  {
   "cell_type": "code",
   "execution_count": 11,
   "id": "86c4ec74-38cd-4491-8334-d42aa74699ff",
   "metadata": {},
   "outputs": [
    {
     "name": "stdout",
     "output_type": "stream",
     "text": [
      "{'name': 'shabaul', 'age': 23, 'college': 'jamia'}\n"
     ]
    }
   ],
   "source": [
    "#this also variable length argument(passes multiple keyword arguments in name-value pair)\n",
    "def facebook(**kwargs):\n",
    "    print(kwargs)\n",
    "facebook(name=\"shabaul\",age=23,college=\"jamia\")\n",
    "#returns in the form of dictionary"
   ]
  },
  {
   "cell_type": "code",
   "execution_count": 15,
   "id": "74ecdbde-3585-4532-a812-77c2650acb24",
   "metadata": {},
   "outputs": [
    {
     "name": "stdout",
     "output_type": "stream",
     "text": [
      "15\n"
     ]
    }
   ],
   "source": [
    "#lambda functions\n",
    "#short,one line functions which are anonymous functions because these dont have name\n",
    "# What is a Lambda Function?\n",
    "# A lambda function is a small, anonymous function in Python — meaning it has no name.\n",
    "# It's used when you need a function for a short period of time, usually as an argument to another function (like map(), filter(), sorted(), etc.).\n",
    "\n",
    "\n",
    "def func(x):\n",
    "    print(x+10)\n",
    "func(5)"
   ]
  },
  {
   "cell_type": "code",
   "execution_count": 17,
   "id": "54dcd10d-a931-48f9-94ec-82dbc795659d",
   "metadata": {},
   "outputs": [
    {
     "name": "stdout",
     "output_type": "stream",
     "text": [
      "15\n",
      "None\n"
     ]
    }
   ],
   "source": [
    "def func(x):\n",
    "    print(x+10)\n",
    "out=func(5)\n",
    "print(out)"
   ]
  },
  {
   "cell_type": "code",
   "execution_count": 25,
   "id": "38997957-64f2-4ceb-bbbd-b7402afd4984",
   "metadata": {},
   "outputs": [
    {
     "name": "stdout",
     "output_type": "stream",
     "text": [
      "15\n",
      "after function: 10000\n"
     ]
    }
   ],
   "source": [
    "def func(x):\n",
    "    print(x+10)\n",
    "    return 10000\n",
    "out=func(5)\n",
    "print(\"after function:\",out)"
   ]
  },
  {
   "cell_type": "code",
   "execution_count": 27,
   "id": "6ce90d95-8a6a-4a3f-83f5-d226143284aa",
   "metadata": {},
   "outputs": [
    {
     "name": "stdout",
     "output_type": "stream",
     "text": [
      "after function: 15\n"
     ]
    }
   ],
   "source": [
    "def func(x):\n",
    "    return x+10\n",
    "out=func(5)\n",
    "print(\"after function:\",out)"
   ]
  },
  {
   "cell_type": "code",
   "execution_count": 29,
   "id": "4fbf218b-0de0-4d6e-926a-171fa86ff53f",
   "metadata": {},
   "outputs": [
    {
     "ename": "TypeError",
     "evalue": "<lambda>() missing 1 required positional argument: 'x'",
     "output_type": "error",
     "traceback": [
      "\u001b[1;31m---------------------------------------------------------------------------\u001b[0m",
      "\u001b[1;31mTypeError\u001b[0m                                 Traceback (most recent call last)",
      "Cell \u001b[1;32mIn[29], line 2\u001b[0m\n\u001b[0;32m      1\u001b[0m a\u001b[38;5;241m=\u001b[39m\u001b[38;5;28;01mlambda\u001b[39;00m x:x\u001b[38;5;241m+\u001b[39m\u001b[38;5;241m10\u001b[39m\n\u001b[1;32m----> 2\u001b[0m a()\n",
      "\u001b[1;31mTypeError\u001b[0m: <lambda>() missing 1 required positional argument: 'x'"
     ]
    }
   ],
   "source": [
    "a=lambda x:x+10\n",
    "a()"
   ]
  },
  {
   "cell_type": "code",
   "execution_count": 31,
   "id": "3418d48c-c51d-466c-a5c8-9f7995bc52e9",
   "metadata": {},
   "outputs": [
    {
     "data": {
      "text/plain": [
       "25"
      ]
     },
     "execution_count": 31,
     "metadata": {},
     "output_type": "execute_result"
    }
   ],
   "source": [
    "a=lambda x:x+10\n",
    "a(15)"
   ]
  },
  {
   "cell_type": "code",
   "execution_count": 33,
   "id": "9364784b-9f95-4c27-868e-4eec8626cae0",
   "metadata": {},
   "outputs": [
    {
     "data": {
      "text/plain": [
       "25"
      ]
     },
     "execution_count": 33,
     "metadata": {},
     "output_type": "execute_result"
    }
   ],
   "source": [
    "(lambda x:x+10)(15)\n"
   ]
  },
  {
   "cell_type": "code",
   "execution_count": 43,
   "id": "9d30e9bc-3f82-48d9-a703-5f6583f09eab",
   "metadata": {},
   "outputs": [
    {
     "name": "stdout",
     "output_type": "stream",
     "text": [
      "hey\n",
      "he\n",
      "hello\n",
      "he\n",
      "user\n",
      "us\n"
     ]
    }
   ],
   "source": [
    "a=lambda x:x[0:2]\n",
    "for i in \"hey hello user\".split(\" \"):\n",
    "    print(i)\n",
    "    print(a(i))"
   ]
  },
  {
   "cell_type": "code",
   "execution_count": 47,
   "id": "7f2071b3-0995-40d4-8e6b-c9d6bf897eda",
   "metadata": {},
   "outputs": [
    {
     "name": "stdout",
     "output_type": "stream",
     "text": [
      "he\n",
      "he\n",
      "us\n"
     ]
    }
   ],
   "source": [
    "a=lambda x:x[0:2]\n",
    "for i in \"hey hello user\".split(\" \"):\n",
    "    print(a(i))"
   ]
  },
  {
   "cell_type": "code",
   "execution_count": 49,
   "id": "08cd51b5-a218-4eae-a8cb-f52276919924",
   "metadata": {},
   "outputs": [
    {
     "data": {
      "text/plain": [
       "['hey', 'hello', 'user']"
      ]
     },
     "execution_count": 49,
     "metadata": {},
     "output_type": "execute_result"
    }
   ],
   "source": [
    "# What does .split(\" \") do?\n",
    "# The .split(\" \") method splits a string into a list using a space \" \" as the separator.\n",
    "\"hey hello user\".split(\" \")\n"
   ]
  },
  {
   "cell_type": "code",
   "execution_count": 1,
   "id": "43acd6eb-c7ed-4b13-9364-e1b4e5bf36ab",
   "metadata": {},
   "outputs": [
    {
     "name": "stdout",
     "output_type": "stream",
     "text": [
      "2\n",
      "4\n",
      "6\n"
     ]
    }
   ],
   "source": [
    "x=[1,2,3,4,5,6,7]\n",
    "a=(lambda n:n%2==0)\n",
    "for i in x:\n",
    "    if (a(i)):\n",
    "        print(i)\n"
   ]
  },
  {
   "cell_type": "code",
   "execution_count": 15,
   "id": "e7f8bac3-147e-4fa1-8c77-0a10963c65ad",
   "metadata": {},
   "outputs": [
    {
     "name": "stdout",
     "output_type": "stream",
     "text": [
      "2\n",
      "4\n",
      "6\n",
      "[[2], [4], [6]]\n"
     ]
    }
   ],
   "source": [
    "x=[1,2,3,4,5,6,7]\n",
    "a=(lambda n:n%2==0)\n",
    "new=[]\n",
    "for i in x:\n",
    "    if (a(i)):\n",
    "        print(i)\n",
    "        new.append([i])\n",
    "print(new)\n"
   ]
  },
  {
   "cell_type": "code",
   "execution_count": 17,
   "id": "580a0277-874a-46c6-82c6-1ec0b07a3e25",
   "metadata": {},
   "outputs": [
    {
     "name": "stdout",
     "output_type": "stream",
     "text": [
      "<function fun at 0x0000021FAC4B7C40>\n"
     ]
    }
   ],
   "source": [
    "def fun():\n",
    "    print(\"shabaul\")\n",
    "a=fun\n",
    "print(a)"
   ]
  },
  {
   "cell_type": "code",
   "execution_count": 19,
   "id": "7fec768e-7ced-4f0d-b77d-0f5a723b5e31",
   "metadata": {},
   "outputs": [
    {
     "name": "stdout",
     "output_type": "stream",
     "text": [
      "<function fun at 0x0000021FAC4B6AC0>\n"
     ]
    }
   ],
   "source": [
    "def fun():\n",
    "    print(\"shabaul\")\n",
    "a=fun\n",
    "print(fun)"
   ]
  },
  {
   "cell_type": "code",
   "execution_count": 23,
   "id": "e8a777a1-eeb1-4292-9a9f-250b1ee3acff",
   "metadata": {},
   "outputs": [
    {
     "name": "stdout",
     "output_type": "stream",
     "text": [
      "<function fun at 0x0000021FAC4B71A0>\n",
      "shabaul\n"
     ]
    }
   ],
   "source": [
    "def fun():\n",
    "    print(\"shabaul\")\n",
    "a=fun\n",
    "print(fun)\n",
    "a()"
   ]
  },
  {
   "cell_type": "code",
   "execution_count": 25,
   "id": "de837ee1-e49f-4e2b-97ce-de8c2b8d7b2d",
   "metadata": {},
   "outputs": [
    {
     "name": "stdout",
     "output_type": "stream",
     "text": [
      "<function fun at 0x0000021FAC4B74C0>\n",
      "shabaul\n"
     ]
    }
   ],
   "source": [
    "def fun():\n",
    "    print(\"shabaul\")\n",
    "a=fun\n",
    "print(fun)\n",
    "fun()"
   ]
  },
  {
   "cell_type": "code",
   "execution_count": 27,
   "id": "d2807ef1-3dbc-444b-bcfd-7db56fb6b0b6",
   "metadata": {},
   "outputs": [],
   "source": [
    "dict={\"a\":1,\"b\":2,\"c\":3}\n",
    "def func():\n",
    "    for i in range(65,69):\n",
    "        for j in range(1,5):\n",
    "            dict[i]=j\n",
    "func()\n",
    "    "
   ]
  },
  {
   "cell_type": "code",
   "execution_count": 41,
   "id": "677aaddd-c186-4e45-aef1-1c6067942540",
   "metadata": {},
   "outputs": [
    {
     "name": "stdout",
     "output_type": "stream",
     "text": [
      "{'name': 'shabaul', 'age': 23, 'college': 'jamia'}\n"
     ]
    }
   ],
   "source": [
    "def mydetails(**kwargs):\n",
    "    print(kwargs)\n",
    "mydetails(name=\"shabaul\",age=23,college=\"jamia\")\n"
   ]
  },
  {
   "cell_type": "code",
   "execution_count": 43,
   "id": "68bcac98-d8f7-4c66-8313-32e07197e75b",
   "metadata": {},
   "outputs": [
    {
     "name": "stdout",
     "output_type": "stream",
     "text": [
      "{'name': 'Shabaul', 'age': 23, 'college': 'Jamia', 'greet': <function <lambda> at 0x0000021FAC4B7EC0>}\n",
      "Hello Shabaul\n"
     ]
    }
   ],
   "source": [
    "def mydetails(**kwargs):\n",
    "    print(kwargs)\n",
    "    # You can even call the lambda function from kwargs like this:\n",
    "    if 'greet' in kwargs:\n",
    "        print(kwargs['greet'](\"Shabaul\"))\n",
    "\n",
    "mydetails(\n",
    "    name=\"Shabaul\",\n",
    "    age=23,\n",
    "    college=\"Jamia\",\n",
    "    greet=lambda x: \"Hello \" + x\n",
    ")\n"
   ]
  },
  {
   "cell_type": "code",
   "execution_count": 45,
   "id": "4d0bbd4c-88b2-416e-a5dc-0716cb3ae052",
   "metadata": {},
   "outputs": [
    {
     "name": "stdout",
     "output_type": "stream",
     "text": [
      "{'name': 20, 'age': 12, 'college': 2}\n"
     ]
    }
   ],
   "source": [
    "def mydetails(**kwargs):\n",
    "    print(kwargs)\n",
    "mydetails(name=(lambda x:x+10)(10),age=(lambda y:y*2)(6),college=(lambda z:z//2)(4))"
   ]
  },
  {
   "cell_type": "code",
   "execution_count": 73,
   "id": "49679a6d-0570-4662-a7dc-2f6069e5d772",
   "metadata": {},
   "outputs": [
    {
     "name": "stdout",
     "output_type": "stream",
     "text": [
      "{'name': 20, 'age': 12, 'college': 2}\n",
      "Name: 20\n",
      "Age: 12\n",
      "College: 2\n"
     ]
    }
   ],
   "source": [
    "def mydetails(**kwargs):\n",
    "    print(kwargs)\n",
    "    print(\"Name:\", kwargs['name'])       \n",
    "    print(\"Age:\", kwargs['age'])         \n",
    "    print(\"College:\", kwargs['college'])\n",
    "mydetails(name=(lambda x:x+10)(10),age=(lambda y:y*2)(6),college=(lambda z:z//2)(4))\n"
   ]
  },
  {
   "cell_type": "code",
   "execution_count": null,
   "id": "8abf7c96-1d93-4cc1-b0bd-48b78ad51ca1",
   "metadata": {},
   "outputs": [],
   "source": []
  }
 ],
 "metadata": {
  "kernelspec": {
   "display_name": "Python 3 (ipykernel)",
   "language": "python",
   "name": "python3"
  },
  "language_info": {
   "codemirror_mode": {
    "name": "ipython",
    "version": 3
   },
   "file_extension": ".py",
   "mimetype": "text/x-python",
   "name": "python",
   "nbconvert_exporter": "python",
   "pygments_lexer": "ipython3",
   "version": "3.12.4"
  }
 },
 "nbformat": 4,
 "nbformat_minor": 5
}
