{
 "cells": [
  {
   "cell_type": "code",
   "execution_count": 5,
   "id": "ba9bf668-32bf-43b2-92bf-532b20df2faf",
   "metadata": {},
   "outputs": [
    {
     "name": "stdout",
     "output_type": "stream",
     "text": [
      "<class 'list'>\n",
      "10\n",
      "[10, 20, 'abc', 99]\n"
     ]
    }
   ],
   "source": [
    "list=[10,20,\"abc\"]\n",
    "print(type(list))\n",
    "print(list[0])\n",
    "list.append(99)\n",
    "print(list)"
   ]
  },
  {
   "cell_type": "code",
   "execution_count": 9,
   "id": "6d3c897e-f13b-45c8-b58b-3f59e62d7f09",
   "metadata": {},
   "outputs": [
    {
     "name": "stdout",
     "output_type": "stream",
     "text": [
      "[10, 'saif', 20, 'abc']\n"
     ]
    }
   ],
   "source": [
    "list1=[10,20,\"abc\"]\n",
    "list1.insert(1,\"saif\")\n",
    "print(list1)"
   ]
  },
  {
   "cell_type": "code",
   "execution_count": 11,
   "id": "6c2fad47-ba93-44bd-9fd9-e77713a62533",
   "metadata": {},
   "outputs": [
    {
     "name": "stdout",
     "output_type": "stream",
     "text": [
      "[111, 20, 'abc']\n"
     ]
    }
   ],
   "source": [
    "list2=[10,20,\"abc\"]\n",
    "list2[0]=111\n",
    "print(list2)"
   ]
  },
  {
   "cell_type": "code",
   "execution_count": 13,
   "id": "e70c3de1-904c-45c9-8242-abcf6cf8eda5",
   "metadata": {},
   "outputs": [
    {
     "name": "stdout",
     "output_type": "stream",
     "text": [
      "[10, 20]\n"
     ]
    }
   ],
   "source": [
    "list3=[10,20,\"abc\"]\n",
    "list3.pop()\n",
    "print(list3)"
   ]
  },
  {
   "cell_type": "code",
   "execution_count": 17,
   "id": "1c0ba1f6-6f26-494a-b2a8-5ee55e645282",
   "metadata": {},
   "outputs": [
    {
     "name": "stdout",
     "output_type": "stream",
     "text": [
      "[10, 20, 'abc']\n",
      "abc\n",
      "[10, 20]\n"
     ]
    }
   ],
   "source": [
    "list4=[10,20,\"abc\"]\n",
    "print(list4)\n",
    "x=list4.pop()\n",
    "print(x)\n",
    "print(list4)"
   ]
  },
  {
   "cell_type": "code",
   "execution_count": 19,
   "id": "8782ea71-5b3b-4f14-a228-1aa9986201d9",
   "metadata": {},
   "outputs": [],
   "source": [
    "# Difference between Function and Method:\n",
    "# Function: A block of reusable code. It is independent and can be called on its own.\n",
    "\n",
    "# Example: print(), len(), sum() — these are built-in functions.\n",
    "\n",
    "# Method: A function that is associated with an object (like a list, string, etc.).\n",
    "\n",
    "# It is called using dot notation (e.g., list.append(5)).\n",
    "\n",
    "# my_list = [3, 1, 2]\n",
    "# my_list.append(4)    # method\n",
    "# my_list.pop()        # method\n",
    "# my_list.sort()       # method\n",
    "\n",
    "# print(len(my_list))  # function\n"
   ]
  },
  {
   "cell_type": "code",
   "execution_count": 31,
   "id": "0c05c5ee-157a-4207-87fd-1a23c558ec31",
   "metadata": {},
   "outputs": [
    {
     "name": "stdout",
     "output_type": "stream",
     "text": [
      "[4, 8, 9, 10, 20, 89, 1000, 5000]\n",
      "[5000, 1000, 89, 20, 10, 9, 8, 4]\n"
     ]
    }
   ],
   "source": [
    "list5=[10,20,8,4,89,9,5000,1000]\n",
    "list5.sort()\n",
    "print(list5)\n",
    "list5.reverse()\n",
    "print(list5)\n"
   ]
  },
  {
   "cell_type": "code",
   "execution_count": 35,
   "id": "58f7ef1a-1f2f-4ba7-a70e-6ec0f0f52041",
   "metadata": {},
   "outputs": [
    {
     "name": "stdout",
     "output_type": "stream",
     "text": [
      "[544, 400, 20, 10]\n"
     ]
    }
   ],
   "source": [
    "list6=[10,20,400,544]\n",
    "list6.reverse()\n",
    "print(list6)"
   ]
  },
  {
   "cell_type": "code",
   "execution_count": 37,
   "id": "2c9b96d9-1797-4cd9-acac-7449cbc08c3d",
   "metadata": {},
   "outputs": [
    {
     "name": "stdout",
     "output_type": "stream",
     "text": [
      "10\n",
      "20\n",
      "30\n",
      "40\n",
      "3\n",
      "2\n",
      "70\n"
     ]
    }
   ],
   "source": [
    "list7=[10,20,30,40,3,2,70]\n",
    "for i in list7:\n",
    "    print(i)"
   ]
  },
  {
   "cell_type": "code",
   "execution_count": 41,
   "id": "f396ea53-e049-4123-bcc9-7237c18a304a",
   "metadata": {},
   "outputs": [
    {
     "name": "stdout",
     "output_type": "stream",
     "text": [
      "0 10\n",
      "1 20\n",
      "2 30\n",
      "3 40\n",
      "4 3\n",
      "5 2\n",
      "6 70\n"
     ]
    }
   ],
   "source": [
    "list8=[10,20,30,40,3,2,70]\n",
    "for i in range(len(list8)):\n",
    "    print(i,list8[i])"
   ]
  },
  {
   "cell_type": "code",
   "execution_count": 43,
   "id": "e6455640-d6f2-4e3a-8c28-53e1a01df54f",
   "metadata": {},
   "outputs": [
    {
     "name": "stdout",
     "output_type": "stream",
     "text": [
      "30\n",
      "40\n",
      "70\n"
     ]
    }
   ],
   "source": [
    "list9=[10,20,30,40,3,2,70]\n",
    "for i in range(len(list9)):\n",
    "    if(list9[i]>20):\n",
    "        print(list9[i])"
   ]
  },
  {
   "cell_type": "code",
   "execution_count": 47,
   "id": "298fa87f-ceed-4ef4-af4c-a317eaf4bbdf",
   "metadata": {},
   "outputs": [
    {
     "name": "stdout",
     "output_type": "stream",
     "text": [
      "10\n",
      "20\n",
      "30\n",
      "40\n",
      "2\n",
      "70\n"
     ]
    }
   ],
   "source": [
    "#even in a list\n",
    "list10=[10,20,30,40,3,2,70,69]\n",
    "for i in range(len(list10)):\n",
    "    if(list10[i]%2==0):\n",
    "        print(list10[i])"
   ]
  },
  {
   "cell_type": "code",
   "execution_count": 49,
   "id": "83ec565b-6fe9-48a7-93b2-cb74715fe679",
   "metadata": {},
   "outputs": [
    {
     "name": "stdout",
     "output_type": "stream",
     "text": [
      "3\n",
      "69\n"
     ]
    }
   ],
   "source": [
    "#odd in a list\n",
    "list11=[10,20,30,40,3,2,70,69]\n",
    "for i in range(len(list11)):\n",
    "    if(list10[i]%2!=0):\n",
    "        print(list10[i])"
   ]
  },
  {
   "cell_type": "code",
   "execution_count": 53,
   "id": "9a36843f-125b-4505-bc82-6ad976097dd7",
   "metadata": {},
   "outputs": [
    {
     "name": "stdout",
     "output_type": "stream",
     "text": [
      "[10, 20, 30, 40, 2, 70]\n"
     ]
    }
   ],
   "source": [
    "#add even in a newlist\n",
    "list12=[10,20,30,40,3,2,70,69]\n",
    "newlist=[]\n",
    "for i in range(len(list12)):\n",
    "    if(list12[i]%2==0):\n",
    "        newlist.append(list12[i])\n",
    "print(newlist)"
   ]
  },
  {
   "cell_type": "code",
   "execution_count": 57,
   "id": "fdef3408-3230-490a-9193-3f598d71da89",
   "metadata": {},
   "outputs": [
    {
     "name": "stdout",
     "output_type": "stream",
     "text": [
      "[3, 69]\n"
     ]
    }
   ],
   "source": [
    "list13=[10,20,30,40,3,2,70,69]\n",
    "newlist1=[]\n",
    "for i in range(len(list13)):\n",
    "    if(list13[i]%2!=0):\n",
    "        newlist1.append(list13[i])\n",
    "print(newlist1)"
   ]
  },
  {
   "cell_type": "code",
   "execution_count": 61,
   "id": "b92e8d35-e3a0-4113-9bef-03c69d569e60",
   "metadata": {},
   "outputs": [
    {
     "name": "stdout",
     "output_type": "stream",
     "text": [
      "2\n"
     ]
    }
   ],
   "source": [
    "#minimum\n",
    "list14=[78,10,20,30,40,3,2,70,69]\n",
    "min=list14[0]\n",
    "for i in range(len(list14)):\n",
    "    if(list14[i]<min):\n",
    "        min=list14[i]\n",
    "print(min)"
   ]
  },
  {
   "cell_type": "code",
   "execution_count": 63,
   "id": "54bef6a5-d02b-4f06-8057-e81065aa72fc",
   "metadata": {},
   "outputs": [
    {
     "name": "stdout",
     "output_type": "stream",
     "text": [
      "-78\n"
     ]
    }
   ],
   "source": [
    "list15=[-78,-10,-20,-30,-40,-3,-2,-70,-69]\n",
    "min=0\n",
    "for i in range(len(list15)):\n",
    "    if(list15[i]<min):\n",
    "        min=list15[i]\n",
    "print(min)"
   ]
  },
  {
   "cell_type": "code",
   "execution_count": 65,
   "id": "6bde977a-b31f-47e7-b6ec-ae67ba319128",
   "metadata": {},
   "outputs": [
    {
     "name": "stdout",
     "output_type": "stream",
     "text": [
      "78\n"
     ]
    }
   ],
   "source": [
    "#maximum\n",
    "list16=[78,10,20,30,40,3,2,70,69]\n",
    "max=0\n",
    "for i in range(len(list16)):\n",
    "    if(list16[i]>max):\n",
    "        max=list16[i]\n",
    "print(max)"
   ]
  },
  {
   "cell_type": "code",
   "execution_count": 75,
   "id": "a6bf332a-085e-4a53-9fde-a4a7e5fe9a63",
   "metadata": {},
   "outputs": [
    {
     "name": "stdout",
     "output_type": "stream",
     "text": [
      "780\n"
     ]
    }
   ],
   "source": [
    "#maximum\n",
    "list17=[780,10,20,30,40,3,2,70,69]\n",
    "max=list17[0]\n",
    "for i in range(len(list17)):\n",
    "    if(list17[i]>max):\n",
    "        max=list17[i]\n",
    "print(max)"
   ]
  },
  {
   "cell_type": "code",
   "execution_count": 87,
   "id": "a5ce77ae-1055-42e8-a5f6-34756405f736",
   "metadata": {},
   "outputs": [
    {
     "name": "stdout",
     "output_type": "stream",
     "text": [
      "10\n",
      "20\n",
      "30\n",
      "40\n",
      "0\n",
      "9\n",
      "-78\n"
     ]
    }
   ],
   "source": [
    "lista=[10,20,30,40,\"abc\",0,9,-78]\n",
    "for i in range(len(lista)):\n",
    "    if(type(lista[i])==int):\n",
    "        print(lista[i])"
   ]
  },
  {
   "cell_type": "code",
   "execution_count": 109,
   "id": "f6142681-2b73-42a6-bd13-b122c0466362",
   "metadata": {},
   "outputs": [
    {
     "name": "stdout",
     "output_type": "stream",
     "text": [
      "800\n",
      "89\n"
     ]
    }
   ],
   "source": [
    "#second maximum\n",
    "list17=[800,20,30,40,3,2,70,69,80,55,89]\n",
    "max=list17[0]\n",
    "smax=list17[1]\n",
    "for i in range(len(list17)):\n",
    "    if(list17[i]>max):\n",
    "        smax=max\n",
    "        max=list17[i]\n",
    "    elif(list17[i]>smax and list17[i]!=max):\n",
    "        smax=list17[i]\n",
    "print(max)\n",
    "print(smax)"
   ]
  },
  {
   "cell_type": "code",
   "execution_count": 117,
   "id": "56da862d-a5a0-4cea-9cdd-19f9cdeb63f8",
   "metadata": {},
   "outputs": [
    {
     "name": "stdout",
     "output_type": "stream",
     "text": [
      "800 820 850 890 893 895 965 1034 1114 1169 1258 "
     ]
    }
   ],
   "source": [
    "#running sum\n",
    "list17=[800,20,30,40,3,2,70,69,80,55,89]\n",
    "total=0\n",
    "for i in range(len(list17)):\n",
    "    total+=list17[i]\n",
    "    print(total,end=\" \")"
   ]
  },
  {
   "cell_type": "code",
   "execution_count": 119,
   "id": "bf0792ec-38c5-423b-a2d8-0b33c61a421d",
   "metadata": {},
   "outputs": [
    {
     "name": "stdout",
     "output_type": "stream",
     "text": [
      "1258 "
     ]
    }
   ],
   "source": [
    "#total sum\n",
    "list18=[800,20,30,40,3,2,70,69,80,55,89]\n",
    "total=0\n",
    "for i in range(len(list18)):\n",
    "    total+=list18[i]\n",
    "print(total,end=\" \")"
   ]
  },
  {
   "cell_type": "code",
   "execution_count": 133,
   "id": "431db9e2-8481-4a41-a7d8-6f30422d87f7",
   "metadata": {},
   "outputs": [
    {
     "name": "stdout",
     "output_type": "stream",
     "text": [
      "10\n",
      "20\n"
     ]
    }
   ],
   "source": [
    "list21=[10,20,30,40,35]\n",
    "for i in range(0,2):\n",
    "        print(list20[i])"
   ]
  },
  {
   "cell_type": "code",
   "execution_count": 135,
   "id": "5a7f7ea9-b75f-4760-b022-a58641904cda",
   "metadata": {},
   "outputs": [
    {
     "name": "stdout",
     "output_type": "stream",
     "text": [
      "10\n",
      "20\n",
      "30\n"
     ]
    }
   ],
   "source": [
    "list22=[10,20,30,40,35]\n",
    "for i in range(0,3):\n",
    "        print(list20[i])"
   ]
  },
  {
   "cell_type": "code",
   "execution_count": 137,
   "id": "95a5d9e4-565f-4468-8d10-e0fdfefe47e1",
   "metadata": {},
   "outputs": [
    {
     "name": "stdout",
     "output_type": "stream",
     "text": [
      "0\n",
      "1\n",
      "2\n"
     ]
    }
   ],
   "source": [
    "list22=[10,20,30,40,35]\n",
    "for i in range(0,3):\n",
    "        print(i)"
   ]
  },
  {
   "cell_type": "code",
   "execution_count": 139,
   "id": "9279e35d-8746-4578-9e46-fc2a94efec32",
   "metadata": {},
   "outputs": [
    {
     "name": "stdout",
     "output_type": "stream",
     "text": [
      "10 10\n",
      "10 20\n",
      "10 30\n",
      "10 40\n",
      "10 35\n"
     ]
    }
   ],
   "source": [
    "list19=[10,20,30,40,35]\n",
    "for i in range(len(list19)):\n",
    "    print(list19[0],list19[i])"
   ]
  },
  {
   "cell_type": "code",
   "execution_count": 141,
   "id": "8cafcdbc-47a1-495c-8556-bbaf71c5df01",
   "metadata": {},
   "outputs": [
    {
     "name": "stdout",
     "output_type": "stream",
     "text": [
      "10 20\n",
      "10 30\n",
      "10 40\n",
      "10 35\n"
     ]
    }
   ],
   "source": [
    "list20=[10,20,30,40,35]\n",
    "for i in range(0,1):\n",
    "    for j in range(1,len(list20)):\n",
    "        print(list20[i],list20[j])"
   ]
  },
  {
   "cell_type": "code",
   "execution_count": 143,
   "id": "a5ef43ee-792b-4eb8-b103-b3180c4c0cdb",
   "metadata": {},
   "outputs": [
    {
     "name": "stdout",
     "output_type": "stream",
     "text": [
      "10 40\n",
      "20 30\n"
     ]
    }
   ],
   "source": [
    "#target = 50, find elements which sums to 50\n",
    "list23=[10,20,30,40,35]\n",
    "for i in range(len(list3)):\n",
    "    for j in range(i+1,len(list23)):\n",
    "        if(list23[i]+list23[j]==50):\n",
    "            print(list23[i],list23[j])"
   ]
  },
  {
   "cell_type": "code",
   "execution_count": null,
   "id": "563bffaa-16ba-497c-b374-0bd1839f8ebe",
   "metadata": {},
   "outputs": [],
   "source": []
  }
 ],
 "metadata": {
  "kernelspec": {
   "display_name": "Python 3 (ipykernel)",
   "language": "python",
   "name": "python3"
  },
  "language_info": {
   "codemirror_mode": {
    "name": "ipython",
    "version": 3
   },
   "file_extension": ".py",
   "mimetype": "text/x-python",
   "name": "python",
   "nbconvert_exporter": "python",
   "pygments_lexer": "ipython3",
   "version": "3.12.4"
  }
 },
 "nbformat": 4,
 "nbformat_minor": 5
}
