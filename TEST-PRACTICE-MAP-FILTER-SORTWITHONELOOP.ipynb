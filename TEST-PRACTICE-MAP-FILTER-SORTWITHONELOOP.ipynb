{
 "cells": [
  {
   "cell_type": "code",
   "execution_count": 15,
   "id": "b5999209-7f9c-4bda-b39c-faa736dc56c6",
   "metadata": {},
   "outputs": [
    {
     "name": "stdout",
     "output_type": "stream",
     "text": [
      "hello how are you\n"
     ]
    }
   ],
   "source": [
    "def greet():\n",
    "    return \"hello\"\n",
    "def greeting(functi):\n",
    "    return functi()+ \" how are you\"\n",
    "print(greeting(greet))\n",
    "# What is functi?\n",
    "# functi is just a variable (parameter) inside the function greeting.\n",
    "# But what it becomes depends on what you pass in.\n",
    "#functi → is the same as greet\n",
    "#functi() → is the same as greet() → returns \"hello\"\n",
    "#| You pass  | `functi` becomes     | Is it callable?      |\n",
    "# | --------- | -------------------- | -------------------- |\n",
    "# | `greet`   | the function         | ✅ Yes, do `functi()` |\n",
    "# | `greet()` | the string `\"hello\"` | ❌ No, can't call     |\n",
    "\n",
    "# When you write functi() — that means:\n",
    "# ✅ Call the function that was passed in\n",
    "# ✅ So it runs greet()\n",
    "# ✅ Which returns \"hello\"\n",
    "\n",
    "# Then you add \" how are you\" → result: \"hello how are you\"\n",
    "\n"
   ]
  },
  {
   "cell_type": "code",
   "execution_count": 23,
   "id": "f7498a72-a096-425c-b8c2-820f8e9a1cdc",
   "metadata": {},
   "outputs": [
    {
     "data": {
      "text/plain": [
       "25"
      ]
     },
     "execution_count": 23,
     "metadata": {},
     "output_type": "execute_result"
    }
   ],
   "source": [
    "#lambda function\n",
    "# a=lambda x:x+10\n",
    "# a(15)\n",
    "# we give three things while creating lambda function...\n",
    "# 1.lambda keyword:This tells Python you’re creating an anonymous function.\n",
    "# 2.parameter: here x is parameter passed to lambda\n",
    "# 3.colon(:)\n",
    "# 4.expresion: here expression is x+10\n"
   ]
  },
  {
   "cell_type": "code",
   "execution_count": 25,
   "id": "e3366e9c-a27c-4d72-823f-640e72653f92",
   "metadata": {},
   "outputs": [
    {
     "data": {
      "text/plain": [
       "36"
      ]
     },
     "execution_count": 25,
     "metadata": {},
     "output_type": "execute_result"
    }
   ],
   "source": [
    "b=lambda y:y**2\n",
    "b(6)"
   ]
  },
  {
   "cell_type": "code",
   "execution_count": 33,
   "id": "df852dad-5f0a-4cc6-8f61-b98be51a39d3",
   "metadata": {},
   "outputs": [
    {
     "name": "stdout",
     "output_type": "stream",
     "text": [
      "hey\n",
      "he\n",
      "hello\n",
      "he\n",
      "user\n",
      "us\n"
     ]
    }
   ],
   "source": [
    "a=lambda x:x[0:2]\n",
    "for i in \"hey hello user\".split(\" \"):\n",
    "    print(i)\n",
    "    print(a(i))"
   ]
  },
  {
   "cell_type": "code",
   "execution_count": 35,
   "id": "5ed494dc-ea76-4d80-945d-c0750da17856",
   "metadata": {},
   "outputs": [
    {
     "name": "stdout",
     "output_type": "stream",
     "text": [
      "he\n",
      "he\n",
      "us\n"
     ]
    }
   ],
   "source": [
    "def strspl(s):\n",
    "    x=s.split(\" \")\n",
    "    for i in x:\n",
    "        print(i[0:2])\n",
    "strspl(\"hey hello user\")"
   ]
  },
  {
   "cell_type": "code",
   "execution_count": 39,
   "id": "9dcd8101-917f-4da0-901d-498ef02b2d90",
   "metadata": {},
   "outputs": [
    {
     "name": "stdout",
     "output_type": "stream",
     "text": [
      "hey he\n",
      "hello he\n",
      "shabaul sh\n"
     ]
    }
   ],
   "source": [
    "for i in \"hey hello shabaul\".split(\" \"):\n",
    "    print(i,i[0:2])"
   ]
  },
  {
   "cell_type": "code",
   "execution_count": 47,
   "id": "98dc0977-3834-47de-ad54-1a3ccec9b5f9",
   "metadata": {},
   "outputs": [
    {
     "name": "stdout",
     "output_type": "stream",
     "text": [
      "{'name': 13, 'age': 40, 'sex': 36}\n"
     ]
    }
   ],
   "source": [
    "d={\"name\":(lambda x:x+10)(3),\"age\":(lambda y:y*10)(4),\"sex\":(lambda z:z**2)(6)}\n",
    "print(d)"
   ]
  },
  {
   "cell_type": "code",
   "execution_count": 49,
   "id": "0d43af8b-a852-4635-9ab4-4b8e3bebb7fb",
   "metadata": {},
   "outputs": [
    {
     "data": {
      "text/plain": [
       "25"
      ]
     },
     "execution_count": 49,
     "metadata": {},
     "output_type": "execute_result"
    }
   ],
   "source": [
    "# Q1. Square of a number\n",
    "#Write a lambda function to square a number and call it for input 5.\n",
    "(lambda x:x**2)(5)"
   ]
  },
  {
   "cell_type": "code",
   "execution_count": 51,
   "id": "db6bc4f0-c63b-4de3-b411-2fc41a67b7d1",
   "metadata": {},
   "outputs": [
    {
     "name": "stdout",
     "output_type": "stream",
     "text": [
      "36\n"
     ]
    }
   ],
   "source": [
    "x=lambda x:x**2\n",
    "print(x(6))"
   ]
  },
  {
   "cell_type": "code",
   "execution_count": 53,
   "id": "0ac2ebe6-d951-4e80-92de-f10150386c63",
   "metadata": {},
   "outputs": [
    {
     "data": {
      "text/plain": [
       "30"
      ]
     },
     "execution_count": 53,
     "metadata": {},
     "output_type": "execute_result"
    }
   ],
   "source": [
    "# Q2. Add two numbers\n",
    "#Write a lambda function to add two numbers and call it with 10 and 20.\n",
    "(lambda x,y:x+y)(10,20)\n",
    "\n"
   ]
  },
  {
   "cell_type": "code",
   "execution_count": 57,
   "id": "180d06ef-af28-471d-bc68-30900e274afe",
   "metadata": {},
   "outputs": [
    {
     "name": "stdout",
     "output_type": "stream",
     "text": [
      "30\n"
     ]
    }
   ],
   "source": [
    "x1=lambda x,y:x+y\n",
    "print(x1(10,20))"
   ]
  },
  {
   "cell_type": "code",
   "execution_count": 61,
   "id": "b9a70b48-4f49-4988-afe6-4f82f64c75b9",
   "metadata": {},
   "outputs": [
    {
     "data": {
      "text/plain": [
       "2"
      ]
     },
     "execution_count": 61,
     "metadata": {},
     "output_type": "execute_result"
    }
   ],
   "source": [
    "# Q3. Filter even numbers using lambda\n",
    "# Given a list of numbers, use filter() and a lambda to return only even numbers.\n",
    "f=filter(lambda x:x%2==0, [2,3,4,5,6])\n",
    "next(f)"
   ]
  },
  {
   "cell_type": "code",
   "execution_count": 63,
   "id": "67114da5-8778-4697-af12-d40ec375b825",
   "metadata": {},
   "outputs": [
    {
     "data": {
      "text/plain": [
       "4"
      ]
     },
     "execution_count": 63,
     "metadata": {},
     "output_type": "execute_result"
    }
   ],
   "source": [
    "next(f)"
   ]
  },
  {
   "cell_type": "code",
   "execution_count": 65,
   "id": "cbe7dc3d-354c-4e46-955f-cd6bcca6c404",
   "metadata": {},
   "outputs": [
    {
     "data": {
      "text/plain": [
       "6"
      ]
     },
     "execution_count": 65,
     "metadata": {},
     "output_type": "execute_result"
    }
   ],
   "source": [
    "next(f)"
   ]
  },
  {
   "cell_type": "code",
   "execution_count": 67,
   "id": "81390e8f-c2ea-4223-a4d6-576e38be9305",
   "metadata": {},
   "outputs": [
    {
     "ename": "StopIteration",
     "evalue": "",
     "output_type": "error",
     "traceback": [
      "\u001b[1;31m---------------------------------------------------------------------------\u001b[0m",
      "\u001b[1;31mStopIteration\u001b[0m                             Traceback (most recent call last)",
      "Cell \u001b[1;32mIn[67], line 1\u001b[0m\n\u001b[1;32m----> 1\u001b[0m \u001b[38;5;28mnext\u001b[39m(f)\n",
      "\u001b[1;31mStopIteration\u001b[0m: "
     ]
    }
   ],
   "source": [
    "next(f)"
   ]
  },
  {
   "cell_type": "code",
   "execution_count": 69,
   "id": "ed3c7089-9d2d-4dfe-b1ec-d09e0db13f3d",
   "metadata": {},
   "outputs": [
    {
     "data": {
      "text/plain": [
       "[2, 4, 6]"
      ]
     },
     "execution_count": 69,
     "metadata": {},
     "output_type": "execute_result"
    }
   ],
   "source": [
    "g=filter(lambda x:x%2==0, [2,3,4,5,6])\n",
    "list(g)"
   ]
  },
  {
   "cell_type": "code",
   "execution_count": 71,
   "id": "8dee9d70-c13c-4987-8bb6-3886700e2051",
   "metadata": {},
   "outputs": [
    {
     "data": {
      "text/plain": [
       "[2, 4, 6, 8, 1000]"
      ]
     },
     "execution_count": 71,
     "metadata": {},
     "output_type": "execute_result"
    }
   ],
   "source": [
    "# Q4. Double each number using lambda and map\n",
    "# Use map() and a lambda function to double all numbers in a list.\n",
    "m=map(lambda x:x*2, [1,2,3,4,500])\n",
    "list(m)"
   ]
  },
  {
   "cell_type": "code",
   "execution_count": 91,
   "id": "ca7616a1-4cf0-437d-a1cd-e8ce1ee2009c",
   "metadata": {},
   "outputs": [
    {
     "name": "stdout",
     "output_type": "stream",
     "text": [
      "[(2, 1), (1, 5), (3, 8)]\n"
     ]
    }
   ],
   "source": [
    "# Q5. Sort a list of tuples by the second value using lambda\n",
    "# Sort this list using sorted() and a lambda based on the second item in each tuple.\n",
    "#data = [(1, 5), (2, 1), (3, 8)]\n",
    "# Expected output: [(2, 1), (1, 5), (3, 8)]\n",
    "data = [(1, 5), (2, 1), (3, 8)]\n",
    "sorted_data=sorted(data,key=lambda x:x[1])\n",
    "print(sorted_data)\n",
    "\n",
    "#So you're not sorting by the first number in each tuple — you're sorting by the second number only, because of key=lambda x: x[1].\n",
    "\n",
    "\n",
    "\n",
    "\n",
    "\n",
    "# Summary:\n",
    "# key= tells Python what to sort by.\n",
    "\n",
    "# In this case, you're sorting tuples based on their second value using lambda x: x[1]."
   ]
  },
  {
   "cell_type": "code",
   "execution_count": 30,
   "id": "39e3cc83-70a1-41c9-88ba-239f330c0513",
   "metadata": {},
   "outputs": [
    {
     "name": "stdout",
     "output_type": "stream",
     "text": [
      "8\n"
     ]
    }
   ],
   "source": [
    "#  Q6. Use lambda inside a function that takes another function\n",
    "# Create a function apply_func(f, x) that applies any function f to x.\n",
    "# Then pass a lambda that returns x**3.\n",
    "def apply_func(f, x):\n",
    "    return f(x)\n",
    "\n",
    "# Pass a lambda that returns x cubed\n",
    "result = apply_func(lambda x: x**3, 2)\n",
    "\n",
    "print(result)\n"
   ]
  },
  {
   "cell_type": "code",
   "execution_count": 24,
   "id": "7995b0ad-33ad-4e00-a49d-31fa83544c43",
   "metadata": {},
   "outputs": [
    {
     "name": "stdout",
     "output_type": "stream",
     "text": [
      "[2, 2, 4, 4, 5]\n"
     ]
    }
   ],
   "source": [
    "mylist=[2,4,5,2,4]\n",
    "start=0\n",
    "next1=1\n",
    "for i in range(len(mylist)*2):\n",
    "    if(mylist[start]>mylist[next1]):\n",
    "        mylist[start],mylist[next1]=mylist[next1],mylist[start]\n",
    "        start=0\n",
    "        next1=1\n",
    "    else:\n",
    "        start+=1\n",
    "        next1=start+1\n",
    "        if (next1 >= len(mylist)):\n",
    "            start=0\n",
    "            next1=1\n",
    "print(mylist)"
   ]
  },
  {
   "cell_type": "code",
   "execution_count": null,
   "id": "98542bb2-dc24-4879-a5d2-f790dfc1801b",
   "metadata": {},
   "outputs": [],
   "source": []
  }
 ],
 "metadata": {
  "kernelspec": {
   "display_name": "Python 3 (ipykernel)",
   "language": "python",
   "name": "python3"
  },
  "language_info": {
   "codemirror_mode": {
    "name": "ipython",
    "version": 3
   },
   "file_extension": ".py",
   "mimetype": "text/x-python",
   "name": "python",
   "nbconvert_exporter": "python",
   "pygments_lexer": "ipython3",
   "version": "3.12.4"
  }
 },
 "nbformat": 4,
 "nbformat_minor": 5
}
