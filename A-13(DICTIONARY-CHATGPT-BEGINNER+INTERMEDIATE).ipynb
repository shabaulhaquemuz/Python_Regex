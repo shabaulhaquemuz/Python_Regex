{
 "cells": [
  {
   "cell_type": "code",
   "execution_count": 5,
   "id": "04b6300b-628c-4f45-a0e8-11e4e637c8c4",
   "metadata": {},
   "outputs": [
    {
     "name": "stdout",
     "output_type": "stream",
     "text": [
      "{'shabaul': 'haque', 'age': 23, 'address': 'delhi'}\n",
      "{'shabaul': 'haque', 'age': 23, 'address': 'delhi', 'marital status': 'unmarried'}\n"
     ]
    }
   ],
   "source": [
    "#1.Add a New Key-Value Pair to a Dictionary\n",
    "d={\"shabaul\":\"haque\",\"age\":23,\"address\":\"delhi\"}\n",
    "print(d)\n",
    "d[\"marital status\"]=\"unmarried\"\n",
    "print(d)"
   ]
  },
  {
   "cell_type": "code",
   "execution_count": 7,
   "id": "67b51da7-1746-42e8-aec9-a6f20c69da66",
   "metadata": {},
   "outputs": [
    {
     "name": "stdout",
     "output_type": "stream",
     "text": [
      "1300\n"
     ]
    }
   ],
   "source": [
    "#2.Write a program to sum all the numeric values in a dictionary\n",
    "expenses = {'food': 200, 'rent': 800, 'utilities': 300}\n",
    "sum=0\n",
    "for i in expenses.values():\n",
    "    sum+=i\n",
    "print(sum)\n",
    "    "
   ]
  },
  {
   "cell_type": "code",
   "execution_count": 9,
   "id": "93c348d0-6638-434a-a186-bbe442683809",
   "metadata": {},
   "outputs": [
    {
     "name": "stdout",
     "output_type": "stream",
     "text": [
      "1300\n"
     ]
    }
   ],
   "source": [
    "expenses = {'food': 200, 'rent': 800, 'utilities': 300}\n",
    "sumvalue=0\n",
    "for i in expenses:\n",
    "    sumvalue+=expenses[i]\n",
    "print(sumvalue)"
   ]
  },
  {
   "cell_type": "code",
   "execution_count": 11,
   "id": "5b49cc3a-22f5-40fb-9044-e6b5b2cd5641",
   "metadata": {},
   "outputs": [
    {
     "name": "stdout",
     "output_type": "stream",
     "text": [
      "{'name': 'Bob', 'grade': 'A'} 22\n"
     ]
    }
   ],
   "source": [
    "#3.Write a program to remove a key from a dictionary.\n",
    "student = {'name': 'Bob', 'age': 22, 'grade': 'A'} #remove age\n",
    "z=student.pop(\"age\")\n",
    "print(student,z)\n",
    "#z = student.pop(\"age\", None)  # Returns None if \"age\" doesn't exist\n"
   ]
  },
  {
   "cell_type": "code",
   "execution_count": 13,
   "id": "c759cd94-7493-42e9-bc07-d51dbf0eb0e2",
   "metadata": {},
   "outputs": [
    {
     "name": "stdout",
     "output_type": "stream",
     "text": [
      "['apple', 'banana', 'mango']\n"
     ]
    }
   ],
   "source": [
    "#4.Write a program to extract all the keys from a dictionary into a list.\n",
    "fruit_prices = {'apple': 100, 'banana': 40, 'mango': 80}\n",
    "mylist=[]\n",
    "for i in fruit_prices:\n",
    "    mylist.append(i)\n",
    "print(mylist)"
   ]
  },
  {
   "cell_type": "code",
   "execution_count": 15,
   "id": "ea82b704-44ab-4415-90c9-bdfcb077bc1a",
   "metadata": {},
   "outputs": [
    {
     "name": "stdout",
     "output_type": "stream",
     "text": [
      "id 101\n",
      "name John\n",
      "salary 50000\n"
     ]
    }
   ],
   "source": [
    "#5.Write a program to print each key and its value in a dictionary using a loop.\n",
    "employee = {'id': 101, 'name': 'John', 'salary': 50000}\n",
    "for i in employee:\n",
    "    print(i,employee[i])\n",
    "    "
   ]
  },
  {
   "cell_type": "code",
   "execution_count": 17,
   "id": "8610f562-e36c-4079-9548-308b5a08077a",
   "metadata": {},
   "outputs": [
    {
     "name": "stdout",
     "output_type": "stream",
     "text": [
      "id 101\n",
      "name John\n",
      "salary 50000\n"
     ]
    }
   ],
   "source": [
    "employee = {'id': 101, 'name': 'John', 'salary': 50000}\n",
    "for i in employee.keys():\n",
    "    print(i,employee[i])"
   ]
  },
  {
   "cell_type": "code",
   "execution_count": 25,
   "id": "d3d10cc4-83ee-426e-afc4-784d12db76da",
   "metadata": {},
   "outputs": [
    {
     "name": "stdout",
     "output_type": "stream",
     "text": [
      "{'d': 1, 'a': 2, 't': 1, 's': 1, 'c': 2, 'i': 1, 'e': 2, 'n': 1}\n"
     ]
    }
   ],
   "source": [
    "#6.Write a program to count how many times each character appears in a given string using a dictionary.\n",
    "inputstr=\"datascience\"\n",
    "d2={}\n",
    "for i in inputstr:\n",
    "        if(i in d2):\n",
    "            d2[i]=d2[i]+1\n",
    "        else:\n",
    "            d2[i]=1\n",
    "print(d2)"
   ]
  },
  {
   "cell_type": "code",
   "execution_count": 39,
   "id": "730335b1-3abd-4e67-b191-3b69fdf20352",
   "metadata": {},
   "outputs": [
    {
     "name": "stdout",
     "output_type": "stream",
     "text": [
      "{'a': 1, 'b': 2, 'c': 3, 'd': 4}\n"
     ]
    }
   ],
   "source": [
    "#7.Write a program to merge two dictionaries into one.\n",
    "dict1 = {'a': 1, 'b': 2}\n",
    "dict2 = {'c': 3, 'd': 4}\n",
    "dict3={}\n",
    "for i in dict1 :\n",
    "    if(i in dict3):\n",
    "        continue\n",
    "    else:\n",
    "        dict3[i]=dict1[i]\n",
    "for i in dict2:\n",
    "    if(i in dict3):\n",
    "        continue\n",
    "    else:\n",
    "        dict3[i]=dict2[i]\n",
    "print(dict3)"
   ]
  },
  {
   "cell_type": "code",
   "execution_count": 41,
   "id": "5451593a-36f0-4d43-a55f-35489d568c3d",
   "metadata": {},
   "outputs": [
    {
     "name": "stdout",
     "output_type": "stream",
     "text": [
      "{'a': 1, 'b': 2, 'c': 3, 'd': 4}\n"
     ]
    }
   ],
   "source": [
    "dict1 = {'a': 1, 'b': 2}\n",
    "dict2 = {'c': 3, 'd': 4}\n",
    "dict3={}\n",
    "for i in dict1:\n",
    "    dict3[i]=dict1[i]\n",
    "for i in dict2:\n",
    "    dict3[i]=dict2[i]\n",
    "print(dict3)"
   ]
  },
  {
   "cell_type": "code",
   "execution_count": 45,
   "id": "c57b1e49-feef-41cd-8515-c5b83b5fc6fa",
   "metadata": {},
   "outputs": [
    {
     "name": "stdout",
     "output_type": "stream",
     "text": [
      "95\n"
     ]
    }
   ],
   "source": [
    "#8.Write a program to find the highest value in the dictionary.\n",
    "marks = {'Alice': 88, 'Bob': 75, 'Charlie': 95}\n",
    "max=0\n",
    "for i in marks.values():\n",
    "    if(i>max):\n",
    "        max=i\n",
    "print(max)\n",
    "    "
   ]
  },
  {
   "cell_type": "code",
   "execution_count": 61,
   "id": "f8b56881-7546-4a94-a97b-4fb6ebc661c0",
   "metadata": {},
   "outputs": [
    {
     "name": "stdout",
     "output_type": "stream",
     "text": [
      "Charlie\n",
      "Charlie 95\n"
     ]
    }
   ],
   "source": [
    "#9.Write a program to find the key with the highest value in the dictionary.\n",
    "mark = {'Alice': 88, 'Bob': 75, 'Charlie': 95}\n",
    "maxx=0\n",
    "topper=\"\"\n",
    "for i in mark:\n",
    "    if(mark[i]>maxx):\n",
    "        maxx=mark[i]\n",
    "        topper=i\n",
    "print(topper)\n",
    "print(topper,maxx)"
   ]
  },
  {
   "cell_type": "code",
   "execution_count": 67,
   "id": "fb17bc4b-8bd3-40c8-9744-76112793f986",
   "metadata": {},
   "outputs": [
    {
     "name": "stdout",
     "output_type": "stream",
     "text": [
      "yes available\n"
     ]
    }
   ],
   "source": [
    "#10.Write a program that checks if a given key exists in a dictionary.\n",
    "my_dict = {'name': 'Mantasha', 'course': 'Data Science'}\n",
    "key = 'course'\n",
    "for i in my_dict:\n",
    "    if(i=='course'):\n",
    "        print(\"yes available\")\n",
    "#but this will not print anything when the key is not found"
   ]
  },
  {
   "cell_type": "code",
   "execution_count": 77,
   "id": "b30551ed-4d71-49df-8579-8bd60aae8ab2",
   "metadata": {},
   "outputs": [
    {
     "name": "stdout",
     "output_type": "stream",
     "text": [
      "yes available\n"
     ]
    }
   ],
   "source": [
    "my_dict = {'name': 'Mantasha', 'course': 'Data Science'}\n",
    "key=\"course\"\n",
    "if(key in my_dict):\n",
    "    print(\"yes available\")\n",
    "else:\n",
    "    print(\"not available\")"
   ]
  },
  {
   "cell_type": "code",
   "execution_count": 79,
   "id": "becd514f-8945-4318-9770-c5018fca1e09",
   "metadata": {},
   "outputs": [
    {
     "name": "stdout",
     "output_type": "stream",
     "text": [
      "yes available\n"
     ]
    }
   ],
   "source": [
    "my_dict = {'name': 'Mantasha', 'course': 'Data Science'}\n",
    "key=\"course\"\n",
    "if(\"course\" in my_dict):\n",
    "    print(\"yes available\")\n",
    "else:\n",
    "    print(\"not available\")"
   ]
  },
  {
   "cell_type": "code",
   "execution_count": 81,
   "id": "9624b316-f5e2-4784-bacd-0f9d108ba4ca",
   "metadata": {},
   "outputs": [
    {
     "name": "stdout",
     "output_type": "stream",
     "text": [
      "not available\n"
     ]
    }
   ],
   "source": [
    "my_dict = {'name': 'Mantasha', 'course': 'Data Science'}\n",
    "key=\"age\"\n",
    "if(key in my_dict):\n",
    "    print(\"yes available\")\n",
    "else:\n",
    "    print(\"not available\")"
   ]
  },
  {
   "cell_type": "code",
   "execution_count": 112,
   "id": "0c1df8ca-8529-46d1-b313-897cd0ebf21a",
   "metadata": {},
   "outputs": [
    {
     "name": "stdout",
     "output_type": "stream",
     "text": [
      "{'name': 'Alice', 'age': 25, 'gender': 'Female'}\n"
     ]
    }
   ],
   "source": [
    "#11.Write a program that creates a dictionary by combining two lists: one of keys and one of values.\n",
    "keys = ['name', 'age', 'gender']\n",
    "values = ['Alice', 25, 'Female']\n",
    "d3={}\n",
    "for i in range(0,3):\n",
    "    d3[keys[i]]=values[i]\n",
    "print(d3)"
   ]
  },
  {
   "cell_type": "code",
   "execution_count": 114,
   "id": "a712b008-30e8-4332-8f40-84d065c768c7",
   "metadata": {},
   "outputs": [
    {
     "name": "stdout",
     "output_type": "stream",
     "text": [
      "{'name': 'Alice', 'age': 25, 'gender': 'Female'}\n"
     ]
    }
   ],
   "source": [
    "#better way\n",
    "keys = ['name', 'age', 'gender']\n",
    "values = ['Alice', 25, 'Female']\n",
    "d3={}\n",
    "for i in range(len(keys)):\n",
    "    d3[keys[i]]=values[i]\n",
    "print(d3)"
   ]
  },
  {
   "cell_type": "code",
   "execution_count": 5,
   "id": "627ca8d3-55fc-49ef-b521-186e34920ce0",
   "metadata": {},
   "outputs": [
    {
     "name": "stdout",
     "output_type": "stream",
     "text": [
      "{'name': 'shabaul', 'age': 23, 'gender': 'male'}\n"
     ]
    }
   ],
   "source": [
    "#11.Create a dictionary with the keys 'name', 'age', and 'gender', and assign them appropriate values.\n",
    "d4={\"name\":\"shabaul\",\"age\":23,\"gender\":\"male\"}\n",
    "print(d4)"
   ]
  },
  {
   "cell_type": "code",
   "execution_count": 7,
   "id": "63bc014e-b025-43fd-85f6-ab28e17e96da",
   "metadata": {},
   "outputs": [
    {
     "data": {
      "text/plain": [
       "22"
      ]
     },
     "execution_count": 7,
     "metadata": {},
     "output_type": "execute_result"
    }
   ],
   "source": [
    "#12.Access the value associated with the key 'age' from this dictionary:\n",
    "student = {'name': 'Alice', 'age': 22, 'gender': 'Female'}\n",
    "student[\"age\"]\n"
   ]
  },
  {
   "cell_type": "code",
   "execution_count": 13,
   "id": "4dbb1e2e-f48c-4cf2-a696-8456e99fb5a2",
   "metadata": {},
   "outputs": [
    {
     "name": "stdout",
     "output_type": "stream",
     "text": [
      "{'name': 'Alice', 'age': 23, 'gender': 'Female'}\n"
     ]
    }
   ],
   "source": [
    "#13.Update the 'age' value of the above dictionary to 23.\n",
    "student1 = {'name': 'Alice', 'age': 22, 'gender': 'Female'}\n",
    "student1[\"age\"]=23\n",
    "print(student1)"
   ]
  },
  {
   "cell_type": "code",
   "execution_count": 15,
   "id": "28946428-358d-4de2-88c8-f90fb5fe1ca2",
   "metadata": {},
   "outputs": [
    {
     "name": "stdout",
     "output_type": "stream",
     "text": [
      "{'name': 'Alice', 'age': 22, 'gender': 'Female', 'course': 'Data Science'}\n"
     ]
    }
   ],
   "source": [
    "#14.Add a new key-value pair 'course': 'Data Science' to the above dictionary.\n",
    "student2 = {'name': 'Alice', 'age': 22, 'gender': 'Female'}\n",
    "student2[\"course\"]=\"Data Science\"\n",
    "print(student2)\n"
   ]
  },
  {
   "cell_type": "code",
   "execution_count": 19,
   "id": "fd420e55-fef2-44c3-b410-8c02e727fbad",
   "metadata": {},
   "outputs": [
    {
     "name": "stdout",
     "output_type": "stream",
     "text": [
      "{'name': 'Alice', 'age': 22}\n"
     ]
    }
   ],
   "source": [
    "#15.Delete the key 'gender' from the above dictionary.\n",
    "student3 = {'name': 'Alice', 'age': 22, 'gender': 'Female'}\n",
    "x=student3.pop(\"gender\")\n",
    "print(student3)"
   ]
  },
  {
   "cell_type": "code",
   "execution_count": 23,
   "id": "07d4133e-aac9-4e63-8ae0-3ab08fcf3246",
   "metadata": {},
   "outputs": [
    {
     "name": "stdout",
     "output_type": "stream",
     "text": [
      "available\n"
     ]
    }
   ],
   "source": [
    "#16.Check if the key 'name' exists in the dictionary.\n",
    "student4 = {'name': 'Alice', 'age': 22, 'gender': 'Female'}\n",
    "if(\"name\" in student4):\n",
    "    print(\"available\")\n",
    "else:\n",
    "    print(\"not available\")"
   ]
  },
  {
   "cell_type": "code",
   "execution_count": 25,
   "id": "be626cd1-5752-48b8-9cc6-64ba35652ead",
   "metadata": {},
   "outputs": [
    {
     "name": "stdout",
     "output_type": "stream",
     "text": [
      "name\n",
      "age\n",
      "gender\n"
     ]
    }
   ],
   "source": [
    "#17.Get all the keys from the dictionary using a built-in method.\n",
    "student5 = {'name': 'Alice', 'age': 22, 'gender': 'Female'}\n",
    "for i in student5.keys():\n",
    "    print(i)"
   ]
  },
  {
   "cell_type": "code",
   "execution_count": 27,
   "id": "5e109baa-8325-4f3b-9e91-1b8e0f7e9160",
   "metadata": {},
   "outputs": [
    {
     "name": "stdout",
     "output_type": "stream",
     "text": [
      "name\n",
      "age\n",
      "gender\n"
     ]
    }
   ],
   "source": [
    "#non-inbuilt method, loop gives keys only\n",
    "student6 = {'name': 'Alice', 'age': 22, 'gender': 'Female'}\n",
    "for i in student6:\n",
    "    print(i)"
   ]
  },
  {
   "cell_type": "code",
   "execution_count": 29,
   "id": "0f329f63-33fb-4367-aa3f-cedee703624c",
   "metadata": {},
   "outputs": [
    {
     "name": "stdout",
     "output_type": "stream",
     "text": [
      "Alice\n",
      "22\n",
      "Female\n"
     ]
    }
   ],
   "source": [
    "#18.Get all the values from the dictionary using a built-in method.\n",
    "student7 = {'name': 'Alice', 'age': 22, 'gender': 'Female'}\n",
    "for i in student7.values():\n",
    "    print(i)"
   ]
  },
  {
   "cell_type": "code",
   "execution_count": 31,
   "id": "00854b50-842c-4f09-a7c1-b7970189f8ea",
   "metadata": {},
   "outputs": [],
   "source": [
    "#19.Create an empty dictionary using two different methods.\n",
    "# 1. Using curly braces {}\n",
    "# For empty dictionary:\n",
    "# my_dict = {}\n",
    "# my_dict = {'name': 'Alice', 'age': 25}\n",
    "\n",
    "# 2. Using dict() constructor\n",
    "# - For empty dictionary:\n",
    "# my_dict = dict()\n",
    "\n",
    "# - For a dictionary with data:\n",
    "# my_dict = dict(name='Alice', age=25)\n",
    "\n",
    "#3. Using a list of tuples (key-value pairs)\n",
    "#my_dict = dict([('name', 'Alice'), ('age', 25)])\n",
    "\n",
    "#4. Using zip() function\n",
    "# keys = ['name', 'age']\n",
    "# values = ['Alice', 25]\n",
    "# my_dict = dict(zip(keys, values))\n",
    "\n",
    "#5. Using dictionary comprehension\n",
    "#my_dict = {x: x**2 for x in range(3)}\n",
    "# Output: {0: 0, 1: 1, 2: 4}\n",
    "\n",
    "#6. Using fromkeys() method\n",
    "# keys = ['name', 'age', 'gender']\n",
    "# my_dict = dict.fromkeys(keys)\n",
    "# {'name': None, 'age': None, 'gender': None}\n",
    "\n",
    "#my_dict2 = dict.fromkeys(keys, 'unknown')\n",
    "# {'name': 'unknown', 'age': 'unknown', 'gender': 'unknown'}\n",
    "\n",
    "\n",
    "#❌ Invalid Way (Will cause error):\n",
    "# my_dict = new dict{}   # ❌ Wrong syntax\n",
    "\n"
   ]
  },
  {
   "cell_type": "code",
   "execution_count": 45,
   "id": "86bd9cd0-f655-4f8b-9845-b5f3eecc012a",
   "metadata": {},
   "outputs": [
    {
     "name": "stdout",
     "output_type": "stream",
     "text": [
      "{}\n",
      "{'name': 'shabaul', 'age': 23}\n",
      "{0: 0, 1: 1, 2: 4}\n",
      "{'name': None, 'age': None, 'sex': None}\n",
      "{}\n",
      "{'name': 'shabaul', 'age': 23}\n"
     ]
    }
   ],
   "source": [
    "#19.Create an empty dictionary using two different methods.\n",
    "#1st:\n",
    "mydict1={}\n",
    "print(mydict1)\n",
    "\n",
    "#2nd:\n",
    "keys=[\"name\",\"age\"]\n",
    "values=[\"shabaul\",23]\n",
    "mydictionary2=dict(zip(keys,values))\n",
    "print(mydictionary2)\n",
    "\n",
    "#3rd\n",
    "mydict2={x:x**2 for x in range(3)}\n",
    "print(mydict2)\n",
    "\n",
    "#4th\n",
    "keys=[\"name\",\"age\",\"sex\"]\n",
    "mydict3=dict.fromkeys(keys)\n",
    "print(mydict3)\n",
    "\n",
    "#5th\n",
    "mydict4=dict()\n",
    "print(mydict4)\n",
    "\n",
    "#6th\n",
    "mydict5=dict(name=\"shabaul\",age=23)\n",
    "print(mydict5)"
   ]
  },
  {
   "cell_type": "code",
   "execution_count": 47,
   "id": "33fe9432-9739-4fc4-bd45-10815cd5219f",
   "metadata": {},
   "outputs": [
    {
     "name": "stdout",
     "output_type": "stream",
     "text": [
      "name Alice\n",
      "age 22\n",
      "gender Female\n"
     ]
    }
   ],
   "source": [
    "#20.Loop through the dictionary and print each key and its value on separate lines.\n",
    "student8 = {'name': 'Alice', 'age': 22, 'gender': 'Female'}\n",
    "for i in student8:\n",
    "    print(i,student8[i])"
   ]
  },
  {
   "cell_type": "code",
   "execution_count": 57,
   "id": "d623cfd4-5b24-4221-b41b-a2bce55c61e1",
   "metadata": {},
   "outputs": [
    {
     "data": {
      "text/plain": [
       "22"
      ]
     },
     "execution_count": 57,
     "metadata": {},
     "output_type": "execute_result"
    }
   ],
   "source": [
    "# Basic Dictionary Questions (Level 2)\n",
    "#21. Use the .get() method to access the value of key 'age' from this dictionary. What happens if the key doesn't exist?\n",
    "student9 = {'name': 'Alice', 'age': 22}\n",
    "student9.get(\"age\")"
   ]
  },
  {
   "cell_type": "code",
   "execution_count": 5,
   "id": "fccbe854-ca9d-4d73-a325-a8105062ea50",
   "metadata": {},
   "outputs": [],
   "source": [
    "student10 = {'name': 'Alice', 'age': 22}\n",
    "(student10.get(\"gender\"))\n",
    "#it returns none but we dont see any output because we are not printing it\n"
   ]
  },
  {
   "cell_type": "code",
   "execution_count": 13,
   "id": "b133a528-6081-4f66-9908-cdb4aabbc3d9",
   "metadata": {},
   "outputs": [
    {
     "name": "stdout",
     "output_type": "stream",
     "text": [
      "None\n"
     ]
    }
   ],
   "source": [
    "student11 = {'name': 'Alice', 'age': 22}\n",
    "print((student11.get(\"gender\")))\n",
    "#here we can see none because we printed it"
   ]
  },
  {
   "cell_type": "code",
   "execution_count": 19,
   "id": "92ee4ee7-7021-4511-877c-38b570110067",
   "metadata": {},
   "outputs": [
    {
     "name": "stdout",
     "output_type": "stream",
     "text": [
      "{'name': 'Alice', 'age': 22, 'gender': 'Female', 'course': 'DS'}\n"
     ]
    }
   ],
   "source": [
    "#22. Merge these two dictionaries using the .update() method:\n",
    "dict1 = {'name': 'Alice', 'age': 22}\n",
    "dict2 = {'gender': 'Female', 'course': 'DS'}\n",
    "dict1.update(dict2)\n",
    "print(dict1)\n"
   ]
  },
  {
   "cell_type": "code",
   "execution_count": 23,
   "id": "dd174342-2241-4d03-b66d-42706f20d4b4",
   "metadata": {},
   "outputs": [
    {
     "name": "stdout",
     "output_type": "stream",
     "text": [
      "{'name': 'Alice', 'age': 22, 'gender': 'Female'}\n"
     ]
    }
   ],
   "source": [
    "#23. Create a dictionary from these two lists:\n",
    "keys = ['name', 'age', 'gender']\n",
    "values = ['Alice', 22, 'Female']\n",
    "d5=dict(zip(keys,values))\n",
    "print(d5)"
   ]
  },
  {
   "cell_type": "code",
   "execution_count": 3,
   "id": "4f9ac116-b48d-4e17-be31-d13131a9150f",
   "metadata": {},
   "outputs": [
    {
     "name": "stdout",
     "output_type": "stream",
     "text": [
      "{'name': 'Alice', 'age': 22, 'gender': 'Female'}\n"
     ]
    }
   ],
   "source": [
    "keyss = ['name', 'age', 'gender']\n",
    "valuess = ['Alice', 22, 'Female']\n",
    "d6={}\n",
    "for i in range(0,len(keyss)):\n",
    "    d6[keyss[i]]=valuess[i]\n",
    "print(d6)"
   ]
  },
  {
   "cell_type": "code",
   "execution_count": 13,
   "id": "32594a06-9ed3-46c6-9e67-b09362c44965",
   "metadata": {},
   "outputs": [
    {
     "name": "stdout",
     "output_type": "stream",
     "text": [
      "3\n"
     ]
    }
   ],
   "source": [
    "#24. Remove the last inserted item from a dictionary using a built-in method.\n",
    "sample = {'a': 1, 'b': 2, 'c': 3}\n",
    "last=sample.pop(\"c\")\n",
    "print(last)\n",
    "#it does remove the last element but i am manually specifying the key\n",
    "#.popitem() removes and returns the last inserted item as a (key, value) tuple."
   ]
  },
  {
   "cell_type": "code",
   "execution_count": 21,
   "id": "5f945ccd-31f4-4913-8ac1-e58dfdfe811a",
   "metadata": {},
   "outputs": [
    {
     "name": "stdout",
     "output_type": "stream",
     "text": [
      "('c', 3)\n",
      "{'a': 1, 'b': 2}\n"
     ]
    }
   ],
   "source": [
    "sample1 = {'a': 1, 'b': 2, 'c': 3}\n",
    "lastt=sample1.popitem()\n",
    "print(lastt)\n",
    "print(sample1)"
   ]
  },
  {
   "cell_type": "code",
   "execution_count": 37,
   "id": "3cb47505-2e29-4ad4-9bee-2e87136e0038",
   "metadata": {},
   "outputs": [
    {
     "name": "stdout",
     "output_type": "stream",
     "text": [
      "{'a': 1, 'c': 3}\n"
     ]
    }
   ],
   "source": [
    "#25. Use del to remove a key 'b' from the dictionary below.\n",
    "# del is a Python keyword used as a statement to delete:\n",
    "\n",
    "# a variable\n",
    "# a key from a dictionary\n",
    "# a slice from a list\n",
    "# or even an item from a list\n",
    "# x = 10\n",
    "# del x\n",
    "\n",
    "# or\n",
    "\n",
    "# d = {'a': 1, 'b': 2}\n",
    "# del d['b']\n",
    "\n",
    "\n",
    "sample2 = {'a': 1, 'b': 2, 'c': 3}\n",
    "del sample2[\"b\"]\n",
    "print(sample2)"
   ]
  },
  {
   "cell_type": "code",
   "execution_count": 45,
   "id": "609e9a7b-597b-46bb-a629-6d91d7238c36",
   "metadata": {},
   "outputs": [
    {
     "ename": "SyntaxError",
     "evalue": "invalid syntax (1798879568.py, line 2)",
     "output_type": "error",
     "traceback": [
      "\u001b[1;36m  Cell \u001b[1;32mIn[45], line 2\u001b[1;36m\u001b[0m\n\u001b[1;33m    dic={x:x**2 for x in range(1,6):}\u001b[0m\n\u001b[1;37m                                   ^\u001b[0m\n\u001b[1;31mSyntaxError\u001b[0m\u001b[1;31m:\u001b[0m invalid syntax\n"
     ]
    }
   ],
   "source": [
    "#26.  Create a dictionary using a loop where keys are numbers from 1 to 5 and values are their squares.\n",
    "dic={x:x**2 for x in range(1,6):}\n",
    "print(dic)\n",
    "#we dont use :(colon) after describing for loop in comprehension method"
   ]
  },
  {
   "cell_type": "code",
   "execution_count": 47,
   "id": "06e2549b-db6c-4b68-8932-43d19ca8c190",
   "metadata": {},
   "outputs": [
    {
     "name": "stdout",
     "output_type": "stream",
     "text": [
      "{1: 1, 2: 4, 3: 9, 4: 16, 5: 25}\n"
     ]
    }
   ],
   "source": [
    "dic1={x:x**2 for x in range(1,6)}\n",
    "print(dic1)"
   ]
  },
  {
   "cell_type": "code",
   "execution_count": 49,
   "id": "41b056fe-ce44-4aaf-8a30-bbd82a216dbc",
   "metadata": {},
   "outputs": [
    {
     "name": "stdout",
     "output_type": "stream",
     "text": [
      "{1: 1, 2: 4, 3: 9, 4: 16, 5: 25}\n"
     ]
    }
   ],
   "source": [
    "d7={}\n",
    "for i in range(1,6):\n",
    "    d7[i]=i**2\n",
    "print(d7)"
   ]
  },
  {
   "cell_type": "code",
   "execution_count": 51,
   "id": "5381c388-58eb-44c9-b4f0-8c12ee107fa2",
   "metadata": {},
   "outputs": [
    {
     "name": "stdout",
     "output_type": "stream",
     "text": [
      "{'b': 1, 'a': 3, 'n': 2}\n"
     ]
    }
   ],
   "source": [
    "#27. Count the frequency of each character in the string 'banana' using a dictionary.\n",
    "str1=\"banana\"\n",
    "d8={}\n",
    "for i in str1:\n",
    "    if(i in d8):\n",
    "        d8[i]=d8[i]+1\n",
    "    else:\n",
    "        d8[i]=1\n",
    "print(d8)"
   ]
  },
  {
   "cell_type": "code",
   "execution_count": 61,
   "id": "181a41da-aa08-4008-8376-8eb608cab5c3",
   "metadata": {},
   "outputs": [
    {
     "name": "stdout",
     "output_type": "stream",
     "text": [
      "{'name': 'shabaul', 'age': 24, 'status': 'unmarried'}\n"
     ]
    }
   ],
   "source": [
    "#28. Create a copy of a dictionary using the .copy() method.\n",
    "copyd={\"name\":\"shabaul\",\"age\":24,\"status\":\"unmarried\"}\n",
    "copied_dictionary=copyd.copy()\n",
    "print(copied_dictionary)"
   ]
  },
  {
   "cell_type": "code",
   "execution_count": 77,
   "id": "4c2bda43-d937-4f4b-8438-d98787d7d7ee",
   "metadata": {},
   "outputs": [
    {
     "name": "stdin",
     "output_type": "stream",
     "text": [
      "enter the key 1 name\n",
      "enter the value 1 saif\n",
      "enter the key 2 age\n",
      "enter the value 2 23\n",
      "enter the key 3 gender\n",
      "enter the value 3 male\n"
     ]
    },
    {
     "name": "stdout",
     "output_type": "stream",
     "text": [
      "{'name': 'saif', 'age': '23', 'gender': 'male'}\n"
     ]
    }
   ],
   "source": [
    "#29. Write a program that asks user to enter 3 key-value pairs and stores them in a dictionary.\n",
    "count=1\n",
    "d9={}\n",
    "for i in range(0,3):\n",
    "    keys=input(f\"enter the key {count}\")\n",
    "    values=input(f\"enter the value {count}\")\n",
    "    d9[keys]=values\n",
    "    count+=1\n",
    "print(d9)"
   ]
  },
  {
   "cell_type": "code",
   "execution_count": 105,
   "id": "638a928f-fb8e-4f18-aaaf-c878fff6fc09",
   "metadata": {},
   "outputs": [
    {
     "name": "stdout",
     "output_type": "stream",
     "text": [
      "yes\n"
     ]
    }
   ],
   "source": [
    "#30. Check if the value 22 exists in this dictionary:\n",
    "studentm = {'name': 'Alice', 'age': 22, 'gender': 'Female'}\n",
    "if(22 in studentm.values()):\n",
    "    print(\"yes\")\n",
    "else:\n",
    "    print(\"no\")"
   ]
  },
  {
   "cell_type": "code",
   "execution_count": 83,
   "id": "ffb53b45-86aa-48f8-bfad-f403c4113082",
   "metadata": {},
   "outputs": [
    {
     "name": "stdout",
     "output_type": "stream",
     "text": [
      "yes\n"
     ]
    }
   ],
   "source": [
    "\n",
    "studentx = {'name': 'Alice', 'age': 22, 'gender': 'Female'}\n",
    "for i in studentx.values():\n",
    "    if(i==22):\n",
    "        print(\"yes\")"
   ]
  },
  {
   "cell_type": "code",
   "execution_count": 87,
   "id": "43560ab0-7655-481c-81c3-a07d4eaeef73",
   "metadata": {},
   "outputs": [
    {
     "name": "stdout",
     "output_type": "stream",
     "text": [
      "yes\n"
     ]
    }
   ],
   "source": [
    "studenty = {'name': 'Alice', 'age': 22, 'gender': 'Female'}\n",
    "for i in studenty:\n",
    "    if(studenty[i]==22):\n",
    "        print(\"yes\")"
   ]
  },
  {
   "cell_type": "code",
   "execution_count": 89,
   "id": "c86e967f-3052-460f-88ae-75b5a2c889bc",
   "metadata": {},
   "outputs": [
    {
     "name": "stdout",
     "output_type": "stream",
     "text": [
      "(0, 'name')\n",
      "(1, 'age')\n",
      "(2, 'gender')\n"
     ]
    }
   ],
   "source": [
    "studentz = {'name': 'Alice', 'age': 22, 'gender': 'Female'}\n",
    "for i in enumerate(studentz):\n",
    "    print(i)\n",
    "#enumerate tells the position and key of the element and not the value"
   ]
  },
  {
   "cell_type": "code",
   "execution_count": 93,
   "id": "c79b6ffd-bb6c-41a2-a5ca-cc54f62224a8",
   "metadata": {},
   "outputs": [
    {
     "ename": "KeyError",
     "evalue": "(0, 'name')",
     "output_type": "error",
     "traceback": [
      "\u001b[1;31m---------------------------------------------------------------------------\u001b[0m",
      "\u001b[1;31mKeyError\u001b[0m                                  Traceback (most recent call last)",
      "Cell \u001b[1;32mIn[93], line 3\u001b[0m\n\u001b[0;32m      1\u001b[0m studentv \u001b[38;5;241m=\u001b[39m {\u001b[38;5;124m'\u001b[39m\u001b[38;5;124mname\u001b[39m\u001b[38;5;124m'\u001b[39m: \u001b[38;5;124m'\u001b[39m\u001b[38;5;124mAlice\u001b[39m\u001b[38;5;124m'\u001b[39m, \u001b[38;5;124m'\u001b[39m\u001b[38;5;124mage\u001b[39m\u001b[38;5;124m'\u001b[39m: \u001b[38;5;241m22\u001b[39m, \u001b[38;5;124m'\u001b[39m\u001b[38;5;124mgender\u001b[39m\u001b[38;5;124m'\u001b[39m: \u001b[38;5;124m'\u001b[39m\u001b[38;5;124mFemale\u001b[39m\u001b[38;5;124m'\u001b[39m}\n\u001b[0;32m      2\u001b[0m \u001b[38;5;28;01mfor\u001b[39;00m i \u001b[38;5;129;01min\u001b[39;00m \u001b[38;5;28menumerate\u001b[39m(studentv):\n\u001b[1;32m----> 3\u001b[0m     \u001b[38;5;28mprint\u001b[39m(i,studentv[i])\n",
      "\u001b[1;31mKeyError\u001b[0m: (0, 'name')"
     ]
    }
   ],
   "source": [
    "studentv = {'name': 'Alice', 'age': 22, 'gender': 'Female'}\n",
    "for i in enumerate(studentv):\n",
    "    print(i,studentv[i])\n",
    "# to print values also we need to use two variables in enumerate say(index and key)"
   ]
  },
  {
   "cell_type": "code",
   "execution_count": 103,
   "id": "b37f7856-2306-4f3d-aa9a-546a517825c5",
   "metadata": {},
   "outputs": [
    {
     "name": "stdout",
     "output_type": "stream",
     "text": [
      "(0, 'name') Alice\n",
      "(1, 'age') 22\n",
      "yes\n",
      "(2, 'gender') Female\n"
     ]
    }
   ],
   "source": [
    "studentb = {'name': 'Alice', 'age': 22, 'gender': 'Female'}\n",
    "for index,key in enumerate(studentb):\n",
    "    print((index,key),studentb[key])\n",
    "    if(studentb[key]==22):\n",
    "        print(\"yes\")"
   ]
  },
  {
   "cell_type": "code",
   "execution_count": null,
   "id": "5e1e161f-97a8-418b-8145-801f319ea7f0",
   "metadata": {},
   "outputs": [],
   "source": []
  }
 ],
 "metadata": {
  "kernelspec": {
   "display_name": "Python 3 (ipykernel)",
   "language": "python",
   "name": "python3"
  },
  "language_info": {
   "codemirror_mode": {
    "name": "ipython",
    "version": 3
   },
   "file_extension": ".py",
   "mimetype": "text/x-python",
   "name": "python",
   "nbconvert_exporter": "python",
   "pygments_lexer": "ipython3",
   "version": "3.12.4"
  }
 },
 "nbformat": 4,
 "nbformat_minor": 5
}
