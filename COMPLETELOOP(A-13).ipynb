{
 "cells": [
  {
   "cell_type": "code",
   "execution_count": 1,
   "id": "ac9cc4f3-e46f-40fd-958c-1a7ae6e082e3",
   "metadata": {},
   "outputs": [
    {
     "name": "stdin",
     "output_type": "stream",
     "text": [
      "enter the number: 6\n"
     ]
    },
    {
     "name": "stdout",
     "output_type": "stream",
     "text": [
      "1\n",
      "2\n",
      "3\n",
      "4\n",
      "5\n",
      "6\n"
     ]
    }
   ],
   "source": [
    "#1. Write a program to print all natural numbers from 1 to n. – using while loop\n",
    "n=int(input(\"enter the number:\"))\n",
    "for i in range(1,n+1):\n",
    "    print(i)"
   ]
  },
  {
   "cell_type": "code",
   "execution_count": 5,
   "id": "52f9e493-62aa-455f-a25b-d0b68992a106",
   "metadata": {},
   "outputs": [
    {
     "name": "stdin",
     "output_type": "stream",
     "text": [
      "enter n: 5\n"
     ]
    },
    {
     "name": "stdout",
     "output_type": "stream",
     "text": [
      "5\n",
      "4\n",
      "3\n",
      "2\n",
      "1\n"
     ]
    }
   ],
   "source": [
    "#Write a program to print all natural numbers in reverse (from n to 1). –using while loop\n",
    "n=int(input(\"enter n:\"))\n",
    "for i in range(n,0,-1):\n",
    "    print(i)"
   ]
  },
  {
   "cell_type": "code",
   "execution_count": 15,
   "id": "5110c240-2786-448e-86c0-ac46ed51d941",
   "metadata": {},
   "outputs": [
    {
     "name": "stdout",
     "output_type": "stream",
     "text": [
      "a b c d e f g h i j k l m n o p q r s t u v w x y z "
     ]
    }
   ],
   "source": [
    "#3. Write a program to print all alphabets from a to z. – using while loop\n",
    "n=97\n",
    "for i in range(1,27):\n",
    "    print(chr(n),end=' ')\n",
    "    n+=1"
   ]
  },
  {
   "cell_type": "code",
   "execution_count": 19,
   "id": "596c93f6-2804-474f-bb0e-ec19cfa6df66",
   "metadata": {},
   "outputs": [
    {
     "name": "stdout",
     "output_type": "stream",
     "text": [
      "2 4 6 8 10 12 14 16 18 20 22 24 26 28 30 32 34 36 38 40 42 44 46 48 50 52 54 56 58 60 62 64 66 68 70 72 74 76 78 80 82 84 86 88 90 92 94 96 98 100 "
     ]
    }
   ],
   "source": [
    "#4. Write a program to print all even numbers between 1 to 100.\n",
    "for i in range(1,101):\n",
    "    if(i%2==0):\n",
    "        print(i,end=\" \")"
   ]
  },
  {
   "cell_type": "code",
   "execution_count": 25,
   "id": "61c6cc17-8cd2-4aab-8152-fafc1b7c2155",
   "metadata": {},
   "outputs": [
    {
     "name": "stdin",
     "output_type": "stream",
     "text": [
      "enter the number: 10\n"
     ]
    },
    {
     "name": "stdout",
     "output_type": "stream",
     "text": [
      "1 3 5 7 9 \n",
      "total sum: 25\n"
     ]
    }
   ],
   "source": [
    "#5. Write a program to find the sum of all odd numbers between 1 to n.\n",
    "sum=0\n",
    "n=int(input(\"enter the number:\"))\n",
    "for i in range(1,n+1):\n",
    "    if(i%2!=0):\n",
    "        print(i,end=\" \")\n",
    "        sum+=i\n",
    "print()\n",
    "print(\"total sum:\",sum)\n",
    "        "
   ]
  },
  {
   "cell_type": "code",
   "execution_count": 33,
   "id": "44cfff63-7277-4be2-bec5-3fd9216b69a2",
   "metadata": {},
   "outputs": [
    {
     "name": "stdin",
     "output_type": "stream",
     "text": [
      "enter the number: 1234367\n"
     ]
    },
    {
     "name": "stdout",
     "output_type": "stream",
     "text": [
      "7\n"
     ]
    }
   ],
   "source": [
    "#6. Write a program to count the number of digits in a number.\n",
    "n=int(input(\"enter the number:\"))\n",
    "count=0\n",
    "for i in range(len(str(n))):\n",
    "    digit=n%10\n",
    "    count+=1\n",
    "    n=n//10\n",
    "print(count)"
   ]
  },
  {
   "cell_type": "code",
   "execution_count": 37,
   "id": "bdbc428c-4de9-4993-b024-fdd8812dc01c",
   "metadata": {},
   "outputs": [
    {
     "name": "stdin",
     "output_type": "stream",
     "text": [
      "enter the number: 112345\n"
     ]
    },
    {
     "name": "stdout",
     "output_type": "stream",
     "text": [
      "6\n"
     ]
    }
   ],
   "source": [
    "n=int(input(\"enter the number:\"))\n",
    "count=0\n",
    "while(n>=1):\n",
    "    digit=n%10\n",
    "    count+=1\n",
    "    n=n//10\n",
    "print(count)\n"
   ]
  },
  {
   "cell_type": "code",
   "execution_count": 3,
   "id": "289a4109-1ba3-4286-8400-649739ca7845",
   "metadata": {},
   "outputs": [
    {
     "name": "stdin",
     "output_type": "stream",
     "text": [
      "enter the number: 987\n"
     ]
    },
    {
     "name": "stdout",
     "output_type": "stream",
     "text": [
      "24\n"
     ]
    }
   ],
   "source": [
    "#7. Write a program to calculate the sum of digits of a number.\n",
    "n=int(input(\"enter the number:\"))\n",
    "sum=0\n",
    "while(n>=1):\n",
    "    digit=n%10\n",
    "    sum+=digit\n",
    "    n=n//10\n",
    "print(sum)"
   ]
  },
  {
   "cell_type": "code",
   "execution_count": 1,
   "id": "020ae90c-928a-4305-9ad0-681c317ed4f6",
   "metadata": {},
   "outputs": [
    {
     "name": "stdin",
     "output_type": "stream",
     "text": [
      "enter the number: 12345\n"
     ]
    },
    {
     "name": "stdout",
     "output_type": "stream",
     "text": [
      "1\n",
      "5\n"
     ]
    }
   ],
   "source": [
    "#Write a program to find the first and last digit of a number.\n",
    "n=int(input(\"enter the number:\"))\n",
    "last_digit=n%10\n",
    "while(n>=10):\n",
    "    n=n//10\n",
    "print(n)\n",
    "print(last_digit)\n"
   ]
  },
  {
   "cell_type": "code",
   "execution_count": 5,
   "id": "8eeccab5-c01b-4521-9990-4f38da93212f",
   "metadata": {},
   "outputs": [
    {
     "name": "stdin",
     "output_type": "stream",
     "text": [
      "enter the number: 543232\n"
     ]
    },
    {
     "name": "stdout",
     "output_type": "stream",
     "text": [
      "original number: 543232\n",
      "first digit: 5\n",
      "last_digit 2\n"
     ]
    }
   ],
   "source": [
    "n=int(input(\"enter the number:\"))\n",
    "original=n\n",
    "n=abs(n)\n",
    "last_digit=n%10\n",
    "while(n>=10):\n",
    "    n=n//10\n",
    "print(\"original number:\",original)\n",
    "print(\"first digit:\",n)\n",
    "print(\"last_digit\",last_digit)"
   ]
  },
  {
   "cell_type": "code",
   "execution_count": 7,
   "id": "2c829fe4-2c13-4fc4-b3cd-6a1f5ace9f5d",
   "metadata": {},
   "outputs": [
    {
     "name": "stdin",
     "output_type": "stream",
     "text": [
      "enter the number: 1234\n"
     ]
    },
    {
     "name": "stdout",
     "output_type": "stream",
     "text": [
      "original number: 1234\n",
      "first digit: 1\n",
      "last_digit 4\n",
      "sum is: 5\n"
     ]
    }
   ],
   "source": [
    "#9. Write a program to find the sum of first and last digit of a number.\n",
    "n=int(input(\"enter the number:\"))\n",
    "original=n\n",
    "n=abs(n)\n",
    "sum=0\n",
    "last_digit=n%10\n",
    "while(n>=10):\n",
    "    n=n//10\n",
    "print(\"original number:\",original)\n",
    "print(\"first digit:\",n)\n",
    "print(\"last_digit\",last_digit)\n",
    "sum=n+last_digit\n",
    "print(\"sum is:\",sum)"
   ]
  },
  {
   "cell_type": "code",
   "execution_count": 15,
   "id": "50750267-cdd2-44be-99b9-a626eee0f522",
   "metadata": {},
   "outputs": [
    {
     "name": "stdin",
     "output_type": "stream",
     "text": [
      "enter the number: -87654\n"
     ]
    },
    {
     "name": "stdout",
     "output_type": "stream",
     "text": [
      "reverse is:\n",
      "4 5 6 7 8 "
     ]
    }
   ],
   "source": [
    "#10.Write a program to enter a number and print its reverse.\n",
    "n=int(input(\"enter the number:\"))\n",
    "original=n\n",
    "n=abs(n)\n",
    "print(\"reverse is:\")\n",
    "while(n>=1):\n",
    "    digit=n%10\n",
    "    print(digit,end=\" \")\n",
    "    n=n//10\n",
    "    "
   ]
  },
  {
   "cell_type": "code",
   "execution_count": 17,
   "id": "2db26ea8-aa4a-41d9-9fb8-528f9163f72f",
   "metadata": {},
   "outputs": [
    {
     "name": "stdin",
     "output_type": "stream",
     "text": [
      "enter base: 4\n",
      "enter power: 2\n"
     ]
    },
    {
     "name": "stdout",
     "output_type": "stream",
     "text": [
      "power is: 16\n"
     ]
    }
   ],
   "source": [
    "#11.Write a program to find the power of a number using for loop.\n",
    "base=int(input(\"enter base:\"))\n",
    "exponent=int(input(\"enter power:\"))\n",
    "result=1\n",
    "for i in range(exponent):\n",
    "    result*=base\n",
    "print(\"power is:\",result)"
   ]
  },
  {
   "cell_type": "code",
   "execution_count": 25,
   "id": "001cf318-54b3-44a8-99e4-ef5ee0743413",
   "metadata": {},
   "outputs": [
    {
     "name": "stdin",
     "output_type": "stream",
     "text": [
      "enter number: -24\n"
     ]
    },
    {
     "name": "stdout",
     "output_type": "stream",
     "text": [
      "1 2 3 4 6 8 12 24 "
     ]
    }
   ],
   "source": [
    "#12.Write a program to find all factors of a number.\n",
    "n=int(input(\"enter number:\"))\n",
    "original=n\n",
    "n=abs(n)\n",
    "for i in range(1,n+1):\n",
    "    if(n%i==0):\n",
    "        print(i,end=' ')\n",
    "    "
   ]
  },
  {
   "cell_type": "code",
   "execution_count": 29,
   "id": "8856e0ba-df68-49c7-b855-c8e8f46ae66b",
   "metadata": {},
   "outputs": [
    {
     "name": "stdin",
     "output_type": "stream",
     "text": [
      "enter number: 6\n"
     ]
    },
    {
     "name": "stdout",
     "output_type": "stream",
     "text": [
      "720\n"
     ]
    }
   ],
   "source": [
    "#13.Write a program to calculate the factorial of a number.\n",
    "n=int(input(\"enter number:\"))\n",
    "factorial=1\n",
    "for i in range(n,0,-1):\n",
    "    factorial*=i\n",
    "print(factorial)"
   ]
  },
  {
   "cell_type": "code",
   "execution_count": 1,
   "id": "c7d3b846-c92a-493a-be1b-eddfe5398c66",
   "metadata": {},
   "outputs": [
    {
     "name": "stdin",
     "output_type": "stream",
     "text": [
      "enter first number: 5\n",
      "enter second number: 8\n"
     ]
    },
    {
     "name": "stdout",
     "output_type": "stream",
     "text": [
      "LCM is: 40\n"
     ]
    }
   ],
   "source": [
    "#14.Write a program to find LCM of two numbers.\n",
    "m=int(input(\"enter first number:\"))\n",
    "n=int(input(\"enter second number:\"))\n",
    "LCM=1\n",
    "for i in range(2,max(m,n)+1):\n",
    "    while(n%i==0 or m%i==0):\n",
    "        LCM*=i\n",
    "        if(m%i==0):\n",
    "            m=m//i\n",
    "        elif(n%i==0):\n",
    "            n=n//i\n",
    "print(\"LCM is:\",LCM)"
   ]
  },
  {
   "cell_type": "code",
   "execution_count": 5,
   "id": "b7d1bc6d-a1c7-4a9e-bb47-4e4e187c4bc7",
   "metadata": {},
   "outputs": [
    {
     "name": "stdin",
     "output_type": "stream",
     "text": [
      "enter first number: 5\n",
      "enter second number 8\n"
     ]
    },
    {
     "name": "stdout",
     "output_type": "stream",
     "text": [
      "40\n"
     ]
    }
   ],
   "source": [
    "a=int(input(\"enter first number:\"))\n",
    "b=int(input(\"enter second number\"))\n",
    "if(a>b):\n",
    "    LCM=a\n",
    "else:\n",
    "    LCM=b\n",
    "while True:\n",
    "    if(LCM%a==0 and LCM%b==0):\n",
    "        break\n",
    "    LCM+=1\n",
    "print(LCM)\n"
   ]
  },
  {
   "cell_type": "code",
   "execution_count": 21,
   "id": "87a90caf-3683-45f8-bd9b-0f0cfdb9bd84",
   "metadata": {},
   "outputs": [
    {
     "name": "stdin",
     "output_type": "stream",
     "text": [
      "enter the number: 11\n"
     ]
    },
    {
     "name": "stdout",
     "output_type": "stream",
     "text": [
      "prime\n"
     ]
    }
   ],
   "source": [
    "#15.Write a program to check whether a number is Prime number or not.\n",
    "n=int(input(\"enter the number:\"))\n",
    "count=0\n",
    "for i in range(2,n):\n",
    "    if(n%i==0):\n",
    "        count=1\n",
    "        break\n",
    "if(count==0):\n",
    "    print(\"prime\")\n",
    "else:\n",
    "    print(\"not prime\")\n",
    "    "
   ]
  },
  {
   "cell_type": "code",
   "execution_count": 9,
   "id": "39bd62c9-4435-4e75-a410-f7c8b7a65aa5",
   "metadata": {},
   "outputs": [
    {
     "name": "stdin",
     "output_type": "stream",
     "text": [
      "enter n: 10\n"
     ]
    },
    {
     "name": "stdout",
     "output_type": "stream",
     "text": [
      "prime: 2\n",
      "prime: 3\n",
      "not prime: 4\n",
      "prime: 5\n",
      "not prime: 6\n",
      "prime: 7\n",
      "not prime: 8\n",
      "not prime: 9\n",
      "not prime: 10\n"
     ]
    }
   ],
   "source": [
    "#16.Write a program to print all Prime numbers between 1 to n.\n",
    "n=int(input(\"enter n:\"))\n",
    "for p in range(2,n+1):\n",
    "    count=0\n",
    "    for i in range(2,p):\n",
    "        if(p%i==0):\n",
    "            count+=1\n",
    "    if(count==0):\n",
    "        print(\"prime:\",p)\n",
    "    else:\n",
    "        print(\"not prime:\",p)\n",
    "    "
   ]
  },
  {
   "cell_type": "code",
   "execution_count": 7,
   "id": "66d893fa-bdc8-4d3c-bbd9-6fc39e95a580",
   "metadata": {},
   "outputs": [
    {
     "name": "stdin",
     "output_type": "stream",
     "text": [
      "enter the number: 10\n"
     ]
    },
    {
     "name": "stdout",
     "output_type": "stream",
     "text": [
      "prime factors are:\n",
      "2\n",
      "5\n"
     ]
    }
   ],
   "source": [
    "#17.Write a program to find all prime factors of a number.\n",
    "n=int(input(\"enter the number:\"))\n",
    "print(\"prime factors are:\")\n",
    "for i in range(1,n+1):\n",
    "    if(n%i==0):\n",
    "        count=0\n",
    "        for j in range(2,i):\n",
    "            if(i%j==0):\n",
    "                count+=1\n",
    "        if(count==0 and i!=1):\n",
    "            print(i)"
   ]
  },
  {
   "cell_type": "code",
   "execution_count": 41,
   "id": "f2559740-12ed-49bf-8547-07906e07b525",
   "metadata": {},
   "outputs": [
    {
     "name": "stdin",
     "output_type": "stream",
     "text": [
      "enter the number: 1634\n"
     ]
    },
    {
     "name": "stdout",
     "output_type": "stream",
     "text": [
      "1634\n",
      "armstrong number\n"
     ]
    }
   ],
   "source": [
    "# 18.Write a program to check whether a number is an Armstrong number or not.\n",
    "# a. An Armstrong number is a n-digit number that is equal to the sum\n",
    "# of the nth power of its digits. For example –\n",
    "# 6 = 61 = 6\n",
    "# 371 = 33 + 73 + 13 = 371\n",
    "n=int(input(\"enter the number:\"))\n",
    "original=n\n",
    "length=len(str(n))\n",
    "power_digit=1\n",
    "sum_power=0\n",
    "for i in range(length):\n",
    "    digit=n%10\n",
    "    power_digit=digit**length\n",
    "    sum_power+=power_digit\n",
    "    n=n//10\n",
    "print(sum_power)\n",
    "if(sum_power==original):\n",
    "    print(\"armstrong number\")\n",
    "else:\n",
    "    print(\"non armstrong number\")\n",
    "    \n",
    "    \n",
    "    "
   ]
  },
  {
   "cell_type": "code",
   "execution_count": 13,
   "id": "44884fc7-1b9d-4f53-8cff-009ed7fca635",
   "metadata": {},
   "outputs": [
    {
     "name": "stdin",
     "output_type": "stream",
     "text": [
      "enter the number: 4\n"
     ]
    },
    {
     "name": "stdout",
     "output_type": "stream",
     "text": [
      "not a strong number\n"
     ]
    }
   ],
   "source": [
    "# 19.Write a program to check whether a number is Strong number or not\n",
    "# a. Strong number is a special number whose sum of factorial digits is\n",
    "# equal to the original number.\n",
    "# For example: 145 is a strong number. Since, 1! + 4! + 5! = 145\n",
    "n=int(input(\"enter the number:\"))\n",
    "original=n\n",
    "length=len(str(n))\n",
    "sum_factorial=0\n",
    "for i in range(length):\n",
    "    digit=n%10\n",
    "    factorial=1\n",
    "    for j in range(digit,0,-1):\n",
    "        factorial*=j\n",
    "    sum_factorial+=factorial\n",
    "    n=n//10\n",
    "if(sum_factorial==original):\n",
    "    print(\"strong\")\n",
    "else:\n",
    "    print(\"not a strong number\")"
   ]
  },
  {
   "cell_type": "code",
   "execution_count": 7,
   "id": "92a1b33d-8ab9-45d9-97e3-664f068f4c8e",
   "metadata": {},
   "outputs": [
    {
     "name": "stdin",
     "output_type": "stream",
     "text": [
      "enter the number: 496\n"
     ]
    },
    {
     "name": "stdout",
     "output_type": "stream",
     "text": [
      "perfect number\n"
     ]
    }
   ],
   "source": [
    "# 20.Write a program to check whether a number is perfect number or not\n",
    "\n",
    "# a. Perfect number is a positive integer which is equal to the sum of its proper positive divisors.\n",
    "# For example: 6 is the first perfect number\n",
    "# Proper divisors of 6 are 1, 2, 3\n",
    "# Sum of its proper divisors = 1 + 2 + 3 = 6.\n",
    "# Hence 6 is a perfect number.\n",
    "n=int(input(\"enter the number:\"))\n",
    "original=n\n",
    "sum=0\n",
    "for i in range(1,n//2+1):\n",
    "    if(n%i==0):\n",
    "        sum+=i\n",
    "if(sum==original):\n",
    "    print(\"perfect number\")\n",
    "else:\n",
    "    print(\"not a perfect number\")\n",
    "        "
   ]
  },
  {
   "cell_type": "code",
   "execution_count": 19,
   "id": "ccf20dc1-fcc7-4ae1-9ede-20c97e1c2fc0",
   "metadata": {},
   "outputs": [
    {
     "name": "stdin",
     "output_type": "stream",
     "text": [
      "enter the number: 9\n"
     ]
    },
    {
     "name": "stdout",
     "output_type": "stream",
     "text": [
      "0 1 1 2 3 5 8 13 21 34 "
     ]
    }
   ],
   "source": [
    "# 21.Write a program to print fibonacci series upto n terms\n",
    "# a. Fibonacci series is a series of numbers where the current number is the sum of the previous two terms.\n",
    "# For Example: 0, 1, 1, 2, 3, 5, 8, 13, 21, ... , (n-1th + n-2th)\n",
    "first_term=0\n",
    "second_term=1\n",
    "n=int(input(\"enter the number:\"))\n",
    "print(first_term,end=' ')\n",
    "print(second_term,end=' ')\n",
    "for i in range(2,n+1):\n",
    "    next_term=first_term+second_term\n",
    "    print(next_term,end=' ')\n",
    "    first_term=second_term\n",
    "    second_term=next_term"
   ]
  },
  {
   "cell_type": "code",
   "execution_count": 35,
   "id": "ae8cec7a-9655-43f2-974b-04ee05304ab0",
   "metadata": {},
   "outputs": [
    {
     "name": "stdin",
     "output_type": "stream",
     "text": [
      "enter any number: 5\n"
     ]
    },
    {
     "name": "stdout",
     "output_type": "stream",
     "text": [
      "original binary is: 101\n",
      "1's complement is: 010\n"
     ]
    }
   ],
   "source": [
    "# 22.Write a program to find ones complement of a binary number\n",
    "# a. One's complement of a binary number is defined as value obtained by inverting all binary bits.\n",
    "# It is the result of swapping all 1s to 0s and all 0s to 1s.\n",
    "n=int(input(\"enter any number:\"))\n",
    "binary=bin(n)[2:]\n",
    "print(\"original binary is:\",binary)\n",
    "complement=''\n",
    "for bit in binary:\n",
    "    if(bit=='1'):\n",
    "        complement+='0'\n",
    "    else:\n",
    "        complement+='1'\n",
    "print(\"1's complement is:\",complement)"
   ]
  },
  {
   "cell_type": "code",
   "execution_count": null,
   "id": "5e5ca6c6-9627-425c-9083-5ae7103a9f79",
   "metadata": {},
   "outputs": [],
   "source": []
  }
 ],
 "metadata": {
  "kernelspec": {
   "display_name": "Python 3 (ipykernel)",
   "language": "python",
   "name": "python3"
  },
  "language_info": {
   "codemirror_mode": {
    "name": "ipython",
    "version": 3
   },
   "file_extension": ".py",
   "mimetype": "text/x-python",
   "name": "python",
   "nbconvert_exporter": "python",
   "pygments_lexer": "ipython3",
   "version": "3.12.4"
  }
 },
 "nbformat": 4,
 "nbformat_minor": 5
}
