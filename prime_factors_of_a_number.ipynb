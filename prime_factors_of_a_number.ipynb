{
 "cells": [
  {
   "cell_type": "code",
   "execution_count": 17,
   "id": "e2fa6a57-d665-4a2e-87d5-4356bc2e9b61",
   "metadata": {},
   "outputs": [
    {
     "name": "stdin",
     "output_type": "stream",
     "text": [
      "enter any number: 16\n"
     ]
    },
    {
     "name": "stdout",
     "output_type": "stream",
     "text": [
      "prime factors are:\n",
      "2\n"
     ]
    }
   ],
   "source": [
    "# print prime factors of a number\n",
    "n=int(input(\"enter any number:\"))\n",
    "print(\"prime factors are:\")\n",
    "for i in range(2,n+1):\n",
    "    if(n%i==0):\n",
    "        for j in range(2,i):\n",
    "            if(i%j==0):\n",
    "                break\n",
    "        else:\n",
    "            print(i)\n"
   ]
  },
  {
   "cell_type": "code",
   "execution_count": null,
   "id": "2ccea373-9147-4ad6-a512-d60ad6cc7b34",
   "metadata": {},
   "outputs": [],
   "source": [
    "# | Usage            | Allowed? | Meaning                                   |\n",
    "# | ---------------- | -------- | ----------------------------------------- |\n",
    "# | `if ... else`    | ✅        | Runs `else` when condition is false       |\n",
    "# | `for ... else`   | ✅        | Runs `else` if loop finishes (no `break`) |\n",
    "# | `while ... else` | ✅        | Runs `else` if loop finishes (no `break`) |\n",
    "# | `else` alone     | ❌        | SyntaxError                               |\n"
   ]
  }
 ],
 "metadata": {
  "kernelspec": {
   "display_name": "Python 3 (ipykernel)",
   "language": "python",
   "name": "python3"
  },
  "language_info": {
   "codemirror_mode": {
    "name": "ipython",
    "version": 3
   },
   "file_extension": ".py",
   "mimetype": "text/x-python",
   "name": "python",
   "nbconvert_exporter": "python",
   "pygments_lexer": "ipython3",
   "version": "3.12.4"
  }
 },
 "nbformat": 4,
 "nbformat_minor": 5
}
