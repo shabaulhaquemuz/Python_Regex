{
 "cells": [
  {
   "cell_type": "code",
   "execution_count": 11,
   "id": "9c6ac0ac-5ea8-4dc0-9a5f-971c4500c935",
   "metadata": {},
   "outputs": [
    {
     "name": "stdin",
     "output_type": "stream",
     "text": [
      "enter the number: -4\n"
     ]
    },
    {
     "name": "stdout",
     "output_type": "stream",
     "text": [
      "the number is even\n"
     ]
    }
   ],
   "source": [
    "#Q1 Write a program that takes an integer input from the user and checks whether the number is odd or even.\n",
    "num=int(input(\"enter the number:\"))\n",
    "if(num%2==0):\n",
    "    print(\"the number is even\")\n",
    "else:\n",
    "    print(\"the number is odd\")\n",
    "#note: even and odd numbers can be positive and negative and 0 is also an even number."
   ]
  },
  {
   "cell_type": "code",
   "execution_count": 15,
   "id": "c4ddd467-1e4e-4b2b-9288-a21f28600a80",
   "metadata": {},
   "outputs": [
    {
     "name": "stdin",
     "output_type": "stream",
     "text": [
      "enter the first number: 2\n",
      "enter the second number: 3\n",
      "enter the third number: 4\n"
     ]
    },
    {
     "name": "stdout",
     "output_type": "stream",
     "text": [
      "c is the largest number:\n"
     ]
    }
   ],
   "source": [
    "#Q2 Write a program that takes three numbers as input and prints the largest of the three.\n",
    "a=int(input(\"enter the first number a:\"))\n",
    "b=int(input(\"enter the second number b:\"))\n",
    "c=int(input(\"enter the third number c:\"))\n",
    "if(a>b and a>c):\n",
    "    print(\"a is the largest number\")\n",
    "elif(b>a and b>c):\n",
    "    print(\"b is the largest number\")\n",
    "else:\n",
    "    print(\"c is the largest number:\")\n"
   ]
  },
  {
   "cell_type": "code",
   "execution_count": 31,
   "id": "792a3b62-23a1-4426-bd9a-3633109ebd6e",
   "metadata": {},
   "outputs": [
    {
     "name": "stdin",
     "output_type": "stream",
     "text": [
      "enter the year: 2028\n"
     ]
    },
    {
     "name": "stdout",
     "output_type": "stream",
     "text": [
      "its a leap year\n"
     ]
    }
   ],
   "source": [
    "#Q3 Write a program to check if a given year is a leap year. A leap year is divisible by 4 but not by 100 unless it is also divisible by 400.\n",
    "year=int(input(\"enter the year:\"))\n",
    "if(year%4==0):\n",
    "    print(\"its a leap year\")\n",
    "elif(year%4==0 and year%100==0 and year%400==0):\n",
    "    print(\"its a leap year\")\n",
    "else:\n",
    "    print(\"not a leap year\")"
   ]
  },
  {
   "cell_type": "code",
   "execution_count": 49,
   "id": "42d02b4a-84b3-4cc5-b5d5-5c52ccc264fc",
   "metadata": {},
   "outputs": [
    {
     "name": "stdin",
     "output_type": "stream",
     "text": [
      "enter your percentage: 50\n"
     ]
    },
    {
     "name": "stdout",
     "output_type": "stream",
     "text": [
      "grade F\n"
     ]
    }
   ],
   "source": [
    "#Q4 Write a program that takes a percentage (integer) as input and prints the corresponding grade based on the following criteria:\n",
    "#>= 90: Grade A\n",
    "#>= 80: Grade B\n",
    "#>= 70: Grade C\n",
    "#>= 60: Grade D\n",
    "#< 60: Grade F\n",
    "percentage=int(input(\"enter your percentage:\"))\n",
    "if(90<=percentage<=100):\n",
    "    print(\"grade A\")\n",
    "elif(80<=percentage<=89):\n",
    "    print(\"grade B\")\n",
    "elif(70<=percentage<=79):\n",
    "    print(\"grade C\")\n",
    "elif(60<=percentage<=69):\n",
    "    print(\"grade D\")\n",
    "else:\n",
    "    print(\"grade F\")"
   ]
  },
  {
   "cell_type": "code",
   "execution_count": 59,
   "id": "fe3f3497-cf0b-447c-a242-47cf2530dd01",
   "metadata": {},
   "outputs": [
    {
     "name": "stdin",
     "output_type": "stream",
     "text": [
      "enter the letter: r\n"
     ]
    },
    {
     "name": "stdout",
     "output_type": "stream",
     "text": [
      "consonant\n"
     ]
    }
   ],
   "source": [
    "#Q5 Write a program that checks if a given letter is a vowel (a, e, i, o, u) or a consonant.\n",
    "letter=str(input(\"enter the letter:\"))\n",
    "if(letter=='a' or letter=='A'):\n",
    "    print(\"vowel\")\n",
    "elif(letter=='e' or letter=='E'):\n",
    "    print(\"vowel\")\n",
    "elif(letter=='i' or letter=='I'):\n",
    "    print(\"vowel\")\n",
    "elif(letter=='o' or letter=='O'):\n",
    "    print(\"vowel\")\n",
    "elif(letter=='u' or letter=='U'):\n",
    "    print(\"vowel\")\n",
    "else:\n",
    "    print(\"consonant\")\n",
    "    \n",
    "\n"
   ]
  },
  {
   "cell_type": "code",
   "execution_count": 94,
   "id": "702492bf-ac93-45b1-bfcb-ed9f27713d5e",
   "metadata": {},
   "outputs": [
    {
     "name": "stdin",
     "output_type": "stream",
     "text": [
      "enter the first number: 4\n",
      "enter the second number: 0\n",
      "enter the operator you want to use: '+','-','*','/' /\n"
     ]
    },
    {
     "name": "stdout",
     "output_type": "stream",
     "text": [
      "enter positive or negative number\n"
     ]
    }
   ],
   "source": [
    "#Q6 Write a basic calculator program that takes two numbers and an operator (+, -, *, /) as input and performs the specified operation. Print the result based on the operation.\n",
    "num1=int(input(\"enter the first number:\"))\n",
    "num2=int(input(\"enter the second number:\"))\n",
    "operator=input(\"enter the operator you want to use: '+','-','*','/'\")\n",
    "if(operator=='+'):\n",
    "    print(num1+num2)\n",
    "elif(operator=='-'):\n",
    "    print(num1-num2)\n",
    "elif(operator=='*'):\n",
    "    print(num1*num2)\n",
    "elif(operator=='/'):\n",
    " if(num2==0):\n",
    "     print(\"num2 cannot be zero\")\n",
    " elif(num2!=0):\n",
    "     print(num1/num2)\n",
    "    \n",
    "\n",
    "               \n",
    "\n",
    "         "
   ]
  },
  {
   "cell_type": "code",
   "execution_count": 104,
   "id": "0c8f107b-f3e2-4f6e-b41e-35ffb07a03ea",
   "metadata": {},
   "outputs": [
    {
     "name": "stdin",
     "output_type": "stream",
     "text": [
      "enter the number: -2\n"
     ]
    },
    {
     "name": "stdout",
     "output_type": "stream",
     "text": [
      "negative\n"
     ]
    }
   ],
   "source": [
    "#Q7 Write a program that takes a number as input and checks whether it is positive, negative, or zero.\n",
    "num=int(input(\"enter the number:\"))\n",
    "if(num>0):\n",
    "    print(\"positive\")\n",
    "elif(num<0):\n",
    "    print(\"negative\")\n",
    "else:\n",
    "    print(\"zero\")\n",
    "        "
   ]
  },
  {
   "cell_type": "code",
   "execution_count": 120,
   "id": "5c11ff9d-f7a5-4a20-9c8d-a5ce64c6670a",
   "metadata": {},
   "outputs": [
    {
     "name": "stdin",
     "output_type": "stream",
     "text": [
      "enter the username: admin\n",
      "enter the password: 2345\n"
     ]
    },
    {
     "name": "stdout",
     "output_type": "stream",
     "text": [
      "login failed\n"
     ]
    }
   ],
   "source": [
    "#Q8 Write a program that checks if a username and password entered by the user match the pre-set values\n",
    "#username = \"admin\" and password = \"1234\". If both match, print \"Login Successful\", otherwise print \"Login Failed\".\n",
    "username='admin'\n",
    "password=1234\n",
    "UN=str(input(\"enter the username:\"))\n",
    "PW=int(input(\"enter the password:\"))\n",
    "if(UN==username and PW==password):\n",
    "    print(\"Login Succesful\")\n",
    "else:\n",
    "    print(\"login failed\")"
   ]
  },
  {
   "cell_type": "code",
   "execution_count": 144,
   "id": "8a1d7293-d958-4a81-a892-38a557036bd8",
   "metadata": {},
   "outputs": [
    {
     "name": "stdin",
     "output_type": "stream",
     "text": [
      "enter the value of first side of triangle: 2\n",
      "enter the value of second side of triangle: 3\n",
      "enter the value of third side of triangle: 6\n"
     ]
    },
    {
     "name": "stdout",
     "output_type": "stream",
     "text": [
      "not a valid triangle\n"
     ]
    }
   ],
   "source": [
    "#Q9 Write a program that takes three sides of a triangle as input and checks if those sides form a valid\n",
    "#triangle. A triangle is valid if the sum of any two sides is greater than the third side.\n",
    "#Check conditions like a + b > c, b + c > a, and a + c > b.\n",
    "a=int(input(\"enter the value of first side of triangle:\"))\n",
    "b=int(input(\"enter the value of second side of triangle:\"))\n",
    "c=int(input(\"enter the value of third side of triangle:\"))\n",
    "if((a+b>c) and (b+c>a) and (a+c>b)):\n",
    "    print(\"valid triangle\")\n",
    "else:\n",
    "    print(\"not a valid triangle\")\n",
    "#a + b > c,b + c > a,c + a > b(for a triangle to be valid all these conditions must be true)"
   ]
  },
  {
   "cell_type": "code",
   "execution_count": 148,
   "id": "24645112-cd11-4b7c-b85c-7b8d68f4b182",
   "metadata": {},
   "outputs": [
    {
     "name": "stdin",
     "output_type": "stream",
     "text": [
      "enter the weight: 45\n",
      "enter the height: 2.5\n"
     ]
    },
    {
     "name": "stdout",
     "output_type": "stream",
     "text": [
      "underweight\n"
     ]
    }
   ],
   "source": [
    "#Q10 Write a program that calculates the Body Mass Index (BMI) based on user input for weight (inkilograms) and height (in meters).\n",
    "#Then categorize the BMI into:\n",
    "#Underweight (BMI < 18.5)\n",
    "#Normal weight (18.5 <= BMI < 24.9)\n",
    "#Overweight (25 <= BMI < 29.9)\n",
    "#Obesity (BMI >= 30)\n",
    "#Use the formula: BMI = weight / (height ** 2)\n",
    "weight=float(input(\"enter the weight:\"))\n",
    "height=float(input(\"enter the height:\"))\n",
    "BMI=weight/(height**2)\n",
    "if(BMI<18.5):\n",
    "    print(\"underweight\")\n",
    "elif(18.5<=BMI<=24.9):\n",
    "    print(\"normal weight\")\n",
    "elif(25<=BMI<=29.9):\n",
    "    print(\"over weight\")\n",
    "else:\n",
    "    print(\"obesity\")"
   ]
  },
  {
   "cell_type": "code",
   "execution_count": 172,
   "id": "7fe5d622-5092-445d-a02a-a797038aeddb",
   "metadata": {},
   "outputs": [
    {
     "name": "stdin",
     "output_type": "stream",
     "text": [
      "enter the price of the product: 1009\n"
     ]
    },
    {
     "name": "stdout",
     "output_type": "stream",
     "text": [
      "final price after discount is: 908.1\n"
     ]
    }
   ],
   "source": [
    "#Q11 Write a program that calculates the discount for a product based on its price:\n",
    "#If price is greater than 1000, discount is 10%\n",
    "#If price is between 500 and 1000, discount is 5%\n",
    "#Otherwise, no discount\n",
    "#Print the final price after applying the discount.\n",
    "price=int(input(\"enter the price of the product:\"))\n",
    "if(price>1000):\n",
    "    print(\"final price after discount is:\", price-(10/100*price))\n",
    "elif(500<price<1000):\n",
    "    print(\"final price after discount is:\", price-(5/100*price))\n",
    "else:\n",
    "    print(\"you got no discount and price is:\", price)\n"
   ]
  },
  {
   "cell_type": "code",
   "execution_count": 193,
   "id": "35faf7bd-318a-4413-b0a5-9a0f7b21dfd2",
   "metadata": {},
   "outputs": [
    {
     "name": "stdin",
     "output_type": "stream",
     "text": [
      "enter the year: 1999\n",
      "enter the name of the month: february\n"
     ]
    },
    {
     "name": "stdout",
     "output_type": "stream",
     "text": [
      "number of days is 28\n"
     ]
    }
   ],
   "source": [
    "#Q12 Write a program that takes the name of a month as input and prints the number of days in that month. Consider leap years for February.\n",
    "year=int(input(\"enter the year:\"))\n",
    "month=str(input(\"enter the name of the month:\"))\n",
    "if(month=='January'):\n",
    "    print(\"number of days in january is 31\")\n",
    "if(month=='february'):\n",
    "    if(year%4==0 or year%4==0 and year%100==0 and year%400==0 ):\n",
    "        if(month=='february'):\n",
    "            print(\"number of days is 29\")\n",
    "    else:\n",
    "        print(\"number of days is 28\")\n",
    "elif(month=='march'):\n",
    "    print(\"number of days in march is 31\")\n",
    "elif(month=='april'):\n",
    "    print(\"number of days in april is 30\")\n",
    "elif(month=='may'):\n",
    "    print(\"number of days in may is 31\")\n",
    "elif(month=='June'):\n",
    "    print(\"number of days in june is 30\")\n",
    "elif(month=='July'):\n",
    "    print(\"number of days in july is 31\")\n",
    "elif(month=='august'):\n",
    "    print(\"number of days in august is 31\")\n",
    "elif(month=='september'):\n",
    "    print(\"number of days in september is 30\")\n",
    "elif(month=='october'):\n",
    "    print(\"number of days in october is 31\")\n",
    "elif(month=='november'):\n",
    "    print(\"number of days in november is 30\")\n",
    "elif(month=='december'):\n",
    "    print(\"number of days in december is 31\")\n",
    "\n"
   ]
  },
  {
   "cell_type": "code",
   "execution_count": 224,
   "id": "f69d4bf6-bb76-49f6-a270-885c434fd371",
   "metadata": {},
   "outputs": [
    {
     "name": "stdin",
     "output_type": "stream",
     "text": [
      "enter the option: 3\n",
      "enter the amount you want to withdraw: 9900\n"
     ]
    },
    {
     "name": "stdout",
     "output_type": "stream",
     "text": [
      "updated_balance: 100\n"
     ]
    }
   ],
   "source": [
    "#Q13 Write a program that simulates a simple ATM. The user should be able to:\n",
    "#Check balance\n",
    "#Deposit money\n",
    "#Withdraw money (ensure the balance doesn't go negative) Use an if-else structure to handle the user's choices.\n",
    "\n",
    "balance=10000\n",
    "check_balance=1\n",
    "deposit=2\n",
    "withdraw=3\n",
    "user_input=int(input(\"enter the option:\"))\n",
    "if(user_input==1):\n",
    "    print(balance)\n",
    "elif(user_input==2):\n",
    "    deposit_amount=int(input(\"enter the amount you want to deposit:\"))\n",
    "    print(\"new_balance:\", balance+deposit_amount)\n",
    "elif(user_input==3):\n",
    "    withdrawl_amount=int(input(\"enter the amount you want to withdraw:\"))\n",
    "    if(withdrawl_amount>balance):\n",
    "        print(\"you have insufficient balance\")\n",
    "    else:    \n",
    "        print(\"updated_balance:\",balance-withdrawl_amount)\n"
   ]
  },
  {
   "cell_type": "code",
   "execution_count": 228,
   "id": "a568bac3-6fae-4208-8166-b13c9eea1386",
   "metadata": {},
   "outputs": [
    {
     "name": "stdin",
     "output_type": "stream",
     "text": [
      "enter the age: 1\n"
     ]
    },
    {
     "name": "stdout",
     "output_type": "stream",
     "text": [
      "infant\n"
     ]
    }
   ],
   "source": [
    "#Q14 Write a program that categorizes a given age into different groups:\n",
    "#Infant (0-1 year)\n",
    "#Toddler (2-4 years)\n",
    "#Child (5-12 years)\n",
    "#Teenager (13-19 years)\n",
    "#Adult (20-59 years)\n",
    "#Senior (60 years and above)\n",
    "age=int(input(\"enter the age:\"))\n",
    "if(0<=age<=1):\n",
    "    print(\"infant\")\n",
    "elif(2<=age<=4):\n",
    "    print(\"toddler\")\n",
    "elif(5<=age<=12):\n",
    "    print(\"child\")\n",
    "elif(13<=age<=19):\n",
    "    print(\"teenage\")\n",
    "elif(20<=age<=59):\n",
    "    print(\"adult\")\n",
    "else:\n",
    "    print(\"senior\")"
   ]
  },
  {
   "cell_type": "code",
   "execution_count": 232,
   "id": "d8736b87-70e6-4eb8-878e-be70b18a5ce3",
   "metadata": {},
   "outputs": [
    {
     "ename": "SyntaxError",
     "evalue": "'(' was never closed (4255455056.py, line 2)",
     "output_type": "error",
     "traceback": [
      "\u001b[1;36m  Cell \u001b[1;32mIn[232], line 2\u001b[1;36m\u001b[0m\n\u001b[1;33m    a=int(input(\"enter the number of day:\")\u001b[0m\n\u001b[1;37m         ^\u001b[0m\n\u001b[1;31mSyntaxError\u001b[0m\u001b[1;31m:\u001b[0m '(' was never closed\n"
     ]
    }
   ],
   "source": [
    "#Q15 Write a program that takes an integer (1-7) as input and prints the corresponding day of the week (1 for Monday, 2 for Tuesday, etc.).\n",
    "a=int(input(\"enter the number of day:\"))\n",
    "if(a==1):\n",
    "    print(\"monday\")\n",
    "elif(a==3):\n",
    "    print(\"tuesday\")\n",
    "elif(a==2):\n",
    "    print(\"wednesday\")\n",
    "elif(a==2):\n",
    "    print(\"thursday\")\n",
    "elif(a==2):\n",
    "    print(\"friday\")\n",
    "elif(a==2):\n",
    "    print(\"saturday\")\n",
    "elif(a==2):\n",
    "    print(\"sunday\")"
   ]
  },
  {
   "cell_type": "code",
   "execution_count": null,
   "id": "281eef85-a377-4336-9a43-38444709a184",
   "metadata": {},
   "outputs": [],
   "source": []
  }
 ],
 "metadata": {
  "kernelspec": {
   "display_name": "Python 3 (ipykernel)",
   "language": "python",
   "name": "python3"
  },
  "language_info": {
   "codemirror_mode": {
    "name": "ipython",
    "version": 3
   },
   "file_extension": ".py",
   "mimetype": "text/x-python",
   "name": "python",
   "nbconvert_exporter": "python",
   "pygments_lexer": "ipython3",
   "version": "3.12.4"
  }
 },
 "nbformat": 4,
 "nbformat_minor": 5
}
