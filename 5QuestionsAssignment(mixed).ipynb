{
 "cells": [
  {
   "cell_type": "code",
   "execution_count": 3,
   "id": "4db316e7-b1f4-4097-b740-990e8dfeeff6",
   "metadata": {},
   "outputs": [
    {
     "name": "stdout",
     "output_type": "stream",
     "text": [
      "list1: [10, 20, 30, 40, 50]\n"
     ]
    }
   ],
   "source": [
    "# List\n",
    "# Q1: Create a list of 5 numbers and print it\n",
    "list1 = [10, 20, 30, 40, 50]\n",
    "print(\"list1:\", list1)\n"
   ]
  },
  {
   "cell_type": "code",
   "execution_count": 9,
   "id": "c2e2d47a-ade1-4a25-abb6-5336a87c5418",
   "metadata": {},
   "outputs": [
    {
     "name": "stdout",
     "output_type": "stream",
     "text": [
      "appended_list: [10, 20, 30, 40, 50, 60, 60, 60]\n"
     ]
    }
   ],
   "source": [
    "# Q2: Add a new number to the list\n",
    "list1.append(60)\n",
    "print(\"appended_list:\", list1)"
   ]
  },
  {
   "cell_type": "code",
   "execution_count": 11,
   "id": "04a9d203-0182-486d-8433-9c343ff9a758",
   "metadata": {},
   "outputs": [
    {
     "name": "stdout",
     "output_type": "stream",
     "text": [
      "newlist: [10, 20, 40, 50, 60, 60, 60]\n"
     ]
    }
   ],
   "source": [
    "# Q3: Remove the 3rd element\n",
    "list1.pop(2)\n",
    "print(\"newlist:\", list1)"
   ]
  },
  {
   "cell_type": "code",
   "execution_count": 13,
   "id": "b2027dbc-61b1-436f-9a7f-509935e85ebb",
   "metadata": {},
   "outputs": [
    {
     "name": "stdout",
     "output_type": "stream",
     "text": [
      "Q4: [10, 20, 40, 50, 60, 60, 60]\n"
     ]
    }
   ],
   "source": [
    "# Q4: Sort the list\n",
    "list1.sort()\n",
    "print(\"sorted _li:\", list1)"
   ]
  },
  {
   "cell_type": "code",
   "execution_count": 67,
   "id": "b014d519-7116-4079-85ba-f64a1dc5b8ab",
   "metadata": {},
   "outputs": [
    {
     "name": "stdout",
     "output_type": "stream",
     "text": [
      "sum: 300\n"
     ]
    }
   ],
   "source": [
    "# Q5: Find the sum of all elements\n",
    "print(\"sum:\", sum(list1))"
   ]
  },
  {
   "cell_type": "code",
   "execution_count": 69,
   "id": "d17e099f-70d1-4d5f-8975-bfb2c8b28ce2",
   "metadata": {},
   "outputs": [
    {
     "name": "stdout",
     "output_type": "stream",
     "text": [
      "Tuple: ('apple', 'banana', 'cherry')\n"
     ]
    }
   ],
   "source": [
    "#Tuple\n",
    "# Q1: Create a tuple of 3 strings\n",
    "tup1 = (\"apple\", \"banana\", \"cherry\")\n",
    "print(\"Tuple:\", tup1)"
   ]
  },
  {
   "cell_type": "code",
   "execution_count": 71,
   "id": "5a1eb6d9-11e1-4aff-bd1a-d30fffe05618",
   "metadata": {},
   "outputs": [
    {
     "name": "stdout",
     "output_type": "stream",
     "text": [
      "2nd element is: banana\n"
     ]
    }
   ],
   "source": [
    "# Q2: Access the second element\n",
    "print(\"2nd element is:\", tup1[1])"
   ]
  },
  {
   "cell_type": "code",
   "execution_count": 73,
   "id": "a7fec166-0d2e-4499-b49b-b75e823a23be",
   "metadata": {},
   "outputs": [
    {
     "name": "stdout",
     "output_type": "stream",
     "text": [
      "list is: ['apple', 'banana', 'cherry']\n"
     ]
    }
   ],
   "source": [
    "# Q3: Convert tuple to list\n",
    "tup_list = list(tup1)\n",
    "print(\"list is:\", tup_list)"
   ]
  },
  {
   "cell_type": "code",
   "execution_count": 75,
   "id": "9f33f6d4-903e-4b07-a6b0-fe62f2553768",
   "metadata": {},
   "outputs": [
    {
     "name": "stdout",
     "output_type": "stream",
     "text": [
      "is tuple: True\n"
     ]
    }
   ],
   "source": [
    "# Q4: Check if \"apple\" is in tuple\n",
    "print(\"is tuple:\", \"apple\" in tup1)"
   ]
  },
  {
   "cell_type": "code",
   "execution_count": 77,
   "id": "0d264e7d-c10f-4f76-b7c6-ba36fb3ca8f0",
   "metadata": {},
   "outputs": [
    {
     "name": "stdout",
     "output_type": "stream",
     "text": [
      "length is: 3\n"
     ]
    }
   ],
   "source": [
    "# Q5: Get length of tuple\n",
    "print(\"length is:\", len(tup1))"
   ]
  },
  {
   "cell_type": "code",
   "execution_count": 79,
   "id": "9b00cedf-36a7-4826-a5c9-36ecf27f3627",
   "metadata": {},
   "outputs": [
    {
     "name": "stdout",
     "output_type": "stream",
     "text": [
      "dictionary is: {'name': 'Raj', 'age': 25}\n"
     ]
    }
   ],
   "source": [
    "#Dictionary\n",
    "# Q1: Create a dictionary with name and age\n",
    "my_dict = {\"name\": \"Raj\", \"age\": 25}\n",
    "print(\"dictionary is:\", my_dict)"
   ]
  },
  {
   "cell_type": "code",
   "execution_count": 81,
   "id": "054d00e9-1507-4344-970a-4045c8b4235c",
   "metadata": {},
   "outputs": [
    {
     "name": "stdout",
     "output_type": "stream",
     "text": [
      "new_dict: {'name': 'Raj', 'age': 25, 'city': 'Delhi'}\n"
     ]
    }
   ],
   "source": [
    "# Q2: Add a new key-value pair (city)\n",
    "my_dict[\"city\"] = \"Delhi\"\n",
    "print(\"new_dict:\", my_dict)"
   ]
  },
  {
   "cell_type": "code",
   "execution_count": 31,
   "id": "3638f7b4-efbf-4e40-b42f-ee5c6771e612",
   "metadata": {},
   "outputs": [
    {
     "name": "stdout",
     "output_type": "stream",
     "text": [
      "Q3: Raj\n"
     ]
    }
   ],
   "source": [
    "\n",
    "# Q3: Access value by key\n",
    "print(\"the value:\", my_dict[\"name\"])"
   ]
  },
  {
   "cell_type": "code",
   "execution_count": 83,
   "id": "877d179c-6ea2-4cca-a7f5-b26bd3c13804",
   "metadata": {},
   "outputs": [
    {
     "name": "stdout",
     "output_type": "stream",
     "text": [
      "updated_dict: {'name': 'Raj', 'age': 30, 'city': 'Delhi'}\n"
     ]
    }
   ],
   "source": [
    "# Q4: Update the age\n",
    "my_dict[\"age\"] = 30\n",
    "print(\"updated_dict:\", my_dict)"
   ]
  },
  {
   "cell_type": "code",
   "execution_count": 85,
   "id": "df2693d3-cd64-409f-b97d-09dd97e9bb29",
   "metadata": {},
   "outputs": [
    {
     "name": "stdout",
     "output_type": "stream",
     "text": [
      "updated_dictionary: {'name': 'Raj', 'age': 30}\n"
     ]
    }
   ],
   "source": [
    "# Q5: Remove the key \"city\"\n",
    "my_dict.pop(\"city\")\n",
    "print(\"updated_dictionary:\", my_dict)"
   ]
  },
  {
   "cell_type": "code",
   "execution_count": 87,
   "id": "a481358f-ef8e-4b61-a825-863f406f882f",
   "metadata": {},
   "outputs": [
    {
     "name": "stdout",
     "output_type": "stream",
     "text": [
      "set is: {1, 2, 3}\n"
     ]
    }
   ],
   "source": [
    "#Set\n",
    "# Q1: Create a set of 3 numbers\n",
    "s = {1, 2, 3}\n",
    "print(\"set is:\", s)"
   ]
  },
  {
   "cell_type": "code",
   "execution_count": 89,
   "id": "0c799594-cb4c-4645-bc44-c8d6d4d25340",
   "metadata": {},
   "outputs": [
    {
     "name": "stdout",
     "output_type": "stream",
     "text": [
      "added set: {1, 2, 3, 4}\n"
     ]
    }
   ],
   "source": [
    "# Q2: Add a new number\n",
    "s.add(4)\n",
    "print(\"added set:\", s)"
   ]
  },
  {
   "cell_type": "code",
   "execution_count": 91,
   "id": "863ddbb6-1c67-494e-90a6-2e5ecdb5f7e8",
   "metadata": {},
   "outputs": [
    {
     "name": "stdout",
     "output_type": "stream",
     "text": [
      "new_set: {1, 3, 4}\n"
     ]
    }
   ],
   "source": [
    "# Q3: Remove a number\n",
    "s.discard(2)\n",
    "print(\"new_set:\", s)"
   ]
  },
  {
   "cell_type": "code",
   "execution_count": 93,
   "id": "53075573-a653-4fe8-bdfe-aabc4eb3d31e",
   "metadata": {},
   "outputs": [
    {
     "name": "stdout",
     "output_type": "stream",
     "text": [
      "is 3: True\n"
     ]
    }
   ],
   "source": [
    "# Q4: Check if 3 is in the set\n",
    "print(\"is 3:\", 3 in s)"
   ]
  },
  {
   "cell_type": "code",
   "execution_count": 95,
   "id": "a8883ada-d6f9-4195-b0e3-3273fc30cfad",
   "metadata": {},
   "outputs": [
    {
     "name": "stdout",
     "output_type": "stream",
     "text": [
      "union: {1, 3, 4, 5, 6}\n"
     ]
    }
   ],
   "source": [
    "# Q5: Perform union with another set\n",
    "s2 = {5, 6}\n",
    "print(\"union:\", s.union(s2))"
   ]
  },
  {
   "cell_type": "code",
   "execution_count": 47,
   "id": "e671ccff-e32c-48e3-a292-6b5558506849",
   "metadata": {},
   "outputs": [
    {
     "name": "stdout",
     "output_type": "stream",
     "text": [
      "Q1: [1, 4, 9, 16, 25]\n"
     ]
    }
   ],
   "source": [
    "#Comprehension\n",
    "# Q1: Create list of squares from 1 to 5\n",
    "squares = [x**2 for x in range(1, 6)]\n",
    "print(\"list_comprehension:\", squares)"
   ]
  },
  {
   "cell_type": "code",
   "execution_count": 97,
   "id": "6f0864bb-84c6-41e9-8963-d6276ee17f8d",
   "metadata": {},
   "outputs": [
    {
     "name": "stdout",
     "output_type": "stream",
     "text": [
      "even_list: [2, 4, 6, 8, 10]\n"
     ]
    }
   ],
   "source": [
    "# Q2: Create list of even numbers from 1 to 10\n",
    "evens = [x for x in range(1, 11) if x % 2 == 0]\n",
    "print(\"even_list:\", evens)"
   ]
  },
  {
   "cell_type": "code",
   "execution_count": 99,
   "id": "d613acb2-4b96-49ac-acb9-eef14a1fbbd5",
   "metadata": {},
   "outputs": [
    {
     "name": "stdout",
     "output_type": "stream",
     "text": [
      "listfromchar: ['h', 'e', 'l', 'l', 'o']\n"
     ]
    }
   ],
   "source": [
    "# Q3: Create list of characters from string\n",
    "chars = [ch for ch in \"hello\"]\n",
    "print(\"listfromchar:\", chars)"
   ]
  },
  {
   "cell_type": "code",
   "execution_count": 103,
   "id": "a40804e7-2ee9-4ebb-93f8-72b59c3f6e92",
   "metadata": {},
   "outputs": [
    {
     "name": "stdout",
     "output_type": "stream",
     "text": [
      "filtered_element: [4, 5]\n"
     ]
    }
   ],
   "source": [
    "# Q4: Filter numbers > 3 from list\n",
    "nums = [1, 2, 3, 4, 5]\n",
    "filtered = [x for x in nums if x > 3]\n",
    "print(\"filtered_element:\", filtered)"
   ]
  },
  {
   "cell_type": "code",
   "execution_count": 55,
   "id": "d4a51404-77bb-4277-88c6-2344cb35c723",
   "metadata": {},
   "outputs": [
    {
     "name": "stdout",
     "output_type": "stream",
     "text": [
      "Q5: ['RAJ', 'SIMRAN', 'AMIT']\n"
     ]
    }
   ],
   "source": [
    "# Q5: Convert list of strings to uppercase\n",
    "names = [\"raj\", \"simran\", \"amit\"]\n",
    "upper_names = [name.upper() for name in names]\n",
    "print(\"Q5:\", upper_names)"
   ]
  },
  {
   "cell_type": "code",
   "execution_count": 57,
   "id": "9f010817-0851-4b2b-b767-df1e1cee5329",
   "metadata": {},
   "outputs": [
    {
     "name": "stdout",
     "output_type": "stream",
     "text": [
      "Q1: 15\n"
     ]
    }
   ],
   "source": [
    "# Functions - lambda, map, filter\n",
    "# Q1: Use lambda to add 10 to a number\n",
    "add10 = lambda x: x + 10\n",
    "print(\"Q1:\", add10(5))"
   ]
  },
  {
   "cell_type": "code",
   "execution_count": 59,
   "id": "ae2ae59b-51df-4f77-903e-2b7981940ae0",
   "metadata": {},
   "outputs": [
    {
     "name": "stdout",
     "output_type": "stream",
     "text": [
      "Q2: [1, 4, 9, 16]\n"
     ]
    }
   ],
   "source": [
    "# Q2: Use map to square a list\n",
    "nums = [1, 2, 3, 4]\n",
    "squared = list(map(lambda x: x**2, nums))\n",
    "print(\"mapped_list:\", squared)"
   ]
  },
  {
   "cell_type": "code",
   "execution_count": 105,
   "id": "d481cfd1-f3b1-4a29-9b68-27f9a121e7a1",
   "metadata": {},
   "outputs": [
    {
     "name": "stdout",
     "output_type": "stream",
     "text": [
      "even_numbers: [2, 4]\n"
     ]
    }
   ],
   "source": [
    "# Q3: Use filter to get even numbers\n",
    "even_nums = list(filter(lambda x: x % 2 == 0, nums))\n",
    "print(\"even_numbers:\", even_nums)"
   ]
  },
  {
   "cell_type": "code",
   "execution_count": 107,
   "id": "2e00f24b-d7c9-458e-9af2-f966d92ff3fe",
   "metadata": {},
   "outputs": [
    {
     "name": "stdout",
     "output_type": "stream",
     "text": [
      "product is: 20\n"
     ]
    }
   ],
   "source": [
    "# Q4: Use lambda to multiply two numbers\n",
    "multiply = lambda x, y: x * y\n",
    "print(\"product is:\", multiply(4, 5))"
   ]
  },
  {
   "cell_type": "code",
   "execution_count": 109,
   "id": "59e1e751-cc76-4cdd-b8ac-82066a8f011f",
   "metadata": {},
   "outputs": [
    {
     "name": "stdout",
     "output_type": "stream",
     "text": [
      "UpperCaseElements: ['RAJ', 'AMIT', 'POOJA']\n"
     ]
    }
   ],
   "source": [
    "# Q5: Use map to convert to uppercase\n",
    "names = [\"raj\", \"amit\", \"pooja\"]\n",
    "upper = list(map(lambda x: x.upper(), names))\n",
    "print(\"UpperCaseElements:\", upper)"
   ]
  },
  {
   "cell_type": "code",
   "execution_count": null,
   "id": "7397be99-539a-4272-bd87-4ab1a412abf7",
   "metadata": {},
   "outputs": [],
   "source": []
  }
 ],
 "metadata": {
  "kernelspec": {
   "display_name": "Python 3 (ipykernel)",
   "language": "python",
   "name": "python3"
  },
  "language_info": {
   "codemirror_mode": {
    "name": "ipython",
    "version": 3
   },
   "file_extension": ".py",
   "mimetype": "text/x-python",
   "name": "python",
   "nbconvert_exporter": "python",
   "pygments_lexer": "ipython3",
   "version": "3.12.4"
  }
 },
 "nbformat": 4,
 "nbformat_minor": 5
}
