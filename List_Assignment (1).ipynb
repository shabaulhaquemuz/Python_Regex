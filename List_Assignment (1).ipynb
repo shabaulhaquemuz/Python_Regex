{
 "cells": [
  {
   "cell_type": "code",
   "execution_count": 1,
   "id": "fceb38cd-d0c1-4d1a-92a3-9e7bae74c844",
   "metadata": {},
   "outputs": [
    {
     "name": "stdout",
     "output_type": "stream",
     "text": [
      "maximum is: 99\n"
     ]
    }
   ],
   "source": [
    "#1. Write a Python program to find the maximum element in a list of numbers without max functions\n",
    "#numbers = [10, 20, 4, 45, 99]\n",
    "#The maximum element is: 99\n",
    "numbers=[10,20,4,45,99]\n",
    "max=0\n",
    "for i in range(len(numbers)):\n",
    "    if(numbers[i]>max):\n",
    "        max=numbers[i]\n",
    "print(\"maximum is:\",max)"
   ]
  },
  {
   "cell_type": "code",
   "execution_count": 3,
   "id": "8486e8b9-4b95-42fb-9fd0-a9645ff2a8b8",
   "metadata": {},
   "outputs": [
    {
     "name": "stdout",
     "output_type": "stream",
     "text": [
      "99\n"
     ]
    }
   ],
   "source": [
    "number=[10,20,4,45,99]\n",
    "max=number[0]\n",
    "for i in range(len(number)):\n",
    "    if(number[i]>max):\n",
    "        max=number[i]\n",
    "print(max)"
   ]
  },
  {
   "cell_type": "code",
   "execution_count": 11,
   "id": "8a0a19ab-3d24-4a9e-b236-f2860361f14d",
   "metadata": {},
   "outputs": [
    {
     "name": "stdout",
     "output_type": "stream",
     "text": [
      "sum is: 100\n"
     ]
    }
   ],
   "source": [
    "#2. Write a Python program to sum all the elements in a list of numbers.\n",
    "#a. numbers = [10, 20, 30, 40]\n",
    "#b. The sum of all elements is: 100\n",
    "num = [10, 20, 30, 40]\n",
    "sum=0\n",
    "for i in range(len(num)):\n",
    "    sum+=num[i]\n",
    "print(\"sum is:\",sum)"
   ]
  },
  {
   "cell_type": "code",
   "execution_count": 31,
   "id": "194cc0e2-7e8a-4e5c-8d14-0caa4778dc26",
   "metadata": {},
   "outputs": [
    {
     "name": "stdout",
     "output_type": "stream",
     "text": [
      "original number: [1, 2, 3, 4, 5]\n",
      "reverse is: [5, 4, 3, 2, 1]\n"
     ]
    }
   ],
   "source": [
    "#3. Write a Python program to reverse a list without reverse or slicing operator\n",
    "#a. numbers = [1, 2, 3, 4, 5]\n",
    "#b. Reversed list: [5, 4, 3, 2, 1]\n",
    "list=[1,2,3,4,5]\n",
    "print(\"original number:\",list)\n",
    "reverse=[]\n",
    "for i in range(len(list)):\n",
    "    x=list.pop()\n",
    "    reverse.append(x)\n",
    "print(\"reverse is:\",reverse)"
   ]
  },
  {
   "cell_type": "code",
   "execution_count": 51,
   "id": "658023ad-03a0-4a08-a08b-5fa522d6221c",
   "metadata": {},
   "outputs": [
    {
     "name": "stdout",
     "output_type": "stream",
     "text": [
      "original number is: 1\n",
      "reverse is: 5\n",
      "original number is: 2\n",
      "reverse is: 4\n",
      "original number is: 3\n",
      "reverse is: 3\n",
      "original number is: 4\n",
      "reverse is: 2\n",
      "original number is: 5\n",
      "reverse is: 1\n"
     ]
    }
   ],
   "source": [
    "list1=[1,2,3,4,5]\n",
    "end=len(list1)-1\n",
    "for i in range(len(list1)):\n",
    "    print(\"original number is:\",list1[i])\n",
    "    print(\"reverse is:\",list1[end])\n",
    "    end-=1"
   ]
  },
  {
   "cell_type": "code",
   "execution_count": 61,
   "id": "7003d4e9-e233-44e1-b992-4d684c428739",
   "metadata": {},
   "outputs": [
    {
     "name": "stdout",
     "output_type": "stream",
     "text": [
      "1\n",
      "2\n",
      "3\n",
      "4\n",
      "5\n",
      "reversed is: [5, 4, 3, 2, 1]\n"
     ]
    }
   ],
   "source": [
    "list2=[1,2,3,4,5]\n",
    "end=len(list1)-1\n",
    "i=0\n",
    "reversed=[]\n",
    "while(i<len(list1)):\n",
    "    print(list2[i])\n",
    "    reversed.append(list2[end])\n",
    "    end-=1\n",
    "    i+=1\n",
    "print(\"reversed is:\",reversed)"
   ]
  },
  {
   "cell_type": "code",
   "execution_count": 63,
   "id": "f3b9c3d6-cc86-4adc-95c3-9a0b57aa288a",
   "metadata": {},
   "outputs": [
    {
     "name": "stdout",
     "output_type": "stream",
     "text": [
      "1\n",
      "2\n",
      "3\n",
      "4\n",
      "5\n",
      "reversed is: [5, 4, 3, 2, 1]\n"
     ]
    }
   ],
   "source": [
    "list3=[1,2,3,4,5]\n",
    "end=len(list1)-1\n",
    "i=0\n",
    "reversed=[]\n",
    "while(i<len(list1)):\n",
    "    print(list2[i])\n",
    "    reversed.append(list2[end])\n",
    "    end-=1\n",
    "    i+=1\n",
    "print(\"reversed is:\",reversed)"
   ]
  },
  {
   "cell_type": "code",
   "execution_count": 4,
   "id": "34cbf4c8-6450-486e-9fb9-36bbf003c58b",
   "metadata": {},
   "outputs": [
    {
     "name": "stdout",
     "output_type": "stream",
     "text": [
      "[3, 5, 22, 32, 42, 87, 500, 1000]\n"
     ]
    }
   ],
   "source": [
    "#4. Write a Python program to sort a list in ascending order without sort functions\n",
    "list4=[3,5,22,42,32,87,1000,500]\n",
    "for i in range(len(list4)):\n",
    "    for j in range(i+1,len(list4)):\n",
    "        if(list4[i]>list4[j]):\n",
    "            list4[i],list4[j]=list4[j],list4[i]\n",
    "print(list4)"
   ]
  },
  {
   "cell_type": "code",
   "execution_count": 10,
   "id": "60733f8e-ef9a-4d47-9ff8-f3324991f88e",
   "metadata": {},
   "outputs": [
    {
     "name": "stdout",
     "output_type": "stream",
     "text": [
      "list after removing duplicates: [1, 2, 3, 4, 5]\n"
     ]
    }
   ],
   "source": [
    "#5. Write a Python program to remove duplicates from a list while maintaining the order of elements.\n",
    "#a. numbers = [1, 2, 2, 3, 4, 4, 5]\n",
    "#b. List after removing duplicates: [1, 2, 3, 4, 5]\n",
    "list5 = [1, 2, 2, 3, 4, 4, 5]\n",
    "newlist=[]\n",
    "for item in list5:\n",
    "    if item not in newlist:\n",
    "        newlist.append(item)\n",
    "print(\"list after removing duplicates:\",newlist)\n",
    "        "
   ]
  },
  {
   "cell_type": "code",
   "execution_count": 12,
   "id": "720568dd-231a-4205-b79e-ed27d0f8566a",
   "metadata": {},
   "outputs": [
    {
     "name": "stdout",
     "output_type": "stream",
     "text": [
      "1 5\n",
      "2 4\n",
      "3 3\n"
     ]
    }
   ],
   "source": [
    "#6. Write a Python program to find all pairs of numbers in a list that add up to a specific target sum.\n",
    "#a. numbers = [1, 2, 3, 4, 3, 5, 6] target_sum = 6\n",
    "#b. Pairs that add up to 6: [(3, 3), (2, 4), (1, 5)]\n",
    "list6 =[1, 2, 3, 4, 3, 5, 6] \n",
    "for i in range(len(list6)):\n",
    "    for j in range(i+1,len(list6)):\n",
    "        if(list6[i]+list6[j]==6):\n",
    "            print(list6[i],list6[j])"
   ]
  },
  {
   "cell_type": "code",
   "execution_count": 59,
   "id": "7c02bd68-c644-4af2-9b48-7ef49cea8648",
   "metadata": {},
   "outputs": [
    {
     "name": "stdout",
     "output_type": "stream",
     "text": [
      "[1, 2, 3, 4, 5, 6, 7, 8]\n"
     ]
    }
   ],
   "source": [
    "#7. Write a Python program to flatten a nested list (list within lists) into a single list.\n",
    "#a. nested_list = [1, [2, 3], [4, [5, 6], 7], 8]\n",
    "#b. Flattened list: [1, 2, 3, 4, 5, 6, 7, 8]\n",
    "nestedlist = [1, [2, 3], [4, [5, 6], 7], 8]\n",
    "\n",
    "new=[]\n",
    "flattenedlist=[]\n",
    "for i in nestedlist:\n",
    "    if(type(i)==list):\n",
    "        new.extend(i)\n",
    "    else:\n",
    "        new.append(i)\n",
    "for i in new:\n",
    "    if(type(i)==list):\n",
    "        flattenedlist.extend(i)\n",
    "    else:\n",
    "        flattenedlist.append(i)\n",
    "print(flattenedlist)"
   ]
  },
  {
   "cell_type": "code",
   "execution_count": 28,
   "id": "3819668a-8473-46a4-936e-da9f00b1a1bf",
   "metadata": {},
   "outputs": [
    {
     "name": "stdout",
     "output_type": "stream",
     "text": [
      "sum is: 9\n"
     ]
    }
   ],
   "source": [
    "#8. Write a Python program to find the sum of the elements in a list, excluding the largest and smallest element. Don’t use max or min functions\n",
    "#a. numbers = [1, 2, 3, 4, 5]\n",
    "#b. Sum excluding the largest and smallest element: 9\n",
    "list8=[1,2,3,4,5]\n",
    "sum=0\n",
    "for i in range(1,len(list8)-1):\n",
    "    sum+=list8[i]\n",
    "print(\"sum is:\",sum)"
   ]
  },
  {
   "cell_type": "code",
   "execution_count": 54,
   "id": "5ff08d54-ca67-4368-b359-e693c7013bec",
   "metadata": {},
   "outputs": [
    {
     "name": "stdout",
     "output_type": "stream",
     "text": [
      "12321\n",
      "12321\n",
      "palindrome\n"
     ]
    }
   ],
   "source": [
    "#9. Write a Python program to check if a list is a palindrome (reads the same backward as forward) using two pointer approach\n",
    "#a. numbers = [1, 2, 3, 2, 1]\n",
    "#b. True\n",
    "list9=[1,2,3,2,1]\n",
    "for i in range(len(list9)):\n",
    "    print(list9[i],end='')\n",
    "print()\n",
    "for j in range(len(list9)-1,-1,-1):\n",
    "    print(list9[j],end='')\n",
    "print()\n",
    "if(list9[i]==list9[j]):\n",
    "    print(\"palindrome\")\n",
    "else:\n",
    "    print(\"non-palindrome\")"
   ]
  },
  {
   "cell_type": "code",
   "execution_count": 78,
   "id": "3c80f5cc-7e0c-46ce-97c1-12f9b2bedb73",
   "metadata": {},
   "outputs": [
    {
     "name": "stdout",
     "output_type": "stream",
     "text": [
      "palindrome\n"
     ]
    }
   ],
   "source": [
    "list10=[1,2,3,2,1]\n",
    "i=0\n",
    "end=len(list10)-1\n",
    "count=0\n",
    "while(i<len(list10)):\n",
    "    if(list10[i]!=list10[end]):\n",
    "        count=1\n",
    "        break    \n",
    "    i+=1\n",
    "    end-=1\n",
    "if(count==0):\n",
    "    print(\"palindrome\")\n",
    "else:\n",
    "    print(\"non-palindrome\")"
   ]
  },
  {
   "cell_type": "code",
   "execution_count": 86,
   "id": "a749a9ec-f740-4320-a1e3-9527770d6870",
   "metadata": {},
   "outputs": [
    {
     "name": "stdout",
     "output_type": "stream",
     "text": [
      "palindrome\n"
     ]
    }
   ],
   "source": [
    "list11=[1,2,3,2,1]\n",
    "i=0\n",
    "end=len(list11)-1\n",
    "count=0\n",
    "while(i<len(list10)):\n",
    "    if(list11[i]!=list11[end]):\n",
    "        count+=1   \n",
    "    i+=1\n",
    "    end-=1\n",
    "if(count==0):\n",
    "    print(\"palindrome\")\n",
    "else:\n",
    "    print(\"non-palindrome\")"
   ]
  },
  {
   "cell_type": "code",
   "execution_count": 104,
   "id": "c0c7cc09-4e80-4429-b1be-7b2cb41e7baa",
   "metadata": {},
   "outputs": [
    {
     "name": "stdout",
     "output_type": "stream",
     "text": [
      "new list without duplicates: [1, 2, 3, 4, 5, 6]\n"
     ]
    }
   ],
   "source": [
    "#10. Write a function to remove duplicate elements from a list.\n",
    "#a. numbers = [1, 2, 3, 2, 4, 5, 1, 6]\n",
    "#b. [1, 2, 3, 4, 5, 6]\n",
    "list12=[1, 2, 3, 2, 4, 5, 1, 6]\n",
    "newlist2=[]\n",
    "for item in list12:\n",
    "    if item not in newlist2:\n",
    "        newlist2.append(item)\n",
    "print(\"new list without duplicates:\",newlist2)\n",
    "#when we use range, its print indexes\n",
    "#when we use item in list format, it prints the actual elements of the list\n",
    "            "
   ]
  },
  {
   "cell_type": "code",
   "execution_count": 114,
   "id": "aaffabc2-9883-42a0-be9b-cde7d3dbbed5",
   "metadata": {},
   "outputs": [
    {
     "name": "stdout",
     "output_type": "stream",
     "text": [
      "common values are: [3, 4, 5]\n"
     ]
    }
   ],
   "source": [
    "#11. Find Common Elements in Two Lists\n",
    "#a. list1 = [1, 2, 3, 4, 5]\n",
    "#b. list2 = [3, 4, 5, 6, 7]\n",
    "#c. Result: [3, 4, 5]\n",
    "list13 = [1, 2, 3, 4, 5]\n",
    "list14 = [3, 4, 5, 6, 7]\n",
    "newlist3=[]\n",
    "for item in list13:\n",
    "    for elements in list14:\n",
    "        if(item==elements):\n",
    "            newlist3.append(item)\n",
    "print(\"common values are:\",newlist3)"
   ]
  },
  {
   "cell_type": "code",
   "execution_count": 144,
   "id": "ef986fcd-c9c0-4cc7-8359-093c2af7136e",
   "metadata": {},
   "outputs": [
    {
     "name": "stdout",
     "output_type": "stream",
     "text": [
      "longest word: strawberry\n"
     ]
    }
   ],
   "source": [
    "#12. Find the Longest Word in a List\n",
    "#a. words = [\"apple\", \"banana\", \"strawberry\", \"kiwi\"]\n",
    "#b. Strawberry\n",
    "a=0\n",
    "words = [\"apple\", \"banana\", \"strawberry\", \"kiwi\"]\n",
    "for i in range(1,len(words)):\n",
    "        if(len(words[i])>len(words[a])):\n",
    "            a=i\n",
    "print(\"longest word:\",words[a])\n",
    "            \n",
    "        \n"
   ]
  },
  {
   "cell_type": "code",
   "execution_count": 18,
   "id": "5afe139b-30a2-4b68-aff2-9717548227ac",
   "metadata": {},
   "outputs": [
    {
     "name": "stdout",
     "output_type": "stream",
     "text": [
      "missing_number: 9\n"
     ]
    }
   ],
   "source": [
    "#14. Find Missing Number in a List\n",
    "#You are given a list of n-1 numbers in the range 1 to n. One number is missing from the sequence. Find the missing number.\n",
    "#a. numbers = [1, 2, 4, 5, 6]\n",
    "#b. 3\n",
    "list15=[1,2,3,4,5,6,7,8,10]\n",
    "a=0\n",
    "b=a+1\n",
    "while(b<len(list15)):\n",
    "    if(list15[b]-list15[a]==1):\n",
    "        a=b\n",
    "        b=b+1\n",
    "    else:\n",
    "        print(\"missing_number:\",list15[a]+1)\n",
    "        break"
   ]
  },
  {
   "cell_type": "code",
   "execution_count": 1,
   "id": "5d96a196-6bec-43a7-b230-f6b7d8e97526",
   "metadata": {},
   "outputs": [
    {
     "name": "stdout",
     "output_type": "stream",
     "text": [
      "missing_number: 9\n"
     ]
    }
   ],
   "source": [
    "list16=[1,2,3,4,5,6,7,8,10]\n",
    "a=0\n",
    "b=a+1\n",
    "for i in range(len(list16)):\n",
    "    if(list16[b]-list16[a]==1):\n",
    "        a=b\n",
    "        b=b+1\n",
    "    else:\n",
    "        print(\"missing_number:\",list16[a]+1)\n",
    "        break"
   ]
  },
  {
   "cell_type": "code",
   "execution_count": 3,
   "id": "8a9eb444-3f12-4670-a382-6ec6ad0a11f3",
   "metadata": {},
   "outputs": [
    {
     "name": "stdout",
     "output_type": "stream",
     "text": [
      "missing_number: 9\n"
     ]
    }
   ],
   "source": [
    "list17=[1,2,3,4,5,6,7,8,10]\n",
    "a=0\n",
    "b=a+1\n",
    "while(b<len(list17)):\n",
    "    if(list17[b]-list17[a]!=1):\n",
    "        print(\"missing_number:\",list17[a]+1)\n",
    "    a=b\n",
    "    b=b+1"
   ]
  },
  {
   "cell_type": "code",
   "execution_count": 13,
   "id": "71539dbe-059b-48ce-a1d1-8c4b485b27b9",
   "metadata": {},
   "outputs": [
    {
     "name": "stdout",
     "output_type": "stream",
     "text": [
      "First non-repeating element: 1\n"
     ]
    }
   ],
   "source": [
    "#15. Find the First Non-Repeating Element\n",
    "#Given a list of integers, find the first element that appears only once.\n",
    "#a. numbers = [4, 5, 1, 2, 0, 4, 5, 2]\n",
    "#b. Expected Output: 1\n",
    "list18 = [4, 5, 1, 2, 0, 4, 5, 2]\n",
    "\n",
    "for i in range(len(list18)):\n",
    "    count = 0\n",
    "    for j in range(len(list18)):\n",
    "        if i != j and list18[i] == list18[j]:\n",
    "            count += 1\n",
    "            break  \n",
    "    if count == 0:\n",
    "        print(\"First non-repeating element:\", list18[i])\n",
    "        break"
   ]
  },
  {
   "cell_type": "code",
   "execution_count": 27,
   "id": "14566a41-c83e-4de9-b445-da6ea93a6ac2",
   "metadata": {},
   "outputs": [
    {
     "name": "stdout",
     "output_type": "stream",
     "text": [
      "[1, 3, 1, 2, 0, 0]\n"
     ]
    }
   ],
   "source": [
    "#16. Move All Zeros to the End\n",
    "#Given a list of integers, move all zeros to the end while maintaining the relative order of non-zero elements. Don’t use any inbuilt functions\n",
    "#a. numbers = [0, 1, 0, 3, 12]\n",
    "#b. [1, 3, 12, 0, 0]\n",
    "list20 = [0, 1, 0, 3, 1, 2]\n",
    "\n",
    "a = 0\n",
    "\n",
    "for i in range(len(list20)):\n",
    "    if list20[i] != 0:\n",
    "        list20[a] = list20[i]\n",
    "        a += 1\n",
    "\n",
    "while a < len(list20):\n",
    "    list20[a] = 0\n",
    "    a += 1\n",
    "\n",
    "print(list20)\n"
   ]
  },
  {
   "cell_type": "code",
   "execution_count": 2,
   "id": "2b96c9f1-6f51-4aaf-ae6b-3875a3be38ce",
   "metadata": {},
   "outputs": [
    {
     "name": "stdout",
     "output_type": "stream",
     "text": [
      "[1, 3, 12, 7, 9, 0, 0, 0]\n"
     ]
    }
   ],
   "source": [
    "numbers=[0,1,0,3,12,7,9,0]\n",
    "a=0\n",
    "end=len(numbers)-1\n",
    "for i in range(len(numbers)):\n",
    "    if(numbers[i]!=0):\n",
    "        numbers[a]=numbers[i]\n",
    "        a+=1\n",
    "for i in range(a,len(numbers)):\n",
    "    numbers[i]=0\n",
    "print(numbers)"
   ]
  },
  {
   "cell_type": "code",
   "execution_count": 35,
   "id": "f8c78b66-86a4-49a4-a758-3e1dacd58d15",
   "metadata": {},
   "outputs": [
    {
     "name": "stdout",
     "output_type": "stream",
     "text": [
      "[3, 6, 8]\n"
     ]
    }
   ],
   "source": [
    "#17. Find Elements Greater Than Their Left Neighbor\n",
    "#a. numbers = [1, 3, 2, 6, 5, 8, 7]\n",
    "#b. [3, 6, 8]\n",
    "list21 = [1, 3, 2, 6, 5, 8, 7]\n",
    "greaterlist = []\n",
    "\n",
    "for i in range(1, len(list21)):\n",
    "    if list21[i] > list21[i - 1]:\n",
    "        greaterlist.append(list21[i])\n",
    "\n",
    "print(greaterlist)\n"
   ]
  },
  {
   "cell_type": "code",
   "execution_count": 4,
   "id": "35ad681b-ba5d-4faf-93c6-575bcd2cf85f",
   "metadata": {},
   "outputs": [
    {
     "name": "stdout",
     "output_type": "stream",
     "text": [
      "3\n",
      "6\n",
      "8\n"
     ]
    }
   ],
   "source": [
    "number=[1,3,2,6,5,8,7]\n",
    "a=0\n",
    "b=1\n",
    "for i in range(len(number)-1):\n",
    "    if(number[b]>number[a]):\n",
    "        print(number[b])\n",
    "    a+=1\n",
    "    b+=1"
   ]
  },
  {
   "cell_type": "code",
   "execution_count": 6,
   "id": "3cf5f14d-3f6d-4575-a777-d8282f868757",
   "metadata": {},
   "outputs": [
    {
     "name": "stdout",
     "output_type": "stream",
     "text": [
      "[[-1, 0, 1], [-1, -1, 2]]\n"
     ]
    }
   ],
   "source": [
    "#18. Find Triplets That Sum to Zero\n",
    "#Given a list of numbers, find all unique triplets (a, b, c) such that a + b + c = 0.\n",
    "#a. numbers = [-1, 0, 1, 2, -1, -4]\n",
    "#b. Expected Output: [(-1, -1, 2), (-1, 0, 1)]\n",
    "list=[-1,0,1,2,-1,-4]\n",
    "new=[]\n",
    "for i in range(0,len(list)):\n",
    "    for j in range(i+1,len(list)):\n",
    "        for k in range(j+1,len(list)):\n",
    "            if(list[i]+list[j]+list[k]==0):\n",
    "                triplet=[list[i],list[j],list[k]]\n",
    "                triplet.sort()\n",
    "                if(triplet not in new):\n",
    "                    new.append(triplet)\n",
    "print(new)"
   ]
  },
  {
   "cell_type": "code",
   "execution_count": null,
   "id": "bc857298-d9fd-4b55-886a-e27fc4ef53af",
   "metadata": {},
   "outputs": [],
   "source": []
  }
 ],
 "metadata": {
  "kernelspec": {
   "display_name": "Python 3 (ipykernel)",
   "language": "python",
   "name": "python3"
  },
  "language_info": {
   "codemirror_mode": {
    "name": "ipython",
    "version": 3
   },
   "file_extension": ".py",
   "mimetype": "text/x-python",
   "name": "python",
   "nbconvert_exporter": "python",
   "pygments_lexer": "ipython3",
   "version": "3.12.4"
  }
 },
 "nbformat": 4,
 "nbformat_minor": 5
}
