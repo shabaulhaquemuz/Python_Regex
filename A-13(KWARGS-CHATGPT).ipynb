{
 "cells": [
  {
   "cell_type": "code",
   "execution_count": 11,
   "id": "7b41bc13-815f-4c15-9f87-d9e6a03c825d",
   "metadata": {},
   "outputs": [
    {
     "name": "stdout",
     "output_type": "stream",
     "text": [
      "{'name': 'shabaul', 'age': 23, 'college': 'jamia'}\n"
     ]
    }
   ],
   "source": [
    "# 🔹 Q1. Basic Print of kwargs\n",
    "# Write a function that accepts any number of keyword arguments and prints each key-value pair.\n",
    "def dict1(**kwargs):\n",
    "    print(kwargs)\n",
    "dict1(name=\"shabaul\",age=23,college=\"jamia\")"
   ]
  },
  {
   "cell_type": "code",
   "execution_count": 9,
   "id": "42e8e409-eefc-4b9c-99be-dd0ac400f1e8",
   "metadata": {},
   "outputs": [
    {
     "name": "stdout",
     "output_type": "stream",
     "text": [
      "name shabaul\n",
      "age 23\n",
      "college jamia\n"
     ]
    }
   ],
   "source": [
    "# Write a function that accepts any number of keyword arguments and prints each key-value pair.\n",
    "def dict(**kwargs):\n",
    "    for i in kwargs:\n",
    "        print(i,kwargs[i])\n",
    "dict(name=\"shabaul\",age=23,college=\"jamia\")"
   ]
  },
  {
   "cell_type": "code",
   "execution_count": 21,
   "id": "d14a9d3a-b6d1-4894-819d-f5f1a1521222",
   "metadata": {},
   "outputs": [
    {
     "name": "stdout",
     "output_type": "stream",
     "text": [
      "name:shabaul\n",
      "age:23\n",
      "college:jamia\n"
     ]
    }
   ],
   "source": [
    "def dict(**kwargs):\n",
    "    for i in kwargs:\n",
    "        print(f\"{i}:{kwargs[i]}\")\n",
    "dict(name=\"shabaul\",age=23,college=\"jamia\")"
   ]
  },
  {
   "cell_type": "code",
   "execution_count": 29,
   "id": "df116e16-dccd-44fa-aaae-fc934639b843",
   "metadata": {},
   "outputs": [
    {
     "name": "stdout",
     "output_type": "stream",
     "text": [
      "name\n",
      "age\n"
     ]
    }
   ],
   "source": [
    "# 🔹 Q2. Accessing Specific Keys\n",
    "# Write a function that takes any keyword arguments and prints the value of the keys name and age if they exist.\n",
    "def specific(**kwargs):\n",
    "    for i in kwargs:\n",
    "        if(i==\"name\" or i==\"age\"):\n",
    "            print(i)\n",
    "specific(name=\"shabaul\",age=23,sex=\"male\")\n",
    "#printing only keys"
   ]
  },
  {
   "cell_type": "code",
   "execution_count": 33,
   "id": "379375c3-0bff-4336-b443-e086afa2a522",
   "metadata": {},
   "outputs": [
    {
     "name": "stdout",
     "output_type": "stream",
     "text": [
      "shabaul\n",
      "23\n"
     ]
    }
   ],
   "source": [
    "def specific(**kwargs):\n",
    "    for i in kwargs:\n",
    "        if(i==\"name\" or i==\"age\"):\n",
    "            print(kwargs[i])\n",
    "specific(name=\"shabaul\",age=23,sex=\"male\")\n",
    "#printing values of the keys as expected"
   ]
  },
  {
   "cell_type": "code",
   "execution_count": 47,
   "id": "8c60ebf6-6239-4b5d-9634-c6cf504b751e",
   "metadata": {},
   "outputs": [
    {
     "name": "stdout",
     "output_type": "stream",
     "text": [
      "marks is not passed\n",
      "marks is not passed\n",
      "98\n"
     ]
    }
   ],
   "source": [
    "# 🔹 Q3.\n",
    "# Write a function where you take **kwargs and return the value of a key called marks. If marks is not passed, return \"No marks provided\"\n",
    "def default1(**kwargs):\n",
    "    for i in kwargs:\n",
    "        if(i==\"marks\"):\n",
    "            print(kwargs[i])\n",
    "        else:\n",
    "            print(\"marks is not passed\")\n",
    "default1(name=\"shabaul\",subject=\"python\",marks=98)"
   ]
  },
  {
   "cell_type": "code",
   "execution_count": 45,
   "id": "be8665e8-c014-4c57-ac1e-76f8b24c24e2",
   "metadata": {},
   "outputs": [],
   "source": [
    "# ❓ Can *args or **kwargs access default arguments that weren’t explicitly passed?\n",
    "# 👉 No, they cannot access default values.\n",
    "\n",
    "# Default arguments are part of the function definition and are only used when no value is passed.\n",
    "# They do not get stored in *args or **kwargs automatically.\n",
    "# *args and **kwargs cannot access default parameters, can only access positional and keyword parameters\n"
   ]
  },
  {
   "cell_type": "code",
   "execution_count": 51,
   "id": "07aaf57e-5a65-4ff5-9317-49b897d0f521",
   "metadata": {},
   "outputs": [
    {
     "name": "stdout",
     "output_type": "stream",
     "text": [
      "98\n"
     ]
    }
   ],
   "source": [
    "#only print marks is passed\n",
    "def default1(**kwargs):\n",
    "    for i in kwargs:\n",
    "        if(i==\"marks\"):\n",
    "            print(kwargs[i])\n",
    "default1(name=\"shabaul\",subject=\"python\",marks=98)"
   ]
  },
  {
   "cell_type": "code",
   "execution_count": 55,
   "id": "a84a123d-f04c-4902-8a35-df2a27d6ff6a",
   "metadata": {},
   "outputs": [
    {
     "name": "stdout",
     "output_type": "stream",
     "text": [
      "name:shabaul\n",
      "college:ctae\n"
     ]
    }
   ],
   "source": [
    "#  Q4. Filtering Specific Data Types\n",
    "# From the keyword arguments passed, return only those key-value pairs where the value is a string.\n",
    "def valstr(**kwargs):\n",
    "    for i in kwargs:\n",
    "        if(type(kwargs[i])==str):\n",
    "            print(f\"{i}:{kwargs[i]}\")\n",
    "valstr(name=\"shabaul\",age=21,college=\"ctae\")"
   ]
  },
  {
   "cell_type": "code",
   "execution_count": 69,
   "id": "0758c28a-39ba-4b0d-ad65-97494824eb1f",
   "metadata": {},
   "outputs": [
    {
     "name": "stdout",
     "output_type": "stream",
     "text": [
      "{'name': 'shabaul', 'college': 'ctae'}\n"
     ]
    }
   ],
   "source": [
    "dict1={}\n",
    "def valstr(**kwargs):\n",
    "    for i in kwargs:\n",
    "        if(type(kwargs[i])==str):\n",
    "            dict1[i]=kwargs[i]\n",
    "    # print(dict1)\n",
    "valstr(name=\"shabaul\",age=21,college=\"ctae\")"
   ]
  },
  {
   "cell_type": "code",
   "execution_count": 71,
   "id": "23b48eed-9317-4027-9f0d-e5efe0689d15",
   "metadata": {},
   "outputs": [
    {
     "name": "stdout",
     "output_type": "stream",
     "text": [
      "(1, 2, 3, 4, 'shabaul', 'amaaan', 8, 1000)\n",
      "{'name': 'saif', 'name2': 'Ali', 'age': 23, 'age2': 39}\n"
     ]
    }
   ],
   "source": [
    "# 🔹 Q5. Combine *args and **kwargs\n",
    "# Write a function that accepts any number of positional and keyword arguments.\n",
    "# Print each positional value and each keyword key-value pair.\n",
    "def argskwargs(*args,**kwargs):\n",
    "    print(args)\n",
    "    print(kwargs)\n",
    "argskwargs(1,2,3,4,\"shabaul\",\"amaaan\",8,1000,name=\"saif\",name2=\"Ali\",age=23,age2=39)"
   ]
  },
  {
   "cell_type": "code",
   "execution_count": 101,
   "id": "9337e95e-1e1b-4f04-8451-0d424e05136f",
   "metadata": {},
   "outputs": [
    {
     "name": "stdout",
     "output_type": "stream",
     "text": [
      "{'name': 'saif', 'age': 21, 'city': 'muzaffarpur'}\n",
      "saif 21 muzaffarpur\n"
     ]
    }
   ],
   "source": [
    "#  Q6. Passing **kwargs to Another Function\n",
    "# You have this function:\n",
    "def print_info(name,age,city):\n",
    "    print(name,age,city)\n",
    "def kwarg(**kwargs):\n",
    "    print(kwargs)\n",
    "    print_info(**kwargs)\n",
    "kwarg(name=\"saif\",age=21,city=\"muzaffarpur\")\n"
   ]
  },
  {
   "cell_type": "code",
   "execution_count": 111,
   "id": "227a2a66-a8a8-4c0e-a9df-4a95b47ab454",
   "metadata": {},
   "outputs": [
    {
     "name": "stdout",
     "output_type": "stream",
     "text": [
      "3\n",
      "{'name': 'saif', 'age': 21, 'city': 'muzaffarpur'}\n",
      "{'name': 'saif', 'age': 21, 'city': 'muzaffarpur'}\n"
     ]
    }
   ],
   "source": [
    "def print_info(name):\n",
    "    print(name)\n",
    "def kwarg(**kwargs):\n",
    "    print(kwargs)\n",
    "    print_info(kwargs)\n",
    "print_info(3)\n",
    "kwarg(name=\"saif\",age=21,city=\"muzaffarpur\")\n",
    "\n",
    "# If you want to pass a kwargs dictionary without unpacking,\n",
    "# then the receiving function should have just one parameter that expects a dictionary — not multiple individual keyword arguments"
   ]
  },
  {
   "cell_type": "code",
   "execution_count": 119,
   "id": "03b72fdf-9759-437d-897a-d03709399c10",
   "metadata": {},
   "outputs": [
    {
     "name": "stdout",
     "output_type": "stream",
     "text": [
      "4\n"
     ]
    }
   ],
   "source": [
    "# 🔹 Q7. Count Number of Keyword Arguments\n",
    "# Write a function that accepts any keyword arguments and returns how many key-value pairs were passed.\n",
    "def countkeyarg(**kwargs):\n",
    "    count=0\n",
    "    for i in kwargs:\n",
    "        count+=1\n",
    "    print(count)\n",
    "countkeyarg(name=\"saif\",age=23,college=\"ctae\",sex=\"male\")"
   ]
  },
  {
   "cell_type": "code",
   "execution_count": 123,
   "id": "6f99b2dd-99e7-4c80-9411-594a76a87927",
   "metadata": {},
   "outputs": [
    {
     "name": "stdout",
     "output_type": "stream",
     "text": [
      "5\n"
     ]
    }
   ],
   "source": [
    "count=0\n",
    "def countkeyarg(**kwargs):\n",
    "    global count\n",
    "    for i in kwargs:\n",
    "        count+=1\n",
    "    print(count)\n",
    "countkeyarg(name=\"saif\",age=23,college=\"ctae\",sex=\"male\",bike=\"pulsar 220\")"
   ]
  },
  {
   "cell_type": "code",
   "execution_count": 125,
   "id": "a76fdf0c-bdad-4c14-a32f-1a462838eeaf",
   "metadata": {},
   "outputs": [
    {
     "name": "stdout",
     "output_type": "stream",
     "text": [
      "error\n",
      "keys are present,login successful\n",
      "error\n",
      "keys are present,login successful\n"
     ]
    }
   ],
   "source": [
    "# 🔹 Q8. Check for Required Keys\n",
    "# Write a function that ensures keys username and password are present in kwargs. If not, print an error.\n",
    "def checkuser(**kwargs):\n",
    "    for i in kwargs:\n",
    "        if(i==\"username\" or i==\"password\"):\n",
    "            print(\"keys are present,login successful\")\n",
    "        else:\n",
    "            print(\"error\")\n",
    "checkuser(name=\"saif\",username=\"shabaulhaquemuz\",id=5,password=\"shabaul12345\")"
   ]
  },
  {
   "cell_type": "code",
   "execution_count": 151,
   "id": "279d9806-2d78-4b47-998a-661c51131447",
   "metadata": {},
   "outputs": [
    {
     "name": "stdout",
     "output_type": "stream",
     "text": [
      "keys are present,login successful\n"
     ]
    }
   ],
   "source": [
    "# 🔹 Q8. Check for Required Keys\n",
    "# Write a function that ensures keys username and password are present in kwargs. If not, print an error.\n",
    "def checkuser(**kwargs):\n",
    "        if(\"username\" and \"password\" in kwargs):\n",
    "            print(\"keys are present,login successful\")\n",
    "        else:\n",
    "            print(\"error\")\n",
    "checkuser(name=\"saif\",username=\"shabaulhaquemuz\",id=5,password=\"shabaul12345\")\n",
    "#if(\"username\" and \"password\" in kwargs): this is just checking password in kwargs and not checking username in kwargs"
   ]
  },
  {
   "cell_type": "code",
   "execution_count": 155,
   "id": "f0cd62c5-94ac-4d03-aca5-f13e7bec2b7b",
   "metadata": {},
   "outputs": [
    {
     "name": "stdout",
     "output_type": "stream",
     "text": [
      "keys are present,login successful\n"
     ]
    }
   ],
   "source": [
    "def checkuser(**kwargs):\n",
    "        if(\"username\" in kwargs and \"password\" in kwargs):\n",
    "            print(\"keys are present,login successful\")\n",
    "        else:\n",
    "            print(\"error\")\n",
    "checkuser(name=\"saif\",username=\"shabaulhaquemuz\",id=5,password=\"shabaul12345\")"
   ]
  },
  {
   "cell_type": "code",
   "execution_count": 161,
   "id": "132ed478-374f-4b77-b30c-d4a615875981",
   "metadata": {},
   "outputs": [
    {
     "name": "stdout",
     "output_type": "stream",
     "text": [
      "name shabaul\n",
      "age 23\n",
      "sex male\n"
     ]
    }
   ],
   "source": [
    "# 🔹 Q9. Convert kwargs to a Dictionary\n",
    "# Write a function that returns the kwargs as a regular dictionary and then access it like a normal dictionary.\n",
    "def regular(**kwargs):\n",
    "    for i in kwargs:\n",
    "        print(i,kwargs[i])\n",
    "regular(name=\"shabaul\",age=23,sex=\"male\")"
   ]
  },
  {
   "cell_type": "code",
   "execution_count": null,
   "id": "91acf09e-58c8-4202-81ae-022ceea2e604",
   "metadata": {},
   "outputs": [],
   "source": []
  }
 ],
 "metadata": {
  "kernelspec": {
   "display_name": "Python 3 (ipykernel)",
   "language": "python",
   "name": "python3"
  },
  "language_info": {
   "codemirror_mode": {
    "name": "ipython",
    "version": 3
   },
   "file_extension": ".py",
   "mimetype": "text/x-python",
   "name": "python",
   "nbconvert_exporter": "python",
   "pygments_lexer": "ipython3",
   "version": "3.12.4"
  }
 },
 "nbformat": 4,
 "nbformat_minor": 5
}
