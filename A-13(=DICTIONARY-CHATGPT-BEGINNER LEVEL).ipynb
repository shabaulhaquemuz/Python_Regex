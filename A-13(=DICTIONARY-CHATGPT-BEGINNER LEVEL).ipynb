{
 "cells": [
  {
   "cell_type": "code",
   "execution_count": 5,
   "id": "04b6300b-628c-4f45-a0e8-11e4e637c8c4",
   "metadata": {},
   "outputs": [
    {
     "name": "stdout",
     "output_type": "stream",
     "text": [
      "{'shabaul': 'haque', 'age': 23, 'address': 'delhi'}\n",
      "{'shabaul': 'haque', 'age': 23, 'address': 'delhi', 'marital status': 'unmarried'}\n"
     ]
    }
   ],
   "source": [
    "#1.Add a New Key-Value Pair to a Dictionary\n",
    "d={\"shabaul\":\"haque\",\"age\":23,\"address\":\"delhi\"}\n",
    "print(d)\n",
    "d[\"marital status\"]=\"unmarried\"\n",
    "print(d)"
   ]
  },
  {
   "cell_type": "code",
   "execution_count": 7,
   "id": "67b51da7-1746-42e8-aec9-a6f20c69da66",
   "metadata": {},
   "outputs": [
    {
     "name": "stdout",
     "output_type": "stream",
     "text": [
      "1300\n"
     ]
    }
   ],
   "source": [
    "#2.Write a program to sum all the numeric values in a dictionary\n",
    "expenses = {'food': 200, 'rent': 800, 'utilities': 300}\n",
    "sum=0\n",
    "for i in expenses.values():\n",
    "    sum+=i\n",
    "print(sum)\n",
    "    "
   ]
  },
  {
   "cell_type": "code",
   "execution_count": 9,
   "id": "93c348d0-6638-434a-a186-bbe442683809",
   "metadata": {},
   "outputs": [
    {
     "name": "stdout",
     "output_type": "stream",
     "text": [
      "1300\n"
     ]
    }
   ],
   "source": [
    "expenses = {'food': 200, 'rent': 800, 'utilities': 300}\n",
    "sumvalue=0\n",
    "for i in expenses:\n",
    "    sumvalue+=expenses[i]\n",
    "print(sumvalue)"
   ]
  },
  {
   "cell_type": "code",
   "execution_count": 11,
   "id": "5b49cc3a-22f5-40fb-9044-e6b5b2cd5641",
   "metadata": {},
   "outputs": [
    {
     "name": "stdout",
     "output_type": "stream",
     "text": [
      "{'name': 'Bob', 'grade': 'A'} 22\n"
     ]
    }
   ],
   "source": [
    "#3.Write a program to remove a key from a dictionary.\n",
    "student = {'name': 'Bob', 'age': 22, 'grade': 'A'} #remove age\n",
    "z=student.pop(\"age\")\n",
    "print(student,z)\n",
    "#z = student.pop(\"age\", None)  # Returns None if \"age\" doesn't exist\n"
   ]
  },
  {
   "cell_type": "code",
   "execution_count": 13,
   "id": "c759cd94-7493-42e9-bc07-d51dbf0eb0e2",
   "metadata": {},
   "outputs": [
    {
     "name": "stdout",
     "output_type": "stream",
     "text": [
      "['apple', 'banana', 'mango']\n"
     ]
    }
   ],
   "source": [
    "#4.Write a program to extract all the keys from a dictionary into a list.\n",
    "fruit_prices = {'apple': 100, 'banana': 40, 'mango': 80}\n",
    "mylist=[]\n",
    "for i in fruit_prices:\n",
    "    mylist.append(i)\n",
    "print(mylist)"
   ]
  },
  {
   "cell_type": "code",
   "execution_count": 15,
   "id": "ea82b704-44ab-4415-90c9-bdfcb077bc1a",
   "metadata": {},
   "outputs": [
    {
     "name": "stdout",
     "output_type": "stream",
     "text": [
      "id 101\n",
      "name John\n",
      "salary 50000\n"
     ]
    }
   ],
   "source": [
    "#5.Write a program to print each key and its value in a dictionary using a loop.\n",
    "employee = {'id': 101, 'name': 'John', 'salary': 50000}\n",
    "for i in employee:\n",
    "    print(i,employee[i])\n",
    "    "
   ]
  },
  {
   "cell_type": "code",
   "execution_count": 17,
   "id": "8610f562-e36c-4079-9548-308b5a08077a",
   "metadata": {},
   "outputs": [
    {
     "name": "stdout",
     "output_type": "stream",
     "text": [
      "id 101\n",
      "name John\n",
      "salary 50000\n"
     ]
    }
   ],
   "source": [
    "employee = {'id': 101, 'name': 'John', 'salary': 50000}\n",
    "for i in employee.keys():\n",
    "    print(i,employee[i])"
   ]
  },
  {
   "cell_type": "code",
   "execution_count": 25,
   "id": "d3d10cc4-83ee-426e-afc4-784d12db76da",
   "metadata": {},
   "outputs": [
    {
     "name": "stdout",
     "output_type": "stream",
     "text": [
      "{'d': 1, 'a': 2, 't': 1, 's': 1, 'c': 2, 'i': 1, 'e': 2, 'n': 1}\n"
     ]
    }
   ],
   "source": [
    "#6.Write a program to count how many times each character appears in a given string using a dictionary.\n",
    "inputstr=\"datascience\"\n",
    "d2={}\n",
    "for i in inputstr:\n",
    "        if(i in d2):\n",
    "            d2[i]=d2[i]+1\n",
    "        else:\n",
    "            d2[i]=1\n",
    "print(d2)"
   ]
  },
  {
   "cell_type": "code",
   "execution_count": 39,
   "id": "730335b1-3abd-4e67-b191-3b69fdf20352",
   "metadata": {},
   "outputs": [
    {
     "name": "stdout",
     "output_type": "stream",
     "text": [
      "{'a': 1, 'b': 2, 'c': 3, 'd': 4}\n"
     ]
    }
   ],
   "source": [
    "#7.Write a program to merge two dictionaries into one.\n",
    "dict1 = {'a': 1, 'b': 2}\n",
    "dict2 = {'c': 3, 'd': 4}\n",
    "dict3={}\n",
    "for i in dict1 :\n",
    "    if(i in dict3):\n",
    "        continue\n",
    "    else:\n",
    "        dict3[i]=dict1[i]\n",
    "for i in dict2:\n",
    "    if(i in dict3):\n",
    "        continue\n",
    "    else:\n",
    "        dict3[i]=dict2[i]\n",
    "print(dict3)"
   ]
  },
  {
   "cell_type": "code",
   "execution_count": 41,
   "id": "5451593a-36f0-4d43-a55f-35489d568c3d",
   "metadata": {},
   "outputs": [
    {
     "name": "stdout",
     "output_type": "stream",
     "text": [
      "{'a': 1, 'b': 2, 'c': 3, 'd': 4}\n"
     ]
    }
   ],
   "source": [
    "dict1 = {'a': 1, 'b': 2}\n",
    "dict2 = {'c': 3, 'd': 4}\n",
    "dict3={}\n",
    "for i in dict1:\n",
    "    dict3[i]=dict1[i]\n",
    "for i in dict2:\n",
    "    dict3[i]=dict2[i]\n",
    "print(dict3)"
   ]
  },
  {
   "cell_type": "code",
   "execution_count": 45,
   "id": "c57b1e49-feef-41cd-8515-c5b83b5fc6fa",
   "metadata": {},
   "outputs": [
    {
     "name": "stdout",
     "output_type": "stream",
     "text": [
      "95\n"
     ]
    }
   ],
   "source": [
    "#8.Write a program to find the highest value in the dictionary.\n",
    "marks = {'Alice': 88, 'Bob': 75, 'Charlie': 95}\n",
    "max=0\n",
    "for i in marks.values():\n",
    "    if(i>max):\n",
    "        max=i\n",
    "print(max)\n",
    "    "
   ]
  },
  {
   "cell_type": "code",
   "execution_count": 61,
   "id": "f8b56881-7546-4a94-a97b-4fb6ebc661c0",
   "metadata": {},
   "outputs": [
    {
     "name": "stdout",
     "output_type": "stream",
     "text": [
      "Charlie\n",
      "Charlie 95\n"
     ]
    }
   ],
   "source": [
    "#9.Write a program to find the key with the highest value in the dictionary.\n",
    "mark = {'Alice': 88, 'Bob': 75, 'Charlie': 95}\n",
    "maxx=0\n",
    "topper=\"\"\n",
    "for i in mark:\n",
    "    if(mark[i]>maxx):\n",
    "        maxx=mark[i]\n",
    "        topper=i\n",
    "print(topper)\n",
    "print(topper,maxx)"
   ]
  },
  {
   "cell_type": "code",
   "execution_count": 67,
   "id": "fb17bc4b-8bd3-40c8-9744-76112793f986",
   "metadata": {},
   "outputs": [
    {
     "name": "stdout",
     "output_type": "stream",
     "text": [
      "yes available\n"
     ]
    }
   ],
   "source": [
    "#10.Write a program that checks if a given key exists in a dictionary.\n",
    "my_dict = {'name': 'Mantasha', 'course': 'Data Science'}\n",
    "key = 'course'\n",
    "for i in my_dict:\n",
    "    if(i=='course'):\n",
    "        print(\"yes available\")\n",
    "#but this will not print anything when the key is not found"
   ]
  },
  {
   "cell_type": "code",
   "execution_count": 77,
   "id": "b30551ed-4d71-49df-8579-8bd60aae8ab2",
   "metadata": {},
   "outputs": [
    {
     "name": "stdout",
     "output_type": "stream",
     "text": [
      "yes available\n"
     ]
    }
   ],
   "source": [
    "my_dict = {'name': 'Mantasha', 'course': 'Data Science'}\n",
    "key=\"course\"\n",
    "if(key in my_dict):\n",
    "    print(\"yes available\")\n",
    "else:\n",
    "    print(\"not available\")"
   ]
  },
  {
   "cell_type": "code",
   "execution_count": 79,
   "id": "becd514f-8945-4318-9770-c5018fca1e09",
   "metadata": {},
   "outputs": [
    {
     "name": "stdout",
     "output_type": "stream",
     "text": [
      "yes available\n"
     ]
    }
   ],
   "source": [
    "my_dict = {'name': 'Mantasha', 'course': 'Data Science'}\n",
    "key=\"course\"\n",
    "if(\"course\" in my_dict):\n",
    "    print(\"yes available\")\n",
    "else:\n",
    "    print(\"not available\")"
   ]
  },
  {
   "cell_type": "code",
   "execution_count": 81,
   "id": "9624b316-f5e2-4784-bacd-0f9d108ba4ca",
   "metadata": {},
   "outputs": [
    {
     "name": "stdout",
     "output_type": "stream",
     "text": [
      "not available\n"
     ]
    }
   ],
   "source": [
    "my_dict = {'name': 'Mantasha', 'course': 'Data Science'}\n",
    "key=\"age\"\n",
    "if(key in my_dict):\n",
    "    print(\"yes available\")\n",
    "else:\n",
    "    print(\"not available\")"
   ]
  },
  {
   "cell_type": "code",
   "execution_count": 112,
   "id": "0c1df8ca-8529-46d1-b313-897cd0ebf21a",
   "metadata": {},
   "outputs": [
    {
     "name": "stdout",
     "output_type": "stream",
     "text": [
      "{'name': 'Alice', 'age': 25, 'gender': 'Female'}\n"
     ]
    }
   ],
   "source": [
    "#11.Write a program that creates a dictionary by combining two lists: one of keys and one of values.\n",
    "keys = ['name', 'age', 'gender']\n",
    "values = ['Alice', 25, 'Female']\n",
    "d3={}\n",
    "for i in range(0,3):\n",
    "    d3[keys[i]]=values[i]\n",
    "print(d3)"
   ]
  },
  {
   "cell_type": "code",
   "execution_count": 114,
   "id": "a712b008-30e8-4332-8f40-84d065c768c7",
   "metadata": {},
   "outputs": [
    {
     "name": "stdout",
     "output_type": "stream",
     "text": [
      "{'name': 'Alice', 'age': 25, 'gender': 'Female'}\n"
     ]
    }
   ],
   "source": [
    "#better way\n",
    "keys = ['name', 'age', 'gender']\n",
    "values = ['Alice', 25, 'Female']\n",
    "d3={}\n",
    "for i in range(len(keys)):\n",
    "    d3[keys[i]]=values[i]\n",
    "print(d3)"
   ]
  },
  {
   "cell_type": "code",
   "execution_count": null,
   "id": "627ca8d3-55fc-49ef-b521-186e34920ce0",
   "metadata": {},
   "outputs": [],
   "source": []
  }
 ],
 "metadata": {
  "kernelspec": {
   "display_name": "Python 3 (ipykernel)",
   "language": "python",
   "name": "python3"
  },
  "language_info": {
   "codemirror_mode": {
    "name": "ipython",
    "version": 3
   },
   "file_extension": ".py",
   "mimetype": "text/x-python",
   "name": "python",
   "nbconvert_exporter": "python",
   "pygments_lexer": "ipython3",
   "version": "3.12.4"
  }
 },
 "nbformat": 4,
 "nbformat_minor": 5
}
