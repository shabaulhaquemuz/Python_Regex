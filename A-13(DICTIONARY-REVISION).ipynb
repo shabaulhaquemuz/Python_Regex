{
 "cells": [
  {
   "cell_type": "code",
   "execution_count": 1,
   "id": "1028cf95-b9a3-4a1b-8258-087763e1a495",
   "metadata": {},
   "outputs": [
    {
     "ename": "KeyError",
     "evalue": "1",
     "output_type": "error",
     "traceback": [
      "\u001b[1;31m---------------------------------------------------------------------------\u001b[0m",
      "\u001b[1;31mKeyError\u001b[0m                                  Traceback (most recent call last)",
      "Cell \u001b[1;32mIn[1], line 8\u001b[0m\n\u001b[0;32m      1\u001b[0m \u001b[38;5;66;03m# dictionary revision\u001b[39;00m\n\u001b[0;32m      2\u001b[0m \u001b[38;5;66;03m#dictionary was unordered before python 3.7 but from python 3.7 dictionary is ordered collections and it is ordered according to\u001b[39;00m\n\u001b[0;32m      3\u001b[0m \u001b[38;5;66;03m# a dictionary is ordered according to the insertion order of the keys.\u001b[39;00m\n\u001b[0;32m      4\u001b[0m \u001b[38;5;66;03m# That means:\u001b[39;00m\n\u001b[0;32m      5\u001b[0m \u001b[38;5;66;03m# The order in which you add key-value pairs to the dictionary is the same order in which they are stored and displayed.\u001b[39;00m\n\u001b[0;32m      6\u001b[0m \u001b[38;5;66;03m# dictionary is unindexed\u001b[39;00m\n\u001b[0;32m      7\u001b[0m d\u001b[38;5;241m=\u001b[39m{\u001b[38;5;241m10\u001b[39m:\u001b[38;5;124m\"\u001b[39m\u001b[38;5;124msaif\u001b[39m\u001b[38;5;124m\"\u001b[39m,\u001b[38;5;241m11\u001b[39m:\u001b[38;5;124m\"\u001b[39m\u001b[38;5;124maadi\u001b[39m\u001b[38;5;124m\"\u001b[39m}\n\u001b[1;32m----> 8\u001b[0m \u001b[38;5;28mprint\u001b[39m(d[\u001b[38;5;241m1\u001b[39m])\n",
      "\u001b[1;31mKeyError\u001b[0m: 1"
     ]
    }
   ],
   "source": [
    " # dictionary revision\n",
    "#dictionary was unordered before python 3.7 but from python 3.7 dictionary is ordered collections and it is ordered according to\n",
    "# a dictionary is ordered according to the insertion order of the keys.\n",
    "# That means:\n",
    "# The order in which you add key-value pairs to the dictionary is the same order in which they are stored and displayed.\n",
    "# dictionary is unindexed\n",
    "d={10:\"saif\",11:\"aadi\"}\n",
    "print(d[1])\n",
    "#giving error because dictionary is unindexed\n"
   ]
  },
  {
   "cell_type": "code",
   "execution_count": 3,
   "id": "8e713f13-0759-4e73-8476-a697f78922b0",
   "metadata": {},
   "outputs": [
    {
     "name": "stdout",
     "output_type": "stream",
     "text": [
      "saif\n"
     ]
    }
   ],
   "source": [
    "d={10:\"saif\",11:\"aadi\"}\n",
    "print(d[10])\n",
    "#searched element according to the key"
   ]
  },
  {
   "cell_type": "code",
   "execution_count": 7,
   "id": "f2f25806-f748-46a7-86c7-e534cb0c913e",
   "metadata": {},
   "outputs": [
    {
     "name": "stdout",
     "output_type": "stream",
     "text": [
      "{10: 'shabaul', 11: 'aadi'}\n"
     ]
    }
   ],
   "source": [
    "d={10:\"saif\",11:\"aadi\"}\n",
    "d[10]=\"shabaul\"\n",
    "print(d)\n",
    "#update value of the key"
   ]
  },
  {
   "cell_type": "code",
   "execution_count": 9,
   "id": "2997195a-5c87-4aea-941e-fff055a74ddb",
   "metadata": {},
   "outputs": [
    {
     "name": "stdout",
     "output_type": "stream",
     "text": [
      "{10: 'saif', 11: 'aadi', 12: 'shabaul'}\n"
     ]
    }
   ],
   "source": [
    "#adding new item\n",
    "d1={10:\"saif\",11:\"aadi\"}\n",
    "d1[12]=\"shabaul\"\n",
    "print(d1)"
   ]
  },
  {
   "cell_type": "code",
   "execution_count": 15,
   "id": "ec77cf2b-b1d8-42dc-b0ad-34b30f35f08b",
   "metadata": {},
   "outputs": [
    {
     "name": "stdout",
     "output_type": "stream",
     "text": [
      "{10: 'shabaul', 'salary': 85000}\n"
     ]
    }
   ],
   "source": [
    "d2={10:\"shabaul\",\"salary\":80000}\n",
    "d2[\"salary\"]=d2[\"salary\"]+5000\n",
    "print(d2)\n",
    "#increasing the value of an element by adding some extra value to an existing value"
   ]
  },
  {
   "cell_type": "code",
   "execution_count": 21,
   "id": "553edacc-fa7f-447e-811a-9fc2d9bb1b5c",
   "metadata": {},
   "outputs": [
    {
     "name": "stdout",
     "output_type": "stream",
     "text": [
      "{10: 'shabaul', 'salary': 95000}\n"
     ]
    }
   ],
   "source": [
    "d3={10:\"shabaul\",\"salary\":90000}\n",
    "d3[\"salary\"]+=5000\n",
    "print(d3)"
   ]
  },
  {
   "cell_type": "code",
   "execution_count": 31,
   "id": "c0b0470a-9f55-47fc-a0c1-975eae33545c",
   "metadata": {},
   "outputs": [
    {
     "name": "stdout",
     "output_type": "stream",
     "text": [
      "{'total': 5}\n"
     ]
    }
   ],
   "source": [
    "s=\"hello\"\n",
    "d4={}\n",
    "for i in range(len(s)):\n",
    "    if(\"total\" in d4):\n",
    "        d4[\"total\"]=d4[\"total\"]+1\n",
    "    else:\n",
    "        d4[\"total\"]=1\n",
    "print(d4)"
   ]
  },
  {
   "cell_type": "code",
   "execution_count": 37,
   "id": "f221cb89-daf8-431a-b159-c9f02217d974",
   "metadata": {},
   "outputs": [
    {
     "name": "stdout",
     "output_type": "stream",
     "text": [
      "{'h': 1, 'e': 1, 'y': 1, ' ': 1, 'i': 1, 's': 1, 'a': 1}\n"
     ]
    }
   ],
   "source": [
    "s=\"hey isha\"\n",
    "d5={}\n",
    "for i in range(len(s)):\n",
    "    if(s[i] not in d5):\n",
    "        d5[s[i]]=1\n",
    "print(d5)"
   ]
  },
  {
   "cell_type": "code",
   "execution_count": 39,
   "id": "e6b24ca5-f773-4a12-8f3f-a7a9b5f22f34",
   "metadata": {},
   "outputs": [
    {
     "name": "stdout",
     "output_type": "stream",
     "text": [
      "{'h': 3, 'e': 1, 'l': 3, 'o': 1, 's': 2, 'a': 3, 'b': 1, 'u': 1, 'i': 1, 'n': 1}\n"
     ]
    }
   ],
   "source": [
    "s=\"helloshabaulishan\"\n",
    "d6={}\n",
    "for i in s:\n",
    "    if(i in d6):\n",
    "        d6[i]+=1\n",
    "    else:\n",
    "        d6[i]=1\n",
    "print(d6)"
   ]
  },
  {
   "cell_type": "code",
   "execution_count": null,
   "id": "606e8513-5112-4170-ab91-8541d71d83bc",
   "metadata": {},
   "outputs": [],
   "source": []
  }
 ],
 "metadata": {
  "kernelspec": {
   "display_name": "Python 3 (ipykernel)",
   "language": "python",
   "name": "python3"
  },
  "language_info": {
   "codemirror_mode": {
    "name": "ipython",
    "version": 3
   },
   "file_extension": ".py",
   "mimetype": "text/x-python",
   "name": "python",
   "nbconvert_exporter": "python",
   "pygments_lexer": "ipython3",
   "version": "3.12.4"
  }
 },
 "nbformat": 4,
 "nbformat_minor": 5
}
