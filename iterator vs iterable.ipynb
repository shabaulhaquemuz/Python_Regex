{
 "cells": [
  {
   "cell_type": "code",
   "execution_count": 1,
   "id": "1a4d1aba-5f07-4432-9321-ec86afc42bad",
   "metadata": {},
   "outputs": [
    {
     "name": "stdout",
     "output_type": "stream",
     "text": [
      "1\n",
      "2\n",
      "3\n"
     ]
    }
   ],
   "source": [
    "#iterable\n",
    "#An iterable is any Python object capable of returning its elements one at a time.\n",
    "#It implements the __iter__() method.\n",
    "# Examples of iterables:\n",
    "# list, tuple, string, set, dict, range\n",
    "\n",
    "my_list = [1, 2, 3]    # list is iterable\n",
    "for i in my_list:\n",
    "    print(i)           # We are iterating over the iterable\n"
   ]
  },
  {
   "cell_type": "code",
   "execution_count": 3,
   "id": "8f252755-7be0-43ae-9ebe-b212874cbaca",
   "metadata": {},
   "outputs": [
    {
     "name": "stdout",
     "output_type": "stream",
     "text": [
      "1\n",
      "2\n",
      "3\n"
     ]
    }
   ],
   "source": [
    "#iterator\n",
    "# An iterator is an object that actually performs the iteration.\n",
    "# It implements both __iter__() and __next__() methods\n",
    "#You get an iterator by calling iter() on an iterable:\n",
    "my_list = [1, 2, 3]\n",
    "it = iter(my_list)     # Creates an iterator from the iterable\n",
    "\n",
    "print(next(it))  # 1\n",
    "print(next(it))  # 2\n",
    "print(next(it))  # 3\n",
    "# next(it)      # StopIteration error\n"
   ]
  },
  {
   "cell_type": "code",
   "execution_count": null,
   "id": "5061a0e8-df63-4a8f-a2b4-ccc7b0322667",
   "metadata": {},
   "outputs": [],
   "source": []
  }
 ],
 "metadata": {
  "kernelspec": {
   "display_name": "Python 3 (ipykernel)",
   "language": "python",
   "name": "python3"
  },
  "language_info": {
   "codemirror_mode": {
    "name": "ipython",
    "version": 3
   },
   "file_extension": ".py",
   "mimetype": "text/x-python",
   "name": "python",
   "nbconvert_exporter": "python",
   "pygments_lexer": "ipython3",
   "version": "3.12.4"
  }
 },
 "nbformat": 4,
 "nbformat_minor": 5
}
