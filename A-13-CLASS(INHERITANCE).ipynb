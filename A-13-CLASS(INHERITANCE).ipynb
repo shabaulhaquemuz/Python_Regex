{
 "cells": [
  {
   "cell_type": "code",
   "execution_count": null,
   "id": "5c0517b1-d3c0-4cdc-b5b8-a32e58407aac",
   "metadata": {},
   "outputs": [],
   "source": [
    "#super is an inbuilt function in python"
   ]
  },
  {
   "cell_type": "code",
   "execution_count": 1,
   "id": "289191d1-c305-4145-bf64-798561441409",
   "metadata": {},
   "outputs": [
    {
     "name": "stdout",
     "output_type": "stream",
     "text": [
      "1000000\n"
     ]
    }
   ],
   "source": [
    "class Vehicle:\n",
    "    company=\"Maruti\"\n",
    "class MarutiEV:\n",
    "    price=1000000\n",
    "me1=MarutiEV()\n",
    "print(me1.price)\n",
    "#only returning the property of MarutiEV class"
   ]
  },
  {
   "cell_type": "code",
   "execution_count": 3,
   "id": "efbdae35-fc93-40f5-b958-74a9310fbcb5",
   "metadata": {},
   "outputs": [
    {
     "ename": "AttributeError",
     "evalue": "'MarutiEV' object has no attribute 'company'",
     "output_type": "error",
     "traceback": [
      "\u001b[1;31m---------------------------------------------------------------------------\u001b[0m",
      "\u001b[1;31mAttributeError\u001b[0m                            Traceback (most recent call last)",
      "Cell \u001b[1;32mIn[3], line 6\u001b[0m\n\u001b[0;32m      4\u001b[0m     price\u001b[38;5;241m=\u001b[39m\u001b[38;5;241m1000000\u001b[39m\n\u001b[0;32m      5\u001b[0m me1\u001b[38;5;241m=\u001b[39mMarutiEV()\n\u001b[1;32m----> 6\u001b[0m \u001b[38;5;28mprint\u001b[39m(me1\u001b[38;5;241m.\u001b[39mprice,me1\u001b[38;5;241m.\u001b[39mcompany)\n",
      "\u001b[1;31mAttributeError\u001b[0m: 'MarutiEV' object has no attribute 'company'"
     ]
    }
   ],
   "source": [
    "class Vehicle:\n",
    "    company=\"Maruti\"\n",
    "class MarutiEV:\n",
    "    price=1000000\n",
    "me1=MarutiEV()\n",
    "print(me1.price,me1.company)\n",
    "#only accessing MarutiEV class, because parent class property is not passed"
   ]
  },
  {
   "cell_type": "code",
   "execution_count": 13,
   "id": "40a83ae8-2789-4ca4-b093-cd6d0cd6e8ed",
   "metadata": {},
   "outputs": [
    {
     "name": "stdout",
     "output_type": "stream",
     "text": [
      "1000000 Maruti\n",
      "Vehicle Class info function\n"
     ]
    }
   ],
   "source": [
    "class Vehicle:\n",
    "    company=\"Maruti\"\n",
    "    def info(self):\n",
    "        print(\"Vehicle Class info function\")\n",
    "class MarutiEV(Vehicle):\n",
    "    price=1000000\n",
    "    def minfo(self):\n",
    "        super().info()\n",
    "me1=MarutiEV()\n",
    "print(me1.price,me1.company)\n",
    "me1.minfo()\n",
    "#Vehicle class properties are passed into MarutiEV class. MarutiEV is a child class here, and Vehicle is a parent class here."
   ]
  },
  {
   "cell_type": "code",
   "execution_count": 19,
   "id": "36758422-9377-45f3-a758-700d5e46ac96",
   "metadata": {},
   "outputs": [
    {
     "name": "stdout",
     "output_type": "stream",
     "text": [
      "40000 CTAE\n",
      "Child Class Teacher info function\n"
     ]
    }
   ],
   "source": [
    "class Student:\n",
    "    college=\"CTAE\"\n",
    "    def info(self):\n",
    "        print(\"Parent Class Student info function\")\n",
    "class Teacher(Student):\n",
    "    fee=40000\n",
    "    def info(self):\n",
    "        print(\"Child Class Teacher info function\")\n",
    "me1=Teacher()\n",
    "print(me1.fee,me1.college)\n",
    "me1.info()"
   ]
  },
  {
   "cell_type": "code",
   "execution_count": 29,
   "id": "e863595d-2667-4df3-a532-f04181b5c9bb",
   "metadata": {},
   "outputs": [
    {
     "name": "stdout",
     "output_type": "stream",
     "text": [
      "9840 NEXON\n"
     ]
    }
   ],
   "source": [
    "class ParentTata:\n",
    "    company=\"TataMotors\"\n",
    "    def __init__(self,mid,mname):\n",
    "        self.mid=mid\n",
    "        self.mname=mname\n",
    "class ChildTataEV(ParentTata):\n",
    "    def __init__(self,a, b):\n",
    "        super().__init__(a,b)\n",
    "vc=ChildTataEV(9840,'NEXON')\n",
    "print(vc.mid,vc.mname)"
   ]
  },
  {
   "cell_type": "code",
   "execution_count": 11,
   "id": "a870e3c6-ec22-4241-892c-5f39fe0c483a",
   "metadata": {},
   "outputs": [
    {
     "name": "stdout",
     "output_type": "stream",
     "text": [
      "Child class 101 Nexon\n",
      "Parent class 101 Nexon\n"
     ]
    }
   ],
   "source": [
    "class ParentTata:\n",
    "    company=\"TataMotors\"\n",
    "    def __init__(self,mid,mname):\n",
    "        self.mid=mid\n",
    "        self.mname=mname\n",
    "    def info(self):\n",
    "        print(\"Parent class\",self.mid,self.mname)\n",
    "class ChildTataEV(ParentTata):\n",
    "    def __init__(self,a, b):\n",
    "        super().__init__(a,b)\n",
    "    def info(self):\n",
    "        print(\"Child class\",self.mid, self.mname)\n",
    "    def choice(self):\n",
    "        super().info()\n",
    "ev=ChildTataEV(101,\"Nexon\")\n",
    "ev.info()\n",
    "ev.choice()"
   ]
  },
  {
   "cell_type": "code",
   "execution_count": null,
   "id": "e2c4b69e-6b63-4c44-9b46-29abcb3b7d86",
   "metadata": {},
   "outputs": [],
   "source": []
  }
 ],
 "metadata": {
  "kernelspec": {
   "display_name": "Python 3 (ipykernel)",
   "language": "python",
   "name": "python3"
  },
  "language_info": {
   "codemirror_mode": {
    "name": "ipython",
    "version": 3
   },
   "file_extension": ".py",
   "mimetype": "text/x-python",
   "name": "python",
   "nbconvert_exporter": "python",
   "pygments_lexer": "ipython3",
   "version": "3.12.4"
  }
 },
 "nbformat": 4,
 "nbformat_minor": 5
}
