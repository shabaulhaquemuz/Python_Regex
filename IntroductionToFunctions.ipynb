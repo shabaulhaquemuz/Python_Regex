{
 "cells": [
  {
   "cell_type": "code",
   "execution_count": 1,
   "id": "502f3de7-bfb3-44fd-8f8f-8d41b5b776b7",
   "metadata": {},
   "outputs": [],
   "source": [
    "#Functions in Python\n",
    "#Function is a reusable block of code"
   ]
  },
  {
   "cell_type": "code",
   "execution_count": 3,
   "id": "23fadda7-23e6-4bab-90e3-a2695e6d475d",
   "metadata": {},
   "outputs": [],
   "source": [
    "#Types of functions\n",
    "#a.Pre-defined function--->>>>print(),main(),sum(),min(),max(),append(),extend(),pop()\n",
    "#b.Manually Created Function\n",
    "#Steps to create a function and call it:\n",
    "#step1-define the function\n",
    "#step2-name of the function\n",
    "#step3-write the logic\n",
    "#step4-call the function\n"
   ]
  },
  {
   "cell_type": "code",
   "execution_count": 5,
   "id": "c40d4b0c-16e1-4ce8-9ec0-032c7e82bfc6",
   "metadata": {},
   "outputs": [],
   "source": [
    "#Syntax of function:\n",
    "#   def name_of_function():\n",
    "#       logic\n",
    "#   name_of_function()"
   ]
  },
  {
   "cell_type": "code",
   "execution_count": 7,
   "id": "6e319740-7026-4085-b440-1db8f73ebd6a",
   "metadata": {},
   "outputs": [
    {
     "name": "stdout",
     "output_type": "stream",
     "text": [
      "11\n"
     ]
    }
   ],
   "source": [
    "#Q.1 Create a function that adds two numbers\n",
    "a=5\n",
    "b=6\n",
    "c=a+b\n",
    "print(c)"
   ]
  },
  {
   "cell_type": "code",
   "execution_count": 11,
   "id": "ffd7f4e0-96f2-4ba1-b481-000a5ce7e462",
   "metadata": {},
   "outputs": [
    {
     "name": "stdout",
     "output_type": "stream",
     "text": [
      "19\n"
     ]
    }
   ],
   "source": [
    "def my_add():\n",
    "    x=9\n",
    "    y=10\n",
    "    z=x+y\n",
    "    print(x+y)\n",
    "my_add()"
   ]
  },
  {
   "cell_type": "code",
   "execution_count": 13,
   "id": "37df5fe6-f30f-4022-8005-6b6331a90f52",
   "metadata": {},
   "outputs": [
    {
     "name": "stdout",
     "output_type": "stream",
     "text": [
      "14\n"
     ]
    }
   ],
   "source": [
    "#Q.2 Create a function which add sum of squares of a given range of numbers\n",
    "sum=0\n",
    "for i in range(1,4):\n",
    "    sum+=i**2\n",
    "print(sum)\n",
    "    "
   ]
  },
  {
   "cell_type": "code",
   "execution_count": 19,
   "id": "90a44933-daa1-460c-ab0e-c2bd65900547",
   "metadata": {},
   "outputs": [
    {
     "name": "stdin",
     "output_type": "stream",
     "text": [
      "enter the number: 5\n"
     ]
    },
    {
     "name": "stdout",
     "output_type": "stream",
     "text": [
      "55\n"
     ]
    }
   ],
   "source": [
    "sum=0\n",
    "i=1\n",
    "n=int(input(\"enter the number:\"))\n",
    "while(i<=n):\n",
    "    sum+=i**2\n",
    "    i+=1\n",
    "print(sum)"
   ]
  },
  {
   "cell_type": "code",
   "execution_count": 25,
   "id": "6c88792e-1994-4929-9985-6efb8967c7de",
   "metadata": {},
   "outputs": [
    {
     "name": "stdin",
     "output_type": "stream",
     "text": [
      "enter the highest range 5\n"
     ]
    },
    {
     "name": "stdout",
     "output_type": "stream",
     "text": [
      "total: 55\n"
     ]
    }
   ],
   "source": [
    "def square_sum():\n",
    "    i=1\n",
    "    n=int(input(\"enter the highest range\"))\n",
    "    sum=0\n",
    "    while(i<=n):\n",
    "        sum+=i**2\n",
    "        i+=1\n",
    "    print(\"total:\",sum)\n",
    "square_sum()"
   ]
  },
  {
   "cell_type": "code",
   "execution_count": 31,
   "id": "88dca11d-dd05-48cc-8fca-d75502af15ed",
   "metadata": {},
   "outputs": [
    {
     "name": "stdin",
     "output_type": "stream",
     "text": [
      "enter the number: 1234\n"
     ]
    },
    {
     "name": "stdout",
     "output_type": "stream",
     "text": [
      "total sum of digits: 10\n"
     ]
    }
   ],
   "source": [
    "#Q.3 Create a function to add digits of a given number\n",
    "n=int(input(\"enter the number:\"))\n",
    "sum=0\n",
    "while(n>=1):\n",
    "    digit=n%10\n",
    "    sum+=digit\n",
    "    n=n//10\n",
    "print(\"total sum of digits:\",sum)\n",
    "    "
   ]
  },
  {
   "cell_type": "code",
   "execution_count": 39,
   "id": "f3edb6e2-ce75-4714-a560-6597b7a2e690",
   "metadata": {},
   "outputs": [
    {
     "name": "stdin",
     "output_type": "stream",
     "text": [
      "enter the number: 555\n"
     ]
    },
    {
     "name": "stdout",
     "output_type": "stream",
     "text": [
      "total sum of digits: 15\n"
     ]
    }
   ],
   "source": [
    "def sum_digit():\n",
    "    n=int(input(\"enter the number:\"))\n",
    "    sum=0\n",
    "    while(n>=1):\n",
    "        digit=n%10\n",
    "        sum+=digit\n",
    "        n=n//10\n",
    "    print(\"total sum of digits:\",sum)\n",
    "sum_digit()"
   ]
  },
  {
   "cell_type": "code",
   "execution_count": 43,
   "id": "60347773-d7b0-4913-81ef-f1f8a1cfe2cc",
   "metadata": {},
   "outputs": [
    {
     "name": "stdout",
     "output_type": "stream",
     "text": [
      "total: 16\n"
     ]
    }
   ],
   "source": [
    "#Arguments and Parameters\n",
    "#Parameters---->These are the values which we passes when we create a function.\n",
    "#Arguments---->These are the values which we passes when we call a function.\n",
    "def my_add(a,b):\n",
    "    c=a+b\n",
    "    print(\"total:\",c)\n",
    "my_add(7,9)\n",
    "#here a & b are parameters and 7 & 9 are arguments."
   ]
  },
  {
   "cell_type": "code",
   "execution_count": 47,
   "id": "acaa46e5-a16a-4b8a-ba9f-21c9dc5ff5ff",
   "metadata": {},
   "outputs": [
    {
     "name": "stdout",
     "output_type": "stream",
     "text": [
      "even\n"
     ]
    }
   ],
   "source": [
    "#Q.4 Write a function which can check whether a given number is odd or even\n",
    "def is_odd_even(a):\n",
    "    if(a%2==0):\n",
    "        print(\"even\")\n",
    "    else:\n",
    "        print(\"odd\")\n",
    "is_odd_even(4)"
   ]
  },
  {
   "cell_type": "code",
   "execution_count": 51,
   "id": "5356612f-93bd-48ee-adc6-defedeed1842",
   "metadata": {},
   "outputs": [
    {
     "name": "stdin",
     "output_type": "stream",
     "text": [
      "enter the number: 12\n"
     ]
    },
    {
     "name": "stdout",
     "output_type": "stream",
     "text": [
      "even\n"
     ]
    }
   ],
   "source": [
    "def oddeven(a):\n",
    "    if(a%2==0):\n",
    "        print(\"even\")\n",
    "    else:\n",
    "        print(\"odd\")\n",
    "p=int(input(\"enter the number:\"))\n",
    "oddeven(p)\n",
    "#here a is parameter p is argument"
   ]
  },
  {
   "cell_type": "code",
   "execution_count": 59,
   "id": "36258ee9-2a72-4782-8ca9-49316977b2f8",
   "metadata": {},
   "outputs": [
    {
     "name": "stdin",
     "output_type": "stream",
     "text": [
      "enter the number: 3\n"
     ]
    },
    {
     "name": "stdout",
     "output_type": "stream",
     "text": [
      "odd\n"
     ]
    }
   ],
   "source": [
    "def oddeve():\n",
    "    p=int(input(\"enter the number:\"))\n",
    "    if(p%2==0):\n",
    "        print(\"even\")\n",
    "    else:\n",
    "        print(\"odd\")\n",
    "oddeve()\n",
    "        \n",
    "                "
   ]
  },
  {
   "cell_type": "code",
   "execution_count": null,
   "id": "7f6a695e-ab81-47f0-9542-a14ae6a30ca1",
   "metadata": {},
   "outputs": [],
   "source": []
  }
 ],
 "metadata": {
  "kernelspec": {
   "display_name": "Python 3 (ipykernel)",
   "language": "python",
   "name": "python3"
  },
  "language_info": {
   "codemirror_mode": {
    "name": "ipython",
    "version": 3
   },
   "file_extension": ".py",
   "mimetype": "text/x-python",
   "name": "python",
   "nbconvert_exporter": "python",
   "pygments_lexer": "ipython3",
   "version": "3.12.4"
  }
 },
 "nbformat": 4,
 "nbformat_minor": 5
}
