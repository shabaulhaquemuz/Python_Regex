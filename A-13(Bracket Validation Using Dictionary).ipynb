{
 "cells": [
  {
   "cell_type": "code",
   "execution_count": 1,
   "id": "4673e172-7c01-43eb-b897-578abef5594a",
   "metadata": {},
   "outputs": [
    {
     "name": "stdout",
     "output_type": "stream",
     "text": [
      "1 11\n"
     ]
    }
   ],
   "source": [
    "list1=[-1,0,1,2,11,16]\n",
    "start1=0\n",
    "start2=1\n",
    "target=12\n",
    "while(start1<len(list1)-1):\n",
    "    if(start2<len(list1)):\n",
    "        if(list1[start1]+list1[start2]==target):\n",
    "            print(list1[start1],list1[start2])\n",
    "        start2+=1\n",
    "    else:\n",
    "        start1+=1\n",
    "        start2=1+start1\n"
   ]
  },
  {
   "cell_type": "code",
   "execution_count": 11,
   "id": "25b6f11a-1624-4efc-b771-14b6d58e7be7",
   "metadata": {},
   "outputs": [],
   "source": [
    "list1 = [-1, 0, 1, 2, 11, 16]\n",
    "target = 12\n",
    "start = 0\n",
    "\n",
    "for i in range(1, len(list1)):\n",
    "    if list1[start] + list1[i] == target:\n",
    "        print(list1[start], list1[i])\n",
    "start += 1\n"
   ]
  },
  {
   "cell_type": "code",
   "execution_count": 13,
   "id": "1e339927-e944-462e-a999-cc72a74b19bc",
   "metadata": {},
   "outputs": [],
   "source": [
    "list1 = [-1, 0, 1, 2, 11, 16]\n",
    "target = 12\n",
    "start = 0\n",
    "\n",
    "for i in range(1, len(list1)):\n",
    "    if list1[start] + list1[i] == target:\n",
    "        print(list1[start], list1[i])\n",
    "    start += 1\n"
   ]
  },
  {
   "cell_type": "code",
   "execution_count": 27,
   "id": "20430aed-54ad-4040-80d4-df8defc19659",
   "metadata": {},
   "outputs": [
    {
     "name": "stdout",
     "output_type": "stream",
     "text": [
      "valid\n"
     ]
    }
   ],
   "source": [
    "data=\"()\"\n",
    "list=[]\n",
    "count=0\n",
    "for char in data:\n",
    "    if(char==\"(\" or char==\"[\" or char==\"{\"):\n",
    "        list.append(char)\n",
    "    elif(len(list)>0):\n",
    "        if((char==\")\" and list.pop()==\"(\") or (char==\"]\" and list.pop()==\"[\") or (char==\"}\" and list.pop()==\"{\") ):\n",
    "            continue\n",
    "        else:\n",
    "            count+=1\n",
    "            break\n",
    "    else:\n",
    "        count+=1\n",
    "        break\n",
    "if(count==0 and len(list)==0):\n",
    "    print(\"valid\")\n",
    "else:\n",
    "    print(\"invalid\")"
   ]
  },
  {
   "cell_type": "code",
   "execution_count": 11,
   "id": "132016d8-c9c2-421b-8a84-260ea34d29e2",
   "metadata": {},
   "outputs": [
    {
     "name": "stdout",
     "output_type": "stream",
     "text": [
      "{'(': '('}\n"
     ]
    }
   ],
   "source": [
    "data1=\"()\"\n",
    "l=[]\n",
    "d={}\n",
    "for char in data1:\n",
    "    if(char in \"([{\"):\n",
    "        d[char]=char\n",
    "print(d)\n",
    "        "
   ]
  },
  {
   "cell_type": "code",
   "execution_count": 23,
   "id": "74f66c6e-43bc-47ac-b603-7315f5d10d14",
   "metadata": {},
   "outputs": [
    {
     "name": "stdout",
     "output_type": "stream",
     "text": [
      "valid\n"
     ]
    }
   ],
   "source": [
    "data = \"()\"\n",
    "mylist = []\n",
    "dict = {')': '(', ']': '[', '}': '{'}\n",
    "count = 0\n",
    "\n",
    "for char in data:\n",
    "    if(char in dict.values()):  \n",
    "        mylist.append(char)\n",
    "    elif(char in dict): \n",
    "        if(len(mylist) > 0 and mylist[-1] == dict[char]):\n",
    "            mylist.pop()\n",
    "        else:\n",
    "            count += 1\n",
    "            break\n",
    "    else:\n",
    "        count += 1\n",
    "        break\n",
    "\n",
    "if(count == 0 and len(mylist) == 0):\n",
    "    print(\"valid\")\n",
    "else:\n",
    "    print(\"invalid\")\n"
   ]
  },
  {
   "cell_type": "code",
   "execution_count": null,
   "id": "1b9fcb76-90ca-43d4-92b1-f58fa2a50669",
   "metadata": {},
   "outputs": [],
   "source": []
  }
 ],
 "metadata": {
  "kernelspec": {
   "display_name": "Python 3 (ipykernel)",
   "language": "python",
   "name": "python3"
  },
  "language_info": {
   "codemirror_mode": {
    "name": "ipython",
    "version": 3
   },
   "file_extension": ".py",
   "mimetype": "text/x-python",
   "name": "python",
   "nbconvert_exporter": "python",
   "pygments_lexer": "ipython3",
   "version": "3.12.4"
  }
 },
 "nbformat": 4,
 "nbformat_minor": 5
}
