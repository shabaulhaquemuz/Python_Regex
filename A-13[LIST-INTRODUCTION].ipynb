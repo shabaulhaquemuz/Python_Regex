{
 "cells": [
  {
   "cell_type": "code",
   "execution_count": 1,
   "id": "d2c814d1-11f9-4260-8ef9-410cdfb68e4b",
   "metadata": {},
   "outputs": [
    {
     "name": "stdout",
     "output_type": "stream",
     "text": [
      "memory of age: 140736037993176\n",
      "memory of x: 140736037993176\n"
     ]
    }
   ],
   "source": [
    "#Check memory address in different condition\n",
    "age=10\n",
    "print(\"memory of age:\",id(age))\n",
    "x=age\n",
    "print(\"memory of x:\",id(x))\n"
   ]
  },
  {
   "cell_type": "code",
   "execution_count": 3,
   "id": "0e6b35f3-a99a-4d8c-888f-31caee181b58",
   "metadata": {},
   "outputs": [
    {
     "name": "stdout",
     "output_type": "stream",
     "text": [
      "memory of age: 140736037993176\n",
      "memory of x: 140736037993176\n",
      "memory address of age, memory address of x: 140736037993176 140736037993496\n"
     ]
    }
   ],
   "source": [
    "age=10\n",
    "print(\"memory of age:\",id(age))\n",
    "x=age\n",
    "print(\"memory of x:\",id(x))\n",
    "x=20\n",
    "print(\"memory address of age, memory address of x:\",id(age),id(x))"
   ]
  },
  {
   "cell_type": "code",
   "execution_count": 5,
   "id": "895eda6d-5b8d-434b-ba28-5491373f3c6b",
   "metadata": {},
   "outputs": [],
   "source": [
    "#list datatype\n",
    "#collection  of data element\n",
    "#[\"shabaul\",\"amaan\",1,2,4,5,6,\"abc\"]\n",
    "#list have index value for every element\n",
    "#sequence datatype\n",
    "\n",
    "#Sequence datatypes in python are used to store an ordered collection of elements.These elements can be of various datatypes, including numbers, strings,\n",
    "#and even other sequences.\n",
    "\n",
    "#Key characteristics of sequence data types are:\n",
    "#1.Ordered\n",
    "#2.Indexed\n",
    "#3.Iterable"
   ]
  },
  {
   "cell_type": "code",
   "execution_count": 11,
   "id": "dbe62186-6dc5-4ec1-9d54-29ce536ccfb8",
   "metadata": {},
   "outputs": [
    {
     "name": "stdout",
     "output_type": "stream",
     "text": [
      "<class 'list'>\n",
      "10\n"
     ]
    }
   ],
   "source": [
    "mylist=[10,20,\"abc\"]\n",
    "print(type(mylist))\n",
    "print(mylist[0])"
   ]
  },
  {
   "cell_type": "code",
   "execution_count": 17,
   "id": "8e0fb48e-4221-4d04-b532-62bb90f4d7a3",
   "metadata": {},
   "outputs": [
    {
     "name": "stdout",
     "output_type": "stream",
     "text": [
      "<class 'list'>\n",
      "[10, 20, 'abc', 100]\n"
     ]
    }
   ],
   "source": [
    "#Append method(to insert element at end)\n",
    "mylist=[10,20,\"abc\"]\n",
    "print(type(mylist))\n",
    "mylist.append(100)\n",
    "print(mylist)"
   ]
  },
  {
   "cell_type": "code",
   "execution_count": 19,
   "id": "a1f2c178-40ec-4730-8c72-c1b4a365a37e",
   "metadata": {},
   "outputs": [
    {
     "name": "stdout",
     "output_type": "stream",
     "text": [
      "[10, 'shabaul', 20, 'abc']\n"
     ]
    }
   ],
   "source": [
    "#Insert Method(to insert element at certain index position)\n",
    "mylist=[10,20,\"abc\"]\n",
    "mylist.insert(1,\"shabaul\")\n",
    "print(mylist)"
   ]
  },
  {
   "cell_type": "code",
   "execution_count": 7,
   "id": "6d296553-bb64-4b28-bbcb-8604ec78e1ea",
   "metadata": {},
   "outputs": [
    {
     "name": "stdout",
     "output_type": "stream",
     "text": [
      "[1000, 20, 'abc']\n"
     ]
    }
   ],
   "source": [
    "#list_name[index position] is used to update/replace an element with other element\n",
    "mylist=[10,20,\"abc\"]\n",
    "mylist[0]=1000\n",
    "print(mylist)"
   ]
  },
  {
   "cell_type": "code",
   "execution_count": 31,
   "id": "9454cec3-04d5-4809-ac91-14ff02adff32",
   "metadata": {},
   "outputs": [
    {
     "name": "stdout",
     "output_type": "stream",
     "text": [
      "[10, 20]\n"
     ]
    }
   ],
   "source": [
    "#pop() method is used to remove element from last and it also store the value in some variable\n",
    "mylist=[10,20,\"abc\"]\n",
    "mylist.pop()\n",
    "print(mylist)"
   ]
  },
  {
   "cell_type": "code",
   "execution_count": 9,
   "id": "5643a6c7-84b1-4650-bc7a-f1207e421ad5",
   "metadata": {},
   "outputs": [
    {
     "name": "stdout",
     "output_type": "stream",
     "text": [
      "20\n",
      "[10]\n"
     ]
    }
   ],
   "source": [
    "mylist1=[10,20]\n",
    "out=mylist1.pop()\n",
    "print(out)\n",
    "print(mylist1)"
   ]
  },
  {
   "cell_type": "code",
   "execution_count": 13,
   "id": "98955c6a-5a24-4162-afdb-c9e1e6866abc",
   "metadata": {},
   "outputs": [
    {
     "name": "stdout",
     "output_type": "stream",
     "text": [
      "10 20 30 40 3 2 70 "
     ]
    }
   ],
   "source": [
    "#Iterable: the variable at which we can run loop directly is called as iterable\n",
    "list2=[10,20,30,40,3,2,70]\n",
    "for i in list2:\n",
    "    print(i,end=\" \")"
   ]
  },
  {
   "cell_type": "code",
   "execution_count": 41,
   "id": "f466d1b8-eaae-44fa-acd4-9af55d09a960",
   "metadata": {},
   "outputs": [
    {
     "name": "stdout",
     "output_type": "stream",
     "text": [
      "0 3\n",
      "1 4\n",
      "2 56\n",
      "3 5\n",
      "4 66\n",
      "5 34\n",
      "6 54\n",
      "7 23\n"
     ]
    }
   ],
   "source": [
    "list3=[3,4,56,5,66,34,54,23]\n",
    "for i in range(0,8):\n",
    "    print(i,list3[i])\n",
    "    "
   ]
  },
  {
   "cell_type": "code",
   "execution_count": 43,
   "id": "b3d41079-86ca-47f2-8cce-b3dd9129bfa2",
   "metadata": {},
   "outputs": [
    {
     "name": "stdout",
     "output_type": "stream",
     "text": [
      "0 3\n",
      "1 4\n",
      "2 56\n",
      "3 5\n",
      "4 66\n",
      "5 34\n",
      "6 54\n",
      "7 23\n"
     ]
    }
   ],
   "source": [
    "list4=[3,4,56,5,66,34,54,23]\n",
    "for i in range(len(list4)):\n",
    "    print(i,list4[i])"
   ]
  },
  {
   "cell_type": "code",
   "execution_count": 47,
   "id": "55ebe013-ad77-4bf0-b2d5-f5295dcf0ae2",
   "metadata": {},
   "outputs": [
    {
     "name": "stdout",
     "output_type": "stream",
     "text": [
      "56 66 34 54 23 "
     ]
    }
   ],
   "source": [
    "list5=[3,4,56,5,66,34,54,23]\n",
    "for i in range(len(list5)):\n",
    "    if(list5[i]>10):\n",
    "        print(list5[i],end=' ')"
   ]
  },
  {
   "cell_type": "code",
   "execution_count": 1,
   "id": "549934a5-a8db-4761-a588-0e1e9cf301ab",
   "metadata": {},
   "outputs": [
    {
     "name": "stdout",
     "output_type": "stream",
     "text": [
      "[3, 5, 23]\n"
     ]
    }
   ],
   "source": [
    "list6=[3,4,56,5,66,34,54,23]\n",
    "newlist=[]\n",
    "for i in range(len(list6)):\n",
    "    if(list6[i]%2!=0):\n",
    "        newlist.append(list6[i])\n",
    "print(newlist)\n",
    "        "
   ]
  },
  {
   "cell_type": "code",
   "execution_count": 3,
   "id": "3ae9a8b5-a0e2-4b8c-a22f-f4f70cfa417a",
   "metadata": {},
   "outputs": [
    {
     "name": "stdout",
     "output_type": "stream",
     "text": [
      "2\n"
     ]
    }
   ],
   "source": [
    "list7=[30,3,4,56,5,66,2,342,54,23,32]\n",
    "min=list7[0]\n",
    "for i in range(len(list7)):\n",
    "    if(list7[i]<min):\n",
    "        min=list7[i]\n",
    "print(min)\n"
   ]
  },
  {
   "cell_type": "code",
   "execution_count": 7,
   "id": "3481b0f3-aefc-4eaf-85e1-bbeb82eac57a",
   "metadata": {},
   "outputs": [
    {
     "name": "stdout",
     "output_type": "stream",
     "text": [
      "-987\n"
     ]
    }
   ],
   "source": [
    "list8=[-2,-70,-37,-987,-809]\n",
    "min=0\n",
    "for i in range(len(list8)):\n",
    "    if(list8[i]<min):\n",
    "        min=list8[i]\n",
    "print(min)"
   ]
  },
  {
   "cell_type": "code",
   "execution_count": 7,
   "id": "aa7a3ea1-11ba-47a1-80e2-2ca62a9f296f",
   "metadata": {},
   "outputs": [
    {
     "name": "stdout",
     "output_type": "stream",
     "text": [
      "50000\n"
     ]
    }
   ],
   "source": [
    "list9=[10,2,34,56,75,44,89,1000,19,50000,67]\n",
    "max=0\n",
    "for i in range(len(list9)):\n",
    "    if(list9[i]>max):\n",
    "        max=list9[i]\n",
    "print(max)"
   ]
  },
  {
   "cell_type": "code",
   "execution_count": 9,
   "id": "ab2223d0-6577-4d01-afec-858adadcef82",
   "metadata": {},
   "outputs": [
    {
     "name": "stdout",
     "output_type": "stream",
     "text": [
      "50000\n"
     ]
    }
   ],
   "source": [
    "list10=[10,2,34,56,75,44,89,1000,19,50000,67]\n",
    "max=list10[0]\n",
    "for i in range(len(list10)):\n",
    "    if(list10[i]>max):\n",
    "        max=list10[i]\n",
    "print(max)"
   ]
  },
  {
   "cell_type": "code",
   "execution_count": 23,
   "id": "71d33119-1484-48b8-a41d-e3a9a928047c",
   "metadata": {},
   "outputs": [
    {
     "name": "stdout",
     "output_type": "stream",
     "text": [
      "10000\n",
      "50000\n"
     ]
    }
   ],
   "source": [
    "list11=[10,2,34,56,10000,75,44,89,1000,19,50000,67]\n",
    "max=list11[0]\n",
    "secmax=list11[1]\n",
    "for i in range(len(list11)):\n",
    "    if(list11[i]>max):\n",
    "        secmax=max\n",
    "        max=list11[i]\n",
    "print(secmax)\n",
    "print(max)"
   ]
  },
  {
   "cell_type": "code",
   "execution_count": null,
   "id": "25faa9a7-78b9-434c-89e2-ae1f428320fe",
   "metadata": {},
   "outputs": [],
   "source": []
  }
 ],
 "metadata": {
  "kernelspec": {
   "display_name": "Python 3 (ipykernel)",
   "language": "python",
   "name": "python3"
  },
  "language_info": {
   "codemirror_mode": {
    "name": "ipython",
    "version": 3
   },
   "file_extension": ".py",
   "mimetype": "text/x-python",
   "name": "python",
   "nbconvert_exporter": "python",
   "pygments_lexer": "ipython3",
   "version": "3.12.4"
  }
 },
 "nbformat": 4,
 "nbformat_minor": 5
}
