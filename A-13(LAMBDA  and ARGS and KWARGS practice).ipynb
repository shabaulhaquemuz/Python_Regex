{
 "cells": [
  {
   "cell_type": "code",
   "execution_count": 1,
   "id": "23fe5c4d-ada4-4be3-ac9a-6f7dd278d400",
   "metadata": {},
   "outputs": [
    {
     "name": "stdout",
     "output_type": "stream",
     "text": [
      "(2, 5)\n"
     ]
    }
   ],
   "source": [
    "#(*args):it is a variable length argument(passes multiple positional arguments)\n",
    "def func(*args):\n",
    "    print(args)\n",
    "func(2,5)\n",
    "# *args return output in the form of tuple"
   ]
  },
  {
   "cell_type": "code",
   "execution_count": 3,
   "id": "1cdeeac1-c175-4125-ae90-2cee147bbc69",
   "metadata": {},
   "outputs": [
    {
     "name": "stdout",
     "output_type": "stream",
     "text": [
      "(3, 4, 5, 6)\n"
     ]
    }
   ],
   "source": [
    "def func(*args):\n",
    "    print(args)\n",
    "func(3,4,5,6)"
   ]
  },
  {
   "cell_type": "code",
   "execution_count": 5,
   "id": "5cd15220-a8fb-445c-9282-91d441d4545d",
   "metadata": {},
   "outputs": [
    {
     "name": "stdout",
     "output_type": "stream",
     "text": [
      "('shabaul', 'saif')\n"
     ]
    }
   ],
   "source": [
    "def fun(*args):\n",
    "    print(args)\n",
    "fun(\"shabaul\",\"saif\")\n"
   ]
  },
  {
   "cell_type": "code",
   "execution_count": 9,
   "id": "25efc563-cde4-453a-8159-efa488862e4d",
   "metadata": {},
   "outputs": [
    {
     "name": "stdout",
     "output_type": "stream",
     "text": [
      "{'name': 'shabaul', 'age': 23, 'marital_status': 'unmarried'}\n"
     ]
    }
   ],
   "source": [
    "# **kwargs: this is also a variable length argument(but passes multiple keyword arguments in name_value pairs)\n",
    "def func(**kwargs):\n",
    "    print(kwargs)\n",
    "func(name=\"shabaul\",age=23,marital_status=\"unmarried\")\n",
    "# **kwargs returns output in dictionary"
   ]
  },
  {
   "cell_type": "code",
   "execution_count": 11,
   "id": "1fd2ded6-64f6-4316-84e0-96949e5344d5",
   "metadata": {},
   "outputs": [
    {
     "data": {
      "text/plain": [
       "15"
      ]
     },
     "execution_count": 11,
     "metadata": {},
     "output_type": "execute_result"
    }
   ],
   "source": [
    "#lambda functions\n",
    "#short,one line functions which are anonymous functions because these dont have name\n",
    "# What is a Lambda Function?\n",
    "# A lambda function is a small,one line, anonymous function in Python — meaning it has no name.\n",
    "# It's used when you need a function for a short period of time, usually as an argument to another function (like map(), filter(), sorted(), etc.).\n",
    "(lambda a:a+10)(5)"
   ]
  },
  {
   "cell_type": "code",
   "execution_count": 13,
   "id": "61be030c-a227-4e8f-a8ea-2571a1a664ff",
   "metadata": {},
   "outputs": [
    {
     "data": {
      "text/plain": [
       "14"
      ]
     },
     "execution_count": 13,
     "metadata": {},
     "output_type": "execute_result"
    }
   ],
   "source": [
    "a=lambda x:x*2\n",
    "a(7)"
   ]
  },
  {
   "cell_type": "code",
   "execution_count": 17,
   "id": "04fbf4f0-e448-4f6d-aa90-04be5dd38631",
   "metadata": {},
   "outputs": [
    {
     "data": {
      "text/plain": [
       "64"
      ]
     },
     "execution_count": 17,
     "metadata": {},
     "output_type": "execute_result"
    }
   ],
   "source": [
    "b=lambda y:y**2\n",
    "b(8)"
   ]
  },
  {
   "cell_type": "code",
   "execution_count": 21,
   "id": "59a18ab8-1bf9-4308-b036-204680468927",
   "metadata": {},
   "outputs": [
    {
     "name": "stdout",
     "output_type": "stream",
     "text": [
      "hello i am shabaul\n"
     ]
    }
   ],
   "source": [
    "# split method: split() is a method for strings only — not for lists or other objects.\n",
    "# syntax: stringname.split(separator, maxsplit)\n",
    "# separator → (optional) character to split on (like space, comma, dash, etc.)\n",
    "# maxsplit → (optional) number of splits to do\n",
    "\n",
    "x=\"hello i am shabaul\"\n",
    "x.split( )\n",
    "print(x)\n",
    "#you have to store the split method line in a variable to store it in a list"
   ]
  },
  {
   "cell_type": "code",
   "execution_count": 23,
   "id": "b359fe3a-9951-46ad-bc40-37ef440f95d5",
   "metadata": {},
   "outputs": [
    {
     "name": "stdout",
     "output_type": "stream",
     "text": [
      "['hello', 'my', 'name', 'is', 'shabaul']\n"
     ]
    }
   ],
   "source": [
    "#split be space( )\n",
    "y=\"hello my name is shabaul\"\n",
    "a=y.split()\n",
    "print(a)"
   ]
  },
  {
   "cell_type": "code",
   "execution_count": 25,
   "id": "4c03e8cd-4545-4704-84ed-d6558ffd3c79",
   "metadata": {},
   "outputs": [
    {
     "name": "stdout",
     "output_type": "stream",
     "text": [
      "['hi', 'amaan', 'good', 'to', 'see', 'you']\n"
     ]
    }
   ],
   "source": [
    "z=\"hi amaan good to see you\"\n",
    "b=z.split( )\n",
    "print(b)"
   ]
  },
  {
   "cell_type": "code",
   "execution_count": 29,
   "id": "ea308a77-f4c7-49b0-ad35-7637ade0467a",
   "metadata": {},
   "outputs": [
    {
     "name": "stdout",
     "output_type": "stream",
     "text": [
      "['hello', 'how', 'are', 'you']\n"
     ]
    }
   ],
   "source": [
    "#split by comma,pass comma as a string in split method\n",
    "q=\"hello,how,are,you\"\n",
    "x=q.split(\",\")\n",
    "print(x)"
   ]
  },
  {
   "cell_type": "code",
   "execution_count": 39,
   "id": "66ed0f5d-811b-4615-bb30-0ded2f1794e3",
   "metadata": {},
   "outputs": [
    {
     "name": "stdout",
     "output_type": "stream",
     "text": [
      "['hi, how, are, you']\n"
     ]
    }
   ],
   "source": [
    "w=\"hi, how, are, you\"\n",
    "c=w.split(\",        \")\n",
    "print(c)"
   ]
  },
  {
   "cell_type": "code",
   "execution_count": 47,
   "id": "d90c704e-3312-4518-9fd0-1decb7e9231f",
   "metadata": {},
   "outputs": [
    {
     "name": "stdout",
     "output_type": "stream",
     "text": [
      "['hi', 'how', 'are you']\n"
     ]
    }
   ],
   "source": [
    "e=\"hi how are you\"\n",
    "v=e.split(\" \",2)\n",
    "print(v)\n",
    "#when using maxsplit, space should be in string"
   ]
  },
  {
   "cell_type": "code",
   "execution_count": 53,
   "id": "f1630b73-0119-47a2-a91c-f30b5c5e14cb",
   "metadata": {},
   "outputs": [
    {
     "name": "stdout",
     "output_type": "stream",
     "text": [
      "['hihowareyou']\n"
     ]
    }
   ],
   "source": [
    "r=\"hihowareyou\"\n",
    "b=r.split()\n",
    "print(b)\n",
    "#does not split because there is no space between words of string"
   ]
  },
  {
   "cell_type": "code",
   "execution_count": 57,
   "id": "04793384-d20a-4fc5-aa8b-f8bf7981e716",
   "metadata": {},
   "outputs": [
    {
     "name": "stdout",
     "output_type": "stream",
     "text": [
      "['hi', 'how', 'are', 'you']\n"
     ]
    }
   ],
   "source": [
    "t=\"hi\\nhow\\nare\\nyou\"\n",
    "n=t.split(\"\\n\")\n",
    "print(n)"
   ]
  },
  {
   "cell_type": "code",
   "execution_count": 67,
   "id": "8529a9bd-0610-4028-871c-c4a18d86bb29",
   "metadata": {},
   "outputs": [
    {
     "data": {
      "text/plain": [
       "['hey', 'shabaul', 'meet', 'me', 'tomorrow']"
      ]
     },
     "execution_count": 67,
     "metadata": {},
     "output_type": "execute_result"
    }
   ],
   "source": [
    "# What does .split(\" \") do?\n",
    "# The .split(\" \") method splits a string into a list using a space \" \" as the separator.\n",
    "\"hey shabaul meet me tomorrow\".split()"
   ]
  },
  {
   "cell_type": "code",
   "execution_count": 73,
   "id": "ae55d1ef-eb6f-4ddd-ad9d-c8c0595d767f",
   "metadata": {},
   "outputs": [
    {
     "data": {
      "text/plain": [
       "['hey', 'mam', 'good', 'to', 'see', 'you']"
      ]
     },
     "execution_count": 73,
     "metadata": {},
     "output_type": "execute_result"
    }
   ],
   "source": [
    "\"hey mam good to see you\".split( )"
   ]
  },
  {
   "cell_type": "code",
   "execution_count": 71,
   "id": "62fadde3-9b36-4f66-9610-4c8e42544af5",
   "metadata": {},
   "outputs": [
    {
     "data": {
      "text/plain": [
       "['hello', 'sir', 'how', 'are', 'you']"
      ]
     },
     "execution_count": 71,
     "metadata": {},
     "output_type": "execute_result"
    }
   ],
   "source": [
    "\"hello sir how are you\".split(\" \")"
   ]
  },
  {
   "cell_type": "code",
   "execution_count": 75,
   "id": "fef0adba-f4dc-4408-99e4-80ad4d5fc421",
   "metadata": {},
   "outputs": [
    {
     "data": {
      "text/plain": [
       "['hey', 'hello', 'good', 'boy']"
      ]
     },
     "execution_count": 75,
     "metadata": {},
     "output_type": "execute_result"
    }
   ],
   "source": [
    "\"hey,hello,good,boy\".split(\",\")"
   ]
  },
  {
   "cell_type": "code",
   "execution_count": 77,
   "id": "ff974616-8068-4bf2-862d-e2c4fa2dc6e5",
   "metadata": {},
   "outputs": [
    {
     "data": {
      "text/plain": [
       "['hey', 'hello', 'good girl']"
      ]
     },
     "execution_count": 77,
     "metadata": {},
     "output_type": "execute_result"
    }
   ],
   "source": [
    "\"hey hello good girl\".split(\" \",2)"
   ]
  },
  {
   "cell_type": "code",
   "execution_count": 95,
   "id": "850c3532-226f-4f09-9326-5cc1c0b69e3b",
   "metadata": {},
   "outputs": [
    {
     "name": "stdout",
     "output_type": "stream",
     "text": [
      "[[2], [4], [6], [8], [10]]\n"
     ]
    }
   ],
   "source": [
    "a=[1,2,3,4,5,6,7,8,9,10,11]\n",
    "new=[]\n",
    "x=lambda a:a%2==0\n",
    "for i in a:\n",
    "    if(x(i)):\n",
    "        new.append([i])\n",
    "print(new)"
   ]
  },
  {
   "cell_type": "code",
   "execution_count": 101,
   "id": "ca3b7666-811c-4951-9e86-0abe7d80efa2",
   "metadata": {},
   "outputs": [
    {
     "name": "stdout",
     "output_type": "stream",
     "text": [
      "3\n",
      "6\n",
      "9\n"
     ]
    }
   ],
   "source": [
    "# 🔹 Q1.\n",
    "# Given a list of numbers, use a lambda function to find all numbers divisible by 3 and store them in a new list.\n",
    "mylist=[1,2,3,4,5,6,7,8,9,10]\n",
    "\n",
    "c=lambda x:x%3==0\n",
    "for i in mylist:\n",
    "    if(c(i)):\n",
    "        print(i)\n",
    "        "
   ]
  },
  {
   "cell_type": "code",
   "execution_count": 103,
   "id": "5dc4f693-7326-4a88-b505-c14b3e83d757",
   "metadata": {},
   "outputs": [
    {
     "name": "stdout",
     "output_type": "stream",
     "text": [
      "[3, 6, 9]\n"
     ]
    }
   ],
   "source": [
    "mylist1=[1,2,3,4,5,6,7,8,9,10]\n",
    "new1=[]\n",
    "v=lambda x:x%3==0  #You defined a lambda function named v.It checks if a number is divisible by 3. Example: v(3) → True, v(4) → False\n",
    "for i in mylist1:\n",
    "    if(v(i)):      #For every number i, you check: Is i divisible by 3? If v(i) is True, you go to the next step.\n",
    "        new1.append(i)\n",
    "print(new1)\n"
   ]
  },
  {
   "cell_type": "code",
   "execution_count": 111,
   "id": "c3afac2e-36e7-41f1-9e8f-ecc1fe169d3f",
   "metadata": {},
   "outputs": [
    {
     "name": "stdout",
     "output_type": "stream",
     "text": [
      "[2, 4, 6, 8]\n",
      "[[2], [4], [6], [8]]\n"
     ]
    }
   ],
   "source": [
    "my=[1,2,3,4,5,6,7,8,9]\n",
    "newlist=[]\n",
    "newlist1=[]\n",
    "d=lambda x:x%2==0\n",
    "for i in my:\n",
    "    if(d(i)):\n",
    "        newlist.append(i)\n",
    "        newlist1.append([i])\n",
    "print(newlist)\n",
    "print(newlist1)\n",
    "        "
   ]
  },
  {
   "cell_type": "code",
   "execution_count": 115,
   "id": "44dbe19c-1d4f-46d8-ae21-278f53aeccb0",
   "metadata": {},
   "outputs": [
    {
     "name": "stdout",
     "output_type": "stream",
     "text": [
      "['shabaul', 'pritam']\n"
     ]
    }
   ],
   "source": [
    "#Q2.From a list of strings, use a lambda function and a loop to print only those strings whose length is greater than 5, and store them in a new list.\n",
    "strings=[\"shabaul\",\"saif\",\"amaan\",\"pritam\"]\n",
    "new1=[]\n",
    "q=lambda x:len(x)>5\n",
    "for i in strings:\n",
    "    if(q(i)):\n",
    "        new1.append(i)\n",
    "print(new1)"
   ]
  },
  {
   "cell_type": "code",
   "execution_count": 117,
   "id": "2bc86605-dcd0-4ea4-9ffa-b1f9f13cd491",
   "metadata": {},
   "outputs": [
    {
     "name": "stdout",
     "output_type": "stream",
     "text": [
      "[1, 9, 25, 49]\n"
     ]
    }
   ],
   "source": [
    "#🔹 Q3.Create a list of numbers and use a lambda function to square only the odd numbers and append them to a new list.\n",
    "list3=[1,2,3,4,5,6,7]\n",
    "z=[]\n",
    "t=lambda x:x%2!=0\n",
    "for i in list3:\n",
    "    if(t(i)):\n",
    "        z.append(i*i)\n",
    "print(z)\n",
    "\n"
   ]
  },
  {
   "cell_type": "code",
   "execution_count": 123,
   "id": "e1c7ecc8-cb93-4d16-9aa4-ddb5442007a3",
   "metadata": {},
   "outputs": [
    {
     "name": "stdout",
     "output_type": "stream",
     "text": [
      "[158.0, 93.2, 132.8, 172.4, 206.6]\n"
     ]
    }
   ],
   "source": [
    "# 🔹 Q4.\n",
    "# Given a list of temperatures in Celsius, use a lambda to convert them to Fahrenheit, and store them in a new list.\n",
    "\n",
    "# Fahrenheit = C × 9/5 + 32\n",
    "celcius=[70,34,56,78,97]\n",
    "new8=[]\n",
    "y=lambda c:9/5*c+32\n",
    "for i in celcius:\n",
    "    new8.append(y(i))\n",
    "print(new8)\n",
    "\n"
   ]
  },
  {
   "cell_type": "code",
   "execution_count": 125,
   "id": "8d9b8242-9519-4113-9e14-a71e66cbe795",
   "metadata": {},
   "outputs": [
    {
     "name": "stdout",
     "output_type": "stream",
     "text": [
      "{'name': 'shabaul', 'age': 23, 'college': 'jamia'}\n"
     ]
    }
   ],
   "source": [
    "def details(**kwargs):\n",
    "    print(kwargs)\n",
    "details(name=\"shabaul\",age=23,college=\"jamia\")"
   ]
  },
  {
   "cell_type": "code",
   "execution_count": 127,
   "id": "74b47196-b65c-4772-b992-b308c2b40fb3",
   "metadata": {},
   "outputs": [
    {
     "name": "stdout",
     "output_type": "stream",
     "text": [
      "{'id': 11, 'age': 10, 'college_code': 4}\n"
     ]
    }
   ],
   "source": [
    "def my_details(**kwargs):\n",
    "    print(kwargs)\n",
    "my_details(id=(lambda x:x+1)(10),age=(lambda y:y*2)(5),college_code=(lambda z:z//2)(8))"
   ]
  },
  {
   "cell_type": "code",
   "execution_count": 135,
   "id": "427d2b81-f989-4cd7-a1f5-c6f73e9ee8d8",
   "metadata": {},
   "outputs": [
    {
     "name": "stdout",
     "output_type": "stream",
     "text": [
      "{'id': 11, 'age': 10, 'college_code': 4}\n",
      "11\n",
      "10\n",
      "4\n"
     ]
    }
   ],
   "source": [
    "def my_details(**kwargs):\n",
    "    print(kwargs)\n",
    "    print(kwargs[\"id\"])\n",
    "    print(kwargs[\"age\"])\n",
    "    print(kwargs[\"college_code\"])\n",
    "my_details(id=(lambda x:x+1)(10),age=(lambda y:y*2)(5),college_code=(lambda z:z//2)(8))"
   ]
  },
  {
   "cell_type": "code",
   "execution_count": 139,
   "id": "cae3894a-2843-4856-8574-bf8e9f20ce4a",
   "metadata": {},
   "outputs": [
    {
     "name": "stdout",
     "output_type": "stream",
     "text": [
      "{'id': 11, 'age': 10, 'college_code': 4}\n",
      "id is: 11\n",
      "age is: 10\n",
      "college code is: 4\n"
     ]
    }
   ],
   "source": [
    "def my_details(**kwargs):\n",
    "    print(kwargs)\n",
    "    print(\"id is:\",kwargs[\"id\"])\n",
    "    print(\"age is:\",kwargs[\"age\"])\n",
    "    print(\"college code is:\",kwargs[\"college_code\"])\n",
    "my_details(id=(lambda x:x+1)(10),age=(lambda y:y*2)(5),college_code=(lambda z:z//2)(8))"
   ]
  },
  {
   "cell_type": "code",
   "execution_count": null,
   "id": "733241e2-da08-4478-a934-60112b220d0c",
   "metadata": {},
   "outputs": [],
   "source": []
  }
 ],
 "metadata": {
  "kernelspec": {
   "display_name": "Python 3 (ipykernel)",
   "language": "python",
   "name": "python3"
  },
  "language_info": {
   "codemirror_mode": {
    "name": "ipython",
    "version": 3
   },
   "file_extension": ".py",
   "mimetype": "text/x-python",
   "name": "python",
   "nbconvert_exporter": "python",
   "pygments_lexer": "ipython3",
   "version": "3.12.4"
  }
 },
 "nbformat": 4,
 "nbformat_minor": 5
}
