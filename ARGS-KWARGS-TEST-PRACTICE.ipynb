{
 "cells": [
  {
   "cell_type": "code",
   "execution_count": 5,
   "id": "030aba16-ef8d-45a7-b103-b937cc841c3b",
   "metadata": {},
   "outputs": [
    {
     "name": "stdout",
     "output_type": "stream",
     "text": [
      "1\n",
      "2\n",
      "3\n",
      "4\n",
      "5\n",
      "r\n"
     ]
    }
   ],
   "source": [
    "# 🔹 Q1: Basic Understanding\n",
    "# Write a function that accepts any number of positional arguments and prints them one by one\n",
    "def func(*args):\n",
    "    for i in args:\n",
    "        print(i)\n",
    "func(1,2,3,4,5,\"r\")"
   ]
  },
  {
   "cell_type": "code",
   "execution_count": 11,
   "id": "beff4a48-855b-401f-b733-f64bd62ba586",
   "metadata": {},
   "outputs": [
    {
     "name": "stdout",
     "output_type": "stream",
     "text": [
      "85\n"
     ]
    }
   ],
   "source": [
    "# 🔹 *Q2: Summing Numbers Using args\n",
    "# Write a function sum_all that takes any number of numeric inputs using *args and returns their sum.\n",
    "sum=0\n",
    "def sumnum(*args):\n",
    "    global sum\n",
    "    for i in args:\n",
    "        sum+=i\n",
    "    print(sum)\n",
    "sumnum(3,4,5,66,7)\n"
   ]
  },
  {
   "cell_type": "code",
   "execution_count": 15,
   "id": "bd46e558-74d5-4ffa-9a89-8cf4a88b6fda",
   "metadata": {},
   "outputs": [
    {
     "name": "stdout",
     "output_type": "stream",
     "text": [
      "['shabaul', 'saif']\n"
     ]
    }
   ],
   "source": [
    "#  Q3: Mixed Data Types\n",
    "# Write a function that accepts any number of values using *args, and returns only the strings from it in a list.\n",
    "new=[]\n",
    "def stronly(*args):\n",
    "    for i in args:\n",
    "        if(type(i)==str):\n",
    "            new.append(i)\n",
    "    print(new)\n",
    "stronly(5,\"shabaul\",9,\"saif\")\n",
    "    \n"
   ]
  },
  {
   "cell_type": "code",
   "execution_count": 27,
   "id": "cf2986d0-c955-41c0-a417-337ae0ccc8eb",
   "metadata": {},
   "outputs": [
    {
     "name": "stdout",
     "output_type": "stream",
     "text": [
      "hi, hello!! saif\n",
      "hi, hello!! shabaul\n",
      "hi, hello!! post\n"
     ]
    }
   ],
   "source": [
    "# 🔹 Q4: With Other Parameters\n",
    "# Define a function that takes a greeting message as the first parameter, then accepts multiple names using *args, \n",
    "# and prints a personalized message for each.\n",
    "def greet(greeting,*args):\n",
    "    for i in args:\n",
    "        print(greeting,i)\n",
    "        \n",
    "greet(\"hi, hello!!\",\"saif\",\"shabaul\",\"post\")\n",
    "    \n"
   ]
  },
  {
   "cell_type": "code",
   "execution_count": 29,
   "id": "c39f5812-4787-4248-98b0-d524a77a0c02",
   "metadata": {},
   "outputs": [
    {
     "name": "stdout",
     "output_type": "stream",
     "text": [
      "20\n",
      "40\n",
      "60\n"
     ]
    }
   ],
   "source": [
    "# 🔹 *Q5: Unpacking List into args\n",
    "# You are given a list numbers = [10, 20, 30]. Pass this list to a function using *args and print each number multiplied by 2.\n",
    "numbers=[10,20,30]\n",
    "def numb(*args):\n",
    "    for i in args:\n",
    "        print(i*2)\n",
    "numb(*numbers)"
   ]
  },
  {
   "cell_type": "code",
   "execution_count": 31,
   "id": "2439350a-91d3-442f-a5db-aa0aeed89466",
   "metadata": {},
   "outputs": [
    {
     "name": "stdout",
     "output_type": "stream",
     "text": [
      "[8, 10, 12, 4]\n"
     ]
    }
   ],
   "source": [
    "#  *Q6: Using args with a Loop and Condition\n",
    "# Write a function that takes multiple numbers and returns only the even ones in a list.\n",
    "listy=[5,8,9,10,12,4]\n",
    "new1=[]\n",
    "def eve(*args):\n",
    "    for i in args:\n",
    "        if(i%2==0):\n",
    "            new1.append(i)\n",
    "    print(new1)\n",
    "eve(*listy)"
   ]
  },
  {
   "cell_type": "code",
   "execution_count": 35,
   "id": "5ca4ccff-473e-4277-b441-aa136455ffbe",
   "metadata": {},
   "outputs": [
    {
     "name": "stdout",
     "output_type": "stream",
     "text": [
      "(2, 3, 4, 6, 'saif')\n",
      "{'name': 'shabaul', 'age': 23}\n"
     ]
    }
   ],
   "source": [
    "# 🔹 **Q7: Combine *args with kwargs (Advanced)\n",
    "# Write a function that uses both *args and **kwargs. Print the values of both.\n",
    "def argskwargs(*args,**kwargs):\n",
    "    print(args)\n",
    "    print(kwargs)\n",
    "argskwargs(2,3,4,6,\"saif\",name=\"shabaul\",age=23)"
   ]
  },
  {
   "cell_type": "code",
   "execution_count": 37,
   "id": "3106a3e7-dcf5-4d6c-b164-64b1f37577c1",
   "metadata": {},
   "outputs": [
    {
     "name": "stdout",
     "output_type": "stream",
     "text": [
      "{'name': 'shabaul', 'age': 23, 'sex': 'male'}\n"
     ]
    }
   ],
   "source": [
    "# 🔹 Q1. Basic Print of kwargs\n",
    "# Write a function that accepts any number of keyword arguments and prints each key-value pair.\n",
    "def pr(**kwargs):\n",
    "    print(kwargs)\n",
    "pr(name=\"shabaul\",age=23,sex=\"male\")"
   ]
  },
  {
   "cell_type": "code",
   "execution_count": 41,
   "id": "9e4d62b7-8a29-4b12-a58d-41303fc1c4f3",
   "metadata": {},
   "outputs": [
    {
     "name": "stdout",
     "output_type": "stream",
     "text": [
      "name shabaul\n",
      "age 23\n",
      "sex male\n"
     ]
    }
   ],
   "source": [
    "def kv(**kwargs):\n",
    "    for i in kwargs:\n",
    "        print(i,kwargs[i])\n",
    "kv(name=\"shabaul\",age=23,sex=\"male\")"
   ]
  },
  {
   "cell_type": "code",
   "execution_count": 45,
   "id": "84a35e12-5950-4801-943a-998c4cbfe248",
   "metadata": {},
   "outputs": [
    {
     "name": "stdout",
     "output_type": "stream",
     "text": [
      "name:shabaul\n",
      "age:23\n",
      "sex:male\n"
     ]
    }
   ],
   "source": [
    "def kvc(**kwargs):\n",
    "    for i in kwargs:\n",
    "        print(f\"{i}:{kwargs[i]}\")\n",
    "kvc(name=\"shabaul\",age=23,sex=\"male\")"
   ]
  },
  {
   "cell_type": "code",
   "execution_count": 49,
   "id": "352f0063-5df3-4e1a-b6cb-b2d0744c09d8",
   "metadata": {},
   "outputs": [
    {
     "name": "stdout",
     "output_type": "stream",
     "text": [
      "name\n",
      "age\n"
     ]
    }
   ],
   "source": [
    "# 🔹 Q2. Accessing Specific Keys\n",
    "# Write a function that takes any keyword arguments and prints the value of the keys name and age if they exist.\n",
    "def na(**kwargs):\n",
    "    for i in kwargs:\n",
    "        if(i==\"name\" or i==\"age\"):\n",
    "            print(i)\n",
    "na(name=\"saif\",age=23,sex=\"male\")\n",
    "            "
   ]
  },
  {
   "cell_type": "code",
   "execution_count": 51,
   "id": "0a01f2d4-e4a4-4e96-99f8-1cf0695959ef",
   "metadata": {},
   "outputs": [
    {
     "name": "stdout",
     "output_type": "stream",
     "text": [
      "saif\n",
      "23\n"
     ]
    }
   ],
   "source": [
    "def na(**kwargs):\n",
    "    for i in kwargs:\n",
    "        if(i==\"name\" or i==\"age\"):\n",
    "            print(kwargs[i])\n",
    "na(name=\"saif\",age=23,sex=\"male\")"
   ]
  },
  {
   "cell_type": "code",
   "execution_count": 63,
   "id": "5c038b99-3a08-4fbc-8901-e930ad65375c",
   "metadata": {},
   "outputs": [
    {
     "name": "stdout",
     "output_type": "stream",
     "text": [
      "no marks provided\n",
      "no marks provided\n",
      "99\n"
     ]
    }
   ],
   "source": [
    "# 🔹 Q3.\n",
    "# Write a function where you take **kwargs and return the value of a key called marks. If marks is not passed, return \"No marks provided\"\n",
    "def func2(**kwargs):\n",
    "    for i in kwargs:\n",
    "        if(i==\"marks\"):\n",
    "            print(kwargs[i])\n",
    "        else:\n",
    "            print(\"no marks provided\")\n",
    "func2(name=\"amit\",age=23,marks=99)"
   ]
  },
  {
   "cell_type": "code",
   "execution_count": 65,
   "id": "c1326080-ec6a-426e-8424-cf74102ec825",
   "metadata": {},
   "outputs": [
    {
     "name": "stdout",
     "output_type": "stream",
     "text": [
      "name shabaul\n",
      "sex male\n",
      "status unmarried\n"
     ]
    }
   ],
   "source": [
    "#  Q4. Filtering Specific Data Types\n",
    "# From the keyword arguments passed, return only those key-value pairs where the value is a string.\n",
    "def strret(**kwargs):\n",
    "    for i in kwargs:\n",
    "        if(type(kwargs[i])==str):\n",
    "            print(i,kwargs[i])\n",
    "strret(name=\"shabaul\",age=23,sex=\"male\",height=170,status=\"unmarried\")"
   ]
  },
  {
   "cell_type": "code",
   "execution_count": 67,
   "id": "9bf59a11-8c47-49f9-867f-0cbe0988f36c",
   "metadata": {},
   "outputs": [
    {
     "name": "stdout",
     "output_type": "stream",
     "text": [
      "{'name': 'shabaul', 'sex': 'male', 'status': 'unmarried'}\n"
     ]
    }
   ],
   "source": [
    "d={}\n",
    "def strret(**kwargs):\n",
    "    for i in kwargs:\n",
    "        if(type(kwargs[i])==str):\n",
    "            d[i]=kwargs[i]\n",
    "    print(d)\n",
    "strret(name=\"shabaul\",age=23,sex=\"male\",height=170,status=\"unmarried\")"
   ]
  },
  {
   "cell_type": "code",
   "execution_count": 77,
   "id": "8f16117e-67e4-424b-a2a4-5c35629275dd",
   "metadata": {},
   "outputs": [
    {
     "name": "stdout",
     "output_type": "stream",
     "text": [
      "{'name': 'saif', 'age': 23, 'city': 'jaipur'}\n",
      "saif 23 jaipur\n"
     ]
    }
   ],
   "source": [
    "#  Q6. Passing **kwargs to Another Function\n",
    "# You have this function:\n",
    "def print_info(name,age,city):\n",
    "    print(name,age,city)\n",
    "def kw(**kwargs):\n",
    "    print(kwargs)\n",
    "    print_info(**kwargs)\n",
    "kw(name=\"saif\",age=23,city=\"jaipur\")"
   ]
  },
  {
   "cell_type": "code",
   "execution_count": 79,
   "id": "0e295d5c-b7ec-4874-ace5-ff4377235649",
   "metadata": {},
   "outputs": [
    {
     "name": "stdout",
     "output_type": "stream",
     "text": [
      "saif 23 jaipur\n"
     ]
    }
   ],
   "source": [
    "def print_info(name,age,city):\n",
    "    print(name,age,city)\n",
    "def kw(**kwargs):\n",
    "    print_info(**kwargs)\n",
    "kw(name=\"saif\",age=23,city=\"jaipur\")"
   ]
  },
  {
   "cell_type": "code",
   "execution_count": 85,
   "id": "e86fd67e-1aba-44a3-ae93-fdd0bd3671d1",
   "metadata": {},
   "outputs": [
    {
     "name": "stdout",
     "output_type": "stream",
     "text": [
      "4\n"
     ]
    }
   ],
   "source": [
    "# 🔹 Q7. Count Number of Keyword Arguments\n",
    "# Write a function that accepts any keyword arguments and returns how many key-value pairs were passed.\n",
    "count=0\n",
    "def countkv(**kwargs):\n",
    "    global count\n",
    "    for i in kwargs:\n",
    "        count+=1\n",
    "    print(count)\n",
    "countkv(name=\"saif\",age=23,city=\"jaipur\",sex=\"male\")"
   ]
  },
  {
   "cell_type": "code",
   "execution_count": 87,
   "id": "f325aade-8608-4add-af4f-92bcb8b3d35a",
   "metadata": {},
   "outputs": [
    {
     "name": "stdout",
     "output_type": "stream",
     "text": [
      "4\n"
     ]
    }
   ],
   "source": [
    "\n",
    "def countkv(**kwargs):\n",
    "    count=0\n",
    "    for i in kwargs:\n",
    "        count+=1\n",
    "    print(count)\n",
    "countkv(name=\"saif\",age=23,city=\"jaipur\",sex=\"male\")"
   ]
  },
  {
   "cell_type": "code",
   "execution_count": 101,
   "id": "d37b235b-1de0-4885-b272-fe5d1fb7ca3c",
   "metadata": {},
   "outputs": [
    {
     "name": "stdout",
     "output_type": "stream",
     "text": [
      "yes\n"
     ]
    }
   ],
   "source": [
    "# 🔹 Q8. Check for Required Keys\n",
    "# Write a function that ensures keys username and password are present in kwargs. If not, print an error.\n",
    "def checkkv(**kwargs):\n",
    "        if(\"username\" in kwargs and \"password\" in kwargs):\n",
    "            print(\"yes\")\n",
    "        else:\n",
    "            print(\"error\")\n",
    "checkkv(username=\"saif\",password=\"shabaul123\",gender=\"male\",age=23)"
   ]
  },
  {
   "cell_type": "code",
   "execution_count": 111,
   "id": "dfbaaccd-319f-41aa-98b3-b7c722d9e789",
   "metadata": {},
   "outputs": [
    {
     "name": "stdout",
     "output_type": "stream",
     "text": [
      "saif\n",
      "23\n",
      "male\n"
     ]
    }
   ],
   "source": [
    "# 🔹 Q9. Convert kwargs to a Dictionary\n",
    "# Write a function that returns the kwargs as a regular dictionary and then access it like a normal dictionary.\n",
    "def dictaccess(**kwargs):\n",
    "    return kwargs\n",
    "d=dictaccess(name=\"saif\",age=23,sex=\"male\")\n",
    "print(d[\"name\"])\n",
    "print(d[\"age\"])\n",
    "print(d[\"sex\"])"
   ]
  },
  {
   "cell_type": "code",
   "execution_count": null,
   "id": "c4e9475b-a960-4c25-9db2-9f1463257488",
   "metadata": {},
   "outputs": [],
   "source": []
  }
 ],
 "metadata": {
  "kernelspec": {
   "display_name": "Python 3 (ipykernel)",
   "language": "python",
   "name": "python3"
  },
  "language_info": {
   "codemirror_mode": {
    "name": "ipython",
    "version": 3
   },
   "file_extension": ".py",
   "mimetype": "text/x-python",
   "name": "python",
   "nbconvert_exporter": "python",
   "pygments_lexer": "ipython3",
   "version": "3.12.4"
  }
 },
 "nbformat": 4,
 "nbformat_minor": 5
}
