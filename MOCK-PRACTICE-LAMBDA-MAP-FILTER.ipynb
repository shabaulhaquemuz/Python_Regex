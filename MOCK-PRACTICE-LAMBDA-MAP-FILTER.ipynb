{
 "cells": [
  {
   "cell_type": "code",
   "execution_count": 1,
   "id": "0d43d6c1-a78b-4bdd-b962-daf7bba24671",
   "metadata": {},
   "outputs": [],
   "source": [
    "#lambda function: What is a lambda function?\n",
    "# A lambda function is a small, one line, anonymous (nameless) function in Python.\n",
    "\n",
    "# You use it when:\n",
    "\n",
    "# when we want a to create a quick, one-line function , we create lambda function. it also makes the code more readable.\n",
    "\n",
    "# You don’t want to define it using def\n",
    "\n",
    "#lambda function\n",
    "# a=lambda x:x+10\n",
    "# a(15)\n",
    "# we give three things while creating lambda function...\n",
    "# 1.lambda keyword:This tells Python you’re creating an anonymous function.\n",
    "# 2.parameter: here x is parameter passed to lambda\n",
    "# 3.colon(:)\n",
    "# 4.expresion: here expression is x+10\n",
    "#we can run lambda either by assigning it to a variable or without assigning it to a variable"
   ]
  },
  {
   "cell_type": "code",
   "execution_count": 7,
   "id": "c54bc8eb-6568-4fcf-8140-dab5ed63f294",
   "metadata": {},
   "outputs": [
    {
     "data": {
      "text/plain": [
       "<map at 0x1c837cecfd0>"
      ]
     },
     "execution_count": 7,
     "metadata": {},
     "output_type": "execute_result"
    }
   ],
   "source": [
    "# Definition of map():\n",
    "# map() is used when you want to do an operation to every element in an iterable object (like a list, tuple, etc.) and return the modified results.\n",
    "map(lambda x:x**2, [2,4,5,6])\n",
    "#it is giving memory addres means we have assign it in a variable"
   ]
  },
  {
   "cell_type": "code",
   "execution_count": 15,
   "id": "d57d6918-389f-45cc-84fe-d90f6222b2f7",
   "metadata": {},
   "outputs": [
    {
     "data": {
      "text/plain": [
       "4"
      ]
     },
     "execution_count": 15,
     "metadata": {},
     "output_type": "execute_result"
    }
   ],
   "source": [
    "y=map(lambda x:x**2, [2,4,5,6])\n",
    "next(y)\n"
   ]
  },
  {
   "cell_type": "code",
   "execution_count": 17,
   "id": "1bf2c26e-95ec-4aea-88ff-05365ef13fd8",
   "metadata": {},
   "outputs": [
    {
     "data": {
      "text/plain": [
       "16"
      ]
     },
     "execution_count": 17,
     "metadata": {},
     "output_type": "execute_result"
    }
   ],
   "source": [
    "next(y)"
   ]
  },
  {
   "cell_type": "code",
   "execution_count": 19,
   "id": "e36ddf19-0d01-4664-93c4-1bae56a58b1b",
   "metadata": {},
   "outputs": [
    {
     "data": {
      "text/plain": [
       "25"
      ]
     },
     "execution_count": 19,
     "metadata": {},
     "output_type": "execute_result"
    }
   ],
   "source": [
    "next(y)"
   ]
  },
  {
   "cell_type": "code",
   "execution_count": 21,
   "id": "cc0a4317-f251-4dd7-9301-d5d4afdf5964",
   "metadata": {},
   "outputs": [
    {
     "data": {
      "text/plain": [
       "36"
      ]
     },
     "execution_count": 21,
     "metadata": {},
     "output_type": "execute_result"
    }
   ],
   "source": [
    "next(y)"
   ]
  },
  {
   "cell_type": "code",
   "execution_count": 23,
   "id": "f62d8cbb-d14e-4af1-a494-384ded47217a",
   "metadata": {},
   "outputs": [
    {
     "ename": "StopIteration",
     "evalue": "",
     "output_type": "error",
     "traceback": [
      "\u001b[1;31m---------------------------------------------------------------------------\u001b[0m",
      "\u001b[1;31mStopIteration\u001b[0m                             Traceback (most recent call last)",
      "Cell \u001b[1;32mIn[23], line 1\u001b[0m\n\u001b[1;32m----> 1\u001b[0m \u001b[38;5;28mnext\u001b[39m(y)\n",
      "\u001b[1;31mStopIteration\u001b[0m: "
     ]
    }
   ],
   "source": [
    "next(y)"
   ]
  },
  {
   "cell_type": "code",
   "execution_count": 25,
   "id": "23b43350-98b5-41f4-86f9-d86470f3520f",
   "metadata": {},
   "outputs": [
    {
     "data": {
      "text/plain": [
       "[4, 16, 25, 36]"
      ]
     },
     "execution_count": 25,
     "metadata": {},
     "output_type": "execute_result"
    }
   ],
   "source": [
    "z=map(lambda x:x**2, [2,4,5,6])\n",
    "list(z)\n",
    "#if we want to get the whole result at once, we have to apply list function"
   ]
  },
  {
   "cell_type": "code",
   "execution_count": 29,
   "id": "c544db82-c4fe-4b9b-b1c8-da3f7b63e6c5",
   "metadata": {},
   "outputs": [
    {
     "data": {
      "text/plain": [
       "[4, 16, 25, 36]"
      ]
     },
     "execution_count": 29,
     "metadata": {},
     "output_type": "execute_result"
    }
   ],
   "source": [
    "x=map(lambda x:x**2, (2,4,5,6))\n",
    "list(x)\n",
    "#it does not matter what we are passing(list or any other data type), it matters what we are running as a function.. if we are calling the variable\n",
    "#as list() function, result will be given in list datatype only.\n",
    "#these list(),tuple() in the background are calling next function one by one and collecting the items into a list."
   ]
  },
  {
   "cell_type": "code",
   "execution_count": 33,
   "id": "0ad8764d-ad6c-41cb-94b4-45a3d8188aaa",
   "metadata": {},
   "outputs": [
    {
     "data": {
      "text/plain": [
       "(4, 16, 25, 36)"
      ]
     },
     "execution_count": 33,
     "metadata": {},
     "output_type": "execute_result"
    }
   ],
   "source": [
    "r=map(lambda x:x**2, {2,4,5,6})\n",
    "tuple(r)"
   ]
  },
  {
   "cell_type": "code",
   "execution_count": null,
   "id": "4a0c90e4-d466-4e6b-bbbd-06a73e0411ec",
   "metadata": {},
   "outputs": [],
   "source": [
    "#  Definition of filter():\n",
    "# filter() is used when you want to select only those elements from an iterable object that meet a certain condition.\n",
    "#The function inside filter() must return True or False for each item.\n",
    "\n",
    "\n",
    "# ✅ map = modify all\n",
    "\n",
    "# ✅ filter = find some\n",
    "\n",
    "#yes, map() and filter() are higher-order functions in Python.\n",
    "\n",
    "\n",
    "\n",
    "# | Function   | Must Return True/False? | Purpose                          |\n",
    "# | ---------- | ----------------------- | -------------------------------- |\n",
    "# | `filter()` | ✅ Yes                   | Filters items based on condition |\n",
    "# | `map()`    | ❌ No                    | Transforms each item             |\n",
    "\n",
    "# ilter(function, iterable) → Yes, the function must return True or False for each item.\n",
    "# If the function returns True, the item is included.\n",
    "\n",
    "# If it returns False, the item is excluded.\n"
   ]
  }
 ],
 "metadata": {
  "kernelspec": {
   "display_name": "Python 3 (ipykernel)",
   "language": "python",
   "name": "python3"
  },
  "language_info": {
   "codemirror_mode": {
    "name": "ipython",
    "version": 3
   },
   "file_extension": ".py",
   "mimetype": "text/x-python",
   "name": "python",
   "nbconvert_exporter": "python",
   "pygments_lexer": "ipython3",
   "version": "3.12.4"
  }
 },
 "nbformat": 4,
 "nbformat_minor": 5
}
