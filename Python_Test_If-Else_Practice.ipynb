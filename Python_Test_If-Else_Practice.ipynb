{
 "cells": [
  {
   "cell_type": "code",
   "execution_count": 9,
   "id": "df33edc9-dbe3-4bfa-95c1-6f8df9a38344",
   "metadata": {},
   "outputs": [
    {
     "name": "stdin",
     "output_type": "stream",
     "text": [
      "enter the number: 3\n"
     ]
    },
    {
     "name": "stdout",
     "output_type": "stream",
     "text": [
      "odd\n"
     ]
    }
   ],
   "source": [
    "#Q1 Write a program that takes an integer input from the user and checks whether the number is odd or even.\n",
    "n=int(input(\"enter the number:\"))\n",
    "if(n%2==0):\n",
    "    print(\"even\")\n",
    "else:\n",
    "    print(\"odd\")"
   ]
  },
  {
   "cell_type": "code",
   "execution_count": 29,
   "id": "3dc4c825-43e5-4a35-a8f4-e4f3c9101ec4",
   "metadata": {},
   "outputs": [
    {
     "name": "stdin",
     "output_type": "stream",
     "text": [
      "enter the number: 9\n",
      "enter the number: 8\n",
      "enter the number: 7\n"
     ]
    },
    {
     "name": "stdout",
     "output_type": "stream",
     "text": [
      "a is largest\n"
     ]
    }
   ],
   "source": [
    "#Q2 Write a program that takes three numbers as input and prints the largest of the three.\n",
    "a=int(input(\"enter the number:\"))\n",
    "b=int(input(\"enter the number:\"))\n",
    "c=int(input(\"enter the number:\"))\n",
    "if(a>b and a>c):\n",
    "    print(\"a is largest\")\n",
    "elif(b>a and b>c):\n",
    "    print(\"b is largest\")\n",
    "else:\n",
    "    print(\"c is largest\")"
   ]
  },
  {
   "cell_type": "code",
   "execution_count": 22,
   "id": "20cb499b-9b6d-4f85-a647-da0e04da611a",
   "metadata": {},
   "outputs": [
    {
     "name": "stdin",
     "output_type": "stream",
     "text": [
      "enter the year: 1900\n"
     ]
    },
    {
     "name": "stdout",
     "output_type": "stream",
     "text": [
      "not a leap year\n"
     ]
    }
   ],
   "source": [
    "#Q3 Write a program to check if a given year is a leap year. A leap year is divisible by 4 but not by 100 unless it is also divisible by 400.\n",
    "year=int(input(\"enter the year:\"))\n",
    "if(year%4==0 and year%100!=0):\n",
    "    print(\"leap year\")\n",
    "elif(year%400==0):\n",
    "    print(\"leap year\")\n",
    "    \n",
    "else:\n",
    "    print(\"not a leap year\")"
   ]
  },
  {
   "cell_type": "code",
   "execution_count": 49,
   "id": "0d432034-c462-4a66-804c-3d348c2d92fb",
   "metadata": {},
   "outputs": [
    {
     "name": "stdin",
     "output_type": "stream",
     "text": [
      "enter the percentgae 45\n"
     ]
    },
    {
     "name": "stdout",
     "output_type": "stream",
     "text": [
      "grade F\n"
     ]
    }
   ],
   "source": [
    "#Q4 Write a program that takes a percentage (integer) as input and prints the corresponding grade based\n",
    "#on the following criteria:\n",
    "#>= 90: Grade A\n",
    "#>= 80: Grade B\n",
    "#>= 70: Grade C\n",
    "#>= 60: Grade D\n",
    "#< 60: Grade F\n",
    "percentage=int(input(\"enter the percentgae\"))\n",
    "if(90<=percentage<=100):\n",
    "    print(\"grade A\")\n",
    "elif(80<=percentage<=89):\n",
    "    print(\"grade B\")\n",
    "elif(70<=percentage<=79):\n",
    "    print(\"grade C\")\n",
    "elif(60<=percentage<=69):\n",
    "    print(\"grade D\")\n",
    "else:\n",
    "    print(\"grade F\")"
   ]
  },
  {
   "cell_type": "code",
   "execution_count": 59,
   "id": "29ddfcd4-a977-4ab8-a242-61505fa082ae",
   "metadata": {},
   "outputs": [
    {
     "name": "stdin",
     "output_type": "stream",
     "text": [
      "enter the letter: S\n"
     ]
    },
    {
     "name": "stdout",
     "output_type": "stream",
     "text": [
      "consonant\n"
     ]
    }
   ],
   "source": [
    "#Q5 Write a program that checks if a given letter is a vowel (a, e, i, o, u) or a consonant.\n",
    "letter=str(input(\"enter the letter:\"))\n",
    "if(letter=='a' or letter=='A' or letter=='e' or letter=='E' or letter=='i' or letter=='I' or letter=='o' or letter=='O' or letter=='u' or letter=='U'):\n",
    "    print(\"vowel\")\n",
    "else:\n",
    "    print(\"consonant\")"
   ]
  },
  {
   "cell_type": "code",
   "execution_count": 67,
   "id": "42acb72b-f494-4495-8647-690347d5e9e6",
   "metadata": {},
   "outputs": [
    {
     "name": "stdin",
     "output_type": "stream",
     "text": [
      "enter the number: 5\n",
      "enter the number: 7\n",
      "enter the operator: *\n"
     ]
    },
    {
     "name": "stdout",
     "output_type": "stream",
     "text": [
      "35\n"
     ]
    }
   ],
   "source": [
    "#Q6 Write a basic calculator program that takes two numbers and an operator (+, -, *, /) as input and\n",
    "#performs the specified operation. Print the result based on the operation.\n",
    "a=int(input(\"enter the number:\"))\n",
    "b=int(input(\"enter the number:\"))\n",
    "operator=input(\"enter the operator:\")\n",
    "if(operator=='+'):\n",
    "    print(a+b)\n",
    "elif(operator=='-'):\n",
    "    print(a-b)\n",
    "elif(operator=='*'):\n",
    "    print(a*b)\n",
    "elif(operator=='/'):\n",
    "    print(a/b)\n",
    "else:\n",
    "    print(\"enter the right opefrator\")"
   ]
  },
  {
   "cell_type": "code",
   "execution_count": 75,
   "id": "c263dd96-d1d7-40f4-84e5-cac5c5b6e33c",
   "metadata": {},
   "outputs": [
    {
     "name": "stdin",
     "output_type": "stream",
     "text": [
      "enter the number: 0\n"
     ]
    },
    {
     "name": "stdout",
     "output_type": "stream",
     "text": [
      "zero\n"
     ]
    }
   ],
   "source": [
    "#Q7 Write a program that takes a number as input and checks whether it is positive, negative, or zero.\n",
    "a=int(input(\"enter the number:\"))\n",
    "if(a>0):\n",
    "    print(\"positive\")\n",
    "elif(a<0):\n",
    "    print(\"negative\")\n",
    "else:\n",
    "    print(\"zero\")"
   ]
  },
  {
   "cell_type": "code",
   "execution_count": 91,
   "id": "0d1c9ae3-fc2d-4ce1-9e26-f9f0f4d13d79",
   "metadata": {},
   "outputs": [
    {
     "name": "stdin",
     "output_type": "stream",
     "text": [
      "enter username: ahsgg\n",
      "enter password: 1234\n"
     ]
    },
    {
     "name": "stdout",
     "output_type": "stream",
     "text": [
      "login failed\n"
     ]
    }
   ],
   "source": [
    "#Q8 Write a program that checks if a username and password entered by the user match the pre-set values\n",
    "#username = \"admin\" and password = \"1234\". If both match, print \"Login Successful\", otherwise print\n",
    "#\"Login Failed\".\n",
    "username=str(input(\"enter username:\"))\n",
    "password=int(input(\"enter password:\"))\n",
    "if(username=='admin' and password==1234):\n",
    "    print(\"login successful\")\n",
    "else:\n",
    "    print(\"login failed\")\n"
   ]
  },
  {
   "cell_type": "code",
   "execution_count": 97,
   "id": "920b4eac-0bb1-41d6-80e4-f5fdbf291419",
   "metadata": {},
   "outputs": [
    {
     "name": "stdin",
     "output_type": "stream",
     "text": [
      "enter side a: 2\n",
      "enter side b: 5\n",
      "enter side c: 7\n"
     ]
    },
    {
     "name": "stdout",
     "output_type": "stream",
     "text": [
      "invalid triangle\n"
     ]
    }
   ],
   "source": [
    "#Q9 Write a program that takes three sides of a triangle as input and checks if those sides form a valid\n",
    "#triangle. A triangle is valid if the sum of any two sides is greater than the third side.\n",
    "#Check conditions like a + b > c, b + c > a, and a + c > b.\n",
    "a=int(input(\"enter side a:\"))\n",
    "b=int(input(\"enter side b:\"))\n",
    "c=int(input(\"enter side c:\"))\n",
    "if(a+b>c and b+c>a and a+c>b):\n",
    "    print(\"valid triangle\")\n",
    "else:\n",
    "    print(\"invalid triangle\")"
   ]
  },
  {
   "cell_type": "code",
   "execution_count": 103,
   "id": "3889b2ec-61d3-474d-b4ea-5ee5b600fb64",
   "metadata": {},
   "outputs": [
    {
     "name": "stdin",
     "output_type": "stream",
     "text": [
      "enter the weight: 69\n",
      "enter the height: 1.651\n"
     ]
    },
    {
     "name": "stdout",
     "output_type": "stream",
     "text": [
      "25.31366009477581\n",
      "overweight\n"
     ]
    }
   ],
   "source": [
    "#Q10 Write a program that calculates the Body Mass Index (BMI) based on user input for weight (in\n",
    "#kilograms) and height (in meters). Then categorize the BMI into:\n",
    "#Underweight (BMI < 18.5)\n",
    "#Normal weight (18.5 <= BMI < 24.9)\n",
    "#Overweight (25 <= BMI < 29.9)\n",
    "#Obesity (BMI >= 30)\n",
    "#Use the formula: BMI = weight / (height ** 2)\n",
    "weight=int(input(\"enter the weight:\"))\n",
    "height=float(input(\"enter the height:\"))\n",
    "BMI=weight/(height**2)\n",
    "print(BMI)\n",
    "if(BMI < 18.5):\n",
    "    print(\"Underweight\")\n",
    "elif(18.5 <= BMI < 24.9):\n",
    "    print(\"normal weight\")\n",
    "elif(25 <= BMI < 29.9):\n",
    "    print(\"overweight\")\n",
    "elif(BMI >= 30):\n",
    "    print(\"obesity\")"
   ]
  },
  {
   "cell_type": "code",
   "execution_count": 4,
   "id": "e59c5b59-6bcb-4b3f-a482-af5cd4f445e2",
   "metadata": {},
   "outputs": [
    {
     "name": "stdout",
     "output_type": "stream",
     "text": [
      "available menu:shirt,tshirt\n"
     ]
    },
    {
     "name": "stdin",
     "output_type": "stream",
     "text": [
      "enter your item: wer\n"
     ]
    },
    {
     "name": "stdout",
     "output_type": "stream",
     "text": [
      "item is not available\n"
     ]
    }
   ],
   "source": [
    "#Q11 Write a program that calculates the discount for a product based on its price:\n",
    "#If price is greater than 1000, discount is 10%\n",
    "#If price is between 500 and 1000, discount is 5%\n",
    "#Otherwise, no discount\n",
    "#Print the final price after applying the discount.\n",
    "print(\"available menu:shirt,tshirt\")\n",
    "shirt_price=500\n",
    "tshirt_price=300\n",
    "item=input(\"enter your item:\")\n",
    "if(item=='shirt'):\n",
    "    quantity=int(input(\"enter the quantity:\"))\n",
    "    total_price=shirt_price*quantity\n",
    "    if(total_price>=1000):\n",
    "        print(\"your 10% discounted price is:\",total_price-(10/100)*total_price)\n",
    "    elif(500<total_price<1000):\n",
    "        print(\"your 5% discounted price is:\",total_price-(5/100)*total_price)\n",
    "    else:\n",
    "        print(\"your undiscounted price is:\",total_price)\n",
    "else:\n",
    "    print(\"item is not available\")\n",
    "\n",
    "   "
   ]
  },
  {
   "cell_type": "code",
   "execution_count": 159,
   "id": "bc5542dd-6890-4541-938a-a66b6cb05d7f",
   "metadata": {},
   "outputs": [
    {
     "name": "stdin",
     "output_type": "stream",
     "text": [
      "enter the name of the month: february\n",
      "enter year: 2001\n"
     ]
    },
    {
     "name": "stdout",
     "output_type": "stream",
     "text": [
      "non-leap year has 28 days in feb\n"
     ]
    }
   ],
   "source": [
    "#Q12 Write a program that takes the name of a month as input and prints the number of days in that\n",
    "#month. Consider leap years for February.\n",
    "month=str(input(\"enter the name of the month:\"))\n",
    "if(month=='january'):\n",
    "    print(\"jan has 31 days\")\n",
    "elif(month=='february'):\n",
    "    year=int(input(\"enter year:\"))\n",
    "    if(year%4==0):\n",
    "        print(\"leap year has 29 days in feb\")\n",
    "    elif(year%100==0 and year%400==0):\n",
    "        print(\"leap year has 29 days in feb\")\n",
    "    else:\n",
    "        print(\"non-leap year has 28 days in feb\")\n",
    "elif(month=='march'):\n",
    "    print(\"march has 31 days\")\n",
    "elif(month=='april'):\n",
    "    print(\"march has 30 days\")\n",
    "elif(month=='may'):\n",
    "    print(\"may has 31 days\")\n",
    "elif(month=='june'):\n",
    "    print(\"june has 30 days\")\n",
    "elif(month=='july'):\n",
    "    print(\"march has 31 days\")\n",
    "elif(month=='august'):\n",
    "    print(\"may has 31 days\")\n",
    "elif(month=='september'):\n",
    "    print(\"september has 30 days\")\n",
    "elif(month=='october'):\n",
    "    print(\"october has 31 days\")\n",
    "elif(month=='november'):\n",
    "    print(\"november has 30 days\")\n",
    "elif(month=='december'):\n",
    "    print(\"december has 31 days\")\n",
    "else:\n",
    "    print(\"enter valid month\")\n",
    "\n",
    "\n",
    "\n",
    "            "
   ]
  },
  {
   "cell_type": "code",
   "execution_count": null,
   "id": "05accc77-1dc5-4dbb-a46a-cec7f1af8e68",
   "metadata": {},
   "outputs": [
    {
     "name": "stdin",
     "output_type": "stream",
     "text": [
      "enter the button: a\n"
     ]
    }
   ],
   "source": [
    "#Q13 Write a program that simulates a simple ATM. The user should be able to:\n",
    "#Check balance\n",
    "#Deposit money\n",
    "#Withdraw money (ensure the balance doesn't go negative) Use an if-else structure to handle the user's choices\n",
    "balance=10000\n",
    "pin=1234\n",
    "button=str(input(\"enter the button:\"))\n",
    "pin=int(input(\"enter your pin:\"))\n",
    "if(button=='a' and pin==1234):\n",
    "    print(\"check_balance:\",balance,end=' ')\n",
    "elif(button=='b' and pin==1234):\n",
    "    deposit_amount=int(input(\"enter your deposit_amount:\"))\n",
    "    print(\"your updated balance is:\",balance+deposit_amount)\n",
    "elif(button=='c' and pin==1234):\n",
    "    withdrawl_amount=int(input(\"enter your withdrawl_amount:\"))\n",
    "    print(\"your updated balance is:\",balance-withdrawl_amount)\n",
    "else:\n",
    "    print(\"enter the valid value\")"
   ]
  },
  {
   "cell_type": "code",
   "execution_count": 3,
   "id": "d7183cb6-c48f-4df3-b21d-656e69284e55",
   "metadata": {},
   "outputs": [
    {
     "name": "stdin",
     "output_type": "stream",
     "text": [
      "enter the number: 123\n"
     ]
    },
    {
     "name": "stdout",
     "output_type": "stream",
     "text": [
      "3\n",
      "2\n",
      "1\n"
     ]
    }
   ],
   "source": [
    "n=int(input(\"enter the number:\"))\n",
    "while(n>0):\n",
    "    digit=n%10\n",
    "    print(digit)\n",
    "    n=n//10"
   ]
  },
  {
   "cell_type": "code",
   "execution_count": null,
   "id": "a8de9430-c806-467a-a065-64d53c8d7311",
   "metadata": {},
   "outputs": [],
   "source": []
  }
 ],
 "metadata": {
  "kernelspec": {
   "display_name": "Python 3 (ipykernel)",
   "language": "python",
   "name": "python3"
  },
  "language_info": {
   "codemirror_mode": {
    "name": "ipython",
    "version": 3
   },
   "file_extension": ".py",
   "mimetype": "text/x-python",
   "name": "python",
   "nbconvert_exporter": "python",
   "pygments_lexer": "ipython3",
   "version": "3.12.4"
  }
 },
 "nbformat": 4,
 "nbformat_minor": 5
}
