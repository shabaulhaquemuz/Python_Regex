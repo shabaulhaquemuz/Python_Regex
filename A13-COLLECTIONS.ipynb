{
 "cells": [
  {
   "cell_type": "code",
   "execution_count": 3,
   "id": "e9420032-4856-4c87-953a-8b6c222f4901",
   "metadata": {},
   "outputs": [],
   "source": [
    "# Collections in Python\n",
    "# In Python, collections is a built-in module that provides specialized container datatypes—alternatives to Python’s general-purpose built-in containers like\n",
    "# list, dict, set, and tuple.\n",
    "\n",
    "# These specialized containers are optimized for specific tasks and provide additional functionality that makes certain programming patterns easier\n",
    "# and more efficient."
   ]
  },
  {
   "cell_type": "code",
   "execution_count": 9,
   "id": "68dac798-ae4c-467d-ae9b-d93dc0d90887",
   "metadata": {},
   "outputs": [
    {
     "name": "stdout",
     "output_type": "stream",
     "text": [
      "OrderedDict({'a': None, 'b': None, 'c': None, 'd': None, 'e': None})\n",
      "OrderedDict({10: 'abc'})\n"
     ]
    }
   ],
   "source": [
    "from collections import OrderedDict as o\n",
    "\n",
    "# create OrderedDict with default None values from keys\n",
    "d1 = o.fromkeys('abcde')\n",
    "print(d1)  # Output: OrderedDict([('a', None), ('b', None), ('c', None), ('d', None), ('e', None)])\n",
    "\n",
    "# create OrderedDict with custom key-value pair\n",
    "d2 = o({10: \"abc\"})\n",
    "print(d2)  # Output: OrderedDict([(10, 'abc')])\n"
   ]
  },
  {
   "cell_type": "code",
   "execution_count": 25,
   "id": "e4b72aa4-7415-406b-ba64-71ec88a75a52",
   "metadata": {},
   "outputs": [
    {
     "name": "stdout",
     "output_type": "stream",
     "text": [
      "jaipur\n",
      "kajal\n",
      "jaipur\n"
     ]
    }
   ],
   "source": [
    "from collections import namedtuple\n",
    "\n",
    "# Creating a namedtuple class called 'ids' with fields 'sname' and 'slocation'\n",
    "student = namedtuple(\"ids\", [\"sname\", \"slocation\"])\n",
    "\n",
    "# Creating an instance of the namedtuple\n",
    "s1 = student(\"kajal\", \"jaipur\")\n",
    "\n",
    "# Accessing the second field (slocation) using index\n",
    "print(s1[1])  # Output: jaipur\n",
    "print(s1.sname)\n",
    "print(s1.slocation)"
   ]
  },
  {
   "cell_type": "code",
   "execution_count": 21,
   "id": "6bde301b-420f-4d3b-8e07-794d4651c6b4",
   "metadata": {},
   "outputs": [
    {
     "name": "stdout",
     "output_type": "stream",
     "text": [
      "Deque after operations: deque([1, 2, 3])\n",
      "Popped from right: 4\n",
      "Popped from left: 0\n"
     ]
    }
   ],
   "source": [
    "#deque\n",
    "from collections import deque\n",
    "\n",
    "# Create a deque\n",
    "dq = deque([1, 2, 3])\n",
    "\n",
    "# Add elements to the right end\n",
    "dq.append(4)\n",
    "\n",
    "# Add elements to the left end\n",
    "dq.appendleft(0)\n",
    "\n",
    "# Remove elements from both ends\n",
    "right = dq.pop()         # removes 4\n",
    "left = dq.popleft()      # removes 0\n",
    "\n",
    "# Print deque\n",
    "print(\"Deque after operations:\", dq)  # Output: deque([1, 2, 3])\n",
    "\n",
    "# Print removed values\n",
    "print(\"Popped from right:\", right)    # Output: 4\n",
    "print(\"Popped from left:\", left)      # Output: 0\n"
   ]
  },
  {
   "cell_type": "code",
   "execution_count": 27,
   "id": "1e625707-6a4b-4960-9269-15ea591d22f5",
   "metadata": {},
   "outputs": [],
   "source": [
    "# | Operation          | Description                | Syntax                 |\n",
    "# | ------------------ | -------------------------- | ---------------------- |\n",
    "# | `append(x)`        | Add to right               | `dq.append(10)`        |\n",
    "# | `appendleft(x)`    | Add to left                | `dq.appendleft(5)`     |\n",
    "# | `pop()`            | Remove from right          | `dq.pop()`             |\n",
    "# | `popleft()`        | Remove from left           | `dq.popleft()`         |\n",
    "# | `extend([..])`     | Extend right with iterable | `dq.extend([4,5])`     |\n",
    "# | `extendleft([..])` | Extend left (in reverse)   | `dq.extendleft([4,5])` |\n"
   ]
  },
  {
   "cell_type": "code",
   "execution_count": 9,
   "id": "1d8876a3-d135-4092-8693-35ed3f3ee8a3",
   "metadata": {},
   "outputs": [
    {
     "name": "stdout",
     "output_type": "stream",
     "text": [
      "deque([6, 5, 4, 3, 20, 30, 40, 10])\n"
     ]
    }
   ],
   "source": [
    "from collections import deque\n",
    "\n",
    "# Proper deque initialization\n",
    "dqeu = deque([20, 30, 40, 10])\n",
    "\n",
    "# List to be extended from left\n",
    "l1 = [3, 4, 5, 6]\n",
    "\n",
    "# Extend to the left\n",
    "dqeu.extendleft(l1)\n",
    "\n",
    "# Print the deque\n",
    "print(dqeu)\n"
   ]
  },
  {
   "cell_type": "code",
   "execution_count": 11,
   "id": "b4863754-0ef6-447e-8d8f-8de9a6f0418f",
   "metadata": {},
   "outputs": [
    {
     "name": "stdout",
     "output_type": "stream",
     "text": [
      "deque(['shabaul', 3, 2, 10, 20, 30, 40])\n"
     ]
    }
   ],
   "source": [
    "from  collections import deque\n",
    "dqe=deque([10,20,30,40])\n",
    "l2=[2,3,\"shabaul\"]\n",
    "dqe.extendleft(l2)\n",
    "print(dqe)"
   ]
  },
  {
   "cell_type": "code",
   "execution_count": 17,
   "id": "e46ed96f-b748-4d58-91d6-e9f8dd7e944e",
   "metadata": {},
   "outputs": [
    {
     "name": "stdout",
     "output_type": "stream",
     "text": [
      "Adding 4 to the list\n",
      "[1, 2, 3, 4]\n"
     ]
    }
   ],
   "source": [
    "# What is UserList?\n",
    "#UserList is a special kind of list provided by the collections module, which allows you to customize\n",
    "#list behavior by subclassing it safely and predictably.\n",
    "\n",
    "# UserList is a special type of list that you can customize.\n",
    "# It's like a normal list, but you can add your own rules or change how it behaves.\n",
    "\n",
    "from collections import UserList\n",
    "\n",
    "class MyList(UserList):\n",
    "    def append(self, item):\n",
    "        print(f\"Adding {item} to the list\")\n",
    "        super().append(item)\n",
    "\n",
    "# Creating object\n",
    "ml = MyList([1, 2, 3])\n",
    "ml.append(4)      # Output: Adding 4 to the list\n",
    "print(ml)         # Output: [1, 2, 3, 4]\n",
    "\n",
    "\n",
    "# UserList is a class defined in the collections module.\n",
    "# It is used to create custom list-like objects.\n",
    "# You must import it to use it:\n",
    "# from collections import UserList\n"
   ]
  },
  {
   "cell_type": "code",
   "execution_count": null,
   "id": "cf55cb4a-4aea-4863-874b-d1a761fe2150",
   "metadata": {},
   "outputs": [],
   "source": []
  }
 ],
 "metadata": {
  "kernelspec": {
   "display_name": "Python 3 (ipykernel)",
   "language": "python",
   "name": "python3"
  },
  "language_info": {
   "codemirror_mode": {
    "name": "ipython",
    "version": 3
   },
   "file_extension": ".py",
   "mimetype": "text/x-python",
   "name": "python",
   "nbconvert_exporter": "python",
   "pygments_lexer": "ipython3",
   "version": "3.12.4"
  }
 },
 "nbformat": 4,
 "nbformat_minor": 5
}
