{
 "cells": [
  {
   "cell_type": "code",
   "execution_count": 1,
   "id": "ef36e81c-605b-4683-a424-a275ff7e6fc4",
   "metadata": {},
   "outputs": [
    {
     "name": "stdout",
     "output_type": "stream",
     "text": [
      "[1, 2, 3, 4]\n"
     ]
    }
   ],
   "source": [
    "list1 = [1, 2, 3]\n",
    "list2 = list1\n",
    "list1.append(4)\n",
    "print(list2)\n",
    "#Because list2 points to the same object as list1."
   ]
  },
  {
   "cell_type": "code",
   "execution_count": 3,
   "id": "bbf03f75-f9b1-460f-aeef-4328cfd7cc14",
   "metadata": {},
   "outputs": [
    {
     "name": "stdout",
     "output_type": "stream",
     "text": [
      "[[100], [2], [3]]\n"
     ]
    }
   ],
   "source": [
    "#2. Nested List Copy Trap\n",
    "import copy\n",
    "a = [[1], [2], [3]]\n",
    "b = a[:]\n",
    "b[0][0] = 100\n",
    "print(a)\n"
   ]
  },
  {
   "cell_type": "code",
   "execution_count": 5,
   "id": "8746328a-2dac-417a-9f64-f7de222578e7",
   "metadata": {},
   "outputs": [
    {
     "ename": "NameError",
     "evalue": "name 'i' is not defined",
     "output_type": "error",
     "traceback": [
      "\u001b[1;31m---------------------------------------------------------------------------\u001b[0m",
      "\u001b[1;31mNameError\u001b[0m                                 Traceback (most recent call last)",
      "Cell \u001b[1;32mIn[5], line 3\u001b[0m\n\u001b[0;32m      1\u001b[0m x \u001b[38;5;241m=\u001b[39m [\u001b[38;5;241m1\u001b[39m, \u001b[38;5;241m2\u001b[39m, \u001b[38;5;241m3\u001b[39m]\n\u001b[0;32m      2\u001b[0m y \u001b[38;5;241m=\u001b[39m [i\u001b[38;5;241m*\u001b[39m\u001b[38;5;241m*\u001b[39m\u001b[38;5;241m2\u001b[39m \u001b[38;5;28;01mfor\u001b[39;00m i \u001b[38;5;129;01min\u001b[39;00m x]\n\u001b[1;32m----> 3\u001b[0m \u001b[38;5;28mprint\u001b[39m(i)\n",
      "\u001b[1;31mNameError\u001b[0m: name 'i' is not defined"
     ]
    }
   ],
   "source": [
    "x = [1, 2, 3]\n",
    "y = [i**2 for i in x]\n",
    "print(i)\n",
    "# Error: NameError: name 'i' is not defined (in Python 3)\n",
    "# List comprehension creates its own local scope in Python 3, so i is not available outside."
   ]
  },
  {
   "cell_type": "code",
   "execution_count": 9,
   "id": "eb202cc5-04a5-48be-b3f5-c4c5d05f83a0",
   "metadata": {},
   "outputs": [
    {
     "data": {
      "text/plain": [
       "[1, 4, 9, 16, 25, 36, 49, 64]"
      ]
     },
     "execution_count": 9,
     "metadata": {},
     "output_type": "execute_result"
    }
   ],
   "source": [
    "a=[i**2 for i in range(1,9)]\n",
    "a\n",
    "#this is how list comprehension is created"
   ]
  },
  {
   "cell_type": "code",
   "execution_count": 25,
   "id": "b683cc67-199e-40e0-a365-20be467da78c",
   "metadata": {},
   "outputs": [
    {
     "name": "stdout",
     "output_type": "stream",
     "text": [
      "30\n"
     ]
    }
   ],
   "source": [
    "#Index vs Value Confusion\n",
    "a = [10, 20, 30, 40]\n",
    "print(a[a.index(30)])\n",
    "#Output: 30\n",
    "#a.index(30) returns the index of value 30 → 2, so a[2] = 30."
   ]
  },
  {
   "cell_type": "code",
   "execution_count": 21,
   "id": "a5d63b6a-3d97-4f8b-9f20-762b17e4e057",
   "metadata": {},
   "outputs": [
    {
     "name": "stdout",
     "output_type": "stream",
     "text": [
      "palindrome\n"
     ]
    }
   ],
   "source": [
    "numbers = [1, 2, 3, 2, 1]\n",
    "start=0\n",
    "end=len(numbers)-1\n",
    "count=0\n",
    "while(start<len(numbers)//2):\n",
    "    if(numbers[start]!=numbers[end]):\n",
    "        count=1\n",
    "        break\n",
    "    start+=1\n",
    "    end-=1\n",
    "if(count==0):\n",
    "    print(\"palindrome\")\n",
    "else:\n",
    "    print(\"non-palindrome\")"
   ]
  },
  {
   "cell_type": "code",
   "execution_count": 15,
   "id": "c01b86fb-4a78-4868-b67d-c101f95c9d7e",
   "metadata": {},
   "outputs": [
    {
     "data": {
      "text/plain": [
       "2"
      ]
     },
     "execution_count": 15,
     "metadata": {},
     "output_type": "execute_result"
    }
   ],
   "source": [
    "5//2"
   ]
  },
  {
   "cell_type": "code",
   "execution_count": null,
   "id": "276bc268-d94f-484b-85b5-619358429889",
   "metadata": {},
   "outputs": [],
   "source": []
  }
 ],
 "metadata": {
  "kernelspec": {
   "display_name": "Python 3 (ipykernel)",
   "language": "python",
   "name": "python3"
  },
  "language_info": {
   "codemirror_mode": {
    "name": "ipython",
    "version": 3
   },
   "file_extension": ".py",
   "mimetype": "text/x-python",
   "name": "python",
   "nbconvert_exporter": "python",
   "pygments_lexer": "ipython3",
   "version": "3.12.4"
  }
 },
 "nbformat": 4,
 "nbformat_minor": 5
}
