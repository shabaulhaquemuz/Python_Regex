{
 "cells": [
  {
   "cell_type": "code",
   "execution_count": 29,
   "id": "a9c0c6c6-d287-48ed-934c-9addc5b64acb",
   "metadata": {},
   "outputs": [
    {
     "name": "stdout",
     "output_type": "stream",
     "text": [
      "Available balance: 7000\n",
      "Balance after interest: 7350.0\n"
     ]
    }
   ],
   "source": [
    "class BankAccountopen:\n",
    "    def __init__(self, accountno, accountName, balance=0, interest=5):\n",
    "        self.accountno = accountno\n",
    "        self.accountName = accountName\n",
    "        self._balance = balance         # ✅ changed to _balance\n",
    "        self.interest = interest        # ✅ interest stored\n",
    "\n",
    "    def deposit(self, amount):\n",
    "        if amount > 0:\n",
    "            self._balance += amount\n",
    "        else:\n",
    "            print(\"Amount is less than zero or negative\")\n",
    "\n",
    "    def withdraw(self, amount):\n",
    "        if amount <= self._balance:\n",
    "            self._balance -= amount\n",
    "        else:\n",
    "            print(\"Insufficient balance\")\n",
    "\n",
    "    @property\n",
    "    def showamount(self):\n",
    "        return self._balance\n",
    "\n",
    "class SavingAccount(BankAccountopen):\n",
    "    def __init__(self, accountno, accountName, balance):\n",
    "        if balance >= 5000:\n",
    "            super().__init__(accountno, accountName, balance)\n",
    "        else:\n",
    "            raise ValueError(\"You don't have enough amount to open a saving account\")\n",
    "\n",
    "    def interest_apply(self):\n",
    "        self._balance += (self._balance * self.interest) / 100  # ✅ access _balance & interest\n",
    "        return self._balance\n",
    "\n",
    "# Test\n",
    "sa1 = SavingAccount(67890, \"shabaul\", 5000)\n",
    "sa1.deposit(2000)\n",
    "print(\"Available balance:\", sa1.showamount)\n",
    "\n",
    "sa1.interest_apply()\n",
    "print(\"Balance after interest:\", sa1.showamount)\n"
   ]
  },
  {
   "cell_type": "code",
   "execution_count": null,
   "id": "842b6f2d-f1bb-4928-8c99-872dacd697f9",
   "metadata": {},
   "outputs": [],
   "source": [
    "#Corey Schafer Python\n",
    "#logging\n",
    "#unit testing\n",
    "#python turtorial: if __name__==\"__main__\""
   ]
  }
 ],
 "metadata": {
  "kernelspec": {
   "display_name": "Python 3 (ipykernel)",
   "language": "python",
   "name": "python3"
  },
  "language_info": {
   "codemirror_mode": {
    "name": "ipython",
    "version": 3
   },
   "file_extension": ".py",
   "mimetype": "text/x-python",
   "name": "python",
   "nbconvert_exporter": "python",
   "pygments_lexer": "ipython3",
   "version": "3.12.4"
  }
 },
 "nbformat": 4,
 "nbformat_minor": 5
}
