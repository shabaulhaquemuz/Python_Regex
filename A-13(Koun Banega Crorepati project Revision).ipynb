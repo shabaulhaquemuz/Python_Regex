{
 "cells": [
  {
   "cell_type": "code",
   "execution_count": 3,
   "id": "70f5fe1b-399e-4c1b-8736-3ca8d778a0d0",
   "metadata": {},
   "outputs": [
    {
     "name": "stdout",
     "output_type": "stream",
     "text": [
      "{'total': 4}\n"
     ]
    }
   ],
   "source": [
    "s=\"raj5\"\n",
    "d={\"total\":0}\n",
    "for i in s:\n",
    "    d[\"total\"]+=1\n",
    "print(d)"
   ]
  },
  {
   "cell_type": "code",
   "execution_count": 5,
   "id": "61a8e091-5fb0-4e57-a3cd-18d0ea3ff791",
   "metadata": {},
   "outputs": [
    {
     "name": "stdout",
     "output_type": "stream",
     "text": [
      "{'a': 1, 'b': 1, 'c': 1}\n"
     ]
    }
   ],
   "source": [
    "S=\"abc\"\n",
    "d1={}\n",
    "for i in S:\n",
    "    d1[i]=1\n",
    "print(d1)\n",
    "    "
   ]
  },
  {
   "cell_type": "code",
   "execution_count": 7,
   "id": "3e78f900-a208-42bb-8f19-7405009ae891",
   "metadata": {},
   "outputs": [
    {
     "name": "stdout",
     "output_type": "stream",
     "text": [
      "[2, 4, 5, 10, 30, 40]\n"
     ]
    }
   ],
   "source": [
    "  "
   ]
  },
  {
   "cell_type": "code",
   "execution_count": 17,
   "id": "1cf578a7-b5b5-49e5-a912-b2333f626c68",
   "metadata": {},
   "outputs": [
    {
     "name": "stdout",
     "output_type": "stream",
     "text": [
      "[40, 30, 10, 5, 4, 2]\n"
     ]
    }
   ],
   "source": [
    "#descending order sort\n",
    "mylist=[10,2,30,40,5,4]\n",
    "start=0\n",
    "while(start<len(mylist)-1):\n",
    "    if(mylist[start]<mylist[start+1]):\n",
    "        mylist[start],mylist[start+1]=mylist[start+1],mylist[start]\n",
    "        start=0\n",
    "    else:\n",
    "        start+=1\n",
    "print(mylist)"
   ]
  },
  {
   "cell_type": "code",
   "execution_count": 25,
   "id": "42d1837c-b297-482f-bf81-3b648443a778",
   "metadata": {},
   "outputs": [
    {
     "name": "stdout",
     "output_type": "stream",
     "text": [
      "{1: ['shabaul', 'shabaul@gmail.com']}\n",
      "['shabaul', 'shabaul@gmail.com']\n"
     ]
    }
   ],
   "source": [
    "d2={1:[\"shabaul\",\"shabaul@gmail.com\"]}\n",
    "print(d2)\n",
    "print(d2[1])"
   ]
  },
  {
   "cell_type": "code",
   "execution_count": null,
   "id": "7d30c660-e299-4a48-ad5a-5dca99333523",
   "metadata": {},
   "outputs": [
    {
     "name": "stdout",
     "output_type": "stream",
     "text": [
      "Welcome to Koun Banega Crorepati\n",
      "The 1 question for money 10000 is in front of you\n",
      "What is the national animal of India?\n",
      "A.Lion\n",
      "B.Peacock\n",
      "C.Tiger\n",
      "D.Dog\n"
     ]
    }
   ],
   "source": [
    "#kon banega crorepati project\n",
    "questionbank=[{\"Question\":\"What is the national animal of India?\",\n",
    "             \"option\":[\"A.Lion\", \"B.Peacock\", \"C.Tiger\", \"D.Dog\"  ],\n",
    "             \"Ans\":\"C\"},\n",
    "             {\"Question\":\"Who is the father of Nation?\",\n",
    "             \"option\":[\"A.Rabindra Nath Tagore\", \"B.Shahrukh khan\", \"C.salman khan\", \"D.Mahatma gandhi\"  ],\n",
    "             \"Ans\":\"D\"}]\n",
    "print(\"Welcome to Koun Banega Crorepati\")\n",
    "totalwinning=0\n",
    "prizemoney=[10000,25000]\n",
    "for i,q in enumerate(questionbank):# i gives index , j gives value\n",
    "    print(f\"The {i+1} question for money {prizemoney[i]} is in front of you\")\n",
    "    print(q[\"Question\"])\n",
    "    for option in q[\"option\"]:\n",
    "        print(option)\n",
    "        \n",
    "    user_input=input(\"Choose any one option: A,B,C,D: or press Q for Quit\")\n",
    "    user_input=user_input.upper()\n",
    "    if(user_input==\"Q\"):\n",
    "        print(f\"Thank you for playing and you won {totalwinning} rupaye\")\n",
    "        break\n",
    "    if(user_input==q[\"Ans\"]):\n",
    "        totalwinning+=prizemoney[i]\n",
    "        print(f\"Kya baat aap jeet chuke hain {totalwinning}\")\n",
    "    else:\n",
    "        print(\"uff answer galat hai, GAME OVER!!\")\n",
    "        totalwinning=0\n",
    "        break\n",
    "    "
   ]
  },
  {
   "cell_type": "code",
   "execution_count": null,
   "id": "60173dbf-b476-40ed-b5e3-e72de6413ab7",
   "metadata": {},
   "outputs": [],
   "source": []
  }
 ],
 "metadata": {
  "kernelspec": {
   "display_name": "Python 3 (ipykernel)",
   "language": "python",
   "name": "python3"
  },
  "language_info": {
   "codemirror_mode": {
    "name": "ipython",
    "version": 3
   },
   "file_extension": ".py",
   "mimetype": "text/x-python",
   "name": "python",
   "nbconvert_exporter": "python",
   "pygments_lexer": "ipython3",
   "version": "3.12.4"
  }
 },
 "nbformat": 4,
 "nbformat_minor": 5
}
