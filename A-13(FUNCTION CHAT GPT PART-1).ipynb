{
 "cells": [
  {
   "cell_type": "code",
   "execution_count": 1,
   "id": "329cd6ed-6a83-4ce8-83c8-5669c4eb9e06",
   "metadata": {},
   "outputs": [],
   "source": [
    "# ✅ Section 1: Basics of Functions (Q1–5)\n",
    "# 1.Write a function that prints \"Hello, World!\". Call it twice.\n",
    "\n",
    "# 2.Create a function that takes two numbers as parameters and returns their sum.\n",
    "\n",
    "# 3.Write a function with a default argument that greets a user.\n",
    "\n",
    "# 4.Write a function that returns the square of a number.\n",
    "\n",
    "# 5.Create a function that accepts no arguments and returns your name as a string.\n",
    "\n",
    "#Q6. Write a function that takes a name and age as positional arguments and prints:\n",
    "\n",
    "#Q7. Write a function called power(x, y=2) that returns x raised to the power y.\n",
    "#Test it by calling it with one and two arguments.\n",
    "\n"
   ]
  },
  {
   "cell_type": "code",
   "execution_count": 7,
   "id": "9eee7b3d-5663-4225-96dd-effd4c8b6f8d",
   "metadata": {},
   "outputs": [
    {
     "name": "stdout",
     "output_type": "stream",
     "text": [
      "Hello, World!\n",
      "Hello, World!\n"
     ]
    }
   ],
   "source": [
    "# 1.Write a function that prints \"Hello, World!\". Call it twice.\n",
    "def greet():\n",
    "    print(\"Hello, World!\")\n",
    "greet()\n",
    "greet()"
   ]
  },
  {
   "cell_type": "code",
   "execution_count": 9,
   "id": "ed5fd3b3-ce58-47ff-8cdb-1dff4cc37397",
   "metadata": {},
   "outputs": [
    {
     "data": {
      "text/plain": [
       "5"
      ]
     },
     "execution_count": 9,
     "metadata": {},
     "output_type": "execute_result"
    }
   ],
   "source": [
    "# 2.Create a function that takes two numbers as parameters and returns their sum.\n",
    "def sum(a,b):\n",
    "    return a+b\n",
    "sum(2,3)"
   ]
  },
  {
   "cell_type": "code",
   "execution_count": 15,
   "id": "bba28162-e165-413d-900d-9d4b47ec059a",
   "metadata": {},
   "outputs": [
    {
     "name": "stdout",
     "output_type": "stream",
     "text": [
      "hello user!!\n"
     ]
    }
   ],
   "source": [
    "# 3.Write a function with a default argument that greets a user.\n",
    "def greeting(a=\"hello user!!\"):\n",
    "    print(a)\n",
    "greeting()"
   ]
  },
  {
   "cell_type": "code",
   "execution_count": 17,
   "id": "a187d2fc-8933-4e4f-b59e-0ba0511d8ff6",
   "metadata": {},
   "outputs": [
    {
     "data": {
      "text/plain": [
       "16"
      ]
     },
     "execution_count": 17,
     "metadata": {},
     "output_type": "execute_result"
    }
   ],
   "source": [
    "# 4.Write a function that returns the square of a number.\n",
    "def square_num(num):\n",
    "    return num**2\n",
    "square_num(4)"
   ]
  },
  {
   "cell_type": "code",
   "execution_count": 25,
   "id": "bef30567-71f5-4d6e-aee7-c4cb0b3615f6",
   "metadata": {},
   "outputs": [
    {
     "data": {
      "text/plain": [
       "'saif'"
      ]
     },
     "execution_count": 25,
     "metadata": {},
     "output_type": "execute_result"
    }
   ],
   "source": [
    "# 5.Create a function that accepts no arguments and returns your name as a string.\n",
    "def name():\n",
    "    return \"saif\"\n",
    "name()"
   ]
  },
  {
   "cell_type": "code",
   "execution_count": 27,
   "id": "b567bebc-cc46-4c9f-85e9-65a919d2d761",
   "metadata": {},
   "outputs": [
    {
     "name": "stdout",
     "output_type": "stream",
     "text": [
      "My name is Alice and I am 25 years old\n"
     ]
    }
   ],
   "source": [
    "#Q6. Write a function that takes a name and age as positional arguments and prints:\"My name is Alice and I am 25 years old.\"\n",
    "def detail(name,age):\n",
    "    print(\"My name is\",name,\"and I am\",age,\"years old\")\n",
    "detail(\"Alice\",25)"
   ]
  },
  {
   "cell_type": "code",
   "execution_count": 29,
   "id": "1ba412ce-7cdb-4839-9975-23171bee7750",
   "metadata": {},
   "outputs": [
    {
     "data": {
      "text/plain": [
       "16"
      ]
     },
     "execution_count": 29,
     "metadata": {},
     "output_type": "execute_result"
    }
   ],
   "source": [
    "#Q7. Write a function called power(x, y=2) that returns x raised to the power y.\n",
    "#Test it by calling it with one and two arguments.\n",
    "y=2\n",
    "def power(x):\n",
    "    return x**y\n",
    "power(4)\n",
    "    "
   ]
  },
  {
   "cell_type": "code",
   "execution_count": 31,
   "id": "a1d75520-7f6e-4a3e-a38f-e5cc2e4c5780",
   "metadata": {},
   "outputs": [
    {
     "data": {
      "text/plain": [
       "16"
      ]
     },
     "execution_count": 31,
     "metadata": {},
     "output_type": "execute_result"
    }
   ],
   "source": [
    "def power(x,y):\n",
    "    return x**y\n",
    "power(4,2)"
   ]
  },
  {
   "cell_type": "code",
   "execution_count": 33,
   "id": "81cbacf8-d633-4b72-b241-1f3fa7c08f75",
   "metadata": {},
   "outputs": [
    {
     "data": {
      "text/plain": [
       "16"
      ]
     },
     "execution_count": 33,
     "metadata": {},
     "output_type": "execute_result"
    }
   ],
   "source": [
    "#corrected version of above question, above logic is also correct. but question criteria does not fulfilled\n",
    "def power(x,y=2):\n",
    "    return x**y\n",
    "power(4)"
   ]
  },
  {
   "cell_type": "code",
   "execution_count": 43,
   "id": "a4cb4558-bdff-4f52-9e1c-8c6cceec0bfc",
   "metadata": {},
   "outputs": [
    {
     "ename": "NameError",
     "evalue": "name 'z' is not defined",
     "output_type": "error",
     "traceback": [
      "\u001b[1;31m---------------------------------------------------------------------------\u001b[0m",
      "\u001b[1;31mNameError\u001b[0m                                 Traceback (most recent call last)",
      "Cell \u001b[1;32mIn[43], line 4\u001b[0m\n\u001b[0;32m      2\u001b[0m \u001b[38;5;28;01mdef\u001b[39;00m \u001b[38;5;21mpower\u001b[39m(x,z\u001b[38;5;241m=\u001b[39m\u001b[38;5;241m2\u001b[39m):\n\u001b[0;32m      3\u001b[0m     \u001b[38;5;28;01mreturn\u001b[39;00m x\u001b[38;5;241m*\u001b[39m\u001b[38;5;241m*\u001b[39mz\n\u001b[1;32m----> 4\u001b[0m power(\u001b[38;5;241m4\u001b[39m,z)\n",
      "\u001b[1;31mNameError\u001b[0m: name 'z' is not defined"
     ]
    }
   ],
   "source": [
    "# when you have defined default parameter, argument cannot contain variable , should always contain number or value of variable in parameter\n",
    "def power(x,z=2):\n",
    "    return x**z\n",
    "power(4,z)"
   ]
  },
  {
   "cell_type": "code",
   "execution_count": 45,
   "id": "2511ad5a-55fa-457d-9139-d10d5c3fa4c4",
   "metadata": {},
   "outputs": [
    {
     "data": {
      "text/plain": [
       "16"
      ]
     },
     "execution_count": 45,
     "metadata": {},
     "output_type": "execute_result"
    }
   ],
   "source": [
    "def power(x,z=2):\n",
    "    return x**z\n",
    "power(4,2)"
   ]
  },
  {
   "cell_type": "code",
   "execution_count": 47,
   "id": "79899a90-fcc1-48b8-ac49-cf919abdf396",
   "metadata": {},
   "outputs": [
    {
     "name": "stdout",
     "output_type": "stream",
     "text": [
      "<function power at 0x000001E405447380>\n"
     ]
    }
   ],
   "source": [
    "print(power)"
   ]
  },
  {
   "cell_type": "code",
   "execution_count": 49,
   "id": "ffc7c935-b04b-453e-a7a7-6c96e31981ac",
   "metadata": {},
   "outputs": [
    {
     "name": "stdout",
     "output_type": "stream",
     "text": [
      "25\n"
     ]
    }
   ],
   "source": [
    "print(power(5,2))"
   ]
  },
  {
   "cell_type": "code",
   "execution_count": null,
   "id": "ebcf09f5-27b3-4f45-831e-774daa345d49",
   "metadata": {},
   "outputs": [],
   "source": []
  }
 ],
 "metadata": {
  "kernelspec": {
   "display_name": "Python 3 (ipykernel)",
   "language": "python",
   "name": "python3"
  },
  "language_info": {
   "codemirror_mode": {
    "name": "ipython",
    "version": 3
   },
   "file_extension": ".py",
   "mimetype": "text/x-python",
   "name": "python",
   "nbconvert_exporter": "python",
   "pygments_lexer": "ipython3",
   "version": "3.12.4"
  }
 },
 "nbformat": 4,
 "nbformat_minor": 5
}
