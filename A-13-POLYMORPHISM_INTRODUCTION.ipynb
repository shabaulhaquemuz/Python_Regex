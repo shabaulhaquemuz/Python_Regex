{
 "cells": [
  {
   "cell_type": "code",
   "execution_count": 15,
   "id": "452de226-0183-4ba5-884d-825546e2338d",
   "metadata": {},
   "outputs": [
    {
     "name": "stdout",
     "output_type": "stream",
     "text": [
      "Bird flies in the sky\n",
      "Airplane flies high and fast\n"
     ]
    }
   ],
   "source": [
    "# Polymorphism:\n",
    "# Polymorphism means one thing behaves in many ways.\n",
    "# In programming, it means the same function or method name can do different things depending on the object calling it.\n",
    "class Bird:\n",
    "    def fly(self):\n",
    "        print(\"Bird flies in the sky\")\n",
    "\n",
    "class Airplane:\n",
    "    def fly(self):\n",
    "        print(\"Airplane flies high and fast\")\n",
    "\n",
    "# Polymorphism in action\n",
    "for obj in [Bird(), Airplane()]:\n",
    "    obj.fly()\n"
   ]
  },
  {
   "cell_type": "code",
   "execution_count": 19,
   "id": "e28da12a-166e-46bf-b4a2-8f14db539b0d",
   "metadata": {},
   "outputs": [],
   "source": [
    "# class ApplicationOwner:\n",
    "#     def __init__(self,owner_name,owner_id,owner_email):\n",
    "#         self.owner_name=owner_name\n",
    "#         self.owner_id=owner_id\n",
    "#         self.owner_email=owner_email\n",
    "        \n",
    "# class Customer:\n",
    "#     def __init__(self,customer_name,customer_id,customer_email):\n",
    "#         self.customer_name=customer_name\n",
    "#         self.customer_id=customer_id\n",
    "#         self.customer_email=customer_email\n",
    "        \n",
    "        \n",
    "\n"
   ]
  },
  {
   "cell_type": "code",
   "execution_count": 31,
   "id": "c99abc51-b388-42ff-9b60-471c2b15b3cf",
   "metadata": {},
   "outputs": [
    {
     "data": {
      "text/plain": [
       "'shabaul'"
      ]
     },
     "execution_count": 31,
     "metadata": {},
     "output_type": "execute_result"
    }
   ],
   "source": [
    "class ApplicationOwner:\n",
    "    def __init__(self,owner_name,owner_id,owner_email):\n",
    "        self.owner_name=owner_name\n",
    "        self.owner_id=owner_id\n",
    "        self.owner_email=owner_email\n",
    "class Customer(ApplicationOwner):\n",
    "    def __init__(self):\n",
    "        super().__init__(\"shabaul\",1,\"shabaul@gmail.com\")\n",
    "a=Customer()\n",
    "a.owner_name\n"
   ]
  },
  {
   "cell_type": "code",
   "execution_count": 33,
   "id": "fa7c96d4-8ab9-42cf-a220-5c6ca4dde759",
   "metadata": {},
   "outputs": [
    {
     "data": {
      "text/plain": [
       "1"
      ]
     },
     "execution_count": 33,
     "metadata": {},
     "output_type": "execute_result"
    }
   ],
   "source": [
    "a.owner_id"
   ]
  },
  {
   "cell_type": "code",
   "execution_count": 35,
   "id": "70d368b9-2064-4c55-932e-b6756fb4d8a8",
   "metadata": {},
   "outputs": [
    {
     "data": {
      "text/plain": [
       "'shabaul@gmail.com'"
      ]
     },
     "execution_count": 35,
     "metadata": {},
     "output_type": "execute_result"
    }
   ],
   "source": [
    "a.owner_email"
   ]
  },
  {
   "cell_type": "code",
   "execution_count": 49,
   "id": "43b32ba5-a7a3-4fdb-83f7-ecf94117bcb3",
   "metadata": {},
   "outputs": [
    {
     "data": {
      "text/plain": [
       "'cname'"
      ]
     },
     "execution_count": 49,
     "metadata": {},
     "output_type": "execute_result"
    }
   ],
   "source": [
    "class ApplicationOwner:\n",
    "    def __init__(self,owner_name,owner_id,owner_email):\n",
    "        self.owner_name=owner_name\n",
    "        self.owner_id=owner_id\n",
    "        self.owner_email=owner_email\n",
    "class Customer(ApplicationOwner):\n",
    "    def __init__(self,cname,cid,cemail):\n",
    "        super().__init__(\"cname\",\"cid\",\"cemail\")\n",
    "        def info(self)\n",
    "a=Customer(\"shabaul\",1,\"shabaul@gmail.com\")\n",
    "a.owner_name\n",
    "\n"
   ]
  },
  {
   "cell_type": "code",
   "execution_count": 61,
   "id": "f43e9574-5e21-499c-9237-fd144dfc392e",
   "metadata": {},
   "outputs": [
    {
     "name": "stdout",
     "output_type": "stream",
     "text": [
      "3\n",
      "4\n"
     ]
    }
   ],
   "source": [
    "class Add_numbers:\n",
    "    def __init__(self,num1,num2):\n",
    "        self.num1=num1\n",
    "        self.num2=num2\n",
    "obj1=Add_numbers(3,4)\n",
    "print(obj1.num1)\n",
    "print(obj1.num2)"
   ]
  },
  {
   "cell_type": "code",
   "execution_count": 11,
   "id": "57f13dc9-aa6f-4db7-a874-ab94339d925e",
   "metadata": {},
   "outputs": [
    {
     "name": "stdout",
     "output_type": "stream",
     "text": [
      "calling + on a1 and a2 \n"
     ]
    }
   ],
   "source": [
    "class Add_numbers:\n",
    "    def __init__(self,num1,num2):\n",
    "        self.num1=num1\n",
    "        self.num2=num2\n",
    "    def __add__(self,x):\n",
    "        print(\"calling + on a1 and a2 \")\n",
    "obj1=Add_numbers(3,4)\n",
    "obj2=Add_numbers(6,7)\n",
    "obj3=obj1+obj2"
   ]
  },
  {
   "cell_type": "code",
   "execution_count": null,
   "id": "cfd2b118-d39e-4790-b217-ac27723a8f84",
   "metadata": {},
   "outputs": [],
   "source": [
    "#Types of achieving polymorphism:\n",
    "# 1.operator overloading\n",
    "# 2.method overriding"
   ]
  }
 ],
 "metadata": {
  "kernelspec": {
   "display_name": "Python 3 (ipykernel)",
   "language": "python",
   "name": "python3"
  },
  "language_info": {
   "codemirror_mode": {
    "name": "ipython",
    "version": 3
   },
   "file_extension": ".py",
   "mimetype": "text/x-python",
   "name": "python",
   "nbconvert_exporter": "python",
   "pygments_lexer": "ipython3",
   "version": "3.12.4"
  }
 },
 "nbformat": 4,
 "nbformat_minor": 5
}
