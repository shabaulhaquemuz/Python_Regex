{
 "cells": [
  {
   "cell_type": "code",
   "execution_count": 23,
   "id": "16f989c0-cf60-4cbe-9244-feb7c973f04b",
   "metadata": {},
   "outputs": [
    {
     "name": "stdout",
     "output_type": "stream",
     "text": [
      "kho\n",
      "kho\n",
      "symmetric\n"
     ]
    }
   ],
   "source": [
    "#To check if the given string is symmetric or not\n",
    "n='khokho'\n",
    "length=len(n)\n",
    "str1=''\n",
    "for i in range(0,length//2):\n",
    "    str1+=n[i]\n",
    "str2=''\n",
    "for j in range(length//2,length):\n",
    "    str2+=n[j]\n",
    "print(str1)\n",
    "print(str2)\n",
    "if(str1==str2):\n",
    "    print(\"symmetric\")\n",
    "else:\n",
    "    print(\"assymetric\")"
   ]
  },
  {
   "cell_type": "code",
   "execution_count": 32,
   "id": "4e4351da-cd50-480d-b8d4-cbefd17e2533",
   "metadata": {},
   "outputs": [
    {
     "name": "stdout",
     "output_type": "stream",
     "text": [
      "re\n",
      "gex\n",
      "assymetric\n"
     ]
    }
   ],
   "source": [
    "n='regex'\n",
    "length=len(n)\n",
    "str3=''\n",
    "for i in range(0,length//2):\n",
    "    str3+=n[i]\n",
    "str4=''\n",
    "for j in range(length//2,length):\n",
    "    str4+=n[j]\n",
    "print(str3)\n",
    "print(str4)\n",
    "if(str3==str4):\n",
    "    print(\"symmetric\")\n",
    "else:\n",
    "    print(\"assymetric\")"
   ]
  },
  {
   "cell_type": "code",
   "execution_count": null,
   "id": "6c69807f-3d35-4d8a-ab91-707a20b87172",
   "metadata": {},
   "outputs": [],
   "source": []
  }
 ],
 "metadata": {
  "kernelspec": {
   "display_name": "Python 3 (ipykernel)",
   "language": "python",
   "name": "python3"
  },
  "language_info": {
   "codemirror_mode": {
    "name": "ipython",
    "version": 3
   },
   "file_extension": ".py",
   "mimetype": "text/x-python",
   "name": "python",
   "nbconvert_exporter": "python",
   "pygments_lexer": "ipython3",
   "version": "3.12.4"
  }
 },
 "nbformat": 4,
 "nbformat_minor": 5
}
