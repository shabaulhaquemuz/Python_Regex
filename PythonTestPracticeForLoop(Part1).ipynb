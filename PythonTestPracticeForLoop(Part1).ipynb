{
 "cells": [
  {
   "cell_type": "code",
   "execution_count": 3,
   "id": "47adf5ee-c7e9-4c56-84d2-6866502847d7",
   "metadata": {},
   "outputs": [
    {
     "name": "stdin",
     "output_type": "stream",
     "text": [
      "enter the value of n 6\n"
     ]
    },
    {
     "name": "stdout",
     "output_type": "stream",
     "text": [
      "1\n",
      "2\n",
      "3\n",
      "4\n",
      "5\n",
      "6\n"
     ]
    }
   ],
   "source": [
    "#1. Write a program to print all natural numbers from 1 to n. – using while\n",
    "#loop\n",
    "n=int(input(\"enter the value of n\"))\n",
    "for i in range(1,n+1):\n",
    "    print(i)\n"
   ]
  },
  {
   "cell_type": "code",
   "execution_count": 7,
   "id": "95e46463-013d-4dd4-9bc3-e2d04565b2db",
   "metadata": {},
   "outputs": [
    {
     "name": "stdin",
     "output_type": "stream",
     "text": [
      "enter the value of n 6\n"
     ]
    },
    {
     "name": "stdout",
     "output_type": "stream",
     "text": [
      "6\n",
      "5\n",
      "4\n",
      "3\n",
      "2\n",
      "1\n"
     ]
    }
   ],
   "source": [
    "#Write a program to print all natural numbers in reverse (from n to 1).\n",
    "n=int(input(\"enter the value of n\"))\n",
    "for i in range(n,0,-1):\n",
    "    print(i)"
   ]
  },
  {
   "cell_type": "code",
   "execution_count": 19,
   "id": "9b061e13-73cf-46d8-a6ea-9b6de2cbbdf2",
   "metadata": {},
   "outputs": [
    {
     "name": "stdout",
     "output_type": "stream",
     "text": [
      "a b c d e f g h i j k l m n o p q r s t u v w x y z "
     ]
    }
   ],
   "source": [
    "#Write a program to print all alphabets from a to z.\n",
    "for char in range(ord('a'),ord('z')+1):\n",
    "    print(chr(char),end=' ')"
   ]
  },
  {
   "cell_type": "code",
   "execution_count": 25,
   "id": "2cdd5d2e-e9b0-4edd-b708-c818cbe05fea",
   "metadata": {},
   "outputs": [
    {
     "name": "stdout",
     "output_type": "stream",
     "text": [
      "2 4 6 8 10 12 14 16 18 20 22 24 26 28 30 32 34 36 38 40 42 44 46 48 50 52 54 56 58 60 62 64 66 68 70 72 74 76 78 80 82 84 86 88 90 92 94 96 98 "
     ]
    }
   ],
   "source": [
    "#4. Write a program to print all even numbers between 1 to 100. – using\n",
    "#while loop\n",
    "for i in range(1,100):\n",
    "    if(i%2==0):\n",
    "        print(i,end=' ')"
   ]
  },
  {
   "cell_type": "code",
   "execution_count": 44,
   "id": "29c5c30c-63fb-4828-85db-a103c803e953",
   "metadata": {},
   "outputs": [
    {
     "name": "stdin",
     "output_type": "stream",
     "text": [
      "enter the value of n 9\n"
     ]
    },
    {
     "name": "stdout",
     "output_type": "stream",
     "text": [
      "25\n"
     ]
    }
   ],
   "source": [
    "#5. Write a program to find the sum of all odd numbers between 1 to n.\n",
    "n=int(input(\"enter the value of n\"))\n",
    "sum=0\n",
    "for i in range(1,n+1):\n",
    "    if(i%2!=0):\n",
    "        sum=sum+i\n",
    "\n",
    "print(sum)"
   ]
  },
  {
   "cell_type": "code",
   "execution_count": 14,
   "id": "d983cfed-ef03-4d40-8eb1-31723237eb0e",
   "metadata": {},
   "outputs": [
    {
     "name": "stdin",
     "output_type": "stream",
     "text": [
      "enter the number 5432432\n"
     ]
    },
    {
     "name": "stdout",
     "output_type": "stream",
     "text": [
      "7\n"
     ]
    }
   ],
   "source": [
    "#6. Write a program to count the number of digits in a number.\n",
    "n=int(input(\"enter the number\"))\n",
    "count=0\n",
    "if(n==0):\n",
    "    count=1\n",
    "\n",
    "else:\n",
    "    length=len(str(n))\n",
    "    for i in range(length):\n",
    "        digit=n%10\n",
    "        count+=1\n",
    "        n//=10\n",
    "\n",
    "print(count)"
   ]
  },
  {
   "cell_type": "code",
   "execution_count": 78,
   "id": "241e9c99-611c-4d77-bdaf-3c466ac22e17",
   "metadata": {},
   "outputs": [
    {
     "name": "stdin",
     "output_type": "stream",
     "text": [
      "enter the number: -123\n"
     ]
    },
    {
     "name": "stdout",
     "output_type": "stream",
     "text": [
      "6\n"
     ]
    }
   ],
   "source": [
    "#7. Write a program to calculate the sum of digits of a number.\n",
    "n=int(input(\"enter the number:\"))\n",
    "sum=0\n",
    "n=abs(n)\n",
    "for i in range(n):\n",
    "    digit=n%10\n",
    "    sum+=digit\n",
    "    n=n//10\n",
    "print(sum)"
   ]
  },
  {
   "cell_type": "code",
   "execution_count": 18,
   "id": "9cdb3e43-a1ce-4fcd-a89d-57cc4aa8ebac",
   "metadata": {},
   "outputs": [
    {
     "name": "stdin",
     "output_type": "stream",
     "text": [
      "enter the number: 543\n"
     ]
    },
    {
     "name": "stdout",
     "output_type": "stream",
     "text": [
      "last_digit: 3 first_digit: 5 "
     ]
    }
   ],
   "source": [
    "#Write a program to find the first and last digit of a number.\n",
    "n=int(input(\"enter the number:\"))\n",
    "last_digit=n%10\n",
    "n=abs(n)\n",
    "length=len(str(n))\n",
    "for i in range(length):\n",
    "    if(n>=10):\n",
    "        n=n//10\n",
    "print(\"last_digit:\",last_digit,end=' ')\n",
    "print(\"first_digit:\",n,end=' ')\n",
    "    "
   ]
  },
  {
   "cell_type": "code",
   "execution_count": 110,
   "id": "30e5de8c-e763-4351-8511-5e3cdfd1226a",
   "metadata": {},
   "outputs": [
    {
     "name": "stdin",
     "output_type": "stream",
     "text": [
      "enter the number: -9876\n"
     ]
    },
    {
     "name": "stdout",
     "output_type": "stream",
     "text": [
      "first_digit: 9 \n",
      "last_digit: 4 \n",
      "sum is: 13 "
     ]
    }
   ],
   "source": [
    "#9. Write a program to find the sum of first and last digit of a number.\n",
    "n=int(input(\"enter the number:\"))\n",
    "last_digit=n%10\n",
    "n=abs(n)\n",
    "for i in range(n):\n",
    "    if(n>=10):\n",
    "        n//=10\n",
    "sum=n+last_digit\n",
    "print(\"first_digit:\",n,end=' ')\n",
    "print()\n",
    "print(\"last_digit:\",last_digit,end=' ')\n",
    "print()\n",
    "print(\"sum is:\",sum,end=' ')\n"
   ]
  },
  {
   "cell_type": "code",
   "execution_count": 120,
   "id": "13c7065f-b62c-4a26-afe9-a7c06f701adb",
   "metadata": {},
   "outputs": [
    {
     "name": "stdin",
     "output_type": "stream",
     "text": [
      "enter the number: -63542\n"
     ]
    },
    {
     "name": "stdout",
     "output_type": "stream",
     "text": [
      "2 4 5 3 6 "
     ]
    }
   ],
   "source": [
    "#10.Write a program to enter a number and print its reverse.\n",
    "n=int(input(\"enter the number:\"))\n",
    "n=abs(n)\n",
    "for i in range(n):\n",
    "    digit=n%10\n",
    "    print(digit,end=' ')\n",
    "    if(n//10==0):\n",
    "        break\n",
    "    n//=10"
   ]
  },
  {
   "cell_type": "code",
   "execution_count": 2,
   "id": "4a69b61a-0412-42e0-a9de-3df093487b77",
   "metadata": {},
   "outputs": [
    {
     "name": "stdin",
     "output_type": "stream",
     "text": [
      "enter the base: 2\n",
      "enter the power: 3\n"
     ]
    },
    {
     "name": "stdout",
     "output_type": "stream",
     "text": [
      "8\n"
     ]
    }
   ],
   "source": [
    "#11.Write a program to find the power of a number using for loop.\n",
    "base=int(input(\"enter the base:\"))\n",
    "power=int(input(\"enter the power:\"))\n",
    "result=1\n",
    "for i in range(power):\n",
    "    result*=base\n",
    "print(result)"
   ]
  },
  {
   "cell_type": "code",
   "execution_count": 126,
   "id": "086c6cfd-dc78-4ed0-85b3-ba8d03518d26",
   "metadata": {},
   "outputs": [
    {
     "name": "stdin",
     "output_type": "stream",
     "text": [
      "Enter the base number:  2\n",
      "Enter the power:  3\n"
     ]
    },
    {
     "name": "stdout",
     "output_type": "stream",
     "text": [
      "2 to the power 3 is: 8\n"
     ]
    }
   ],
   "source": [
    "n = int(input(\"Enter the base number: \"))\n",
    "p = int(input(\"Enter the power: \"))\n",
    "result = 1\n",
    "\n",
    "for i in range(p):\n",
    "    result *= n\n",
    "\n",
    "print(f\"{n} to the power {p} is: {result}\")\n"
   ]
  },
  {
   "cell_type": "code",
   "execution_count": 138,
   "id": "d9cfdc7c-1e47-47d9-a5dd-e70773addbcb",
   "metadata": {},
   "outputs": [
    {
     "name": "stdin",
     "output_type": "stream",
     "text": [
      "enter the number: 150\n"
     ]
    },
    {
     "name": "stdout",
     "output_type": "stream",
     "text": [
      "factors are: 1 2 3 5 6 10 15 25 30 50 75 150 "
     ]
    }
   ],
   "source": [
    "#12.Write a program to find all factors of a number.\n",
    "n=int(input(\"enter the number:\"))\n",
    "print(\"factors are:\",end=' ')\n",
    "for i in range(1,n+1):\n",
    "    if(n%i==0):\n",
    "        print(i,end=' ')"
   ]
  },
  {
   "cell_type": "code",
   "execution_count": 144,
   "id": "43c0485e-f939-4d70-9fc7-28bf30de1172",
   "metadata": {},
   "outputs": [
    {
     "name": "stdin",
     "output_type": "stream",
     "text": [
      "enter the number: 8\n"
     ]
    },
    {
     "name": "stdout",
     "output_type": "stream",
     "text": [
      "factorial is: 40320 "
     ]
    }
   ],
   "source": [
    "#13.Write a program to calculate the factorial of a number.\n",
    "n=int(input(\"enter the number:\"))\n",
    "factorial=1\n",
    "for i in range(n,0,-1):\n",
    "    factorial*=i\n",
    "print(\"factorial is:\",factorial,end=' ')"
   ]
  },
  {
   "cell_type": "code",
   "execution_count": 158,
   "id": "48fc2279-689a-4469-aef6-f7a7e14c1bde",
   "metadata": {},
   "outputs": [
    {
     "name": "stdin",
     "output_type": "stream",
     "text": [
      "enter the number 1: 5\n",
      "enter the number 2: 8\n"
     ]
    },
    {
     "name": "stdout",
     "output_type": "stream",
     "text": [
      "LCM is: 40 "
     ]
    }
   ],
   "source": [
    "#14.Write a program to find LCM of two numbers.\n",
    "n=int(input(\"enter the number 1:\"))\n",
    "m=int(input(\"enter the number 2:\"))\n",
    "LCM=1\n",
    "for i in range(2,max(n,m)+1):\n",
    "    while(n%i==0 or m%i==0):\n",
    "        LCM*=i\n",
    "        if(n%i==0):\n",
    "            n//=i\n",
    "        if(m%i==0):\n",
    "            m//=i\n",
    "print(\"LCM is:\",LCM,end=' ')\n",
    "        "
   ]
  },
  {
   "cell_type": "code",
   "execution_count": 206,
   "id": "5c199962-501a-4675-9b29-953328ddc793",
   "metadata": {},
   "outputs": [
    {
     "name": "stdin",
     "output_type": "stream",
     "text": [
      "enter the number: 0\n"
     ]
    },
    {
     "name": "stdout",
     "output_type": "stream",
     "text": [
      "number less than or equals to 1 is not a prime number:\n"
     ]
    }
   ],
   "source": [
    "#15.Write a program to check whether a number is Prime number or not.\n",
    "n=int(input(\"enter the number:\"))\n",
    "count=0\n",
    "if(n<=1):\n",
    "    print(\"number less than or equals to 1 is not a prime number:\")\n",
    "else:\n",
    "    for i in range(2,n):\n",
    "        if(n%i==0):\n",
    "            count+=1\n",
    "    if(count>0):\n",
    "        print(\"not prime\")\n",
    "    else:\n",
    "        print(\"prime\")"
   ]
  },
  {
   "cell_type": "code",
   "execution_count": 202,
   "id": "a5e6f68b-1b00-4cf5-8359-1a07b553453d",
   "metadata": {},
   "outputs": [
    {
     "name": "stdin",
     "output_type": "stream",
     "text": [
      "enter the number:  1\n"
     ]
    },
    {
     "name": "stdout",
     "output_type": "stream",
     "text": [
      "number less than or equals to 1 is not a prime number:\n"
     ]
    }
   ],
   "source": [
    "n = int(input(\"enter the number: \"))\n",
    "count = 0\n",
    "\n",
    "if n <= 1:\n",
    "    print(\"number less than or equals to 1 is not a prime number:\")\n",
    "else:\n",
    "    for i in range(2, n):\n",
    "        if n % i == 0:\n",
    "            count += 1\n",
    "\n",
    "    if count > 0:\n",
    "        print(\"not prime\")\n",
    "    else:\n",
    "        print(\"prime\")\n"
   ]
  },
  {
   "cell_type": "code",
   "execution_count": null,
   "id": "0ddc029c-246c-4910-add5-c14a25c905d2",
   "metadata": {},
   "outputs": [],
   "source": []
  }
 ],
 "metadata": {
  "kernelspec": {
   "display_name": "Python 3 (ipykernel)",
   "language": "python",
   "name": "python3"
  },
  "language_info": {
   "codemirror_mode": {
    "name": "ipython",
    "version": 3
   },
   "file_extension": ".py",
   "mimetype": "text/x-python",
   "name": "python",
   "nbconvert_exporter": "python",
   "pygments_lexer": "ipython3",
   "version": "3.12.4"
  }
 },
 "nbformat": 4,
 "nbformat_minor": 5
}
