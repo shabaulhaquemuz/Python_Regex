{
 "cells": [
  {
   "cell_type": "code",
   "execution_count": 9,
   "id": "8ddaa2f5-36d1-4982-8a8b-6af7cf93e4b4",
   "metadata": {},
   "outputs": [
    {
     "name": "stdout",
     "output_type": "stream",
     "text": [
      "{'Zara': 93.45, 'Riya': 99.75, 'Meera': 86.10000000000001}\n"
     ]
    }
   ],
   "source": [
    "# Q1. Dictionary Comprehension with Filtering and Transformation\n",
    "# Given a dictionary of students and their marks, write a dictionary comprehension to create a new dictionary containing\n",
    "# only those students who scored more than 80, and increase their marks by 5%.\n",
    "students = {\n",
    "    \"Ali\": 76,\n",
    "    \"Zara\": 89,\n",
    "    \"Riya\": 95,\n",
    "    \"Arjun\": 67,\n",
    "    \"Meera\": 82\n",
    "}\n",
    "d={i:students[i]*1.05 for i in students if students[i]>80}\n",
    "print(d)"
   ]
  },
  {
   "cell_type": "code",
   "execution_count": null,
   "id": "2819a76a-3400-45fc-8f67-bdf8f04caff2",
   "metadata": {},
   "outputs": [],
   "source": []
  }
 ],
 "metadata": {
  "kernelspec": {
   "display_name": "Python 3 (ipykernel)",
   "language": "python",
   "name": "python3"
  },
  "language_info": {
   "codemirror_mode": {
    "name": "ipython",
    "version": 3
   },
   "file_extension": ".py",
   "mimetype": "text/x-python",
   "name": "python",
   "nbconvert_exporter": "python",
   "pygments_lexer": "ipython3",
   "version": "3.12.4"
  }
 },
 "nbformat": 4,
 "nbformat_minor": 5
}
