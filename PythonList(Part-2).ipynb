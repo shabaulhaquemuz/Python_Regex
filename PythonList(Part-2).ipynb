{
 "cells": [
  {
   "cell_type": "code",
   "execution_count": 11,
   "id": "5f26b9b5-9779-48bd-9bb0-a23c39153ad9",
   "metadata": {},
   "outputs": [
    {
     "name": "stdout",
     "output_type": "stream",
     "text": [
      "7\n"
     ]
    }
   ],
   "source": [
    "x=[10,20,30,40,50,60,7]\n",
    "min=x[0]\n",
    "for i in range(len(x)):\n",
    "    if(x[i]<min):\n",
    "        min=x[i]\n",
    "        print(min)"
   ]
  },
  {
   "cell_type": "code",
   "execution_count": 19,
   "id": "eb65a4ce-0980-42e1-bf00-e00fbf1f4f08",
   "metadata": {},
   "outputs": [
    {
     "name": "stdout",
     "output_type": "stream",
     "text": [
      "maximum is 60 50\n"
     ]
    }
   ],
   "source": [
    "y=[10,20,30,40,50,60,5]\n",
    "max=x[0]\n",
    "smax=0\n",
    "\n",
    "\n",
    "for i in range(len(y)):\n",
    "    if(x[i]>max):\n",
    "        smax=max\n",
    "        max=x[i]\n",
    "print(\"maximum is\",max,smax)"
   ]
  },
  {
   "cell_type": "code",
   "execution_count": 25,
   "id": "2581fc68-148e-493f-b089-44d4e6ff11ba",
   "metadata": {},
   "outputs": [
    {
     "name": "stdout",
     "output_type": "stream",
     "text": [
      "maximum is 60 50\n"
     ]
    }
   ],
   "source": [
    "z=[10,20,30,40,50,60,5]\n",
    "max=x[0]\n",
    "smax=0\n",
    "\n",
    "\n",
    "for i in range(len(z)):\n",
    "    if(z[i]>max):\n",
    "        smax=max\n",
    "        max=z[i]\n",
    "    elif(z[i]>smax and z[i]!=max):\n",
    "        smax=mylist[i]\n",
    "print(\"maximum is\",max,smax)"
   ]
  },
  {
   "cell_type": "code",
   "execution_count": 23,
   "id": "75a04687-49c9-4308-bae2-381a69d6a060",
   "metadata": {},
   "outputs": [
    {
     "name": "stdout",
     "output_type": "stream",
     "text": [
      "Duplicate 5\n",
      "Duplicate 6\n",
      "[4, 5, 6, 7, 8, 9]\n",
      "[5, 6]\n"
     ]
    }
   ],
   "source": [
    "a=[4,5,6,7,5,8,9,6]\n",
    "new_list=[]\n",
    "duplicate = []\n",
    "for i in range(len(a)):\n",
    "    if(a[i] not in new_list):\n",
    "        new_list.append(a[i])\n",
    "    else:\n",
    "        print(\"Duplicate\",a[i])\n",
    "        duplicate.append(a[i])\n",
    "print(new_list)\n",
    "print(duplicate)"
   ]
  },
  {
   "cell_type": "code",
   "execution_count": 45,
   "id": "ae6b09a6-e913-4a41-9d76-6bc705f55479",
   "metadata": {},
   "outputs": [
    {
     "name": "stdout",
     "output_type": "stream",
     "text": [
      "list of i: 10\n",
      "10 20\n",
      "10 30\n",
      "10 40\n"
     ]
    }
   ],
   "source": [
    "#nested loop\n",
    "list=[10,20,30,40]\n",
    "for i in  range(0,1):\n",
    "    print(\"list of i:\",list[i])\n",
    "    for j in range(1,4):\n",
    "        print(list[i],list[j])"
   ]
  },
  {
   "cell_type": "code",
   "execution_count": 53,
   "id": "82c890a3-9bd2-4031-ac38-dfa45c7c207b",
   "metadata": {},
   "outputs": [
    {
     "name": "stdout",
     "output_type": "stream",
     "text": [
      "--- 10\n",
      "10 20\n",
      "10 30\n",
      "10 40\n",
      "--- 20\n",
      "20 30\n",
      "20 40\n",
      "--- 30\n",
      "30 40\n",
      "--- 40\n"
     ]
    }
   ],
   "source": [
    "list=[10,20,30,40]\n",
    "for i in range(len(list)):\n",
    "    print(\"---\",list[i])\n",
    "    for j in range(i+1,4):\n",
    "        print(list[i],list[j])"
   ]
  },
  {
   "cell_type": "code",
   "execution_count": 1,
   "id": "56550acf-25fc-4c22-a97a-9a9c2652d781",
   "metadata": {},
   "outputs": [],
   "source": [
    "list=[10,20,30,40]\n",
    "for i in range(len(list)):\n",
    "    for j in range(i+1,len(list)):\n",
    "        if(list[i]==list[j]):\n",
    "            print(\"duplicate\",list[j])"
   ]
  },
  {
   "cell_type": "code",
   "execution_count": 13,
   "id": "35c89895-b6ea-4ee7-ac4e-d82c0d67298b",
   "metadata": {},
   "outputs": [
    {
     "name": "stdout",
     "output_type": "stream",
     "text": [
      "2 7\n",
      "7 2\n"
     ]
    }
   ],
   "source": [
    "s=[1,2,3,7,14]\n",
    "target=9\n",
    "for i in range(len(s)):\n",
    "    for j in range(len(s)):\n",
    "        if(s[i]+s[j]==target):\n",
    "           print(s[i],s[j])\n",
    "            \n",
    "    "
   ]
  },
  {
   "cell_type": "code",
   "execution_count": 15,
   "id": "287c4cf2-752a-4fb9-afe7-5a53ed36da19",
   "metadata": {},
   "outputs": [
    {
     "name": "stdout",
     "output_type": "stream",
     "text": [
      "e\n"
     ]
    }
   ],
   "source": [
    "x=\"hey user\"\n",
    "for i in range(len(x)):\n",
    "    for j in range(i+1,len(x)):\n",
    "        if(x[i]==x[j]):\n",
    "            print(x[j])\n"
   ]
  },
  {
   "cell_type": "code",
   "execution_count": 17,
   "id": "799b5023-342a-476e-8e2e-6e2b1e381075",
   "metadata": {},
   "outputs": [
    {
     "name": "stdout",
     "output_type": "stream",
     "text": [
      "e\n",
      "l\n"
     ]
    }
   ],
   "source": [
    "x=\"hello user\"\n",
    "for i in range(len(x)):\n",
    "    for j in range(i+1,len(x)):\n",
    "        if(x[i]==x[j]):\n",
    "            print(x[j])"
   ]
  },
  {
   "cell_type": "code",
   "execution_count": null,
   "id": "77e2b224-9b6e-4854-98e0-89f0a8012643",
   "metadata": {},
   "outputs": [],
   "source": []
  }
 ],
 "metadata": {
  "kernelspec": {
   "display_name": "Python 3 (ipykernel)",
   "language": "python",
   "name": "python3"
  },
  "language_info": {
   "codemirror_mode": {
    "name": "ipython",
    "version": 3
   },
   "file_extension": ".py",
   "mimetype": "text/x-python",
   "name": "python",
   "nbconvert_exporter": "python",
   "pygments_lexer": "ipython3",
   "version": "3.12.4"
  }
 },
 "nbformat": 4,
 "nbformat_minor": 5
}
