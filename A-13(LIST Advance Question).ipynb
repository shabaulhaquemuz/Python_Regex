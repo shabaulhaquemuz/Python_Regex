{
 "cells": [
  {
   "cell_type": "code",
   "execution_count": 13,
   "id": "0046f302-0286-4931-bb41-43f36c44cb61",
   "metadata": {},
   "outputs": [
    {
     "name": "stdout",
     "output_type": "stream",
     "text": [
      "3\n"
     ]
    }
   ],
   "source": [
    "# 14. Find Missing Number in a List\n",
    "# You are given a list of n-1 numbers in the range 1 to n. One number is missing from the sequence.\n",
    "#Find the missing number.\n",
    "# a. numbers = [1, 2, 4, 5, 6]\n",
    "# b. 3\n",
    "numbers=[1,2,4,5,6]\n",
    "first=0\n",
    "next=1\n",
    "for i in range(len(numbers)-1):\n",
    "    if(numbers[next]-numbers[first]!=1):\n",
    "        print(numbers[next]-1)\n",
    "    first+=1\n",
    "    next+=1\n",
    "        \n",
    "#here index will become out of range with just len function, so we have to use len-1 because at last iteration when first will be 4 then next\n",
    "#will become 5.. so we have tp stop the next at 4 only.  \n"
   ]
  },
  {
   "cell_type": "code",
   "execution_count": 7,
   "id": "47957295-7af6-4ce3-9f96-efd87611662f",
   "metadata": {},
   "outputs": [
    {
     "name": "stdout",
     "output_type": "stream",
     "text": [
      "First non-repeating element: 1\n"
     ]
    }
   ],
   "source": [
    "# 15. Find the First Non-Repeating Element\n",
    "# Given a list of integers, find the first element that appears only once.\n",
    "# a. numbers = [4, 5, 1, 2, 0, 4, 5, 2]\n",
    "# b. Expected Output: 1\n",
    "numbers2 = [2, 2, 1, 3, 4]\n",
    "for i in range(len(numbers2)):\n",
    "    count=0\n",
    "    for j in range(len(numbers2)):\n",
    "          if(numbers2[i]==numbers2[j] and i!=j):\n",
    "              count+=1\n",
    "              break\n",
    "    if( count == 0):\n",
    "        print(\"First non-repeating element:\", numbers2[i])\n",
    "        break  "
   ]
  },
  {
   "cell_type": "code",
   "execution_count": 15,
   "id": "7205603e-3c68-47b3-9f82-be0b0eef7407",
   "metadata": {},
   "outputs": [
    {
     "name": "stdout",
     "output_type": "stream",
     "text": [
      "[1, 3, 12, 0, 0]\n"
     ]
    }
   ],
   "source": [
    "# 16. Move All Zeros to the End\n",
    "# Given a list of integers, move all zeros to the end while maintaining the relative order of non-zero elements. \n",
    "# Don’t use any inbuilt functions\n",
    "# a. numbers = [0, 1, 0, 3, 12]\n",
    "# b. [1, 3, 12, 0, 0]  \n",
    "numbers3 = [0, 1, 0, 3, 12]\n",
    "start = 0     # Pointer for where the next non-zero should go\n",
    "for i in range(len(numbers3)):\n",
    "    if(numbers3[i]!=0):\n",
    "        numbers3[start]=numbers3[i]\n",
    "        start+=1\n",
    "for i in range(start,len(numbers3)):\n",
    "    numbers3[i]=0\n",
    "print(numbers3)\n",
    "\n",
    "# First pass: move non-zero elements to the front\n",
    "# Second pass: fill the rest with zeros    "
   ]
  },
  {
   "cell_type": "code",
   "execution_count": 35,
   "id": "27fcf1f3-d44f-44cb-b03c-c3f2126690a3",
   "metadata": {},
   "outputs": [
    {
     "name": "stdout",
     "output_type": "stream",
     "text": [
      "3\n",
      "6\n",
      "8\n"
     ]
    }
   ],
   "source": [
    "# 17. Find Elements Greater Than Their Left Neighbor\n",
    "# a. numbers4 = [1, 3, 2, 6, 5, 8, 7]\n",
    "# b. [3, 6, 8]\n",
    "numbers4 = [1, 3, 2, 6, 5, 8, 7]\n",
    "left=0\n",
    "right=1\n",
    "for i in range(len(numbers4)-1):\n",
    "    if(numbers4[right]>numbers4[left]):\n",
    "        print(numbers4[right])\n",
    "    left+=1\n",
    "    right+=1"
   ]
  },
  {
   "cell_type": "code",
   "execution_count": 37,
   "id": "b66db6d3-359d-4083-9322-461871b30e36",
   "metadata": {},
   "outputs": [
    {
     "name": "stdout",
     "output_type": "stream",
     "text": [
      "-1 0 1\n",
      "-1 2 -1\n",
      "-1 -1 2\n",
      "0 1 -1\n"
     ]
    }
   ],
   "source": [
    "# 18. Find Triplets That Sum to Zero\n",
    "# Given a list of numbers, find all unique triplets (a, b, c) such that a + b + c = 0.\n",
    "# a. numbers = [-1, 0, 1, 2, -1, -4]\n",
    "# b. Expected Output: [(-1, -1, 2), (-1, 0, 1)]\n",
    "numbers5 = [-1, 0, 1, 2, -1, -4]\n",
    "for i in range(len(numbers5)):\n",
    "    for j in range(i+1,len(numbers5)):\n",
    "        for k in range(i+1+1,len(numbers5)):\n",
    "            if(numbers5[i]+numbers5[j]+numbers5[k]==0):\n",
    "                print(numbers5[i],numbers5[j],numbers5[k])"
   ]
  },
  {
   "cell_type": "code",
   "execution_count": 41,
   "id": "5522059a-5fd5-4e07-b7a8-7d0121a6c603",
   "metadata": {},
   "outputs": [
    {
     "name": "stdout",
     "output_type": "stream",
     "text": [
      "[[-1, 0, 1], [-1, -1, 2]]\n"
     ]
    }
   ],
   "source": [
    "numbers6=[-1,0,1,2,-1,-4]\n",
    "new=[]\n",
    "for i in range(len(numbers6)):\n",
    "    for j in range(i+1,len(numbers6)):\n",
    "        for k in range(j+1,len(numbers6)):\n",
    "            if(numbers6[i]+numbers6[j]+numbers6[k]==0):\n",
    "                triplet=[numbers6[i],numbers6[j],numbers6[k]]\n",
    "                triplet.sort()\n",
    "                if(triplet not in new):\n",
    "                    new.append(triplet)\n",
    "print(new)"
   ]
  },
  {
   "cell_type": "code",
   "execution_count": null,
   "id": "33034fea-273b-4ef3-aa4e-539ca10e948a",
   "metadata": {},
   "outputs": [],
   "source": []
  }
 ],
 "metadata": {
  "kernelspec": {
   "display_name": "Python 3 (ipykernel)",
   "language": "python",
   "name": "python3"
  },
  "language_info": {
   "codemirror_mode": {
    "name": "ipython",
    "version": 3
   },
   "file_extension": ".py",
   "mimetype": "text/x-python",
   "name": "python",
   "nbconvert_exporter": "python",
   "pygments_lexer": "ipython3",
   "version": "3.12.4"
  }
 },
 "nbformat": 4,
 "nbformat_minor": 5
}
