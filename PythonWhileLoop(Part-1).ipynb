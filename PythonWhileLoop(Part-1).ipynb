{
 "cells": [
  {
   "cell_type": "code",
   "execution_count": 1,
   "id": "81a94d50-559a-4546-8562-e721688e5bc4",
   "metadata": {},
   "outputs": [
    {
     "name": "stdin",
     "output_type": "stream",
     "text": [
      "enter the value of n: 6\n"
     ]
    },
    {
     "name": "stdout",
     "output_type": "stream",
     "text": [
      "natural numbers are: 1 2 3 4 5 6 "
     ]
    }
   ],
   "source": [
    "#1. Write a program to print all natural numbers from 1 to n. – using while loop\n",
    "n=int(input(\"enter the value of n:\"))\n",
    "i=1\n",
    "print(\"natural numbers are:\",end=' ')\n",
    "while(i<=n):\n",
    "    print(i,end=' ')\n",
    "    i+=1\n",
    "    "
   ]
  },
  {
   "cell_type": "code",
   "execution_count": 2,
   "id": "7fb28d39-88a7-43ee-8faa-3ed3e05fbcc0",
   "metadata": {},
   "outputs": [
    {
     "name": "stdin",
     "output_type": "stream",
     "text": [
      "enter the value: 8\n"
     ]
    },
    {
     "name": "stdout",
     "output_type": "stream",
     "text": [
      "reverse natural numbers are: 8 7 6 5 4 3 2 1 "
     ]
    }
   ],
   "source": [
    "2.#Write a program to print all natural numbers in reverse (from n to 1). – using while loop\n",
    "n=int(input(\"enter the value:\"))\n",
    "print(\"reverse natural numbers are:\",end=' ')\n",
    "while(n>=1):\n",
    "    print(n,end=' ')\n",
    "    n-=1\n"
   ]
  },
  {
   "cell_type": "code",
   "execution_count": 3,
   "id": "63d7615b-e647-4857-ab6e-2e8cf62b8379",
   "metadata": {},
   "outputs": [
    {
     "name": "stdout",
     "output_type": "stream",
     "text": [
      "alphabets from a to z are: a b c d e f g h i j k l m n o p q r s t u v w x y z "
     ]
    }
   ],
   "source": [
    "3.#write a program to print all alphabets from a to z\n",
    "char=ord('a')\n",
    "print(\"alphabets from a to z are:\",end=' ')\n",
    "while(char<=ord('z')):\n",
    "    print(chr(char),end=' ')\n",
    "    char+=1\n",
    "    "
   ]
  },
  {
   "cell_type": "code",
   "execution_count": 4,
   "id": "ff7e9f0c-10b7-4b41-9d7b-c81879dc3ab3",
   "metadata": {},
   "outputs": [
    {
     "name": "stdout",
     "output_type": "stream",
     "text": [
      "all even numbers are: 2 4 6 8 10 12 14 16 18 20 22 24 26 28 30 32 34 36 38 40 42 44 46 48 50 52 54 56 58 60 62 64 66 68 70 72 74 76 78 80 82 84 86 88 90 92 94 96 98 100 "
     ]
    }
   ],
   "source": [
    "4.##write a program to print all even numbers between 1 and 100\n",
    "n=1\n",
    "print(\"all even numbers are:\",end=' ')\n",
    "while(n<=100):\n",
    "    if(n%2==0):\n",
    "        print(n,end=' ')\n",
    "    n+=1\n",
    "    "
   ]
  },
  {
   "cell_type": "code",
   "execution_count": 2,
   "id": "2230dc0d-5593-4926-826b-32c186a27aea",
   "metadata": {},
   "outputs": [
    {
     "name": "stdin",
     "output_type": "stream",
     "text": [
      "enter the value of n: 7\n"
     ]
    },
    {
     "name": "stdout",
     "output_type": "stream",
     "text": [
      "sum of all odd numbers are: 16\n"
     ]
    }
   ],
   "source": [
    "#5.write a program to find the sum of all odd numbers between 1 to n\n",
    "n=int(input(\"enter the value of n:\"))\n",
    "i=1\n",
    "sum=0\n",
    "print(\"sum of all odd numbers are:\",end=' ')\n",
    "while(i<=n):\n",
    "    if(i%2!=0):\n",
    "        sum+=i\n",
    "    i+=1\n",
    "print(sum)"
   ]
  },
  {
   "cell_type": "code",
   "execution_count": 6,
   "id": "3af6e3d3-b6bc-45c3-82cf-ab123acd8be2",
   "metadata": {},
   "outputs": [
    {
     "name": "stdin",
     "output_type": "stream",
     "text": [
      "enter the number: 56\n"
     ]
    },
    {
     "name": "stdout",
     "output_type": "stream",
     "text": [
      "2\n"
     ]
    }
   ],
   "source": [
    "#6. Write a program to count the number of digits in a number.\n",
    "n=int(input(\"enter the number:\"))\n",
    "count=0\n",
    "if(n==0):\n",
    "    count=1\n",
    "else:\n",
    "    while(n>=1):\n",
    "        digit=n%10\n",
    "        count+=1\n",
    "        n//=10\n",
    "print(count)"
   ]
  },
  {
   "cell_type": "code",
   "execution_count": 7,
   "id": "f3dadc8b-847f-42cc-bb50-c53fbafad36a",
   "metadata": {},
   "outputs": [
    {
     "name": "stdin",
     "output_type": "stream",
     "text": [
      "enter the number: 786\n"
     ]
    },
    {
     "name": "stdout",
     "output_type": "stream",
     "text": [
      "21\n"
     ]
    }
   ],
   "source": [
    "#7. Write a program to calculate the sum of digits of a number.\n",
    "n=int(input(\"enter the number:\"))\n",
    "sum=0\n",
    "n=abs(n)\n",
    "while(n>=1):\n",
    "    digit=n%10\n",
    "    sum+=digit\n",
    "    n=n//10\n",
    "print(sum)"
   ]
  },
  {
   "cell_type": "code",
   "execution_count": 8,
   "id": "1be6cd84-bcc5-4320-aec3-22e7cf66f5bf",
   "metadata": {},
   "outputs": [
    {
     "name": "stdin",
     "output_type": "stream",
     "text": [
      "enter the number: 786\n"
     ]
    },
    {
     "name": "stdout",
     "output_type": "stream",
     "text": [
      "first digit: 7 \n",
      "last_digit: 6 "
     ]
    }
   ],
   "source": [
    "#8. Write a program to find the first and last digit of a number.\n",
    "n=int(input(\"enter the number:\"))\n",
    "last_digit=n%10\n",
    "while(n>=10):\n",
    "    n=n//10\n",
    "print(\"first digit:\",n,end=' ')\n",
    "print()\n",
    "print(\"last_digit:\",last_digit,end=' ')"
   ]
  },
  {
   "cell_type": "code",
   "execution_count": 9,
   "id": "559599ef-e345-47fc-a1ae-1b5320201eb0",
   "metadata": {},
   "outputs": [
    {
     "name": "stdin",
     "output_type": "stream",
     "text": [
      "enter the number: 98765\n"
     ]
    },
    {
     "name": "stdout",
     "output_type": "stream",
     "text": [
      "first digit: 9 \n",
      "last_digit: 5 \n",
      "sum is: 14 "
     ]
    }
   ],
   "source": [
    "#9. Write a program to find the sum of first and last digit of a number.\n",
    "n=int(input(\"enter the number:\"))\n",
    "last_digit=n%10\n",
    "while(n>=10):\n",
    "    n=n//10\n",
    "print(\"first digit:\",n,end=' ')\n",
    "print()\n",
    "print(\"last_digit:\",last_digit,end=' ')\n",
    "print()\n",
    "first_digit=n\n",
    "sum=first_digit+last_digit\n",
    "print(\"sum is:\",sum,end=' ')\n"
   ]
  },
  {
   "cell_type": "code",
   "execution_count": 10,
   "id": "76cd9bc0-0735-4c0c-9def-b0ef217744d7",
   "metadata": {},
   "outputs": [
    {
     "name": "stdin",
     "output_type": "stream",
     "text": [
      "enter the number: 4567\n"
     ]
    },
    {
     "name": "stdout",
     "output_type": "stream",
     "text": [
      "7 6 5 4 "
     ]
    }
   ],
   "source": [
    "#10.Write a program to enter a number and print its reverse.\n",
    "n=int(input(\"enter the number:\"))\n",
    "n=abs(n)\n",
    "while(n>=1):\n",
    "    last_digit=n%10\n",
    "    print(last_digit,end=' ')\n",
    "    n=n//10\n",
    "    "
   ]
  },
  {
   "cell_type": "code",
   "execution_count": 3,
   "id": "b12f55c3-f45c-4c3f-b520-c815a4ca2374",
   "metadata": {},
   "outputs": [
    {
     "name": "stdin",
     "output_type": "stream",
     "text": [
      "enter the base: 4\n",
      "enter the power: 3\n"
     ]
    },
    {
     "name": "stdout",
     "output_type": "stream",
     "text": [
      "64\n"
     ]
    }
   ],
   "source": [
    "#11.Write a program to find the power of a number.\n",
    "base=int(input(\"enter the base:\"))\n",
    "power=int(input(\"enter the power:\"))\n",
    "result=1\n",
    "while(power>0):\n",
    "    result*=base\n",
    "    power-=1\n",
    "print(result)"
   ]
  },
  {
   "cell_type": "code",
   "execution_count": 12,
   "id": "98520acd-1024-41b7-b983-37365367fa8e",
   "metadata": {},
   "outputs": [
    {
     "name": "stdin",
     "output_type": "stream",
     "text": [
      "enter the number: 86\n"
     ]
    },
    {
     "name": "stdout",
     "output_type": "stream",
     "text": [
      "1\n",
      "2\n",
      "43\n",
      "86\n"
     ]
    }
   ],
   "source": [
    "#12.Write a program to find all factors of a number.\n",
    "n=int(input(\"enter the number:\"))\n",
    "i=1\n",
    "while(i<=n):\n",
    "    if(n%i==0):\n",
    "        print(i)\n",
    "    i+=1\n",
    "        "
   ]
  },
  {
   "cell_type": "code",
   "execution_count": 13,
   "id": "56dde4e8-3b4f-4fd2-b3c4-4f06f9af1301",
   "metadata": {},
   "outputs": [
    {
     "name": "stdin",
     "output_type": "stream",
     "text": [
      "enter the number: 8\n"
     ]
    },
    {
     "name": "stdout",
     "output_type": "stream",
     "text": [
      "40320\n"
     ]
    }
   ],
   "source": [
    "#13.Write a program to calculate the factorial of a number.\n",
    "n=int(input(\"enter the number:\"))\n",
    "factorial=1\n",
    "while(n>=1):\n",
    "    factorial*=n\n",
    "    n-=1\n",
    "print(factorial)"
   ]
  },
  {
   "cell_type": "code",
   "execution_count": null,
   "id": "acaa98b9-bc84-4343-ba31-f6925781ef36",
   "metadata": {},
   "outputs": [],
   "source": [
    "#14.Write a program to find LCM of two numbers.\n",
    "n=int(input(\"enter the first number:\"))\n",
    "m=int(input(\"enter the second number:\"))\n",
    "i=2\n",
    "LCM=1\n",
    "while(n>1 or m>1):\n",
    "    if(n%i==0 or m%i==0):\n",
    "        LCM*=i\n",
    "        print(i)\n",
    "        if(n%i==0):\n",
    "            n//=i\n",
    "        if(m%i==0):\n",
    "            m//=i\n",
    "    else:\n",
    "        i+=1\n",
    "print(LCM)"
   ]
  },
  {
   "cell_type": "code",
   "execution_count": 17,
   "id": "23855a47-b1d6-47a4-b9ef-609133395b4c",
   "metadata": {},
   "outputs": [
    {
     "name": "stdin",
     "output_type": "stream",
     "text": [
      "enter the number: 10\n"
     ]
    },
    {
     "name": "stdout",
     "output_type": "stream",
     "text": [
      "it is not prime\n"
     ]
    }
   ],
   "source": [
    "#15.Write a program to check whether a number is Prime number or not.\n",
    "n=int(input(\"enter the number:\"))\n",
    "i=2\n",
    "count=0\n",
    "if(n<=1):\n",
    "    print(\"not prime:\")\n",
    "else:\n",
    "    while(i<=(n-1)):\n",
    "        if(n%i==0):\n",
    "            count+=1\n",
    "        i+=1\n",
    "    if(count>0):\n",
    "        print(\"it is not prime\")\n",
    "    else:\n",
    "        print(\"it is prime\")\n",
    "        \n",
    "        \n"
   ]
  },
  {
   "cell_type": "markdown",
   "id": "054a277f-aaf1-45ef-b041-0efb10466bef",
   "metadata": {},
   "source": [
    "##### "
   ]
  },
  {
   "cell_type": "code",
   "execution_count": 38,
   "id": "694b0503-8a3b-423d-88cf-70c9783260ba",
   "metadata": {},
   "outputs": [
    {
     "name": "stdin",
     "output_type": "stream",
     "text": [
      "enter the value of n: 9\n"
     ]
    },
    {
     "name": "stdout",
     "output_type": "stream",
     "text": [
      "2 3 5 7 "
     ]
    }
   ],
   "source": [
    "#16.Write a program to print all Prime numbers between 1 to n.\n",
    "\n",
    "n=int(input(\"enter the value of n:\"))\n",
    "for n in range(2,n+1):\n",
    "    i=2\n",
    "    count=0\n",
    "    while(i<=n-1):\n",
    "        if(n%i==0):\n",
    "            count+=1\n",
    "            break\n",
    "        i+=1\n",
    "    if(count==0):\n",
    "        print(n,end=' ')"
   ]
  },
  {
   "cell_type": "code",
   "execution_count": 30,
   "id": "e6ed67e4-e626-4613-b16d-25141fa447d2",
   "metadata": {},
   "outputs": [
    {
     "name": "stdin",
     "output_type": "stream",
     "text": [
      "Enter the value of n:  9\n"
     ]
    },
    {
     "name": "stdout",
     "output_type": "stream",
     "text": [
      "Prime numbers between 1 and 9 are:\n",
      "2 3 5 7 "
     ]
    }
   ],
   "source": [
    "n = int(input(\"Enter the value of n: \"))\n",
    "print(\"Prime numbers between 1 and\", n, \"are:\")\n",
    "\n",
    "for num in range(2, n + 1):\n",
    "    count = 0\n",
    "    i = 2\n",
    "    while i <= num // 2:\n",
    "        if num % i == 0:\n",
    "            count += 1\n",
    "            break\n",
    "        i += 1\n",
    "    if count == 0:\n",
    "        print(num, end=' ')\n"
   ]
  },
  {
   "cell_type": "code",
   "execution_count": null,
   "id": "462554bd-32fd-4b0a-bd9e-cc9adf051408",
   "metadata": {},
   "outputs": [],
   "source": []
  }
 ],
 "metadata": {
  "kernelspec": {
   "display_name": "Python 3 (ipykernel)",
   "language": "python",
   "name": "python3"
  },
  "language_info": {
   "codemirror_mode": {
    "name": "ipython",
    "version": 3
   },
   "file_extension": ".py",
   "mimetype": "text/x-python",
   "name": "python",
   "nbconvert_exporter": "python",
   "pygments_lexer": "ipython3",
   "version": "3.12.4"
  }
 },
 "nbformat": 4,
 "nbformat_minor": 5
}
