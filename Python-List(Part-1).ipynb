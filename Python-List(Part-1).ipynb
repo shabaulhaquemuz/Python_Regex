{
 "cells": [
  {
   "cell_type": "code",
   "execution_count": null,
   "id": "7467008a-b834-4701-9ebc-045e841d2bc3",
   "metadata": {},
   "outputs": [],
   "source": [
    "#list is a sequence datatype\n",
    "#Heterogeneous collection of elements\n",
    "#Ordered format\n",
    "#Position: Every element has a proper index"
   ]
  },
  {
   "cell_type": "code",
   "execution_count": 2,
   "id": "c5e1300f-dc38-48a2-9c88-28db56d58380",
   "metadata": {},
   "outputs": [
    {
     "name": "stdout",
     "output_type": "stream",
     "text": [
      "10\n",
      "10.5\n",
      "('shabaul', 123, 23.6)\n"
     ]
    }
   ],
   "source": [
    "x=[10,10.5,(\"shabaul\",123,23.6)]\n",
    "for i in x:\n",
    "    print(i)"
   ]
  },
  {
   "cell_type": "code",
   "execution_count": 22,
   "id": "2258bc2a-7793-4fa1-bd3f-229725db2188",
   "metadata": {},
   "outputs": [
    {
     "name": "stdout",
     "output_type": "stream",
     "text": [
      "[10, 2.7, ('shabaul', 123, 23.6)]\n"
     ]
    }
   ],
   "source": [
    "print(x)"
   ]
  },
  {
   "cell_type": "code",
   "execution_count": 26,
   "id": "1a04d397-5ba2-4d3d-8066-6fff4e5ef3be",
   "metadata": {},
   "outputs": [
    {
     "name": "stdout",
     "output_type": "stream",
     "text": [
      "[10, 'saif', ('shabaul', 123, 23.6)]\n"
     ]
    }
   ],
   "source": [
    "x[1]=\"saif\"\n",
    "print(x)"
   ]
  },
  {
   "cell_type": "code",
   "execution_count": 28,
   "id": "af776905-1679-4cb7-b616-0e1a5ab7c254",
   "metadata": {},
   "outputs": [
    {
     "name": "stdout",
     "output_type": "stream",
     "text": [
      "[10, 'saif', 2.7]\n"
     ]
    }
   ],
   "source": [
    "x[2]=2.7\n",
    "print(x)"
   ]
  },
  {
   "cell_type": "code",
   "execution_count": 30,
   "id": "e51c5fe9-a735-4a52-ab6a-cee42d00c5c0",
   "metadata": {},
   "outputs": [
    {
     "name": "stdout",
     "output_type": "stream",
     "text": [
      "[10, 'saif', 2.7, 100]\n"
     ]
    }
   ],
   "source": [
    "#append()\n",
    "#use to insert new element at the last\n",
    "x.append(100)\n",
    "print(x)\n"
   ]
  },
  {
   "cell_type": "code",
   "execution_count": 34,
   "id": "984d2033-b377-4460-8eda-0ac8e743bebd",
   "metadata": {},
   "outputs": [
    {
     "name": "stdout",
     "output_type": "stream",
     "text": [
      "[10, 'saif', 2.7, 100, 'h', 'e', 'l', 'l', 'o']\n"
     ]
    }
   ],
   "source": [
    "#extend()\n",
    "#use to insert multiple elements at the last\n",
    "x.extend(\"hello\")\n",
    "print(x)"
   ]
  },
  {
   "cell_type": "code",
   "execution_count": 36,
   "id": "192c4372-fa9d-4a6c-8cd1-6ff2c7bc5ef9",
   "metadata": {},
   "outputs": [
    {
     "name": "stdout",
     "output_type": "stream",
     "text": [
      "[10, 'saif', 2.7, 100, 'h', 'e', 'l', 'l', 'o', 'h', 'e', 'y', '_', 's', 'a', 'i', 'f']\n"
     ]
    }
   ],
   "source": [
    "x.extend(\"hey_saif\")\n",
    "print(x)"
   ]
  },
  {
   "cell_type": "code",
   "execution_count": 40,
   "id": "84c80c7b-8d83-4d0e-8d8d-a4789d69e7a3",
   "metadata": {},
   "outputs": [
    {
     "name": "stdout",
     "output_type": "stream",
     "text": [
      "[10, 'saif', 2.7, 100, 'h', 'e', 'l', 'l', 'o', 'h', 'e', 'y', '_', 's', 'a', 'i', 'f', 'hi', 'student', 'regex']\n"
     ]
    }
   ],
   "source": [
    "x.extend(['hi','student','regex'])\n",
    "print(x)"
   ]
  },
  {
   "cell_type": "code",
   "execution_count": 42,
   "id": "2a83dc9e-58a1-4a15-bc82-79e17e3caa8c",
   "metadata": {},
   "outputs": [
    {
     "name": "stdout",
     "output_type": "stream",
     "text": [
      "regex\n"
     ]
    }
   ],
   "source": [
    "#pop()\n",
    "#Deletes the element at last by default but we can also mention the index\n",
    "out=x.pop()\n",
    "print(out)"
   ]
  },
  {
   "cell_type": "code",
   "execution_count": 56,
   "id": "8043da8f-84a9-43f4-a23a-e93114a1fb0e",
   "metadata": {},
   "outputs": [
    {
     "name": "stdout",
     "output_type": "stream",
     "text": [
      "l\n",
      "[10, 'saif', 'l', 'o', 'h', 'e', 'y', '_', 's', 'a', 'i', 'f', 'hi', 'student']\n"
     ]
    }
   ],
   "source": [
    "rem_item=x.pop(2)\n",
    "print(rem_item)\n",
    "print(x)"
   ]
  },
  {
   "cell_type": "code",
   "execution_count": 58,
   "id": "18c300c1-db44-4c43-abfc-c2513ac367a0",
   "metadata": {},
   "outputs": [
    {
     "name": "stdout",
     "output_type": "stream",
     "text": [
      "[10, 'saif', 'l', 'o', 'h', 'e', 'y', '_', 's', 'a', 'i', 'f', 'hi', 'student']\n"
     ]
    }
   ],
   "source": [
    "print(x)"
   ]
  },
  {
   "cell_type": "code",
   "execution_count": 60,
   "id": "d30b99ce-a40f-401e-bb36-251fd7f05072",
   "metadata": {},
   "outputs": [
    {
     "name": "stdout",
     "output_type": "stream",
     "text": [
      "_\n"
     ]
    }
   ],
   "source": [
    "removed=x.pop(7)\n",
    "print(removed)"
   ]
  },
  {
   "cell_type": "code",
   "execution_count": 64,
   "id": "a9eb31e0-59e1-468f-95ab-d376a95cfad0",
   "metadata": {},
   "outputs": [
    {
     "name": "stdout",
     "output_type": "stream",
     "text": [
      "[10, 'saif', 'Data Science', 'Data Science', 'l', 'o', 'h', 'e', 'y', 's', 'a', 'i', 'f', 'hi', 'student']\n"
     ]
    }
   ],
   "source": [
    "#insert\n",
    "#use to insert any element at any given position\n",
    "x.insert(2,\"Data Science\")\n",
    "print(x)"
   ]
  },
  {
   "cell_type": "code",
   "execution_count": 66,
   "id": "0d110684-9eeb-4a8a-b00a-b1dc33e11a82",
   "metadata": {},
   "outputs": [
    {
     "name": "stdout",
     "output_type": "stream",
     "text": [
      "[10, 33, 33, 43, 56, 56, 64, 250, 1000]\n"
     ]
    }
   ],
   "source": [
    "#sort()\n",
    "#used for sorting a list in ascending or descending order\n",
    "mylist=[10,250,43,33,56,64,33,56,1000]\n",
    "mylist.sort()\n",
    "print(mylist)\n"
   ]
  },
  {
   "cell_type": "code",
   "execution_count": 70,
   "id": "ea0e4339-473f-4db6-810d-8b122220b24e",
   "metadata": {},
   "outputs": [
    {
     "name": "stdout",
     "output_type": "stream",
     "text": [
      "[1000, 250, 64, 56, 56, 43, 33, 33, 10]\n"
     ]
    }
   ],
   "source": [
    "mylist.sort(reverse=True)\n",
    "print(mylist)"
   ]
  },
  {
   "cell_type": "code",
   "execution_count": 72,
   "id": "e85fe723-41a4-444c-8867-46aa720be5e3",
   "metadata": {},
   "outputs": [
    {
     "name": "stdout",
     "output_type": "stream",
     "text": [
      "Help on list object:\n",
      "\n",
      "class list(object)\n",
      " |  list(iterable=(), /)\n",
      " |\n",
      " |  Built-in mutable sequence.\n",
      " |\n",
      " |  If no argument is given, the constructor creates a new empty list.\n",
      " |  The argument must be an iterable if specified.\n",
      " |\n",
      " |  Methods defined here:\n",
      " |\n",
      " |  __add__(self, value, /)\n",
      " |      Return self+value.\n",
      " |\n",
      " |  __contains__(self, key, /)\n",
      " |      Return bool(key in self).\n",
      " |\n",
      " |  __delitem__(self, key, /)\n",
      " |      Delete self[key].\n",
      " |\n",
      " |  __eq__(self, value, /)\n",
      " |      Return self==value.\n",
      " |\n",
      " |  __ge__(self, value, /)\n",
      " |      Return self>=value.\n",
      " |\n",
      " |  __getattribute__(self, name, /)\n",
      " |      Return getattr(self, name).\n",
      " |\n",
      " |  __getitem__(self, index, /)\n",
      " |      Return self[index].\n",
      " |\n",
      " |  __gt__(self, value, /)\n",
      " |      Return self>value.\n",
      " |\n",
      " |  __iadd__(self, value, /)\n",
      " |      Implement self+=value.\n",
      " |\n",
      " |  __imul__(self, value, /)\n",
      " |      Implement self*=value.\n",
      " |\n",
      " |  __init__(self, /, *args, **kwargs)\n",
      " |      Initialize self.  See help(type(self)) for accurate signature.\n",
      " |\n",
      " |  __iter__(self, /)\n",
      " |      Implement iter(self).\n",
      " |\n",
      " |  __le__(self, value, /)\n",
      " |      Return self<=value.\n",
      " |\n",
      " |  __len__(self, /)\n",
      " |      Return len(self).\n",
      " |\n",
      " |  __lt__(self, value, /)\n",
      " |      Return self<value.\n",
      " |\n",
      " |  __mul__(self, value, /)\n",
      " |      Return self*value.\n",
      " |\n",
      " |  __ne__(self, value, /)\n",
      " |      Return self!=value.\n",
      " |\n",
      " |  __repr__(self, /)\n",
      " |      Return repr(self).\n",
      " |\n",
      " |  __reversed__(self, /)\n",
      " |      Return a reverse iterator over the list.\n",
      " |\n",
      " |  __rmul__(self, value, /)\n",
      " |      Return value*self.\n",
      " |\n",
      " |  __setitem__(self, key, value, /)\n",
      " |      Set self[key] to value.\n",
      " |\n",
      " |  __sizeof__(self, /)\n",
      " |      Return the size of the list in memory, in bytes.\n",
      " |\n",
      " |  append(self, object, /)\n",
      " |      Append object to the end of the list.\n",
      " |\n",
      " |  clear(self, /)\n",
      " |      Remove all items from list.\n",
      " |\n",
      " |  copy(self, /)\n",
      " |      Return a shallow copy of the list.\n",
      " |\n",
      " |  count(self, value, /)\n",
      " |      Return number of occurrences of value.\n",
      " |\n",
      " |  extend(self, iterable, /)\n",
      " |      Extend list by appending elements from the iterable.\n",
      " |\n",
      " |  index(self, value, start=0, stop=9223372036854775807, /)\n",
      " |      Return first index of value.\n",
      " |\n",
      " |      Raises ValueError if the value is not present.\n",
      " |\n",
      " |  insert(self, index, object, /)\n",
      " |      Insert object before index.\n",
      " |\n",
      " |  pop(self, index=-1, /)\n",
      " |      Remove and return item at index (default last).\n",
      " |\n",
      " |      Raises IndexError if list is empty or index is out of range.\n",
      " |\n",
      " |  remove(self, value, /)\n",
      " |      Remove first occurrence of value.\n",
      " |\n",
      " |      Raises ValueError if the value is not present.\n",
      " |\n",
      " |  reverse(self, /)\n",
      " |      Reverse *IN PLACE*.\n",
      " |\n",
      " |  sort(self, /, *, key=None, reverse=False)\n",
      " |      Sort the list in ascending order and return None.\n",
      " |\n",
      " |      The sort is in-place (i.e. the list itself is modified) and stable (i.e. the\n",
      " |      order of two equal elements is maintained).\n",
      " |\n",
      " |      If a key function is given, apply it once to each list item and sort them,\n",
      " |      ascending or descending, according to their function values.\n",
      " |\n",
      " |      The reverse flag can be set to sort in descending order.\n",
      " |\n",
      " |  ----------------------------------------------------------------------\n",
      " |  Class methods defined here:\n",
      " |\n",
      " |  __class_getitem__(...)\n",
      " |      See PEP 585\n",
      " |\n",
      " |  ----------------------------------------------------------------------\n",
      " |  Static methods defined here:\n",
      " |\n",
      " |  __new__(*args, **kwargs)\n",
      " |      Create and return a new object.  See help(type) for accurate signature.\n",
      " |\n",
      " |  ----------------------------------------------------------------------\n",
      " |  Data and other attributes defined here:\n",
      " |\n",
      " |  __hash__ = None\n",
      "\n"
     ]
    }
   ],
   "source": [
    "help(mylist)"
   ]
  },
  {
   "cell_type": "code",
   "execution_count": 78,
   "id": "c00a69e8-5bff-436b-aa7e-f0098c5481ea",
   "metadata": {},
   "outputs": [
    {
     "name": "stdout",
     "output_type": "stream",
     "text": [
      "10\n",
      "12\n",
      "34\n",
      "56\n",
      "hey\n"
     ]
    }
   ],
   "source": [
    "#loops on lists\n",
    "my_list=[10,12,34,56,\"hey\"]\n",
    "for i in my_list:\n",
    "    print(i)"
   ]
  },
  {
   "cell_type": "code",
   "execution_count": 80,
   "id": "731f27cb-1fa2-453b-be02-38021894c129",
   "metadata": {},
   "outputs": [
    {
     "name": "stdout",
     "output_type": "stream",
     "text": [
      "0\n",
      "1\n",
      "2\n",
      "3\n",
      "4\n"
     ]
    }
   ],
   "source": [
    "for i in range(len(my_list)):\n",
    "    print(i)"
   ]
  },
  {
   "cell_type": "code",
   "execution_count": 82,
   "id": "509ec3b5-f387-46ef-8373-33e3311c6695",
   "metadata": {},
   "outputs": [
    {
     "name": "stdout",
     "output_type": "stream",
     "text": [
      "0 10\n",
      "1 12\n",
      "2 34\n",
      "3 56\n",
      "4 hey\n"
     ]
    }
   ],
   "source": [
    "for i in range(len(my_list)):\n",
    "    print(i,my_list[i])"
   ]
  },
  {
   "cell_type": "code",
   "execution_count": 86,
   "id": "8e8abf9e-4656-4496-abc1-8050a88a1ebb",
   "metadata": {},
   "outputs": [
    {
     "name": "stdout",
     "output_type": "stream",
     "text": [
      "1 20\n",
      "2 30\n",
      "3 67\n",
      "8 15\n"
     ]
    }
   ],
   "source": [
    "#fetch value greater than 10 and store it in new_list\n",
    "my_list=[10,20,30,67,10,2,6,8,15]\n",
    "length=len(mylist)\n",
    "for i in range(length):\n",
    "    if(my_list[i]>10):\n",
    "        print(i,my_list[i])"
   ]
  },
  {
   "cell_type": "code",
   "execution_count": 100,
   "id": "69e774e1-b265-4fe7-9167-5a5fb6b699cc",
   "metadata": {},
   "outputs": [
    {
     "name": "stdout",
     "output_type": "stream",
     "text": [
      "[67, 89, 90, 1000]\n"
     ]
    }
   ],
   "source": [
    "#fetch value greater than 10 and store it in new_list\n",
    "list1=[10,4,5,67,89,90,1,2,3,1000]\n",
    "new_list=[]\n",
    "for i in range(len(list1)):\n",
    "    if(list1[i]>10):\n",
    "        new_list.append(list1[i])\n",
    "print(new_list)"
   ]
  },
  {
   "cell_type": "code",
   "execution_count": 102,
   "id": "de532cba-abdd-416f-8339-feceb9dd2e8b",
   "metadata": {},
   "outputs": [
    {
     "name": "stdout",
     "output_type": "stream",
     "text": [
      "3 hey\n",
      "4 naina\n",
      "6 29\n"
     ]
    }
   ],
   "source": [
    "#to print the elements of string data type from the list\n",
    "mylist=[10,20,30,\"hey\",\"naina\",10,\"29\"]\n",
    "length=len(mylist)\n",
    "for i in range(length):\n",
    "    if(type(mylist[i])==str):\n",
    "        print(i,mylist[i])"
   ]
  },
  {
   "cell_type": "code",
   "execution_count": 106,
   "id": "cd7f9290-312d-4d6e-b663-b42ce656efbc",
   "metadata": {},
   "outputs": [
    {
     "name": "stdout",
     "output_type": "stream",
     "text": [
      "3 100\n",
      "4 shabaul\n",
      "5 haque\n"
     ]
    }
   ],
   "source": [
    "list2=[3,4,67,\"100\",\"shabaul\",\"haque\"]\n",
    "for i in range(len(list2)):\n",
    "    if(type(list2[i])==str):\n",
    "        print(i,list2[i])"
   ]
  },
  {
   "cell_type": "code",
   "execution_count": 7,
   "id": "c76b968e-b970-498e-8361-00883eaf3ddd",
   "metadata": {},
   "outputs": [
    {
     "name": "stdout",
     "output_type": "stream",
     "text": [
      "['100', 'shabaul', 'haque', 'saif']\n"
     ]
    }
   ],
   "source": [
    "list3=[3,4,67,\"100\",\"shabaul\",\"haque\",\"saif\"]\n",
    "newlist2=[]\n",
    "for i in range(len(list3)):\n",
    "    if(type(list3[i])==str):\n",
    "        newlist2.append(list3[i])\n",
    "print(newlist2)"
   ]
  },
  {
   "cell_type": "code",
   "execution_count": 5,
   "id": "e217594d-3748-454b-af15-479f6bd2f7bb",
   "metadata": {},
   "outputs": [
    {
     "name": "stdout",
     "output_type": "stream",
     "text": [
      "999\n"
     ]
    }
   ],
   "source": [
    "mylist=[10,20,30,15,6,7,8,999]\n",
    "length=len(mylist)\n",
    "max=0\n",
    "for i in range(length):\n",
    "    if(mylist[i]>max):\n",
    "        max=mylist[i]\n",
    "\n",
    "print(max)"
   ]
  },
  {
   "cell_type": "code",
   "execution_count": 9,
   "id": "178f9cd0-da9b-4e1b-a488-15a0f8e95b73",
   "metadata": {},
   "outputs": [
    {
     "name": "stdout",
     "output_type": "stream",
     "text": [
      "136.875\n"
     ]
    }
   ],
   "source": [
    "mylist=[10,20,30,15,6,7,8,999]\n",
    "length=len(mylist)\n",
    "sum=0\n",
    "for i in range(length):\n",
    "    sum+=mylist[i]\n",
    "\n",
    "average=sum/length\n",
    "print(average)"
   ]
  },
  {
   "cell_type": "code",
   "execution_count": 11,
   "id": "e532903b-5a50-43b3-af5f-8a92baabd045",
   "metadata": {},
   "outputs": [
    {
     "name": "stdout",
     "output_type": "stream",
     "text": [
      "shabaul\n"
     ]
    }
   ],
   "source": [
    "mylist=['hllo','hey','user','aman','shabaul']\n",
    "for i in range(len(mylist)):\n",
    "    if(len(mylist[i])>4):\n",
    "        print(mylist[i])"
   ]
  },
  {
   "cell_type": "code",
   "execution_count": null,
   "id": "5c02f609-cb01-453d-8561-99c95f63e5dc",
   "metadata": {},
   "outputs": [],
   "source": []
  }
 ],
 "metadata": {
  "kernelspec": {
   "display_name": "Python 3 (ipykernel)",
   "language": "python",
   "name": "python3"
  },
  "language_info": {
   "codemirror_mode": {
    "name": "ipython",
    "version": 3
   },
   "file_extension": ".py",
   "mimetype": "text/x-python",
   "name": "python",
   "nbconvert_exporter": "python",
   "pygments_lexer": "ipython3",
   "version": "3.12.4"
  }
 },
 "nbformat": 4,
 "nbformat_minor": 5
}
