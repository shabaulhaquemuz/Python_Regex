{
 "cells": [
  {
   "cell_type": "code",
   "execution_count": 1,
   "id": "4868a91d-10d9-4f84-b358-23c07a3ede32",
   "metadata": {},
   "outputs": [],
   "source": [
    "# ✅ How many First-Class Objects are there in Python?\n",
    "# In Python, many things are first-class objects, not just functions.\n",
    "\n",
    "# Definition Recap:\n",
    "# An object is first-class if it:\n",
    "\n",
    "# Can be assigned to a variable ✅\n",
    "\n",
    "# Can be passed as an argument ✅\n",
    "\n",
    "# Can be returned from a function ✅\n",
    "\n",
    "# Can be stored in data structures ✅\n",
    "\n",
    "\n",
    "#  Examples of First-Class Objects in Python\n",
    "# Type\tExample\n",
    "# ✅ Numbers\tx = 10\n",
    "# ✅ Strings\tname = \"Alice\"\n",
    "# ✅ Lists\tmy_list = [1, 2, 3]\n",
    "# ✅ Tuples\tt = (1, 2)\n",
    "# ✅ Dictionaries\td = {'a': 1}\n",
    "# ✅ Sets\ts = {1, 2, 3}\n",
    "# ✅ Functions\tdef greet(): pass\n",
    "# ✅ Classes\tclass A: pass\n",
    "# ✅ Objects (instances)\tobj = A()\n",
    "# ✅ Modules\timport math\n",
    "# ✅ Lambdas\tf = lambda x: x*x\n",
    "# ✅ Files\tf = open(\"file.txt\")"
   ]
  },
  {
   "cell_type": "code",
   "execution_count": 13,
   "id": "efc6219d-0f42-4937-bd89-96bec7c763f6",
   "metadata": {},
   "outputs": [
    {
     "name": "stdout",
     "output_type": "stream",
     "text": [
      "Hello!\n"
     ]
    }
   ],
   "source": [
    "#1. Assigning a Function to a Variable\n",
    "\n",
    "def greet():\n",
    "    return \"Hello!\"\n",
    "\n",
    "say_hello = greet  # assign function to a variable\n",
    "print(say_hello())  # calling using new variable"
   ]
  },
  {
   "cell_type": "code",
   "execution_count": 15,
   "id": "9273afc9-31d6-4ae6-b61e-afad40c89232",
   "metadata": {},
   "outputs": [
    {
     "name": "stdout",
     "output_type": "stream",
     "text": [
      "Hello!\n"
     ]
    }
   ],
   "source": [
    "#2. Passing a Function as an Argument\n",
    "\n",
    "def greet():\n",
    "    return \"Hello!\"\n",
    "\n",
    "def call_func(func):   # takes another function as parameter\n",
    "    print(func())\n",
    "\n",
    "call_func(greet)"
   ]
  },
  {
   "cell_type": "code",
   "execution_count": 17,
   "id": "95e2c62f-f9eb-49df-947d-2eb655f24e48",
   "metadata": {},
   "outputs": [
    {
     "name": "stdout",
     "output_type": "stream",
     "text": [
      "I am inner function\n"
     ]
    }
   ],
   "source": [
    "#3. Returning a Function from Another Function\n",
    "\n",
    "def outer():\n",
    "    def inner():\n",
    "        return \"I am inner function\"\n",
    "    return inner  # return the function, not call it\n",
    "\n",
    "f = outer()\n",
    "print(f())  # calling returned function"
   ]
  },
  {
   "cell_type": "code",
   "execution_count": 19,
   "id": "d035d517-1a72-4cb5-ad74-a527c9e7f954",
   "metadata": {},
   "outputs": [
    {
     "name": "stdout",
     "output_type": "stream",
     "text": [
      "8\n",
      "2\n"
     ]
    }
   ],
   "source": [
    "def add(x, y):\n",
    "    return x + y\n",
    "\n",
    "def subtract(x, y):\n",
    "    return x - y\n",
    "\n",
    "operations = {\n",
    "    'sum': add,\n",
    "    'sub': subtract\n",
    "}\n",
    "\n",
    "print(operations['sum'](5, 3))  # 5 + 3\n",
    "print(operations['sub'](5, 3))  # 5 - 3\n"
   ]
  },
  {
   "cell_type": "code",
   "execution_count": null,
   "id": "01ecc7ac-bf6a-4870-9bb9-490cc74282db",
   "metadata": {},
   "outputs": [],
   "source": []
  }
 ],
 "metadata": {
  "kernelspec": {
   "display_name": "Python 3 (ipykernel)",
   "language": "python",
   "name": "python3"
  },
  "language_info": {
   "codemirror_mode": {
    "name": "ipython",
    "version": 3
   },
   "file_extension": ".py",
   "mimetype": "text/x-python",
   "name": "python",
   "nbconvert_exporter": "python",
   "pygments_lexer": "ipython3",
   "version": "3.12.4"
  }
 },
 "nbformat": 4,
 "nbformat_minor": 5
}
