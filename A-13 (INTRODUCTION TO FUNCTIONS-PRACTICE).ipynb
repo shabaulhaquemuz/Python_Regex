{
 "cells": [
  {
   "cell_type": "code",
   "execution_count": 1,
   "id": "b74318f7-13b9-4b42-b5b4-0a1d645e031e",
   "metadata": {},
   "outputs": [
    {
     "name": "stdout",
     "output_type": "stream",
     "text": [
      "shabaul\n"
     ]
    }
   ],
   "source": [
    "def greeting():\n",
    "    print(\"shabaul\")\n",
    "greeting()"
   ]
  },
  {
   "cell_type": "code",
   "execution_count": 7,
   "id": "f6c6d700-42d0-49c4-82ab-9fc7e6ead3d4",
   "metadata": {},
   "outputs": [
    {
     "name": "stdout",
     "output_type": "stream",
     "text": [
      "the number is 4\n"
     ]
    }
   ],
   "source": [
    "def greet(z):\n",
    "    print(\"the number is\",z)\n",
    "greet(4)"
   ]
  },
  {
   "cell_type": "code",
   "execution_count": 9,
   "id": "632fff13-becd-4f5b-b7f2-4eaf14c9b517",
   "metadata": {},
   "outputs": [
    {
     "name": "stdout",
     "output_type": "stream",
     "text": [
      "factors of num are: 1\n",
      "factors of num are: 2\n",
      "factors of num are: 3\n",
      "factors of num are: 4\n",
      "factors of num are: 6\n",
      "factors of num are: 12\n"
     ]
    }
   ],
   "source": [
    "def factors(num):\n",
    "    for i in range(1,num+1):\n",
    "        if(num%i==0):\n",
    "            print(\"factors of num are:\",i)\n",
    "factors(12)"
   ]
  },
  {
   "cell_type": "code",
   "execution_count": 11,
   "id": "a0eb91f3-c0bf-4cdf-99ea-e4b9af44c232",
   "metadata": {},
   "outputs": [
    {
     "name": "stdout",
     "output_type": "stream",
     "text": [
      "not an armstrong number\n"
     ]
    }
   ],
   "source": [
    "def armstrong(num):\n",
    "    sum=0\n",
    "    original=num\n",
    "    while(num>0):\n",
    "        digit=num%10\n",
    "        power_digit=digit**len(str(num))\n",
    "        sum+=power_digit\n",
    "        num=num//10\n",
    "    if(original==sum):\n",
    "        print(\"armstrong number\")\n",
    "    else:\n",
    "        print(\"not an armstrong number\")\n",
    "armstrong(370)\n",
    "#you have to assign len(str(num)) to a variable then use it for power"
   ]
  },
  {
   "cell_type": "code",
   "execution_count": 25,
   "id": "dd722e5b-66b4-40ce-b234-cb3bb94dad9b",
   "metadata": {},
   "outputs": [
    {
     "name": "stdout",
     "output_type": "stream",
     "text": [
      "armstrong number\n"
     ]
    }
   ],
   "source": [
    "def armstrong(num):\n",
    "    sum=0\n",
    "    original=num\n",
    "    length=len(str(num))\n",
    "    while(num>0):\n",
    "        digit=num%10\n",
    "        power_digit=digit**length\n",
    "        sum+=power_digit\n",
    "        num=num//10\n",
    "    if(original==sum):\n",
    "        print(\"armstrong number\")\n",
    "    else:\n",
    "        print(\"not an armstrong number\")\n",
    "armstrong(370)"
   ]
  },
  {
   "cell_type": "code",
   "execution_count": 33,
   "id": "ee044db3-a393-4b67-bf41-899e53689995",
   "metadata": {},
   "outputs": [
    {
     "name": "stdout",
     "output_type": "stream",
     "text": [
      "my name is shabaul age is 23 sex is  male\n"
     ]
    }
   ],
   "source": [
    "def argu(name,age,sex):\n",
    "    print(\"my name is\",name,\"age is\",age, \"sex is \",sex)\n",
    "\n",
    "argu(\"shabaul\",23,\"male\")   #positional argument"
   ]
  },
  {
   "cell_type": "code",
   "execution_count": 37,
   "id": "1b50ce63-081b-496e-b701-d09baab3258f",
   "metadata": {},
   "outputs": [
    {
     "name": "stdout",
     "output_type": "stream",
     "text": [
      "my name is shabaul age is 23 sex is  male\n"
     ]
    }
   ],
   "source": [
    "def argument(name,age,sex):\n",
    "    print(\"my name is\",name,\"age is\",age, \"sex is \",sex)\n",
    "argument(name=\"shabaul\",sex=\"male\",age=23)   # no position is required, just define it anywhere while passing arguments"
   ]
  },
  {
   "cell_type": "code",
   "execution_count": 43,
   "id": "a5c28506-ca8f-4df7-b3c3-c01a40c820b1",
   "metadata": {},
   "outputs": [
    {
     "name": "stdout",
     "output_type": "stream",
     "text": [
      "my name is shabaul age is 23 sex is  male\n"
     ]
    }
   ],
   "source": [
    "def default(name=\"shabaul\",age=23,sex=\"male\"):\n",
    "    print(\"my name is\",name,\"age is\",age, \"sex is \",sex)\n",
    "default()"
   ]
  },
  {
   "cell_type": "code",
   "execution_count": 45,
   "id": "6958965c-1150-4052-aebf-472510bd5c2e",
   "metadata": {},
   "outputs": [
    {
     "name": "stdout",
     "output_type": "stream",
     "text": [
      "my name is saif age is 23 sex is  male\n"
     ]
    }
   ],
   "source": [
    "def default(name=\"shabaul\",age=23,sex=\"male\"):\n",
    "    print(\"my name is\",name,\"age is\",age, \"sex is \",sex)\n",
    "default(name=\"saif\")   #value of default parameter can be updated while passing argument by assigning new value to the variable"
   ]
  },
  {
   "cell_type": "code",
   "execution_count": 47,
   "id": "a3395373-4f3e-43a8-8b8a-f9c225b1d9d7",
   "metadata": {},
   "outputs": [
    {
     "name": "stdout",
     "output_type": "stream",
     "text": [
      "20\n"
     ]
    }
   ],
   "source": [
    "def func(x):\n",
    "    print(x+10)\n",
    "func(10)\n",
    "#print gives the output but not save it"
   ]
  },
  {
   "cell_type": "code",
   "execution_count": 53,
   "id": "ec61bdd0-da69-44bc-881e-b3d88b49fc1f",
   "metadata": {},
   "outputs": [
    {
     "name": "stdout",
     "output_type": "stream",
     "text": [
      "25\n",
      "None\n"
     ]
    }
   ],
   "source": [
    "def func(y):\n",
    "    print(y+20)\n",
    "a=func(5)\n",
    "print(a)\n",
    "#print is returning none"
   ]
  },
  {
   "cell_type": "code",
   "execution_count": 55,
   "id": "dcf4f2ce-9dec-4c6e-9be2-4f6e43533b51",
   "metadata": {},
   "outputs": [
    {
     "data": {
      "text/plain": [
       "10"
      ]
     },
     "execution_count": 55,
     "metadata": {},
     "output_type": "execute_result"
    }
   ],
   "source": [
    "def func(z):\n",
    "    return z*2\n",
    "func(5)\n",
    "#return saves the value"
   ]
  },
  {
   "cell_type": "code",
   "execution_count": 65,
   "id": "8be1f19b-6f18-4c2e-be9e-5b91f743bd30",
   "metadata": {},
   "outputs": [],
   "source": [
    "def func(z):\n",
    "    return z*2\n",
    "b=func(5)\n",
    "#return saved the value but not displaying when assigned to vafriable until that variable is passed to print function"
   ]
  },
  {
   "cell_type": "code",
   "execution_count": 67,
   "id": "390d25ce-8ea2-444f-9679-630f941fb977",
   "metadata": {},
   "outputs": [
    {
     "name": "stdout",
     "output_type": "stream",
     "text": [
      "10\n"
     ]
    }
   ],
   "source": [
    "def func(z):\n",
    "    return z*2\n",
    "b=func(5)\n",
    "print(b)"
   ]
  },
  {
   "cell_type": "code",
   "execution_count": 69,
   "id": "3911e841-3e15-429d-814f-1a4b7a3150bd",
   "metadata": {},
   "outputs": [
    {
     "name": "stdout",
     "output_type": "stream",
     "text": [
      "14\n"
     ]
    }
   ],
   "source": [
    "#create a function to find the sum of square of natural numbers upto n\n",
    "def squaresum(num):\n",
    "    sum=0\n",
    "    for i in range(1,num+1):\n",
    "        sum+=i**2\n",
    "    print(sum)\n",
    "squaresum(3)\n",
    "        "
   ]
  },
  {
   "cell_type": "code",
   "execution_count": 71,
   "id": "5261bdfd-2a1f-4eac-8405-f6e014af871b",
   "metadata": {},
   "outputs": [
    {
     "name": "stdout",
     "output_type": "stream",
     "text": [
      "10\n"
     ]
    }
   ],
   "source": [
    "#digit sum of a number\n",
    "def digitsum(num):\n",
    "    sum=0\n",
    "    while(num>0):\n",
    "        digit=num%10\n",
    "        sum+=digit\n",
    "        num=num//10\n",
    "    print(sum)\n",
    "digitsum(1234)"
   ]
  },
  {
   "cell_type": "code",
   "execution_count": 77,
   "id": "1fd18f27-faba-4d52-85c7-c8a7537ae127",
   "metadata": {},
   "outputs": [
    {
     "name": "stdout",
     "output_type": "stream",
     "text": [
      "odd\n"
     ]
    }
   ],
   "source": [
    "#check for odd or even\n",
    "def oddeve(num):\n",
    "    if(num%2==0):\n",
    "        print(\"even\")\n",
    "    else:\n",
    "        print(\"odd\")\n",
    "oddeve(3)"
   ]
  },
  {
   "cell_type": "code",
   "execution_count": 79,
   "id": "82aae37d-f65a-4b6a-9b0a-be4a854acad4",
   "metadata": {},
   "outputs": [
    {
     "name": "stdout",
     "output_type": "stream",
     "text": [
      "9\n"
     ]
    }
   ],
   "source": [
    "#add two numbers\n",
    "def addition(a,b):\n",
    "    print(a+b)\n",
    "addition(4,5)"
   ]
  },
  {
   "cell_type": "code",
   "execution_count": null,
   "id": "cc270879-5a1b-40d5-87c9-08d0654fc1c8",
   "metadata": {},
   "outputs": [],
   "source": []
  }
 ],
 "metadata": {
  "kernelspec": {
   "display_name": "Python 3 (ipykernel)",
   "language": "python",
   "name": "python3"
  },
  "language_info": {
   "codemirror_mode": {
    "name": "ipython",
    "version": 3
   },
   "file_extension": ".py",
   "mimetype": "text/x-python",
   "name": "python",
   "nbconvert_exporter": "python",
   "pygments_lexer": "ipython3",
   "version": "3.12.4"
  }
 },
 "nbformat": 4,
 "nbformat_minor": 5
}
