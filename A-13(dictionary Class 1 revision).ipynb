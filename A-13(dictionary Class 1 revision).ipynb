{
 "cells": [
  {
   "cell_type": "code",
   "execution_count": 1,
   "id": "ecb582ae-da95-4435-9229-059b7471dc3b",
   "metadata": {},
   "outputs": [],
   "source": [
    "#A dictionary in Python is an unordered,unindexed, mutable collection of key-value pairs. It allows fast retrieval of values based on unique keys.\n",
    "\n",
    "# Keys must be unique and immutable (e.g., strings, numbers, tuples).\n",
    "# Values can be any data type and can be repeated.\n",
    "# Defined using curly braces {} or the dict() constructor.\n",
    "#stores data in key:value pair\n",
    "#keys are unique but values are either unique or duplicates\n",
    "#it has no indexing so data are accessed through keys only\n",
    "#Dictionaries in Python 3.7 and above are ordered collections — they maintain the order of insertion of keys.\n",
    "#Dictionaries in Python 3.6 and below are unordered collections.\n"
   ]
  },
  {
   "cell_type": "code",
   "execution_count": 3,
   "id": "2e04c209-5075-4b61-a355-7d5b180c6bf6",
   "metadata": {},
   "outputs": [],
   "source": [
    "#why do we need dictionary?\n",
    "#when we insert a new element in a list at a particular index, the position of all the elements present in the right \n",
    "# are shifted from its place which basically takes a large time. So the time complexity become O(n) which is large.\n",
    "#dictionary has no index so we can insert through keys at any position in O(1) time, no need to shift other elements."
   ]
  },
  {
   "cell_type": "code",
   "execution_count": 5,
   "id": "291d0182-58b3-4563-a0ec-b385ca53e370",
   "metadata": {},
   "outputs": [
    {
     "name": "stdout",
     "output_type": "stream",
     "text": [
      "{'name': 'shabaul', 'salary': 80000, 'email': 'shabaulhaque@gmail.com'}\n"
     ]
    }
   ],
   "source": [
    "mydictionary={\"name\":\"shabaul\",\"salary\":80000,\"email\":\"shabaulhaque@gmail.com\"}\n",
    "print(mydictionary)"
   ]
  },
  {
   "cell_type": "code",
   "execution_count": 9,
   "id": "96f51cea-a1da-4912-944a-b3d10412fbd5",
   "metadata": {},
   "outputs": [
    {
     "ename": "KeyError",
     "evalue": "2",
     "output_type": "error",
     "traceback": [
      "\u001b[1;31m---------------------------------------------------------------------------\u001b[0m",
      "\u001b[1;31mKeyError\u001b[0m                                  Traceback (most recent call last)",
      "Cell \u001b[1;32mIn[9], line 2\u001b[0m\n\u001b[0;32m      1\u001b[0m mydictionary\u001b[38;5;241m=\u001b[39m{\u001b[38;5;124m\"\u001b[39m\u001b[38;5;124mname\u001b[39m\u001b[38;5;124m\"\u001b[39m:\u001b[38;5;124m\"\u001b[39m\u001b[38;5;124mshabaul\u001b[39m\u001b[38;5;124m\"\u001b[39m,\u001b[38;5;124m\"\u001b[39m\u001b[38;5;124msalary\u001b[39m\u001b[38;5;124m\"\u001b[39m:\u001b[38;5;241m80000\u001b[39m,\u001b[38;5;124m\"\u001b[39m\u001b[38;5;124memail\u001b[39m\u001b[38;5;124m\"\u001b[39m:\u001b[38;5;124m\"\u001b[39m\u001b[38;5;124mshabaulhaque@gmail.com\u001b[39m\u001b[38;5;124m\"\u001b[39m}\n\u001b[1;32m----> 2\u001b[0m \u001b[38;5;28mprint\u001b[39m(mydictionary[\u001b[38;5;241m2\u001b[39m])\n",
      "\u001b[1;31mKeyError\u001b[0m: 2"
     ]
    }
   ],
   "source": [
    "mydictionary={\"name\":\"shabaul\",\"salary\":80000,\"email\":\"shabaulhaque@gmail.com\"}\n",
    "print(mydictionary[2])\n",
    "#will give error because dictionary has no index"
   ]
  },
  {
   "cell_type": "code",
   "execution_count": 15,
   "id": "182090cd-0597-4991-b134-9d125ed9fb9e",
   "metadata": {},
   "outputs": [
    {
     "name": "stdout",
     "output_type": "stream",
     "text": [
      "80000\n"
     ]
    }
   ],
   "source": [
    "mydictionary={\"name\":\"shabaul\",\"salary\":80000,\"email\":\"shabaulhaque@gmail.com\"}\n",
    "print(mydictionary[\"salary\"])\n",
    "#data accessed through keys"
   ]
  },
  {
   "cell_type": "code",
   "execution_count": 17,
   "id": "9f1ccc14-7f27-4873-a3cd-a42cbf10aa5d",
   "metadata": {},
   "outputs": [
    {
     "name": "stdout",
     "output_type": "stream",
     "text": [
      "shabaulhaque@gmail.com\n"
     ]
    }
   ],
   "source": [
    "mydictionary={\"name\":\"shabaul\",\"salary\":80000,\"email\":\"shabaulhaque@gmail.com\"}\n",
    "print(mydictionary[\"email\"])"
   ]
  },
  {
   "cell_type": "code",
   "execution_count": 24,
   "id": "3494c425-db2e-479b-8894-2901bd5aaf95",
   "metadata": {},
   "outputs": [
    {
     "name": "stdout",
     "output_type": "stream",
     "text": [
      "shabaul\n"
     ]
    }
   ],
   "source": [
    "mydictionary={\"name\":\"shabaul\",\"salary\":80000,\"email\":\"shabaulhaque@gmail.com\"}\n",
    "print(mydictionary[\"name\"])"
   ]
  },
  {
   "cell_type": "code",
   "execution_count": 26,
   "id": "8478038a-99cb-4c4f-856a-276df69e6603",
   "metadata": {},
   "outputs": [
    {
     "name": "stdout",
     "output_type": "stream",
     "text": [
      "{'name': 'shabaul', 'salary': 80000, 'email': 'saif@gmail.com'}\n"
     ]
    }
   ],
   "source": [
    "#updating the value of a particular key in dictionary\n",
    "mydictionary={\"name\":\"shabaul\",\"salary\":80000,\"email\":\"shabaulhaque@gmail.com\"}\n",
    "mydictionary[\"email\"]=\"saif@gmail.com\"\n",
    "print(mydictionary)"
   ]
  },
  {
   "cell_type": "code",
   "execution_count": 32,
   "id": "77d7e86f-60b2-4d5f-8878-4d28cfda10df",
   "metadata": {},
   "outputs": [
    {
     "name": "stdout",
     "output_type": "stream",
     "text": [
      "{'name': 'shabaul', 'salary': 80000, 'email': 'shabaulhaque@gmail.com', 'address': 'jaipur'}\n"
     ]
    }
   ],
   "source": [
    "#insert a new element in dictionary\n",
    "mydictionary={\"name\":\"shabaul\",\"salary\":80000,\"email\":\"shabaulhaque@gmail.com\"}\n",
    "mydictionary[\"address\"]=\"jaipur\"\n",
    "print(mydictionary)\n",
    "#new element is always inserted at last showing dictionary at and after version 3.7 is ordered"
   ]
  },
  {
   "cell_type": "code",
   "execution_count": 34,
   "id": "81adae05-c6b4-4069-a7d6-24c4ffa10cf6",
   "metadata": {},
   "outputs": [
    {
     "name": "stdout",
     "output_type": "stream",
     "text": [
      "{'name': 'saif', 'age': 23}\n"
     ]
    }
   ],
   "source": [
    "mydict={\"name\":\"haque\"}\n",
    "mydict[\"age\"]=23        #new element inserted first but still the key is maintaining its order of which key-value pair is inserted first\n",
    "mydict[\"name\"]=\"saif\"   #key-value pair name is updated here\n",
    "print(mydict)"
   ]
  },
  {
   "cell_type": "code",
   "execution_count": 36,
   "id": "ef7cb6fe-6099-4c21-a05a-e1a10f354041",
   "metadata": {},
   "outputs": [],
   "source": [
    "#.keys() method is used to return all keys in the dictionary\n",
    "#.values() method is used to return all the values in the dictionary"
   ]
  },
  {
   "cell_type": "code",
   "execution_count": 46,
   "id": "5d1ca670-81af-4978-9f65-3e033bf1e948",
   "metadata": {},
   "outputs": [
    {
     "name": "stdout",
     "output_type": "stream",
     "text": [
      "{'name': 'haque', 'age': 23, 'height': 169}\n"
     ]
    },
    {
     "data": {
      "text/plain": [
       "dict_keys(['name', 'age', 'height'])"
      ]
     },
     "execution_count": 46,
     "metadata": {},
     "output_type": "execute_result"
    }
   ],
   "source": [
    "mydict1={\"name\":\"haque\",\"age\":23,\"height\":169}\n",
    "print(mydict1)\n",
    "mydict1.keys()"
   ]
  },
  {
   "cell_type": "code",
   "execution_count": 50,
   "id": "09d85694-c43c-4a62-984c-22180a463ff2",
   "metadata": {},
   "outputs": [
    {
     "name": "stdout",
     "output_type": "stream",
     "text": [
      "{'name': 'haque', 'age': 23, 'height': 169}\n"
     ]
    },
    {
     "data": {
      "text/plain": [
       "dict_values(['haque', 23, 169])"
      ]
     },
     "execution_count": 50,
     "metadata": {},
     "output_type": "execute_result"
    }
   ],
   "source": [
    "mydict1={\"name\":\"haque\",\"age\":23,\"height\":169}\n",
    "print(mydict1)\n",
    "mydict1.values()"
   ]
  },
  {
   "cell_type": "code",
   "execution_count": 52,
   "id": "9aed40b0-1311-4d68-8462-e5e517ab8e5a",
   "metadata": {},
   "outputs": [
    {
     "name": "stdout",
     "output_type": "stream",
     "text": [
      "{'name': 'haque', 'age': 23, 'height': 169}\n"
     ]
    },
    {
     "ename": "TypeError",
     "evalue": "pop expected at least 1 argument, got 0",
     "output_type": "error",
     "traceback": [
      "\u001b[1;31m---------------------------------------------------------------------------\u001b[0m",
      "\u001b[1;31mTypeError\u001b[0m                                 Traceback (most recent call last)",
      "Cell \u001b[1;32mIn[52], line 3\u001b[0m\n\u001b[0;32m      1\u001b[0m mydict1\u001b[38;5;241m=\u001b[39m{\u001b[38;5;124m\"\u001b[39m\u001b[38;5;124mname\u001b[39m\u001b[38;5;124m\"\u001b[39m:\u001b[38;5;124m\"\u001b[39m\u001b[38;5;124mhaque\u001b[39m\u001b[38;5;124m\"\u001b[39m,\u001b[38;5;124m\"\u001b[39m\u001b[38;5;124mage\u001b[39m\u001b[38;5;124m\"\u001b[39m:\u001b[38;5;241m23\u001b[39m,\u001b[38;5;124m\"\u001b[39m\u001b[38;5;124mheight\u001b[39m\u001b[38;5;124m\"\u001b[39m:\u001b[38;5;241m169\u001b[39m}\n\u001b[0;32m      2\u001b[0m \u001b[38;5;28mprint\u001b[39m(mydict1)\n\u001b[1;32m----> 3\u001b[0m mydict1\u001b[38;5;241m.\u001b[39mpop()\n",
      "\u001b[1;31mTypeError\u001b[0m: pop expected at least 1 argument, got 0"
     ]
    }
   ],
   "source": [
    "mydict1={\"name\":\"haque\",\"age\":23,\"height\":169}\n",
    "print(mydict1)\n",
    "mydict1.pop()"
   ]
  },
  {
   "cell_type": "code",
   "execution_count": 54,
   "id": "a90c6117-3531-4a75-98e1-3e371ad1e795",
   "metadata": {},
   "outputs": [],
   "source": [
    "#delete data from dictionary: pop() method is used to delete a particular data from the dictionary\n",
    "# The pop() method requires a key argument — you must tell it which key to remove.\n",
    "# Without a key, you'll get this error:\n",
    "# TypeError: pop expected at least 1 argument, got 0"
   ]
  },
  {
   "cell_type": "code",
   "execution_count": 64,
   "id": "60b6401e-4502-419b-997f-2666d31829f7",
   "metadata": {},
   "outputs": [
    {
     "name": "stdout",
     "output_type": "stream",
     "text": [
      "{'name': 'haque', 'age': 23, 'height': 169}\n"
     ]
    },
    {
     "data": {
      "text/plain": [
       "'haque'"
      ]
     },
     "execution_count": 64,
     "metadata": {},
     "output_type": "execute_result"
    }
   ],
   "source": [
    "mydict1={\"name\":\"haque\",\"age\":23,\"height\":169}\n",
    "print(mydict1)\n",
    "mydict1.pop(\"name\")\n",
    "#data of name key is deleted"
   ]
  },
  {
   "cell_type": "code",
   "execution_count": 72,
   "id": "0cd93cae-8cf1-4685-b05a-b6522bfdd904",
   "metadata": {},
   "outputs": [
    {
     "name": "stdout",
     "output_type": "stream",
     "text": [
      "{'name': 'haque', 'age': 23, 'height': 169}\n",
      "{'name': 'haque', 'height': 169} 23\n"
     ]
    }
   ],
   "source": [
    "mydict2={\"name\":\"haque\",\"age\":23,\"height\":169}\n",
    "print(mydict2)\n",
    "x=mydict2.pop(\"age\")\n",
    "print(mydict2,x)\n",
    "#x stores the data for key \"age\""
   ]
  },
  {
   "cell_type": "code",
   "execution_count": 78,
   "id": "797f13ab-889b-4754-8fbc-32eba405acbd",
   "metadata": {},
   "outputs": [
    {
     "name": "stdout",
     "output_type": "stream",
     "text": [
      "{'name': 'haque', 'age': 23, 'height': 169}\n",
      "name\n",
      "age\n",
      "height\n"
     ]
    }
   ],
   "source": [
    "#running loop on dictionary\n",
    "mydict3={\"name\":\"haque\",\"age\":23,\"height\":169}\n",
    "print(mydict3)\n",
    "for i in mydict3:\n",
    "    print(i)\n",
    "#we run loop on keys"
   ]
  },
  {
   "cell_type": "code",
   "execution_count": 82,
   "id": "948565c8-fd6d-4c98-9751-0c20ef58c319",
   "metadata": {},
   "outputs": [
    {
     "name": "stdout",
     "output_type": "stream",
     "text": [
      "{'name': 'haque', 'age': 23, 'height': 169}\n",
      "name haque\n",
      "age 23\n",
      "height 169\n"
     ]
    }
   ],
   "source": [
    "mydict4={\"name\":\"haque\",\"age\":23,\"height\":169}\n",
    "print(mydict4)\n",
    "for i in mydict4:\n",
    "    print(i,mydict4[i])\n",
    "#printed both values and keys . values are printed through loop by dictionaryname[i] where i are  the various keys"
   ]
  },
  {
   "cell_type": "code",
   "execution_count": 90,
   "id": "1fa2f683-e27b-401a-88f3-bdbe04d27fd8",
   "metadata": {},
   "outputs": [
    {
     "name": "stdout",
     "output_type": "stream",
     "text": [
      "name\n",
      "age\n",
      "height\n"
     ]
    }
   ],
   "source": [
    "#another way of printing keys\n",
    "mydict4={\"name\":\"haque\",\"age\":23,\"height\":169}\n",
    "for i in mydict4.keys():\n",
    "    print(i)\n"
   ]
  },
  {
   "cell_type": "code",
   "execution_count": 92,
   "id": "91b3d627-9b9e-4d77-b1a2-c9326a1e1e09",
   "metadata": {},
   "outputs": [
    {
     "name": "stdout",
     "output_type": "stream",
     "text": [
      "haque\n",
      "23\n",
      "169\n"
     ]
    }
   ],
   "source": [
    "#directly accessing values through loop\n",
    "mydict5={\"name\":\"haque\",\"age\":23,\"height\":169}\n",
    "for i in mydict5.values():\n",
    "    print(i)"
   ]
  },
  {
   "cell_type": "code",
   "execution_count": 94,
   "id": "ceff8b3f-1534-4e4d-97ab-e69a9e266da3",
   "metadata": {},
   "outputs": [
    {
     "name": "stdout",
     "output_type": "stream",
     "text": [
      "{10: 'a', 'amount': 105}\n"
     ]
    }
   ],
   "source": [
    "#adding a certain value to the current value of a particular key\n",
    "d={10:\"a\", \"amount\":100}\n",
    "d[\"amount\"]=d[\"amount\"]+5\n",
    "print(d)"
   ]
  },
  {
   "cell_type": "code",
   "execution_count": 102,
   "id": "34074063-b174-491b-9cbe-beaf8be2cff3",
   "metadata": {},
   "outputs": [
    {
     "name": "stdout",
     "output_type": "stream",
     "text": [
      "{'total': 4}\n"
     ]
    }
   ],
   "source": [
    "#increasing the value of key \"total\" to +1 for every letter of the string\n",
    "s=\"raj5\"\n",
    "d1={}\n",
    "d1[\"total\"]=0\n",
    "for i in s:\n",
    "    d1[\"total\"]=d1[\"total\"]+1\n",
    "print(d1)"
   ]
  },
  {
   "cell_type": "code",
   "execution_count": 104,
   "id": "21b22a03-7d21-4581-b08f-53e89d8d4ac5",
   "metadata": {},
   "outputs": [
    {
     "name": "stdout",
     "output_type": "stream",
     "text": [
      "{'a': 1, 'b': 1, 'c': 1}\n"
     ]
    }
   ],
   "source": [
    "#making key-value pair where value is 1 for all the keys\n",
    "s=\"abc\"\n",
    "d2={}\n",
    "for i in s:\n",
    "    d2[i]=1\n",
    "print(d2)"
   ]
  },
  {
   "cell_type": "code",
   "execution_count": null,
   "id": "4eff1313-2326-4771-b317-e952895c3919",
   "metadata": {},
   "outputs": [],
   "source": []
  }
 ],
 "metadata": {
  "kernelspec": {
   "display_name": "Python 3 (ipykernel)",
   "language": "python",
   "name": "python3"
  },
  "language_info": {
   "codemirror_mode": {
    "name": "ipython",
    "version": 3
   },
   "file_extension": ".py",
   "mimetype": "text/x-python",
   "name": "python",
   "nbconvert_exporter": "python",
   "pygments_lexer": "ipython3",
   "version": "3.12.4"
  }
 },
 "nbformat": 4,
 "nbformat_minor": 5
}
