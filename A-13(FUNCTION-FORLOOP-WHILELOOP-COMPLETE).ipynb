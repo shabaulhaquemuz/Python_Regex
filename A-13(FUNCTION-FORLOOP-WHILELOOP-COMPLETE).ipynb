{
 "cells": [
  {
   "cell_type": "code",
   "execution_count": 2,
   "id": "cc1f556d-5950-42fd-bbf8-3a364ad72b99",
   "metadata": {},
   "outputs": [
    {
     "name": "stdout",
     "output_type": "stream",
     "text": [
      "shabaul\n"
     ]
    }
   ],
   "source": [
    "def greet():\n",
    "    print(\"shabaul\")\n",
    "greet()"
   ]
  },
  {
   "cell_type": "code",
   "execution_count": 4,
   "id": "b46d0254-0319-435f-aae3-34208015a142",
   "metadata": {},
   "outputs": [
    {
     "data": {
      "text/plain": [
       "'hello'"
      ]
     },
     "execution_count": 4,
     "metadata": {},
     "output_type": "execute_result"
    }
   ],
   "source": [
    "def greet():\n",
    "    return \"hello\"\n",
    "greet()"
   ]
  },
  {
   "cell_type": "code",
   "execution_count": 8,
   "id": "a61060ac-0141-4658-b4a5-3ff4e77fa3da",
   "metadata": {},
   "outputs": [
    {
     "name": "stdout",
     "output_type": "stream",
     "text": [
      "hello\n"
     ]
    }
   ],
   "source": [
    "def greet():\n",
    "    print(\"hello\")\n",
    "a=greet()"
   ]
  },
  {
   "cell_type": "code",
   "execution_count": 10,
   "id": "de933951-44f0-492f-8f5c-6f383fbd8aeb",
   "metadata": {},
   "outputs": [
    {
     "name": "stdout",
     "output_type": "stream",
     "text": [
      "hello\n",
      "None\n"
     ]
    }
   ],
   "source": [
    "def greet():\n",
    "    print(\"hello\")\n",
    "a=greet()\n",
    "print(a)"
   ]
  },
  {
   "cell_type": "code",
   "execution_count": 14,
   "id": "b64fe68c-4aee-4d9a-b596-1e66061fb066",
   "metadata": {},
   "outputs": [],
   "source": [
    "def greet():\n",
    "    return \"hello\"\n",
    "a=greet()"
   ]
  },
  {
   "cell_type": "code",
   "execution_count": 16,
   "id": "820caea2-d9ac-4834-8d76-35f0334b9414",
   "metadata": {},
   "outputs": [
    {
     "name": "stdout",
     "output_type": "stream",
     "text": [
      "hello\n"
     ]
    }
   ],
   "source": [
    "def greet():\n",
    "    return \"hello\"\n",
    "a=greet()\n",
    "print(a)"
   ]
  },
  {
   "cell_type": "code",
   "execution_count": 18,
   "id": "f4baa728-7b60-4b5a-85ff-9c2563b5e83c",
   "metadata": {},
   "outputs": [
    {
     "name": "stdout",
     "output_type": "stream",
     "text": [
      "factors of num are: 1\n",
      "factors of num are: 2\n",
      "factors of num are: 3\n",
      "factors of num are: 4\n",
      "factors of num are: 6\n",
      "factors of num are: 12\n"
     ]
    }
   ],
   "source": [
    "def factors(num):\n",
    "    for i in range(1,num+1):\n",
    "        if(num%i==0):\n",
    "            print(\"factors of num are:\",i)\n",
    "factors(12)"
   ]
  },
  {
   "cell_type": "code",
   "execution_count": 36,
   "id": "bbd91794-1377-4c6b-a149-9dc81ed4f876",
   "metadata": {},
   "outputs": [
    {
     "name": "stdout",
     "output_type": "stream",
     "text": [
      "armstrong\n"
     ]
    }
   ],
   "source": [
    "def armstrong(num):\n",
    "    sum=0\n",
    "    length=len(str(num))\n",
    "    original=num\n",
    "    while(num>0):\n",
    "        digit=num%10\n",
    "        power_digit=digit**length\n",
    "        sum+=power_digit\n",
    "        num=num//10\n",
    "    if(original==sum):\n",
    "        print(\"armstrong\")\n",
    "    else:\n",
    "        print(\"non armstrong\")\n",
    "armstrong(371)\n",
    "        \n",
    "        "
   ]
  },
  {
   "cell_type": "code",
   "execution_count": 42,
   "id": "188fcf98-8efc-42e5-b808-a0ec36d7ce82",
   "metadata": {},
   "outputs": [
    {
     "name": "stdout",
     "output_type": "stream",
     "text": [
      "my name is, shabaul my age is 23 and my college is Jamia\n"
     ]
    }
   ],
   "source": [
    "def positional(name,age,college):\n",
    "    print(\"my name is,\",name,\"my age is\",age,\"and my college is\",college)\n",
    "positional(\"shabaul\",23,\"Jamia\")"
   ]
  },
  {
   "cell_type": "code",
   "execution_count": 46,
   "id": "587f5e14-1b62-4fc3-ad71-b659d9138d03",
   "metadata": {},
   "outputs": [
    {
     "ename": "TypeError",
     "evalue": "keywordarg() got an unexpected keyword argument 'name'",
     "output_type": "error",
     "traceback": [
      "\u001b[1;31m---------------------------------------------------------------------------\u001b[0m",
      "\u001b[1;31mTypeError\u001b[0m                                 Traceback (most recent call last)",
      "Cell \u001b[1;32mIn[46], line 3\u001b[0m\n\u001b[0;32m      1\u001b[0m \u001b[38;5;28;01mdef\u001b[39;00m \u001b[38;5;21mkeywordarg\u001b[39m():\n\u001b[0;32m      2\u001b[0m     \u001b[38;5;28mprint\u001b[39m(\u001b[38;5;124m\"\u001b[39m\u001b[38;5;124mmy name is\u001b[39m\u001b[38;5;124m\"\u001b[39m,name,\u001b[38;5;124m\"\u001b[39m\u001b[38;5;124mage is\u001b[39m\u001b[38;5;124m\"\u001b[39m,age,\u001b[38;5;124m\"\u001b[39m\u001b[38;5;124mcollege is\u001b[39m\u001b[38;5;124m\"\u001b[39m,college)\n\u001b[1;32m----> 3\u001b[0m keywordarg(name\u001b[38;5;241m=\u001b[39m\u001b[38;5;124m\"\u001b[39m\u001b[38;5;124mshabaul\u001b[39m\u001b[38;5;124m\"\u001b[39m,age\u001b[38;5;241m=\u001b[39m\u001b[38;5;241m23\u001b[39m,college\u001b[38;5;241m=\u001b[39m\u001b[38;5;124m\"\u001b[39m\u001b[38;5;124mjamia\u001b[39m\u001b[38;5;124m\"\u001b[39m)\n",
      "\u001b[1;31mTypeError\u001b[0m: keywordarg() got an unexpected keyword argument 'name'"
     ]
    }
   ],
   "source": [
    "def keywordarg():\n",
    "    print(\"my name is\",name,\"age is\",age,\"college is\",college)\n",
    "keywordarg(name=\"shabaul\",age=23,college=\"jamia\")\n",
    "#in keyword argument, you still have to pass the parameter"
   ]
  },
  {
   "cell_type": "code",
   "execution_count": 48,
   "id": "c7be3fd5-09e0-40e9-9987-566d7ac3ac25",
   "metadata": {},
   "outputs": [
    {
     "name": "stdout",
     "output_type": "stream",
     "text": [
      "my name is saif age is 23 college is jamia\n"
     ]
    }
   ],
   "source": [
    "def keywordarg(name,age,college):\n",
    "    print(\"my name is\",name,\"age is\",age,\"college is\",college)\n",
    "keywordarg(name=\"saif\",college=\"jamia\",age=23)\n",
    "#keyword argument gives output according to the position of the parameters"
   ]
  },
  {
   "cell_type": "code",
   "execution_count": 52,
   "id": "55b88533-847b-48fc-959a-0ed59346e7a1",
   "metadata": {},
   "outputs": [
    {
     "ename": "SyntaxError",
     "evalue": "positional argument follows keyword argument (2118928694.py, line 4)",
     "output_type": "error",
     "traceback": [
      "\u001b[1;36m  Cell \u001b[1;32mIn[52], line 4\u001b[1;36m\u001b[0m\n\u001b[1;33m    keypos(\"shabaul\",age=23,\"male\")\u001b[0m\n\u001b[1;37m                                  ^\u001b[0m\n\u001b[1;31mSyntaxError\u001b[0m\u001b[1;31m:\u001b[0m positional argument follows keyword argument\n"
     ]
    }
   ],
   "source": [
    "#both keyword and positional argument together\n",
    "def keypos(name,age,sex):\n",
    "    print(\"my name is\",name,\"age is\",age,\"sex is\",sex)\n",
    "keypos(\"shabaul\",age=23,\"male\")\n",
    "#while using keyword and positional both, positional argument always come first, if you write any positional argument after the ppositional argument,\n",
    "#it will show error"
   ]
  },
  {
   "cell_type": "code",
   "execution_count": 54,
   "id": "818f64b3-8b89-4bf8-87c2-822a30eeaeeb",
   "metadata": {},
   "outputs": [
    {
     "name": "stdout",
     "output_type": "stream",
     "text": [
      "my name is shabaul age is 23 sex is male\n"
     ]
    }
   ],
   "source": [
    "def keypos(name,age,sex):\n",
    "    print(\"my name is\",name,\"age is\",age,\"sex is\",sex)\n",
    "keypos(\"shabaul\",23,sex=\"male\")"
   ]
  },
  {
   "cell_type": "code",
   "execution_count": 56,
   "id": "ded926b6-3a89-4ce8-9e00-e710acb9b9a8",
   "metadata": {},
   "outputs": [],
   "source": [
    "# In Python:\n",
    "\n",
    "# **print()** is a built-in function.\n",
    "\n",
    "# **return** is a keyword, not a function or method.\n",
    "\n",
    "#  Keyword\n",
    "# ✅ A keyword is a reserved word in Python.\n",
    "\n",
    "# ✅ It has a special meaning and cannot be used as a variable name.\n",
    "\n",
    "# ✅ Keywords control the structure and flow of a program (like if, for, return, def, etc.)\n",
    "\n"
   ]
  },
  {
   "cell_type": "code",
   "execution_count": 58,
   "id": "635b82ea-f99b-4519-85b4-7908a2315cff",
   "metadata": {},
   "outputs": [],
   "source": [
    "# return:\n",
    "# Sends a value back to the caller of the function from  the function\n",
    "# Ends the function's execution immediately.\n",
    "# You can store the returned value or use it later in your code.\n",
    "\n",
    "\n",
    "# print:\n",
    "# Just displays the output to the screen (console).\n",
    "# Does not send any value back to the caller.\n",
    "# Mainly used for debugging or user messages."
   ]
  },
  {
   "cell_type": "code",
   "execution_count": 60,
   "id": "2d9fb5d9-9a9d-49e2-acac-2a7f41cf824c",
   "metadata": {},
   "outputs": [
    {
     "name": "stdout",
     "output_type": "stream",
     "text": [
      "15\n"
     ]
    }
   ],
   "source": [
    "def check(x):\n",
    "    print(x+10)\n",
    "check(5)\n",
    "#print just displays the output on the console"
   ]
  },
  {
   "cell_type": "code",
   "execution_count": 64,
   "id": "9990b9ed-f3cf-4fe9-af22-63a70a7071b6",
   "metadata": {},
   "outputs": [
    {
     "name": "stdout",
     "output_type": "stream",
     "text": [
      "30\n"
     ]
    }
   ],
   "source": [
    "def check(x):\n",
    "    print(x+10)\n",
    "a=check(20)\n",
    "#again displays the output even after assigning to the variable"
   ]
  },
  {
   "cell_type": "code",
   "execution_count": 70,
   "id": "5118efa7-6304-4525-b5a0-95051c726747",
   "metadata": {},
   "outputs": [
    {
     "name": "stdout",
     "output_type": "stream",
     "text": [
      "30\n",
      "None\n"
     ]
    }
   ],
   "source": [
    "def check(x):\n",
    "    print(x+10)\n",
    "a=check(20)\n",
    "print(a)\n",
    "#see after displaying the output print is not storing the value in the variable"
   ]
  },
  {
   "cell_type": "code",
   "execution_count": 72,
   "id": "17715fa3-24e2-439c-8dd4-a1b2a7f5bbed",
   "metadata": {},
   "outputs": [
    {
     "data": {
      "text/plain": [
       "20"
      ]
     },
     "execution_count": 72,
     "metadata": {},
     "output_type": "execute_result"
    }
   ],
   "source": [
    "def check(a):\n",
    "    return a-10\n",
    "check(30)\n",
    "#return sends the value back to the caller of the function from the function"
   ]
  },
  {
   "cell_type": "code",
   "execution_count": 76,
   "id": "9203691a-fad4-42a7-ac4a-774ffd788c1c",
   "metadata": {},
   "outputs": [],
   "source": [
    "def check(a):\n",
    "    return a*10\n",
    "a=check(20)\n",
    "#return saved the value in the variable but not displaying until the variable is printed"
   ]
  },
  {
   "cell_type": "code",
   "execution_count": 82,
   "id": "b843ee1a-73b3-47fe-9a51-7b6eb4364dae",
   "metadata": {},
   "outputs": [
    {
     "name": "stdout",
     "output_type": "stream",
     "text": [
      "10\n"
     ]
    }
   ],
   "source": [
    "def check(a):\n",
    "    return a-10\n",
    "x=check(20)\n",
    "print(x)\n",
    "#return saved the value in the variable and can be later be used in the program by using the same variable"
   ]
  },
  {
   "cell_type": "code",
   "execution_count": 86,
   "id": "afcdb872-79cc-4b6d-9096-fcfb1b3b086c",
   "metadata": {},
   "outputs": [
    {
     "name": "stdout",
     "output_type": "stream",
     "text": [
      "30\n"
     ]
    }
   ],
   "source": [
    "#create a function to find the sum of square of natural numbers upto n\n",
    "def squaresum(num):\n",
    "    sum=0\n",
    "    for i in range(1,num+1):\n",
    "        sum+=i**2\n",
    "    print(sum)\n",
    "squaresum(4)\n",
    "#local variable used in the function"
   ]
  },
  {
   "cell_type": "code",
   "execution_count": 92,
   "id": "b03a415a-2357-4eb1-9c97-4717a88286a8",
   "metadata": {},
   "outputs": [
    {
     "name": "stdout",
     "output_type": "stream",
     "text": [
      "14\n"
     ]
    }
   ],
   "source": [
    "sum=0\n",
    "def squaresum(num):\n",
    "    global sum\n",
    "    for i in range(1,num+1):\n",
    "        sum+=i**2\n",
    "    print(sum)\n",
    "squaresum(3)\n",
    "#inside function to use global variable, global keyword is defined locally to that particular function\n",
    "#The global keyword is written inside the function, but it refers to a variable that exists outside the function (in global scope).\n",
    "# ✅ global is a keyword in Python.\n",
    "\n",
    "# ❌ It is not a function.\n",
    "\n",
    "# ❌not even a method"
   ]
  },
  {
   "cell_type": "code",
   "execution_count": 94,
   "id": "4cca4eef-e5e3-46fa-af5e-be77186684bf",
   "metadata": {},
   "outputs": [
    {
     "name": "stdout",
     "output_type": "stream",
     "text": [
      "10\n"
     ]
    }
   ],
   "source": [
    "x = 10\n",
    "\n",
    "def show():\n",
    "    print(x)  # ✅ This works fine\n",
    "\n",
    "show()\n",
    "# We can use a globally declared variable inside a function without using the global keyword, but only if we are reading/accessing it.\n",
    "# If we want to modify it, we must use the global keyword."
   ]
  },
  {
   "cell_type": "code",
   "execution_count": 96,
   "id": "e3073562-3c30-41e5-bb16-8f126bacfcbb",
   "metadata": {},
   "outputs": [
    {
     "name": "stdout",
     "output_type": "stream",
     "text": [
      "15\n"
     ]
    }
   ],
   "source": [
    "x = 10\n",
    "\n",
    "def change():\n",
    "    global x\n",
    "    x = x + 5  # ✅ Modify after declaring global\n",
    "    print(x)\n",
    "\n",
    "change()\n",
    "#global keyword is defined here, because the global variable is getting modified inside the code"
   ]
  },
  {
   "cell_type": "code",
   "execution_count": 98,
   "id": "051a0a66-bfb0-40ea-a628-305e530239ad",
   "metadata": {},
   "outputs": [
    {
     "ename": "UnboundLocalError",
     "evalue": "cannot access local variable 'x' where it is not associated with a value",
     "output_type": "error",
     "traceback": [
      "\u001b[1;31m---------------------------------------------------------------------------\u001b[0m",
      "\u001b[1;31mUnboundLocalError\u001b[0m                         Traceback (most recent call last)",
      "Cell \u001b[1;32mIn[98], line 7\u001b[0m\n\u001b[0;32m      4\u001b[0m     x \u001b[38;5;241m=\u001b[39m x \u001b[38;5;241m+\u001b[39m \u001b[38;5;241m5\u001b[39m  \u001b[38;5;66;03m# ❌ Error: local variable 'x' referenced before assignment\u001b[39;00m\n\u001b[0;32m      5\u001b[0m     \u001b[38;5;28mprint\u001b[39m(x)\n\u001b[1;32m----> 7\u001b[0m change()\n",
      "Cell \u001b[1;32mIn[98], line 4\u001b[0m, in \u001b[0;36mchange\u001b[1;34m()\u001b[0m\n\u001b[0;32m      3\u001b[0m \u001b[38;5;28;01mdef\u001b[39;00m \u001b[38;5;21mchange\u001b[39m():\n\u001b[1;32m----> 4\u001b[0m     x \u001b[38;5;241m=\u001b[39m x \u001b[38;5;241m+\u001b[39m \u001b[38;5;241m5\u001b[39m  \u001b[38;5;66;03m# ❌ Error: local variable 'x' referenced before assignment\u001b[39;00m\n\u001b[0;32m      5\u001b[0m     \u001b[38;5;28mprint\u001b[39m(x)\n",
      "\u001b[1;31mUnboundLocalError\u001b[0m: cannot access local variable 'x' where it is not associated with a value"
     ]
    }
   ],
   "source": [
    "x = 10\n",
    "\n",
    "def change():\n",
    "    x = x + 5  # ❌ Error: local variable 'x' referenced before assignment\n",
    "    print(x)\n",
    "\n",
    "change()\n",
    "#global variable is modified and global keyword is not defined under the function so it is giving an error"
   ]
  },
  {
   "cell_type": "code",
   "execution_count": 5,
   "id": "4990592f-a346-4c52-8a79-fd963779ea06",
   "metadata": {},
   "outputs": [
    {
     "name": "stdout",
     "output_type": "stream",
     "text": [
      "10\n"
     ]
    }
   ],
   "source": [
    "#function to calculate the sum of digits of a number\n",
    "sum=0\n",
    "def digitsum1(num):\n",
    "    global sum\n",
    "    while(num>0):\n",
    "        digit=num%10\n",
    "        sum+=digit\n",
    "        num=num//10\n",
    "    print(sum)\n",
    "digitsum1(1234)"
   ]
  },
  {
   "cell_type": "code",
   "execution_count": 9,
   "id": "f8710aa4-86ea-44ad-aed0-0d718b689259",
   "metadata": {},
   "outputs": [
    {
     "name": "stdout",
     "output_type": "stream",
     "text": [
      "even\n"
     ]
    }
   ],
   "source": [
    "#function to check if a number is odd or even\n",
    "def oddeve(num):\n",
    "    if(num%2==0):\n",
    "        print(\"even\")\n",
    "    else:\n",
    "        print(\"odd\")\n",
    "oddeve(2)"
   ]
  },
  {
   "cell_type": "code",
   "execution_count": 11,
   "id": "72039fc4-4311-4e57-97bd-b8e3fa6ec752",
   "metadata": {},
   "outputs": [
    {
     "name": "stdout",
     "output_type": "stream",
     "text": [
      "11\n"
     ]
    }
   ],
   "source": [
    "#function to calculate the sum of two numbers\n",
    "def sumnum(a,b):\n",
    "    print(a+b)\n",
    "sumnum(5,6)"
   ]
  },
  {
   "cell_type": "code",
   "execution_count": 13,
   "id": "15c2e8d6-14ef-457d-bb3a-76ba6fdd9b0a",
   "metadata": {},
   "outputs": [
    {
     "name": "stdout",
     "output_type": "stream",
     "text": [
      "167000\n"
     ]
    }
   ],
   "source": [
    "employees = [\n",
    "    {\"name\": \"Shabaul\", \"age\": 25, \"salary\": 50000},\n",
    "    {\"name\": \"Amaan\", \"age\": 28, \"salary\": 62000},\n",
    "    {\"name\": \"Saif\", \"age\": 30, \"salary\": 55000}\n",
    "]\n",
    "totalsalary=0\n",
    "for i in employees:\n",
    "    totalsalary+=i[\"salary\"]\n",
    "print(totalsalary)\n",
    "    "
   ]
  },
  {
   "cell_type": "code",
   "execution_count": 15,
   "id": "671bc2e2-2ae6-46a5-b31d-652fd31cd826",
   "metadata": {},
   "outputs": [
    {
     "name": "stdout",
     "output_type": "stream",
     "text": [
      "83\n"
     ]
    }
   ],
   "source": [
    "employee = [\n",
    "    {\"name\": \"Shabaul\", \"age\": 25, \"salary\": 50000},\n",
    "    {\"name\": \"Amaan\", \"age\": 28, \"salary\": 62000},\n",
    "    {\"name\": \"Saif\", \"age\": 30, \"salary\": 55000}\n",
    "]\n",
    "agesum=0\n",
    "for age in employee:\n",
    "    agesum+=age[\"age\"]\n",
    "print(agesum)"
   ]
  },
  {
   "cell_type": "code",
   "execution_count": 18,
   "id": "cf96377c-90b1-40c1-9b47-3c01bfa57e2c",
   "metadata": {},
   "outputs": [
    {
     "name": "stdout",
     "output_type": "stream",
     "text": [
      "10\n"
     ]
    }
   ],
   "source": [
    "#function to calculate the sum of the digits of a number\n",
    "def sumdig(num):\n",
    "    sum=0\n",
    "    while(num>0):\n",
    "        digit=num%10\n",
    "        sum+=digit\n",
    "        num=num//10\n",
    "    print(sum)\n",
    "sumdig(1234)"
   ]
  },
  {
   "cell_type": "code",
   "execution_count": 20,
   "id": "442bbfda-e286-4356-8a45-70ed65231d75",
   "metadata": {},
   "outputs": [],
   "source": [
    "# ✅ 1. What is the difference between a function and a method in Python?\n",
    "# Answer:\n",
    "\n",
    "# A function is a reusable block of code that performs a specific task and is defined using def.\n",
    "\n",
    "# A method is a kind of function that is associated with an object and is called using dot . notation (e.g., list.append())."
   ]
  },
  {
   "cell_type": "code",
   "execution_count": 22,
   "id": "5b92f1dc-6620-4633-ba2e-cc3939d5e50a",
   "metadata": {},
   "outputs": [
    {
     "data": {
      "text/plain": [
       "4"
      ]
     },
     "execution_count": 22,
     "metadata": {},
     "output_type": "execute_result"
    }
   ],
   "source": [
    "#✅ 2. Write a function that returns the square of a number.\n",
    "def squarenum(num):\n",
    "    return num**2\n",
    "squarenum(2)"
   ]
  },
  {
   "cell_type": "code",
   "execution_count": 24,
   "id": "f84a20a7-e2dd-482b-8cd1-984fab2b0c33",
   "metadata": {},
   "outputs": [],
   "source": [
    "#✅ 3. What is the purpose of return in a function? What happens if you don’t use return?\n",
    "#return sends the value/result back to the caller of the function\n",
    "#we can store the value of the return in a variable which can be later used in the code or can be passed into another function\n",
    "#it stops the function execution immediately\n",
    "#Without return, the function returns None by default."
   ]
  },
  {
   "cell_type": "code",
   "execution_count": 26,
   "id": "5c53e0c3-e767-4623-b59e-21a740cc5e4a",
   "metadata": {},
   "outputs": [
    {
     "data": {
      "text/plain": [
       "6"
      ]
     },
     "execution_count": 26,
     "metadata": {},
     "output_type": "execute_result"
    }
   ],
   "source": [
    "#✅ 4. Write a function that takes two numbers as input and returns the larger one.\n",
    "def numlar(num1,num2):\n",
    "    if(num1>num2):\n",
    "        return num1\n",
    "    else:\n",
    "        return num2\n",
    "numlar(4,6)"
   ]
  },
  {
   "cell_type": "code",
   "execution_count": 28,
   "id": "5ac9137c-d0a2-463d-b1e9-1e2dd988a77f",
   "metadata": {},
   "outputs": [
    {
     "name": "stdout",
     "output_type": "stream",
     "text": [
      "larger number is:  6\n"
     ]
    }
   ],
   "source": [
    "def numlar(num1,num2):\n",
    "    if(num1>num2):\n",
    "        print(\"larger number is: \",num1)\n",
    "    else:\n",
    "        print(\"larger number is: \",num2)\n",
    "numlar(4,6)"
   ]
  },
  {
   "cell_type": "code",
   "execution_count": 30,
   "id": "71409caf-278e-47b5-8a1f-631e30e06481",
   "metadata": {},
   "outputs": [
    {
     "name": "stdout",
     "output_type": "stream",
     "text": [
      "larger among these two is:  6\n"
     ]
    }
   ],
   "source": [
    "def numlar(num1,num2):\n",
    "    if(num1>num2):\n",
    "        return num1\n",
    "    else:\n",
    "        return num2\n",
    "print(\"larger among these two is: \",numlar(4,6))"
   ]
  },
  {
   "cell_type": "code",
   "execution_count": 36,
   "id": "2997e0ef-7b67-4bc2-99ae-2c021469ea3e",
   "metadata": {},
   "outputs": [
    {
     "name": "stdout",
     "output_type": "stream",
     "text": [
      "odd\n"
     ]
    }
   ],
   "source": [
    "#✅ 1. Check Even or Odd\n",
    "def oddeve(num):\n",
    "    if(num%2==0):\n",
    "        print(\"even\")\n",
    "    else:\n",
    "        print(\"odd\")\n",
    "oddeve(3)"
   ]
  },
  {
   "cell_type": "code",
   "execution_count": 42,
   "id": "a86e4c1a-a6c3-471d-922a-156d7b9073f4",
   "metadata": {},
   "outputs": [
    {
     "name": "stdout",
     "output_type": "stream",
     "text": [
      "factorial is:  120\n"
     ]
    }
   ],
   "source": [
    "#✅ 2. Find Factorial of a Number\n",
    "factorial=1\n",
    "def factorialcal(num):\n",
    "    global factorial\n",
    "    while(num>=1):\n",
    "        factorial*=num\n",
    "        num-=1\n",
    "    print(\"factorial is: \",factorial)\n",
    "factorialcal(5)\n",
    "        "
   ]
  },
  {
   "cell_type": "code",
   "execution_count": 46,
   "id": "3aa41410-8bb0-4ddc-bd47-342c872cfb44",
   "metadata": {},
   "outputs": [
    {
     "name": "stdout",
     "output_type": "stream",
     "text": [
      "total count:  3\n"
     ]
    }
   ],
   "source": [
    "#✅ 3. Count Vowels in a String\n",
    "count=0\n",
    "def countvowels(string1):\n",
    "    global count\n",
    "    for i in string1:\n",
    "        if(i==\"a\" or i==\"A\" or i==\"e\" or i==\"E\" or i==\"i\" or i==\"I\" or i==\"o\" or i==\"O\" or i==\"u\" or i==\"U\" ):\n",
    "            count+=1\n",
    "    print(\"total count: \",count)\n",
    "countvowels(\"shabaul\")\n",
    "            "
   ]
  },
  {
   "cell_type": "code",
   "execution_count": 48,
   "id": "8afb5354-fcf6-45fb-a9d2-20668c93e1da",
   "metadata": {},
   "outputs": [
    {
     "name": "stdout",
     "output_type": "stream",
     "text": [
      "total count:  3\n"
     ]
    }
   ],
   "source": [
    "def countvowels(string1):\n",
    "    count=0\n",
    "    for i in string1:\n",
    "        if(i==\"a\" or i==\"A\" or i==\"e\" or i==\"E\" or i==\"i\" or i==\"I\" or i==\"o\" or i==\"O\" or i==\"u\" or i==\"U\" ):\n",
    "            count+=1\n",
    "    print(\"total count: \",count)\n",
    "countvowels(\"shabaul\")\n",
    "            "
   ]
  },
  {
   "cell_type": "code",
   "execution_count": 50,
   "id": "3a859dc9-d869-4139-8470-e83f521f7ffd",
   "metadata": {},
   "outputs": [
    {
     "name": "stdout",
     "output_type": "stream",
     "text": [
      "total count:  6\n"
     ]
    }
   ],
   "source": [
    "def countvowels(string1):\n",
    "    count=0\n",
    "    for i in string1:\n",
    "        if(i==\"a\" or i==\"A\" or i==\"e\" or i==\"E\" or i==\"i\" or i==\"I\" or i==\"o\" or i==\"O\" or i==\"u\" or i==\"U\" ):\n",
    "            count+=1\n",
    "    print(\"total count: \",count)\n",
    "countvowels(\"shabaulhaque\")\n",
    "            "
   ]
  },
  {
   "cell_type": "code",
   "execution_count": 52,
   "id": "231ca982-6d00-45d2-ab39-ad6e165c2303",
   "metadata": {},
   "outputs": [
    {
     "name": "stdout",
     "output_type": "stream",
     "text": [
      "max is: 1000\n"
     ]
    }
   ],
   "source": [
    "#✅ 4. Find the Maximum Number in a List\n",
    "def maxnum(mylist):\n",
    "    max=0\n",
    "    for i in mylist:\n",
    "        if(i>max):\n",
    "            max=i\n",
    "    print(\"max is:\",max)\n",
    "maxnum([3,4,5,61,3,1000,344,500])"
   ]
  },
  {
   "cell_type": "code",
   "execution_count": 56,
   "id": "7ecdc26b-dcff-451f-b10e-8a0f2e915f80",
   "metadata": {},
   "outputs": [
    {
     "name": "stdout",
     "output_type": "stream",
     "text": [
      "max is: 60000\n"
     ]
    }
   ],
   "source": [
    "def maxnum(mylist):\n",
    "    max=0\n",
    "    for i in range(len(mylist)):\n",
    "        if(mylist[i]>max):\n",
    "            max=mylist[i]\n",
    "    print(\"max is:\",max)\n",
    "maxnum([3,4,5,61,3,1000,344,500,800,5666,980,60000])"
   ]
  },
  {
   "cell_type": "code",
   "execution_count": 112,
   "id": "a3ebc830-b5c7-4900-a774-025e02d3e83c",
   "metadata": {},
   "outputs": [
    {
     "name": "stdout",
     "output_type": "stream",
     "text": [
      "palindrome\n"
     ]
    }
   ],
   "source": [
    "# ✅ 5. Palindrome Checker\n",
    "# Write a function that checks whether a string is a palindrome\n",
    "def if_palindrome(palstr):\n",
    "    count=0\n",
    "    start=0\n",
    "    end=len(palstr)-1\n",
    "    for i in range(len(palstr)//2):\n",
    "        if(palstr[start]!=palstr[end]):\n",
    "            count=1\n",
    "            break\n",
    "        start+=1\n",
    "        end-=1\n",
    "    if(count==0):\n",
    "        print(\"palindrome\")\n",
    "    else:\n",
    "        print(\"not a palindrome\")\n",
    "if_palindrome(\"saras\")"
   ]
  },
  {
   "cell_type": "code",
   "execution_count": 122,
   "id": "21f2b785-88b1-441a-8d7a-719340adb535",
   "metadata": {},
   "outputs": [
    {
     "data": {
      "text/plain": [
       "'palindrome'"
      ]
     },
     "execution_count": 122,
     "metadata": {},
     "output_type": "execute_result"
    }
   ],
   "source": [
    "def if_palindrome(palstr):\n",
    "    start=0\n",
    "    end=len(palstr)-1\n",
    "    for i in range(len(palstr)//2):\n",
    "        if(palstr[start]!=palstr[end]):\n",
    "            return \"not a palindrome\"\n",
    "        start+=1\n",
    "        end-=1\n",
    "    return \"palindrome\"\n",
    "if_palindrome(\"saras\")"
   ]
  },
  {
   "cell_type": "code",
   "execution_count": 5,
   "id": "898852b4-82cc-478d-8929-67a78af9595b",
   "metadata": {},
   "outputs": [
    {
     "name": "stdin",
     "output_type": "stream",
     "text": [
      "enter value of n: 5\n"
     ]
    },
    {
     "name": "stdout",
     "output_type": "stream",
     "text": [
      "1\n",
      "2\n",
      "3\n",
      "4\n",
      "5\n"
     ]
    }
   ],
   "source": [
    "# 1. Write a program to print all natural numbers from 1 to n. – using while loop\n",
    "i=1\n",
    "n=int(input(\"enter value of n:\"))\n",
    "while(i<=n):\n",
    "    print(i)\n",
    "    i+=1\n",
    "    "
   ]
  },
  {
   "cell_type": "code",
   "execution_count": 13,
   "id": "2483d34c-8cf1-4f45-961f-5a182ff8cfe4",
   "metadata": {},
   "outputs": [
    {
     "data": {
      "text/plain": [
       "1"
      ]
     },
     "execution_count": 13,
     "metadata": {},
     "output_type": "execute_result"
    }
   ],
   "source": [
    "#function\n",
    "def natural(num):\n",
    "    i=1\n",
    "    while(i<=num):\n",
    "        return i\n",
    "        i+=1\n",
    "natural(7)\n",
    "#if you want to use return to get all natural numbers up to 7, you can’t return multiple values one by one from inside a loop,\n",
    "#but you can collect them in a list and then return the list — then print that list outside the function."
   ]
  },
  {
   "cell_type": "code",
   "execution_count": 17,
   "id": "64fff98c-971d-4edf-b6a1-3b4b31d6cf56",
   "metadata": {},
   "outputs": [
    {
     "data": {
      "text/plain": [
       "[1, 2, 3, 4, 5, 6, 7, 8]"
      ]
     },
     "execution_count": 17,
     "metadata": {},
     "output_type": "execute_result"
    }
   ],
   "source": [
    "mylist1=[]\n",
    "def natural(num):\n",
    "    i=1\n",
    "    while(i<=num):\n",
    "        mylist1.append(i)\n",
    "        i+=1\n",
    "    return mylist1\n",
    "natural(8)\n",
    "        "
   ]
  },
  {
   "cell_type": "code",
   "execution_count": 21,
   "id": "e3d8bcfb-e960-467c-835b-6fd27dd81930",
   "metadata": {},
   "outputs": [
    {
     "name": "stdin",
     "output_type": "stream",
     "text": [
      "enter the number: 7\n"
     ]
    },
    {
     "name": "stdout",
     "output_type": "stream",
     "text": [
      "7\n",
      "6\n",
      "5\n",
      "4\n",
      "3\n",
      "2\n",
      "1\n"
     ]
    }
   ],
   "source": [
    "num=int(input(\"enter the number:\"))\n",
    "while(num>=1):\n",
    "    print(num)\n",
    "    num-=1\n"
   ]
  },
  {
   "cell_type": "code",
   "execution_count": 19,
   "id": "d7aed780-91d6-4445-a14b-1a2a8ce55518",
   "metadata": {},
   "outputs": [
    {
     "name": "stdout",
     "output_type": "stream",
     "text": [
      "8\n",
      "7\n",
      "6\n",
      "5\n",
      "4\n",
      "3\n",
      "2\n",
      "1\n"
     ]
    }
   ],
   "source": [
    "#2. Write a program to print all natural numbers in reverse (from n to 1). – using while loop\n",
    "def numrev(num):\n",
    "    while(num>=1):\n",
    "        print(num)\n",
    "        num-=1\n",
    "numrev(8)"
   ]
  },
  {
   "cell_type": "code",
   "execution_count": 25,
   "id": "6d053ce6-7d7e-4062-86c4-40accaa4aef1",
   "metadata": {},
   "outputs": [
    {
     "name": "stdout",
     "output_type": "stream",
     "text": [
      "a b c d e f g h i j k l m n o p q r s t u v w x y z "
     ]
    }
   ],
   "source": [
    "#3. Write a program to print all alphabets from a to z. – using while loop\n",
    "alp=97\n",
    "while(alp<=122):\n",
    "    print(chr(alp),end=\" \")\n",
    "    alp+=1\n"
   ]
  },
  {
   "cell_type": "code",
   "execution_count": 33,
   "id": "a478ef79-8729-4141-8ac4-1c20a581f560",
   "metadata": {},
   "outputs": [
    {
     "name": "stdout",
     "output_type": "stream",
     "text": [
      "a b c d e f g h i j k l m n o p q r s t u v w x y z "
     ]
    }
   ],
   "source": [
    "def alppr(alp):\n",
    "    while(alp<=122):\n",
    "        print(chr(alp),end=\" \")\n",
    "        alp+=1\n",
    "alppr(97)"
   ]
  },
  {
   "cell_type": "code",
   "execution_count": 3,
   "id": "2031aa84-ad93-4b87-a94d-12712b872803",
   "metadata": {},
   "outputs": [
    {
     "name": "stdout",
     "output_type": "stream",
     "text": [
      "2 4 6 8 10 12 14 16 18 20 22 24 26 28 30 32 34 36 38 40 42 44 46 48 50 52 54 56 58 60 62 64 66 68 70 72 74 76 78 80 82 84 86 88 90 92 94 96 98 "
     ]
    }
   ],
   "source": [
    "#4. Write a program to print all even numbers between 1 to 100. – using while loop\n",
    "i=1\n",
    "while(i<100):\n",
    "    if(i%2==0):\n",
    "        print(i,end=\" \")\n",
    "    i+=1\n",
    "\n",
    "\n",
    "\n",
    "\n",
    "#between 1 and 100 means including 1 and 100    "
   ]
  },
  {
   "cell_type": "code",
   "execution_count": 7,
   "id": "84f5cbbb-a24f-472e-8f41-0abd1666fb72",
   "metadata": {},
   "outputs": [
    {
     "name": "stdout",
     "output_type": "stream",
     "text": [
      "2 4 6 8 10 12 14 16 18 20 22 24 26 28 30 32 34 36 38 40 42 44 46 48 50 52 54 56 58 60 62 64 66 68 70 72 74 76 78 80 82 84 86 88 90 92 94 96 98 "
     ]
    }
   ],
   "source": [
    "def eve(num):\n",
    "    i=1\n",
    "    while(i<num):\n",
    "        if(i%2==0):\n",
    "            print(i,end=\" \")\n",
    "        i+=1\n",
    "eve(100)"
   ]
  },
  {
   "cell_type": "code",
   "execution_count": 13,
   "id": "e4a28b74-d466-4e4c-a3ce-ed9c0a222a84",
   "metadata": {},
   "outputs": [
    {
     "name": "stdin",
     "output_type": "stream",
     "text": [
      "enter the number: 7\n"
     ]
    },
    {
     "name": "stdout",
     "output_type": "stream",
     "text": [
      "16\n"
     ]
    }
   ],
   "source": [
    "#5. Write a program to find the sum of all odd numbers between 1 to n.\n",
    "n=int(input(\"enter the number:\"))\n",
    "sum=0\n",
    "i=1\n",
    "while(i<=n):\n",
    "    if(i%2!=0):\n",
    "        sum+=i\n",
    "    i+=1\n",
    "print(sum)"
   ]
  },
  {
   "cell_type": "code",
   "execution_count": 1,
   "id": "1a5dd93d-0e6f-43f0-a3cc-2f01208047b7",
   "metadata": {},
   "outputs": [
    {
     "name": "stdout",
     "output_type": "stream",
     "text": [
      "16\n"
     ]
    }
   ],
   "source": [
    "def oddprint(num):\n",
    "    i=1\n",
    "    sum=0\n",
    "    while(i<=num):\n",
    "        if(i%2!=0):\n",
    "            sum+=i\n",
    "        i+=1\n",
    "    print(sum)\n",
    "oddprint(7)\n",
    "            "
   ]
  },
  {
   "cell_type": "code",
   "execution_count": 7,
   "id": "ac2ca9b0-618a-4bc9-889a-f6d082637c9f",
   "metadata": {},
   "outputs": [
    {
     "name": "stdin",
     "output_type": "stream",
     "text": [
      "enter the  number: 1234\n"
     ]
    },
    {
     "name": "stdout",
     "output_type": "stream",
     "text": [
      "4\n"
     ]
    }
   ],
   "source": [
    "#6. Write a program to count the number of digits in a number.\n",
    "num=int(input(\"enter the  number:\"))\n",
    "count=0\n",
    "while(num>=1):\n",
    "    digit=num%10\n",
    "    count+=1\n",
    "    num=num//10\n",
    "print(count)"
   ]
  },
  {
   "cell_type": "code",
   "execution_count": 17,
   "id": "498f5d9d-dc2c-4d1f-86bb-9e915119f48b",
   "metadata": {},
   "outputs": [
    {
     "name": "stdout",
     "output_type": "stream",
     "text": [
      "5\n"
     ]
    }
   ],
   "source": [
    "def countdig(num):\n",
    "    count=0\n",
    "    num=abs(num)\n",
    "    while(num>=1):\n",
    "        digit=num%10\n",
    "        count+=1\n",
    "        num=num//10\n",
    "    print(count)\n",
    "countdig(-12334)\n",
    "#num=abs(num) is used to make the negative number positive"
   ]
  },
  {
   "cell_type": "code",
   "execution_count": 21,
   "id": "e59303a1-4920-4650-b2bb-04048762fc2e",
   "metadata": {},
   "outputs": [
    {
     "name": "stdin",
     "output_type": "stream",
     "text": [
      "enter the number: 1234\n"
     ]
    },
    {
     "name": "stdout",
     "output_type": "stream",
     "text": [
      "10\n"
     ]
    }
   ],
   "source": [
    "#7. Write a program to calculate the sum of digits of a number.\n",
    "num=int(input(\"enter the number:\"))\n",
    "sum=0\n",
    "while(num>=1):\n",
    "    digit=num%10\n",
    "    sum+=digit\n",
    "    num=num//10\n",
    "print(sum)\n",
    "    "
   ]
  },
  {
   "cell_type": "code",
   "execution_count": 25,
   "id": "4f18fdf8-a078-4f27-b1bd-9c9407aa663d",
   "metadata": {},
   "outputs": [
    {
     "name": "stdout",
     "output_type": "stream",
     "text": [
      "12\n"
     ]
    }
   ],
   "source": [
    "def sumdig(num):\n",
    "    sum=0\n",
    "    num=abs(num)\n",
    "    while(num>=1):\n",
    "        digit=num%10\n",
    "        sum+=digit\n",
    "        num=num//10\n",
    "    print(sum)\n",
    "sumdig(12234)\n",
    "#num=abs(num) again for negative number's sum calculation"
   ]
  },
  {
   "cell_type": "code",
   "execution_count": 3,
   "id": "700c0986-2f9d-4750-95d6-460a5d3365ff",
   "metadata": {},
   "outputs": [
    {
     "name": "stdin",
     "output_type": "stream",
     "text": [
      "enter the number: 12345\n"
     ]
    },
    {
     "name": "stdout",
     "output_type": "stream",
     "text": [
      "first digit is: 1\n",
      "last digit is: 5\n"
     ]
    }
   ],
   "source": [
    "#8. Write a program to find the first and last digit of a number.\n",
    "n=int(input(\"enter the number:\"))\n",
    "last_digit=n%10\n",
    "count=0\n",
    "while(n>0):\n",
    "    digit=n%10\n",
    "    if(n<=9):\n",
    "        print(\"first digit is:\",n)\n",
    "        count=1\n",
    "        break\n",
    "    n=n//10\n",
    "print(\"last digit is:\",last_digit)\n",
    "\n",
    "        "
   ]
  },
  {
   "cell_type": "code",
   "execution_count": 9,
   "id": "e5d87b79-5bb8-4f33-b996-6b24c2963681",
   "metadata": {},
   "outputs": [
    {
     "name": "stdin",
     "output_type": "stream",
     "text": [
      "enter the number: 73372\n"
     ]
    },
    {
     "name": "stdout",
     "output_type": "stream",
     "text": [
      "first digit is: 7\n",
      "last digit is: 2\n"
     ]
    }
   ],
   "source": [
    "num=int(input(\"enter the number:\"))\n",
    "last_digit=num%10\n",
    "while(num>=10):\n",
    "    num=num//10\n",
    "print(\"first digit is:\",num)\n",
    "print(\"last digit is:\",last_digit)"
   ]
  },
  {
   "cell_type": "code",
   "execution_count": 13,
   "id": "d9deeff4-76b4-437b-bf4b-4a884bcfd73b",
   "metadata": {},
   "outputs": [
    {
     "name": "stdout",
     "output_type": "stream",
     "text": [
      "first digit is: 9\n",
      "last digit is: 2\n"
     ]
    }
   ],
   "source": [
    "def digitcheck(num):\n",
    "    last_digit=num%10\n",
    "    while(num>=10):\n",
    "        num=num//10\n",
    "    print(\"first digit is:\",num)\n",
    "    print(\"last digit is:\",last_digit)\n",
    "digitcheck(98632498632)"
   ]
  },
  {
   "cell_type": "code",
   "execution_count": 21,
   "id": "6228c6c7-9237-4db4-aeb3-1ba251b145a5",
   "metadata": {},
   "outputs": [
    {
     "name": "stdin",
     "output_type": "stream",
     "text": [
      "enter the number: 7643231\n"
     ]
    },
    {
     "name": "stdout",
     "output_type": "stream",
     "text": [
      "first digit: 7\n",
      "last digit: 1\n",
      "their sum is: 8\n"
     ]
    }
   ],
   "source": [
    "#9. Write a program to find the sum of first and last digit of a number.\n",
    "n1=int(input(\"enter the number:\"))\n",
    "last_digit=n1%10\n",
    "sum=0\n",
    "while(n1>=10):\n",
    "    n1=n1//10\n",
    "sum=last_digit+n1\n",
    "print(\"first digit:\",n1)\n",
    "print(\"last digit:\",last_digit)\n",
    "print(\"their sum is:\",sum)"
   ]
  },
  {
   "cell_type": "code",
   "execution_count": 3,
   "id": "b46e413a-4f40-455c-8ed5-740dceba056e",
   "metadata": {},
   "outputs": [
    {
     "name": "stdout",
     "output_type": "stream",
     "text": [
      "last digit is: 2\n",
      "first digit is: 7\n",
      "their sum is: 9\n"
     ]
    }
   ],
   "source": [
    "def sumdigit(numx):\n",
    "    sum=0\n",
    "    numx=abs(numx)\n",
    "    last_digit=numx%10\n",
    "    while(numx>=10):\n",
    "        numx=numx//10\n",
    "    sum=last_digit+numx\n",
    "    print(\"last digit is:\",last_digit)\n",
    "    print(\"first digit is:\",numx)\n",
    "    print(\"their sum is:\",sum)\n",
    "sumdigit(-78656475342)\n",
    "#numx=numx%10 should always be taken before division to get correct output"
   ]
  },
  {
   "cell_type": "code",
   "execution_count": 9,
   "id": "22d96e55-ee8a-43c5-b156-3888d3db8491",
   "metadata": {},
   "outputs": [
    {
     "name": "stdin",
     "output_type": "stream",
     "text": [
      "enter a number: 9876543\n"
     ]
    },
    {
     "name": "stdout",
     "output_type": "stream",
     "text": [
      "reverse is:\n",
      "3 4 5 6 7 8 9 "
     ]
    }
   ],
   "source": [
    "#10.Write a program to enter a number and print its reverse.\n",
    "num3=int(input(\"enter a number:\"))\n",
    "print(\"reverse is:\")\n",
    "while(num3>=1):\n",
    "    digit=num3%10\n",
    "    print(digit,end=\" \")\n",
    "    num3=num3//10\n"
   ]
  },
  {
   "cell_type": "code",
   "execution_count": 9,
   "id": "9e3fb4dc-35d1-4177-8d1a-f17de3e49432",
   "metadata": {},
   "outputs": [
    {
     "name": "stdout",
     "output_type": "stream",
     "text": [
      "reverse is: \n",
      "6 5 4 2 3 4 7 6 8 7 "
     ]
    }
   ],
   "source": [
    "def rever(num4):\n",
    "    num4=abs(num4)\n",
    "    print(\"reverse is: \")\n",
    "    while(num4>=1):\n",
    "        digit=num4%10\n",
    "        print(digit,end=\" \")\n",
    "        num4=num4//10\n",
    "rever(-7867432456)\n",
    "        "
   ]
  },
  {
   "cell_type": "code",
   "execution_count": 13,
   "id": "6c23fb6d-7c56-4b7f-94fe-51e598c3402e",
   "metadata": {},
   "outputs": [
    {
     "name": "stdin",
     "output_type": "stream",
     "text": [
      "enter the number: 5\n",
      "enter the power: 3\n"
     ]
    },
    {
     "name": "stdout",
     "output_type": "stream",
     "text": [
      "125\n"
     ]
    }
   ],
   "source": [
    "#11.Write a program to find the power of a number using for loop.\n",
    "base=int(input(\"enter the number:\"))\n",
    "power=int(input(\"enter the power:\"))\n",
    "result=1\n",
    "i=1\n",
    "while(i<=power):\n",
    "    result*=base\n",
    "    i+=1\n",
    "print(result)\n",
    "    \n"
   ]
  },
  {
   "cell_type": "code",
   "execution_count": 23,
   "id": "bfa7aa19-7040-42ff-8dc8-7b2a934ad506",
   "metadata": {},
   "outputs": [
    {
     "name": "stdin",
     "output_type": "stream",
     "text": [
      "enter the power 2\n"
     ]
    },
    {
     "name": "stdout",
     "output_type": "stream",
     "text": [
      "9\n"
     ]
    }
   ],
   "source": [
    "def powernum(base):\n",
    "    power=int(input(\"enter the power\"))\n",
    "    i=1\n",
    "    result=1\n",
    "    while(i<=power):\n",
    "        result*=base\n",
    "        i+=1\n",
    "    print(result)\n",
    "powernum(3)\n",
    "    "
   ]
  },
  {
   "cell_type": "code",
   "execution_count": 7,
   "id": "c6600ca1-01f9-4146-a9e4-54dfcf39075a",
   "metadata": {},
   "outputs": [
    {
     "name": "stdin",
     "output_type": "stream",
     "text": [
      "enter the number: 14\n"
     ]
    },
    {
     "name": "stdout",
     "output_type": "stream",
     "text": [
      "factors are:\n",
      "1 2 7 14 "
     ]
    }
   ],
   "source": [
    "#12.Write a program to find all factors of a number.\n",
    "num5=int(input(\"enter the number:\"))\n",
    "i=1\n",
    "print(\"factors are:\")\n",
    "while(i<=num5):\n",
    "    if(num5%i==0):\n",
    "        print(i,end=\" \")\n",
    "    i+=1"
   ]
  },
  {
   "cell_type": "code",
   "execution_count": 13,
   "id": "3556e669-bc82-4c4d-aa81-e461b77b3cef",
   "metadata": {},
   "outputs": [
    {
     "name": "stdout",
     "output_type": "stream",
     "text": [
      "factors are:\n",
      "1 2 3 4 6 12 "
     ]
    }
   ],
   "source": [
    "def facnum(num):\n",
    "    print(\"factors are:\")\n",
    "    i=1\n",
    "    while(i<=num):\n",
    "        if(num%i==0):\n",
    "            print(i,end=\" \")\n",
    "        i+=1\n",
    "facnum(12)"
   ]
  },
  {
   "cell_type": "code",
   "execution_count": 17,
   "id": "f9c381fc-f36b-429b-b11d-4689573e7edd",
   "metadata": {},
   "outputs": [
    {
     "name": "stdin",
     "output_type": "stream",
     "text": [
      "enter the number: 5\n"
     ]
    },
    {
     "name": "stdout",
     "output_type": "stream",
     "text": [
      "factorial is: 120\n"
     ]
    }
   ],
   "source": [
    "#13.Write a program to calculate the factorial of a number.\n",
    "num6=int(input(\"enter the number:\"))\n",
    "factorial=1\n",
    "i=1\n",
    "while(i<=num6):\n",
    "    factorial*=i\n",
    "    i+=1\n",
    "print(\"factorial is:\",factorial)"
   ]
  },
  {
   "cell_type": "code",
   "execution_count": 21,
   "id": "46f6aaae-352a-416e-b10c-255567fd133d",
   "metadata": {},
   "outputs": [
    {
     "name": "stdout",
     "output_type": "stream",
     "text": [
      "factorial is: 120\n"
     ]
    }
   ],
   "source": [
    "def factorialnum(num6):\n",
    "    i=1\n",
    "    factorial=1\n",
    "    while(i<=num6):\n",
    "        factorial*=i\n",
    "        i+=1\n",
    "    print(\"factorial is:\",factorial)\n",
    "factorialnum(5)\n"
   ]
  },
  {
   "cell_type": "code",
   "execution_count": 19,
   "id": "5424c2ee-e0bc-4b04-9e3c-40525a33291e",
   "metadata": {},
   "outputs": [
    {
     "name": "stdin",
     "output_type": "stream",
     "text": [
      "enter first number: 12\n",
      "enter second number: 18\n"
     ]
    },
    {
     "name": "stdout",
     "output_type": "stream",
     "text": [
      "LCM of 12 and 18 is: 36\n"
     ]
    }
   ],
   "source": [
    "#14.Write a program to find LCM of two numbers.(using for loop and max function)\n",
    "m=int(input(\"enter first number:\"))\n",
    "n=int(input(\"enter second number:\"))\n",
    "LCM=1\n",
    "a=m\n",
    "b=n\n",
    "for i in range(2,max(m,n)+1):\n",
    "    while(m%i==0 or n%i==0):\n",
    "        LCM*=i\n",
    "        if(m%i==0):\n",
    "            m=m//i\n",
    "        if(n%i==0):\n",
    "            n=n//i\n",
    "print(f\"LCM of {a} and {b} is:\",LCM)"
   ]
  },
  {
   "cell_type": "code",
   "execution_count": 23,
   "id": "0dd696dc-a178-43be-8895-d83a9f80ccd2",
   "metadata": {},
   "outputs": [
    {
     "name": "stdin",
     "output_type": "stream",
     "text": [
      "enter the first number: 12\n",
      "enter the second number: 18\n"
     ]
    },
    {
     "name": "stdout",
     "output_type": "stream",
     "text": [
      "LCM OF 12 and 18 is: 36\n"
     ]
    }
   ],
   "source": [
    "#LCM of two numbers using while loop (prime factorisation method)\n",
    "x=int(input(\"enter the first number:\"))\n",
    "y=int(input(\"enter the second number:\"))\n",
    "LCM=1\n",
    "s=x\n",
    "d=y\n",
    "i=2\n",
    "while(x>1 or y>1):\n",
    "    if(x%i==0 or y%i==0):\n",
    "        LCM*=i\n",
    "        if(x%i==0):\n",
    "            x=x//i\n",
    "        if(y%i==0):\n",
    "            y=y//i\n",
    "    else:\n",
    "        i+=1\n",
    "print(F\"LCM OF {s} and {d} is:\",LCM)\n",
    "        "
   ]
  },
  {
   "cell_type": "code",
   "execution_count": 31,
   "id": "ac6cb503-f1a0-4a69-a818-73d0208a3d82",
   "metadata": {},
   "outputs": [
    {
     "name": "stdin",
     "output_type": "stream",
     "text": [
      "enter first number: 12\n",
      "enter second number: 18\n"
     ]
    },
    {
     "name": "stdout",
     "output_type": "stream",
     "text": [
      "LCM is: 36\n"
     ]
    }
   ],
   "source": [
    "#Brute force method to find LCM od two numbers\n",
    "q=int(input(\"enter first number:\"))\n",
    "w=int(input(\"enter second number:\"))\n",
    "if(q>w):\n",
    "    LCM=q\n",
    "else:\n",
    "    LCM=w\n",
    "while True:\n",
    "    if(LCM%q==0 and LCM%w==0):\n",
    "        break\n",
    "    LCM+=1\n",
    "print(\"LCM is:\",LCM)"
   ]
  },
  {
   "cell_type": "code",
   "execution_count": 1,
   "id": "9e13768c-acd1-4168-a005-a15e51014206",
   "metadata": {},
   "outputs": [
    {
     "name": "stdout",
     "output_type": "stream",
     "text": [
      "LCM of 12 and 18 is: 36\n"
     ]
    }
   ],
   "source": [
    "#LCM using function\n",
    "def LCMtwo(num1,num2):\n",
    "    LCM=1\n",
    "    i=2\n",
    "    x=num1\n",
    "    y=num2\n",
    "    while(num1>1 or num2>1):\n",
    "        if(num1%i==0 or num2%i==0):\n",
    "            LCM*=i\n",
    "            if(num1%i==0):\n",
    "                num1=num1//i\n",
    "            if(num2%i==0):\n",
    "                num2=num2//i\n",
    "        else:\n",
    "            i+=1\n",
    "    print(f\"LCM of {x} and {y} is:\",LCM)\n",
    "LCMtwo(12,18)"
   ]
  },
  {
   "cell_type": "code",
   "execution_count": 29,
   "id": "37b6e747-d754-4307-9dd4-119ae1ec3324",
   "metadata": {},
   "outputs": [
    {
     "name": "stdin",
     "output_type": "stream",
     "text": [
      "enter the number: 3\n"
     ]
    },
    {
     "name": "stdout",
     "output_type": "stream",
     "text": [
      "prime\n"
     ]
    }
   ],
   "source": [
    "#15.Write a program to check whether a number is Prime number or not.\n",
    "p=int(input(\"enter the number:\"))\n",
    "count=0\n",
    "if(p<=1):\n",
    "    print(\"Prime numbers are always greater than 1\")\n",
    "else:\n",
    "    for i in range(2,p):\n",
    "        if(p%i==0):\n",
    "            count=1\n",
    "            break\n",
    "    if(count==0):\n",
    "        print(\"prime\")\n",
    "    else:\n",
    "        print(\"non-prime\")"
   ]
  },
  {
   "cell_type": "code",
   "execution_count": 55,
   "id": "aaf28e5c-7de9-46e7-9f1b-d9d7051ee288",
   "metadata": {},
   "outputs": [
    {
     "name": "stdout",
     "output_type": "stream",
     "text": [
      "non-prime\n"
     ]
    }
   ],
   "source": [
    "def if_prime(num):\n",
    "    count=0\n",
    "    i=2\n",
    "    if(num<=1):\n",
    "        print(\"prime is greater than 1\")\n",
    "    else:\n",
    "        while(i<num):\n",
    "            if(num%i==0):\n",
    "                count=1\n",
    "                break\n",
    "            i+=1\n",
    "        if(count==0):\n",
    "            print(\"prime\")\n",
    "        else:\n",
    "            print(\"non-prime\")\n",
    "if_prime(4)"
   ]
  },
  {
   "cell_type": "code",
   "execution_count": 69,
   "id": "fb8d23a7-c2cb-4a26-8e24-e7db2a2cea1c",
   "metadata": {},
   "outputs": [
    {
     "name": "stdin",
     "output_type": "stream",
     "text": [
      "enter the value of n: 19\n"
     ]
    },
    {
     "name": "stdout",
     "output_type": "stream",
     "text": [
      "prime: 2\n",
      "prime: 3\n",
      "non-prime 4\n",
      "prime: 5\n",
      "non-prime 6\n",
      "prime: 7\n",
      "non-prime 8\n",
      "non-prime 9\n",
      "non-prime 10\n",
      "prime: 11\n",
      "non-prime 12\n",
      "prime: 13\n",
      "non-prime 14\n",
      "non-prime 15\n",
      "non-prime 16\n",
      "prime: 17\n",
      "non-prime 18\n",
      "prime: 19\n"
     ]
    }
   ],
   "source": [
    "# 16.Write a program to print all Prime numbers between 1 to n.\n",
    "q=int(input(\"enter the value of n:\"))\n",
    "for i in range(2,q+1):\n",
    "    count=0\n",
    "    for j in range(2,i):\n",
    "        if(i%j==0):\n",
    "            count=1\n",
    "            break\n",
    "    if(count==0):\n",
    "        print(\"prime:\",i)\n",
    "    else:\n",
    "        print(\"non-prime\",i)\n",
    "        \n",
    "    \n",
    "            "
   ]
  },
  {
   "cell_type": "code",
   "execution_count": 71,
   "id": "34b793ef-b5c9-4db6-b6ca-1700c354d88f",
   "metadata": {},
   "outputs": [
    {
     "name": "stdin",
     "output_type": "stream",
     "text": [
      "enter the value of n: 7\n"
     ]
    },
    {
     "name": "stdout",
     "output_type": "stream",
     "text": [
      "prime: 2\n",
      "prime: 3\n",
      "non-prime 4\n",
      "prime: 5\n",
      "non-prime 6\n",
      "prime: 7\n"
     ]
    }
   ],
   "source": [
    "q=int(input(\"enter the value of n:\"))\n",
    "for i in range(2,q+1):\n",
    "    count=0\n",
    "    for j in range(2,i):\n",
    "        if(i%j==0):\n",
    "            count=1\n",
    "            break\n",
    "    if(count==0):\n",
    "        print(\"prime:\",i)\n",
    "    else:\n",
    "        print(\"non-prime\",i)\n",
    "        "
   ]
  },
  {
   "cell_type": "code",
   "execution_count": 79,
   "id": "261fcabf-9890-4479-865f-5096c6956b80",
   "metadata": {},
   "outputs": [
    {
     "name": "stdout",
     "output_type": "stream",
     "text": [
      "prime: 2\n",
      "prime: 3\n",
      "non prime: 4\n",
      "prime: 5\n",
      "non prime: 6\n",
      "prime: 7\n",
      "non prime: 8\n",
      "non prime: 9\n",
      "non prime: 10\n",
      "prime: 11\n",
      "non prime: 12\n",
      "prime: 13\n",
      "non prime: 14\n",
      "non prime: 15\n",
      "non prime: 16\n",
      "prime: 17\n",
      "non prime: 18\n",
      "prime: 19\n"
     ]
    }
   ],
   "source": [
    "def primerange(num):\n",
    "    for i in range(2,num+1):\n",
    "        z=2\n",
    "        count=0\n",
    "        while(z<i):\n",
    "            if(i%z==0):\n",
    "                count=1\n",
    "                break\n",
    "            z+=1\n",
    "        if(count==0):\n",
    "            print(\"prime:\",i)\n",
    "        else:\n",
    "            print(\"non prime:\",i)\n",
    "primerange(19)"
   ]
  },
  {
   "cell_type": "code",
   "execution_count": 91,
   "id": "05a55d4d-6e5e-4b18-ac93-7ae3d755ec76",
   "metadata": {},
   "outputs": [
    {
     "name": "stdin",
     "output_type": "stream",
     "text": [
      "enter the number: 28\n"
     ]
    },
    {
     "name": "stdout",
     "output_type": "stream",
     "text": [
      "prime factors are: 2\n",
      "non-prime factors are: 4\n",
      "prime factors are: 7\n",
      "non-prime factors are: 14\n"
     ]
    }
   ],
   "source": [
    "#17.Write a program to find all prime factors of a number.\n",
    "number=int(input(\"enter the number:\"))\n",
    "for i in range(2,number):\n",
    "    if(number%i==0):\n",
    "        count=0\n",
    "        for j in range(2,i):\n",
    "            if(i%j==0):\n",
    "                count=1\n",
    "                break\n",
    "        if(count==0):\n",
    "            print(\"prime factors are:\",i)\n",
    "        else:\n",
    "            print(\"non-prime factors are:\",i)\n",
    "            "
   ]
  },
  {
   "cell_type": "code",
   "execution_count": 3,
   "id": "fd04c8d8-74e4-42f5-9163-0722565f8ac1",
   "metadata": {},
   "outputs": [
    {
     "name": "stdout",
     "output_type": "stream",
     "text": [
      "prime factors are: 2\n",
      "prime factors are: 3\n",
      "non prime factors are: 4\n",
      "non prime factors are: 6\n"
     ]
    }
   ],
   "source": [
    "def primefactor(num):\n",
    "    for i in range(2,num):\n",
    "        if(num%i==0):\n",
    "            count=0\n",
    "            j=2\n",
    "            while(j<i):\n",
    "                if(i%j==0):\n",
    "                    count=1\n",
    "                    break\n",
    "                j+=1\n",
    "            if(count==0):\n",
    "                print(\"prime factors are:\",i)\n",
    "            else:\n",
    "                print(\"non prime factors are:\",i)\n",
    "primefactor(12)"
   ]
  },
  {
   "cell_type": "code",
   "execution_count": 23,
   "id": "cdf17914-4503-424a-a3f5-2a0a655611b6",
   "metadata": {},
   "outputs": [
    {
     "name": "stdin",
     "output_type": "stream",
     "text": [
      "enter the number: 371\n"
     ]
    },
    {
     "name": "stdout",
     "output_type": "stream",
     "text": [
      "armstrong\n"
     ]
    }
   ],
   "source": [
    "# 18.Write a program to check whether a number is an Armstrong number or not.\n",
    "# a. An Armstrong number is a n-digit number that is equal to the sum\n",
    "# of the nth power of its digits. For example –\n",
    "# 6 = 61 = 6\n",
    "# 371 = 33 + 73 + 13 = 371\n",
    "n1=int(input(\"enter the number:\"))\n",
    "length=len(str(n1))\n",
    "sum_power=0\n",
    "original=n1\n",
    "for i in range(length):\n",
    "    digit=n1%10\n",
    "    power=digit**length\n",
    "    sum_power+=power\n",
    "    n1=n1//10\n",
    "if(original==sum_power):\n",
    "    print(\"armstrong\")\n",
    "else:\n",
    "    print(\"non-armstrong\")"
   ]
  },
  {
   "cell_type": "code",
   "execution_count": 33,
   "id": "8dc2117e-f9a7-42f5-b664-e7aad2b42635",
   "metadata": {},
   "outputs": [
    {
     "name": "stdout",
     "output_type": "stream",
     "text": [
      "non-armstrong\n"
     ]
    }
   ],
   "source": [
    "def is_armstrong(num):\n",
    "    sumpower=0\n",
    "    length=len(str(num))\n",
    "    original=num\n",
    "    while(num>0):\n",
    "        digit=num%10\n",
    "        power=digit**length\n",
    "        sumpower+=power\n",
    "        num=num//10\n",
    "    if(original==sumpower):\n",
    "        print(\"armstrong\")\n",
    "    else:\n",
    "        print(\"non-armstrong\")\n",
    "is_armstrong(373)\n",
    "#always use num>0 and do not use num>=1"
   ]
  },
  {
   "cell_type": "code",
   "execution_count": 3,
   "id": "d51011a6-bf64-48e5-801f-cca9a427183c",
   "metadata": {},
   "outputs": [
    {
     "name": "stdin",
     "output_type": "stream",
     "text": [
      "enter the number: 145\n"
     ]
    },
    {
     "name": "stdout",
     "output_type": "stream",
     "text": [
      "strong number\n"
     ]
    }
   ],
   "source": [
    "# 19.Write a program to check whether a number is Strong number or not\n",
    "# a. Strong number is a special number whose sum of factorial of digits is equal to the original number.\n",
    "# For example: 145 is a strong number. Since, 1! + 4! + 5! = 145\n",
    "num2=int(input(\"enter the number:\"))\n",
    "original1=num2\n",
    "length=len(str(num2))\n",
    "sum_factorial=0\n",
    "for i in range(length):\n",
    "    digit=num2%10\n",
    "    factorial=1\n",
    "    while(digit>0):\n",
    "        factorial*=digit\n",
    "        digit-=1\n",
    "    sum_factorial+=factorial\n",
    "    num2=num2//10\n",
    "if(original1==sum_factorial):\n",
    "    print(\"strong number\")\n",
    "else:\n",
    "    print(\"not a strong number\")\n",
    "    \n",
    "    "
   ]
  },
  {
   "cell_type": "code",
   "execution_count": 3,
   "id": "cf86bd98-5e4c-486d-8958-12a136fce0bc",
   "metadata": {},
   "outputs": [
    {
     "name": "stdout",
     "output_type": "stream",
     "text": [
      "strong number\n"
     ]
    }
   ],
   "source": [
    "def strongcheck(num3):\n",
    "    length=len(str(num3))\n",
    "    originalx=num3\n",
    "    sum_factorial=0\n",
    "    for i in range(length):\n",
    "        digit=num3%10\n",
    "        factorial=1\n",
    "        while(digit>0):\n",
    "            factorial*=digit\n",
    "            digit-=1\n",
    "        sum_factorial+=factorial\n",
    "        num3=num3//10\n",
    "    if(originalx==sum_factorial):\n",
    "        print(\"strong number\")\n",
    "    else:\n",
    "        print(\"not a strong number\")\n",
    "strongcheck(145)"
   ]
  },
  {
   "cell_type": "code",
   "execution_count": 13,
   "id": "955f5604-d345-490c-86dc-8f02b8fb0162",
   "metadata": {},
   "outputs": [
    {
     "name": "stdin",
     "output_type": "stream",
     "text": [
      "enter the number: 6\n"
     ]
    },
    {
     "name": "stdout",
     "output_type": "stream",
     "text": [
      "perfect number\n"
     ]
    }
   ],
   "source": [
    "# #20.Write a program to check whether a number is perfect number or not\n",
    "# a. Perfect number is a positive integer which is equal to the sum of its proper positive divisors.\n",
    "# For example: 6 is the first perfect number\n",
    "# Proper divisors of 6 are 1, 2, 3\n",
    "# Sum of its proper divisors = 1 + 2 + 3 = 6.\n",
    "# Hence 6 is a perfect number.\n",
    "num4=int(input(\"enter the number:\"))\n",
    "original=num4\n",
    "sumdivisor=0\n",
    "for i in range(1,num4//2+1):\n",
    "    if(num4%i==0):\n",
    "        sumdivisor+=i\n",
    "if(original==sumdivisor):\n",
    "    print(\"perfect number\")\n",
    "else:\n",
    "    print(\"not a perfect number\")\n",
    "#proper positive divisors does not include the number itself, however it divides itself"
   ]
  },
  {
   "cell_type": "code",
   "execution_count": 1,
   "id": "e10d68b7-bb06-43bf-ae7d-0da4fbe2637f",
   "metadata": {},
   "outputs": [
    {
     "name": "stdout",
     "output_type": "stream",
     "text": [
      "perfect number\n"
     ]
    }
   ],
   "source": [
    "def perfect_num(num5):\n",
    "    i=1\n",
    "    sumperfect=0\n",
    "    originalc=num5\n",
    "    while(i<=num5//2):\n",
    "        if(num5%i==0):\n",
    "            sumperfect+=i\n",
    "        i+=1\n",
    "    if(originalc==sumperfect):\n",
    "        print(\"perfect number\")\n",
    "    else:\n",
    "        print(\"not a perfect number\")\n",
    "perfect_num(6)\n",
    "        \n",
    "            "
   ]
  },
  {
   "cell_type": "code",
   "execution_count": 25,
   "id": "97f9835d-4a04-4e2c-adae-6a123a66fcff",
   "metadata": {},
   "outputs": [
    {
     "name": "stdin",
     "output_type": "stream",
     "text": [
      "enter the value of num6: 4\n"
     ]
    },
    {
     "name": "stdout",
     "output_type": "stream",
     "text": [
      "0 1 1 2 "
     ]
    }
   ],
   "source": [
    "# 21.Write a program to print fibonacci series upto n terms\n",
    "# a. Fibonacci series is a series of numbers where the current number is the sum of the previous two terms. \n",
    "# For Example: 0, 1, 1, 2, 3, 5,8, 13, 21, ... , (n-1th + n-2th)\n",
    "num6=int(input(\"enter the value of num6:\"))\n",
    "first_term=0\n",
    "second_term=1\n",
    "if(num6<=0):\n",
    "    print(\"enter positive integer\")\n",
    "elif(num6==1):\n",
    "    print(first_term)\n",
    "else:\n",
    "    print(first_term,end=\" \")\n",
    "    print(second_term,end=\" \")\n",
    "    \n",
    "    for i in range(3,num6+1):\n",
    "        next_term=first_term+second_term\n",
    "        print(next_term,end=\" \")\n",
    "        first_term=second_term\n",
    "        second_term=next_term\n",
    "    "
   ]
  },
  {
   "cell_type": "code",
   "execution_count": 7,
   "id": "fa31cf0b-5f99-4973-a096-43b51b16a730",
   "metadata": {},
   "outputs": [
    {
     "name": "stdout",
     "output_type": "stream",
     "text": [
      "0 1 1 2 3 5 "
     ]
    }
   ],
   "source": [
    "def fibonacci(num7):\n",
    "    firstterm=0\n",
    "    secondterm=1\n",
    "    i=3\n",
    "    if(num7<=0):\n",
    "        print(\"enter positive integer\")\n",
    "    elif(num7==firstterm):\n",
    "        print(firstterm)\n",
    "    else:\n",
    "        print(firstterm,end=\" \")\n",
    "        print(secondterm,end=\" \")\n",
    "        while(i<=num7):\n",
    "            nextterm=firstterm+secondterm\n",
    "            print(nextterm,end=\" \")\n",
    "            firstterm=secondterm\n",
    "            secondterm=nextterm\n",
    "            i+=1\n",
    "fibonacci(6)\n",
    "            \n",
    "        "
   ]
  },
  {
   "cell_type": "code",
   "execution_count": 39,
   "id": "dbd6e017-4961-45e4-9724-b4ae3c9c6f47",
   "metadata": {},
   "outputs": [
    {
     "name": "stdin",
     "output_type": "stream",
     "text": [
      "enter the number: 5\n"
     ]
    },
    {
     "name": "stdout",
     "output_type": "stream",
     "text": [
      "101\n",
      "010\n"
     ]
    }
   ],
   "source": [
    "# 22.Write a program to find ones complement of a binary number\n",
    "# a. One's complement of a binary number is defined as value obtained by inverting all binary bits. It is the result of swapping all\n",
    "# 1s to 0s and all 0s to 1s.\n",
    "num7=int(input(\"enter the number:\"))\n",
    "binary=bin(num7)[2:]\n",
    "print(binary)\n",
    "onescomplement=\"\"\n",
    "for bit in binary:\n",
    "    if(bit==\"0\"):\n",
    "        onescomplement+=\"1\"\n",
    "    elif(bit==\"1\"):\n",
    "        onescomplement+=\"0\"\n",
    "print(onescomplement)\n"
   ]
  },
  {
   "cell_type": "code",
   "execution_count": 43,
   "id": "1f37ee51-fba2-4e65-933c-b7518ef5ea19",
   "metadata": {},
   "outputs": [
    {
     "name": "stdin",
     "output_type": "stream",
     "text": [
      "enter the number: 5\n"
     ]
    },
    {
     "name": "stdout",
     "output_type": "stream",
     "text": [
      "101\n",
      "010\n"
     ]
    }
   ],
   "source": [
    "num8=int(input(\"enter the number:\"))\n",
    "binary=bin(num8)[2:]\n",
    "print(binary)\n",
    "onescomplement=\"\"\n",
    "for bit in binary:\n",
    "    if(bit==\"0\"):\n",
    "        onescomplement+=\"1\"\n",
    "    else:\n",
    "        onescomplement+=\"0\"\n",
    "print(onescomplement)\n"
   ]
  },
  {
   "cell_type": "code",
   "execution_count": 7,
   "id": "753d56f7-a85b-4537-b592-dbde50eee47c",
   "metadata": {},
   "outputs": [
    {
     "name": "stdout",
     "output_type": "stream",
     "text": [
      "101\n",
      "010\n"
     ]
    }
   ],
   "source": [
    "def onescomplement(num7):\n",
    "    binary=bin(num7)\n",
    "    print(binary[2:])\n",
    "    length=len(binary)\n",
    "    i=2\n",
    "    complements=\"\"\n",
    "    while(i<length):\n",
    "        if(binary[i]==\"0\"):\n",
    "            complements+=\"1\"\n",
    "        else:\n",
    "            complements+=\"0\"\n",
    "        i+=1\n",
    "    print(complements)\n",
    "onescomplement(5)\n",
    "            \n",
    "        "
   ]
  },
  {
   "cell_type": "code",
   "execution_count": 9,
   "id": "ee5d6b2f-cedc-4b7c-b42b-3928a7f5a286",
   "metadata": {},
   "outputs": [
    {
     "name": "stdout",
     "output_type": "stream",
     "text": [
      "Binary: 101\n",
      "One's Complement: 010\n"
     ]
    }
   ],
   "source": [
    "def onescomplement(num7):\n",
    "    binary = bin(num7)         # e.g., '0b101'\n",
    "    pure_binary = binary[2:]   # remove '0b'\n",
    "    print(\"Binary:\", pure_binary)\n",
    "\n",
    "    complements = \"\"\n",
    "    i = 0\n",
    "    while i < len(pure_binary):\n",
    "        if pure_binary[i] == \"0\":\n",
    "            complements += \"1\"\n",
    "        else:\n",
    "            complements += \"0\"\n",
    "        i += 1\n",
    "\n",
    "    print(\"One's Complement:\", complements)\n",
    "\n",
    "# Example\n",
    "onescomplement(5)\n"
   ]
  },
  {
   "cell_type": "code",
   "execution_count": null,
   "id": "d8b89cc4-d2e0-4abe-b916-1b15cb25414a",
   "metadata": {},
   "outputs": [],
   "source": []
  }
 ],
 "metadata": {
  "kernelspec": {
   "display_name": "Python 3 (ipykernel)",
   "language": "python",
   "name": "python3"
  },
  "language_info": {
   "codemirror_mode": {
    "name": "ipython",
    "version": 3
   },
   "file_extension": ".py",
   "mimetype": "text/x-python",
   "name": "python",
   "nbconvert_exporter": "python",
   "pygments_lexer": "ipython3",
   "version": "3.12.4"
  }
 },
 "nbformat": 4,
 "nbformat_minor": 5
}
