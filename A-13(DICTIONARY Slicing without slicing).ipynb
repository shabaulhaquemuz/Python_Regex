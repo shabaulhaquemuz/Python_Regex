{
 "cells": [
  {
   "cell_type": "code",
   "execution_count": 5,
   "id": "d1d735f9-3933-4228-ad86-70fa9e3f8b85",
   "metadata": {},
   "outputs": [
    {
     "name": "stdout",
     "output_type": "stream",
     "text": [
      "{3: 'amaan', 'institute': 'regex'} saif\n"
     ]
    }
   ],
   "source": [
    "mydictionary={2:\"saif\",3:\"amaan\",\"institute\":\"regex\"}\n",
    "mydictionary.keys()\n",
    "mydictionary.values()\n",
    "x=mydictionary.pop(2)\n",
    "print(mydictionary,x)"
   ]
  },
  {
   "cell_type": "code",
   "execution_count": 13,
   "id": "1c3f5e77-e0bb-4091-bf9b-f908dd1a25e1",
   "metadata": {},
   "outputs": [
    {
     "name": "stdout",
     "output_type": "stream",
     "text": [
      "2 saif\n",
      "3 amaan\n",
      "institute regex\n"
     ]
    }
   ],
   "source": [
    "mydictionary1={2:\"saif\",3:\"amaan\",\"institute\":\"regex\"}\n",
    "for i in mydictionary1:\n",
    "    print(i,mydictionary1[i])\n",
    "    "
   ]
  },
  {
   "cell_type": "code",
   "execution_count": 25,
   "id": "a22ff809-8e30-4fd8-bb05-7f249730b254",
   "metadata": {},
   "outputs": [
    {
     "name": "stdout",
     "output_type": "stream",
     "text": [
      "40005\n"
     ]
    }
   ],
   "source": [
    "mydictionary2={2:\"saif\",3:\"amaan\",\"institutefee\":40000}\n",
    "mydictionary2[\"institutefee\"]=mydictionary2[\"institutefee\"]+5\n",
    "print(mydictionary2[\"institutefee\"])"
   ]
  },
  {
   "cell_type": "code",
   "execution_count": 31,
   "id": "267b546c-cf10-4e6f-8c4d-0fda4bf1e10f",
   "metadata": {},
   "outputs": [
    {
     "name": "stdout",
     "output_type": "stream",
     "text": [
      "20\n"
     ]
    }
   ],
   "source": [
    "s=\"raj4\"\n",
    "d={\"total\":0}\n",
    "for i in s:\n",
    "    d[\"total\"]=d[\"total\"]+5\n",
    "print(d[\"total\"])"
   ]
  },
  {
   "cell_type": "code",
   "execution_count": 33,
   "id": "991eab6d-6eb6-4c4d-ae7c-5128615c5292",
   "metadata": {},
   "outputs": [
    {
     "name": "stdout",
     "output_type": "stream",
     "text": [
      "{'a': 1, 'b': 1, 'c': 1}\n"
     ]
    }
   ],
   "source": [
    "s=\"abc\"\n",
    "d1={}\n",
    "for i in s:\n",
    "    d1[i]=1\n",
    "print(d1)"
   ]
  },
  {
   "cell_type": "code",
   "execution_count": 41,
   "id": "e559d59b-d89e-481b-9730-f8c5b81e1fc9",
   "metadata": {},
   "outputs": [
    {
     "name": "stdout",
     "output_type": "stream",
     "text": [
      "{10: 2, 20: 1, 40: 1, 50: 2, 30: 1}\n"
     ]
    }
   ],
   "source": [
    "list1=[10,20,10,40,50,30,50]\n",
    "d1={}\n",
    "count=1\n",
    "for i in list1:\n",
    "    if(i in d1):\n",
    "        d1[i]=count+1\n",
    "    else:\n",
    "        d1[i]=1\n",
    "print(d1)"
   ]
  },
  {
   "cell_type": "code",
   "execution_count": 45,
   "id": "c55ab9a8-305e-429f-889e-3f94bf25c815",
   "metadata": {},
   "outputs": [
    {
     "name": "stdout",
     "output_type": "stream",
     "text": [
      "{10: 2, 20: 1, 40: 1, 50: 2, 30: 1}\n"
     ]
    }
   ],
   "source": [
    "list2=[10,20,10,40,50,30,50]\n",
    "d2={}\n",
    "for i in list2:\n",
    "    if(i in d2):\n",
    "        d2[i]=d2[i]+1\n",
    "    else:\n",
    "        d2[i]=1\n",
    "print(d2)"
   ]
  },
  {
   "cell_type": "code",
   "execution_count": 73,
   "id": "9493595e-638e-46e9-af23-e9689cbce0b8",
   "metadata": {},
   "outputs": [
    {
     "name": "stdout",
     "output_type": "stream",
     "text": [
      "data=> \n",
      "data=> a\n",
      "data=> ab\n",
      "data=> abc\n",
      "{'a': 1, 'ab': 1, 'abc': 1}\n"
     ]
    }
   ],
   "source": [
    "s=\"abc\"\n",
    "d3={}\n",
    "for i in range(0,4):\n",
    "    data=\"\"\n",
    "    for j in range(0,i):\n",
    "        data=data+s[j]\n",
    "        d3[data]=1\n",
    "    print(\"data=>\",data)\n",
    "print(d3)"
   ]
  },
  {
   "cell_type": "code",
   "execution_count": 7,
   "id": "1745ccf2-87a2-4112-9c1a-0ef061ef818d",
   "metadata": {},
   "outputs": [
    {
     "name": "stdout",
     "output_type": "stream",
     "text": [
      "data=> abcd\n",
      "data=> bcd\n",
      "data=> cd\n",
      "data=> d\n",
      "{'a': 1, 'ab': 1, 'abc': 1, 'abcd': 1, 'b': 1, 'bc': 1, 'bcd': 1, 'c': 1, 'cd': 1, 'd': 1}\n"
     ]
    }
   ],
   "source": [
    "p=\"abcd\"\n",
    "d4={}\n",
    "for i in range(len(p)):\n",
    "    data=\"\"\n",
    "    for j in range(i,len(p)):\n",
    "        data=data+p[j]\n",
    "        d4[data]=1\n",
    "    print(\"data=>\",data)\n",
    "print(d4)"
   ]
  },
  {
   "cell_type": "code",
   "execution_count": null,
   "id": "6b434c07-355b-4d98-af32-8eb9ce1ce58a",
   "metadata": {},
   "outputs": [],
   "source": []
  }
 ],
 "metadata": {
  "kernelspec": {
   "display_name": "Python 3 (ipykernel)",
   "language": "python",
   "name": "python3"
  },
  "language_info": {
   "codemirror_mode": {
    "name": "ipython",
    "version": 3
   },
   "file_extension": ".py",
   "mimetype": "text/x-python",
   "name": "python",
   "nbconvert_exporter": "python",
   "pygments_lexer": "ipython3",
   "version": "3.12.4"
  }
 },
 "nbformat": 4,
 "nbformat_minor": 5
}
