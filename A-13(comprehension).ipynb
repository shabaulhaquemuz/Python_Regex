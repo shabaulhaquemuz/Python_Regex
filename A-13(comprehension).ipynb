{
 "cells": [
  {
   "cell_type": "code",
   "execution_count": 1,
   "id": "31fd31ae-8c03-4c38-8687-40d395298292",
   "metadata": {},
   "outputs": [
    {
     "data": {
      "text/plain": [
       "[1, 2, 3, 4, 5, 6, 7, 8, 9, 10, 11]"
      ]
     },
     "execution_count": 1,
     "metadata": {},
     "output_type": "execute_result"
    }
   ],
   "source": [
    "#comprehension is the concised/short method to create a new datatype like list,set,dictionary\n",
    "[i for i in range(1,12)]"
   ]
  },
  {
   "cell_type": "code",
   "execution_count": 3,
   "id": "ad4adea8-efd9-4a08-9014-777b151632f8",
   "metadata": {},
   "outputs": [
    {
     "data": {
      "text/plain": [
       "[1, 4, 9, 16, 25, 36, 49, 64, 81]"
      ]
     },
     "execution_count": 3,
     "metadata": {},
     "output_type": "execute_result"
    }
   ],
   "source": [
    "[i**2 for i in range(1,10)]"
   ]
  },
  {
   "cell_type": "code",
   "execution_count": 5,
   "id": "c796e533-4275-45f3-b5d5-ae537fc5161f",
   "metadata": {},
   "outputs": [
    {
     "data": {
      "text/plain": [
       "{1: 1, 2: 2, 3: 3, 4: 4, 5: 5, 6: 6, 7: 7, 8: 8, 9: 9, 10: 10, 11: 11}"
      ]
     },
     "execution_count": 5,
     "metadata": {},
     "output_type": "execute_result"
    }
   ],
   "source": [
    "{i:i for i in range(1,12)}"
   ]
  },
  {
   "cell_type": "code",
   "execution_count": 7,
   "id": "4bc38373-35f9-4285-89ef-d04c8aa2c4f1",
   "metadata": {},
   "outputs": [
    {
     "data": {
      "text/plain": [
       "{1: 1, 2: 4, 3: 9, 4: 16}"
      ]
     },
     "execution_count": 7,
     "metadata": {},
     "output_type": "execute_result"
    }
   ],
   "source": [
    "{i:i**2 for i in range(1,5)}"
   ]
  },
  {
   "cell_type": "code",
   "execution_count": 9,
   "id": "16d4c299-6ea4-4be7-84de-088cf515d4f8",
   "metadata": {},
   "outputs": [
    {
     "data": {
      "text/plain": [
       "[2, 4, 6, 8, 10, 12, 14, 16]"
      ]
     },
     "execution_count": 9,
     "metadata": {},
     "output_type": "execute_result"
    }
   ],
   "source": [
    "[i for i in range(1,17) if(i%2==0)]"
   ]
  },
  {
   "cell_type": "code",
   "execution_count": 11,
   "id": "5da45a15-1221-4db7-9c21-f0faaef21ba3",
   "metadata": {},
   "outputs": [
    {
     "data": {
      "text/plain": [
       "[6, 12]"
      ]
     },
     "execution_count": 11,
     "metadata": {},
     "output_type": "execute_result"
    }
   ],
   "source": [
    "[i for i in range(1,17) if(i%2==0) and (i%3==0) ]"
   ]
  },
  {
   "cell_type": "code",
   "execution_count": 15,
   "id": "e3e33190-e8fa-4ba9-bbf9-22b64bb4ac7a",
   "metadata": {},
   "outputs": [
    {
     "data": {
      "text/plain": [
       "[(1, 1), (1, 2), (1, 3), (2, 1), (2, 2), (2, 3), (3, 1), (3, 2), (3, 3)]"
      ]
     },
     "execution_count": 15,
     "metadata": {},
     "output_type": "execute_result"
    }
   ],
   "source": [
    "[(i,j) for i in range(1,4) for j in range(1,4)]"
   ]
  },
  {
   "cell_type": "code",
   "execution_count": 27,
   "id": "17ae37c5-02af-49d9-b92c-3ceaf407e8c4",
   "metadata": {},
   "outputs": [
    {
     "name": "stdout",
     "output_type": "stream",
     "text": [
      "1 11\n",
      "2 10\n",
      "3 9\n"
     ]
    }
   ],
   "source": [
    "list=[-1,0,1,2,11,16,10,3,9]\n",
    "for i in range(len(list)):\n",
    "    for j in range(i+1,len(list)):\n",
    "        if(list[i]+list[j]==12):\n",
    "            print(list[i],list[j])"
   ]
  },
  {
   "cell_type": "code",
   "execution_count": null,
   "id": "cacf8033-193d-409b-99b2-a753bf7850f0",
   "metadata": {},
   "outputs": [],
   "source": [
    "list1=[-1,0,1,2,11,16]\n",
    "start1=0\n",
    "start2=1\n",
    "target=12\n",
    "while(start1<len(list1)-1):\n",
    "    if(start2<len(list1)):\n",
    "        if(list1[start1]+list1[start2]==target):\n",
    "            print(list1[start1],list1[start2])\n",
    "        start2+=1\n",
    "    else:\n",
    "        start1+=1\n",
    "        start2+=1\n"
   ]
  },
  {
   "cell_type": "code",
   "execution_count": 1,
   "id": "a3fb0e7a-31a3-451b-81fc-a3a8850fd586",
   "metadata": {},
   "outputs": [
    {
     "name": "stdout",
     "output_type": "stream",
     "text": [
      "1 11\n"
     ]
    }
   ],
   "source": [
    "list2=[-1,0,1,2,11,16]\n",
    "start1=0\n",
    "start2=1\n",
    "target=12\n",
    "while(start1<len(list2)-1):\n",
    "    if(start2<len(list2)):\n",
    "        if(list2[start1]+list2[start2]==target):\n",
    "            print(list2[start1],list2[start2])\n",
    "        start2+=1\n",
    "    else:\n",
    "        start1+=1\n",
    "        start2=start1+1\n"
   ]
  },
  {
   "cell_type": "code",
   "execution_count": null,
   "id": "85600fc9-2945-4b6f-9dc4-dd2acca65e73",
   "metadata": {},
   "outputs": [],
   "source": []
  }
 ],
 "metadata": {
  "kernelspec": {
   "display_name": "Python 3 (ipykernel)",
   "language": "python",
   "name": "python3"
  },
  "language_info": {
   "codemirror_mode": {
    "name": "ipython",
    "version": 3
   },
   "file_extension": ".py",
   "mimetype": "text/x-python",
   "name": "python",
   "nbconvert_exporter": "python",
   "pygments_lexer": "ipython3",
   "version": "3.12.4"
  }
 },
 "nbformat": 4,
 "nbformat_minor": 5
}
