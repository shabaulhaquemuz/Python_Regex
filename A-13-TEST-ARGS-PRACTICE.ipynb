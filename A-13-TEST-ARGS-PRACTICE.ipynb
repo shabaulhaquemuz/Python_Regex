{
 "cells": [
  {
   "cell_type": "code",
   "execution_count": 1,
   "id": "c873923e-c754-41bb-93ad-8a6b6b4870eb",
   "metadata": {},
   "outputs": [],
   "source": [
    "#required argument: the number of arguments passed must be according to the number of parameters passed"
   ]
  },
  {
   "cell_type": "code",
   "execution_count": 3,
   "id": "ad92e70f-5398-42e0-8f36-4e2d52afacbe",
   "metadata": {},
   "outputs": [
    {
     "name": "stdout",
     "output_type": "stream",
     "text": [
      "20 10\n"
     ]
    }
   ],
   "source": [
    "a=10\n",
    "b=20\n",
    "a=a+b\n",
    "b=a-b\n",
    "a=a-b\n",
    "print(a,b)"
   ]
  },
  {
   "cell_type": "code",
   "execution_count": 9,
   "id": "8d9db26f-f20c-482e-94d3-ff6ab4f02f01",
   "metadata": {},
   "outputs": [
    {
     "name": "stdout",
     "output_type": "stream",
     "text": [
      "(2, 3, 4, 'shabaul')\n"
     ]
    }
   ],
   "source": [
    "def func(*args):\n",
    "    print(args)\n",
    "func(2,3,4,\"shabaul\")"
   ]
  },
  {
   "cell_type": "code",
   "execution_count": 13,
   "id": "1d481c67-bf6e-46b5-b769-b4bb2f678228",
   "metadata": {},
   "outputs": [
    {
     "name": "stdout",
     "output_type": "stream",
     "text": [
      "{'a': 5, 'g': 7, 'k': 'saif'}\n"
     ]
    }
   ],
   "source": [
    "def funck(**kwargs):\n",
    "    print(kwargs)\n",
    "funck(a=5,g=7,k=\"saif\")"
   ]
  },
  {
   "cell_type": "code",
   "execution_count": 15,
   "id": "ccd9f109-21f2-486d-83bb-1dac25ad7a6d",
   "metadata": {},
   "outputs": [
    {
     "name": "stdout",
     "output_type": "stream",
     "text": [
      "{'name': 'shabaul', 'age': 23, 'status': 'unmarried'}\n",
      "name is: shabaul\n",
      "age is: 23\n",
      "status is unmarried\n"
     ]
    }
   ],
   "source": [
    "def name(**kwargs):\n",
    "    print(kwargs)\n",
    "    print(\"name is:\",kwargs[\"name\"])\n",
    "    print(\"age is:\",kwargs[\"age\"])\n",
    "    print(\"status is\",kwargs[\"status\"])\n",
    "name(name=\"shabaul\",age=23,status=\"unmarried\")\n"
   ]
  },
  {
   "cell_type": "code",
   "execution_count": 27,
   "id": "57ed477e-4059-4498-af8f-ed3931e85d96",
   "metadata": {},
   "outputs": [
    {
     "name": "stdout",
     "output_type": "stream",
     "text": [
      "3\n",
      "4\n",
      "5\n"
     ]
    }
   ],
   "source": [
    "# 🔹 Q1: Basic Understanding\n",
    "# Write a function that accepts any number of positional arguments and prints them one by one\n",
    "def posi(*numbers):\n",
    "    for i in numbers:\n",
    "        print(i)\n",
    "posi(3,4,5)"
   ]
  },
  {
   "cell_type": "code",
   "execution_count": 35,
   "id": "039b051b-f3ee-48f4-815f-b2321c987f1b",
   "metadata": {},
   "outputs": [
    {
     "name": "stdout",
     "output_type": "stream",
     "text": [
      "18\n"
     ]
    }
   ],
   "source": [
    "# 🔹 *Q2: Summing Numbers Using args\n",
    "# Write a function sum_all that takes any number of numeric inputs using *args and returns their sum.\n",
    "sum=0\n",
    "def sum_all(*numbers):\n",
    "    global sum\n",
    "    for i in numbers:\n",
    "        sum+=i\n",
    "    print(sum)\n",
    "sum_all(3,4,5,6)"
   ]
  },
  {
   "cell_type": "code",
   "execution_count": 37,
   "id": "f96aa917-31c8-4b71-b312-8e65f76297e5",
   "metadata": {},
   "outputs": [
    {
     "name": "stdout",
     "output_type": "stream",
     "text": [
      "['f', 'saif']\n"
     ]
    }
   ],
   "source": [
    "#  Q3: Mixed Data Types\n",
    "# Write a function that accepts any number of values using *args, and returns only the strings from it in a list.\n",
    "l=[]\n",
    "def any(*strlist):\n",
    "    for i in strlist:\n",
    "        if(type(i)==str):\n",
    "            l.append(i)\n",
    "    print(l)\n",
    "any(1,3,4,\"f\",\"saif\",1000)\n",
    "    "
   ]
  },
  {
   "cell_type": "code",
   "execution_count": 45,
   "id": "27fbfea7-b7e2-4025-8a80-1480f0f034e1",
   "metadata": {},
   "outputs": [
    {
     "name": "stdout",
     "output_type": "stream",
     "text": [
      "hi hello shabaul\n",
      "hi hello saif\n"
     ]
    }
   ],
   "source": [
    "# 🔹 Q4: With Other Parameters\n",
    "# Define a function that takes a greeting message as the first parameter, then accepts multiple names using *args, \n",
    "# and prints a personalized message for each.\n",
    "def greetall(greetings,*names):\n",
    "    for i in names:\n",
    "        print(greetings,i)\n",
    "greetall(\"hi hello\",\"shabaul\",\"saif\")"
   ]
  },
  {
   "cell_type": "code",
   "execution_count": 1,
   "id": "c1aad7e6-cbca-49e4-8c52-5392d28ab368",
   "metadata": {},
   "outputs": [
    {
     "name": "stdout",
     "output_type": "stream",
     "text": [
      "20\n",
      "40\n",
      "60\n"
     ]
    }
   ],
   "source": [
    "# 🔹 *Q5: Unpacking List into args\n",
    "# You are given a list numbers = [10, 20, 30]. Pass this list to a function using *args and print each number multiplied by 2.\n",
    "numbers=[10,20,30]\n",
    "def listpas(*args):\n",
    "    for i in args:\n",
    "        print(i*2)\n",
    "listpas(*numbers)"
   ]
  },
  {
   "cell_type": "code",
   "execution_count": 5,
   "id": "f0a21ee2-cbdf-4526-9ec0-7b3e43d993ae",
   "metadata": {},
   "outputs": [
    {
     "name": "stdout",
     "output_type": "stream",
     "text": [
      "[4, 8]\n"
     ]
    }
   ],
   "source": [
    "#  *Q6: Using args with a Loop and Condition\n",
    "# Write a function that takes multiple numbers and returns only the even ones in a list.\n",
    "new=[]\n",
    "def eve(*args):\n",
    "    for i in args:\n",
    "        if(i%2==0):\n",
    "            new.append(i)\n",
    "    print(new)\n",
    "eve(7,4,3,8)"
   ]
  },
  {
   "cell_type": "code",
   "execution_count": 9,
   "id": "a6684b24-04a1-4f3b-bbc3-badc419f54f9",
   "metadata": {},
   "outputs": [
    {
     "name": "stdout",
     "output_type": "stream",
     "text": [
      "1 2 34 saif name age\n"
     ]
    }
   ],
   "source": [
    "# 🔹 **Q7: Combine *args with kwargs (Advanced)\n",
    "# Write a function that uses both *args and **kwargs. Print the values of both.\n",
    "def both(*args,**kwargs):\n",
    "    print(*args,*kwargs)\n",
    "both(1,2,34,\"saif\",name=\"shabaul\",age=23)\n",
    "#it has printed the value but not as expected in form of tuple and dictionary"
   ]
  },
  {
   "cell_type": "code",
   "execution_count": 13,
   "id": "10958795-8739-4f78-8cf7-1f6a0cdde4d5",
   "metadata": {},
   "outputs": [
    {
     "name": "stdout",
     "output_type": "stream",
     "text": [
      "(2, 3, 4, 5, 6)\n",
      "{'name': 'shabaul', 'name2': 'saif', 'age': 23}\n"
     ]
    }
   ],
   "source": [
    "def argskwargs(*args,**kwargs):\n",
    "    print(args)\n",
    "    print(kwargs)\n",
    "argskwargs(2,3,4,5,6,name=\"shabaul\",name2=\"saif\",age=23)"
   ]
  },
  {
   "cell_type": "code",
   "execution_count": null,
   "id": "d1bd8b1c-f280-49c9-9eb8-a7491f0eadbb",
   "metadata": {},
   "outputs": [],
   "source": []
  }
 ],
 "metadata": {
  "kernelspec": {
   "display_name": "Python 3 (ipykernel)",
   "language": "python",
   "name": "python3"
  },
  "language_info": {
   "codemirror_mode": {
    "name": "ipython",
    "version": 3
   },
   "file_extension": ".py",
   "mimetype": "text/x-python",
   "name": "python",
   "nbconvert_exporter": "python",
   "pygments_lexer": "ipython3",
   "version": "3.12.4"
  }
 },
 "nbformat": 4,
 "nbformat_minor": 5
}
