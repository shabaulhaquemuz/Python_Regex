{
 "cells": [
  {
   "cell_type": "code",
   "execution_count": 3,
   "id": "ef7fb41a-0037-436b-b344-71c91af525ec",
   "metadata": {},
   "outputs": [],
   "source": [
    "#more about nested loops\n",
    "#list=[2,33,356,65,76,788]\n",
    "#for i in range(len(list)):\n",
    "    #for j in range(1,len(list)):\n",
    "#total number of times loops are  running:\n",
    "#for i:n times\n",
    "#for j:n-1 times\n",
    "#total:n(n-1)times\n",
    "#Example: if 10 elements, number of total loops=10(10-1)=90 times"
   ]
  },
  {
   "cell_type": "code",
   "execution_count": 5,
   "id": "0d1b7ca9-85cb-4fc5-863f-a8df6722cfb6",
   "metadata": {},
   "outputs": [],
   "source": [
    "#two pointer approach: two variables are used to point two different elements in the list"
   ]
  },
  {
   "cell_type": "code",
   "execution_count": 21,
   "id": "c3a8e6b9-ee01-40b4-aca9-4b6d6f8d8c0f",
   "metadata": {},
   "outputs": [
    {
     "name": "stdout",
     "output_type": "stream",
     "text": [
      "3 6\n",
      "4 5\n"
     ]
    }
   ],
   "source": [
    "list=[1,2,3,4,5,66,6]\n",
    "for i in range(len(list)):\n",
    "    for j in range(i+1,len(list)):\n",
    "        if(list[i]+list[j]==9):\n",
    "            print(list[i],list[j])"
   ]
  },
  {
   "cell_type": "code",
   "execution_count": 7,
   "id": "54471903-9a0d-4705-95da-06edee2d7f58",
   "metadata": {},
   "outputs": [
    {
     "name": "stdout",
     "output_type": "stream",
     "text": [
      "2 7\n"
     ]
    }
   ],
   "source": [
    "#to find two elements which sum is 9\n",
    "list1=[1,2,3,5,7,11,18]\n",
    "end=len(list1)-1\n",
    "i=0\n",
    "while(i<len(list1)):\n",
    "    if(list1[i]+list1[end]>9):\n",
    "        end-=1\n",
    "    elif(list1[i]+list1[end]<9):\n",
    "        i+=1\n",
    "    else:\n",
    "        print(list1[i],list1[end])\n",
    "    end-=1\n",
    "    i+=1\n",
    "    \n",
    "              \n",
    "\n",
    "#we have to give the position here and not the index(i=0 and end=len(list1)-1)"
   ]
  },
  {
   "cell_type": "code",
   "execution_count": 23,
   "id": "bf4c80f6-4ba6-4940-92c9-0228648414aa",
   "metadata": {},
   "outputs": [
    {
     "name": "stdout",
     "output_type": "stream",
     "text": [
      "102\n",
      "201\n",
      "non-palindrome\n"
     ]
    }
   ],
   "source": [
    "#check palindrome using for loop\n",
    "str=\"102\"\n",
    "for i in range(0,len(str)):\n",
    "    print(str[i],end='')\n",
    "print()\n",
    "for j in range(len(str)-1,-1,-1):\n",
    "    print(str[j],end='')\n",
    "print()\n",
    "if(str[i]==str[j]):\n",
    "    print(\"palindrome\")\n",
    "else:\n",
    "    print(\"non-palindrome\")"
   ]
  },
  {
   "cell_type": "code",
   "execution_count": 15,
   "id": "8d53b875-a983-4dc7-a053-b3b82d98d180",
   "metadata": {},
   "outputs": [
    {
     "name": "stdout",
     "output_type": "stream",
     "text": [
      "palindrome\n"
     ]
    }
   ],
   "source": [
    "#to check if an string is palindrome\n",
    "str1=\"SARAS\"\n",
    "i=0\n",
    "end=len(str1)-1\n",
    "count=0\n",
    "while(i<len(str1)):\n",
    "    if(str1[i]!=str1[end]):\n",
    "        count+=1\n",
    "        break\n",
    "    i+=1\n",
    "    end-=1\n",
    "if(count==0):\n",
    "    print(\"palindrome\")\n",
    "else:\n",
    "    print(\"non-palindrome\")\n"
   ]
  },
  {
   "cell_type": "code",
   "execution_count": 21,
   "id": "f5511d88-532d-4033-92e0-7d169e4f7c54",
   "metadata": {},
   "outputs": [
    {
     "name": "stdout",
     "output_type": "stream",
     "text": [
      "[10, 31]\n"
     ]
    }
   ],
   "source": [
    "#to put duplicate values in a list without repeating it\n",
    "list3=[10,20,10,10,10,10,31,40,31]\n",
    "duplicate=[]\n",
    "for i in range(0,len(list3)):\n",
    "    for j in range(i+1,len(list3)):\n",
    "        if(list3[i]==list3[j]):\n",
    "            if(list3[i] not in duplicate):\n",
    "                duplicate.append(list3[j])\n",
    "print(duplicate)"
   ]
  },
  {
   "cell_type": "code",
   "execution_count": null,
   "id": "bfb1059c-5342-4552-9d75-8212b55504bd",
   "metadata": {},
   "outputs": [],
   "source": []
  }
 ],
 "metadata": {
  "kernelspec": {
   "display_name": "Python 3 (ipykernel)",
   "language": "python",
   "name": "python3"
  },
  "language_info": {
   "codemirror_mode": {
    "name": "ipython",
    "version": 3
   },
   "file_extension": ".py",
   "mimetype": "text/x-python",
   "name": "python",
   "nbconvert_exporter": "python",
   "pygments_lexer": "ipython3",
   "version": "3.12.4"
  }
 },
 "nbformat": 4,
 "nbformat_minor": 5
}
