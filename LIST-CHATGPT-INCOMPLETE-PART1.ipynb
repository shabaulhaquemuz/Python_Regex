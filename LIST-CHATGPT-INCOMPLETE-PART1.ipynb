{
 "cells": [
  {
   "cell_type": "markdown",
   "id": "03da3f0e-7935-428f-991b-e3f889faffeb",
   "metadata": {},
   "source": [
    "## **LIST CHATGPT BEGINNER**"
   ]
  },
  {
   "cell_type": "code",
   "execution_count": 9,
   "id": "c503f683-8b48-47e4-bca5-3c469be9a2cf",
   "metadata": {},
   "outputs": [
    {
     "name": "stdout",
     "output_type": "stream",
     "text": [
      "['apple', 'banana', 'grapes', 'mango', 'guava']\n"
     ]
    }
   ],
   "source": [
    "# 1️⃣ Create and Print a List\n",
    "# Q: Create a list of your 5 favorite fruits and print it.\n",
    "Fruits=[\"apple\",\"banana\",\"grapes\",\"mango\",\"guava\"]\n",
    "print(Fruits)"
   ]
  },
  {
   "cell_type": "code",
   "execution_count": 15,
   "id": "fbf14278-8acb-4d39-93d8-004c49a9e7de",
   "metadata": {},
   "outputs": [
    {
     "name": "stdout",
     "output_type": "stream",
     "text": [
      "green\n"
     ]
    }
   ],
   "source": [
    "# 2️⃣ Access Elements by Index\n",
    "# Q: Given a list colors = [\"red\", \"blue\", \"green\", \"yellow\", \"orange\"], print the 3rd item.\n",
    "colors=[\"red\", \"blue\", \"green\", \"yellow\", \"orange\"]\n",
    "print(colors[2])"
   ]
  },
  {
   "cell_type": "code",
   "execution_count": 17,
   "id": "b735b60c-6ac5-427e-b897-4d89f52941c3",
   "metadata": {},
   "outputs": [
    {
     "name": "stdout",
     "output_type": "stream",
     "text": [
      "[10, 25, 30, 40]\n"
     ]
    }
   ],
   "source": [
    "# 3️⃣ Change an Element\n",
    "# Q: Change the second element of this list nums = [10, 20, 30, 40] to 25 and print the updated list.\n",
    "nums=[10,20,30,40]\n",
    "nums[1]=25\n",
    "print(nums)"
   ]
  },
  {
   "cell_type": "code",
   "execution_count": 19,
   "id": "4330caf7-6dca-4625-988f-b720770df9fd",
   "metadata": {},
   "outputs": [
    {
     "name": "stdout",
     "output_type": "stream",
     "text": [
      "[10, 20, 30, 40, 50]\n"
     ]
    }
   ],
   "source": [
    "# 4️⃣ Append an Element\n",
    "# Q: Add the number 50 to the end of the list nums = [10, 20, 30, 40].\n",
    "nums2=[10,20,30,40]\n",
    "nums2.append(50)\n",
    "print(nums2)"
   ]
  },
  {
   "cell_type": "code",
   "execution_count": 21,
   "id": "173b6d88-a41c-47f4-bb31-eea3a27aaf64",
   "metadata": {},
   "outputs": [
    {
     "name": "stdout",
     "output_type": "stream",
     "text": [
      "[10, 15, 20, 30]\n"
     ]
    }
   ],
   "source": [
    "# 5️⃣ Insert at Specific Position\n",
    "# Q: Insert the number 15 at index 1 in the list nums = [10, 20, 30].\n",
    "nums3=[10,20,30]\n",
    "nums3.insert(1,15)\n",
    "print(nums3)"
   ]
  },
  {
   "cell_type": "code",
   "execution_count": 23,
   "id": "1826066a-30e6-43ab-993f-e523a977f3e3",
   "metadata": {},
   "outputs": [
    {
     "name": "stdout",
     "output_type": "stream",
     "text": [
      "[10, 30, 40]\n"
     ]
    }
   ],
   "source": [
    "# 6️⃣ Remove a Specific Element\n",
    "# Q: Remove the element 20 from the list nums = [10, 20, 30, 40].\n",
    "nums4=[10,20,30,40]\n",
    "nums4.remove(20)\n",
    "print(nums4)"
   ]
  },
  {
   "cell_type": "code",
   "execution_count": 27,
   "id": "700bb0f3-01ed-41df-802e-a6167b4325c6",
   "metadata": {},
   "outputs": [
    {
     "name": "stdout",
     "output_type": "stream",
     "text": [
      "400\n",
      "[100, 200, 300]\n"
     ]
    }
   ],
   "source": [
    "# 7️⃣ Use Pop Method\n",
    "# Q: Remove the last item from the list nums = [100, 200, 300, 400] and print the result.\n",
    "nums5=[100,200,300,400]\n",
    "a=nums5.pop()\n",
    "print(a)\n",
    "print(nums5)"
   ]
  },
  {
   "cell_type": "code",
   "execution_count": 29,
   "id": "8715950a-6757-46db-9606-3b65ee4da563",
   "metadata": {},
   "outputs": [
    {
     "name": "stdout",
     "output_type": "stream",
     "text": [
      "BMW\n",
      "Tesla\n",
      "Ford\n"
     ]
    }
   ],
   "source": [
    "# 8️⃣ Loop Through the List\n",
    "# Q: Print all items in the list cars = [\"BMW\", \"Tesla\", \"Ford\"] using a for loop.\n",
    "cars = [\"BMW\", \"Tesla\", \"Ford\"]\n",
    "for i in cars:\n",
    "    print(i)"
   ]
  },
  {
   "cell_type": "code",
   "execution_count": 45,
   "id": "b80359f2-1485-4ef3-ba16-29b5a89e53c5",
   "metadata": {},
   "outputs": [
    {
     "name": "stdout",
     "output_type": "stream",
     "text": [
      "Yes\n"
     ]
    }
   ],
   "source": [
    "# 9️⃣ Check Membership\n",
    "# Q: Check if \"apple\" is present in the list fruits = [\"banana\", \"mango\", \"apple\"] and print Yes or No.\n",
    "fruits = [\"banana\", \"mango\", \"apple\"]\n",
    "if(\"apple\" in fruits):\n",
    "    print(\"Yes\")\n",
    "else:\n",
    "    print(\"No\")"
   ]
  },
  {
   "cell_type": "code",
   "execution_count": 47,
   "id": "9d7fd5be-e976-4b4b-ae70-bbe2f1ba3a61",
   "metadata": {},
   "outputs": [
    {
     "name": "stdout",
     "output_type": "stream",
     "text": [
      "4\n"
     ]
    }
   ],
   "source": [
    "# 🔟 Get List Length\n",
    "# Q: Print the number of elements in the list languages = [\"Python\", \"Java\", \"C++\", \"Go\"].\n",
    "# Use len() function\n",
    "languages = [\"Python\", \"Java\", \"C++\", \"Go\"]\n",
    "print(len(languages))"
   ]
  },
  {
   "cell_type": "code",
   "execution_count": 49,
   "id": "b91c9f79-2360-47b0-b134-54de0da5b288",
   "metadata": {},
   "outputs": [
    {
     "name": "stdout",
     "output_type": "stream",
     "text": [
      "4\n"
     ]
    }
   ],
   "source": [
    "languages1 = [\"Python\", \"Java\", \"C++\", \"Go\"]\n",
    "count=0\n",
    "for i in languages1:\n",
    "    count+=1\n",
    "print(count)"
   ]
  },
  {
   "cell_type": "markdown",
   "id": "add84696-8218-4343-8f12-9dec2992f27b",
   "metadata": {},
   "source": [
    "# **Set 2: Beginner List Questions (11–15)**"
   ]
  },
  {
   "cell_type": "code",
   "execution_count": 53,
   "id": "a40f7baa-ab16-4fb8-92e9-5f5f8b8b9f88",
   "metadata": {},
   "outputs": [
    {
     "name": "stdout",
     "output_type": "stream",
     "text": [
      "2\n",
      "4\n",
      "6\n"
     ]
    }
   ],
   "source": [
    "#1️⃣1️⃣ Print Even Numbers from a List\n",
    "#Q: Given a list nums = [1, 2, 3, 4, 5, 6], print only the even numbers using a loop. -->\n",
    "numseve = [1, 2, 3, 4, 5, 6]\n",
    "for i in numseve:\n",
    "    if(i%2==0):\n",
    "        print(i)"
   ]
  },
  {
   "cell_type": "code",
   "execution_count": 55,
   "id": "a9844a1e-708a-48ba-8654-b2ecbb02f6bf",
   "metadata": {},
   "outputs": [
    {
     "name": "stdout",
     "output_type": "stream",
     "text": [
      "2\n",
      "4\n",
      "6\n"
     ]
    }
   ],
   "source": [
    "numseve1 = [1, 2, 3, 4, 5, 6]\n",
    "for i in range(len(numseve1)):\n",
    "    if(numseve[i]%2==0):\n",
    "        print(numseve[i])"
   ]
  },
  {
   "cell_type": "code",
   "execution_count": 59,
   "id": "b05b2736-09be-4b0d-8dc6-29b149be259d",
   "metadata": {},
   "outputs": [
    {
     "name": "stdout",
     "output_type": "stream",
     "text": [
      "sum is: 100\n"
     ]
    }
   ],
   "source": [
    "# 1️⃣2️⃣ Sum All Elements in a List\n",
    "# Q: Find the sum of all elements in nums = [10, 20, 30, 40].\n",
    "# 💡 Use sum() or loop\n",
    "numsum = [10, 20, 30, 40]\n",
    "sum=0\n",
    "for i in numsum:\n",
    "    sum+=i\n",
    "print(\"sum is:\",sum)"
   ]
  },
  {
   "cell_type": "code",
   "execution_count": 61,
   "id": "b904fc76-2536-4dbb-9e69-5065fdafece0",
   "metadata": {},
   "outputs": [
    {
     "name": "stdout",
     "output_type": "stream",
     "text": [
      "90\n"
     ]
    }
   ],
   "source": [
    "# 1️⃣3️⃣ Find Maximum Element\n",
    "# Q: Find and print the largest number in the list marks = [45, 76, 89, 34, 90].\n",
    "# 💡 Use max() or logic\n",
    "marks = [45, 76, 89, 34, 90]\n",
    "print(max(marks))"
   ]
  },
  {
   "cell_type": "code",
   "execution_count": 65,
   "id": "5b41ad83-5252-4ff5-bc17-e9e23d253ed5",
   "metadata": {},
   "outputs": [
    {
     "name": "stdout",
     "output_type": "stream",
     "text": [
      "90\n"
     ]
    }
   ],
   "source": [
    "marks1 = [45, 76, 89, 34, 90]\n",
    "maximum=0\n",
    "for i in marks1:\n",
    "    if(i>maximum):\n",
    "        maximum=i\n",
    "print(maximum)"
   ]
  },
  {
   "cell_type": "code",
   "execution_count": 67,
   "id": "5f04653a-d653-4026-a7d2-5b675f5f06bd",
   "metadata": {},
   "outputs": [
    {
     "name": "stdout",
     "output_type": "stream",
     "text": [
      "90\n"
     ]
    }
   ],
   "source": [
    "marks2 = [45, 76, 89, 34, 90]\n",
    "maximum=marks2[0]\n",
    "for i in range(len(marks2)):\n",
    "    if(marks2[i]>maximum):\n",
    "        maximum=marks2[i]\n",
    "print(maximum)"
   ]
  },
  {
   "cell_type": "code",
   "execution_count": 71,
   "id": "a8b5bd8d-2fda-495d-a1da-7883fb0a29a8",
   "metadata": {},
   "outputs": [
    {
     "name": "stdout",
     "output_type": "stream",
     "text": [
      "18\n"
     ]
    }
   ],
   "source": [
    "# 1️⃣4️⃣ Find Minimum Element\n",
    "# Q: Find and print the smallest number in the list ages = [23, 19, 45, 33, 18].\n",
    "ages1 = [23, 19, 45, 33, 18]\n",
    "print(min(ages1))\n"
   ]
  },
  {
   "cell_type": "code",
   "execution_count": 69,
   "id": "1675c92b-b6c4-48ac-a35f-c9712ddfaf93",
   "metadata": {},
   "outputs": [
    {
     "name": "stdout",
     "output_type": "stream",
     "text": [
      "18\n"
     ]
    }
   ],
   "source": [
    "# 1️⃣4️⃣ Find Minimum Element\n",
    "# Q: Find and print the smallest number in the list ages = [23, 19, 45, 33, 18].\n",
    "ages = [23, 19, 45, 33, 18]\n",
    "minimum=ages[0]\n",
    "for i in range(len(ages)):\n",
    "    if(ages[i]<minimum):\n",
    "        minimum=ages[i]\n",
    "print(minimum)"
   ]
  },
  {
   "cell_type": "code",
   "execution_count": 77,
   "id": "c7221dfb-dbad-4547-aaa5-f1eefaa6ab22",
   "metadata": {},
   "outputs": [
    {
     "name": "stdout",
     "output_type": "stream",
     "text": [
      "None\n"
     ]
    }
   ],
   "source": [
    "# 1️⃣5️⃣ Reverse a List\n",
    "# Q: Reverse the list letters = ['a', 'b', 'c', 'd'] and print it.\n",
    "# 💡 Use slicing or .reverse()\n",
    "letters = ['a', 'b', 'c', 'd']\n",
    "print(letters.reverse())\n",
    "#it reverses the list but returns none. we have to use reverse method first, then print the new list"
   ]
  },
  {
   "cell_type": "code",
   "execution_count": 81,
   "id": "661f4728-07f3-4423-a538-6e70ae10228d",
   "metadata": {},
   "outputs": [
    {
     "name": "stdout",
     "output_type": "stream",
     "text": [
      "['d', 'c', 'b', 'a']\n"
     ]
    }
   ],
   "source": [
    "letters1 = ['a', 'b', 'c', 'd']\n",
    "letters1.reverse()\n",
    "print(letters1)"
   ]
  },
  {
   "cell_type": "code",
   "execution_count": 7,
   "id": "c52d169a-31d6-4bef-95ed-24a8e389ffed",
   "metadata": {},
   "outputs": [
    {
     "name": "stdout",
     "output_type": "stream",
     "text": [
      "['d', 'c', 'b', 'a']\n"
     ]
    }
   ],
   "source": [
    "#using slicing operator to reverse a list\n",
    "letters2 = ['a', 'b', 'c', 'd']\n",
    "print(letters2[::-1])"
   ]
  },
  {
   "cell_type": "markdown",
   "id": "b8ddd2e8-6e41-4d4a-9985-689ccd8aab82",
   "metadata": {},
   "source": [
    "# **SET-3:  Basic List Questions**"
   ]
  },
  {
   "cell_type": "code",
   "execution_count": 12,
   "id": "b3919509-448d-4ebb-be27-0bb946f67cfd",
   "metadata": {},
   "outputs": [
    {
     "name": "stdout",
     "output_type": "stream",
     "text": [
      "[2, 4, 6, 8, 10, 12, 14, 16, 18, 20]\n"
     ]
    }
   ],
   "source": [
    "#1️⃣. Create a list of even numbers from 1 to 20 using a loop.\n",
    "l=[]\n",
    "for i in range(1,21):\n",
    "    if(i%2==0):\n",
    "        l.append(i)\n",
    "print(l)"
   ]
  },
  {
   "cell_type": "code",
   "execution_count": 14,
   "id": "b4cc56de-2e14-4dd1-b891-4ee149d694dd",
   "metadata": {},
   "outputs": [
    {
     "name": "stdout",
     "output_type": "stream",
     "text": [
      "sum is: 35\n"
     ]
    }
   ],
   "source": [
    "#2️⃣. Find the sum of all elements in a list nums = [3, 5, 7, 9, 11].\n",
    "nums = [3, 5, 7, 9, 11]\n",
    "sum=0\n",
    "for i in nums:\n",
    "    sum+=i\n",
    "print(\"sum is:\",sum)"
   ]
  },
  {
   "cell_type": "code",
   "execution_count": 16,
   "id": "eca854d5-6e3c-4ae9-8cae-b38b6906671d",
   "metadata": {},
   "outputs": [
    {
     "name": "stdout",
     "output_type": "stream",
     "text": [
      "3\n"
     ]
    }
   ],
   "source": [
    "#3️⃣. Count how many times 4 appears in mylist = [1, 4, 6, 4, 7, 4, 9].\n",
    "mylist = [1, 4, 6, 4, 7, 4, 9]\n",
    "count=0\n",
    "for i in mylist:\n",
    "    if(i==4):\n",
    "        count+=1\n",
    "print(count)"
   ]
  },
  {
   "cell_type": "code",
   "execution_count": 18,
   "id": "ad329c0e-9bf3-461d-89ad-645506ebfe8b",
   "metadata": {},
   "outputs": [
    {
     "name": "stdout",
     "output_type": "stream",
     "text": [
      "3\n"
     ]
    }
   ],
   "source": [
    "#alternate method\n",
    "mylist = [1, 4, 6, 4, 7, 4, 9]\n",
    "print(mylist.count(4))"
   ]
  },
  {
   "cell_type": "code",
   "execution_count": 20,
   "id": "e1b6af8f-2c6d-4338-90d3-6dde1d370c98",
   "metadata": {},
   "outputs": [
    {
     "name": "stdout",
     "output_type": "stream",
     "text": [
      "[]\n"
     ]
    }
   ],
   "source": [
    "#4️⃣. Remove all elements from a list items = ['a', 'b', 'c'] (clear the list).\n",
    "items = ['a', 'b', 'c']\n",
    "items.clear()\n",
    "print(items)"
   ]
  },
  {
   "cell_type": "code",
   "execution_count": 26,
   "id": "a441dd47-05ab-42ee-873d-f1efcc1e7a87",
   "metadata": {},
   "outputs": [
    {
     "name": "stdout",
     "output_type": "stream",
     "text": [
      "[]\n"
     ]
    }
   ],
   "source": [
    "#using slicing\n",
    "items = ['a', 'b', 'c']\n",
    "items[:]=[]\n",
    "print(items)"
   ]
  },
  {
   "cell_type": "code",
   "execution_count": 1,
   "id": "07fa21e2-a497-43a2-9d8b-45b44df733a5",
   "metadata": {},
   "outputs": [
    {
     "name": "stdout",
     "output_type": "stream",
     "text": [
      "['b']\n"
     ]
    }
   ],
   "source": [
    "#using for loops\n",
    "items1 = ['a', 'b', 'c']\n",
    "for i in items1:\n",
    "    items1.remove(i)\n",
    "print(items1)\n",
    "#always use a copy of the list, else the pointer will move to the next element and the list wont be empty"
   ]
  },
  {
   "cell_type": "code",
   "execution_count": 5,
   "id": "5ce4cf13-0a1b-45c4-9d74-893e51422948",
   "metadata": {},
   "outputs": [
    {
     "name": "stdout",
     "output_type": "stream",
     "text": [
      "[]\n"
     ]
    }
   ],
   "source": [
    "items1 = ['a', 'b', 'c']\n",
    "for i in items1[:]:\n",
    "    items1.remove(i)\n",
    "print(items1)"
   ]
  },
  {
   "cell_type": "code",
   "execution_count": 9,
   "id": "94bea8c3-55b8-416a-994a-392b7b788aaf",
   "metadata": {},
   "outputs": [
    {
     "name": "stdout",
     "output_type": "stream",
     "text": [
      "91\n",
      "34\n"
     ]
    }
   ],
   "source": [
    "#5️⃣. Find the maximum and minimum in marks = [55, 88, 34, 91, 64] using built-in functions.\n",
    "marks = [55, 88, 34, 91, 64]\n",
    "print(max(marks))\n",
    "print(min(marks))"
   ]
  },
  {
   "cell_type": "code",
   "execution_count": 11,
   "id": "7a1e1141-f7f3-4cc0-a84b-fa85f49dabea",
   "metadata": {},
   "outputs": [
    {
     "name": "stdout",
     "output_type": "stream",
     "text": [
      "20\n",
      "40\n",
      "60\n"
     ]
    }
   ],
   "source": [
    "#6️⃣. Print only the odd-indexed elements from data = [10, 20, 30, 40, 50, 60].\n",
    "data = [10, 20, 30, 40, 50, 60]\n",
    "for i in range(len(data)):\n",
    "    if(i%2!=0):\n",
    "        print(data[i])"
   ]
  },
  {
   "cell_type": "code",
   "execution_count": 15,
   "id": "ce2dd33a-1da8-4523-9498-2023b8438c93",
   "metadata": {},
   "outputs": [
    {
     "name": "stdout",
     "output_type": "stream",
     "text": [
      "[20, 40, 60]\n"
     ]
    }
   ],
   "source": [
    "#using slicing\n",
    "data1 = [10, 20, 30, 40, 50, 60]\n",
    "print(data1[1::2])"
   ]
  },
  {
   "cell_type": "code",
   "execution_count": 23,
   "id": "02508438-0b90-4879-9ba9-d820e9eb8972",
   "metadata": {},
   "outputs": [
    {
     "name": "stdout",
     "output_type": "stream",
     "text": [
      "yes\n"
     ]
    }
   ],
   "source": [
    "#7️⃣. Check if 9 is in the list numbers = [1, 3, 5, 7, 9, 11].\n",
    "numbers = [1, 3, 5, 7, 9, 11,9]\n",
    "if(9 in numbers):\n",
    "    print(\"yes\")\n",
    "else:\n",
    "    print(\"no\")"
   ]
  },
  {
   "cell_type": "code",
   "execution_count": 27,
   "id": "74c00c3f-64d4-40d1-ac27-5a27d00b0f6c",
   "metadata": {},
   "outputs": [
    {
     "name": "stdout",
     "output_type": "stream",
     "text": [
      "[2, 4, 6]\n"
     ]
    }
   ],
   "source": [
    "#8️⃣. Copy the list original = [2, 4, 6] to a new list without using slicing.\n",
    "original = [2, 4, 6]\n",
    "new=original.copy()\n",
    "print(new)"
   ]
  },
  {
   "cell_type": "code",
   "execution_count": 29,
   "id": "83e50049-6533-420e-997e-9392e12b3844",
   "metadata": {},
   "outputs": [
    {
     "name": "stdout",
     "output_type": "stream",
     "text": [
      "[2, 4, 6]\n"
     ]
    }
   ],
   "source": [
    "#with slicing\n",
    "original1 = [2, 4, 6]\n",
    "copyog=original[:]\n",
    "print(copyog)"
   ]
  },
  {
   "cell_type": "code",
   "execution_count": 37,
   "id": "2ad7457e-26c8-4fb9-89ff-c810abfca644",
   "metadata": {},
   "outputs": [
    {
     "name": "stdout",
     "output_type": "stream",
     "text": [
      "['Thu', 'Wed', 'Tue', 'Mon']\n"
     ]
    }
   ],
   "source": [
    "#9️⃣. Reverse the list days = ['Mon', 'Tue', 'Wed', 'Thu'] using reversed() function.\n",
    "days = ['Mon', 'Tue', 'Wed', 'Thu']\n",
    "days.reverse()\n",
    "print(days)\n",
    "#.reverse() is a method, not a function."
   ]
  },
  {
   "cell_type": "code",
   "execution_count": 45,
   "id": "82e1eaa8-36fb-47f7-8850-f3de1ac9f164",
   "metadata": {},
   "outputs": [
    {
     "name": "stdout",
     "output_type": "stream",
     "text": [
      "['Thu', 'Wed', 'Tue', 'Mon']\n"
     ]
    }
   ],
   "source": [
    "days2 = ['Mon', 'Tue', 'Wed', 'Thu']\n",
    "reversed_days=list(reversed(days2))\n",
    "print(reversed_days)"
   ]
  },
  {
   "cell_type": "code",
   "execution_count": 47,
   "id": "3eba9c23-7d1d-4b7e-ae5c-00acb336efef",
   "metadata": {},
   "outputs": [
    {
     "name": "stdout",
     "output_type": "stream",
     "text": [
      "('Thu', 'Wed', 'Tue', 'Mon')\n"
     ]
    }
   ],
   "source": [
    "days3 = ['Mon', 'Tue', 'Wed', 'Thu']\n",
    "reversed_days=tuple(reversed(days3))\n",
    "print(reversed_days)"
   ]
  },
  {
   "cell_type": "code",
   "execution_count": 49,
   "id": "5185410f-3bc0-4e6d-b378-9871a4e37324",
   "metadata": {},
   "outputs": [
    {
     "name": "stdout",
     "output_type": "stream",
     "text": [
      "{'Mon', 'Tue', 'Thu', 'Wed'}\n"
     ]
    }
   ],
   "source": [
    "days4 = ['Mon', 'Tue', 'Wed', 'Thu']\n",
    "reversed_days=set(reversed(days4))\n",
    "print(reversed_days)"
   ]
  },
  {
   "cell_type": "code",
   "execution_count": 51,
   "id": "69beee21-2c0c-495a-ab9e-b6e44b3f3e77",
   "metadata": {},
   "outputs": [
    {
     "ename": "ValueError",
     "evalue": "dictionary update sequence element #0 has length 3; 2 is required",
     "output_type": "error",
     "traceback": [
      "\u001b[1;31m---------------------------------------------------------------------------\u001b[0m",
      "\u001b[1;31mValueError\u001b[0m                                Traceback (most recent call last)",
      "Cell \u001b[1;32mIn[51], line 2\u001b[0m\n\u001b[0;32m      1\u001b[0m days5 \u001b[38;5;241m=\u001b[39m [\u001b[38;5;124m'\u001b[39m\u001b[38;5;124mMon\u001b[39m\u001b[38;5;124m'\u001b[39m, \u001b[38;5;124m'\u001b[39m\u001b[38;5;124mTue\u001b[39m\u001b[38;5;124m'\u001b[39m, \u001b[38;5;124m'\u001b[39m\u001b[38;5;124mWed\u001b[39m\u001b[38;5;124m'\u001b[39m, \u001b[38;5;124m'\u001b[39m\u001b[38;5;124mThu\u001b[39m\u001b[38;5;124m'\u001b[39m]\n\u001b[1;32m----> 2\u001b[0m reversed_days\u001b[38;5;241m=\u001b[39m\u001b[38;5;28mdict\u001b[39m(\u001b[38;5;28mreversed\u001b[39m(days5))\n\u001b[0;32m      3\u001b[0m \u001b[38;5;28mprint\u001b[39m(reversed_days)\n",
      "\u001b[1;31mValueError\u001b[0m: dictionary update sequence element #0 has length 3; 2 is required"
     ]
    }
   ],
   "source": [
    "days5 = ['Mon', 'Tue', 'Wed', 'Thu']\n",
    "reversed_days=dict(reversed(days5))\n",
    "print(reversed_days)\n",
    "#reversed(days5) returns a reverse iterator over a list of strings.\n",
    "\n",
    "#dict() expects an iterable of key-value pairs\n",
    "#[('a', 1), ('b', 2)]\n"
   ]
  },
  {
   "cell_type": "code",
   "execution_count": 53,
   "id": "2e2d4803-7a5e-49dc-835c-a622123d47ee",
   "metadata": {},
   "outputs": [
    {
     "name": "stdout",
     "output_type": "stream",
     "text": [
      "{'Thur': 4, 'Wed': 3, 'Tues': 2, 'Mon': 1}\n"
     ]
    }
   ],
   "source": [
    "days6=[('Mon', 1), ('Tues', 2),('Wed',3),('Thur',4)]\n",
    "reversed_days1=dict(reversed(days6))\n",
    "print(reversed_days1)\n",
    "# because days6 is a list of key-value pairs (tuples), which dict() can understand."
   ]
  },
  {
   "cell_type": "code",
   "execution_count": 55,
   "id": "576987e4-f23d-4f9a-9008-bfb625a959b5",
   "metadata": {},
   "outputs": [
    {
     "name": "stdout",
     "output_type": "stream",
     "text": [
      "{'Mon': 1, 'Tues': 2, 'Wed': 3, 'Thur': 4}\n"
     ]
    }
   ],
   "source": [
    "days7=[('Mon', 1), ('Tues', 2),('Wed',3),('Thur',4)]\n",
    "daysdict=dict(days6)\n",
    "print(daysdict)\n",
    "#converted a list of tuples(2-elements-each) into dictionary"
   ]
  },
  {
   "cell_type": "code",
   "execution_count": 39,
   "id": "7137422b-b5f9-4154-b077-276513890d96",
   "metadata": {},
   "outputs": [
    {
     "name": "stdout",
     "output_type": "stream",
     "text": [
      "['Thu', 'Wed', 'Tue', 'Mon']\n"
     ]
    }
   ],
   "source": [
    "#using slicing\n",
    "days1 = ['Mon', 'Tue', 'Wed', 'Thu']\n",
    "print(days1[::-1])"
   ]
  },
  {
   "cell_type": "code",
   "execution_count": 57,
   "id": "46fb5d0f-6933-4723-b0e8-325f8a394d93",
   "metadata": {},
   "outputs": [
    {
     "name": "stdout",
     "output_type": "stream",
     "text": [
      "[1, 2, 4, 3, 5]\n"
     ]
    }
   ],
   "source": [
    "#🔟. Remove the first occurrence of 3 from this list: a = [1, 2, 3, 4, 3, 5].\n",
    "a = [1, 2, 3, 4, 3, 5]\n",
    "for i in a:\n",
    "    if(i==3):\n",
    "        a.remove(3)\n",
    "        break\n",
    "print(a)"
   ]
  },
  {
   "cell_type": "code",
   "execution_count": 59,
   "id": "28696fc6-a6a7-40c6-9bd2-6b109b4f46c0",
   "metadata": {},
   "outputs": [
    {
     "name": "stdout",
     "output_type": "stream",
     "text": [
      "[1, 2, 4, 3, 5]\n"
     ]
    }
   ],
   "source": [
    "# remove() — What it does:\n",
    "# list.remove(value) removes only the first occurrence of the given value.\n",
    "# It does not care about the index.\n",
    "# It removes the first match from the left (start of the list).\n",
    "a1 = [1, 2, 3, 4, 3, 5]\n",
    "a1.remove(3)\n",
    "print(a1)"
   ]
  },
  {
   "cell_type": "markdown",
   "id": "d703c098-0d1f-410a-a164-0b78524508a1",
   "metadata": {},
   "source": [
    "# ** Intermediate List Questions – Set 1**"
   ]
  },
  {
   "cell_type": "code",
   "execution_count": 64,
   "id": "51365a8d-cf88-429b-8f7c-7c8773903c38",
   "metadata": {},
   "outputs": [
    {
     "name": "stdout",
     "output_type": "stream",
     "text": [
      "[4, 16, 36]\n"
     ]
    }
   ],
   "source": [
    "# 1️⃣. Given a list of numbers, create a new list containing only the squares of even numbers.\n",
    "# nums = [1, 2, 3, 4, 5, 6] → Output: [4, 16, 36]\n",
    "nums = [1, 2, 3, 4, 5, 6]\n",
    "newsq=[]\n",
    "for i in nums:\n",
    "    if(i%2==0):\n",
    "        newsq.append(i**2)\n",
    "print(newsq)"
   ]
  },
  {
   "cell_type": "code",
   "execution_count": 66,
   "id": "e361c7fb-49d6-4560-8205-d2b656f6472d",
   "metadata": {},
   "outputs": [
    {
     "name": "stdout",
     "output_type": "stream",
     "text": [
      "[1, 2, 3, 4, 5]\n"
     ]
    }
   ],
   "source": [
    "# 2️⃣. Flatten a nested list:\n",
    "# nested = [[1, 2], [3, 4], [5]] → Output: [1, 2, 3, 4, 5]\n",
    "nested = [[1, 2], [3, 4], [5]]\n",
    "flatten=[]\n",
    "for i in nested:\n",
    "    if(type(i)==list):\n",
    "        flatten.extend(i)\n",
    "    else:\n",
    "        flatten.append(i)\n",
    "print(flatten)"
   ]
  },
  {
   "cell_type": "code",
   "execution_count": 70,
   "id": "6fa38f4a-d5b5-491c-b322-3291a9a3ec59",
   "metadata": {},
   "outputs": [
    {
     "name": "stdout",
     "output_type": "stream",
     "text": [
      "[1, [2, 3], 4]\n",
      "[1, 2, 3, 4]\n"
     ]
    }
   ],
   "source": [
    "#flatten a deeper nested list\n",
    "deepernested=[[1, [2, 3]], 4]  # deeper nesting\n",
    "flatten1=[]\n",
    "for i in deepernested:\n",
    "    if(type(i)==list):\n",
    "        flatten1.extend(i)\n",
    "    else:\n",
    "        flatten1.append(i)\n",
    "print(flatten1)\n",
    "flattenfinal=[]\n",
    "for i in flatten1:\n",
    "    if(type(i)==list):\n",
    "        flattenfinal.extend(i)\n",
    "    else:\n",
    "        flattenfinal.append(i)\n",
    "print(flattenfinal)\n"
   ]
  },
  {
   "cell_type": "code",
   "execution_count": 82,
   "id": "57893c0c-c990-451e-8b8b-493fbd5a717d",
   "metadata": {},
   "outputs": [
    {
     "name": "stdout",
     "output_type": "stream",
     "text": [
      "[1, 2, 3, 4, 5]\n"
     ]
    }
   ],
   "source": [
    "# 3️⃣. Remove duplicates from a list using a loop (don’t use set).\n",
    "# b = [1, 2, 2, 3, 4, 4, 5] → Output: [1, 2, 3, 4, 5]\n",
    "b = [1, 2, 2, 3, 4, 4, 5,5,5]\n",
    "unique=[]\n",
    "for i in b:\n",
    "    if(i not in unique):\n",
    "        unique.append(i)\n",
    "print(unique)"
   ]
  },
  {
   "cell_type": "code",
   "execution_count": 84,
   "id": "77711a52-f6f9-4394-9096-1c1e004b8d5e",
   "metadata": {},
   "outputs": [
    {
     "name": "stdout",
     "output_type": "stream",
     "text": [
      "{1, 2, 3, 4, 5}\n"
     ]
    }
   ],
   "source": [
    "b1 = [1, 2, 2, 3, 4, 4, 5,5,5]\n",
    "unique1=set(b1)\n",
    "print(unique1)\n",
    "#converted into set but unordered"
   ]
  },
  {
   "cell_type": "code",
   "execution_count": 86,
   "id": "9954e898-688c-4621-a235-0580be16da80",
   "metadata": {},
   "outputs": [
    {
     "name": "stdout",
     "output_type": "stream",
     "text": [
      "[1, 2, 3, 4, 5]\n"
     ]
    }
   ],
   "source": [
    "b2 = [1, 2, 2, 3, 4, 4, 5,5,5]\n",
    "unique2=list(set(b2))\n",
    "print(unique2)\n",
    "#into list  form, But remember, the order may not be preserved because set is unordered."
   ]
  },
  {
   "cell_type": "code",
   "execution_count": 88,
   "id": "9672dfa6-3857-47b7-b756-961b42da0263",
   "metadata": {},
   "outputs": [
    {
     "name": "stdout",
     "output_type": "stream",
     "text": [
      "[1, 2, 3, 4, 5]\n"
     ]
    }
   ],
   "source": [
    "#using set and also preserving the order and give result in list\n",
    "b2 = [1, 2, 2, 3, 4, 4, 5,5,5]\n",
    "seenset=set()\n",
    "unique3=[]\n",
    "for i in b2:\n",
    "    if(i not in seenset):\n",
    "        unique3.append(i)\n",
    "        seenset.add(i)\n",
    "print(unique3)"
   ]
  },
  {
   "cell_type": "code",
   "execution_count": 98,
   "id": "3be4798c-2593-4c45-8000-b011504bcb0f",
   "metadata": {},
   "outputs": [
    {
     "name": "stdout",
     "output_type": "stream",
     "text": [
      "maximum is: 500\n",
      "smax is: 234\n"
     ]
    }
   ],
   "source": [
    "#4️⃣. Find the second largest number in a list nums = [10, 20, 4, 45, 99].\\\n",
    "nums = [10, 20, 4, 45, 99,500,234]\n",
    "maximum=0\n",
    "smaximum=1\n",
    "for i in range(len(nums)):\n",
    "    if(nums[i]>maximum):\n",
    "        smaximum=maximum\n",
    "        maximum=nums[i]\n",
    "    elif(nums[i]>smaximum and nums[i]!=maximum):\n",
    "        smaximum=nums[i]\n",
    "print(\"maximum is:\",maximum)\n",
    "print(\"smax is:\",smaximum)\n",
    "        \n",
    "        "
   ]
  },
  {
   "cell_type": "code",
   "execution_count": 3,
   "id": "c21c223f-ca05-4599-85a9-b426423e9ace",
   "metadata": {},
   "outputs": [
    {
     "name": "stdout",
     "output_type": "stream",
     "text": [
      "maximum is: 1000\n",
      "smax is: 500\n"
     ]
    }
   ],
   "source": [
    "#If your list had only negative numbers, this line:\n",
    "# maximum = 0\n",
    "# smaximum = 1\n",
    "# would break the logic, since no negative number is greater than 0.\n",
    "\n",
    "# Best Practice:\n",
    "# Use negative infinity to support any kind of numbers:\n",
    "# maximum = float('-inf')\n",
    "# smaximum = float('-inf')\n",
    "\n",
    "\n",
    "nums1 = [10, 20, 4, 45, 99,500,234,1000]\n",
    "maximum=float(\"-inf\")\n",
    "smaximum=float(\"-inf\")\n",
    "for i in range(len(nums1)):\n",
    "    if(nums1[i]>maximum):\n",
    "        smaximum=maximum\n",
    "        maximum=nums1[i]\n",
    "    elif(nums1[i]>smaximum and nums1[i]!=maximum):\n",
    "        smaximum=nums1[i]\n",
    "print(\"maximum is:\",maximum)\n",
    "print(\"smax is:\",smaximum)\n",
    "        "
   ]
  },
  {
   "cell_type": "code",
   "execution_count": 5,
   "id": "2ba256e1-e3ab-4d63-8c5a-c88682d68cdd",
   "metadata": {},
   "outputs": [
    {
     "name": "stdout",
     "output_type": "stream",
     "text": [
      "[5, 1, 2, 3, 4]\n"
     ]
    }
   ],
   "source": [
    "#5️⃣. Rotate a list one step to the right.\n",
    "#a = [1, 2, 3, 4, 5] → Output: [5, 1, 2, 3, 4]\n",
    "a = [1, 2, 3, 4, 5] \n",
    "p=a.pop()\n",
    "a.insert(0,p)\n",
    "print(a)"
   ]
  },
  {
   "cell_type": "code",
   "execution_count": 13,
   "id": "853793f9-bff8-4582-8cfd-ced2e8c12f50",
   "metadata": {},
   "outputs": [
    {
     "name": "stdout",
     "output_type": "stream",
     "text": [
      "[3, 4, 5, 1, 2]\n"
     ]
    }
   ],
   "source": [
    "c = [1, 2, 3, 4, 5] \n",
    "for _ in range(3):\n",
    "    c.insert(0,c.pop())\n",
    "print(c)\n",
    "\n",
    "# Why use _?\n",
    "# In Python, _ is often used:\n",
    "# When you don’t care about the loop variable\n",
    "# To show that it’s not going to be used"
   ]
  },
  {
   "cell_type": "code",
   "execution_count": 15,
   "id": "e90b3cc4-94a2-43a0-be7c-e252ad88b57f",
   "metadata": {},
   "outputs": [
    {
     "name": "stdout",
     "output_type": "stream",
     "text": [
      "3\n"
     ]
    }
   ],
   "source": [
    "#6️⃣. Count how many elements are greater than 50 in marks = [49, 65, 70, 32, 88].\n",
    "marks = [49, 65, 70, 32, 88]\n",
    "count=0\n",
    "for i in marks:\n",
    "    if(i>50):\n",
    "        count+=1\n",
    "print(count)"
   ]
  },
  {
   "cell_type": "code",
   "execution_count": 17,
   "id": "7333c569-4780-4754-bde6-b6356790dd3a",
   "metadata": {},
   "outputs": [
    {
     "name": "stdout",
     "output_type": "stream",
     "text": [
      "hello\n",
      "tiger\n"
     ]
    }
   ],
   "source": [
    "# 7️⃣. From a list of strings, filter out only strings with length > 3.\n",
    "# words = ['hi', 'hello', 'cat', 'tiger'] → Output: ['hello', 'tiger']\n",
    "words = ['hi', 'hello', 'cat', 'tiger']\n",
    "for i in words:\n",
    "    if(len(i)>3):\n",
    "        print(i)"
   ]
  },
  {
   "cell_type": "code",
   "execution_count": 19,
   "id": "f2a0f8c0-7942-4cdf-aa89-f083bd6e80aa",
   "metadata": {},
   "outputs": [
    {
     "name": "stdout",
     "output_type": "stream",
     "text": [
      "['hello', 'tiger']\n"
     ]
    }
   ],
   "source": [
    "#filtered in a list\n",
    "words1 = ['hi', 'hello', 'cat', 'tiger']\n",
    "f=[]\n",
    "for i in words1:\n",
    "    if(len(i)>3):\n",
    "        f.append(i)\n",
    "print(f)"
   ]
  },
  {
   "cell_type": "code",
   "execution_count": 21,
   "id": "bfd30bd9-7915-4027-bf77-deb6a32ec07f",
   "metadata": {},
   "outputs": [
    {
     "name": "stdout",
     "output_type": "stream",
     "text": [
      "[3, 9, 12, 21, 33, 45, 56, 67, 78, 89, 100]\n"
     ]
    }
   ],
   "source": [
    "#8️⃣. Sort a list in descending order without using .sort() or sorted().\n",
    "nums = [45, 12, 89, 33, 67, 3, 78, 100, 56, 21, 9]\n",
    "nums.sort()\n",
    "print(nums)\n",
    "#ascending order using sort()"
   ]
  },
  {
   "cell_type": "code",
   "execution_count": 27,
   "id": "117cc493-101b-41b8-9abc-9040632e4553",
   "metadata": {},
   "outputs": [
    {
     "name": "stdout",
     "output_type": "stream",
     "text": [
      "[100, 89, 78, 67, 56, 45, 33, 21, 12, 9, 3]\n"
     ]
    }
   ],
   "source": [
    "nums1 = [45, 12, 89, 33, 67, 3, 78, 100, 56, 21, 9]\n",
    "nums1.sort(reverse=True)\n",
    "print(nums1)\n",
    "#in descending order using sort()"
   ]
  },
  {
   "cell_type": "code",
   "execution_count": 31,
   "id": "04bca065-58a1-4809-b822-15abaf03c96c",
   "metadata": {},
   "outputs": [
    {
     "name": "stdout",
     "output_type": "stream",
     "text": [
      "[3, 9, 12, 21, 33, 45, 56, 67, 78, 89, 100]\n"
     ]
    }
   ],
   "source": [
    "nums2 = [45, 12, 89, 33, 67, 3, 78, 100, 56, 21, 9]\n",
    "start=0\n",
    "next=1\n",
    "while(next<=len(nums2)-1):\n",
    "    if(nums2[start]>nums2[next]):\n",
    "        nums2[start],nums2[next]=nums2[next],nums2[start]\n",
    "        start=0\n",
    "        next=1\n",
    "    else:\n",
    "        start+=1\n",
    "        next=start+1\n",
    "print(nums2)"
   ]
  },
  {
   "cell_type": "code",
   "execution_count": 37,
   "id": "729573e3-cb95-4b88-8c3c-fd764ba98bda",
   "metadata": {},
   "outputs": [
    {
     "name": "stdout",
     "output_type": "stream",
     "text": [
      "[3, 9, 12, 21, 33, 45, 56, 67, 78, 89, 100]\n"
     ]
    }
   ],
   "source": [
    "#sorting use nested for loops(ascending order)\n",
    "nums3 = [45, 12, 89, 33, 67, 3, 78, 100, 56, 21, 9]\n",
    "for i in range(len(nums3)):\n",
    "    for j in range(i+1,len(nums3)):\n",
    "        if(nums3[i]>nums3[j]):\n",
    "            nums3[i],nums3[j]=nums3[j],nums3[i]\n",
    "print(nums3)"
   ]
  },
  {
   "cell_type": "code",
   "execution_count": 39,
   "id": "83f04632-a024-48a1-a3d9-d853a5637fbb",
   "metadata": {},
   "outputs": [
    {
     "name": "stdout",
     "output_type": "stream",
     "text": [
      "[100, 89, 78, 67, 56, 45, 33, 21, 12, 9, 3]\n"
     ]
    }
   ],
   "source": [
    "#sorting use nested for loops(descending order)\n",
    "nums3 = [45, 12, 89, 33, 67, 3, 78, 100, 56, 21, 9]\n",
    "for i in range(len(nums3)):\n",
    "    for j in range(i+1,len(nums3)):\n",
    "        if(nums3[i]<nums3[j]):\n",
    "            nums3[i],nums3[j]=nums3[j],nums3[i]\n",
    "print(nums3)"
   ]
  },
  {
   "cell_type": "code",
   "execution_count": 3,
   "id": "9b5cc2a5-c83b-4610-8976-f8f209a0693c",
   "metadata": {},
   "outputs": [
    {
     "name": "stdout",
     "output_type": "stream",
     "text": [
      "[3, 9, 12, 21, 33, 45, 56, 67, 78, 89, 100]\n"
     ]
    }
   ],
   "source": [
    "#sorted using one loop\n",
    "nums2 =  [45, 12, 89, 33, 67, 3, 78, 100, 56, 21, 9]\n",
    "\n",
    "start=0\n",
    "next=1\n",
    "while(start<len(nums2)-1):\n",
    "    if(next<len(nums2)):\n",
    "        if(nums2[start]>nums2[next]):\n",
    "            nums2[start],nums2[next] = nums2[next],nums2[start]\n",
    "        next+=1\n",
    "    else:\n",
    "        start += 1\n",
    "        next = start+1\n",
    "print(nums2)"
   ]
  },
  {
   "cell_type": "code",
   "execution_count": 17,
   "id": "fad8451b-66c6-4b5f-80bb-804e9e67eb06",
   "metadata": {},
   "outputs": [
    {
     "name": "stdout",
     "output_type": "stream",
     "text": [
      "[40, 20, 30, 10]\n"
     ]
    }
   ],
   "source": [
    "# 9️⃣. Swap the first and last elements of a list.\n",
    "# a = [10, 20, 30, 40] → Output: [40, 20, 30, 10]\n",
    "a = [10, 20, 30, 40]\n",
    "start=0\n",
    "end=len(a)-1\n",
    "for i in range(0,1):\n",
    "    a[start],a[end]=a[end],a[start]\n",
    "print(a)\n",
    " "
   ]
  },
  {
   "cell_type": "code",
   "execution_count": 15,
   "id": "a82db886-8ad9-4642-92aa-8ee6a1714b55",
   "metadata": {},
   "outputs": [
    {
     "name": "stdout",
     "output_type": "stream",
     "text": [
      "[40, 20, 30, 10]\n"
     ]
    }
   ],
   "source": [
    "#without loop\n",
    "a = [10, 20, 30, 40]\n",
    "a[0], a[-1] = a[-1], a[0]\n",
    "print(a)\n"
   ]
  },
  {
   "cell_type": "code",
   "execution_count": 19,
   "id": "975177ea-ae78-4159-8479-65ce57db4afc",
   "metadata": {},
   "outputs": [
    {
     "name": "stdout",
     "output_type": "stream",
     "text": [
      "[15, 30, 45, 60, 75, 90]\n"
     ]
    }
   ],
   "source": [
    "#🔟. Print a list with only the numbers divisible by both 3 and 5 from range(1, 100).\n",
    "listdiv=[]\n",
    "for i in range(1,100):\n",
    "    if(i%3==0 and i%5==0):\n",
    "        listdiv.append(i)\n",
    "print(listdiv)"
   ]
  },
  {
   "cell_type": "code",
   "execution_count": null,
   "id": "c5d35e6c-0c1a-4140-b9a6-bc7f0b5a14ac",
   "metadata": {},
   "outputs": [],
   "source": []
  }
 ],
 "metadata": {
  "kernelspec": {
   "display_name": "Python 3 (ipykernel)",
   "language": "python",
   "name": "python3"
  },
  "language_info": {
   "codemirror_mode": {
    "name": "ipython",
    "version": 3
   },
   "file_extension": ".py",
   "mimetype": "text/x-python",
   "name": "python",
   "nbconvert_exporter": "python",
   "pygments_lexer": "ipython3",
   "version": "3.12.4"
  }
 },
 "nbformat": 4,
 "nbformat_minor": 5
}
