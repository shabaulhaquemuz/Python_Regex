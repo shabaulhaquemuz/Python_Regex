{
 "cells": [
  {
   "cell_type": "code",
   "execution_count": 1,
   "id": "bbae3772-7c68-4467-93bb-cc4bdee8a59e",
   "metadata": {},
   "outputs": [],
   "source": [
    "class A:\n",
    "    _amount=1000  #act as protected"
   ]
  },
  {
   "cell_type": "code",
   "execution_count": 5,
   "id": "ee3422dc-7178-4281-95fb-179c4c61c6e1",
   "metadata": {},
   "outputs": [
    {
     "data": {
      "text/plain": [
       "5000"
      ]
     },
     "execution_count": 5,
     "metadata": {},
     "output_type": "execute_result"
    }
   ],
   "source": [
    "class A:\n",
    "    _amount=1000\n",
    "    __balance=5000   #act as private\n",
    "a1=A()\n",
    "a1._A__balance\n"
   ]
  },
  {
   "cell_type": "code",
   "execution_count": 9,
   "id": "f8632d7b-4914-49b5-b835-4869ba461c08",
   "metadata": {},
   "outputs": [],
   "source": [
    "#in python there is no term as private, protected, public and default...but we can have certain ways to make our variable act like that\n",
    "#for private, you must have to use inheritance"
   ]
  },
  {
   "cell_type": "code",
   "execution_count": 17,
   "id": "b26bcf9c-5ae3-4d24-bc9c-c1d5245bb0e3",
   "metadata": {},
   "outputs": [
    {
     "name": "stdout",
     "output_type": "stream",
     "text": [
      "Interest rate for your loan is 8%\n"
     ]
    }
   ],
   "source": [
    "#abstraction(abstract class): to hide the unwanted details\n",
    "#hide unwanted detail\n",
    "#function need to implemented in child class\n",
    "#works as blueprint for all subclass\n",
    "#abstraction achieve-abstract class\n",
    "#abstract class-abstract method\n",
    "#abstract method=>not implemented, its implemented in child classes\n",
    "class RBI:\n",
    "    def info(self):\n",
    "        pass\n",
    "class SBI:\n",
    "    def info(self):\n",
    "        print(\"Interest rate for your loan is 8%\")\n",
    "a=SBI()\n",
    "a.info()"
   ]
  },
  {
   "cell_type": "code",
   "execution_count": 5,
   "id": "cce76cf5-d953-4dcd-afca-e523d2b0150c",
   "metadata": {},
   "outputs": [
    {
     "name": "stdout",
     "output_type": "stream",
     "text": [
      "Interest rate for your loan is 8%\n"
     ]
    }
   ],
   "source": [
    "from abc import ABC, abstractmethod\n",
    "class RBI(ABC):       #abstract class is RBI\n",
    "    @abstractmethod\n",
    "    def info(self):    #info function is abstract method\n",
    "        pass\n",
    "class SBI(RBI):\n",
    "    def info(self):    #implementing abstract method from parent class\n",
    "        print(\"Interest rate for your loan is 8%\")\n",
    "a=SBI()\n",
    "a.info()"
   ]
  },
  {
   "cell_type": "code",
   "execution_count": 7,
   "id": "20a7a161-ef61-4fdf-9c75-f5ecde23e3c2",
   "metadata": {},
   "outputs": [
    {
     "name": "stdout",
     "output_type": "stream",
     "text": [
      "Interest rate for your loan is 10%\n"
     ]
    }
   ],
   "source": [
    "from abc import ABC, abstractmethod\n",
    "class RBI(ABC):\n",
    "    @abstractmethod\n",
    "    def info(self):\n",
    "        pass\n",
    "class SBI(RBI):\n",
    "    def info(self):\n",
    "        print(\"Interest rate for your loan is 8%\")\n",
    "class ICICI(RBI):\n",
    "    def info(self):\n",
    "        print(\"Interest rate for your loan is 10%\")\n",
    "b=ICICI()\n",
    "b.info()"
   ]
  },
  {
   "cell_type": "code",
   "execution_count": 11,
   "id": "57f6f98b-d459-4be6-8094-3a96677020ca",
   "metadata": {},
   "outputs": [],
   "source": [
    "# | Term  | Type   | What it is                       |\n",
    "# | ----- | ------ | -------------------------------- |\n",
    "# | `abc` | Module | Built-in Python module           |\n",
    "# | `ABC` | Class  | Abstract base class inside `abc` |\n"
   ]
  },
  {
   "cell_type": "code",
   "execution_count": 13,
   "id": "53538b4f-b1b0-4a0e-9600-a4d3913a11d6",
   "metadata": {},
   "outputs": [],
   "source": [
    "# Analogy:\n",
    "# Think of abc as a toolbox, and ABC as a tool inside that box."
   ]
  },
  {
   "cell_type": "code",
   "execution_count": 15,
   "id": "9ef7eab5-8c04-4a96-8f14-3888c3a310b8",
   "metadata": {},
   "outputs": [],
   "source": [
    "# ABC (uppercase):\n",
    "# It is a class inside the abc module.\n",
    "\n",
    "# You inherit from ABC to make your class an abstract base class.\n"
   ]
  },
  {
   "cell_type": "code",
   "execution_count": 19,
   "id": "e5d8652a-c8db-4fed-a9c2-2e5e629f6055",
   "metadata": {},
   "outputs": [
    {
     "name": "stdout",
     "output_type": "stream",
     "text": [
      "Shabaul\n"
     ]
    }
   ],
   "source": [
    "class Student:\n",
    "    def __init__(self):\n",
    "        self.__name = \"Shabaul\"  # private variable\n",
    "\n",
    "    def get_name(self):        # getter method\n",
    "        return self.__name\n",
    "\n",
    "s = Student()\n",
    "print(s.get_name())  # Accessing private variable through getter\n"
   ]
  },
  {
   "cell_type": "code",
   "execution_count": 23,
   "id": "ac8e1294-281c-4ddd-8c93-cfb88dc7ebb7",
   "metadata": {},
   "outputs": [
    {
     "name": "stdout",
     "output_type": "stream",
     "text": [
      "Aryan\n"
     ]
    }
   ],
   "source": [
    "class Patient:\n",
    "    def __init__(self):\n",
    "        self.__patientname=\"Aryan\"\n",
    "    def get_name(self):\n",
    "        return self.__patientname\n",
    "p=Patient()\n",
    "print(p.get_name())"
   ]
  },
  {
   "cell_type": "code",
   "execution_count": null,
   "id": "b7b42261-4ffc-477d-b932-ed30ef47fde9",
   "metadata": {},
   "outputs": [],
   "source": []
  }
 ],
 "metadata": {
  "kernelspec": {
   "display_name": "Python 3 (ipykernel)",
   "language": "python",
   "name": "python3"
  },
  "language_info": {
   "codemirror_mode": {
    "name": "ipython",
    "version": 3
   },
   "file_extension": ".py",
   "mimetype": "text/x-python",
   "name": "python",
   "nbconvert_exporter": "python",
   "pygments_lexer": "ipython3",
   "version": "3.12.4"
  }
 },
 "nbformat": 4,
 "nbformat_minor": 5
}
