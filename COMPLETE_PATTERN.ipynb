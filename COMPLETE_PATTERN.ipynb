{
 "cells": [
  {
   "cell_type": "code",
   "execution_count": 1,
   "id": "702fc859-b8ab-4bfa-9b0d-66ca77cd953a",
   "metadata": {},
   "outputs": [
    {
     "name": "stdout",
     "output_type": "stream",
     "text": [
      "student 1\n",
      "subject 1\n",
      "subject 2\n",
      "subject 3\n",
      "student 2\n",
      "subject 1\n",
      "subject 2\n",
      "subject 3\n",
      "student 3\n",
      "subject 1\n",
      "subject 2\n",
      "subject 3\n"
     ]
    }
   ],
   "source": [
    "for i in range(1,4):\n",
    "    print(\"student\",i)\n",
    "    for j in range(1,4):\n",
    "        print(\"subject\",j)"
   ]
  },
  {
   "cell_type": "code",
   "execution_count": 3,
   "id": "7d89f38f-ae05-4704-aea6-0ae67ab1b9c9",
   "metadata": {},
   "outputs": [
    {
     "name": "stdout",
     "output_type": "stream",
     "text": [
      "hey\n",
      "hi\n"
     ]
    }
   ],
   "source": [
    "print(\"hey\")\n",
    "print(\"hi\")\n",
    "#in python by default \\n is written, its not visible."
   ]
  },
  {
   "cell_type": "code",
   "execution_count": 5,
   "id": "5f83f458-1bb6-48ec-a687-148773402859",
   "metadata": {},
   "outputs": [
    {
     "name": "stdout",
     "output_type": "stream",
     "text": [
      "hey-hi\n"
     ]
    }
   ],
   "source": [
    "print(\"hey\",end='-')\n",
    "print(\"hi\")\n",
    "#end is used to change the new line character to somethiung you want. if end is black, it removes the \"\\n\""
   ]
  },
  {
   "cell_type": "code",
   "execution_count": 15,
   "id": "0c0c84f9-54b5-465b-a4fe-bf60edb375df",
   "metadata": {},
   "outputs": [
    {
     "name": "stdout",
     "output_type": "stream",
     "text": [
      "student 1\n",
      "subject 1 subject 2 subject 3 subject 4 \n",
      "student 2\n",
      "subject 1 subject 2 subject 3 subject 4 \n",
      "student 3\n",
      "subject 1 subject 2 subject 3 subject 4 \n",
      "student 4\n",
      "subject 1 subject 2 subject 3 subject 4 \n"
     ]
    }
   ],
   "source": [
    "for i in range(1,5):\n",
    "    print(\"student\",i)\n",
    "    for j in range(1,5):\n",
    "        print(\"subject\",j, end=' ')\n",
    "    print()"
   ]
  },
  {
   "cell_type": "code",
   "execution_count": 25,
   "id": "223d4eb1-fb71-4569-ac53-4f9f2c8d3b78",
   "metadata": {},
   "outputs": [
    {
     "name": "stdout",
     "output_type": "stream",
     "text": [
      "* * * * * \n",
      "* * * * * \n",
      "* * * * * \n",
      "* * * * * \n",
      "* * * * * \n"
     ]
    }
   ],
   "source": [
    "for i in range(1,6):\n",
    "    for j in range(1,6):\n",
    "        print(\"*\",end=' ')\n",
    "    print()"
   ]
  },
  {
   "cell_type": "code",
   "execution_count": 29,
   "id": "58af3223-5b58-4dd8-b87b-e1e49b866a18",
   "metadata": {},
   "outputs": [
    {
     "name": "stdout",
     "output_type": "stream",
     "text": [
      "1 2 3 4 \n",
      "1 2 3 4 \n",
      "1 2 3 4 \n",
      "1 2 3 4 \n"
     ]
    }
   ],
   "source": [
    "for i in range(1,5):\n",
    "    for j in range(1,5):\n",
    "        print(j,end=' ')\n",
    "    print()"
   ]
  },
  {
   "cell_type": "code",
   "execution_count": 35,
   "id": "83305c42-1710-4061-aa4b-4443f15d117d",
   "metadata": {},
   "outputs": [
    {
     "name": "stdout",
     "output_type": "stream",
     "text": [
      "1111\n",
      "2222\n",
      "3333\n"
     ]
    }
   ],
   "source": [
    "for i in range(1,4):\n",
    "    for j in range(1,5):\n",
    "        print(i,end='')\n",
    "    print()\n",
    "        \n",
    "    "
   ]
  },
  {
   "cell_type": "code",
   "execution_count": 45,
   "id": "189e4883-4436-4b93-9dd7-801f12e36dab",
   "metadata": {},
   "outputs": [
    {
     "name": "stdout",
     "output_type": "stream",
     "text": [
      "3333\n",
      "2222\n",
      "1111\n"
     ]
    }
   ],
   "source": [
    "num=3\n",
    "for i in range(1,4):\n",
    "    for j in range(1,5):\n",
    "        print(num,end='')\n",
    "    print()\n",
    "    num-=1\n",
    "        "
   ]
  },
  {
   "cell_type": "code",
   "execution_count": 47,
   "id": "7f11c816-82bb-4fbe-a485-5e9ba4f4dc7b",
   "metadata": {},
   "outputs": [
    {
     "name": "stdout",
     "output_type": "stream",
     "text": [
      "234\n",
      "234\n",
      "234\n"
     ]
    }
   ],
   "source": [
    "num=2\n",
    "for i in range(1,4):\n",
    "    num=2\n",
    "    for j in range(1,4):\n",
    "        print(num,end='')\n",
    "        num+=1\n",
    "    print()"
   ]
  },
  {
   "cell_type": "code",
   "execution_count": 49,
   "id": "0aeef3ee-eeaf-401c-9e9d-0dba3b506f3c",
   "metadata": {},
   "outputs": [
    {
     "name": "stdout",
     "output_type": "stream",
     "text": [
      "123\n",
      "456\n",
      "789\n"
     ]
    }
   ],
   "source": [
    "num=1\n",
    "for i in range(1,4):\n",
    "    for j in range(1,4):\n",
    "        print(num,end='')\n",
    "        num+=1\n",
    "    print()"
   ]
  },
  {
   "cell_type": "code",
   "execution_count": 51,
   "id": "4ab071dc-3653-4075-83bc-d62333e5e3c6",
   "metadata": {},
   "outputs": [
    {
     "name": "stdout",
     "output_type": "stream",
     "text": [
      "987\n",
      "654\n",
      "321\n"
     ]
    }
   ],
   "source": [
    "num=9\n",
    "for i in range(1,4):\n",
    "    for j in range(1,4):\n",
    "        print(num,end='')\n",
    "        num-=1\n",
    "    print()"
   ]
  },
  {
   "cell_type": "code",
   "execution_count": 53,
   "id": "d46fc303-75bc-4f6e-a9c0-c1c02cd15384",
   "metadata": {},
   "outputs": [
    {
     "name": "stdout",
     "output_type": "stream",
     "text": [
      "*\n",
      "**\n",
      "***\n",
      "****\n",
      "*****\n"
     ]
    }
   ],
   "source": [
    "for i in range(1,6):\n",
    "    for j in range(1,i+1):\n",
    "        print(\"*\",end='')\n",
    "    print()"
   ]
  },
  {
   "cell_type": "code",
   "execution_count": 55,
   "id": "b368a050-bdb0-4fab-8db9-cb784b0d95c3",
   "metadata": {},
   "outputs": [
    {
     "name": "stdout",
     "output_type": "stream",
     "text": [
      "5\n",
      "55\n",
      "555\n",
      "5555\n"
     ]
    }
   ],
   "source": [
    "num=5\n",
    "for i in range(1,5):\n",
    "    for j in range(1,i+1):\n",
    "        print(num,end='')\n",
    "    print()"
   ]
  },
  {
   "cell_type": "code",
   "execution_count": 57,
   "id": "a2485750-0868-4d2f-8a08-24ccd450c908",
   "metadata": {},
   "outputs": [
    {
     "name": "stdout",
     "output_type": "stream",
     "text": [
      "1\n",
      "12\n",
      "123\n"
     ]
    }
   ],
   "source": [
    "for i in range(1,4):\n",
    "    num=1\n",
    "    for j in range(1,i+1):\n",
    "        print(num,end='')\n",
    "        num+=1\n",
    "    print()\n",
    "        "
   ]
  },
  {
   "cell_type": "code",
   "execution_count": 59,
   "id": "0f2915b8-8772-45cf-bcfd-d2428408470e",
   "metadata": {},
   "outputs": [
    {
     "name": "stdout",
     "output_type": "stream",
     "text": [
      "7\n",
      "65\n",
      "432\n"
     ]
    }
   ],
   "source": [
    "num=7\n",
    "for i in range(1,4):\n",
    "    for j in range(1,i+1):\n",
    "        print(num,end='')\n",
    "        num-=1\n",
    "    print()\n",
    "    "
   ]
  },
  {
   "cell_type": "code",
   "execution_count": 61,
   "id": "9ddf718e-ffde-4112-8627-f0cc8aaed28f",
   "metadata": {},
   "outputs": [
    {
     "name": "stdout",
     "output_type": "stream",
     "text": [
      "7\n",
      "66\n",
      "555\n",
      "4444\n"
     ]
    }
   ],
   "source": [
    "num=7\n",
    "for i in range(1,5):\n",
    "    for j in range(1,i+1):\n",
    "        print(num,end='')\n",
    "    num-=1\n",
    "    print()"
   ]
  },
  {
   "cell_type": "code",
   "execution_count": 63,
   "id": "9e8c2985-eb9d-4d6b-9287-dd197e43e53f",
   "metadata": {},
   "outputs": [
    {
     "name": "stdout",
     "output_type": "stream",
     "text": [
      "1\n",
      "23\n",
      "456\n",
      "78910\n"
     ]
    }
   ],
   "source": [
    "num=1\n",
    "for i in range(1,5):\n",
    "    for j in range(1,i+1):\n",
    "        print(num,end='')\n",
    "        num+=1\n",
    "    print()"
   ]
  },
  {
   "cell_type": "code",
   "execution_count": 67,
   "id": "35741aab-2a7b-4260-9727-0d196df67acf",
   "metadata": {},
   "outputs": [
    {
     "name": "stdout",
     "output_type": "stream",
     "text": [
      "65\n",
      "6566\n",
      "656667\n",
      "65666768\n"
     ]
    }
   ],
   "source": [
    "for i in range(1,5):\n",
    "    num=65\n",
    "    for j in range(1,i+1):\n",
    "        print(num,end='')\n",
    "        num+=1\n",
    "    print()\n",
    "        "
   ]
  },
  {
   "cell_type": "code",
   "execution_count": 79,
   "id": "6627008a-a059-4c35-b41b-3013ebe6d45b",
   "metadata": {},
   "outputs": [
    {
     "name": "stdout",
     "output_type": "stream",
     "text": [
      "****\n",
      "***\n",
      "**\n",
      "*\n"
     ]
    }
   ],
   "source": [
    "for i in range(1,5):\n",
    "    for j in range(5-i,0,-1):\n",
    "        print(\"*\",end='')\n",
    "    print()"
   ]
  },
  {
   "cell_type": "code",
   "execution_count": 81,
   "id": "33d9be76-d575-48b5-8424-fc328fbe3170",
   "metadata": {},
   "outputs": [
    {
     "name": "stdout",
     "output_type": "stream",
     "text": [
      "1111\n",
      "222\n",
      "33\n",
      "4\n"
     ]
    }
   ],
   "source": [
    "num=1\n",
    "for i in range(1,5):\n",
    "    for j in range(5-i,0,-1):\n",
    "        print(num,end='')\n",
    "    num+=1\n",
    "    print()\n",
    "        \n",
    "        "
   ]
  },
  {
   "cell_type": "code",
   "execution_count": 83,
   "id": "6acc7a87-2e2e-4a33-b278-80b1ec4a3b7b",
   "metadata": {},
   "outputs": [
    {
     "name": "stdout",
     "output_type": "stream",
     "text": [
      "1234\n",
      "123\n",
      "12\n",
      "1\n"
     ]
    }
   ],
   "source": [
    "for i in range(1,5):\n",
    "    num=1\n",
    "    for j in range(5-i,0,-1):\n",
    "        print(num,end='')\n",
    "        num+=1\n",
    "    print()\n",
    "        "
   ]
  },
  {
   "cell_type": "code",
   "execution_count": 85,
   "id": "e73eac25-ac97-49ac-a2a0-dd38fc337df7",
   "metadata": {},
   "outputs": [
    {
     "name": "stdout",
     "output_type": "stream",
     "text": [
      "4321\n",
      "432\n",
      "43\n",
      "4\n"
     ]
    }
   ],
   "source": [
    "for i in range(1,5):\n",
    "    num=4\n",
    "    for j in range(5-i,0,-1):\n",
    "        print(num,end='')\n",
    "        num-=1\n",
    "    print()"
   ]
  },
  {
   "cell_type": "code",
   "execution_count": 87,
   "id": "3665acc0-0fc3-461d-8313-4bb14fd84a48",
   "metadata": {},
   "outputs": [
    {
     "name": "stdout",
     "output_type": "stream",
     "text": [
      "1234\n",
      "567\n",
      "89\n",
      "10\n"
     ]
    }
   ],
   "source": [
    "num=1\n",
    "for i in range(1,5):\n",
    "    for j in range(5-i,0,-1):\n",
    "        print(num,end='')\n",
    "        num+=1\n",
    "    print()"
   ]
  },
  {
   "cell_type": "code",
   "execution_count": 91,
   "id": "5c8a8c20-758e-4e22-bd50-8daf5edbd5f2",
   "metadata": {},
   "outputs": [
    {
     "name": "stdout",
     "output_type": "stream",
     "text": [
      "A\n",
      "AB\n",
      "ABC\n"
     ]
    }
   ],
   "source": [
    "for i in range(1,4):\n",
    "    char=65\n",
    "    for j in range(1,i+1):\n",
    "        print(chr(char),end='')\n",
    "        char+=1\n",
    "    print()"
   ]
  },
  {
   "cell_type": "code",
   "execution_count": 93,
   "id": "fe8a0c46-dd73-4a5c-ace4-be4a0ff0ab93",
   "metadata": {},
   "outputs": [
    {
     "name": "stdout",
     "output_type": "stream",
     "text": [
      "ABCD\n",
      "ABC\n",
      "AB\n",
      "A\n"
     ]
    }
   ],
   "source": [
    "for i in range(1,5):\n",
    "    char=65\n",
    "    for j in range(5-i,0,-1):\n",
    "        print(chr(char),end='')\n",
    "        char+=1\n",
    "    print()"
   ]
  },
  {
   "cell_type": "code",
   "execution_count": 10,
   "id": "0599e939-6f2a-4e42-9edb-321682e591d0",
   "metadata": {},
   "outputs": [
    {
     "name": "stdout",
     "output_type": "stream",
     "text": [
      "---*\n",
      "--**\n",
      "-***\n",
      "****\n"
     ]
    }
   ],
   "source": [
    "for i in range(1,5):\n",
    "    for j in range(1,5-i):\n",
    "        print(\"-\",end='')\n",
    "    for j in range(1,i+1):\n",
    "        print(\"*\",end='')\n",
    "    print()\n"
   ]
  },
  {
   "cell_type": "code",
   "execution_count": 20,
   "id": "5fb26191-9a48-40ab-b3b1-d06885f95f29",
   "metadata": {},
   "outputs": [
    {
     "name": "stdout",
     "output_type": "stream",
     "text": [
      "   *\n",
      "  **\n",
      " ***\n",
      "****\n"
     ]
    }
   ],
   "source": [
    "for i in range(1,5):\n",
    "    for j in range(1,5-i):\n",
    "        print(\" \",end='')\n",
    "    for j in range(1,i+1):\n",
    "        print(\"*\",end='')\n",
    "    print()"
   ]
  },
  {
   "cell_type": "code",
   "execution_count": 32,
   "id": "4b348262-cf08-4219-976f-32d401250f86",
   "metadata": {},
   "outputs": [
    {
     "name": "stdout",
     "output_type": "stream",
     "text": [
      "   * \n",
      "  * * \n",
      " * * * \n",
      "* * * * \n"
     ]
    }
   ],
   "source": [
    "for i in range(1,5):\n",
    "    for j in range(1,5-i):\n",
    "        print(\" \",end='')\n",
    "    for j in range(1,i+1):\n",
    "        print(\"*\",end=' ')\n",
    "    print()"
   ]
  },
  {
   "cell_type": "code",
   "execution_count": 24,
   "id": "ac3f5756-797a-4dfb-b66a-e2efb5f08701",
   "metadata": {},
   "outputs": [
    {
     "name": "stdout",
     "output_type": "stream",
     "text": [
      "****\n",
      "-***\n",
      "--**\n",
      "---*\n"
     ]
    }
   ],
   "source": [
    "for i in range(1,5):\n",
    "    for j in range(1,i):\n",
    "        print(\"-\",end='')\n",
    "    for j in range(1,6-i):\n",
    "        print(\"*\",end='')\n",
    "    print()"
   ]
  },
  {
   "cell_type": "code",
   "execution_count": 30,
   "id": "48fd69be-8a79-49cf-a5ba-96be895ce0e6",
   "metadata": {},
   "outputs": [
    {
     "name": "stdout",
     "output_type": "stream",
     "text": [
      "****\n",
      " ***\n",
      "  **\n",
      "   *\n"
     ]
    }
   ],
   "source": [
    "for i in range(1,5):\n",
    "    for j in range(1,i):\n",
    "        print(\" \",end='')\n",
    "    for j in range(1,6-i):\n",
    "        print(\"*\",end='')\n",
    "    print()"
   ]
  },
  {
   "cell_type": "code",
   "execution_count": 34,
   "id": "4a1c2c4e-b340-4b5c-a7c8-6be6d41ca1d2",
   "metadata": {},
   "outputs": [
    {
     "name": "stdout",
     "output_type": "stream",
     "text": [
      "* * * * \n",
      " * * * \n",
      "  * * \n",
      "   * \n"
     ]
    }
   ],
   "source": [
    "for i in range(1,5):\n",
    "    for j in range(1,i):\n",
    "        print(\" \",end='')\n",
    "    for j in range(1,6-i):\n",
    "        print(\"*\",end=' ')\n",
    "    print()"
   ]
  },
  {
   "cell_type": "code",
   "execution_count": 40,
   "id": "c9a0d2db-7b3d-4672-84fc-09b9d960ad2e",
   "metadata": {},
   "outputs": [
    {
     "name": "stdout",
     "output_type": "stream",
     "text": [
      "*\n",
      "**\n",
      "* *\n",
      "*  *\n",
      "*****\n"
     ]
    }
   ],
   "source": [
    "for i in range(1,6):\n",
    "    for j in range(1,i+1):\n",
    "        if(i==5 or j==1 or i==j):\n",
    "            print(\"*\",end='')\n",
    "        else:\n",
    "            print(\" \",end='')\n",
    "    print()"
   ]
  },
  {
   "cell_type": "code",
   "execution_count": 44,
   "id": "ba624322-1060-43ac-99e0-2969a54f7399",
   "metadata": {},
   "outputs": [
    {
     "name": "stdout",
     "output_type": "stream",
     "text": [
      "*\n",
      "**\n",
      "* *\n",
      "*  *\n",
      "*   *\n",
      "*    *\n",
      "*     *\n",
      "*      *\n",
      "*       *\n",
      "*        *\n",
      "*         *\n",
      "*          *\n",
      "*           *\n",
      "*            *\n",
      "*             *\n",
      "*              *\n",
      "*               *\n",
      "*                *\n",
      "*                 *\n",
      "********************\n"
     ]
    }
   ],
   "source": [
    "num=20\n",
    "for i in range(1,num+1):\n",
    "    for j in range(1,i+1):\n",
    "        if(i==20 or j==1 or i==j):\n",
    "            print(\"*\",end='')\n",
    "        else:\n",
    "            print(\" \",end='')\n",
    "    print()"
   ]
  },
  {
   "cell_type": "code",
   "execution_count": 50,
   "id": "d36f2e89-e3d6-4cc8-bcbf-d8b7ea42833f",
   "metadata": {},
   "outputs": [
    {
     "name": "stdout",
     "output_type": "stream",
     "text": [
      "******\n",
      "*---*\n",
      "*--*\n",
      "*-*\n",
      "**\n",
      "*\n"
     ]
    }
   ],
   "source": [
    "\n",
    "for i in range(1,7):\n",
    "    for j in range(7-i,0,-1):\n",
    "        if(i==1 or j==1 or j==7-i):\n",
    "            print(\"*\",end='')\n",
    "        else:\n",
    "            print(\"-\",end='')\n",
    "    print()"
   ]
  },
  {
   "cell_type": "code",
   "execution_count": 52,
   "id": "632b7a6a-cda7-47c7-996e-ef33475e157e",
   "metadata": {},
   "outputs": [
    {
     "name": "stdout",
     "output_type": "stream",
     "text": [
      "******\n",
      "*   *\n",
      "*  *\n",
      "* *\n",
      "**\n",
      "*\n"
     ]
    }
   ],
   "source": [
    "for i in range(1,7):\n",
    "    for j in range(7-i,0,-1):\n",
    "        if(i==1 or j==1 or j==7-i):\n",
    "            print(\"*\",end='')\n",
    "        else:\n",
    "            print(\" \",end='')\n",
    "    print()"
   ]
  },
  {
   "cell_type": "code",
   "execution_count": 58,
   "id": "b95d7789-f91a-4cbf-90b3-e035506f9892",
   "metadata": {},
   "outputs": [
    {
     "name": "stdout",
     "output_type": "stream",
     "text": [
      "******\n",
      "*   *\n",
      "*  *\n",
      "* *\n",
      "**\n",
      "*\n"
     ]
    }
   ],
   "source": [
    "for i in range(1,7):\n",
    "    for j in range(1,8-i):\n",
    "        if(i==1 or j==1 or j==7-i):\n",
    "            print(\"*\",end='')\n",
    "        else:\n",
    "            print(\" \",end='')\n",
    "    print()"
   ]
  },
  {
   "cell_type": "code",
   "execution_count": 62,
   "id": "9729df55-37a8-418c-878d-dd72dda7c503",
   "metadata": {},
   "outputs": [
    {
     "name": "stdout",
     "output_type": "stream",
     "text": [
      "----*\n",
      "---**\n",
      "--***\n",
      "-****\n",
      "*****\n"
     ]
    }
   ],
   "source": [
    "for i in range(1,6):\n",
    "    for j in range(1,6-i):\n",
    "        print(\"-\",end='')\n",
    "    for j in range(1,i+1):\n",
    "        print(\"*\",end='')\n",
    "    print()"
   ]
  },
  {
   "cell_type": "code",
   "execution_count": 66,
   "id": "15783959-b6dd-460c-a07f-5940fbbfd397",
   "metadata": {},
   "outputs": [
    {
     "name": "stdout",
     "output_type": "stream",
     "text": [
      "----*\n",
      "---**\n",
      "--*?*\n",
      "-*??*\n",
      "*****\n"
     ]
    }
   ],
   "source": [
    "for i in range(1,6):\n",
    "    for j in range(1,6-i):\n",
    "        print(\"-\",end='')\n",
    "    for j in range(1,i+1):\n",
    "        if(i==5 or j==1 or i==j):\n",
    "            print(\"*\",end='')\n",
    "        else:\n",
    "            print(\"?\",end='')\n",
    "        \n",
    "    print()"
   ]
  },
  {
   "cell_type": "code",
   "execution_count": 68,
   "id": "89cdf338-6e4a-4588-ab43-455d1f12cde7",
   "metadata": {},
   "outputs": [
    {
     "name": "stdout",
     "output_type": "stream",
     "text": [
      "    *\n",
      "   **\n",
      "  * *\n",
      " *  *\n",
      "*****\n"
     ]
    }
   ],
   "source": [
    " for i in range(1,6):\n",
    "    for j in range(1,6-i):\n",
    "        print(\" \",end='')\n",
    "    for j in range(1,i+1):\n",
    "        if(i==5 or j==1 or i==j):\n",
    "            print(\"*\",end='')\n",
    "        else:\n",
    "            print(\" \",end='')\n",
    "        \n",
    "    print()"
   ]
  },
  {
   "cell_type": "code",
   "execution_count": 80,
   "id": "6e1f8e53-d9f2-4fbf-88c2-e5ac8e634a56",
   "metadata": {},
   "outputs": [
    {
     "name": "stdout",
     "output_type": "stream",
     "text": [
      "   * \n",
      "  * * \n",
      " * * * \n",
      "* * * * \n"
     ]
    }
   ],
   "source": [
    "for i in range(1,5):\n",
    "    for j in range(1,5-i):\n",
    "        print(\" \",end='')\n",
    "    for j in range(1,i+1):\n",
    "        print(\"*\",end=' ')\n",
    "    print()"
   ]
  },
  {
   "cell_type": "code",
   "execution_count": 84,
   "id": "12164db8-20d7-4ed3-b5db-f3b64a05287c",
   "metadata": {},
   "outputs": [
    {
     "name": "stdout",
     "output_type": "stream",
     "text": [
      "****\n",
      "-***\n",
      "--**\n",
      "---*\n"
     ]
    }
   ],
   "source": [
    "for i in range(1,5):\n",
    "    for j in range(1,i):\n",
    "        print(\"-\",end='')\n",
    "    for j in range(1,6-i):\n",
    "        print(\"*\",end='')\n",
    "    print()"
   ]
  },
  {
   "cell_type": "code",
   "execution_count": 9,
   "id": "792b76d9-c59a-4b58-9e10-8c6a0af953fa",
   "metadata": {},
   "outputs": [
    {
     "name": "stdout",
     "output_type": "stream",
     "text": [
      "* * * * \n",
      " * * * \n",
      "  * * \n",
      "   * \n"
     ]
    }
   ],
   "source": [
    "\n",
    "for i in range(1,5):\n",
    "    for j in range(1,i):\n",
    "        print(\" \",end='')\n",
    "    for j in range(1,6-i):\n",
    "        print(\"*\",end=' ')\n",
    "    print()"
   ]
  },
  {
   "cell_type": "code",
   "execution_count": 13,
   "id": "46462a1a-09f9-4a1a-a2e4-ef971be40262",
   "metadata": {},
   "outputs": [
    {
     "name": "stdout",
     "output_type": "stream",
     "text": [
      "       * \n",
      "      * * \n",
      "     * * * \n",
      "    * * * * \n",
      "   * * * * * \n",
      "  * * * * * * \n",
      " * * * * * * * \n",
      "* * * * * * * * \n"
     ]
    }
   ],
   "source": [
    "num=8\n",
    "for i in range(1,num+1):\n",
    "    for j in range(i,num):\n",
    "        print(\" \",end='')\n",
    "    for j in range(1,i+1):\n",
    "        print(\"*\",end=' ')\n",
    "    print()"
   ]
  },
  {
   "cell_type": "code",
   "execution_count": 21,
   "id": "c2cfc51a-d4be-4f9b-90b4-00dfca7a0763",
   "metadata": {},
   "outputs": [
    {
     "name": "stdout",
     "output_type": "stream",
     "text": [
      "* * * * * * * \n",
      " * * * * * * \n",
      "  * * * * * \n",
      "   * * * * \n",
      "    * * * \n",
      "     * * \n",
      "      * \n"
     ]
    }
   ],
   "source": [
    "num=7\n",
    "for i in range(1,num+1):\n",
    "    for j in range(1,i):\n",
    "        print(\" \",end='')\n",
    "    for j in range(1,9-i):\n",
    "        print(\"*\",end=' ')\n",
    "    print()"
   ]
  },
  {
   "cell_type": "code",
   "execution_count": 29,
   "id": "1080757e-0ee1-4831-8487-bde8923ddb76",
   "metadata": {},
   "outputs": [
    {
     "name": "stdout",
     "output_type": "stream",
     "text": [
      "--* \n",
      "-* * \n",
      "* * * \n"
     ]
    }
   ],
   "source": [
    "num=3\n",
    "for i in range(1,num+1):\n",
    "    for j in range(1,4-i):\n",
    "        print(\"-\",end='')\n",
    "    for j in range(1,i+1):\n",
    "        print(\"*\",end=' ')\n",
    "    print()\n",
    "    "
   ]
  },
  {
   "cell_type": "code",
   "execution_count": 31,
   "id": "21ad4a7c-3208-4ae5-9be1-6c34bf701f6e",
   "metadata": {},
   "outputs": [
    {
     "name": "stdout",
     "output_type": "stream",
     "text": [
      "  * \n",
      " * * \n",
      "* * * \n"
     ]
    }
   ],
   "source": [
    "num=3\n",
    "for i in range(1,num+1):\n",
    "    for j in range(1,4-i):\n",
    "        print(\" \",end='')\n",
    "    for j in range(1,i+1):\n",
    "        print(\"*\",end=' ')\n",
    "    print()"
   ]
  },
  {
   "cell_type": "code",
   "execution_count": 45,
   "id": "9640f2c5-d4f0-459e-83ae-3071b3381f0f",
   "metadata": {},
   "outputs": [
    {
     "name": "stdout",
     "output_type": "stream",
     "text": [
      "1 2 3 4 \n",
      " 1 2 3 \n",
      "  1 2 \n",
      "   1 \n"
     ]
    }
   ],
   "source": [
    "for i in range(1,5):\n",
    "    for j in range(1,i):\n",
    "        print(\" \",end='')\n",
    "    num=1\n",
    "    for j in range(1,6-i):\n",
    "        print(num,end=' ')\n",
    "        num+=1\n",
    "    print()"
   ]
  },
  {
   "cell_type": "code",
   "execution_count": 57,
   "id": "d322824c-5e73-4366-8ef3-1f099d190444",
   "metadata": {},
   "outputs": [
    {
     "name": "stdout",
     "output_type": "stream",
     "text": [
      "  A \n",
      " A B \n",
      "A B C \n"
     ]
    }
   ],
   "source": [
    "for i in range(1,4):\n",
    "    for j in range(1,4-i):\n",
    "        print(\" \",end='')\n",
    "    num=65\n",
    "    for j in range(1,i+1):\n",
    "        print(chr(num),end=' ')\n",
    "        num+=1\n",
    "    print()"
   ]
  },
  {
   "cell_type": "code",
   "execution_count": 61,
   "id": "e7e4905a-06a3-4140-923a-f75909252602",
   "metadata": {},
   "outputs": [
    {
     "name": "stdout",
     "output_type": "stream",
     "text": [
      "*\n",
      "**\n",
      "***\n",
      "****\n",
      "***\n",
      "**\n",
      "*\n"
     ]
    }
   ],
   "source": [
    "for i in range(1,5):\n",
    "    for j in range(1,i+1):\n",
    "        print(\"*\",end='')\n",
    "    print()\n",
    "for i in range(1,4):\n",
    "    for j in range(1,5-i):\n",
    "        print(\"*\",end='')\n",
    "    print()"
   ]
  },
  {
   "cell_type": "code",
   "execution_count": 77,
   "id": "bc295cf8-c56d-4dc6-a9f1-e1b41242c686",
   "metadata": {},
   "outputs": [
    {
     "name": "stdout",
     "output_type": "stream",
     "text": [
      "*****\n",
      "-****\n",
      "--***\n",
      "---**\n",
      "----*\n",
      "---**\n",
      "--***\n",
      "-****\n",
      "*****\n"
     ]
    }
   ],
   "source": [
    "for i in range(1,5):\n",
    "    for j in range(1,i):\n",
    "        print(\"-\",end='')\n",
    "    for j in range(1,7-i):\n",
    "        print(\"*\",end='')\n",
    "    print()\n",
    "for i in range(1,6):\n",
    "    for j in range(1,6-i):\n",
    "        print(\"-\",end='')\n",
    "    for j in range(1,i+1):\n",
    "        print(\"*\",end='')\n",
    "    print()"
   ]
  },
  {
   "cell_type": "code",
   "execution_count": 83,
   "id": "686e4275-1c1e-4daa-92ad-c08a1d85e2cc",
   "metadata": {},
   "outputs": [
    {
     "name": "stdout",
     "output_type": "stream",
     "text": [
      "*****\n",
      " ****\n",
      "  ***\n",
      "   **\n",
      "    *\n",
      "   **\n",
      "  ***\n",
      " ****\n",
      "*****\n"
     ]
    }
   ],
   "source": [
    "for i in range(1,5):\n",
    "    for j in range(1,i):\n",
    "        print(\" \",end='')\n",
    "    for j in range(1,7-i):\n",
    "        print(\"*\",end='')\n",
    "    print()\n",
    "for i in range(1,6):\n",
    "    for j in range(1,6-i):\n",
    "        print(\" \",end='')\n",
    "    for j in range(1,i+1):\n",
    "        print(\"*\",end='')\n",
    "    print()"
   ]
  },
  {
   "cell_type": "code",
   "execution_count": 85,
   "id": "03f55e04-4520-4223-b5f0-d24438bcaa51",
   "metadata": {},
   "outputs": [
    {
     "name": "stdout",
     "output_type": "stream",
     "text": [
      "****\n",
      "-****\n",
      "--****\n",
      "---****\n"
     ]
    }
   ],
   "source": [
    "for i in range(1,5):\n",
    "    for j in range(1,i):\n",
    "        print(\"-\",end='')\n",
    "    for j in range(1,5):\n",
    "        print(\"*\",end='')\n",
    "    print()"
   ]
  },
  {
   "cell_type": "code",
   "execution_count": 87,
   "id": "cf9392ca-3dbc-43c0-8f50-6db0dd4894a8",
   "metadata": {},
   "outputs": [
    {
     "name": "stdout",
     "output_type": "stream",
     "text": [
      "****\n",
      " ****\n",
      "  ****\n",
      "   ****\n"
     ]
    }
   ],
   "source": [
    "for i in range(1,5):\n",
    "    for j in range(1,i):\n",
    "        print(\" \",end='')\n",
    "    for j in range(1,5):\n",
    "        print(\"*\",end='')\n",
    "    print()"
   ]
  },
  {
   "cell_type": "code",
   "execution_count": 3,
   "id": "e01a23e7-e196-408d-a55e-f3ded77c19a7",
   "metadata": {},
   "outputs": [
    {
     "name": "stdout",
     "output_type": "stream",
     "text": [
      "******\n",
      "*    *\n",
      "*    *\n",
      "******\n"
     ]
    }
   ],
   "source": [
    "for i in range(1,5):\n",
    "    for j in range(1,7):\n",
    "        if(i==1 or i==4 or j==1 or j==6):\n",
    "            print(\"*\",end='')\n",
    "        else:\n",
    "            print(\" \",end='')\n",
    "    print()"
   ]
  },
  {
   "cell_type": "code",
   "execution_count": 7,
   "id": "aab3f1bc-655d-4da5-ba56-a6b085adfb30",
   "metadata": {},
   "outputs": [
    {
     "name": "stdout",
     "output_type": "stream",
     "text": [
      "A\n",
      "AB\n",
      "ABC\n",
      "ABCD\n",
      "ABCDE\n"
     ]
    }
   ],
   "source": [
    "for i in range(1,6):\n",
    "    num=65\n",
    "    for j in range(1,i+1):\n",
    "        print(chr(num),end='')\n",
    "        num+=1\n",
    "    print()"
   ]
  },
  {
   "cell_type": "code",
   "execution_count": 11,
   "id": "eeaeb808-265c-4475-9cd9-5badbb78375c",
   "metadata": {},
   "outputs": [
    {
     "name": "stdout",
     "output_type": "stream",
     "text": [
      "A\n",
      "BB\n",
      "CCC\n",
      "DDDD\n",
      "EEEEE\n"
     ]
    }
   ],
   "source": [
    "num=65\n",
    "for i in range(1,6):\n",
    "    for j in range(1,i+1):\n",
    "        print(chr(num),end='')\n",
    "    num+=1\n",
    "    print()"
   ]
  },
  {
   "cell_type": "code",
   "execution_count": 35,
   "id": "aa44e1df-f225-4ee0-9a60-1ff0e8b93612",
   "metadata": {},
   "outputs": [
    {
     "name": "stdout",
     "output_type": "stream",
     "text": [
      "E\n",
      "DE\n",
      "CDE\n",
      "BCDE\n",
      "ABCDE\n"
     ]
    }
   ],
   "source": [
    "for i in range(1,6):\n",
    "    num=70-i\n",
    "    for j in range(1,i+1):\n",
    "        print(chr(num),end='')\n",
    "        num+=1\n",
    "    print()"
   ]
  },
  {
   "cell_type": "code",
   "execution_count": 171,
   "id": "9f0d823f-f2af-492b-9141-7553592f8044",
   "metadata": {},
   "outputs": [
    {
     "name": "stdout",
     "output_type": "stream",
     "text": [
      "----*\n",
      "---**\n",
      "--***\n",
      "-****\n",
      "*****\n"
     ]
    }
   ],
   "source": [
    "for i in range(1,6):\n",
    "    for j in range(1,6-i):\n",
    "        print(\"-\",end='')\n",
    "    for j in range(1,i+1):\n",
    "        print(\"*\",end='')\n",
    "    print()"
   ]
  },
  {
   "cell_type": "code",
   "execution_count": 39,
   "id": "4b5a18ee-8589-4245-a8ae-1085a19419bc",
   "metadata": {},
   "outputs": [
    {
     "name": "stdout",
     "output_type": "stream",
     "text": [
      "----1\n",
      "---12\n",
      "--123\n",
      "-1234\n",
      "12345\n"
     ]
    }
   ],
   "source": [
    "for i in range(1,6):\n",
    "    for j in range(1,6-i):\n",
    "        print(\"-\",end='')\n",
    "    num=1\n",
    "    for j in range(1,i+1):\n",
    "        print(num,end='')\n",
    "        num+=1\n",
    "    print()"
   ]
  },
  {
   "cell_type": "code",
   "execution_count": 45,
   "id": "1a7e320f-cbcf-48e3-9f68-59d6bd542123",
   "metadata": {},
   "outputs": [
    {
     "name": "stdout",
     "output_type": "stream",
     "text": [
      "12345\n",
      "-1234\n",
      "--123\n",
      "---12\n",
      "----1\n"
     ]
    }
   ],
   "source": [
    "for i in range(1,6):\n",
    "    for j in range(1,i):\n",
    "        print(\"-\",end='')\n",
    "    num=1\n",
    "    for j in range(1,7-i):\n",
    "        print(num,end='')\n",
    "        num+=1\n",
    "    print()"
   ]
  },
  {
   "cell_type": "code",
   "execution_count": 49,
   "id": "3a66b5bc-6f45-47de-b135-2e6ed525c642",
   "metadata": {},
   "outputs": [
    {
     "name": "stdout",
     "output_type": "stream",
     "text": [
      "ABCDE\n",
      "-ABCD\n",
      "--ABC\n",
      "---AB\n",
      "----A\n"
     ]
    }
   ],
   "source": [
    "for i in range(1,6):\n",
    "    for j in range(1,i):\n",
    "        print(\"-\",end='')\n",
    "    num=65\n",
    "    for j in range(1,7-i):\n",
    "        print(chr(num),end='')\n",
    "        num+=1\n",
    "    print()"
   ]
  },
  {
   "cell_type": "code",
   "execution_count": 53,
   "id": "f131cc0d-0c02-4277-81aa-bbfbe2200a9b",
   "metadata": {},
   "outputs": [
    {
     "name": "stdout",
     "output_type": "stream",
     "text": [
      "----* * * * * \n",
      "---* * * * * \n",
      "--* * * * * \n",
      "-* * * * * \n",
      "* * * * * \n"
     ]
    }
   ],
   "source": [
    "for i in range(1,6):\n",
    "    for j in range(1,6-i):\n",
    "        print(\"-\",end='')\n",
    "    for j in range(1,6):\n",
    "        print(\"*\",end=' ')\n",
    "    print()"
   ]
  },
  {
   "cell_type": "code",
   "execution_count": 57,
   "id": "f7e71c6c-dea5-44a4-9431-14aafec19a80",
   "metadata": {},
   "outputs": [
    {
     "name": "stdout",
     "output_type": "stream",
     "text": [
      "----1 2 3 4 5 \n",
      "---1 2 3 4 5 \n",
      "--1 2 3 4 5 \n",
      "-1 2 3 4 5 \n",
      "1 2 3 4 5 \n"
     ]
    }
   ],
   "source": [
    "for i in range(1,6):\n",
    "    for j in range(1,6-i):\n",
    "        print(\"-\",end='')\n",
    "    num=1\n",
    "    for j in range(1,6):\n",
    "        print(num,end=' ')\n",
    "        num+=1\n",
    "    print()"
   ]
  },
  {
   "cell_type": "code",
   "execution_count": 59,
   "id": "d26afc63-7aad-4378-a02d-73b7a083b785",
   "metadata": {},
   "outputs": [
    {
     "name": "stdout",
     "output_type": "stream",
     "text": [
      "----A B C D E \n",
      "---A B C D E \n",
      "--A B C D E \n",
      "-A B C D E \n",
      "A B C D E \n"
     ]
    }
   ],
   "source": [
    "for i in range(1,6):\n",
    "    for j in range(1,6-i):\n",
    "        print(\"-\",end='')\n",
    "    num=65\n",
    "    for j in range(1,6):\n",
    "        print(chr(num),end=' ')\n",
    "        num+=1\n",
    "    print()"
   ]
  },
  {
   "cell_type": "code",
   "execution_count": 67,
   "id": "d9f3a548-dbf9-44b5-b16d-c8917acb4c05",
   "metadata": {},
   "outputs": [
    {
     "name": "stdout",
     "output_type": "stream",
     "text": [
      "   *   \n",
      "  ***  \n",
      " ***** \n",
      "*******\n"
     ]
    }
   ],
   "source": [
    "for i in range(1,5):\n",
    "    for j in range(1,8):\n",
    "        if(j>=5-i and j<=i+3):\n",
    "            print(\"*\",end='')\n",
    "        else:\n",
    "            print(\" \",end='')\n",
    "    print()"
   ]
  },
  {
   "cell_type": "code",
   "execution_count": 75,
   "id": "e2a19f4a-6742-421c-aa54-80cf8690b0f2",
   "metadata": {},
   "outputs": [
    {
     "name": "stdout",
     "output_type": "stream",
     "text": [
      "---*\n",
      "--***\n",
      "-*****\n",
      "*******\n"
     ]
    }
   ],
   "source": [
    "for i in range(1,5):\n",
    "    for j in range(1,5-i):\n",
    "        print(\"-\",end='')\n",
    "    for j in range(1,2*i):\n",
    "        print(\"*\",end='')\n",
    "    print()"
   ]
  },
  {
   "cell_type": "code",
   "execution_count": 81,
   "id": "6f16da5b-68af-48c0-a312-975d4d20cf6e",
   "metadata": {},
   "outputs": [
    {
     "name": "stdout",
     "output_type": "stream",
     "text": [
      "*******\n",
      "-*****\n",
      "--***\n",
      "---*\n"
     ]
    }
   ],
   "source": [
    "x=7\n",
    "for i in range(1,5):\n",
    "    for j in range(1,i):\n",
    "        print(\"-\",end='')\n",
    "    for j in range(1,x+1):\n",
    "        print(\"*\",end='')\n",
    "    x-=2\n",
    "    print()"
   ]
  },
  {
   "cell_type": "code",
   "execution_count": 87,
   "id": "e8cb5f0c-066f-484b-a756-84986846eb3f",
   "metadata": {},
   "outputs": [
    {
     "name": "stdout",
     "output_type": "stream",
     "text": [
      "*******\n",
      "-*****\n",
      "--***\n",
      "---*\n"
     ]
    }
   ],
   "source": [
    "for i in range(4,0,-1):\n",
    "    for j in range(1,5-i):\n",
    "        print(\"-\",end='')\n",
    "    for j in range(1,2*i):\n",
    "        print(\"*\",end='')\n",
    "    print()"
   ]
  },
  {
   "cell_type": "code",
   "execution_count": 83,
   "id": "f304308b-a3a1-4b2e-998e-c91475d40b1b",
   "metadata": {},
   "outputs": [
    {
     "name": "stdout",
     "output_type": "stream",
     "text": [
      "---*\n",
      "--* *\n",
      "-*   *\n",
      "*******\n"
     ]
    }
   ],
   "source": [
    "for i in range(1,5):\n",
    "    for j in range(1,5-i):\n",
    "        print(\"-\",end='')\n",
    "    for j in range(1,2*i):\n",
    "        if(i==4 or j==1 or j==2*i-1):\n",
    "            print(\"*\",end='')\n",
    "        else:\n",
    "            print(\" \",end='')\n",
    "    print()"
   ]
  },
  {
   "cell_type": "code",
   "execution_count": 85,
   "id": "65a3f000-f7c0-428e-ae64-1fff661861a3",
   "metadata": {},
   "outputs": [
    {
     "name": "stdout",
     "output_type": "stream",
     "text": [
      "*******\n",
      "-*   *\n",
      "--* *\n",
      "---*\n"
     ]
    }
   ],
   "source": [
    "for i in range(4,0,-1):\n",
    "    for j in range(1,5-i):\n",
    "        print(\"-\",end='')\n",
    "    for j in range(1,2*i):\n",
    "        if(i==4 or j==1 or j==2*i-1):\n",
    "            print(\"*\",end='')\n",
    "        else:\n",
    "            print(\" \",end='')\n",
    "    print()"
   ]
  },
  {
   "cell_type": "code",
   "execution_count": 91,
   "id": "dc837c7f-b247-4ac3-ad6e-aae0b0945a97",
   "metadata": {},
   "outputs": [
    {
     "name": "stdout",
     "output_type": "stream",
     "text": [
      "*\n",
      "**\n",
      "***\n",
      "****\n",
      "***\n",
      "**\n",
      "*\n"
     ]
    }
   ],
   "source": [
    "for i in range(1,5):\n",
    "    for j in range(1,i+1):\n",
    "        print(\"*\",end='')\n",
    "    print()\n",
    "for i in range(1,4):\n",
    "    for j in range(1,5-i):\n",
    "        print(\"*\",end='')\n",
    "    print()"
   ]
  },
  {
   "cell_type": "code",
   "execution_count": 99,
   "id": "99a620e5-b94e-4027-917d-bae18b931dbc",
   "metadata": {},
   "outputs": [
    {
     "name": "stdout",
     "output_type": "stream",
     "text": [
      "---*\n",
      "--**\n",
      "-***\n",
      "****\n",
      "-***\n",
      "--**\n",
      "---*\n"
     ]
    }
   ],
   "source": [
    "for i in range(1,5):\n",
    "    for j in range(1,5-i):\n",
    "        print(\"-\",end='')\n",
    "    for j in range(1,i+1):\n",
    "        print(\"*\",end='')\n",
    "    print()\n",
    "for i in range(1,4):\n",
    "    for j in range(1,i+1):\n",
    "        print(\"-\",end='')\n",
    "    for j in range(1,5-i):\n",
    "        print(\"*\",end='')\n",
    "    print()"
   ]
  },
  {
   "cell_type": "code",
   "execution_count": 121,
   "id": "b9b20ec4-83ed-4150-9219-a26246a35543",
   "metadata": {},
   "outputs": [
    {
     "name": "stdout",
     "output_type": "stream",
     "text": [
      "---*\n",
      "--***\n",
      "-*****\n",
      "*******\n",
      "-*****\n",
      "--***\n",
      "---*\n"
     ]
    }
   ],
   "source": [
    "for i in range(1,5):\n",
    "    for j in range(1,5-i):\n",
    "        print(\"-\",end='')\n",
    "    for j in range(1,2*i):\n",
    "        print(\"*\",end='')\n",
    "    print()\n",
    "for i in range(3,0,-1):\n",
    "    for j in range(1,5-i):\n",
    "        print(\"-\",end='')\n",
    "    for j in range(1,2*i):\n",
    "        print(\"*\",end='')\n",
    "    print()"
   ]
  },
  {
   "cell_type": "code",
   "execution_count": 127,
   "id": "4689642c-7290-4168-a54b-e4b153a92d50",
   "metadata": {},
   "outputs": [
    {
     "name": "stdout",
     "output_type": "stream",
     "text": [
      "1 \n",
      "1 2 \n",
      "1 2 3 \n",
      "1 2 3 4 \n",
      "1 2 3 4 5 \n"
     ]
    }
   ],
   "source": [
    "for i in range(1,6):\n",
    "    num=1\n",
    "    for j in range(1,i+1):\n",
    "        print(num,end=' ')\n",
    "        num+=1\n",
    "    print()"
   ]
  },
  {
   "cell_type": "code",
   "execution_count": 129,
   "id": "4b257cfc-ccff-45f2-8202-60b206031919",
   "metadata": {},
   "outputs": [
    {
     "name": "stdout",
     "output_type": "stream",
     "text": [
      "1 2 3 4 5 \n",
      "1 2 3 4 \n",
      "1 2 3 \n",
      "1 2 \n",
      "1 \n"
     ]
    }
   ],
   "source": [
    "for i in range(1,6):\n",
    "    num=1\n",
    "    for j in range(1,7-i):\n",
    "        print(num,end=' ')\n",
    "        num+=1\n",
    "    print()"
   ]
  },
  {
   "cell_type": "code",
   "execution_count": 147,
   "id": "8205dec0-1e57-4812-86dd-74b932a122ba",
   "metadata": {},
   "outputs": [
    {
     "name": "stdout",
     "output_type": "stream",
     "text": [
      "1 \n",
      "1 2 \n",
      "1   3 \n",
      "1     4 \n",
      "1 2 3 4 5 \n"
     ]
    }
   ],
   "source": [
    "for i in range(1,6):\n",
    "    num=1\n",
    "    for j in range(1,i+1):\n",
    "        if(i==5 or j==1 or j==i):\n",
    "            print(num,end=' ')\n",
    "        else:\n",
    "            print(' ',end=' ')\n",
    "        num+=1\n",
    "    print()\n",
    "        "
   ]
  },
  {
   "cell_type": "code",
   "execution_count": 19,
   "id": "400e4864-50fd-49b5-b4d9-bdc9bb11408f",
   "metadata": {},
   "outputs": [
    {
     "name": "stdout",
     "output_type": "stream",
     "text": [
      "----1 \n",
      "---1 2 \n",
      "--1   3 \n",
      "-1     4 \n",
      "1 2 3 4 5 \n"
     ]
    }
   ],
   "source": [
    "for i in range(1,6):\n",
    "    for j in range(1,6-i):\n",
    "        print(\"-\",end='')\n",
    "    num=1\n",
    "    for j in range(1,i+1):\n",
    "        if(i==5 or j==1 or i==j):\n",
    "            print(num,end=' ')\n",
    "        else:\n",
    "            print(\" \",end=' ')\n",
    "        num+=1\n",
    "    print()"
   ]
  },
  {
   "cell_type": "code",
   "execution_count": 29,
   "id": "7e06fecd-2326-4195-80cd-ea4638932f19",
   "metadata": {},
   "outputs": [
    {
     "name": "stdout",
     "output_type": "stream",
     "text": [
      "12345\n",
      "2  5\n",
      "3 5\n",
      "45\n",
      "5\n"
     ]
    }
   ],
   "source": [
    "\n",
    "for i in range(1,6):\n",
    "    num=i\n",
    "    for j in range(1,7-i):\n",
    "        if(i==1 or j==1 or j==6-i):\n",
    "            print(num,end='')\n",
    "        else:\n",
    "            print(\" \",end='')\n",
    "        num+=1\n",
    "    print()"
   ]
  },
  {
   "cell_type": "code",
   "execution_count": 41,
   "id": "6bcb22de-b3eb-48b5-bd62-7364880d3279",
   "metadata": {},
   "outputs": [
    {
     "name": "stdout",
     "output_type": "stream",
     "text": [
      "----*\n",
      "---***\n",
      "--*****\n",
      "-*******\n",
      "*********\n",
      "-*******\n",
      "--*****\n",
      "---***\n",
      "----*\n"
     ]
    }
   ],
   "source": [
    "for i in range(1,6):\n",
    "    for j in range(1,6-i):\n",
    "        print(\"-\",end='')\n",
    "    for j in range(1,2*i):\n",
    "        print(\"*\",end='')\n",
    "    print()\n",
    "for i in range(4,0,-1):\n",
    "    for j in range(1,6-i):\n",
    "        print(\"-\",end='')\n",
    "    for j in range(1,2*i):\n",
    "        print(\"*\",end='')\n",
    "    print()\n"
   ]
  },
  {
   "cell_type": "code",
   "execution_count": 47,
   "id": "2f03f5f6-1954-400b-9506-6dbae05f7b9c",
   "metadata": {},
   "outputs": [
    {
     "name": "stdout",
     "output_type": "stream",
     "text": [
      "----1\n",
      "---123\n",
      "--12345\n",
      "-1234567\n",
      "123456789\n",
      "-1234567\n",
      "--12345\n",
      "---123\n",
      "----1\n"
     ]
    }
   ],
   "source": [
    "for i in range(1,6):\n",
    "    \n",
    "    for j in range(1,6-i):\n",
    "        print(\"-\",end='')\n",
    "    num=1\n",
    "    for j in range(1,2*i):\n",
    "        print(num,end='')\n",
    "        num+=1\n",
    "    print()\n",
    "for i in range(4,0,-1):\n",
    "    for j in range(1,6-i):\n",
    "        print(\"-\",end='')\n",
    "    num=1\n",
    "    for j in range(1,2*i):\n",
    "        print(num,end='')\n",
    "        num+=1\n",
    "    print()"
   ]
  },
  {
   "cell_type": "code",
   "execution_count": 65,
   "id": "e7e649f8-162c-4435-85b2-23b6faeab4f0",
   "metadata": {},
   "outputs": [
    {
     "name": "stdout",
     "output_type": "stream",
     "text": [
      "*********\n",
      "-*******\n",
      "--*****\n",
      "---***\n",
      "----*\n",
      "---***\n",
      "--*****\n",
      "-*******\n",
      "*********\n"
     ]
    }
   ],
   "source": [
    "for i in range(5,1,-1):\n",
    "    for j in range(1,6-i):\n",
    "        print(\"-\",end='')\n",
    "    for j in range(1,2*i):\n",
    "        print(\"*\",end='')\n",
    "    print()\n",
    "for i in range(1,6):\n",
    "    for j in range(1,6-i):\n",
    "        print(\"-\",end='')\n",
    "    for j in range(1,2*i):\n",
    "        print(\"*\",end='')\n",
    "    print()"
   ]
  },
  {
   "cell_type": "code",
   "execution_count": 69,
   "id": "7ad6918d-15c5-4c5f-9eb1-4b596c810df2",
   "metadata": {},
   "outputs": [
    {
     "name": "stdout",
     "output_type": "stream",
     "text": [
      "123456789\n",
      "-1234567\n",
      "--12345\n",
      "---123\n",
      "----1\n",
      "---123\n",
      "--12345\n",
      "-1234567\n",
      "123456789\n"
     ]
    }
   ],
   "source": [
    "for i in range(5,1,-1):\n",
    "    for j in range(1,6-i):\n",
    "        print(\"-\",end='')\n",
    "    num=1\n",
    "    for j in range(1,2*i):\n",
    "        print(num,end='')\n",
    "        num+=1\n",
    "    print()\n",
    "for i in range(1,6):\n",
    "    for j in range(1,6-i):\n",
    "        print(\"-\",end='')\n",
    "    num=1\n",
    "    for j in range(1,2*i):\n",
    "        print(num,end='')\n",
    "        num+=1\n",
    "    print()"
   ]
  },
  {
   "cell_type": "code",
   "execution_count": 73,
   "id": "0bac0098-a815-44f6-831c-6e9a532411dd",
   "metadata": {},
   "outputs": [
    {
     "name": "stdout",
     "output_type": "stream",
     "text": [
      "ABCDEFGHI\n",
      "-ABCDEFG\n",
      "--ABCDE\n",
      "---ABC\n",
      "----A\n",
      "---ABC\n",
      "--ABCDE\n",
      "-ABCDEFG\n",
      "ABCDEFGHI\n"
     ]
    }
   ],
   "source": [
    "for i in range(5,1,-1):\n",
    "    for j in range(1,6-i):\n",
    "        print(\"-\",end='')\n",
    "    num=65\n",
    "    for j in range(1,2*i):\n",
    "        print(chr(num),end='')\n",
    "        num+=1\n",
    "    print()\n",
    "for i in range(1,6):\n",
    "    for j in range(1,6-i):\n",
    "        print(\"-\",end='')\n",
    "    num=65\n",
    "    for j in range(1,2*i):\n",
    "        print(chr(num),end='')\n",
    "        num+=1\n",
    "    print()"
   ]
  },
  {
   "cell_type": "code",
   "execution_count": 89,
   "id": "e21ec2fa-fd9d-401d-a312-e83e80782748",
   "metadata": {},
   "outputs": [
    {
     "name": "stdout",
     "output_type": "stream",
     "text": [
      "*****\n",
      "*   *\n",
      "*   *\n",
      "*   *\n",
      "*****\n"
     ]
    }
   ],
   "source": [
    "for i in range(1,6):\n",
    "    for j in range(1,6):\n",
    "        if(i==1 or j==1 or i==5 or j==5):\n",
    "            print(\"*\",end='')\n",
    "        else:\n",
    "            print(\" \",end='')\n",
    "    print()"
   ]
  },
  {
   "cell_type": "code",
   "execution_count": 87,
   "id": "7462e4d4-1c10-4f5b-81b0-82c5eda8ae33",
   "metadata": {},
   "outputs": [
    {
     "name": "stdout",
     "output_type": "stream",
     "text": [
      "12345\n",
      "1   5\n",
      "1   5\n",
      "1   5\n",
      "12345\n"
     ]
    }
   ],
   "source": [
    "for i in range(1,6):\n",
    "    num=1\n",
    "    for j in range(1,6):\n",
    "        if(i==1 or j==1 or i==5 or j==5):\n",
    "            print(num,end='')\n",
    "        else:\n",
    "            print(\" \",end='')\n",
    "        num+=1\n",
    "    print()"
   ]
  },
  {
   "cell_type": "code",
   "execution_count": 91,
   "id": "6516ab81-f509-4479-ae2e-3dd0ef404979",
   "metadata": {},
   "outputs": [
    {
     "name": "stdout",
     "output_type": "stream",
     "text": [
      "ABCDE\n",
      "A   E\n",
      "A   E\n",
      "A   E\n",
      "ABCDE\n"
     ]
    }
   ],
   "source": [
    "for i in range(1,6):\n",
    "    num=65\n",
    "    for j in range(1,6):\n",
    "        if(i==1 or j==1 or i==5 or j==5):\n",
    "            print(chr(num),end='')\n",
    "        else:\n",
    "            print(\" \",end='')\n",
    "        num+=1\n",
    "    print()"
   ]
  },
  {
   "cell_type": "code",
   "execution_count": 113,
   "id": "62f048f1-4fee-4895-9bc6-0d35bede4f42",
   "metadata": {},
   "outputs": [
    {
     "name": "stdout",
     "output_type": "stream",
     "text": [
      "    * \n",
      "   * *   \n",
      "  *   *     \n",
      " *     *       \n",
      "*       *         \n",
      " *     *       \n",
      "  *   *     \n",
      "   * *   \n",
      "    * \n"
     ]
    }
   ],
   "source": [
    "for i in range(1,6):\n",
    "    for j in range(1,6-i):\n",
    "        print(\" \",end='')\n",
    "    for j in range(1,2*i):\n",
    "        if(j==i or j==1 ):\n",
    "            print(\"*\",end=' ')\n",
    "        else:\n",
    "            print(\" \",end=' ')\n",
    "    print()\n",
    "\n",
    "for i in range(4,0,-1):\n",
    "    for j in range(1,6-i):\n",
    "        print(\" \",end='')\n",
    "    for j in range(1,2*i):\n",
    "        if(j==i or j==1 ):\n",
    "            print(\"*\",end=' ')\n",
    "        else:\n",
    "            print(\" \",end=' ')\n",
    "    print()"
   ]
  },
  {
   "cell_type": "code",
   "execution_count": 15,
   "id": "f98aa803-d459-4a27-9077-c9c8e5f993d4",
   "metadata": {},
   "outputs": [
    {
     "name": "stdout",
     "output_type": "stream",
     "text": [
      "    A \n",
      "   A B \n",
      "  A   C \n",
      " A     D \n",
      "A       E \n",
      " A     D \n",
      "  A   C \n",
      "   A B \n",
      "    A \n"
     ]
    }
   ],
   "source": [
    "for i in range(1,6):\n",
    "    for j in range(1,6-i):\n",
    "        print(\" \",end='')\n",
    "    num=65\n",
    "    for j in range(1,i+1):\n",
    "        if(j==i or j==1):\n",
    "            print(chr(num),end=' ')\n",
    "        else:\n",
    "            print(\" \",end=' ')\n",
    "        num+=1\n",
    "    print()\n",
    "\n",
    "for i in range(4,0,-1):\n",
    "    for j in range(1,6-i):\n",
    "        print(\" \",end='')\n",
    "    num=65\n",
    "    for j in range(1,i+1):\n",
    "        if(j==i or j==1):\n",
    "            print(chr(num),end=' ')\n",
    "        else:\n",
    "            print(\" \",end=' ')\n",
    "        num+=1\n",
    "    print()"
   ]
  },
  {
   "cell_type": "code",
   "execution_count": 33,
   "id": "afa96d3c-bbe6-4931-aa8d-063982018350",
   "metadata": {},
   "outputs": [
    {
     "name": "stdout",
     "output_type": "stream",
     "text": [
      "----*\n",
      "---* *\n",
      "--*   *\n",
      "-*     *\n",
      "*       *\n",
      "-*     *\n",
      "--*   *\n",
      "---* *\n",
      "----*\n"
     ]
    }
   ],
   "source": [
    "for i in range(1,6):\n",
    "    for j in range(1,6-i):\n",
    "        print(\"-\",end='')\n",
    "    for j in range(1,2*i):\n",
    "        if(j==1 or j==2*i-1):\n",
    "            print(\"*\",end='')\n",
    "        else:\n",
    "            print(\" \",end='')\n",
    "    print()\n",
    "for i in range(4,0,-1):\n",
    "    for j in range(1,6-i):\n",
    "        print(\"-\",end='')\n",
    "    for j in range(1,2*i):\n",
    "        if(j==1 or j==2*i-1):\n",
    "            print(\"*\",end='')\n",
    "        else:\n",
    "            print(\" \",end='')\n",
    "    print()"
   ]
  },
  {
   "cell_type": "code",
   "execution_count": 39,
   "id": "982e7504-1a76-4e3a-a272-45a7eb62f5f7",
   "metadata": {},
   "outputs": [
    {
     "name": "stdout",
     "output_type": "stream",
     "text": [
      "----A\n",
      "---A C\n",
      "--A   E\n",
      "-A     G\n",
      "A       I\n",
      "-A     G\n",
      "--A   E\n",
      "---A C\n",
      "----A\n"
     ]
    }
   ],
   "source": [
    "for i in range(1,6):\n",
    "    for j in range(1,6-i):\n",
    "        print(\"-\",end='')\n",
    "    num=65\n",
    "    for j in range(1,2*i):\n",
    "        if(j==1 or j==2*i-1):\n",
    "            print(chr(num),end='')\n",
    "        else:\n",
    "            print(\" \",end='')\n",
    "        num+=1\n",
    "    print()\n",
    "for i in range(4,0,-1):\n",
    "    for j in range(1,6-i):\n",
    "        print(\"-\",end='')\n",
    "    num=65\n",
    "    for j in range(1,2*i):\n",
    "        if(j==1 or j==2*i-1):\n",
    "            print(chr(num),end='')\n",
    "        else:\n",
    "            print(\" \",end='')\n",
    "        num+=1\n",
    "    print()"
   ]
  },
  {
   "cell_type": "code",
   "execution_count": 12,
   "id": "5bb1f21a-6144-420a-a4fa-b10656562f17",
   "metadata": {},
   "outputs": [
    {
     "name": "stdout",
     "output_type": "stream",
     "text": [
      "*--------*\n",
      "**------**\n",
      "***----***\n",
      "****--****\n",
      "**********\n",
      "****--****\n",
      "***----***\n",
      "**------**\n",
      "*--------*\n"
     ]
    }
   ],
   "source": [
    "for i in range(1,6):\n",
    "    for j in range(1,i+1):\n",
    "        print(\"*\",end='')\n",
    "    for j in range(0,-2*i+10):\n",
    "        print(\"-\",end='')\n",
    "    for j in range(1,i+1):\n",
    "        print(\"*\",end='')\n",
    "    print()\n",
    "for i in range(4,0,-1):\n",
    "    for j in range(1,i+1):\n",
    "        print(\"*\",end='')\n",
    "    for j in range(0,-2*i+10):\n",
    "        print(\"-\",end='')\n",
    "    for j in range(1,i+1):\n",
    "        print(\"*\",end='')\n",
    "    print()"
   ]
  },
  {
   "cell_type": "code",
   "execution_count": 28,
   "id": "c0d898f5-f8e2-4145-aa4c-24959e12854e",
   "metadata": {},
   "outputs": [
    {
     "name": "stdout",
     "output_type": "stream",
     "text": [
      "**********\n",
      "****--****\n",
      "***----***\n",
      "**------**\n",
      "*--------*\n",
      "**------**\n",
      "***----***\n",
      "****--****\n",
      "**********\n"
     ]
    }
   ],
   "source": [
    "for i in range(5,1,-1):\n",
    "    for j in range(1,i+1):\n",
    "        print(\"*\",end='')\n",
    "    for j in range(0,-2*i+10):\n",
    "        print(\"-\",end='')\n",
    "    for j in range(1,i+1):\n",
    "        print(\"*\",end='')\n",
    "    print()\n",
    "for i in range(1,6):\n",
    "    for j in range(1,i+1):\n",
    "        print(\"*\",end='')\n",
    "    for j in range(0,-2*i+10):\n",
    "        print(\"-\",end='')\n",
    "    for j in range(1,i+1):\n",
    "        print(\"*\",end='')\n",
    "    print()"
   ]
  },
  {
   "cell_type": "code",
   "execution_count": 30,
   "id": "b7d7e92e-ce2f-4d00-88c5-bff018c22c3f",
   "metadata": {},
   "outputs": [
    {
     "name": "stdout",
     "output_type": "stream",
     "text": [
      "**********\n",
      "****  ****\n",
      "***    ***\n",
      "**      **\n",
      "*        *\n",
      "**      **\n",
      "***    ***\n",
      "****  ****\n",
      "**********\n"
     ]
    }
   ],
   "source": [
    "for i in range(5,1,-1):\n",
    "    for j in range(1,i+1):\n",
    "        print(\"*\",end='')\n",
    "    for j in range(0,-2*i+10):\n",
    "        print(\" \",end='')\n",
    "    for j in range(1,i+1):\n",
    "        print(\"*\",end='')\n",
    "    print()\n",
    "for i in range(1,6):\n",
    "    for j in range(1,i+1):\n",
    "        print(\"*\",end='')\n",
    "    for j in range(0,-2*i+10):\n",
    "        print(\" \",end='')\n",
    "    for j in range(1,i+1):\n",
    "        print(\"*\",end='')\n",
    "    print()"
   ]
  },
  {
   "cell_type": "code",
   "execution_count": 34,
   "id": "6761b53e-ba05-42ef-9a17-0c48038d3b03",
   "metadata": {},
   "outputs": [
    {
     "name": "stdout",
     "output_type": "stream",
     "text": [
      "----*\n",
      "---***\n",
      "--*****\n",
      "-*******\n",
      "*********\n"
     ]
    }
   ],
   "source": [
    "for i in range(1,6):\n",
    "    for j in range(1,6-i):\n",
    "        print(\"-\",end='')\n",
    "    for j in range(1,2*i):\n",
    "        print(\"*\",end='')\n",
    "    print()"
   ]
  },
  {
   "cell_type": "code",
   "execution_count": null,
   "id": "726e4a44-7a7d-4a37-bfb0-525bdde5ea93",
   "metadata": {},
   "outputs": [],
   "source": []
  }
 ],
 "metadata": {
  "kernelspec": {
   "display_name": "Python 3 (ipykernel)",
   "language": "python",
   "name": "python3"
  },
  "language_info": {
   "codemirror_mode": {
    "name": "ipython",
    "version": 3
   },
   "file_extension": ".py",
   "mimetype": "text/x-python",
   "name": "python",
   "nbconvert_exporter": "python",
   "pygments_lexer": "ipython3",
   "version": "3.12.4"
  }
 },
 "nbformat": 4,
 "nbformat_minor": 5
}
