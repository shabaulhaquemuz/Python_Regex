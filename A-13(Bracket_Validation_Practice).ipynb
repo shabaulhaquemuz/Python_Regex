{
 "cells": [
  {
   "cell_type": "code",
   "execution_count": 23,
   "id": "6336fcab-1c8c-4294-af08-239b3b9f1449",
   "metadata": {},
   "outputs": [
    {
     "name": "stdout",
     "output_type": "stream",
     "text": [
      "invalid\n"
     ]
    }
   ],
   "source": [
    "data=\"{[()]}\"\n",
    "new=[]\n",
    "count=0\n",
    "for char in data:\n",
    "    if(char==\"(\" or char==\"[\" or char==\"{\"):\n",
    "        new.append(char)\n",
    "    elif(len(new)>0):\n",
    "        if((char==\")\" and new.pop()==\"(\") or (char==\"]\" and new.pop()==\"[\") or (char==\"}\" and new.pop()==\"{\")):\n",
    "            continue\n",
    "        else:\n",
    "            count=1\n",
    "            break\n",
    "    else:\n",
    "        count+=1\n",
    "        break\n",
    "if(count==0 and len(new)==0):\n",
    "    print(\"valid\")\n",
    "else:\n",
    "    print(\"invalid\")\n",
    "        \n",
    "        \n",
    "    "
   ]
  },
  {
   "cell_type": "code",
   "execution_count": null,
   "id": "bfcc1267-f363-4da8-a88f-50dee9d7847e",
   "metadata": {},
   "outputs": [],
   "source": []
  }
 ],
 "metadata": {
  "kernelspec": {
   "display_name": "Python 3 (ipykernel)",
   "language": "python",
   "name": "python3"
  },
  "language_info": {
   "codemirror_mode": {
    "name": "ipython",
    "version": 3
   },
   "file_extension": ".py",
   "mimetype": "text/x-python",
   "name": "python",
   "nbconvert_exporter": "python",
   "pygments_lexer": "ipython3",
   "version": "3.12.4"
  }
 },
 "nbformat": 4,
 "nbformat_minor": 5
}
