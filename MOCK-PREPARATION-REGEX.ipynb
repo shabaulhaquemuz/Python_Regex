{
 "cells": [
  {
   "cell_type": "code",
   "execution_count": 1,
   "id": "b52e8d50-5118-4e79-b716-bba2498d9f1c",
   "metadata": {},
   "outputs": [],
   "source": [
    "#inheritance: it is one of the pillars of object oriented programming system in which one class inherits the properties of another class.\n",
    "#The class that inherits the properties are called as child class/derived class\n",
    "#the class through which the properties are inherited are called as  parent class/base class/super class\n",
    "class Parent:\n",
    "    def speak(self):\n",
    "        print(\"Speaking from Parent\")\n",
    "\n",
    "class Child(Parent):  # Inheriting from Parent\n",
    "    def talk(self):\n",
    "        print(\"Talking from Child\")\n"
   ]
  },
  {
   "cell_type": "code",
   "execution_count": 3,
   "id": "67ecb8bb-9797-4998-aa9b-d6c937eefe28",
   "metadata": {},
   "outputs": [
    {
     "name": "stdout",
     "output_type": "stream",
     "text": [
      "Speaking from Parent\n",
      "Talking from Child\n"
     ]
    }
   ],
   "source": [
    "c = Child()\n",
    "c.speak()  # Inherited from Parent\n",
    "c.talk()   # From Child\n"
   ]
  },
  {
   "cell_type": "code",
   "execution_count": 5,
   "id": "1232e956-67a9-4abe-a972-4878197ac296",
   "metadata": {},
   "outputs": [],
   "source": [
    "# Types of Inheritance in Python:\n",
    "# Single Inheritance\n",
    "# One child class inherits from one parent class.\n",
    "class A:\n",
    "    def show(self):\n",
    "        print(\"Class A\")\n",
    "\n",
    "class B(A):\n",
    "    pass\n"
   ]
  },
  {
   "cell_type": "code",
   "execution_count": 7,
   "id": "fd6ce86a-9504-4267-86bd-ba1e7eda686e",
   "metadata": {},
   "outputs": [],
   "source": [
    "# Multiple Inheritance\n",
    "# One child class inherits from more than one parent class.\n",
    "class A:\n",
    "    def methodA(self):\n",
    "        print(\"A\")\n",
    "\n",
    "class B:\n",
    "    def methodB(self):\n",
    "        print(\"B\")\n",
    "\n",
    "class C(A, B):\n",
    "    pass\n"
   ]
  },
  {
   "cell_type": "code",
   "execution_count": 9,
   "id": "9d6580af-c57f-404a-8b61-96ea4ed11d84",
   "metadata": {},
   "outputs": [],
   "source": [
    "# Multilevel Inheritance\n",
    "# A class inherits from a child class, which itself inherited from another class.\n",
    "class A:\n",
    "    def a(self):\n",
    "        print(\"A\")\n",
    "\n",
    "class B(A):\n",
    "    def b(self):\n",
    "        print(\"B\")\n",
    "\n",
    "class C(B):\n",
    "    def c(self):\n",
    "        print(\"C\")\n"
   ]
  },
  {
   "cell_type": "code",
   "execution_count": 11,
   "id": "b7b64fc3-3e51-4472-a94c-394c65d6c8a1",
   "metadata": {},
   "outputs": [],
   "source": [
    "# Hierarchical Inheritance\n",
    "# Multiple child classes inherit from the same parent class.\n",
    "class Parent:\n",
    "    def show(self):\n",
    "        print(\"Parent\")\n",
    "\n",
    "class Child1(Parent):\n",
    "    pass\n",
    "\n",
    "class Child2(Parent):\n",
    "    pass\n"
   ]
  },
  {
   "cell_type": "code",
   "execution_count": 13,
   "id": "4a0c04dc-3387-45cc-8481-aaaa5bc5ffcd",
   "metadata": {},
   "outputs": [],
   "source": [
    "# Hybrid Inheritance\n",
    "# A combination of two or more types of inheritance.\n",
    "class A:\n",
    "    def a(self):\n",
    "        print(\"A\")\n",
    "\n",
    "class B(A):\n",
    "    def b(self):\n",
    "        print(\"B\")\n",
    "\n",
    "class C(A):\n",
    "    def c(self):\n",
    "        print(\"C\")\n",
    "\n",
    "class D(B, C):  # Hybrid\n",
    "    def d(self):\n",
    "        print(\"D\")\n",
    "\n",
    "\n"
   ]
  },
  {
   "cell_type": "code",
   "execution_count": 15,
   "id": "758e872f-c0a0-45ba-b176-2a0539492355",
   "metadata": {},
   "outputs": [],
   "source": [
    "#shallow copy and deep copy:\n",
    "# Shallow copy and deep copy are methods of creating new objects in Python, especially for mutable and nested objects like lists, dictionaries sets etc."
   ]
  },
  {
   "cell_type": "code",
   "execution_count": 17,
   "id": "14b25674-baf7-4998-8e0d-eff30a524d48",
   "metadata": {},
   "outputs": [
    {
     "name": "stdout",
     "output_type": "stream",
     "text": [
      "[[99, 2], [3, 4]]\n"
     ]
    }
   ],
   "source": [
    "# Shallow Copy\n",
    "# Definition: Creates a new object but does NOT create copies of nested objects inside it.\n",
    "#in shallow copy both the original and copied nested list is affected\n",
    "import copy\n",
    "\n",
    "original = [[1, 2], [3, 4]]\n",
    "shallow = copy.copy(original)\n",
    "\n",
    "shallow[0][0] = 99\n",
    "print(original)  # [[99, 2], [3, 4]]\n"
   ]
  },
  {
   "cell_type": "code",
   "execution_count": 19,
   "id": "3668d14f-b833-42cb-b332-b1b6e54517f3",
   "metadata": {},
   "outputs": [
    {
     "name": "stdout",
     "output_type": "stream",
     "text": [
      "[[1, 2], [3, 4]]\n"
     ]
    }
   ],
   "source": [
    "# 2. Deep Copy\n",
    "# Definition: Creates a new object AND recursively copies all nested objects.\n",
    "#In deep copy the original nested object is not affected, however the copied nested is affected.\n",
    "import copy\n",
    "\n",
    "# Original nested list\n",
    "original = [[1, 2], [3, 4]]\n",
    "\n",
    "# Create a deep copy\n",
    "deep = copy.deepcopy(original)\n",
    "\n",
    "# Modify the deep copy\n",
    "deep[0][0] = 99\n",
    "\n",
    "# Show results\n",
    "print(\"Original:\", original)  # [[1, 2], [3, 4]]\n",
    "print(\"Deep Copy:\", deep)     # [[99, 2], [3, 4]]\n",
    "\n"
   ]
  },
  {
   "cell_type": "code",
   "execution_count": 23,
   "id": "b0c34e68-8bbd-4d51-a33a-2327ede63e9e",
   "metadata": {},
   "outputs": [
    {
     "name": "stdout",
     "output_type": "stream",
     "text": [
      "Parent constructor called\n",
      "Child constructor called\n"
     ]
    }
   ],
   "source": [
    "# Constructor Chaining in Python\n",
    "# Constructor chaining means calling one constructor from another constructor — often from a child class to a parent class constructor \n",
    "#Why Use Constructor Chaining?\n",
    "#To ensure the base class is properly initialized.\n",
    "#To support inheritance cleanly. \n",
    "\n",
    "#Python supports constructor chaining using the built-in super() function.\n",
    "\n",
    "class Parent:\n",
    "    def __init__(self):\n",
    "        print(\"Parent constructor called\")\n",
    "\n",
    "class Child(Parent):\n",
    "    def __init__(self):\n",
    "        super().__init__()  # Calls Parent constructor\n",
    "        print(\"Child constructor called\")\n",
    "\n",
    "c = Child()\n",
    "\n",
    "#✅ super is a built-in function in Python — not a method.\n",
    "\n"
   ]
  },
  {
   "cell_type": "code",
   "execution_count": null,
   "id": "ca584c43-3d65-44cf-a6ff-46784b23d698",
   "metadata": {},
   "outputs": [],
   "source": []
  }
 ],
 "metadata": {
  "kernelspec": {
   "display_name": "Python 3 (ipykernel)",
   "language": "python",
   "name": "python3"
  },
  "language_info": {
   "codemirror_mode": {
    "name": "ipython",
    "version": 3
   },
   "file_extension": ".py",
   "mimetype": "text/x-python",
   "name": "python",
   "nbconvert_exporter": "python",
   "pygments_lexer": "ipython3",
   "version": "3.12.4"
  }
 },
 "nbformat": 4,
 "nbformat_minor": 5
}
