{
 "cells": [
  {
   "cell_type": "code",
   "execution_count": 1,
   "id": "5e0962f2-0f35-4d26-9630-c19bff32ecb3",
   "metadata": {},
   "outputs": [
    {
     "name": "stdout",
     "output_type": "stream",
     "text": [
      "(\n",
      ")\n"
     ]
    }
   ],
   "source": [
    "data=\"()\"\n",
    "for char in data:\n",
    "    print(char)"
   ]
  },
  {
   "cell_type": "code",
   "execution_count": 3,
   "id": "259e8ed2-0c87-4aef-b4f2-799d10b35b21",
   "metadata": {},
   "outputs": [
    {
     "name": "stdout",
     "output_type": "stream",
     "text": [
      "b is present b\n"
     ]
    }
   ],
   "source": [
    "data1=\"abcd\"\n",
    "for char in data1:\n",
    "    if(char==\"b\"):\n",
    "        print(\"b is present\",char)"
   ]
  },
  {
   "cell_type": "code",
   "execution_count": 5,
   "id": "057a82ac-ec8b-4a9e-a1af-e3fb0dabc3fb",
   "metadata": {},
   "outputs": [
    {
     "name": "stdout",
     "output_type": "stream",
     "text": [
      "( is present (\n"
     ]
    }
   ],
   "source": [
    "data2=\"()\"\n",
    "for char in data2:\n",
    "    if(char==\"(\"):\n",
    "        print(\"( is present\",char)"
   ]
  },
  {
   "cell_type": "code",
   "execution_count": 13,
   "id": "3897f9a2-7073-42eb-af64-c8953109dd65",
   "metadata": {},
   "outputs": [
    {
     "name": "stdout",
     "output_type": "stream",
     "text": [
      "x=> (\n"
     ]
    }
   ],
   "source": [
    "data2=\"()\"\n",
    "x=0\n",
    "for char in data2:\n",
    "    if(char==\"(\"):\n",
    "        x=char\n",
    "print(\"x=>\",x)\n",
    "# x is a variable where we have stored open bracket"
   ]
  },
  {
   "cell_type": "code",
   "execution_count": 9,
   "id": "e424e1cd-e2eb-49a6-a8f3-e7a034bce8b0",
   "metadata": {},
   "outputs": [
    {
     "name": "stdout",
     "output_type": "stream",
     "text": [
      "bachi hui value: ]\n",
      "x=> [\n"
     ]
    }
   ],
   "source": [
    "data3=\"[]\"\n",
    "x=0\n",
    "for char in data3:\n",
    "    if(char==\"[\"):\n",
    "        x=char\n",
    "    else:\n",
    "        print(\"bachi hui value:\",char)\n",
    "print(\"x=>\",x)"
   ]
  },
  {
   "cell_type": "code",
   "execution_count": 15,
   "id": "3cc00265-3be9-4395-98f7-5c2cc906fee9",
   "metadata": {},
   "outputs": [
    {
     "name": "stdout",
     "output_type": "stream",
     "text": [
      "valid\n"
     ]
    }
   ],
   "source": [
    "data4=\"[]\"\n",
    "x=0\n",
    "for char in data4:\n",
    "    if(char==\"[\"):\n",
    "        x=char\n",
    "    elif(char==\"]\" and x==\"[\"):\n",
    "        print(\"valid\")\n",
    "    else:\n",
    "        print(\"invalid\")\n",
    "    "
   ]
  },
  {
   "cell_type": "code",
   "execution_count": 17,
   "id": "e975830a-2667-4798-bd86-8a307ab6878c",
   "metadata": {},
   "outputs": [
    {
     "name": "stdout",
     "output_type": "stream",
     "text": [
      "invalid\n"
     ]
    }
   ],
   "source": [
    "data4=\"[)\"\n",
    "x=0\n",
    "for char in data4:\n",
    "    if(char==\"[\"):\n",
    "        x=char\n",
    "    elif(char==\"]\" and x==\"[\"):\n",
    "        print(\"valid\")\n",
    "    else:\n",
    "        print(\"invalid\")"
   ]
  },
  {
   "cell_type": "code",
   "execution_count": 27,
   "id": "5ccd0adb-0300-4734-8425-0e0f72b64634",
   "metadata": {},
   "outputs": [
    {
     "name": "stdout",
     "output_type": "stream",
     "text": [
      "invalid\n"
     ]
    }
   ],
   "source": [
    "data5=\"{)\"\n",
    "x=0\n",
    "for char in data5:\n",
    "    if(char==\"(\" or char==\"[\" or char==\"{\"):\n",
    "        x=char\n",
    "    elif((char==\")\" and x==\"(\") or (char==\"]\" and x==\"[\") or (char==\"}\" and x==\"{\")):\n",
    "        print(\"valid\")\n",
    "    else:\n",
    "        print(\"invalid\")"
   ]
  },
  {
   "cell_type": "code",
   "execution_count": 29,
   "id": "c4b29636-62de-4284-9a7a-bde34d0e9517",
   "metadata": {},
   "outputs": [
    {
     "name": "stdout",
     "output_type": "stream",
     "text": [
      "['(', '(', '{', '[']\n"
     ]
    }
   ],
   "source": [
    "data6=\"(({[\"\n",
    "x=[]\n",
    "for char in data6:\n",
    "    if(char==\"(\" or char==\"[\" or char==\"{\"):\n",
    "        x.append(char)\n",
    "print(x)"
   ]
  },
  {
   "cell_type": "code",
   "execution_count": 31,
   "id": "9ace97b8-d71e-42c2-858d-6f49cdd5927b",
   "metadata": {},
   "outputs": [
    {
     "data": {
      "text/plain": [
       "True"
      ]
     },
     "execution_count": 31,
     "metadata": {},
     "output_type": "execute_result"
    }
   ],
   "source": [
    "data=[11,23,10]\n",
    "10==data.pop()\n"
   ]
  },
  {
   "cell_type": "code",
   "execution_count": 33,
   "id": "dee982df-dfaf-44d4-bb95-9811e2545376",
   "metadata": {},
   "outputs": [
    {
     "name": "stdout",
     "output_type": "stream",
     "text": [
      "True\n",
      "[11, 23]\n"
     ]
    }
   ],
   "source": [
    "data1=[11,23,10]\n",
    "print(10==data1.pop())\n",
    "print(data1)"
   ]
  },
  {
   "cell_type": "code",
   "execution_count": 37,
   "id": "d6d002d7-4256-48e1-84bd-53d41503557f",
   "metadata": {},
   "outputs": [
    {
     "name": "stdout",
     "output_type": "stream",
     "text": [
      "10\n",
      "[11, 23]\n"
     ]
    }
   ],
   "source": [
    "data2=[11,23,10]\n",
    "z=data2.pop()\n",
    "print(z)\n",
    "print(data2)"
   ]
  },
  {
   "cell_type": "code",
   "execution_count": 43,
   "id": "1e314c7c-576a-4c5a-805b-d2a68cfbb88e",
   "metadata": {},
   "outputs": [
    {
     "name": "stdout",
     "output_type": "stream",
     "text": [
      "valid ]\n",
      "valid )\n",
      "[]\n"
     ]
    }
   ],
   "source": [
    "data8=\"([])\"\n",
    "a=[]\n",
    "for char in data8:\n",
    "    if(char==\"(\" or char==\"[\"):\n",
    "        a.append(char)\n",
    "    elif((char==\"]\" and a.pop()==\"[\") or  (char==\")\" and a.pop()== \"(\")):\n",
    "        print(\"valid\",char)\n",
    "    else:\n",
    "        print(\"invalid\",char)\n",
    "print(a)"
   ]
  },
  {
   "cell_type": "code",
   "execution_count": 47,
   "id": "6dd0c1fa-510a-4f9a-9dc4-efb82804c745",
   "metadata": {},
   "outputs": [
    {
     "name": "stdout",
     "output_type": "stream",
     "text": [
      "['(', '[', '{', '(', '[']\n"
     ]
    }
   ],
   "source": [
    "data9=\"([{([])}])\"\n",
    "b=[]\n",
    "for char in data9:\n",
    "    if(char==\"(\" or char==\"[\" or char==\"{\"):\n",
    "        b.append(char)\n",
    "print(b)"
   ]
  },
  {
   "cell_type": "code",
   "execution_count": 51,
   "id": "fac3cad9-d9ef-4be5-99f4-8d7397f91e6d",
   "metadata": {},
   "outputs": [
    {
     "name": "stdout",
     "output_type": "stream",
     "text": [
      "valid ]\n",
      "valid )\n",
      "valid }\n",
      "valid ]\n",
      "valid )\n",
      "[]\n"
     ]
    }
   ],
   "source": [
    "data10=\"([{([])}])\"\n",
    "b=[]\n",
    "for char in data10:\n",
    "    if(char==\"(\" or char==\"[\" or char==\"{\"):\n",
    "        b.append(char)\n",
    "    elif((char==\")\" and b.pop()==\"(\") or (char==\"]\" and b.pop()==\"[\") or (char==\"}\" and b.pop()==\"{\")):\n",
    "        print(\"valid\",char)\n",
    "    else:\n",
    "        print(\"invalid\",char)\n",
    "print(b)"
   ]
  },
  {
   "cell_type": "code",
   "execution_count": 17,
   "id": "ee6729bc-f353-45aa-a39a-9e1b7b1385ff",
   "metadata": {},
   "outputs": [
    {
     "name": "stdout",
     "output_type": "stream",
     "text": [
      "valid\n"
     ]
    }
   ],
   "source": [
    "data11=\"([{([])}])\"\n",
    "b=[]\n",
    "count=0\n",
    "for char in data11:\n",
    "    if(char==\"(\" or char==\"[\" or char==\"{\"):\n",
    "        b.append(char)\n",
    "    elif((char==\")\" and b.pop()==\"(\") or (char==\"]\" and b.pop()==\"[\") or (char==\"}\" and b.pop()==\"{\")):\n",
    "        count=0\n",
    "    else:\n",
    "        count=1\n",
    "        break\n",
    "if(count==1 and len(b)>1):\n",
    "    print(\"invalid\")\n",
    "else:\n",
    "    print(\"valid\")\n",
    "#sometimes valid, sometimes invalid. to solve this problem indicator variable is used."
   ]
  },
  {
   "cell_type": "code",
   "execution_count": 21,
   "id": "6f91c40c-c8ce-4ba7-8a63-5a3a81b43578",
   "metadata": {},
   "outputs": [
    {
     "name": "stdout",
     "output_type": "stream",
     "text": [
      "valid\n"
     ]
    }
   ],
   "source": [
    "data11=\"([{([])}])\"\n",
    "b=[]\n",
    "count=0\n",
    "for char in data11:\n",
    "    if(char==\"(\" or char==\"[\" or char==\"{\"):\n",
    "        b.append(char)\n",
    "    elif((char==\")\" and b.pop()==\"(\") or (char==\"]\" and b.pop()==\"[\") or (char==\"}\" and b.pop()==\"{\")):\n",
    "        count=0\n",
    "    else:\n",
    "        count=1\n",
    "        break\n",
    "if(count==1):\n",
    "    print(\"invalid\")\n",
    "else:\n",
    "    print(\"valid\")"
   ]
  },
  {
   "cell_type": "code",
   "execution_count": 13,
   "id": "867990dd-78df-41a6-acb1-628f383a506a",
   "metadata": {},
   "outputs": [
    {
     "name": "stdout",
     "output_type": "stream",
     "text": [
      "invalid\n"
     ]
    }
   ],
   "source": [
    "data12=\"(\"\n",
    "c=[]\n",
    "count=0\n",
    "for char in data12:\n",
    "    if(char==\"(\" or char==\"[\" or char==\"{\"):\n",
    "        c.append(char)\n",
    "    elif((char==\")\" and c.pop()==\"(\") or (char==\"]\" and c.pop()==\"[\") or (char==\"}\" and c.pop()==\"{\")):\n",
    "        count=0\n",
    "    else:\n",
    "        count=1\n",
    "        break\n",
    "if(count==1 or len(c)>0):\n",
    "    print(\"invalid\")\n",
    "else:\n",
    "    print(\"valid\")"
   ]
  },
  {
   "cell_type": "code",
   "execution_count": 19,
   "id": "dd340683-e52e-4fa8-a680-6df0860ac3a8",
   "metadata": {},
   "outputs": [
    {
     "name": "stdout",
     "output_type": "stream",
     "text": [
      "invalid\n"
     ]
    }
   ],
   "source": [
    "data13=\"}\"\n",
    "c=[]\n",
    "count=0\n",
    "for char in data13:\n",
    "    if(char==\"(\" or char==\"[\" or char==\"{\"):\n",
    "        c.append(char)\n",
    "    elif(len(c)>0):\n",
    "        if((char==\")\" and c.pop()==\"(\") or (char==\"]\" and c.pop()==\"[\") or (char==\"}\" and c.pop()==\"{\")):\n",
    "            continue\n",
    "        else:\n",
    "            count=1\n",
    "            break\n",
    "    else:\n",
    "        count+=1\n",
    "        break\n",
    "\n",
    "if(count==0 and len(c)==0):\n",
    "    print(\"valid\")\n",
    "else:\n",
    "    print(\"invalid\")"
   ]
  },
  {
   "cell_type": "code",
   "execution_count": null,
   "id": "e059143a-2bf9-4a81-a5e2-c3b6793da2b0",
   "metadata": {},
   "outputs": [],
   "source": []
  }
 ],
 "metadata": {
  "kernelspec": {
   "display_name": "Python 3 (ipykernel)",
   "language": "python",
   "name": "python3"
  },
  "language_info": {
   "codemirror_mode": {
    "name": "ipython",
    "version": 3
   },
   "file_extension": ".py",
   "mimetype": "text/x-python",
   "name": "python",
   "nbconvert_exporter": "python",
   "pygments_lexer": "ipython3",
   "version": "3.12.4"
  }
 },
 "nbformat": 4,
 "nbformat_minor": 5
}
