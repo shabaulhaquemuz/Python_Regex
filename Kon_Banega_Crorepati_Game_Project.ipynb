{
 "cells": [
  {
   "cell_type": "code",
   "execution_count": null,
   "id": "c700387b-a641-4bbd-adab-52705e986a97",
   "metadata": {},
   "outputs": [
    {
     "name": "stdout",
     "output_type": "stream",
     "text": [
      "Welcome to Kaun Banega Crorepati\n",
      "\n",
      " The 1 question for money 1000 is in front of you \n",
      "\n",
      "What is the national animal of india?\n",
      "A. Peacock\n",
      "B. Lion\n",
      "C. Tiger\n",
      "D. Dog\n"
     ]
    },
    {
     "name": "stdin",
     "output_type": "stream",
     "text": [
      "Choose any 1 option A , B, C, D: or Press Q for Quit  C\n"
     ]
    },
    {
     "name": "stdout",
     "output_type": "stream",
     "text": [
      "\n",
      " kya baat aap jeet chuke hai 1000\n",
      "\n",
      " The 2 question for money 25000 is in front of you \n",
      "\n",
      "Who is the father of nation?\n",
      "A. Rabindra Nath Tagore\n",
      "B. Mahatma Gandhi\n",
      "C. Sharukh Khan\n",
      "D. Salman Khan\n"
     ]
    }
   ],
   "source": [
    "questionBank=[ {\"Question\":\"What is the national animal of india?\",\n",
    "              \"option\":[\"A. Peacock\",  \"B. Lion\", \"C. Tiger\", \"D. Dog\"],\n",
    "              \"Ans\":\"C\",\n",
    "              },\n",
    "              {\"Question\":\"Who is the father of nation?\",\n",
    "              \"option\":[\"A. Rabindra Nath Tagore\",  \"B. Mahatma Gandhi\",\n",
    "                        \"C. Sharukh Khan\", \"D. Salman Khan\"],\n",
    "              \"Ans\":\"B\",\n",
    "              }\n",
    "      ]\n",
    "\n",
    "print('Welcome to Kaun Banega Crorepati')\n",
    "total_winning=0\n",
    "prizeMoney=[1000, 25000]\n",
    "for i,q in enumerate(questionBank):\n",
    "  print(f\"\\n The {i+1} question for money {prizeMoney[i]} is in front of you \\n\")\n",
    "  print(q[\"Question\"])\n",
    "  for option in q[\"option\"]:\n",
    "    print(option)\n",
    "\n",
    "  user_input=input(\"Choose any 1 option A , B, C, D: or Press Q for Quit \")\n",
    "  user_input = user_input.upper()\n",
    "  if(user_input==\"Q\"):\n",
    "    print(f\"Thank you for game and you won {total_winning}\")\n",
    "    break\n",
    "  if(user_input == q[\"Ans\"]):\n",
    "    total_winning+=prizeMoney[i]\n",
    "    print(f\"\\n kya baat aap jeet chuke hai {total_winning}\")\n",
    "\n",
    "  else:\n",
    "    print(\"Uff answer galat hai, GAME OVER!!\")\n",
    "    total_winning=0\n",
    "    break"
   ]
  },
  {
   "cell_type": "code",
   "execution_count": null,
   "id": "a2f4ae7c-0197-46b7-91bd-6d679514a178",
   "metadata": {},
   "outputs": [],
   "source": []
  }
 ],
 "metadata": {
  "kernelspec": {
   "display_name": "Python 3 (ipykernel)",
   "language": "python",
   "name": "python3"
  },
  "language_info": {
   "codemirror_mode": {
    "name": "ipython",
    "version": 3
   },
   "file_extension": ".py",
   "mimetype": "text/x-python",
   "name": "python",
   "nbconvert_exporter": "python",
   "pygments_lexer": "ipython3",
   "version": "3.12.4"
  }
 },
 "nbformat": 4,
 "nbformat_minor": 5
}
