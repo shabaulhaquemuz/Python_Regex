{
 "cells": [
  {
   "cell_type": "code",
   "execution_count": 9,
   "id": "d0de4832-a05b-4066-a6bd-418527a7b3a0",
   "metadata": {},
   "outputs": [
    {
     "name": "stdout",
     "output_type": "stream",
     "text": [
      "user\n",
      "said\n",
      "saif\n"
     ]
    }
   ],
   "source": [
    "string1=\"hey user hey shab shab said saif\"\n",
    "a=string1.split(\" \")\n",
    "for i in a:\n",
    "    if(a.count(i)==1):\n",
    "        print(i)"
   ]
  },
  {
   "cell_type": "code",
   "execution_count": 11,
   "id": "5a51e3e4-3221-4e22-bfdd-3556929c1143",
   "metadata": {},
   "outputs": [
    {
     "name": "stdout",
     "output_type": "stream",
     "text": [
      "user\n",
      "said\n",
      "saif\n"
     ]
    }
   ],
   "source": [
    "string1 = \"hey user hey shab shab said saif\"\n",
    "a = string1.split(\" \")\n",
    "\n",
    "for i in a:\n",
    "    count = 0\n",
    "    for j in a:\n",
    "        if i == j:\n",
    "            count += 1\n",
    "    if count == 1:\n",
    "        print(i)\n"
   ]
  },
  {
   "cell_type": "code",
   "execution_count": null,
   "id": "6527d868-bdbd-4b4f-bd2e-6bb4338d4349",
   "metadata": {},
   "outputs": [],
   "source": []
  }
 ],
 "metadata": {
  "kernelspec": {
   "display_name": "Python 3 (ipykernel)",
   "language": "python",
   "name": "python3"
  },
  "language_info": {
   "codemirror_mode": {
    "name": "ipython",
    "version": 3
   },
   "file_extension": ".py",
   "mimetype": "text/x-python",
   "name": "python",
   "nbconvert_exporter": "python",
   "pygments_lexer": "ipython3",
   "version": "3.12.4"
  }
 },
 "nbformat": 4,
 "nbformat_minor": 5
}
