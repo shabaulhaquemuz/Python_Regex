{
 "cells": [
  {
   "cell_type": "code",
   "execution_count": 1,
   "id": "1b337866-e8e5-494a-ad32-fd70c892c279",
   "metadata": {},
   "outputs": [],
   "source": [
    "# check if a string is palindrome or not"
   ]
  },
  {
   "cell_type": "code",
   "execution_count": 53,
   "id": "a0acd654-0f74-40d0-b1c7-58366e69e64b",
   "metadata": {},
   "outputs": [
    {
     "name": "stdin",
     "output_type": "stream",
     "text": [
      "enter any string: 121\n"
     ]
    },
    {
     "name": "stdout",
     "output_type": "stream",
     "text": [
      "palindrome\n"
     ]
    }
   ],
   "source": [
    "n=input(\"enter any string:\")\n",
    "start=0\n",
    "end=len(n)-1\n",
    "count=0\n",
    "for i in range((len(n)+1)//2):\n",
    "    if n[start]!=n[end]:\n",
    "        count=1\n",
    "        break\n",
    "    start+=1\n",
    "    end-=1\n",
    "if(count==0):\n",
    "    print(\"palindrome\")\n",
    "else:\n",
    "    print(\"not a palindrome\")\n",
    "    "
   ]
  },
  {
   "cell_type": "code",
   "execution_count": null,
   "id": "ba23a8f1-326e-4836-8ad5-78f445d5beb0",
   "metadata": {},
   "outputs": [],
   "source": []
  }
 ],
 "metadata": {
  "kernelspec": {
   "display_name": "Python 3 (ipykernel)",
   "language": "python",
   "name": "python3"
  },
  "language_info": {
   "codemirror_mode": {
    "name": "ipython",
    "version": 3
   },
   "file_extension": ".py",
   "mimetype": "text/x-python",
   "name": "python",
   "nbconvert_exporter": "python",
   "pygments_lexer": "ipython3",
   "version": "3.12.4"
  }
 },
 "nbformat": 4,
 "nbformat_minor": 5
}
