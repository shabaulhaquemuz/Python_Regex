{
 "cells": [
  {
   "cell_type": "code",
   "execution_count": 57,
   "id": "edd0ffd1-50eb-46e0-af75-29a10d2f500c",
   "metadata": {},
   "outputs": [
    {
     "name": "stdout",
     "output_type": "stream",
     "text": [
      "-----1 \n",
      "----1 1 \n",
      "---1 2 1 \n",
      "--1 3 3 1 \n",
      "-1 4 6 4 1 \n",
      "[1, 4, 6, 4, 1]\n",
      "[[1], [1, 1], [1, 2, 1], [1, 3, 3, 1], [1, 4, 6, 4, 1]]\n"
     ]
    }
   ],
   "source": [
    "mylist=[]\n",
    "num=5\n",
    "for i in range(0,num):\n",
    "    temp=[]\n",
    "    for j in range(i,num):\n",
    "        print(\"-\",end=\"\")\n",
    "    for k in range(0,i+1):\n",
    "        if(k==0 or k==i):\n",
    "            print(1,end=\" \")\n",
    "            temp.append(1)\n",
    "        else:\n",
    "            t=mylist[i-1][k-1]+mylist[i-1][k]\n",
    "            print(t,end=\" \")\n",
    "            temp.append(t)\n",
    "    mylist.append(temp)\n",
    "    print()\n",
    "print(temp)\n",
    "print(mylist)"
   ]
  },
  {
   "cell_type": "code",
   "execution_count": null,
   "id": "75bac202-67a1-4b6e-b63a-a4af4018f087",
   "metadata": {},
   "outputs": [],
   "source": []
  }
 ],
 "metadata": {
  "kernelspec": {
   "display_name": "Python 3 (ipykernel)",
   "language": "python",
   "name": "python3"
  },
  "language_info": {
   "codemirror_mode": {
    "name": "ipython",
    "version": 3
   },
   "file_extension": ".py",
   "mimetype": "text/x-python",
   "name": "python",
   "nbconvert_exporter": "python",
   "pygments_lexer": "ipython3",
   "version": "3.12.4"
  }
 },
 "nbformat": 4,
 "nbformat_minor": 5
}
